{
 "cells": [
  {
   "cell_type": "code",
   "execution_count": 10,
   "metadata": {},
   "outputs": [],
   "source": [
    "from backtest import *"
   ]
  },
  {
   "cell_type": "code",
   "execution_count": 11,
   "metadata": {},
   "outputs": [],
   "source": [
    "import pandas as pd\n",
    "import numpy as np\n",
    "import datetime"
   ]
  },
  {
   "cell_type": "code",
   "execution_count": 12,
   "metadata": {},
   "outputs": [],
   "source": [
    "predictions = pd.read_excel('Predictions_Return.xlsx')"
   ]
  },
  {
   "cell_type": "code",
   "execution_count": 13,
   "metadata": {},
   "outputs": [],
   "source": [
    "predictions['date'] = predictions['date'].apply(lambda x: datetime.datetime.strptime(str(x.date()), \"%Y-%m-%d\"))\n",
    "predictions[\"date\"] = pd.to_datetime(predictions[\"date\"], format='%d/%m/%Y', infer_datetime_format=True)"
   ]
  },
  {
   "cell_type": "code",
   "execution_count": 14,
   "metadata": {},
   "outputs": [
    {
     "data": {
      "text/plain": [
       "1.926664781596086"
      ]
     },
     "execution_count": 14,
     "metadata": {},
     "output_type": "execute_result"
    }
   ],
   "source": [
    "# holding period return - long only\n",
    "(58918.83200 - 57805.12109)/57805.12109 * 100"
   ]
  },
  {
   "cell_type": "code",
   "execution_count": 16,
   "metadata": {},
   "outputs": [
    {
     "data": {
      "text/plain": [
       "Index(['date', 'Adj_Close_BTC-USD', 'Open_BTC-USD', 'High_BTC-USD',\n",
       "       'Low_BTC-USD', 'Sentiments', 'logistic_c_with_sentiment',\n",
       "       'logistic_c_without_sentiment', 'linear_r_with_sentiment_log_return',\n",
       "       'linear_r_without_sentiment_log_return', 'linear_r_with_sentiment',\n",
       "       'linear_r_without_sentiment', 'BNN_r_without_sentiment',\n",
       "       'BNN_r_with_sentiment', 'BNN_c_without_sentiment',\n",
       "       'BNN_c_with_sentiment', 'LSTM_r_without_sentiment',\n",
       "       'LSTM_r_with_sentiment', 'LSTM_c_without_sentiment',\n",
       "       'LSTM_c_with_sentiment', 'XGBoost_r_without_sentiment',\n",
       "       'XGBoost_r_with_sentiment', 'XGBoost_c_without_sentiment',\n",
       "       'XGBoost_c_with_sentiment', 'VAR_r_without_sentiment',\n",
       "       'VAR_r_with_sentiment'],\n",
       "      dtype='object')"
      ]
     },
     "execution_count": 16,
     "metadata": {},
     "output_type": "execute_result"
    }
   ],
   "source": [
    "predictions.columns"
   ]
  },
  {
   "cell_type": "code",
   "execution_count": 34,
   "metadata": {
    "scrolled": false
   },
   "outputs": [],
   "source": [
    "logistic_c_without_sentiment = backtest_classification_noSentiment(\n",
    "                                list(predictions['logistic_c_without_sentiment']), \n",
    "                                list(predictions['date']), \n",
    "                                'logistic_c_without_sentiment')\n",
    "logistic_c_with_sentiment = backtest_classification_WithSentiment(\n",
    "                                list(predictions['logistic_c_with_sentiment']), \n",
    "                                list(predictions['date']),\n",
    "                                list(predictions['Sentiments']),\n",
    "                                'logistic_c_with_sentiment')\n",
    "\n",
    "linear_r_without_sentiment = backtest_regression_noSentiment(\n",
    "                                list(predictions['linear_r_without_sentiment']), \n",
    "                                list(predictions['date']), \n",
    "                                'linear_r_without_sentiment')\n",
    "linear_r_with_sentiment = backtest_regression_WithSentiment(\n",
    "                                list(predictions['linear_r_with_sentiment']), \n",
    "                                list(predictions['date']),\n",
    "                                list(predictions['Sentiments']),\n",
    "                                'linear_r_with_sentiment')"
   ]
  },
  {
   "cell_type": "code",
   "execution_count": 35,
   "metadata": {},
   "outputs": [],
   "source": [
    "BNN_c_without_sentiment = backtest_classification_noSentiment(\n",
    "                                list(predictions['BNN_c_without_sentiment']), \n",
    "                                list(predictions['date']), \n",
    "                                'BNN_c_without_sentiment')\n",
    "BNN_c_with_sentiment = backtest_classification_WithSentiment(\n",
    "                                list(predictions['BNN_c_with_sentiment']), \n",
    "                                list(predictions['date']),\n",
    "                                list(predictions['Sentiments']),\n",
    "                                'BNN_c_with_sentiment')\n",
    "\n",
    "BNN_r_without_sentiment = backtest_regression_noSentiment(\n",
    "                                list(predictions['BNN_r_without_sentiment']), \n",
    "                                list(predictions['date']), \n",
    "                                'BNN_r_without_sentiment')\n",
    "BNN_r_with_sentiment = backtest_regression_WithSentiment(\n",
    "                                list(predictions['BNN_r_with_sentiment']), \n",
    "                                list(predictions['date']),\n",
    "                                list(predictions['Sentiments']),\n",
    "                                'BNN_r_with_sentiment')"
   ]
  },
  {
   "cell_type": "code",
   "execution_count": 36,
   "metadata": {},
   "outputs": [],
   "source": [
    "LSTM_c_without_sentiment = backtest_classification_noSentiment(\n",
    "                                list(predictions['LSTM_c_without_sentiment']), \n",
    "                                list(predictions['date']), \n",
    "                                'LSTM_c_without_sentiment')\n",
    "LSTM_c_with_sentiment = backtest_classification_WithSentiment(\n",
    "                                list(predictions['LSTM_c_with_sentiment']), \n",
    "                                list(predictions['date']),\n",
    "                                list(predictions['Sentiments']),\n",
    "                                'LSTM_c_with_sentiment')\n",
    "\n",
    "LSTM_r_without_sentiment = backtest_regression_noSentiment(\n",
    "                                list(predictions['LSTM_r_without_sentiment']), \n",
    "                                list(predictions['date']), \n",
    "                                'LSTM_r_without_sentiment')\n",
    "LSTM_r_with_sentiment = backtest_regression_WithSentiment(\n",
    "                                list(predictions['LSTM_r_with_sentiment']), \n",
    "                                list(predictions['date']),\n",
    "                                list(predictions['Sentiments']),\n",
    "                                'LSTM_r_with_sentiment')"
   ]
  },
  {
   "cell_type": "code",
   "execution_count": 37,
   "metadata": {},
   "outputs": [],
   "source": [
    "XGBoost_c_without_sentiment = backtest_classification_noSentiment(\n",
    "                                list(predictions['XGBoost_c_without_sentiment']), \n",
    "                                list(predictions['date']), \n",
    "                                'XGBoost_c_without_sentiment')\n",
    "XGBoost_c_with_sentiment = backtest_classification_WithSentiment(\n",
    "                                list(predictions['XGBoost_c_with_sentiment']), \n",
    "                                list(predictions['date']),\n",
    "                                list(predictions['Sentiments']),\n",
    "                                'XGBoost_c_with_sentiment')\n",
    "\n",
    "XGBoost_r_without_sentiment = backtest_regression_noSentiment(\n",
    "                                list(predictions['XGBoost_r_without_sentiment']), \n",
    "                                list(predictions['date']), \n",
    "                                'XGBoost_r_without_sentiment')\n",
    "XGBoost_r_with_sentiment = backtest_regression_WithSentiment(\n",
    "                                list(predictions['XGBoost_r_with_sentiment']), \n",
    "                                list(predictions['date']),\n",
    "                                list(predictions['Sentiments']),\n",
    "                                'XGBoost_r_with_sentiment')"
   ]
  },
  {
   "cell_type": "code",
   "execution_count": 38,
   "metadata": {},
   "outputs": [],
   "source": [
    "VAR_r_without_sentiment = backtest_regression_noSentiment(\n",
    "                                list(predictions['VAR_r_without_sentiment']), \n",
    "                                list(predictions['date']), \n",
    "                                'VAR_r_without_sentiment')\n",
    "VAR_r_with_sentiment = backtest_regression_WithSentiment(\n",
    "                                list(predictions['VAR_r_with_sentiment']), \n",
    "                                list(predictions['date']),\n",
    "                                list(predictions['Sentiments']),\n",
    "                                'VAR_r_with_sentiment')"
   ]
  },
  {
   "cell_type": "code",
   "execution_count": 48,
   "metadata": {},
   "outputs": [],
   "source": [
    "res = pd.DataFrame()\n",
    "res[\"logistic_c_without_sentiment\"] = logistic_c_without_sentiment\n",
    "res[\"logistic_c_with_sentiment\"] = logistic_c_with_sentiment\n",
    "res[\"linear_r_without_sentiment\"] = linear_r_without_sentiment\n",
    "res[\"linear_r_with_sentiment\"] = linear_r_with_sentiment\n",
    "res[\"BNN_c_without_sentiment\"] = BNN_c_without_sentiment\n",
    "res[\"BNN_c_with_sentiment\"] = BNN_c_with_sentiment\n",
    "res[\"BNN_r_without_sentiment\"] = BNN_r_without_sentiment\n",
    "res[\"BNN_r_with_sentiment\"] = BNN_r_with_sentiment\n",
    "\n",
    "res[\"LSTM_c_without_sentiment\"] = LSTM_c_without_sentiment\n",
    "res[\"LSTM_c_with_sentiment\"] = LSTM_c_with_sentiment\n",
    "res[\"LSTM_r_without_sentiment\"] = LSTM_r_without_sentiment\n",
    "res[\"LSTM_r_with_sentiment\"] = LSTM_r_with_sentiment\n",
    "\n",
    "res[\"XGBoost_c_without_sentiment\"] = XGBoost_c_without_sentiment\n",
    "res[\"XGBoost_c_with_sentiment\"] = XGBoost_c_with_sentiment\n",
    "res[\"XGBoost_r_without_sentiment\"] = XGBoost_r_without_sentiment\n",
    "res[\"XGBoost_r_with_sentiment\"] = XGBoost_r_with_sentiment\n",
    "\n",
    "res[\"VAR_r_without_sentiment\"] = VAR_r_without_sentiment\n",
    "res[\"VAR_r_with_sentiment\"] = VAR_r_with_sentiment"
   ]
  },
  {
   "cell_type": "code",
   "execution_count": 50,
   "metadata": {},
   "outputs": [],
   "source": [
    "res.to_csv(\"backtest_result.csv\", index = False)"
   ]
  },
  {
   "cell_type": "code",
   "execution_count": null,
   "metadata": {},
   "outputs": [],
   "source": []
  }
 ],
 "metadata": {
  "kernelspec": {
   "display_name": "Python 3",
   "language": "python",
   "name": "python3"
  },
  "language_info": {
   "codemirror_mode": {
    "name": "ipython",
    "version": 3
   },
   "file_extension": ".py",
   "mimetype": "text/x-python",
   "name": "python",
   "nbconvert_exporter": "python",
   "pygments_lexer": "ipython3",
   "version": "3.8.5"
  }
 },
 "nbformat": 4,
 "nbformat_minor": 2
}
