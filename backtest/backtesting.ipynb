{
 "cells": [
  {
   "cell_type": "code",
   "execution_count": 2,
   "metadata": {},
   "outputs": [],
   "source": [
    "from backtest import *"
   ]
  },
  {
   "cell_type": "code",
   "execution_count": 3,
   "metadata": {},
   "outputs": [],
   "source": [
    "import pandas as pd\n",
    "import numpy as np\n",
    "import datetime\n",
    "import matplotlib.pyplot as plt"
   ]
  },
  {
   "cell_type": "code",
   "execution_count": 4,
   "metadata": {},
   "outputs": [],
   "source": [
    "predictions = pd.read_excel('Predictions_Return.xlsx')"
   ]
  },
  {
   "cell_type": "code",
   "execution_count": 5,
   "metadata": {},
   "outputs": [],
   "source": [
    "predictions['date'] = predictions['date'].apply(lambda x: datetime.datetime.strptime(str(x.date()), \"%Y-%m-%d\"))\n",
    "predictions[\"date\"] = pd.to_datetime(predictions[\"date\"], format='%d/%m/%Y', infer_datetime_format=True)"
   ]
  },
  {
   "cell_type": "code",
   "execution_count": 6,
   "metadata": {},
   "outputs": [
    {
     "data": {
      "text/plain": [
       "0.05530439754838018"
      ]
     },
     "execution_count": 6,
     "metadata": {},
     "output_type": "execute_result"
    }
   ],
   "source": [
    "# holding period return - long only\n",
    "(59058 - 55963)/55963"
   ]
  },
  {
   "cell_type": "code",
   "execution_count": 7,
   "metadata": {},
   "outputs": [
    {
     "data": {
      "text/plain": [
       "Index(['date', 'Adj_Close_BTC-USD', 'Open_BTC-USD', 'High_BTC-USD',\n",
       "       'Low_BTC-USD', 'Sentiments', 'logistic_c_with_sentiment',\n",
       "       'logistic_c_without_sentiment', 'linear_r_with_sentiment_log_return',\n",
       "       'linear_r_without_sentiment_log_return', 'linear_r_with_sentiment',\n",
       "       'linear_r_without_sentiment', 'BNN_r_without_sentiment',\n",
       "       'BNN_r_with_sentiment', 'BNN_c_without_sentiment',\n",
       "       'BNN_c_with_sentiment', 'LSTM_r_without_sentiment',\n",
       "       'LSTM_r_with_sentiment', 'LSTM_c_without_sentiment',\n",
       "       'LSTM_c_with_sentiment', 'XGBoost_r_without_sentiment',\n",
       "       'XGBoost_r_with_sentiment', 'XGBoost_c_without_sentiment',\n",
       "       'XGBoost_c_with_sentiment', 'VAR_r_without_sentiment',\n",
       "       'VAR_r_with_sentiment'],\n",
       "      dtype='object')"
      ]
     },
     "execution_count": 7,
     "metadata": {},
     "output_type": "execute_result"
    }
   ],
   "source": [
    "predictions.columns"
   ]
  },
  {
   "cell_type": "code",
   "execution_count": 8,
   "metadata": {
    "scrolled": false
   },
   "outputs": [],
   "source": [
    "logistic_c_without_sentiment = backtest_classification_noSentiment(\n",
    "                                list(predictions['logistic_c_without_sentiment']), \n",
    "                                list(predictions['date']), \n",
    "                                'logistic_c_without_sentiment')\n",
    "logistic_c_with_sentiment = backtest_classification_WithSentiment(\n",
    "                                list(predictions['logistic_c_with_sentiment']), \n",
    "                                list(predictions['date']),\n",
    "                                list(predictions['Sentiments']),\n",
    "                                'logistic_c_with_sentiment')\n",
    "\n",
    "linear_r_without_sentiment = backtest_regression_noSentiment(\n",
    "                                list(predictions['linear_r_without_sentiment']), \n",
    "                                list(predictions['date']), \n",
    "                                'linear_r_without_sentiment')\n",
    "linear_r_with_sentiment = backtest_regression_WithSentiment(\n",
    "                                list(predictions['linear_r_with_sentiment']), \n",
    "                                list(predictions['date']),\n",
    "                                list(predictions['Sentiments']),\n",
    "                                'linear_r_with_sentiment')"
   ]
  },
  {
   "cell_type": "code",
   "execution_count": 9,
   "metadata": {},
   "outputs": [],
   "source": [
    "BNN_c_without_sentiment = backtest_classification_noSentiment(\n",
    "                                list(predictions['BNN_c_without_sentiment']), \n",
    "                                list(predictions['date']), \n",
    "                                'BNN_c_without_sentiment')\n",
    "BNN_c_with_sentiment = backtest_classification_WithSentiment(\n",
    "                                list(predictions['BNN_c_with_sentiment']), \n",
    "                                list(predictions['date']),\n",
    "                                list(predictions['Sentiments']),\n",
    "                                'BNN_c_with_sentiment')\n",
    "\n",
    "BNN_r_without_sentiment = backtest_regression_noSentiment(\n",
    "                                list(predictions['BNN_r_without_sentiment']), \n",
    "                                list(predictions['date']), \n",
    "                                'BNN_r_without_sentiment')\n",
    "BNN_r_with_sentiment = backtest_regression_WithSentiment(\n",
    "                                list(predictions['BNN_r_with_sentiment']), \n",
    "                                list(predictions['date']),\n",
    "                                list(predictions['Sentiments']),\n",
    "                                'BNN_r_with_sentiment')"
   ]
  },
  {
   "cell_type": "code",
   "execution_count": 10,
   "metadata": {},
   "outputs": [],
   "source": [
    "LSTM_c_without_sentiment = backtest_classification_noSentiment(\n",
    "                                list(predictions['LSTM_c_without_sentiment']), \n",
    "                                list(predictions['date']), \n",
    "                                'LSTM_c_without_sentiment')\n",
    "LSTM_c_with_sentiment = backtest_classification_WithSentiment(\n",
    "                                list(predictions['LSTM_c_with_sentiment']), \n",
    "                                list(predictions['date']),\n",
    "                                list(predictions['Sentiments']),\n",
    "                                'LSTM_c_with_sentiment')\n",
    "\n",
    "LSTM_r_without_sentiment = backtest_regression_noSentiment(\n",
    "                                list(predictions['LSTM_r_without_sentiment']), \n",
    "                                list(predictions['date']), \n",
    "                                'LSTM_r_without_sentiment')\n",
    "LSTM_r_with_sentiment = backtest_regression_WithSentiment(\n",
    "                                list(predictions['LSTM_r_with_sentiment']), \n",
    "                                list(predictions['date']),\n",
    "                                list(predictions['Sentiments']),\n",
    "                                'LSTM_r_with_sentiment')"
   ]
  },
  {
   "cell_type": "code",
   "execution_count": 11,
   "metadata": {},
   "outputs": [],
   "source": [
    "XGBoost_c_without_sentiment = backtest_classification_noSentiment(\n",
    "                                list(predictions['XGBoost_c_without_sentiment']), \n",
    "                                list(predictions['date']), \n",
    "                                'XGBoost_c_without_sentiment')\n",
    "XGBoost_c_with_sentiment = backtest_classification_WithSentiment(\n",
    "                                list(predictions['XGBoost_c_with_sentiment']), \n",
    "                                list(predictions['date']),\n",
    "                                list(predictions['Sentiments']),\n",
    "                                'XGBoost_c_with_sentiment')\n",
    "\n",
    "XGBoost_r_without_sentiment = backtest_regression_noSentiment(\n",
    "                                list(predictions['XGBoost_r_without_sentiment']), \n",
    "                                list(predictions['date']), \n",
    "                                'XGBoost_r_without_sentiment')\n",
    "XGBoost_r_with_sentiment = backtest_regression_WithSentiment(\n",
    "                                list(predictions['XGBoost_r_with_sentiment']), \n",
    "                                list(predictions['date']),\n",
    "                                list(predictions['Sentiments']),\n",
    "                                'XGBoost_r_with_sentiment')"
   ]
  },
  {
   "cell_type": "code",
   "execution_count": 12,
   "metadata": {},
   "outputs": [],
   "source": [
    "VAR_r_without_sentiment = backtest_regression_noSentiment(\n",
    "                                list(predictions['VAR_r_without_sentiment']), \n",
    "                                list(predictions['date']), \n",
    "                                'VAR_r_without_sentiment')\n",
    "VAR_r_with_sentiment = backtest_regression_WithSentiment(\n",
    "                                list(predictions['VAR_r_with_sentiment']), \n",
    "                                list(predictions['date']),\n",
    "                                list(predictions['Sentiments']),\n",
    "                                'VAR_r_with_sentiment')"
   ]
  },
  {
   "cell_type": "code",
   "execution_count": 13,
   "metadata": {},
   "outputs": [],
   "source": [
    "res = pd.DataFrame()\n",
    "res[\"logistic_c_without_sentiment\"] = logistic_c_without_sentiment\n",
    "res[\"logistic_c_with_sentiment\"] = logistic_c_with_sentiment\n",
    "res[\"linear_r_without_sentiment\"] = linear_r_without_sentiment\n",
    "res[\"linear_r_with_sentiment\"] = linear_r_with_sentiment\n",
    "res[\"BNN_c_without_sentiment\"] = BNN_c_without_sentiment\n",
    "res[\"BNN_c_with_sentiment\"] = BNN_c_with_sentiment\n",
    "res[\"BNN_r_without_sentiment\"] = BNN_r_without_sentiment\n",
    "res[\"BNN_r_with_sentiment\"] = BNN_r_with_sentiment\n",
    "\n",
    "res[\"LSTM_c_without_sentiment\"] = LSTM_c_without_sentiment\n",
    "res[\"LSTM_c_with_sentiment\"] = LSTM_c_with_sentiment\n",
    "res[\"LSTM_r_without_sentiment\"] = LSTM_r_without_sentiment\n",
    "res[\"LSTM_r_with_sentiment\"] = LSTM_r_with_sentiment\n",
    "\n",
    "res[\"XGBoost_c_without_sentiment\"] = XGBoost_c_without_sentiment\n",
    "res[\"XGBoost_c_with_sentiment\"] = XGBoost_c_with_sentiment\n",
    "res[\"XGBoost_r_without_sentiment\"] = XGBoost_r_without_sentiment\n",
    "res[\"XGBoost_r_with_sentiment\"] = XGBoost_r_with_sentiment\n",
    "\n",
    "res[\"VAR_r_without_sentiment\"] = VAR_r_without_sentiment\n",
    "res[\"VAR_r_with_sentiment\"] = VAR_r_with_sentiment"
   ]
  },
  {
   "cell_type": "code",
   "execution_count": 15,
   "metadata": {},
   "outputs": [],
   "source": [
    "res.to_csv(\"backtest_result.csv\", index = False)"
   ]
  },
  {
   "cell_type": "code",
   "execution_count": 16,
   "metadata": {},
   "outputs": [
    {
     "data": {
      "text/plain": [
       "Index(['logistic_c_without_sentiment', 'logistic_c_with_sentiment',\n",
       "       'linear_r_without_sentiment', 'linear_r_with_sentiment',\n",
       "       'BNN_c_without_sentiment', 'BNN_c_with_sentiment',\n",
       "       'BNN_r_without_sentiment', 'BNN_r_with_sentiment',\n",
       "       'LSTM_c_without_sentiment', 'LSTM_c_with_sentiment',\n",
       "       'LSTM_r_without_sentiment', 'LSTM_r_with_sentiment',\n",
       "       'XGBoost_c_without_sentiment', 'XGBoost_c_with_sentiment',\n",
       "       'XGBoost_r_without_sentiment', 'XGBoost_r_with_sentiment',\n",
       "       'VAR_r_without_sentiment', 'VAR_r_with_sentiment'],\n",
       "      dtype='object')"
      ]
     },
     "execution_count": 16,
     "metadata": {},
     "output_type": "execute_result"
    }
   ],
   "source": [
    "res.columns"
   ]
  },
  {
   "cell_type": "code",
   "execution_count": null,
   "metadata": {},
   "outputs": [],
   "source": []
  },
  {
   "cell_type": "code",
   "execution_count": 23,
   "metadata": {},
   "outputs": [],
   "source": [
    "wo = [1, 1.023607014,1.019893323,1.038259349,1.033369137,1.016425555,1.025999756,1.042817365,1.041759631,\n",
    "      1.04393838,1.043831557,1.041279797,1.022269873,1.029399175,1.011480113,0.996510603,1.040401463,\n",
    "      1.052493242,1.05275755,1.075909622,1.087455618,1.088469585,1.090168473,1.093040393,1.070773861,\n",
    "      1.088229754,1.09337589]"
   ]
  },
  {
   "cell_type": "code",
   "execution_count": 24,
   "metadata": {},
   "outputs": [],
   "source": [
    "w = [1,1.014914807,1.013237119,1.011761965, 1.008785409,0.996612084,1.007056131,1.02083223,1.020509213,\n",
    "     1.02438276,1.024324521,1.02423064,1.003930207,1.010495944,1.005810679,0.999232961,1.032698605,\n",
    "     1.03708485,1.037773614,1.048476798,1.053010352,1.053601209,1.054428183,1.054681188,1.036860035,\n",
    "     1.03980156,1.043631891]"
   ]
  },
  {
   "cell_type": "code",
   "execution_count": 59,
   "metadata": {},
   "outputs": [
    {
     "data": {
      "image/png": "[encoded data removed]",
      "text/plain": [
       "<Figure size 576x360 with 1 Axes>"
      ]
     },
     "metadata": {
      "needs_background": "light"
     },
     "output_type": "display_data"
    }
   ],
   "source": [
    "plt.figure(figsize = (8,5))\n",
    "plt.plot([datetime.datetime(2021, 3, 10),] + predictions['date'].tolist(), wo, label = \"without sentiments (aggregated all models)\")\n",
    "plt.plot([datetime.datetime(2021, 3, 10),] + predictions['date'].tolist(), w, label = \"with sentiments (aggregated all models)\")\n",
    "plt.xticks(rotation = 45)\n",
    "plt.ylabel(\"Portfolio Returns\", labelpad = 10)\n",
    "plt.xlabel(\"Time\", labelpad = 10)\n",
    "plt.legend()\n",
    "plt.show()"
   ]
  },
  {
   "cell_type": "code",
   "execution_count": null,
   "metadata": {},
   "outputs": [],
   "source": []
  }
 ],
 "metadata": {
  "kernelspec": {
   "display_name": "Python 3",
   "language": "python",
   "name": "python3"
  },
  "language_info": {
   "codemirror_mode": {
    "name": "ipython",
    "version": 3
   },
   "file_extension": ".py",
   "mimetype": "text/x-python",
   "name": "python",
   "nbconvert_exporter": "python",
   "pygments_lexer": "ipython3",
   "version": "3.8.5"
  }
 },
 "nbformat": 4,
 "nbformat_minor": 2
}
