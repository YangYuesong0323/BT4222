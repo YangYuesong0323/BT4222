{
 "cells": [
  {
   "cell_type": "code",
   "execution_count": 1,
   "metadata": {},
   "outputs": [],
   "source": [
    "from config import config\n",
    "import datetime\n",
    "from data_collection_modules import get_coindesk_data\n",
    "from data_collection_modules import get_yahoo_finance_data\n",
    "from data_collection_modules import get_reddit_data\n",
    "\n",
    "from sentiment_extraction_modules import *\n",
    "import sys\n",
    "sys.path.insert(1, '/Users/bolin/Desktop/NUS_Y4S2/BT4222/BT4222_repo')\n",
    "from custom_utils import *"
   ]
  },
  {
   "cell_type": "code",
   "execution_count": 2,
   "metadata": {},
   "outputs": [
    {
     "data": {
      "text/plain": [
       "{'raw_dir': './raw_data/',\n",
       " 'cooked_dir': './cooked_data/',\n",
       " 'raw_coindesk_file_name': 'raw_coinDesk_data.csv',\n",
       " 'raw_yahoo_finance_file_name': 'raw_yahoo_finance_data.csv',\n",
       " 'cooked_data_file_name': 'cooked_complete_dataset_growing.csv'}"
      ]
     },
     "execution_count": 2,
     "metadata": {},
     "output_type": "execute_result"
    }
   ],
   "source": [
    "config"
   ]
  },
  {
   "cell_type": "markdown",
   "metadata": {},
   "source": [
    "# Data Ingestion"
   ]
  },
  {
   "cell_type": "markdown",
   "metadata": {},
   "source": [
    "### Getting yahoo finance data"
   ]
  },
  {
   "cell_type": "code",
   "execution_count": 4,
   "metadata": {},
   "outputs": [],
   "source": [
    "yahoo_finance = get_yahoo_finance_data()\n",
    "date = str((datetime.datetime.now() - datetime.timedelta(days=1)).date())\n",
    "append(config['raw_dir']+config['raw_yahoo_finance_file_name'], yahoo_finance, date)"
   ]
  },
  {
   "cell_type": "markdown",
   "metadata": {},
   "source": [
    "### Getting CoinDesk data"
   ]
  },
  {
   "cell_type": "code",
   "execution_count": 4,
   "metadata": {
    "scrolled": true
   },
   "outputs": [
    {
     "name": "stdout",
     "output_type": "stream",
     "text": [
      "Processing page 0\n",
      "https://www.coindesk.com/ether-price-rises-above-2k-for-first-in-six-weeks\n",
      "https://www.coindesk.com/bitcoin-mining-difficulty\n",
      "https://www.coindesk.com/coindesk-q1-quarterly-review-retail-institutional-research\n",
      "https://www.coindesk.com/irs-seeks-names-of-circle-customers-transacting-over-20k\n",
      "https://www.coindesk.com/market-wrap-bitcoin-below-60k-cardano-sixfold-gains\n",
      "https://www.coindesk.com/coinbases-coin-stock-to-go-live-on-nasdaq-april-14\n",
      "https://www.coindesk.com/coinshares-partners-with-canadas-3iq-to-launch-new-bitcoin-etf-on-tsx\n",
      "https://www.coindesk.com/former-senior-executive-of-russias-largest-bank-leaves-for-crypto-startup\n",
      "https://www.coindesk.com/the-myths-and-realities-of-green-bitcoin\n",
      "https://www.coindesk.com/bitcoin-miners-record-revenue\n",
      "Processing page 1\n",
      "https://www.coindesk.com/ether-price-rises-above-2k-for-first-in-six-weeks\n",
      "https://www.coindesk.com/bitcoin-mining-difficulty\n",
      "https://www.coindesk.com/coindesk-q1-quarterly-review-retail-institutional-research\n",
      "https://www.coindesk.com/irs-seeks-names-of-circle-customers-transacting-over-20k\n",
      "https://www.coindesk.com/market-wrap-bitcoin-below-60k-cardano-sixfold-gains\n",
      "https://www.coindesk.com/coinbases-coin-stock-to-go-live-on-nasdaq-april-14\n",
      "https://www.coindesk.com/coinshares-partners-with-canadas-3iq-to-launch-new-bitcoin-etf-on-tsx\n",
      "https://www.coindesk.com/former-senior-executive-of-russias-largest-bank-leaves-for-crypto-startup\n",
      "https://www.coindesk.com/the-myths-and-realities-of-green-bitcoin\n",
      "https://www.coindesk.com/bitcoin-miners-record-revenue\n",
      "Processing page 2\n",
      "https://www.coindesk.com/liquality-crypto-wallet-1-click-pay-bitcoin-defi\n",
      "https://www.coindesk.com/morgan-stanley-approves-bitcoin-exposure-for-handful-of-mutual-funds\n",
      "https://www.coindesk.com/s-koreas-crypto-rules-might-only-help-the-big-4-exchanges\n",
      "https://www.coindesk.com/in-mlb-first-oakland-as-sell-a-private-suite-for-1-bitcoin\n",
      "https://www.coindesk.com/bitcoin-newbie-hodlers-conviction\n",
      "https://www.coindesk.com/bitcoin-remains-steady-at-resistance-support-57k-58k\n",
      "https://www.coindesk.com/filecoin-surges-42-replaces-litecoin-as-the-9th-largest-cryptocurrency\n",
      "https://www.coindesk.com/options-market-shows-call-bias-as-bitcoin-prepares-for-new-price-high\n",
      "https://www.coindesk.com/crypto-exchange-luno-hires-cfo-of-digital-banking-giant-monzo\n",
      "https://www.coindesk.com/enterprise-blockchain-doesnt-work-because-its-about-the-real-world\n",
      "Processing page 3\n",
      "https://www.coindesk.com/market-wrap-bitcoin-60k-goldman-blackrock\n",
      "https://www.coindesk.com/deepdotweb-operator-pleads-guilty-to-laundering-8-4m-in-bitcoin-kickbacks\n",
      "https://www.coindesk.com/blackrock-has-begun-trading-bitcoin-futures\n",
      "https://www.coindesk.com/genesis-blockfi-ledn-bitcoin-deposit-interest-rates\n",
      "https://www.coindesk.com/no-joke-chipotle-to-give-away-200k-in-free-burritos-and-bitcoin-on-april-1\n",
      "https://www.coindesk.com/binance-users-in-russia-believe-crypto-can-replace-bank-deposits\n",
      "https://www.coindesk.com/strike-launches-bitcoin-lightning-payment-app-in-el-salvador-full-eu-support-is-next\n",
      "https://www.coindesk.com/defi-major-aave-working-with-polygon-to-bypass-ethereum-congestion\n",
      "https://www.coindesk.com/crypto-hype-cycles-and-you\n",
      "https://www.coindesk.com/bitcoin-has-best-start-to-year-since-2013-as-gold-disappoints\n",
      "Processing page 4\n",
      "https://www.coindesk.com/hut-8-luxor-software-manage-new-ethereum-miners\n",
      "https://www.coindesk.com/goldman-sachs-to-offer-bitcoin-to-wealth-management-clients\n",
      "https://www.coindesk.com/cbdc-first-mover-agustin-carstens\n",
      "https://www.coindesk.com/us-bitcoin-mining-blockcap-closes-38m-round-asic-expansion\n",
      "https://www.coindesk.com/bull-flag-70k-bitcoin-skepticism\n",
      "https://www.coindesk.com/uphold-securities-regulatory-approval-finra\n",
      "https://www.coindesk.com/ecb-christine-lagarde-digital-euro-launch-four-years\n",
      "https://www.coindesk.com/crypto-options-deribit-bitcoin-volatility-index\n",
      "https://www.coindesk.com/bitcoin-stalls-near-resistance-support-around-54k\n",
      "https://www.coindesk.com/us-president-biden-proposes-boosting-corporate-tax-rate-to-28\n",
      "Processing page 5\n",
      "https://www.coindesk.com/coinshares-q4-profit-more-than-doubled\n",
      "https://www.coindesk.com/tesla-helped-patch-bug-open-source-bitcoin-payment-processor\n",
      "https://www.coindesk.com/matt-gaetz-sexual-relationship-17-year-old\n",
      "https://www.coindesk.com/market-wrap-traders-derivatives-bitcoin-rally\n",
      "https://www.coindesk.com/galaxy-digital-preparing-us-listing-names-new-cfo\n",
      "https://www.coindesk.com/bitcoin-funding-rate-traders-lever-up\n",
      "https://www.coindesk.com/indians-want-bitcoin-despite-government-stance\n",
      "https://www.coindesk.com/indian-crypto-firms-suggest-policy-ideas-to-government-ahead-of-possible-ban\n",
      "https://www.coindesk.com/bakkt-digital-wallet-for-bitcoin-to-starbucks-points-goes-live-after-long-delay\n",
      "https://www.coindesk.com/fatfs-new-guidance\n",
      "Processing page 6\n",
      "https://www.coindesk.com/cme-announces-launch-of-micro-bitcoin-futures-in-may\n",
      "https://www.coindesk.com/blockstream-security-token-bitcoin-hashrate-payable-bitcoin\n",
      "https://www.coindesk.com/bitcoin-uptrend-intact-consolidation-all-time-high\n",
      "https://www.coindesk.com/australia-fraud-first-cryptocurrency\n",
      "https://www.coindesk.com/paypal-to-start-letting-us-customers-to-use-their-crypto-at-checkout-report\n",
      "https://www.coindesk.com/bitcoin-keeps-its-bullish-tone-even-as-bond-yields-rise-in-a-switch-from-february\n",
      "https://www.coindesk.com/r3-corda-now-has-a-bridge-to-public-blockchains-with-arrival-of-ethereum-based-xdc\n",
      "https://www.coindesk.com/market-wrap-bitcoin-trades-near-58k-stocks-struggle-after-archegos-margin-call\n",
      "https://www.coindesk.com/cryptocurrency-fund-flows-lowest-october-2020\n",
      "https://www.coindesk.com/crypto-suits-weirdos\n",
      "Processing page 7\n",
      "https://www.coindesk.com/former-sec-chairman-jay-clayton-to-advise-one-river-asset-management-on-crypto\n",
      "https://www.coindesk.com/ether-bitcoin-implied-volatility-spread\n",
      "https://www.coindesk.com/nasdaq-canadian-mogo-bitcoin-cashback-mortgage\n",
      "https://www.coindesk.com/indias-millennials-embrace-bitcoin\n",
      "https://www.coindesk.com/fidelity-now-extends-bitcoin-backed-loans-through-silvergate\n",
      "https://www.coindesk.com/dubai-financial-services-authority-feedback-security-token-regulations\n",
      "https://www.coindesk.com/buy-tesla-bitcoin-lemon-refund\n",
      "https://www.coindesk.com/bitcoin-rallies-support-resistance-60k\n",
      "https://www.coindesk.com/does-blockfis-risk-justify-the-reward\n",
      "https://www.coindesk.com/bitcoin-breaks-out-near-58k-visa-adds-usdc-anchorage\n"
     ]
    }
   ],
   "source": [
    "coindesk = get_coindesk_data()\n",
    "append(config['raw_dir']+config['raw_coindesk_file_name'], coindesk, start)"
   ]
  },
  {
   "cell_type": "code",
   "execution_count": 5,
   "metadata": {},
   "outputs": [
    {
     "name": "stderr",
     "output_type": "stream",
     "text": [
      "Version 7.1.0 of praw is outdated. Version 7.2.0 was released Wednesday February 24, 2021.\n"
     ]
    }
   ],
   "source": [
    "comments, posts = get_reddit_data()"
   ]
  },
  {
   "cell_type": "markdown",
   "metadata": {},
   "source": [
    "# Sentiments Extraction "
   ]
  },
  {
   "cell_type": "code",
   "execution_count": 6,
   "metadata": {},
   "outputs": [],
   "source": [
    "conindesk_sentiments = extract_coindesk_sentiments(coindesk)"
   ]
  },
  {
   "cell_type": "code",
   "execution_count": 17,
   "metadata": {},
   "outputs": [
    {
     "data": {
      "text/html": [
       "<div>\n",
       "<style scoped>\n",
       "    .dataframe tbody tr th:only-of-type {\n",
       "        vertical-align: middle;\n",
       "    }\n",
       "\n",
       "    .dataframe tbody tr th {\n",
       "        vertical-align: top;\n",
       "    }\n",
       "\n",
       "    .dataframe thead th {\n",
       "        text-align: right;\n",
       "    }\n",
       "</style>\n",
       "<table border=\"1\" class=\"dataframe\">\n",
       "  <thead>\n",
       "    <tr style=\"text-align: right;\">\n",
       "      <th></th>\n",
       "      <th>date</th>\n",
       "      <th>coindesk_sentiment</th>\n",
       "      <th>num_of_coindesk_posts</th>\n",
       "    </tr>\n",
       "  </thead>\n",
       "  <tbody>\n",
       "    <tr>\n",
       "      <th>0</th>\n",
       "      <td>2021-03-29</td>\n",
       "      <td>0.239352</td>\n",
       "      <td>13</td>\n",
       "    </tr>\n",
       "    <tr>\n",
       "      <th>1</th>\n",
       "      <td>2021-03-30</td>\n",
       "      <td>0.095568</td>\n",
       "      <td>15</td>\n",
       "    </tr>\n",
       "    <tr>\n",
       "      <th>2</th>\n",
       "      <td>2021-03-31</td>\n",
       "      <td>0.266457</td>\n",
       "      <td>23</td>\n",
       "    </tr>\n",
       "    <tr>\n",
       "      <th>3</th>\n",
       "      <td>2021-04-01</td>\n",
       "      <td>0.280055</td>\n",
       "      <td>17</td>\n",
       "    </tr>\n",
       "    <tr>\n",
       "      <th>4</th>\n",
       "      <td>2021-04-02</td>\n",
       "      <td>-0.017358</td>\n",
       "      <td>2</td>\n",
       "    </tr>\n",
       "  </tbody>\n",
       "</table>\n",
       "</div>"
      ],
      "text/plain": [
       "         date  coindesk_sentiment  num_of_coindesk_posts\n",
       "0  2021-03-29            0.239352                     13\n",
       "1  2021-03-30            0.095568                     15\n",
       "2  2021-03-31            0.266457                     23\n",
       "3  2021-04-01            0.280055                     17\n",
       "4  2021-04-02           -0.017358                      2"
      ]
     },
     "execution_count": 17,
     "metadata": {},
     "output_type": "execute_result"
    }
   ],
   "source": [
    "conindesk_sentiments"
   ]
  },
  {
   "cell_type": "code",
   "execution_count": 25,
   "metadata": {},
   "outputs": [],
   "source": [
    "reddit_posts = pd.read_csv('./raw_data/raw_reddit_df/Posts/2021-04-01.csv')\n",
    "reddit_comments = pd.read_csv('./raw_data/raw_reddit_df/Comments/2021-04-01.csv')"
   ]
  },
  {
   "cell_type": "code",
   "execution_count": 26,
   "metadata": {},
   "outputs": [],
   "source": [
    "reddit_posts_sentiments = extract_reddit_posts_sentiments(reddit_posts, '2021-04-01')\n",
    "reddit_comments_sentiments = extract_reddit_comments_sentiments(reddit_comments, '2021-04-01')"
   ]
  },
  {
   "cell_type": "code",
   "execution_count": 10,
   "metadata": {},
   "outputs": [
    {
     "data": {
      "text/html": [
       "<div>\n",
       "<style scoped>\n",
       "    .dataframe tbody tr th:only-of-type {\n",
       "        vertical-align: middle;\n",
       "    }\n",
       "\n",
       "    .dataframe tbody tr th {\n",
       "        vertical-align: top;\n",
       "    }\n",
       "\n",
       "    .dataframe thead th {\n",
       "        text-align: right;\n",
       "    }\n",
       "</style>\n",
       "<table border=\"1\" class=\"dataframe\">\n",
       "  <thead>\n",
       "    <tr style=\"text-align: right;\">\n",
       "      <th></th>\n",
       "      <th>top_50_reddit_posts_sentiments</th>\n",
       "      <th>date</th>\n",
       "    </tr>\n",
       "  </thead>\n",
       "  <tbody>\n",
       "    <tr>\n",
       "      <th>2021-03-18</th>\n",
       "      <td>0.396944</td>\n",
       "      <td>2021-03-18</td>\n",
       "    </tr>\n",
       "  </tbody>\n",
       "</table>\n",
       "</div>"
      ],
      "text/plain": [
       "            top_50_reddit_posts_sentiments        date\n",
       "2021-03-18                        0.396944  2021-03-18"
      ]
     },
     "execution_count": 10,
     "metadata": {},
     "output_type": "execute_result"
    }
   ],
   "source": [
    "reddit_posts_sentiments"
   ]
  },
  {
   "cell_type": "code",
   "execution_count": 11,
   "metadata": {},
   "outputs": [
    {
     "data": {
      "text/html": [
       "<div>\n",
       "<style scoped>\n",
       "    .dataframe tbody tr th:only-of-type {\n",
       "        vertical-align: middle;\n",
       "    }\n",
       "\n",
       "    .dataframe tbody tr th {\n",
       "        vertical-align: top;\n",
       "    }\n",
       "\n",
       "    .dataframe thead th {\n",
       "        text-align: right;\n",
       "    }\n",
       "</style>\n",
       "<table border=\"1\" class=\"dataframe\">\n",
       "  <thead>\n",
       "    <tr style=\"text-align: right;\">\n",
       "      <th></th>\n",
       "      <th>reddit_comments_sentiments</th>\n",
       "      <th>date</th>\n",
       "    </tr>\n",
       "  </thead>\n",
       "  <tbody>\n",
       "    <tr>\n",
       "      <th>2021-03-18</th>\n",
       "      <td>0.152305</td>\n",
       "      <td>2021-03-18</td>\n",
       "    </tr>\n",
       "  </tbody>\n",
       "</table>\n",
       "</div>"
      ],
      "text/plain": [
       "            reddit_comments_sentiments        date\n",
       "2021-03-18                    0.152305  2021-03-18"
      ]
     },
     "execution_count": 11,
     "metadata": {},
     "output_type": "execute_result"
    }
   ],
   "source": [
    "reddit_comments_sentiments"
   ]
  },
  {
   "cell_type": "code",
   "execution_count": 27,
   "metadata": {},
   "outputs": [
    {
     "data": {
      "text/html": [
       "<div>\n",
       "<style scoped>\n",
       "    .dataframe tbody tr th:only-of-type {\n",
       "        vertical-align: middle;\n",
       "    }\n",
       "\n",
       "    .dataframe tbody tr th {\n",
       "        vertical-align: top;\n",
       "    }\n",
       "\n",
       "    .dataframe thead th {\n",
       "        text-align: right;\n",
       "    }\n",
       "</style>\n",
       "<table border=\"1\" class=\"dataframe\">\n",
       "  <thead>\n",
       "    <tr style=\"text-align: right;\">\n",
       "      <th></th>\n",
       "      <th>Adj_Close_BTC-USD</th>\n",
       "      <th>Open_BTC-USD</th>\n",
       "      <th>High_BTC-USD</th>\n",
       "      <th>Low_BTC-USD</th>\n",
       "      <th>Volume_BTC-USD</th>\n",
       "      <th>Adj_Close_SPY</th>\n",
       "      <th>Adj_Close_GLD</th>\n",
       "      <th>Adj_Close_CHFUSD=X</th>\n",
       "      <th>Adj_Close_CNYUSD=X</th>\n",
       "      <th>Adj_Close_EURUSD=X</th>\n",
       "      <th>Adj_Close_GBPUSD=X</th>\n",
       "      <th>Adj_Close_JPYUSD=X</th>\n",
       "      <th>date</th>\n",
       "      <th>top_50_reddit_posts_sentiments</th>\n",
       "      <th>reddit_comments_sentiments</th>\n",
       "      <th>coindesk_sentiment</th>\n",
       "      <th>num_of_coindesk_posts</th>\n",
       "    </tr>\n",
       "  </thead>\n",
       "  <tbody>\n",
       "    <tr>\n",
       "      <th>0</th>\n",
       "      <td>58918.832031</td>\n",
       "      <td>58930.277344</td>\n",
       "      <td>59930.027344</td>\n",
       "      <td>57726.417969</td>\n",
       "      <td>6.552083e+10</td>\n",
       "      <td>400.609985</td>\n",
       "      <td>161.979996</td>\n",
       "      <td>1.059434</td>\n",
       "      <td>0.152644</td>\n",
       "      <td>1.172883</td>\n",
       "      <td>1.378626</td>\n",
       "      <td>0.009029</td>\n",
       "      <td>2021-04-01</td>\n",
       "      <td>0.294197</td>\n",
       "      <td>0.094478</td>\n",
       "      <td>0.280055</td>\n",
       "      <td>17</td>\n",
       "    </tr>\n",
       "  </tbody>\n",
       "</table>\n",
       "</div>"
      ],
      "text/plain": [
       "   Adj_Close_BTC-USD  Open_BTC-USD  High_BTC-USD   Low_BTC-USD  \\\n",
       "0       58918.832031  58930.277344  59930.027344  57726.417969   \n",
       "\n",
       "   Volume_BTC-USD  Adj_Close_SPY  Adj_Close_GLD  Adj_Close_CHFUSD=X  \\\n",
       "0    6.552083e+10     400.609985     161.979996            1.059434   \n",
       "\n",
       "   Adj_Close_CNYUSD=X  Adj_Close_EURUSD=X  Adj_Close_GBPUSD=X  \\\n",
       "0            0.152644            1.172883            1.378626   \n",
       "\n",
       "   Adj_Close_JPYUSD=X        date  top_50_reddit_posts_sentiments  \\\n",
       "0            0.009029  2021-04-01                        0.294197   \n",
       "\n",
       "   reddit_comments_sentiments  coindesk_sentiment  num_of_coindesk_posts  \n",
       "0                    0.094478            0.280055                     17  "
      ]
     },
     "execution_count": 27,
     "metadata": {},
     "output_type": "execute_result"
    }
   ],
   "source": [
    "merge([yahoo_finance, reddit_posts_sentiments, reddit_comments_sentiments, conindesk_sentiments])"
   ]
  },
  {
   "cell_type": "code",
   "execution_count": 29,
   "metadata": {},
   "outputs": [],
   "source": [
    "df = pd.read_excel('/Users/bolin/Desktop/NUS_Y4S2/BT4222/BT4222_repo/data/cooked_data/cooked_complete_dataset.xlsx')"
   ]
  },
  {
   "cell_type": "code",
   "execution_count": 32,
   "metadata": {},
   "outputs": [],
   "source": [
    "df.to_csv('cooked_complete_dataset.csv')"
   ]
  },
  {
   "cell_type": "code",
   "execution_count": null,
   "metadata": {},
   "outputs": [],
   "source": []
  }
 ],
 "metadata": {
  "kernelspec": {
   "display_name": "Python 3",
   "language": "python",
   "name": "python3"
  },
  "language_info": {
   "codemirror_mode": {
    "name": "ipython",
    "version": 3
   },
   "file_extension": ".py",
   "mimetype": "text/x-python",
   "name": "python",
   "nbconvert_exporter": "python",
   "pygments_lexer": "ipython3",
   "version": "3.7.4"
  }
 },
 "nbformat": 4,
 "nbformat_minor": 2
}
