{
 "cells": [
  {
   "cell_type": "code",
   "execution_count": 60,
   "metadata": {},
   "outputs": [],
   "source": [
    "import pandas as pd\n",
    "import numpy as np\n",
    "import datetime\n",
    "from keras.models import Sequential\n",
    "from keras.layers import Dense\n",
    "from keras.layers import LSTM\n",
    "from keras.layers import Dropout\n",
    "from sklearn.preprocessing import MinMaxScaler\n",
    "from sklearn.metrics import mean_squared_error, roc_auc_score\n",
    "from keras import backend as K\n",
    "import matplotlib.pyplot as plt"
   ]
  },
  {
   "cell_type": "code",
   "execution_count": 13,
   "metadata": {},
   "outputs": [],
   "source": [
    "features = pd.read_csv(\"cooked_complete_dataset.csv\")"
   ]
  },
  {
   "cell_type": "code",
   "execution_count": 14,
   "metadata": {},
   "outputs": [],
   "source": [
    "features.dropna(inplace = True)"
   ]
  },
  {
   "cell_type": "code",
   "execution_count": 15,
   "metadata": {},
   "outputs": [],
   "source": [
    "features['date'] = features['date'].apply(lambda x: datetime.datetime.strptime(x, \"%Y-%m-%d\"))\n",
    "features[\"date\"] = pd.to_datetime(features[\"date\"], format='%d/%m/%Y', infer_datetime_format=True)"
   ]
  },
  {
   "cell_type": "code",
   "execution_count": 16,
   "metadata": {},
   "outputs": [],
   "source": [
    "features[\"class_y\"] = features[\"Adj_Close_BTC-USD\"].shift(1).dropna()\n",
    "features[\"class_y\"] = features.apply(lambda x : 1 if x[\"class_y\"] < x[\"Adj_Close_BTC-USD\"] else 0 , axis = 1)"
   ]
  },
  {
   "cell_type": "code",
   "execution_count": 17,
   "metadata": {},
   "outputs": [
    {
     "data": {
      "text/html": [
       "<div>\n",
       "<style scoped>\n",
       "    .dataframe tbody tr th:only-of-type {\n",
       "        vertical-align: middle;\n",
       "    }\n",
       "\n",
       "    .dataframe tbody tr th {\n",
       "        vertical-align: top;\n",
       "    }\n",
       "\n",
       "    .dataframe thead th {\n",
       "        text-align: right;\n",
       "    }\n",
       "</style>\n",
       "<table border=\"1\" class=\"dataframe\">\n",
       "  <thead>\n",
       "    <tr style=\"text-align: right;\">\n",
       "      <th></th>\n",
       "      <th>date</th>\n",
       "      <th>Adj_Close_BTC-USD</th>\n",
       "      <th>Open_BTC-USD</th>\n",
       "      <th>High_BTC-USD</th>\n",
       "      <th>Low_BTC-USD</th>\n",
       "      <th>Volume_BTC-USD</th>\n",
       "      <th>Adj_Close_SPY</th>\n",
       "      <th>Adj_Close_GLD</th>\n",
       "      <th>Adj_Close_CHFUSD=X</th>\n",
       "      <th>Adj_Close_CNYUSD=X</th>\n",
       "      <th>Adj_Close_EURUSD=X</th>\n",
       "      <th>Adj_Close_GBPUSD=X</th>\n",
       "      <th>Adj_Close_JPYUSD=X</th>\n",
       "      <th>coindesk_sentiment</th>\n",
       "      <th>num_of_coindesk_posts</th>\n",
       "      <th>reddit_comments_sentiments</th>\n",
       "      <th>top_50_reddit_posts_sentiments</th>\n",
       "      <th>blockchain_transactions_per_block</th>\n",
       "      <th>blockchain_hash_rates</th>\n",
       "      <th>class_y</th>\n",
       "    </tr>\n",
       "  </thead>\n",
       "  <tbody>\n",
       "    <tr>\n",
       "      <th>0</th>\n",
       "      <td>2020-12-14</td>\n",
       "      <td>19246.64453</td>\n",
       "      <td>19144.49219</td>\n",
       "      <td>19305.09961</td>\n",
       "      <td>19012.70898</td>\n",
       "      <td>22473997681</td>\n",
       "      <td>361.926788</td>\n",
       "      <td>171.539993</td>\n",
       "      <td>1.125442</td>\n",
       "      <td>0.152772</td>\n",
       "      <td>1.213340</td>\n",
       "      <td>1.331824</td>\n",
       "      <td>0.009621</td>\n",
       "      <td>0.249489</td>\n",
       "      <td>12</td>\n",
       "      <td>0.188275</td>\n",
       "      <td>0.297238</td>\n",
       "      <td>2167.931034</td>\n",
       "      <td>134533587.6</td>\n",
       "      <td>0</td>\n",
       "    </tr>\n",
       "    <tr>\n",
       "      <th>1</th>\n",
       "      <td>2020-12-15</td>\n",
       "      <td>19417.07617</td>\n",
       "      <td>19246.91992</td>\n",
       "      <td>19525.00781</td>\n",
       "      <td>19079.84180</td>\n",
       "      <td>26741982541</td>\n",
       "      <td>366.819824</td>\n",
       "      <td>173.940002</td>\n",
       "      <td>1.127930</td>\n",
       "      <td>0.152679</td>\n",
       "      <td>1.214890</td>\n",
       "      <td>1.333084</td>\n",
       "      <td>0.009614</td>\n",
       "      <td>0.173773</td>\n",
       "      <td>18</td>\n",
       "      <td>0.144389</td>\n",
       "      <td>0.399427</td>\n",
       "      <td>2288.857143</td>\n",
       "      <td>133351912.2</td>\n",
       "      <td>1</td>\n",
       "    </tr>\n",
       "    <tr>\n",
       "      <th>2</th>\n",
       "      <td>2020-12-16</td>\n",
       "      <td>21310.59766</td>\n",
       "      <td>19418.81836</td>\n",
       "      <td>21458.90820</td>\n",
       "      <td>19298.31641</td>\n",
       "      <td>44409011479</td>\n",
       "      <td>367.395508</td>\n",
       "      <td>174.899994</td>\n",
       "      <td>1.129382</td>\n",
       "      <td>0.152945</td>\n",
       "      <td>1.215430</td>\n",
       "      <td>1.344447</td>\n",
       "      <td>0.009649</td>\n",
       "      <td>0.341491</td>\n",
       "      <td>11</td>\n",
       "      <td>0.137256</td>\n",
       "      <td>0.489673</td>\n",
       "      <td>2204.314685</td>\n",
       "      <td>132323572.3</td>\n",
       "      <td>1</td>\n",
       "    </tr>\n",
       "    <tr>\n",
       "      <th>3</th>\n",
       "      <td>2020-12-17</td>\n",
       "      <td>22805.16211</td>\n",
       "      <td>21308.35156</td>\n",
       "      <td>23642.66016</td>\n",
       "      <td>21234.67578</td>\n",
       "      <td>71378606374</td>\n",
       "      <td>369.449982</td>\n",
       "      <td>176.740005</td>\n",
       "      <td>1.129446</td>\n",
       "      <td>0.153109</td>\n",
       "      <td>1.219959</td>\n",
       "      <td>1.350293</td>\n",
       "      <td>0.009664</td>\n",
       "      <td>0.197572</td>\n",
       "      <td>10</td>\n",
       "      <td>0.156723</td>\n",
       "      <td>0.636030</td>\n",
       "      <td>2399.077519</td>\n",
       "      <td>132373208.7</td>\n",
       "      <td>1</td>\n",
       "    </tr>\n",
       "    <tr>\n",
       "      <th>4</th>\n",
       "      <td>2020-12-18</td>\n",
       "      <td>23137.96094</td>\n",
       "      <td>22806.79688</td>\n",
       "      <td>23238.60156</td>\n",
       "      <td>22399.81250</td>\n",
       "      <td>40387896275</td>\n",
       "      <td>367.974792</td>\n",
       "      <td>176.440002</td>\n",
       "      <td>1.130301</td>\n",
       "      <td>0.153090</td>\n",
       "      <td>1.226272</td>\n",
       "      <td>1.357018</td>\n",
       "      <td>0.009696</td>\n",
       "      <td>0.315601</td>\n",
       "      <td>2</td>\n",
       "      <td>0.166419</td>\n",
       "      <td>0.107093</td>\n",
       "      <td>2392.031847</td>\n",
       "      <td>131791042.0</td>\n",
       "      <td>1</td>\n",
       "    </tr>\n",
       "  </tbody>\n",
       "</table>\n",
       "</div>"
      ],
      "text/plain": [
       "        date  Adj_Close_BTC-USD  Open_BTC-USD  High_BTC-USD  Low_BTC-USD  \\\n",
       "0 2020-12-14        19246.64453   19144.49219   19305.09961  19012.70898   \n",
       "1 2020-12-15        19417.07617   19246.91992   19525.00781  19079.84180   \n",
       "2 2020-12-16        21310.59766   19418.81836   21458.90820  19298.31641   \n",
       "3 2020-12-17        22805.16211   21308.35156   23642.66016  21234.67578   \n",
       "4 2020-12-18        23137.96094   22806.79688   23238.60156  22399.81250   \n",
       "\n",
       "   Volume_BTC-USD  Adj_Close_SPY  Adj_Close_GLD  Adj_Close_CHFUSD=X  \\\n",
       "0     22473997681     361.926788     171.539993            1.125442   \n",
       "1     26741982541     366.819824     173.940002            1.127930   \n",
       "2     44409011479     367.395508     174.899994            1.129382   \n",
       "3     71378606374     369.449982     176.740005            1.129446   \n",
       "4     40387896275     367.974792     176.440002            1.130301   \n",
       "\n",
       "   Adj_Close_CNYUSD=X  Adj_Close_EURUSD=X  Adj_Close_GBPUSD=X  \\\n",
       "0            0.152772            1.213340            1.331824   \n",
       "1            0.152679            1.214890            1.333084   \n",
       "2            0.152945            1.215430            1.344447   \n",
       "3            0.153109            1.219959            1.350293   \n",
       "4            0.153090            1.226272            1.357018   \n",
       "\n",
       "   Adj_Close_JPYUSD=X  coindesk_sentiment  num_of_coindesk_posts  \\\n",
       "0            0.009621            0.249489                     12   \n",
       "1            0.009614            0.173773                     18   \n",
       "2            0.009649            0.341491                     11   \n",
       "3            0.009664            0.197572                     10   \n",
       "4            0.009696            0.315601                      2   \n",
       "\n",
       "   reddit_comments_sentiments  top_50_reddit_posts_sentiments  \\\n",
       "0                    0.188275                        0.297238   \n",
       "1                    0.144389                        0.399427   \n",
       "2                    0.137256                        0.489673   \n",
       "3                    0.156723                        0.636030   \n",
       "4                    0.166419                        0.107093   \n",
       "\n",
       "   blockchain_transactions_per_block  blockchain_hash_rates  class_y  \n",
       "0                        2167.931034            134533587.6        0  \n",
       "1                        2288.857143            133351912.2        1  \n",
       "2                        2204.314685            132323572.3        1  \n",
       "3                        2399.077519            132373208.7        1  \n",
       "4                        2392.031847            131791042.0        1  "
      ]
     },
     "execution_count": 17,
     "metadata": {},
     "output_type": "execute_result"
    }
   ],
   "source": [
    "features.head()"
   ]
  },
  {
   "cell_type": "markdown",
   "metadata": {},
   "source": [
    "**Log transform the features. Features are time series by nature and log transformation makes it stationary.**"
   ]
  },
  {
   "cell_type": "code",
   "execution_count": 18,
   "metadata": {},
   "outputs": [],
   "source": [
    "# def log_return_transformation(df, columns='all'):\n",
    "#     if columns == 'all':\n",
    "#         for column in list(df.columns):\n",
    "#             if column != 'date':\n",
    "#                 # log rate of change\n",
    "#                 df[column] = np.log(df[column]/df[column].shift(1))\n",
    "#     else:\n",
    "#         for column in columns:\n",
    "#                 df[column] = np.log(df[column]/df[column].shift(1))\n",
    "\n",
    "#     df = df.dropna()\n",
    "#     return df\n",
    "\n",
    "# features = log_return_transformation(features, \n",
    "#                                      columns = features.drop(\n",
    "#                                          ['date', 'Adj_Close_BTC-USD', 'coindesk_sentiment',\n",
    "#                                          'num_of_coindesk_posts', ''], axis = 1).columns.tolist())"
   ]
  },
  {
   "cell_type": "markdown",
   "metadata": {},
   "source": [
    "**Helper functions to create lags for features and calculate RMSE**"
   ]
  },
  {
   "cell_type": "code",
   "execution_count": 24,
   "metadata": {},
   "outputs": [],
   "source": [
    "def lag(data, dic):\n",
    "    cols = []\n",
    "    for key, value in dic.items():\n",
    "        for i in range(1, value+1):\n",
    "            cols.append(data[key].shift(i).rename('{}_lag{}'.format(data[key].name, i)))\n",
    "    return pd.concat([data[\"date\"],data[\"class_y\"]] + cols, axis = 1)"
   ]
  },
  {
   "cell_type": "code",
   "execution_count": null,
   "metadata": {},
   "outputs": [],
   "source": []
  },
  {
   "cell_type": "markdown",
   "metadata": {},
   "source": [
    "## Without Sentiments"
   ]
  },
  {
   "cell_type": "markdown",
   "metadata": {},
   "source": [
    "#### 1. Create feature lags"
   ]
  },
  {
   "cell_type": "code",
   "execution_count": 25,
   "metadata": {},
   "outputs": [],
   "source": [
    "feature_lags = {\"Adj_Close_BTC-USD\" : 2, \n",
    "                \"Volume_BTC-USD\" : 1, \n",
    "                \"Adj_Close_SPY\" : 1,\n",
    "                \"Adj_Close_GLD\" : 1,\n",
    "                \"Adj_Close_CHFUSD=X\" : 1,\n",
    "                \"Adj_Close_CNYUSD=X\" : 1,\n",
    "                \"Adj_Close_EURUSD=X\" : 1,\n",
    "                \"Adj_Close_GBPUSD=X\" : 1,\n",
    "                \"Adj_Close_JPYUSD=X\" : 1,\n",
    "                \"blockchain_transactions_per_block\" : 1,\n",
    "                \"blockchain_hash_rates\" : 1}\n",
    "\n",
    "data = lag(features, feature_lags)"
   ]
  },
  {
   "cell_type": "markdown",
   "metadata": {},
   "source": [
    "#### 2. Handle train-test split"
   ]
  },
  {
   "cell_type": "code",
   "execution_count": 27,
   "metadata": {},
   "outputs": [],
   "source": [
    "# data['date'] = data['date'].apply(lambda x: datetime.datetime.strptime(x, \"%Y-%m-%d\"))\n",
    "# data[\"date\"] = pd.to_datetime(data[\"date\"], format='%d/%m/%Y', infer_datetime_format=True)\n",
    "data = data[data[\"date\"] >= \"1/1/2021\"]\n",
    "\n",
    "train = data[data[\"date\"] <= \"2021-03-10\"]\n",
    "test = data[(data[\"date\"] > \"2021-03-10\") & (data[\"date\"] <= \"2021-04-5\")]\n",
    "\n",
    "x_train = train.drop([\"date\", \"class_y\"], axis = 1)\n",
    "y_train = train[\"class_y\"]\n",
    "\n",
    "x_test = test.drop([\"date\", \"class_y\"], axis = 1)\n",
    "y_test = test[\"class_y\"]"
   ]
  },
  {
   "cell_type": "markdown",
   "metadata": {},
   "source": [
    "#### 3. MinMax scale the features"
   ]
  },
  {
   "cell_type": "code",
   "execution_count": 28,
   "metadata": {},
   "outputs": [],
   "source": [
    "sc = MinMaxScaler(feature_range = (0, 1))\n",
    "sc.fit(x_train)\n",
    "x_train_trans = sc.transform(x_train)\n",
    "x_test_trans = sc.transform(x_test)"
   ]
  },
  {
   "cell_type": "markdown",
   "metadata": {},
   "source": [
    "#### 4. Transform the feature shapes to fit into LSTM"
   ]
  },
  {
   "cell_type": "code",
   "execution_count": 29,
   "metadata": {},
   "outputs": [],
   "source": [
    "x_train_trans = x_train_trans.reshape(x_train_trans.shape[0], x_train_trans.shape[1], 1)\n",
    "x_test_trans = x_test_trans.reshape(x_test_trans.shape[0], x_test_trans.shape[1], 1)"
   ]
  },
  {
   "cell_type": "markdown",
   "metadata": {},
   "source": [
    "#### 5. Define a Grid Search function"
   ]
  },
  {
   "cell_type": "code",
   "execution_count": 68,
   "metadata": {},
   "outputs": [],
   "source": [
    "def LSTM_GS(layer_spe, time_step):\n",
    "    regressor = Sequential()\n",
    "    count = 0\n",
    "    for unit in layer_spe:\n",
    "        count += 1 \n",
    "        if len(layer_spe) == 1:\n",
    "            regressor.add(LSTM(unit, activation = \"relu\", input_shape = (time_step, 1))) # batch size, time steps, data dimension\n",
    "            regressor.add(Dropout(0.3))\n",
    "        else:\n",
    "            if count == 1:\n",
    "                regressor.add(LSTM(unit, activation = \"relu\", return_sequences=True, input_shape = (time_step, 1))) # batch size, time steps, data dimension\n",
    "                regressor.add(Dropout(0.3))\n",
    "            elif count < len(layer_spe): \n",
    "                regressor.add(LSTM(unit, activation = \"relu\", return_sequences=True))\n",
    "                regressor.add(Dropout(0.3))\n",
    "            else:\n",
    "                regressor.add(LSTM(unit, activation = \"relu\"))\n",
    "                regressor.add(Dropout(0.3))\n",
    "            \n",
    "    regressor.add(Dense(units = 1, activation = \"sigmoid\"))\n",
    "    regressor.compile(optimizer = 'Adam', loss = \"binary_crossentropy\", metrics=['accuracy'])\n",
    "    regressor.fit(x_train_trans, y_train, epochs = 200, verbose = 0)\n",
    "    \n",
    "    yhat = regressor.predict(x_test_trans)\n",
    "    yhat = [1 if x[0] > 0.5 else 0 for x in yhat]\n",
    "    return roc_auc_score(y_train, [1 if x[0] > 0.5 else 0 for x in regressor.predict(x_train_trans)]), roc_auc_score(y_test, yhat)"
   ]
  },
  {
   "cell_type": "markdown",
   "metadata": {},
   "source": [
    "#### 6. Grid Search on a few hyperparameters combinations"
   ]
  },
  {
   "cell_type": "code",
   "execution_count": 70,
   "metadata": {},
   "outputs": [
    {
     "name": "stdout",
     "output_type": "stream",
     "text": [
      "WARNING:tensorflow:Model was constructed with shape (None, 1, 1) for input KerasTensor(type_spec=TensorSpec(shape=(None, 1, 1), dtype=tf.float32, name='lstm_119_input'), name='lstm_119_input', description=\"created by layer 'lstm_119_input'\"), but it was called on an input with incompatible shape (None, 12, 1).\n",
      "WARNING:tensorflow:Model was constructed with shape (None, 1, 1) for input KerasTensor(type_spec=TensorSpec(shape=(None, 1, 1), dtype=tf.float32, name='lstm_119_input'), name='lstm_119_input', description=\"created by layer 'lstm_119_input'\"), but it was called on an input with incompatible shape (None, 12, 1).\n",
      "WARNING:tensorflow:Model was constructed with shape (None, 1, 1) for input KerasTensor(type_spec=TensorSpec(shape=(None, 1, 1), dtype=tf.float32, name='lstm_119_input'), name='lstm_119_input', description=\"created by layer 'lstm_119_input'\"), but it was called on an input with incompatible shape (None, 12, 1).\n",
      "WARNING:tensorflow:Model was constructed with shape (None, 2, 1) for input KerasTensor(type_spec=TensorSpec(shape=(None, 2, 1), dtype=tf.float32, name='lstm_120_input'), name='lstm_120_input', description=\"created by layer 'lstm_120_input'\"), but it was called on an input with incompatible shape (None, 12, 1).\n",
      "WARNING:tensorflow:Model was constructed with shape (None, 2, 1) for input KerasTensor(type_spec=TensorSpec(shape=(None, 2, 1), dtype=tf.float32, name='lstm_120_input'), name='lstm_120_input', description=\"created by layer 'lstm_120_input'\"), but it was called on an input with incompatible shape (None, 12, 1).\n",
      "WARNING:tensorflow:Model was constructed with shape (None, 2, 1) for input KerasTensor(type_spec=TensorSpec(shape=(None, 2, 1), dtype=tf.float32, name='lstm_120_input'), name='lstm_120_input', description=\"created by layer 'lstm_120_input'\"), but it was called on an input with incompatible shape (None, 12, 1).\n",
      "WARNING:tensorflow:Model was constructed with shape (None, 3, 1) for input KerasTensor(type_spec=TensorSpec(shape=(None, 3, 1), dtype=tf.float32, name='lstm_121_input'), name='lstm_121_input', description=\"created by layer 'lstm_121_input'\"), but it was called on an input with incompatible shape (None, 12, 1).\n",
      "WARNING:tensorflow:Model was constructed with shape (None, 3, 1) for input KerasTensor(type_spec=TensorSpec(shape=(None, 3, 1), dtype=tf.float32, name='lstm_121_input'), name='lstm_121_input', description=\"created by layer 'lstm_121_input'\"), but it was called on an input with incompatible shape (None, 12, 1).\n",
      "WARNING:tensorflow:Model was constructed with shape (None, 3, 1) for input KerasTensor(type_spec=TensorSpec(shape=(None, 3, 1), dtype=tf.float32, name='lstm_121_input'), name='lstm_121_input', description=\"created by layer 'lstm_121_input'\"), but it was called on an input with incompatible shape (None, 12, 1).\n",
      "WARNING:tensorflow:Model was constructed with shape (None, 4, 1) for input KerasTensor(type_spec=TensorSpec(shape=(None, 4, 1), dtype=tf.float32, name='lstm_122_input'), name='lstm_122_input', description=\"created by layer 'lstm_122_input'\"), but it was called on an input with incompatible shape (None, 12, 1).\n",
      "WARNING:tensorflow:Model was constructed with shape (None, 4, 1) for input KerasTensor(type_spec=TensorSpec(shape=(None, 4, 1), dtype=tf.float32, name='lstm_122_input'), name='lstm_122_input', description=\"created by layer 'lstm_122_input'\"), but it was called on an input with incompatible shape (None, 12, 1).\n",
      "WARNING:tensorflow:Model was constructed with shape (None, 4, 1) for input KerasTensor(type_spec=TensorSpec(shape=(None, 4, 1), dtype=tf.float32, name='lstm_122_input'), name='lstm_122_input', description=\"created by layer 'lstm_122_input'\"), but it was called on an input with incompatible shape (None, 12, 1).\n",
      "WARNING:tensorflow:Model was constructed with shape (None, 5, 1) for input KerasTensor(type_spec=TensorSpec(shape=(None, 5, 1), dtype=tf.float32, name='lstm_123_input'), name='lstm_123_input', description=\"created by layer 'lstm_123_input'\"), but it was called on an input with incompatible shape (None, 12, 1).\n",
      "WARNING:tensorflow:Model was constructed with shape (None, 5, 1) for input KerasTensor(type_spec=TensorSpec(shape=(None, 5, 1), dtype=tf.float32, name='lstm_123_input'), name='lstm_123_input', description=\"created by layer 'lstm_123_input'\"), but it was called on an input with incompatible shape (None, 12, 1).\n",
      "WARNING:tensorflow:Model was constructed with shape (None, 5, 1) for input KerasTensor(type_spec=TensorSpec(shape=(None, 5, 1), dtype=tf.float32, name='lstm_123_input'), name='lstm_123_input', description=\"created by layer 'lstm_123_input'\"), but it was called on an input with incompatible shape (None, 12, 1).\n",
      "WARNING:tensorflow:Model was constructed with shape (None, 1, 1) for input KerasTensor(type_spec=TensorSpec(shape=(None, 1, 1), dtype=tf.float32, name='lstm_124_input'), name='lstm_124_input', description=\"created by layer 'lstm_124_input'\"), but it was called on an input with incompatible shape (None, 12, 1).\n",
      "WARNING:tensorflow:Model was constructed with shape (None, 1, 1) for input KerasTensor(type_spec=TensorSpec(shape=(None, 1, 1), dtype=tf.float32, name='lstm_124_input'), name='lstm_124_input', description=\"created by layer 'lstm_124_input'\"), but it was called on an input with incompatible shape (None, 12, 1).\n",
      "WARNING:tensorflow:Model was constructed with shape (None, 1, 1) for input KerasTensor(type_spec=TensorSpec(shape=(None, 1, 1), dtype=tf.float32, name='lstm_124_input'), name='lstm_124_input', description=\"created by layer 'lstm_124_input'\"), but it was called on an input with incompatible shape (None, 12, 1).\n",
      "WARNING:tensorflow:Model was constructed with shape (None, 2, 1) for input KerasTensor(type_spec=TensorSpec(shape=(None, 2, 1), dtype=tf.float32, name='lstm_125_input'), name='lstm_125_input', description=\"created by layer 'lstm_125_input'\"), but it was called on an input with incompatible shape (None, 12, 1).\n",
      "WARNING:tensorflow:Model was constructed with shape (None, 2, 1) for input KerasTensor(type_spec=TensorSpec(shape=(None, 2, 1), dtype=tf.float32, name='lstm_125_input'), name='lstm_125_input', description=\"created by layer 'lstm_125_input'\"), but it was called on an input with incompatible shape (None, 12, 1).\n",
      "WARNING:tensorflow:Model was constructed with shape (None, 2, 1) for input KerasTensor(type_spec=TensorSpec(shape=(None, 2, 1), dtype=tf.float32, name='lstm_125_input'), name='lstm_125_input', description=\"created by layer 'lstm_125_input'\"), but it was called on an input with incompatible shape (None, 12, 1).\n",
      "WARNING:tensorflow:Model was constructed with shape (None, 3, 1) for input KerasTensor(type_spec=TensorSpec(shape=(None, 3, 1), dtype=tf.float32, name='lstm_126_input'), name='lstm_126_input', description=\"created by layer 'lstm_126_input'\"), but it was called on an input with incompatible shape (None, 12, 1).\n",
      "WARNING:tensorflow:Model was constructed with shape (None, 3, 1) for input KerasTensor(type_spec=TensorSpec(shape=(None, 3, 1), dtype=tf.float32, name='lstm_126_input'), name='lstm_126_input', description=\"created by layer 'lstm_126_input'\"), but it was called on an input with incompatible shape (None, 12, 1).\n",
      "WARNING:tensorflow:Model was constructed with shape (None, 3, 1) for input KerasTensor(type_spec=TensorSpec(shape=(None, 3, 1), dtype=tf.float32, name='lstm_126_input'), name='lstm_126_input', description=\"created by layer 'lstm_126_input'\"), but it was called on an input with incompatible shape (None, 12, 1).\n",
      "WARNING:tensorflow:Model was constructed with shape (None, 4, 1) for input KerasTensor(type_spec=TensorSpec(shape=(None, 4, 1), dtype=tf.float32, name='lstm_127_input'), name='lstm_127_input', description=\"created by layer 'lstm_127_input'\"), but it was called on an input with incompatible shape (None, 12, 1).\n",
      "WARNING:tensorflow:Model was constructed with shape (None, 4, 1) for input KerasTensor(type_spec=TensorSpec(shape=(None, 4, 1), dtype=tf.float32, name='lstm_127_input'), name='lstm_127_input', description=\"created by layer 'lstm_127_input'\"), but it was called on an input with incompatible shape (None, 12, 1).\n",
      "WARNING:tensorflow:Model was constructed with shape (None, 4, 1) for input KerasTensor(type_spec=TensorSpec(shape=(None, 4, 1), dtype=tf.float32, name='lstm_127_input'), name='lstm_127_input', description=\"created by layer 'lstm_127_input'\"), but it was called on an input with incompatible shape (None, 12, 1).\n"
     ]
    },
    {
     "name": "stdout",
     "output_type": "stream",
     "text": [
      "WARNING:tensorflow:Model was constructed with shape (None, 5, 1) for input KerasTensor(type_spec=TensorSpec(shape=(None, 5, 1), dtype=tf.float32, name='lstm_128_input'), name='lstm_128_input', description=\"created by layer 'lstm_128_input'\"), but it was called on an input with incompatible shape (None, 12, 1).\n",
      "WARNING:tensorflow:Model was constructed with shape (None, 5, 1) for input KerasTensor(type_spec=TensorSpec(shape=(None, 5, 1), dtype=tf.float32, name='lstm_128_input'), name='lstm_128_input', description=\"created by layer 'lstm_128_input'\"), but it was called on an input with incompatible shape (None, 12, 1).\n",
      "WARNING:tensorflow:Model was constructed with shape (None, 5, 1) for input KerasTensor(type_spec=TensorSpec(shape=(None, 5, 1), dtype=tf.float32, name='lstm_128_input'), name='lstm_128_input', description=\"created by layer 'lstm_128_input'\"), but it was called on an input with incompatible shape (None, 12, 1).\n",
      "WARNING:tensorflow:Model was constructed with shape (None, 1, 1) for input KerasTensor(type_spec=TensorSpec(shape=(None, 1, 1), dtype=tf.float32, name='lstm_129_input'), name='lstm_129_input', description=\"created by layer 'lstm_129_input'\"), but it was called on an input with incompatible shape (None, 12, 1).\n",
      "WARNING:tensorflow:Model was constructed with shape (None, 1, 1) for input KerasTensor(type_spec=TensorSpec(shape=(None, 1, 1), dtype=tf.float32, name='lstm_129_input'), name='lstm_129_input', description=\"created by layer 'lstm_129_input'\"), but it was called on an input with incompatible shape (None, 12, 1).\n",
      "WARNING:tensorflow:Model was constructed with shape (None, 1, 1) for input KerasTensor(type_spec=TensorSpec(shape=(None, 1, 1), dtype=tf.float32, name='lstm_129_input'), name='lstm_129_input', description=\"created by layer 'lstm_129_input'\"), but it was called on an input with incompatible shape (None, 12, 1).\n",
      "WARNING:tensorflow:Model was constructed with shape (None, 2, 1) for input KerasTensor(type_spec=TensorSpec(shape=(None, 2, 1), dtype=tf.float32, name='lstm_130_input'), name='lstm_130_input', description=\"created by layer 'lstm_130_input'\"), but it was called on an input with incompatible shape (None, 12, 1).\n",
      "WARNING:tensorflow:Model was constructed with shape (None, 2, 1) for input KerasTensor(type_spec=TensorSpec(shape=(None, 2, 1), dtype=tf.float32, name='lstm_130_input'), name='lstm_130_input', description=\"created by layer 'lstm_130_input'\"), but it was called on an input with incompatible shape (None, 12, 1).\n",
      "WARNING:tensorflow:Model was constructed with shape (None, 2, 1) for input KerasTensor(type_spec=TensorSpec(shape=(None, 2, 1), dtype=tf.float32, name='lstm_130_input'), name='lstm_130_input', description=\"created by layer 'lstm_130_input'\"), but it was called on an input with incompatible shape (None, 12, 1).\n",
      "WARNING:tensorflow:Model was constructed with shape (None, 3, 1) for input KerasTensor(type_spec=TensorSpec(shape=(None, 3, 1), dtype=tf.float32, name='lstm_131_input'), name='lstm_131_input', description=\"created by layer 'lstm_131_input'\"), but it was called on an input with incompatible shape (None, 12, 1).\n",
      "WARNING:tensorflow:Model was constructed with shape (None, 3, 1) for input KerasTensor(type_spec=TensorSpec(shape=(None, 3, 1), dtype=tf.float32, name='lstm_131_input'), name='lstm_131_input', description=\"created by layer 'lstm_131_input'\"), but it was called on an input with incompatible shape (None, 12, 1).\n",
      "WARNING:tensorflow:Model was constructed with shape (None, 3, 1) for input KerasTensor(type_spec=TensorSpec(shape=(None, 3, 1), dtype=tf.float32, name='lstm_131_input'), name='lstm_131_input', description=\"created by layer 'lstm_131_input'\"), but it was called on an input with incompatible shape (None, 12, 1).\n",
      "WARNING:tensorflow:Model was constructed with shape (None, 4, 1) for input KerasTensor(type_spec=TensorSpec(shape=(None, 4, 1), dtype=tf.float32, name='lstm_132_input'), name='lstm_132_input', description=\"created by layer 'lstm_132_input'\"), but it was called on an input with incompatible shape (None, 12, 1).\n",
      "WARNING:tensorflow:Model was constructed with shape (None, 4, 1) for input KerasTensor(type_spec=TensorSpec(shape=(None, 4, 1), dtype=tf.float32, name='lstm_132_input'), name='lstm_132_input', description=\"created by layer 'lstm_132_input'\"), but it was called on an input with incompatible shape (None, 12, 1).\n",
      "WARNING:tensorflow:Model was constructed with shape (None, 4, 1) for input KerasTensor(type_spec=TensorSpec(shape=(None, 4, 1), dtype=tf.float32, name='lstm_132_input'), name='lstm_132_input', description=\"created by layer 'lstm_132_input'\"), but it was called on an input with incompatible shape (None, 12, 1).\n",
      "WARNING:tensorflow:Model was constructed with shape (None, 5, 1) for input KerasTensor(type_spec=TensorSpec(shape=(None, 5, 1), dtype=tf.float32, name='lstm_133_input'), name='lstm_133_input', description=\"created by layer 'lstm_133_input'\"), but it was called on an input with incompatible shape (None, 12, 1).\n",
      "WARNING:tensorflow:Model was constructed with shape (None, 5, 1) for input KerasTensor(type_spec=TensorSpec(shape=(None, 5, 1), dtype=tf.float32, name='lstm_133_input'), name='lstm_133_input', description=\"created by layer 'lstm_133_input'\"), but it was called on an input with incompatible shape (None, 12, 1).\n",
      "WARNING:tensorflow:Model was constructed with shape (None, 5, 1) for input KerasTensor(type_spec=TensorSpec(shape=(None, 5, 1), dtype=tf.float32, name='lstm_133_input'), name='lstm_133_input', description=\"created by layer 'lstm_133_input'\"), but it was called on an input with incompatible shape (None, 12, 1).\n",
      "WARNING:tensorflow:Model was constructed with shape (None, 1, 1) for input KerasTensor(type_spec=TensorSpec(shape=(None, 1, 1), dtype=tf.float32, name='lstm_134_input'), name='lstm_134_input', description=\"created by layer 'lstm_134_input'\"), but it was called on an input with incompatible shape (None, 12, 1).\n",
      "WARNING:tensorflow:Model was constructed with shape (None, 1, 1) for input KerasTensor(type_spec=TensorSpec(shape=(None, 1, 1), dtype=tf.float32, name='lstm_134_input'), name='lstm_134_input', description=\"created by layer 'lstm_134_input'\"), but it was called on an input with incompatible shape (None, 12, 1).\n",
      "WARNING:tensorflow:Model was constructed with shape (None, 1, 1) for input KerasTensor(type_spec=TensorSpec(shape=(None, 1, 1), dtype=tf.float32, name='lstm_134_input'), name='lstm_134_input', description=\"created by layer 'lstm_134_input'\"), but it was called on an input with incompatible shape (None, 12, 1).\n",
      "WARNING:tensorflow:Model was constructed with shape (None, 2, 1) for input KerasTensor(type_spec=TensorSpec(shape=(None, 2, 1), dtype=tf.float32, name='lstm_135_input'), name='lstm_135_input', description=\"created by layer 'lstm_135_input'\"), but it was called on an input with incompatible shape (None, 12, 1).\n",
      "WARNING:tensorflow:Model was constructed with shape (None, 2, 1) for input KerasTensor(type_spec=TensorSpec(shape=(None, 2, 1), dtype=tf.float32, name='lstm_135_input'), name='lstm_135_input', description=\"created by layer 'lstm_135_input'\"), but it was called on an input with incompatible shape (None, 12, 1).\n",
      "WARNING:tensorflow:Model was constructed with shape (None, 2, 1) for input KerasTensor(type_spec=TensorSpec(shape=(None, 2, 1), dtype=tf.float32, name='lstm_135_input'), name='lstm_135_input', description=\"created by layer 'lstm_135_input'\"), but it was called on an input with incompatible shape (None, 12, 1).\n",
      "WARNING:tensorflow:Model was constructed with shape (None, 3, 1) for input KerasTensor(type_spec=TensorSpec(shape=(None, 3, 1), dtype=tf.float32, name='lstm_136_input'), name='lstm_136_input', description=\"created by layer 'lstm_136_input'\"), but it was called on an input with incompatible shape (None, 12, 1).\n",
      "WARNING:tensorflow:Model was constructed with shape (None, 3, 1) for input KerasTensor(type_spec=TensorSpec(shape=(None, 3, 1), dtype=tf.float32, name='lstm_136_input'), name='lstm_136_input', description=\"created by layer 'lstm_136_input'\"), but it was called on an input with incompatible shape (None, 12, 1).\n",
      "WARNING:tensorflow:Model was constructed with shape (None, 3, 1) for input KerasTensor(type_spec=TensorSpec(shape=(None, 3, 1), dtype=tf.float32, name='lstm_136_input'), name='lstm_136_input', description=\"created by layer 'lstm_136_input'\"), but it was called on an input with incompatible shape (None, 12, 1).\n"
     ]
    },
    {
     "name": "stdout",
     "output_type": "stream",
     "text": [
      "WARNING:tensorflow:Model was constructed with shape (None, 4, 1) for input KerasTensor(type_spec=TensorSpec(shape=(None, 4, 1), dtype=tf.float32, name='lstm_137_input'), name='lstm_137_input', description=\"created by layer 'lstm_137_input'\"), but it was called on an input with incompatible shape (None, 12, 1).\n",
      "WARNING:tensorflow:Model was constructed with shape (None, 4, 1) for input KerasTensor(type_spec=TensorSpec(shape=(None, 4, 1), dtype=tf.float32, name='lstm_137_input'), name='lstm_137_input', description=\"created by layer 'lstm_137_input'\"), but it was called on an input with incompatible shape (None, 12, 1).\n",
      "WARNING:tensorflow:Model was constructed with shape (None, 4, 1) for input KerasTensor(type_spec=TensorSpec(shape=(None, 4, 1), dtype=tf.float32, name='lstm_137_input'), name='lstm_137_input', description=\"created by layer 'lstm_137_input'\"), but it was called on an input with incompatible shape (None, 12, 1).\n",
      "WARNING:tensorflow:Model was constructed with shape (None, 5, 1) for input KerasTensor(type_spec=TensorSpec(shape=(None, 5, 1), dtype=tf.float32, name='lstm_138_input'), name='lstm_138_input', description=\"created by layer 'lstm_138_input'\"), but it was called on an input with incompatible shape (None, 12, 1).\n",
      "WARNING:tensorflow:Model was constructed with shape (None, 5, 1) for input KerasTensor(type_spec=TensorSpec(shape=(None, 5, 1), dtype=tf.float32, name='lstm_138_input'), name='lstm_138_input', description=\"created by layer 'lstm_138_input'\"), but it was called on an input with incompatible shape (None, 12, 1).\n",
      "WARNING:tensorflow:Model was constructed with shape (None, 5, 1) for input KerasTensor(type_spec=TensorSpec(shape=(None, 5, 1), dtype=tf.float32, name='lstm_138_input'), name='lstm_138_input', description=\"created by layer 'lstm_138_input'\"), but it was called on an input with incompatible shape (None, 12, 1).\n",
      "WARNING:tensorflow:Model was constructed with shape (None, 1, 1) for input KerasTensor(type_spec=TensorSpec(shape=(None, 1, 1), dtype=tf.float32, name='lstm_139_input'), name='lstm_139_input', description=\"created by layer 'lstm_139_input'\"), but it was called on an input with incompatible shape (None, 12, 1).\n",
      "WARNING:tensorflow:Model was constructed with shape (None, 1, 1) for input KerasTensor(type_spec=TensorSpec(shape=(None, 1, 1), dtype=tf.float32, name='lstm_139_input'), name='lstm_139_input', description=\"created by layer 'lstm_139_input'\"), but it was called on an input with incompatible shape (None, 12, 1).\n",
      "WARNING:tensorflow:Model was constructed with shape (None, 1, 1) for input KerasTensor(type_spec=TensorSpec(shape=(None, 1, 1), dtype=tf.float32, name='lstm_139_input'), name='lstm_139_input', description=\"created by layer 'lstm_139_input'\"), but it was called on an input with incompatible shape (None, 12, 1).\n",
      "WARNING:tensorflow:Model was constructed with shape (None, 2, 1) for input KerasTensor(type_spec=TensorSpec(shape=(None, 2, 1), dtype=tf.float32, name='lstm_141_input'), name='lstm_141_input', description=\"created by layer 'lstm_141_input'\"), but it was called on an input with incompatible shape (None, 12, 1).\n",
      "WARNING:tensorflow:Model was constructed with shape (None, 2, 1) for input KerasTensor(type_spec=TensorSpec(shape=(None, 2, 1), dtype=tf.float32, name='lstm_141_input'), name='lstm_141_input', description=\"created by layer 'lstm_141_input'\"), but it was called on an input with incompatible shape (None, 12, 1).\n",
      "WARNING:tensorflow:Model was constructed with shape (None, 2, 1) for input KerasTensor(type_spec=TensorSpec(shape=(None, 2, 1), dtype=tf.float32, name='lstm_141_input'), name='lstm_141_input', description=\"created by layer 'lstm_141_input'\"), but it was called on an input with incompatible shape (None, 12, 1).\n",
      "WARNING:tensorflow:Model was constructed with shape (None, 3, 1) for input KerasTensor(type_spec=TensorSpec(shape=(None, 3, 1), dtype=tf.float32, name='lstm_143_input'), name='lstm_143_input', description=\"created by layer 'lstm_143_input'\"), but it was called on an input with incompatible shape (None, 12, 1).\n",
      "WARNING:tensorflow:Model was constructed with shape (None, 3, 1) for input KerasTensor(type_spec=TensorSpec(shape=(None, 3, 1), dtype=tf.float32, name='lstm_143_input'), name='lstm_143_input', description=\"created by layer 'lstm_143_input'\"), but it was called on an input with incompatible shape (None, 12, 1).\n",
      "WARNING:tensorflow:Model was constructed with shape (None, 3, 1) for input KerasTensor(type_spec=TensorSpec(shape=(None, 3, 1), dtype=tf.float32, name='lstm_143_input'), name='lstm_143_input', description=\"created by layer 'lstm_143_input'\"), but it was called on an input with incompatible shape (None, 12, 1).\n",
      "WARNING:tensorflow:Model was constructed with shape (None, 4, 1) for input KerasTensor(type_spec=TensorSpec(shape=(None, 4, 1), dtype=tf.float32, name='lstm_145_input'), name='lstm_145_input', description=\"created by layer 'lstm_145_input'\"), but it was called on an input with incompatible shape (None, 12, 1).\n",
      "WARNING:tensorflow:Model was constructed with shape (None, 4, 1) for input KerasTensor(type_spec=TensorSpec(shape=(None, 4, 1), dtype=tf.float32, name='lstm_145_input'), name='lstm_145_input', description=\"created by layer 'lstm_145_input'\"), but it was called on an input with incompatible shape (None, 12, 1).\n",
      "WARNING:tensorflow:Model was constructed with shape (None, 4, 1) for input KerasTensor(type_spec=TensorSpec(shape=(None, 4, 1), dtype=tf.float32, name='lstm_145_input'), name='lstm_145_input', description=\"created by layer 'lstm_145_input'\"), but it was called on an input with incompatible shape (None, 12, 1).\n",
      "WARNING:tensorflow:Model was constructed with shape (None, 5, 1) for input KerasTensor(type_spec=TensorSpec(shape=(None, 5, 1), dtype=tf.float32, name='lstm_147_input'), name='lstm_147_input', description=\"created by layer 'lstm_147_input'\"), but it was called on an input with incompatible shape (None, 12, 1).\n",
      "WARNING:tensorflow:Model was constructed with shape (None, 5, 1) for input KerasTensor(type_spec=TensorSpec(shape=(None, 5, 1), dtype=tf.float32, name='lstm_147_input'), name='lstm_147_input', description=\"created by layer 'lstm_147_input'\"), but it was called on an input with incompatible shape (None, 12, 1).\n",
      "WARNING:tensorflow:Model was constructed with shape (None, 5, 1) for input KerasTensor(type_spec=TensorSpec(shape=(None, 5, 1), dtype=tf.float32, name='lstm_147_input'), name='lstm_147_input', description=\"created by layer 'lstm_147_input'\"), but it was called on an input with incompatible shape (None, 12, 1).\n",
      "WARNING:tensorflow:Model was constructed with shape (None, 1, 1) for input KerasTensor(type_spec=TensorSpec(shape=(None, 1, 1), dtype=tf.float32, name='lstm_149_input'), name='lstm_149_input', description=\"created by layer 'lstm_149_input'\"), but it was called on an input with incompatible shape (None, 12, 1).\n",
      "WARNING:tensorflow:Model was constructed with shape (None, 1, 1) for input KerasTensor(type_spec=TensorSpec(shape=(None, 1, 1), dtype=tf.float32, name='lstm_149_input'), name='lstm_149_input', description=\"created by layer 'lstm_149_input'\"), but it was called on an input with incompatible shape (None, 12, 1).\n",
      "WARNING:tensorflow:Model was constructed with shape (None, 1, 1) for input KerasTensor(type_spec=TensorSpec(shape=(None, 1, 1), dtype=tf.float32, name='lstm_149_input'), name='lstm_149_input', description=\"created by layer 'lstm_149_input'\"), but it was called on an input with incompatible shape (None, 12, 1).\n",
      "WARNING:tensorflow:Model was constructed with shape (None, 2, 1) for input KerasTensor(type_spec=TensorSpec(shape=(None, 2, 1), dtype=tf.float32, name='lstm_151_input'), name='lstm_151_input', description=\"created by layer 'lstm_151_input'\"), but it was called on an input with incompatible shape (None, 12, 1).\n",
      "WARNING:tensorflow:Model was constructed with shape (None, 2, 1) for input KerasTensor(type_spec=TensorSpec(shape=(None, 2, 1), dtype=tf.float32, name='lstm_151_input'), name='lstm_151_input', description=\"created by layer 'lstm_151_input'\"), but it was called on an input with incompatible shape (None, 12, 1).\n",
      "WARNING:tensorflow:Model was constructed with shape (None, 2, 1) for input KerasTensor(type_spec=TensorSpec(shape=(None, 2, 1), dtype=tf.float32, name='lstm_151_input'), name='lstm_151_input', description=\"created by layer 'lstm_151_input'\"), but it was called on an input with incompatible shape (None, 12, 1).\n"
     ]
    },
    {
     "name": "stdout",
     "output_type": "stream",
     "text": [
      "WARNING:tensorflow:Model was constructed with shape (None, 3, 1) for input KerasTensor(type_spec=TensorSpec(shape=(None, 3, 1), dtype=tf.float32, name='lstm_153_input'), name='lstm_153_input', description=\"created by layer 'lstm_153_input'\"), but it was called on an input with incompatible shape (None, 12, 1).\n",
      "WARNING:tensorflow:Model was constructed with shape (None, 3, 1) for input KerasTensor(type_spec=TensorSpec(shape=(None, 3, 1), dtype=tf.float32, name='lstm_153_input'), name='lstm_153_input', description=\"created by layer 'lstm_153_input'\"), but it was called on an input with incompatible shape (None, 12, 1).\n",
      "WARNING:tensorflow:Model was constructed with shape (None, 3, 1) for input KerasTensor(type_spec=TensorSpec(shape=(None, 3, 1), dtype=tf.float32, name='lstm_153_input'), name='lstm_153_input', description=\"created by layer 'lstm_153_input'\"), but it was called on an input with incompatible shape (None, 12, 1).\n",
      "WARNING:tensorflow:Model was constructed with shape (None, 4, 1) for input KerasTensor(type_spec=TensorSpec(shape=(None, 4, 1), dtype=tf.float32, name='lstm_155_input'), name='lstm_155_input', description=\"created by layer 'lstm_155_input'\"), but it was called on an input with incompatible shape (None, 12, 1).\n",
      "WARNING:tensorflow:Model was constructed with shape (None, 4, 1) for input KerasTensor(type_spec=TensorSpec(shape=(None, 4, 1), dtype=tf.float32, name='lstm_155_input'), name='lstm_155_input', description=\"created by layer 'lstm_155_input'\"), but it was called on an input with incompatible shape (None, 12, 1).\n",
      "WARNING:tensorflow:Model was constructed with shape (None, 4, 1) for input KerasTensor(type_spec=TensorSpec(shape=(None, 4, 1), dtype=tf.float32, name='lstm_155_input'), name='lstm_155_input', description=\"created by layer 'lstm_155_input'\"), but it was called on an input with incompatible shape (None, 12, 1).\n",
      "WARNING:tensorflow:Model was constructed with shape (None, 5, 1) for input KerasTensor(type_spec=TensorSpec(shape=(None, 5, 1), dtype=tf.float32, name='lstm_157_input'), name='lstm_157_input', description=\"created by layer 'lstm_157_input'\"), but it was called on an input with incompatible shape (None, 12, 1).\n",
      "WARNING:tensorflow:Model was constructed with shape (None, 5, 1) for input KerasTensor(type_spec=TensorSpec(shape=(None, 5, 1), dtype=tf.float32, name='lstm_157_input'), name='lstm_157_input', description=\"created by layer 'lstm_157_input'\"), but it was called on an input with incompatible shape (None, 12, 1).\n",
      "WARNING:tensorflow:Model was constructed with shape (None, 5, 1) for input KerasTensor(type_spec=TensorSpec(shape=(None, 5, 1), dtype=tf.float32, name='lstm_157_input'), name='lstm_157_input', description=\"created by layer 'lstm_157_input'\"), but it was called on an input with incompatible shape (None, 12, 1).\n",
      "WARNING:tensorflow:Model was constructed with shape (None, 1, 1) for input KerasTensor(type_spec=TensorSpec(shape=(None, 1, 1), dtype=tf.float32, name='lstm_159_input'), name='lstm_159_input', description=\"created by layer 'lstm_159_input'\"), but it was called on an input with incompatible shape (None, 12, 1).\n",
      "WARNING:tensorflow:Model was constructed with shape (None, 1, 1) for input KerasTensor(type_spec=TensorSpec(shape=(None, 1, 1), dtype=tf.float32, name='lstm_159_input'), name='lstm_159_input', description=\"created by layer 'lstm_159_input'\"), but it was called on an input with incompatible shape (None, 12, 1).\n",
      "WARNING:tensorflow:Model was constructed with shape (None, 1, 1) for input KerasTensor(type_spec=TensorSpec(shape=(None, 1, 1), dtype=tf.float32, name='lstm_159_input'), name='lstm_159_input', description=\"created by layer 'lstm_159_input'\"), but it was called on an input with incompatible shape (None, 12, 1).\n",
      "WARNING:tensorflow:Model was constructed with shape (None, 2, 1) for input KerasTensor(type_spec=TensorSpec(shape=(None, 2, 1), dtype=tf.float32, name='lstm_161_input'), name='lstm_161_input', description=\"created by layer 'lstm_161_input'\"), but it was called on an input with incompatible shape (None, 12, 1).\n",
      "WARNING:tensorflow:Model was constructed with shape (None, 2, 1) for input KerasTensor(type_spec=TensorSpec(shape=(None, 2, 1), dtype=tf.float32, name='lstm_161_input'), name='lstm_161_input', description=\"created by layer 'lstm_161_input'\"), but it was called on an input with incompatible shape (None, 12, 1).\n",
      "WARNING:tensorflow:Model was constructed with shape (None, 2, 1) for input KerasTensor(type_spec=TensorSpec(shape=(None, 2, 1), dtype=tf.float32, name='lstm_161_input'), name='lstm_161_input', description=\"created by layer 'lstm_161_input'\"), but it was called on an input with incompatible shape (None, 12, 1).\n",
      "WARNING:tensorflow:Model was constructed with shape (None, 3, 1) for input KerasTensor(type_spec=TensorSpec(shape=(None, 3, 1), dtype=tf.float32, name='lstm_163_input'), name='lstm_163_input', description=\"created by layer 'lstm_163_input'\"), but it was called on an input with incompatible shape (None, 12, 1).\n",
      "WARNING:tensorflow:Model was constructed with shape (None, 3, 1) for input KerasTensor(type_spec=TensorSpec(shape=(None, 3, 1), dtype=tf.float32, name='lstm_163_input'), name='lstm_163_input', description=\"created by layer 'lstm_163_input'\"), but it was called on an input with incompatible shape (None, 12, 1).\n",
      "WARNING:tensorflow:Model was constructed with shape (None, 3, 1) for input KerasTensor(type_spec=TensorSpec(shape=(None, 3, 1), dtype=tf.float32, name='lstm_163_input'), name='lstm_163_input', description=\"created by layer 'lstm_163_input'\"), but it was called on an input with incompatible shape (None, 12, 1).\n",
      "WARNING:tensorflow:Model was constructed with shape (None, 4, 1) for input KerasTensor(type_spec=TensorSpec(shape=(None, 4, 1), dtype=tf.float32, name='lstm_165_input'), name='lstm_165_input', description=\"created by layer 'lstm_165_input'\"), but it was called on an input with incompatible shape (None, 12, 1).\n",
      "WARNING:tensorflow:Model was constructed with shape (None, 4, 1) for input KerasTensor(type_spec=TensorSpec(shape=(None, 4, 1), dtype=tf.float32, name='lstm_165_input'), name='lstm_165_input', description=\"created by layer 'lstm_165_input'\"), but it was called on an input with incompatible shape (None, 12, 1).\n",
      "WARNING:tensorflow:Model was constructed with shape (None, 4, 1) for input KerasTensor(type_spec=TensorSpec(shape=(None, 4, 1), dtype=tf.float32, name='lstm_165_input'), name='lstm_165_input', description=\"created by layer 'lstm_165_input'\"), but it was called on an input with incompatible shape (None, 12, 1).\n",
      "WARNING:tensorflow:Model was constructed with shape (None, 5, 1) for input KerasTensor(type_spec=TensorSpec(shape=(None, 5, 1), dtype=tf.float32, name='lstm_167_input'), name='lstm_167_input', description=\"created by layer 'lstm_167_input'\"), but it was called on an input with incompatible shape (None, 12, 1).\n",
      "WARNING:tensorflow:Model was constructed with shape (None, 5, 1) for input KerasTensor(type_spec=TensorSpec(shape=(None, 5, 1), dtype=tf.float32, name='lstm_167_input'), name='lstm_167_input', description=\"created by layer 'lstm_167_input'\"), but it was called on an input with incompatible shape (None, 12, 1).\n",
      "WARNING:tensorflow:Model was constructed with shape (None, 5, 1) for input KerasTensor(type_spec=TensorSpec(shape=(None, 5, 1), dtype=tf.float32, name='lstm_167_input'), name='lstm_167_input', description=\"created by layer 'lstm_167_input'\"), but it was called on an input with incompatible shape (None, 12, 1).\n",
      "WARNING:tensorflow:Model was constructed with shape (None, 1, 1) for input KerasTensor(type_spec=TensorSpec(shape=(None, 1, 1), dtype=tf.float32, name='lstm_169_input'), name='lstm_169_input', description=\"created by layer 'lstm_169_input'\"), but it was called on an input with incompatible shape (None, 12, 1).\n",
      "WARNING:tensorflow:Model was constructed with shape (None, 1, 1) for input KerasTensor(type_spec=TensorSpec(shape=(None, 1, 1), dtype=tf.float32, name='lstm_169_input'), name='lstm_169_input', description=\"created by layer 'lstm_169_input'\"), but it was called on an input with incompatible shape (None, 12, 1).\n",
      "WARNING:tensorflow:Model was constructed with shape (None, 1, 1) for input KerasTensor(type_spec=TensorSpec(shape=(None, 1, 1), dtype=tf.float32, name='lstm_169_input'), name='lstm_169_input', description=\"created by layer 'lstm_169_input'\"), but it was called on an input with incompatible shape (None, 12, 1).\n"
     ]
    },
    {
     "name": "stdout",
     "output_type": "stream",
     "text": [
      "WARNING:tensorflow:Model was constructed with shape (None, 2, 1) for input KerasTensor(type_spec=TensorSpec(shape=(None, 2, 1), dtype=tf.float32, name='lstm_172_input'), name='lstm_172_input', description=\"created by layer 'lstm_172_input'\"), but it was called on an input with incompatible shape (None, 12, 1).\n",
      "WARNING:tensorflow:Model was constructed with shape (None, 2, 1) for input KerasTensor(type_spec=TensorSpec(shape=(None, 2, 1), dtype=tf.float32, name='lstm_172_input'), name='lstm_172_input', description=\"created by layer 'lstm_172_input'\"), but it was called on an input with incompatible shape (None, 12, 1).\n",
      "WARNING:tensorflow:Model was constructed with shape (None, 2, 1) for input KerasTensor(type_spec=TensorSpec(shape=(None, 2, 1), dtype=tf.float32, name='lstm_172_input'), name='lstm_172_input', description=\"created by layer 'lstm_172_input'\"), but it was called on an input with incompatible shape (None, 12, 1).\n",
      "WARNING:tensorflow:Model was constructed with shape (None, 3, 1) for input KerasTensor(type_spec=TensorSpec(shape=(None, 3, 1), dtype=tf.float32, name='lstm_175_input'), name='lstm_175_input', description=\"created by layer 'lstm_175_input'\"), but it was called on an input with incompatible shape (None, 12, 1).\n",
      "WARNING:tensorflow:Model was constructed with shape (None, 3, 1) for input KerasTensor(type_spec=TensorSpec(shape=(None, 3, 1), dtype=tf.float32, name='lstm_175_input'), name='lstm_175_input', description=\"created by layer 'lstm_175_input'\"), but it was called on an input with incompatible shape (None, 12, 1).\n",
      "WARNING:tensorflow:Model was constructed with shape (None, 3, 1) for input KerasTensor(type_spec=TensorSpec(shape=(None, 3, 1), dtype=tf.float32, name='lstm_175_input'), name='lstm_175_input', description=\"created by layer 'lstm_175_input'\"), but it was called on an input with incompatible shape (None, 12, 1).\n",
      "WARNING:tensorflow:Model was constructed with shape (None, 4, 1) for input KerasTensor(type_spec=TensorSpec(shape=(None, 4, 1), dtype=tf.float32, name='lstm_178_input'), name='lstm_178_input', description=\"created by layer 'lstm_178_input'\"), but it was called on an input with incompatible shape (None, 12, 1).\n",
      "WARNING:tensorflow:Model was constructed with shape (None, 4, 1) for input KerasTensor(type_spec=TensorSpec(shape=(None, 4, 1), dtype=tf.float32, name='lstm_178_input'), name='lstm_178_input', description=\"created by layer 'lstm_178_input'\"), but it was called on an input with incompatible shape (None, 12, 1).\n",
      "WARNING:tensorflow:Model was constructed with shape (None, 4, 1) for input KerasTensor(type_spec=TensorSpec(shape=(None, 4, 1), dtype=tf.float32, name='lstm_178_input'), name='lstm_178_input', description=\"created by layer 'lstm_178_input'\"), but it was called on an input with incompatible shape (None, 12, 1).\n",
      "WARNING:tensorflow:Model was constructed with shape (None, 5, 1) for input KerasTensor(type_spec=TensorSpec(shape=(None, 5, 1), dtype=tf.float32, name='lstm_181_input'), name='lstm_181_input', description=\"created by layer 'lstm_181_input'\"), but it was called on an input with incompatible shape (None, 12, 1).\n",
      "WARNING:tensorflow:Model was constructed with shape (None, 5, 1) for input KerasTensor(type_spec=TensorSpec(shape=(None, 5, 1), dtype=tf.float32, name='lstm_181_input'), name='lstm_181_input', description=\"created by layer 'lstm_181_input'\"), but it was called on an input with incompatible shape (None, 12, 1).\n",
      "WARNING:tensorflow:Model was constructed with shape (None, 5, 1) for input KerasTensor(type_spec=TensorSpec(shape=(None, 5, 1), dtype=tf.float32, name='lstm_181_input'), name='lstm_181_input', description=\"created by layer 'lstm_181_input'\"), but it was called on an input with incompatible shape (None, 12, 1).\n",
      "WARNING:tensorflow:Model was constructed with shape (None, 1, 1) for input KerasTensor(type_spec=TensorSpec(shape=(None, 1, 1), dtype=tf.float32, name='lstm_184_input'), name='lstm_184_input', description=\"created by layer 'lstm_184_input'\"), but it was called on an input with incompatible shape (None, 12, 1).\n",
      "WARNING:tensorflow:Model was constructed with shape (None, 1, 1) for input KerasTensor(type_spec=TensorSpec(shape=(None, 1, 1), dtype=tf.float32, name='lstm_184_input'), name='lstm_184_input', description=\"created by layer 'lstm_184_input'\"), but it was called on an input with incompatible shape (None, 12, 1).\n",
      "WARNING:tensorflow:Model was constructed with shape (None, 1, 1) for input KerasTensor(type_spec=TensorSpec(shape=(None, 1, 1), dtype=tf.float32, name='lstm_184_input'), name='lstm_184_input', description=\"created by layer 'lstm_184_input'\"), but it was called on an input with incompatible shape (None, 12, 1).\n",
      "WARNING:tensorflow:Model was constructed with shape (None, 2, 1) for input KerasTensor(type_spec=TensorSpec(shape=(None, 2, 1), dtype=tf.float32, name='lstm_187_input'), name='lstm_187_input', description=\"created by layer 'lstm_187_input'\"), but it was called on an input with incompatible shape (None, 12, 1).\n",
      "WARNING:tensorflow:Model was constructed with shape (None, 2, 1) for input KerasTensor(type_spec=TensorSpec(shape=(None, 2, 1), dtype=tf.float32, name='lstm_187_input'), name='lstm_187_input', description=\"created by layer 'lstm_187_input'\"), but it was called on an input with incompatible shape (None, 12, 1).\n",
      "WARNING:tensorflow:Model was constructed with shape (None, 2, 1) for input KerasTensor(type_spec=TensorSpec(shape=(None, 2, 1), dtype=tf.float32, name='lstm_187_input'), name='lstm_187_input', description=\"created by layer 'lstm_187_input'\"), but it was called on an input with incompatible shape (None, 12, 1).\n",
      "WARNING:tensorflow:Model was constructed with shape (None, 3, 1) for input KerasTensor(type_spec=TensorSpec(shape=(None, 3, 1), dtype=tf.float32, name='lstm_190_input'), name='lstm_190_input', description=\"created by layer 'lstm_190_input'\"), but it was called on an input with incompatible shape (None, 12, 1).\n",
      "WARNING:tensorflow:Model was constructed with shape (None, 3, 1) for input KerasTensor(type_spec=TensorSpec(shape=(None, 3, 1), dtype=tf.float32, name='lstm_190_input'), name='lstm_190_input', description=\"created by layer 'lstm_190_input'\"), but it was called on an input with incompatible shape (None, 12, 1).\n",
      "WARNING:tensorflow:Model was constructed with shape (None, 3, 1) for input KerasTensor(type_spec=TensorSpec(shape=(None, 3, 1), dtype=tf.float32, name='lstm_190_input'), name='lstm_190_input', description=\"created by layer 'lstm_190_input'\"), but it was called on an input with incompatible shape (None, 12, 1).\n",
      "WARNING:tensorflow:Model was constructed with shape (None, 4, 1) for input KerasTensor(type_spec=TensorSpec(shape=(None, 4, 1), dtype=tf.float32, name='lstm_193_input'), name='lstm_193_input', description=\"created by layer 'lstm_193_input'\"), but it was called on an input with incompatible shape (None, 12, 1).\n",
      "WARNING:tensorflow:Model was constructed with shape (None, 4, 1) for input KerasTensor(type_spec=TensorSpec(shape=(None, 4, 1), dtype=tf.float32, name='lstm_193_input'), name='lstm_193_input', description=\"created by layer 'lstm_193_input'\"), but it was called on an input with incompatible shape (None, 12, 1).\n",
      "WARNING:tensorflow:Model was constructed with shape (None, 4, 1) for input KerasTensor(type_spec=TensorSpec(shape=(None, 4, 1), dtype=tf.float32, name='lstm_193_input'), name='lstm_193_input', description=\"created by layer 'lstm_193_input'\"), but it was called on an input with incompatible shape (None, 12, 1).\n",
      "WARNING:tensorflow:Model was constructed with shape (None, 5, 1) for input KerasTensor(type_spec=TensorSpec(shape=(None, 5, 1), dtype=tf.float32, name='lstm_196_input'), name='lstm_196_input', description=\"created by layer 'lstm_196_input'\"), but it was called on an input with incompatible shape (None, 12, 1).\n",
      "WARNING:tensorflow:Model was constructed with shape (None, 5, 1) for input KerasTensor(type_spec=TensorSpec(shape=(None, 5, 1), dtype=tf.float32, name='lstm_196_input'), name='lstm_196_input', description=\"created by layer 'lstm_196_input'\"), but it was called on an input with incompatible shape (None, 12, 1).\n",
      "WARNING:tensorflow:Model was constructed with shape (None, 5, 1) for input KerasTensor(type_spec=TensorSpec(shape=(None, 5, 1), dtype=tf.float32, name='lstm_196_input'), name='lstm_196_input', description=\"created by layer 'lstm_196_input'\"), but it was called on an input with incompatible shape (None, 12, 1).\n"
     ]
    },
    {
     "name": "stdout",
     "output_type": "stream",
     "text": [
      "WARNING:tensorflow:Model was constructed with shape (None, 1, 1) for input KerasTensor(type_spec=TensorSpec(shape=(None, 1, 1), dtype=tf.float32, name='lstm_199_input'), name='lstm_199_input', description=\"created by layer 'lstm_199_input'\"), but it was called on an input with incompatible shape (None, 12, 1).\n",
      "WARNING:tensorflow:Model was constructed with shape (None, 1, 1) for input KerasTensor(type_spec=TensorSpec(shape=(None, 1, 1), dtype=tf.float32, name='lstm_199_input'), name='lstm_199_input', description=\"created by layer 'lstm_199_input'\"), but it was called on an input with incompatible shape (None, 12, 1).\n",
      "WARNING:tensorflow:Model was constructed with shape (None, 1, 1) for input KerasTensor(type_spec=TensorSpec(shape=(None, 1, 1), dtype=tf.float32, name='lstm_199_input'), name='lstm_199_input', description=\"created by layer 'lstm_199_input'\"), but it was called on an input with incompatible shape (None, 12, 1).\n",
      "WARNING:tensorflow:Model was constructed with shape (None, 2, 1) for input KerasTensor(type_spec=TensorSpec(shape=(None, 2, 1), dtype=tf.float32, name='lstm_202_input'), name='lstm_202_input', description=\"created by layer 'lstm_202_input'\"), but it was called on an input with incompatible shape (None, 12, 1).\n",
      "WARNING:tensorflow:Model was constructed with shape (None, 2, 1) for input KerasTensor(type_spec=TensorSpec(shape=(None, 2, 1), dtype=tf.float32, name='lstm_202_input'), name='lstm_202_input', description=\"created by layer 'lstm_202_input'\"), but it was called on an input with incompatible shape (None, 12, 1).\n",
      "WARNING:tensorflow:Model was constructed with shape (None, 2, 1) for input KerasTensor(type_spec=TensorSpec(shape=(None, 2, 1), dtype=tf.float32, name='lstm_202_input'), name='lstm_202_input', description=\"created by layer 'lstm_202_input'\"), but it was called on an input with incompatible shape (None, 12, 1).\n",
      "WARNING:tensorflow:Model was constructed with shape (None, 3, 1) for input KerasTensor(type_spec=TensorSpec(shape=(None, 3, 1), dtype=tf.float32, name='lstm_205_input'), name='lstm_205_input', description=\"created by layer 'lstm_205_input'\"), but it was called on an input with incompatible shape (None, 12, 1).\n",
      "WARNING:tensorflow:Model was constructed with shape (None, 3, 1) for input KerasTensor(type_spec=TensorSpec(shape=(None, 3, 1), dtype=tf.float32, name='lstm_205_input'), name='lstm_205_input', description=\"created by layer 'lstm_205_input'\"), but it was called on an input with incompatible shape (None, 12, 1).\n",
      "WARNING:tensorflow:Model was constructed with shape (None, 3, 1) for input KerasTensor(type_spec=TensorSpec(shape=(None, 3, 1), dtype=tf.float32, name='lstm_205_input'), name='lstm_205_input', description=\"created by layer 'lstm_205_input'\"), but it was called on an input with incompatible shape (None, 12, 1).\n",
      "WARNING:tensorflow:Model was constructed with shape (None, 4, 1) for input KerasTensor(type_spec=TensorSpec(shape=(None, 4, 1), dtype=tf.float32, name='lstm_208_input'), name='lstm_208_input', description=\"created by layer 'lstm_208_input'\"), but it was called on an input with incompatible shape (None, 12, 1).\n",
      "WARNING:tensorflow:Model was constructed with shape (None, 4, 1) for input KerasTensor(type_spec=TensorSpec(shape=(None, 4, 1), dtype=tf.float32, name='lstm_208_input'), name='lstm_208_input', description=\"created by layer 'lstm_208_input'\"), but it was called on an input with incompatible shape (None, 12, 1).\n",
      "WARNING:tensorflow:Model was constructed with shape (None, 4, 1) for input KerasTensor(type_spec=TensorSpec(shape=(None, 4, 1), dtype=tf.float32, name='lstm_208_input'), name='lstm_208_input', description=\"created by layer 'lstm_208_input'\"), but it was called on an input with incompatible shape (None, 12, 1).\n",
      "WARNING:tensorflow:Model was constructed with shape (None, 5, 1) for input KerasTensor(type_spec=TensorSpec(shape=(None, 5, 1), dtype=tf.float32, name='lstm_211_input'), name='lstm_211_input', description=\"created by layer 'lstm_211_input'\"), but it was called on an input with incompatible shape (None, 12, 1).\n",
      "WARNING:tensorflow:Model was constructed with shape (None, 5, 1) for input KerasTensor(type_spec=TensorSpec(shape=(None, 5, 1), dtype=tf.float32, name='lstm_211_input'), name='lstm_211_input', description=\"created by layer 'lstm_211_input'\"), but it was called on an input with incompatible shape (None, 12, 1).\n",
      "WARNING:tensorflow:Model was constructed with shape (None, 5, 1) for input KerasTensor(type_spec=TensorSpec(shape=(None, 5, 1), dtype=tf.float32, name='lstm_211_input'), name='lstm_211_input', description=\"created by layer 'lstm_211_input'\"), but it was called on an input with incompatible shape (None, 12, 1).\n"
     ]
    }
   ],
   "source": [
    "res = []\n",
    "# 1 layer\n",
    "for unit in (4,8,16,32):\n",
    "    for time_step in (1,2,3,4,5):\n",
    "        res.append((([unit],time_step),LSTM_GS([unit], time_step)))\n",
    "\n",
    "# 2 layers\n",
    "for unit in (8,16,32):\n",
    "    for time_step in (1,2,3,4,5):\n",
    "        res.append((([unit, unit//2],time_step),LSTM_GS([unit, unit//2], time_step)))\n",
    "\n",
    "# 3 layers\n",
    "for unit in (8,16,32):\n",
    "    for time_step in (1,2,3,4,5):\n",
    "        res.append((([unit, unit//2, unit//4],time_step),LSTM_GS([unit, unit//2, unit//4], time_step)))"
   ]
  },
  {
   "cell_type": "code",
   "execution_count": 71,
   "metadata": {},
   "outputs": [
    {
     "data": {
      "text/plain": [
       "(([4], 1), (0.5, 0.5))"
      ]
     },
     "execution_count": 71,
     "metadata": {},
     "output_type": "execute_result"
    }
   ],
   "source": [
    "# best combi\n",
    "sorted(res, key = lambda x : x[1])[0]"
   ]
  },
  {
   "cell_type": "code",
   "execution_count": 72,
   "metadata": {},
   "outputs": [],
   "source": [
    "layer_config = sorted(res, key = lambda x : x[1])[0][0][0]\n",
    "time_config = sorted(res, key = lambda x : x[1])[0][0][1]"
   ]
  },
  {
   "cell_type": "code",
   "execution_count": null,
   "metadata": {},
   "outputs": [],
   "source": []
  },
  {
   "cell_type": "markdown",
   "metadata": {},
   "source": [
    "#### 7. Define a function to retrain the model with selected hyperparameters and all data avilable"
   ]
  },
  {
   "cell_type": "code",
   "execution_count": 74,
   "metadata": {},
   "outputs": [],
   "source": [
    "x_refit = data.drop([\"date\", \"class_y\"], axis = 1)\n",
    "y_refit = data[\"class_y\"]\n",
    "x_refit_trans = sc.transform(x_refit)\n",
    "x_refit_trans = x_refit_trans.reshape(x_refit_trans.shape[0], x_refit_trans.shape[1], 1)"
   ]
  },
  {
   "cell_type": "code",
   "execution_count": 75,
   "metadata": {},
   "outputs": [],
   "source": [
    "def LSTM_pipe(layer_spe, time_step):\n",
    "    regressor = Sequential()\n",
    "    count = 0\n",
    "    for unit in layer_spe:\n",
    "        count += 1 \n",
    "        if len(layer_spe) == 1:\n",
    "            regressor.add(LSTM(unit, activation = \"relu\", input_shape = (time_step, 1))) # batch size, time steps, data dimension\n",
    "            regressor.add(Dropout(0.3))\n",
    "        else:\n",
    "            if count == 1:\n",
    "                regressor.add(LSTM(unit, activation = \"relu\", return_sequences=True, input_shape = (time_step, 1))) # batch size, time steps, data dimension\n",
    "                regressor.add(Dropout(0.3))\n",
    "            elif count < len(layer_spe): \n",
    "                regressor.add(LSTM(unit, activation = \"relu\", return_sequences=True))\n",
    "                regressor.add(Dropout(0.3))\n",
    "            else:\n",
    "                regressor.add(LSTM(unit, activation = \"relu\"))\n",
    "                regressor.add(Dropout(0.3))\n",
    "            \n",
    "    regressor.add(Dense(units = 1, activation = \"sigmoid\"))\n",
    "    regressor.compile(optimizer = 'Adam', loss = \"binary_crossentropy\", metrics=['accuracy'])\n",
    "    regressor.fit(x_train_trans, y_train, epochs = 200, verbose = 0)\n",
    "    \n",
    "    return regressor"
   ]
  },
  {
   "cell_type": "code",
   "execution_count": 76,
   "metadata": {},
   "outputs": [
    {
     "name": "stdout",
     "output_type": "stream",
     "text": [
      "WARNING:tensorflow:Model was constructed with shape (None, 1, 1) for input KerasTensor(type_spec=TensorSpec(shape=(None, 1, 1), dtype=tf.float32, name='lstm_214_input'), name='lstm_214_input', description=\"created by layer 'lstm_214_input'\"), but it was called on an input with incompatible shape (None, 12, 1).\n",
      "WARNING:tensorflow:Model was constructed with shape (None, 1, 1) for input KerasTensor(type_spec=TensorSpec(shape=(None, 1, 1), dtype=tf.float32, name='lstm_214_input'), name='lstm_214_input', description=\"created by layer 'lstm_214_input'\"), but it was called on an input with incompatible shape (None, 12, 1).\n"
     ]
    }
   ],
   "source": [
    "model = LSTM_pipe(layer_config, time_config)"
   ]
  },
  {
   "cell_type": "markdown",
   "metadata": {},
   "source": [
    "#### 8. Backtesting"
   ]
  },
  {
   "cell_type": "code",
   "execution_count": 77,
   "metadata": {},
   "outputs": [],
   "source": [
    "from backtesting.backtest import *"
   ]
  },
  {
   "cell_type": "code",
   "execution_count": 78,
   "metadata": {},
   "outputs": [
    {
     "name": "stdout",
     "output_type": "stream",
     "text": [
      "WARNING:tensorflow:Model was constructed with shape (None, 1, 1) for input KerasTensor(type_spec=TensorSpec(shape=(None, 1, 1), dtype=tf.float32, name='lstm_214_input'), name='lstm_214_input', description=\"created by layer 'lstm_214_input'\"), but it was called on an input with incompatible shape (None, 12, 1).\n"
     ]
    }
   ],
   "source": [
    "# predicted value\n",
    "yhat = model.predict(x_refit_trans, verbose=0)"
   ]
  },
  {
   "cell_type": "code",
   "execution_count": 79,
   "metadata": {},
   "outputs": [],
   "source": [
    "# weighted sentiments\n",
    "sentiments = features[features[\"date\"].isin(data.date)]\n",
    "sentiments = sentiments[\"reddit_comments_sentiments\"] + sentiments[\"top_50_reddit_posts_sentiments\"]\n",
    "sentiments = [\"positive\" if x > np.mean(sentiments) else \"negative\" for x in sentiments]"
   ]
  },
  {
   "cell_type": "code",
   "execution_count": null,
   "metadata": {},
   "outputs": [],
   "source": []
  },
  {
   "cell_type": "code",
   "execution_count": 61,
   "metadata": {},
   "outputs": [],
   "source": [
    "returns_without_adj = backtest_regression_noSentiment([x[0] for x in yhat], \n",
    "                                                      data.date.tolist(), \n",
    "                                                      \"LSTM_regression_no_sentiment\")"
   ]
  },
  {
   "cell_type": "code",
   "execution_count": 62,
   "metadata": {},
   "outputs": [],
   "source": [
    "returns_with_adj = backtest_regression_WithSentiment([x[0] for x in yhat], \n",
    "                                  data.date.tolist(), \n",
    "                                  sentiments, \"LSTM_regression_with_sentiment\")"
   ]
  },
  {
   "cell_type": "code",
   "execution_count": 63,
   "metadata": {},
   "outputs": [
    {
     "data": {
      "image/png": "[encoded data removed]",
      "text/plain": [
       "<Figure size 432x288 with 1 Axes>"
      ]
     },
     "metadata": {
      "needs_background": "light"
     },
     "output_type": "display_data"
    }
   ],
   "source": [
    "plt.plot([data.date.tolist()[0]- timedelta(days=1),] + data.date.tolist(), returns_without_adj * 100)\n",
    "plt.plot([data.date.tolist()[0]- timedelta(days=1),] + data.date.tolist(), returns_with_adj * 100)\n",
    "plt.xticks(rotation = 45)\n",
    "plt.ylim(bottom = 0, top = 1.5)\n",
    "plt.ylabel(\"% Holdings\", labelpad = 20, fontsize = 12)\n",
    "plt.xlabel(\"Time\", labelpad = 20, fontsize = 12)\n",
    "plt.show()"
   ]
  },
  {
   "cell_type": "code",
   "execution_count": null,
   "metadata": {},
   "outputs": [],
   "source": []
  },
  {
   "cell_type": "code",
   "execution_count": null,
   "metadata": {},
   "outputs": [],
   "source": []
  },
  {
   "cell_type": "markdown",
   "metadata": {},
   "source": [
    "## With Sentiments"
   ]
  },
  {
   "cell_type": "code",
   "execution_count": 81,
   "metadata": {},
   "outputs": [],
   "source": [
    "feature_lags = {\"Adj_Close_BTC-USD\" : 2, \n",
    "                \"Volume_BTC-USD\" : 1, \n",
    "                \"Adj_Close_SPY\" : 1,\n",
    "                \"Adj_Close_GLD\" : 1,\n",
    "                \"Adj_Close_CHFUSD=X\" : 1,\n",
    "                \"Adj_Close_CNYUSD=X\" : 1,\n",
    "                \"Adj_Close_EURUSD=X\" : 1,\n",
    "                \"Adj_Close_GBPUSD=X\" : 1,\n",
    "                \"Adj_Close_JPYUSD=X\" : 1,\n",
    "                \"blockchain_transactions_per_block\" : 1,\n",
    "                \"blockchain_hash_rates\" : 1,\n",
    "                \"coindesk_sentiment\" : 1,\n",
    "                \"num_of_coindesk_posts\" : 1,\n",
    "                \"reddit_comments_sentiments\" : 1,\n",
    "                \"top_50_reddit_posts_sentiments\" : 1}\n",
    "\n",
    "data = lag(features, feature_lags)\n",
    "data = data[data[\"date\"] >= \"1/1/2021\"]\n",
    "\n",
    "train = data[data[\"date\"] <= \"2021-03-10\"]\n",
    "test = data[(data[\"date\"] > \"2021-03-10\") & (data[\"date\"] <= \"2021-04-5\")]\n",
    "\n",
    "x_train = train.drop([\"date\", \"class_y\"], axis = 1)\n",
    "y_train = train[\"class_y\"]\n",
    "\n",
    "x_test = test.drop([\"date\", \"class_y\"], axis = 1)\n",
    "y_test = test[\"class_y\"]\n",
    "\n",
    "sc = MinMaxScaler(feature_range = (0, 1))\n",
    "sc.fit(x_train)\n",
    "x_train_trans = sc.transform(x_train)\n",
    "x_test_trans = sc.transform(x_test)\n",
    "\n",
    "x_train_trans = x_train_trans.reshape(x_train_trans.shape[0], x_train_trans.shape[1], 1)\n",
    "x_test_trans = x_test_trans.reshape(x_test_trans.shape[0], x_test_trans.shape[1], 1)"
   ]
  },
  {
   "cell_type": "code",
   "execution_count": 82,
   "metadata": {},
   "outputs": [
    {
     "name": "stdout",
     "output_type": "stream",
     "text": [
      "WARNING:tensorflow:Model was constructed with shape (None, 1, 1) for input KerasTensor(type_spec=TensorSpec(shape=(None, 1, 1), dtype=tf.float32, name='lstm_215_input'), name='lstm_215_input', description=\"created by layer 'lstm_215_input'\"), but it was called on an input with incompatible shape (None, 16, 1).\n",
      "WARNING:tensorflow:Model was constructed with shape (None, 1, 1) for input KerasTensor(type_spec=TensorSpec(shape=(None, 1, 1), dtype=tf.float32, name='lstm_215_input'), name='lstm_215_input', description=\"created by layer 'lstm_215_input'\"), but it was called on an input with incompatible shape (None, 16, 1).\n",
      "WARNING:tensorflow:Model was constructed with shape (None, 1, 1) for input KerasTensor(type_spec=TensorSpec(shape=(None, 1, 1), dtype=tf.float32, name='lstm_215_input'), name='lstm_215_input', description=\"created by layer 'lstm_215_input'\"), but it was called on an input with incompatible shape (None, 16, 1).\n",
      "WARNING:tensorflow:Model was constructed with shape (None, 2, 1) for input KerasTensor(type_spec=TensorSpec(shape=(None, 2, 1), dtype=tf.float32, name='lstm_216_input'), name='lstm_216_input', description=\"created by layer 'lstm_216_input'\"), but it was called on an input with incompatible shape (None, 16, 1).\n",
      "WARNING:tensorflow:Model was constructed with shape (None, 2, 1) for input KerasTensor(type_spec=TensorSpec(shape=(None, 2, 1), dtype=tf.float32, name='lstm_216_input'), name='lstm_216_input', description=\"created by layer 'lstm_216_input'\"), but it was called on an input with incompatible shape (None, 16, 1).\n",
      "WARNING:tensorflow:Model was constructed with shape (None, 2, 1) for input KerasTensor(type_spec=TensorSpec(shape=(None, 2, 1), dtype=tf.float32, name='lstm_216_input'), name='lstm_216_input', description=\"created by layer 'lstm_216_input'\"), but it was called on an input with incompatible shape (None, 16, 1).\n",
      "WARNING:tensorflow:Model was constructed with shape (None, 3, 1) for input KerasTensor(type_spec=TensorSpec(shape=(None, 3, 1), dtype=tf.float32, name='lstm_217_input'), name='lstm_217_input', description=\"created by layer 'lstm_217_input'\"), but it was called on an input with incompatible shape (None, 16, 1).\n",
      "WARNING:tensorflow:Model was constructed with shape (None, 3, 1) for input KerasTensor(type_spec=TensorSpec(shape=(None, 3, 1), dtype=tf.float32, name='lstm_217_input'), name='lstm_217_input', description=\"created by layer 'lstm_217_input'\"), but it was called on an input with incompatible shape (None, 16, 1).\n",
      "WARNING:tensorflow:Model was constructed with shape (None, 3, 1) for input KerasTensor(type_spec=TensorSpec(shape=(None, 3, 1), dtype=tf.float32, name='lstm_217_input'), name='lstm_217_input', description=\"created by layer 'lstm_217_input'\"), but it was called on an input with incompatible shape (None, 16, 1).\n",
      "WARNING:tensorflow:Model was constructed with shape (None, 4, 1) for input KerasTensor(type_spec=TensorSpec(shape=(None, 4, 1), dtype=tf.float32, name='lstm_218_input'), name='lstm_218_input', description=\"created by layer 'lstm_218_input'\"), but it was called on an input with incompatible shape (None, 16, 1).\n",
      "WARNING:tensorflow:Model was constructed with shape (None, 4, 1) for input KerasTensor(type_spec=TensorSpec(shape=(None, 4, 1), dtype=tf.float32, name='lstm_218_input'), name='lstm_218_input', description=\"created by layer 'lstm_218_input'\"), but it was called on an input with incompatible shape (None, 16, 1).\n",
      "WARNING:tensorflow:Model was constructed with shape (None, 4, 1) for input KerasTensor(type_spec=TensorSpec(shape=(None, 4, 1), dtype=tf.float32, name='lstm_218_input'), name='lstm_218_input', description=\"created by layer 'lstm_218_input'\"), but it was called on an input with incompatible shape (None, 16, 1).\n",
      "WARNING:tensorflow:Model was constructed with shape (None, 5, 1) for input KerasTensor(type_spec=TensorSpec(shape=(None, 5, 1), dtype=tf.float32, name='lstm_219_input'), name='lstm_219_input', description=\"created by layer 'lstm_219_input'\"), but it was called on an input with incompatible shape (None, 16, 1).\n",
      "WARNING:tensorflow:Model was constructed with shape (None, 5, 1) for input KerasTensor(type_spec=TensorSpec(shape=(None, 5, 1), dtype=tf.float32, name='lstm_219_input'), name='lstm_219_input', description=\"created by layer 'lstm_219_input'\"), but it was called on an input with incompatible shape (None, 16, 1).\n",
      "WARNING:tensorflow:Model was constructed with shape (None, 5, 1) for input KerasTensor(type_spec=TensorSpec(shape=(None, 5, 1), dtype=tf.float32, name='lstm_219_input'), name='lstm_219_input', description=\"created by layer 'lstm_219_input'\"), but it was called on an input with incompatible shape (None, 16, 1).\n",
      "WARNING:tensorflow:Model was constructed with shape (None, 1, 1) for input KerasTensor(type_spec=TensorSpec(shape=(None, 1, 1), dtype=tf.float32, name='lstm_220_input'), name='lstm_220_input', description=\"created by layer 'lstm_220_input'\"), but it was called on an input with incompatible shape (None, 16, 1).\n",
      "WARNING:tensorflow:Model was constructed with shape (None, 1, 1) for input KerasTensor(type_spec=TensorSpec(shape=(None, 1, 1), dtype=tf.float32, name='lstm_220_input'), name='lstm_220_input', description=\"created by layer 'lstm_220_input'\"), but it was called on an input with incompatible shape (None, 16, 1).\n",
      "WARNING:tensorflow:Model was constructed with shape (None, 1, 1) for input KerasTensor(type_spec=TensorSpec(shape=(None, 1, 1), dtype=tf.float32, name='lstm_220_input'), name='lstm_220_input', description=\"created by layer 'lstm_220_input'\"), but it was called on an input with incompatible shape (None, 16, 1).\n",
      "WARNING:tensorflow:Model was constructed with shape (None, 2, 1) for input KerasTensor(type_spec=TensorSpec(shape=(None, 2, 1), dtype=tf.float32, name='lstm_221_input'), name='lstm_221_input', description=\"created by layer 'lstm_221_input'\"), but it was called on an input with incompatible shape (None, 16, 1).\n",
      "WARNING:tensorflow:Model was constructed with shape (None, 2, 1) for input KerasTensor(type_spec=TensorSpec(shape=(None, 2, 1), dtype=tf.float32, name='lstm_221_input'), name='lstm_221_input', description=\"created by layer 'lstm_221_input'\"), but it was called on an input with incompatible shape (None, 16, 1).\n",
      "WARNING:tensorflow:Model was constructed with shape (None, 2, 1) for input KerasTensor(type_spec=TensorSpec(shape=(None, 2, 1), dtype=tf.float32, name='lstm_221_input'), name='lstm_221_input', description=\"created by layer 'lstm_221_input'\"), but it was called on an input with incompatible shape (None, 16, 1).\n",
      "WARNING:tensorflow:Model was constructed with shape (None, 3, 1) for input KerasTensor(type_spec=TensorSpec(shape=(None, 3, 1), dtype=tf.float32, name='lstm_222_input'), name='lstm_222_input', description=\"created by layer 'lstm_222_input'\"), but it was called on an input with incompatible shape (None, 16, 1).\n",
      "WARNING:tensorflow:Model was constructed with shape (None, 3, 1) for input KerasTensor(type_spec=TensorSpec(shape=(None, 3, 1), dtype=tf.float32, name='lstm_222_input'), name='lstm_222_input', description=\"created by layer 'lstm_222_input'\"), but it was called on an input with incompatible shape (None, 16, 1).\n",
      "WARNING:tensorflow:Model was constructed with shape (None, 3, 1) for input KerasTensor(type_spec=TensorSpec(shape=(None, 3, 1), dtype=tf.float32, name='lstm_222_input'), name='lstm_222_input', description=\"created by layer 'lstm_222_input'\"), but it was called on an input with incompatible shape (None, 16, 1).\n",
      "WARNING:tensorflow:Model was constructed with shape (None, 4, 1) for input KerasTensor(type_spec=TensorSpec(shape=(None, 4, 1), dtype=tf.float32, name='lstm_223_input'), name='lstm_223_input', description=\"created by layer 'lstm_223_input'\"), but it was called on an input with incompatible shape (None, 16, 1).\n",
      "WARNING:tensorflow:Model was constructed with shape (None, 4, 1) for input KerasTensor(type_spec=TensorSpec(shape=(None, 4, 1), dtype=tf.float32, name='lstm_223_input'), name='lstm_223_input', description=\"created by layer 'lstm_223_input'\"), but it was called on an input with incompatible shape (None, 16, 1).\n",
      "WARNING:tensorflow:Model was constructed with shape (None, 4, 1) for input KerasTensor(type_spec=TensorSpec(shape=(None, 4, 1), dtype=tf.float32, name='lstm_223_input'), name='lstm_223_input', description=\"created by layer 'lstm_223_input'\"), but it was called on an input with incompatible shape (None, 16, 1).\n"
     ]
    },
    {
     "name": "stdout",
     "output_type": "stream",
     "text": [
      "WARNING:tensorflow:Model was constructed with shape (None, 5, 1) for input KerasTensor(type_spec=TensorSpec(shape=(None, 5, 1), dtype=tf.float32, name='lstm_224_input'), name='lstm_224_input', description=\"created by layer 'lstm_224_input'\"), but it was called on an input with incompatible shape (None, 16, 1).\n",
      "WARNING:tensorflow:Model was constructed with shape (None, 5, 1) for input KerasTensor(type_spec=TensorSpec(shape=(None, 5, 1), dtype=tf.float32, name='lstm_224_input'), name='lstm_224_input', description=\"created by layer 'lstm_224_input'\"), but it was called on an input with incompatible shape (None, 16, 1).\n",
      "WARNING:tensorflow:Model was constructed with shape (None, 5, 1) for input KerasTensor(type_spec=TensorSpec(shape=(None, 5, 1), dtype=tf.float32, name='lstm_224_input'), name='lstm_224_input', description=\"created by layer 'lstm_224_input'\"), but it was called on an input with incompatible shape (None, 16, 1).\n",
      "WARNING:tensorflow:Model was constructed with shape (None, 1, 1) for input KerasTensor(type_spec=TensorSpec(shape=(None, 1, 1), dtype=tf.float32, name='lstm_225_input'), name='lstm_225_input', description=\"created by layer 'lstm_225_input'\"), but it was called on an input with incompatible shape (None, 16, 1).\n",
      "WARNING:tensorflow:Model was constructed with shape (None, 1, 1) for input KerasTensor(type_spec=TensorSpec(shape=(None, 1, 1), dtype=tf.float32, name='lstm_225_input'), name='lstm_225_input', description=\"created by layer 'lstm_225_input'\"), but it was called on an input with incompatible shape (None, 16, 1).\n",
      "WARNING:tensorflow:Model was constructed with shape (None, 1, 1) for input KerasTensor(type_spec=TensorSpec(shape=(None, 1, 1), dtype=tf.float32, name='lstm_225_input'), name='lstm_225_input', description=\"created by layer 'lstm_225_input'\"), but it was called on an input with incompatible shape (None, 16, 1).\n",
      "WARNING:tensorflow:Model was constructed with shape (None, 2, 1) for input KerasTensor(type_spec=TensorSpec(shape=(None, 2, 1), dtype=tf.float32, name='lstm_226_input'), name='lstm_226_input', description=\"created by layer 'lstm_226_input'\"), but it was called on an input with incompatible shape (None, 16, 1).\n",
      "WARNING:tensorflow:Model was constructed with shape (None, 2, 1) for input KerasTensor(type_spec=TensorSpec(shape=(None, 2, 1), dtype=tf.float32, name='lstm_226_input'), name='lstm_226_input', description=\"created by layer 'lstm_226_input'\"), but it was called on an input with incompatible shape (None, 16, 1).\n",
      "WARNING:tensorflow:Model was constructed with shape (None, 2, 1) for input KerasTensor(type_spec=TensorSpec(shape=(None, 2, 1), dtype=tf.float32, name='lstm_226_input'), name='lstm_226_input', description=\"created by layer 'lstm_226_input'\"), but it was called on an input with incompatible shape (None, 16, 1).\n",
      "WARNING:tensorflow:Model was constructed with shape (None, 3, 1) for input KerasTensor(type_spec=TensorSpec(shape=(None, 3, 1), dtype=tf.float32, name='lstm_227_input'), name='lstm_227_input', description=\"created by layer 'lstm_227_input'\"), but it was called on an input with incompatible shape (None, 16, 1).\n",
      "WARNING:tensorflow:Model was constructed with shape (None, 3, 1) for input KerasTensor(type_spec=TensorSpec(shape=(None, 3, 1), dtype=tf.float32, name='lstm_227_input'), name='lstm_227_input', description=\"created by layer 'lstm_227_input'\"), but it was called on an input with incompatible shape (None, 16, 1).\n",
      "WARNING:tensorflow:Model was constructed with shape (None, 3, 1) for input KerasTensor(type_spec=TensorSpec(shape=(None, 3, 1), dtype=tf.float32, name='lstm_227_input'), name='lstm_227_input', description=\"created by layer 'lstm_227_input'\"), but it was called on an input with incompatible shape (None, 16, 1).\n",
      "WARNING:tensorflow:Model was constructed with shape (None, 4, 1) for input KerasTensor(type_spec=TensorSpec(shape=(None, 4, 1), dtype=tf.float32, name='lstm_228_input'), name='lstm_228_input', description=\"created by layer 'lstm_228_input'\"), but it was called on an input with incompatible shape (None, 16, 1).\n",
      "WARNING:tensorflow:Model was constructed with shape (None, 4, 1) for input KerasTensor(type_spec=TensorSpec(shape=(None, 4, 1), dtype=tf.float32, name='lstm_228_input'), name='lstm_228_input', description=\"created by layer 'lstm_228_input'\"), but it was called on an input with incompatible shape (None, 16, 1).\n",
      "WARNING:tensorflow:Model was constructed with shape (None, 4, 1) for input KerasTensor(type_spec=TensorSpec(shape=(None, 4, 1), dtype=tf.float32, name='lstm_228_input'), name='lstm_228_input', description=\"created by layer 'lstm_228_input'\"), but it was called on an input with incompatible shape (None, 16, 1).\n",
      "WARNING:tensorflow:Model was constructed with shape (None, 5, 1) for input KerasTensor(type_spec=TensorSpec(shape=(None, 5, 1), dtype=tf.float32, name='lstm_229_input'), name='lstm_229_input', description=\"created by layer 'lstm_229_input'\"), but it was called on an input with incompatible shape (None, 16, 1).\n",
      "WARNING:tensorflow:Model was constructed with shape (None, 5, 1) for input KerasTensor(type_spec=TensorSpec(shape=(None, 5, 1), dtype=tf.float32, name='lstm_229_input'), name='lstm_229_input', description=\"created by layer 'lstm_229_input'\"), but it was called on an input with incompatible shape (None, 16, 1).\n",
      "WARNING:tensorflow:Model was constructed with shape (None, 5, 1) for input KerasTensor(type_spec=TensorSpec(shape=(None, 5, 1), dtype=tf.float32, name='lstm_229_input'), name='lstm_229_input', description=\"created by layer 'lstm_229_input'\"), but it was called on an input with incompatible shape (None, 16, 1).\n",
      "WARNING:tensorflow:Model was constructed with shape (None, 1, 1) for input KerasTensor(type_spec=TensorSpec(shape=(None, 1, 1), dtype=tf.float32, name='lstm_230_input'), name='lstm_230_input', description=\"created by layer 'lstm_230_input'\"), but it was called on an input with incompatible shape (None, 16, 1).\n",
      "WARNING:tensorflow:Model was constructed with shape (None, 1, 1) for input KerasTensor(type_spec=TensorSpec(shape=(None, 1, 1), dtype=tf.float32, name='lstm_230_input'), name='lstm_230_input', description=\"created by layer 'lstm_230_input'\"), but it was called on an input with incompatible shape (None, 16, 1).\n",
      "WARNING:tensorflow:Model was constructed with shape (None, 1, 1) for input KerasTensor(type_spec=TensorSpec(shape=(None, 1, 1), dtype=tf.float32, name='lstm_230_input'), name='lstm_230_input', description=\"created by layer 'lstm_230_input'\"), but it was called on an input with incompatible shape (None, 16, 1).\n",
      "WARNING:tensorflow:Model was constructed with shape (None, 2, 1) for input KerasTensor(type_spec=TensorSpec(shape=(None, 2, 1), dtype=tf.float32, name='lstm_231_input'), name='lstm_231_input', description=\"created by layer 'lstm_231_input'\"), but it was called on an input with incompatible shape (None, 16, 1).\n",
      "WARNING:tensorflow:Model was constructed with shape (None, 2, 1) for input KerasTensor(type_spec=TensorSpec(shape=(None, 2, 1), dtype=tf.float32, name='lstm_231_input'), name='lstm_231_input', description=\"created by layer 'lstm_231_input'\"), but it was called on an input with incompatible shape (None, 16, 1).\n",
      "WARNING:tensorflow:Model was constructed with shape (None, 2, 1) for input KerasTensor(type_spec=TensorSpec(shape=(None, 2, 1), dtype=tf.float32, name='lstm_231_input'), name='lstm_231_input', description=\"created by layer 'lstm_231_input'\"), but it was called on an input with incompatible shape (None, 16, 1).\n",
      "WARNING:tensorflow:Model was constructed with shape (None, 3, 1) for input KerasTensor(type_spec=TensorSpec(shape=(None, 3, 1), dtype=tf.float32, name='lstm_232_input'), name='lstm_232_input', description=\"created by layer 'lstm_232_input'\"), but it was called on an input with incompatible shape (None, 16, 1).\n",
      "WARNING:tensorflow:Model was constructed with shape (None, 3, 1) for input KerasTensor(type_spec=TensorSpec(shape=(None, 3, 1), dtype=tf.float32, name='lstm_232_input'), name='lstm_232_input', description=\"created by layer 'lstm_232_input'\"), but it was called on an input with incompatible shape (None, 16, 1).\n",
      "WARNING:tensorflow:Model was constructed with shape (None, 3, 1) for input KerasTensor(type_spec=TensorSpec(shape=(None, 3, 1), dtype=tf.float32, name='lstm_232_input'), name='lstm_232_input', description=\"created by layer 'lstm_232_input'\"), but it was called on an input with incompatible shape (None, 16, 1).\n"
     ]
    },
    {
     "name": "stdout",
     "output_type": "stream",
     "text": [
      "WARNING:tensorflow:Model was constructed with shape (None, 4, 1) for input KerasTensor(type_spec=TensorSpec(shape=(None, 4, 1), dtype=tf.float32, name='lstm_233_input'), name='lstm_233_input', description=\"created by layer 'lstm_233_input'\"), but it was called on an input with incompatible shape (None, 16, 1).\n",
      "WARNING:tensorflow:Model was constructed with shape (None, 4, 1) for input KerasTensor(type_spec=TensorSpec(shape=(None, 4, 1), dtype=tf.float32, name='lstm_233_input'), name='lstm_233_input', description=\"created by layer 'lstm_233_input'\"), but it was called on an input with incompatible shape (None, 16, 1).\n",
      "WARNING:tensorflow:Model was constructed with shape (None, 4, 1) for input KerasTensor(type_spec=TensorSpec(shape=(None, 4, 1), dtype=tf.float32, name='lstm_233_input'), name='lstm_233_input', description=\"created by layer 'lstm_233_input'\"), but it was called on an input with incompatible shape (None, 16, 1).\n",
      "WARNING:tensorflow:Model was constructed with shape (None, 5, 1) for input KerasTensor(type_spec=TensorSpec(shape=(None, 5, 1), dtype=tf.float32, name='lstm_234_input'), name='lstm_234_input', description=\"created by layer 'lstm_234_input'\"), but it was called on an input with incompatible shape (None, 16, 1).\n",
      "WARNING:tensorflow:Model was constructed with shape (None, 5, 1) for input KerasTensor(type_spec=TensorSpec(shape=(None, 5, 1), dtype=tf.float32, name='lstm_234_input'), name='lstm_234_input', description=\"created by layer 'lstm_234_input'\"), but it was called on an input with incompatible shape (None, 16, 1).\n",
      "WARNING:tensorflow:Model was constructed with shape (None, 5, 1) for input KerasTensor(type_spec=TensorSpec(shape=(None, 5, 1), dtype=tf.float32, name='lstm_234_input'), name='lstm_234_input', description=\"created by layer 'lstm_234_input'\"), but it was called on an input with incompatible shape (None, 16, 1).\n",
      "WARNING:tensorflow:Model was constructed with shape (None, 1, 1) for input KerasTensor(type_spec=TensorSpec(shape=(None, 1, 1), dtype=tf.float32, name='lstm_235_input'), name='lstm_235_input', description=\"created by layer 'lstm_235_input'\"), but it was called on an input with incompatible shape (None, 16, 1).\n",
      "WARNING:tensorflow:Model was constructed with shape (None, 1, 1) for input KerasTensor(type_spec=TensorSpec(shape=(None, 1, 1), dtype=tf.float32, name='lstm_235_input'), name='lstm_235_input', description=\"created by layer 'lstm_235_input'\"), but it was called on an input with incompatible shape (None, 16, 1).\n",
      "WARNING:tensorflow:Model was constructed with shape (None, 1, 1) for input KerasTensor(type_spec=TensorSpec(shape=(None, 1, 1), dtype=tf.float32, name='lstm_235_input'), name='lstm_235_input', description=\"created by layer 'lstm_235_input'\"), but it was called on an input with incompatible shape (None, 16, 1).\n",
      "WARNING:tensorflow:Model was constructed with shape (None, 2, 1) for input KerasTensor(type_spec=TensorSpec(shape=(None, 2, 1), dtype=tf.float32, name='lstm_237_input'), name='lstm_237_input', description=\"created by layer 'lstm_237_input'\"), but it was called on an input with incompatible shape (None, 16, 1).\n",
      "WARNING:tensorflow:Model was constructed with shape (None, 2, 1) for input KerasTensor(type_spec=TensorSpec(shape=(None, 2, 1), dtype=tf.float32, name='lstm_237_input'), name='lstm_237_input', description=\"created by layer 'lstm_237_input'\"), but it was called on an input with incompatible shape (None, 16, 1).\n",
      "WARNING:tensorflow:Model was constructed with shape (None, 2, 1) for input KerasTensor(type_spec=TensorSpec(shape=(None, 2, 1), dtype=tf.float32, name='lstm_237_input'), name='lstm_237_input', description=\"created by layer 'lstm_237_input'\"), but it was called on an input with incompatible shape (None, 16, 1).\n",
      "WARNING:tensorflow:Model was constructed with shape (None, 3, 1) for input KerasTensor(type_spec=TensorSpec(shape=(None, 3, 1), dtype=tf.float32, name='lstm_239_input'), name='lstm_239_input', description=\"created by layer 'lstm_239_input'\"), but it was called on an input with incompatible shape (None, 16, 1).\n",
      "WARNING:tensorflow:Model was constructed with shape (None, 3, 1) for input KerasTensor(type_spec=TensorSpec(shape=(None, 3, 1), dtype=tf.float32, name='lstm_239_input'), name='lstm_239_input', description=\"created by layer 'lstm_239_input'\"), but it was called on an input with incompatible shape (None, 16, 1).\n",
      "WARNING:tensorflow:Model was constructed with shape (None, 3, 1) for input KerasTensor(type_spec=TensorSpec(shape=(None, 3, 1), dtype=tf.float32, name='lstm_239_input'), name='lstm_239_input', description=\"created by layer 'lstm_239_input'\"), but it was called on an input with incompatible shape (None, 16, 1).\n",
      "WARNING:tensorflow:Model was constructed with shape (None, 4, 1) for input KerasTensor(type_spec=TensorSpec(shape=(None, 4, 1), dtype=tf.float32, name='lstm_241_input'), name='lstm_241_input', description=\"created by layer 'lstm_241_input'\"), but it was called on an input with incompatible shape (None, 16, 1).\n",
      "WARNING:tensorflow:Model was constructed with shape (None, 4, 1) for input KerasTensor(type_spec=TensorSpec(shape=(None, 4, 1), dtype=tf.float32, name='lstm_241_input'), name='lstm_241_input', description=\"created by layer 'lstm_241_input'\"), but it was called on an input with incompatible shape (None, 16, 1).\n",
      "WARNING:tensorflow:Model was constructed with shape (None, 4, 1) for input KerasTensor(type_spec=TensorSpec(shape=(None, 4, 1), dtype=tf.float32, name='lstm_241_input'), name='lstm_241_input', description=\"created by layer 'lstm_241_input'\"), but it was called on an input with incompatible shape (None, 16, 1).\n",
      "WARNING:tensorflow:Model was constructed with shape (None, 5, 1) for input KerasTensor(type_spec=TensorSpec(shape=(None, 5, 1), dtype=tf.float32, name='lstm_243_input'), name='lstm_243_input', description=\"created by layer 'lstm_243_input'\"), but it was called on an input with incompatible shape (None, 16, 1).\n",
      "WARNING:tensorflow:Model was constructed with shape (None, 5, 1) for input KerasTensor(type_spec=TensorSpec(shape=(None, 5, 1), dtype=tf.float32, name='lstm_243_input'), name='lstm_243_input', description=\"created by layer 'lstm_243_input'\"), but it was called on an input with incompatible shape (None, 16, 1).\n",
      "WARNING:tensorflow:Model was constructed with shape (None, 5, 1) for input KerasTensor(type_spec=TensorSpec(shape=(None, 5, 1), dtype=tf.float32, name='lstm_243_input'), name='lstm_243_input', description=\"created by layer 'lstm_243_input'\"), but it was called on an input with incompatible shape (None, 16, 1).\n",
      "WARNING:tensorflow:Model was constructed with shape (None, 1, 1) for input KerasTensor(type_spec=TensorSpec(shape=(None, 1, 1), dtype=tf.float32, name='lstm_245_input'), name='lstm_245_input', description=\"created by layer 'lstm_245_input'\"), but it was called on an input with incompatible shape (None, 16, 1).\n",
      "WARNING:tensorflow:Model was constructed with shape (None, 1, 1) for input KerasTensor(type_spec=TensorSpec(shape=(None, 1, 1), dtype=tf.float32, name='lstm_245_input'), name='lstm_245_input', description=\"created by layer 'lstm_245_input'\"), but it was called on an input with incompatible shape (None, 16, 1).\n",
      "WARNING:tensorflow:Model was constructed with shape (None, 1, 1) for input KerasTensor(type_spec=TensorSpec(shape=(None, 1, 1), dtype=tf.float32, name='lstm_245_input'), name='lstm_245_input', description=\"created by layer 'lstm_245_input'\"), but it was called on an input with incompatible shape (None, 16, 1).\n",
      "WARNING:tensorflow:Model was constructed with shape (None, 2, 1) for input KerasTensor(type_spec=TensorSpec(shape=(None, 2, 1), dtype=tf.float32, name='lstm_247_input'), name='lstm_247_input', description=\"created by layer 'lstm_247_input'\"), but it was called on an input with incompatible shape (None, 16, 1).\n",
      "WARNING:tensorflow:Model was constructed with shape (None, 2, 1) for input KerasTensor(type_spec=TensorSpec(shape=(None, 2, 1), dtype=tf.float32, name='lstm_247_input'), name='lstm_247_input', description=\"created by layer 'lstm_247_input'\"), but it was called on an input with incompatible shape (None, 16, 1).\n",
      "WARNING:tensorflow:Model was constructed with shape (None, 2, 1) for input KerasTensor(type_spec=TensorSpec(shape=(None, 2, 1), dtype=tf.float32, name='lstm_247_input'), name='lstm_247_input', description=\"created by layer 'lstm_247_input'\"), but it was called on an input with incompatible shape (None, 16, 1).\n"
     ]
    },
    {
     "name": "stdout",
     "output_type": "stream",
     "text": [
      "WARNING:tensorflow:Model was constructed with shape (None, 3, 1) for input KerasTensor(type_spec=TensorSpec(shape=(None, 3, 1), dtype=tf.float32, name='lstm_249_input'), name='lstm_249_input', description=\"created by layer 'lstm_249_input'\"), but it was called on an input with incompatible shape (None, 16, 1).\n",
      "WARNING:tensorflow:Model was constructed with shape (None, 3, 1) for input KerasTensor(type_spec=TensorSpec(shape=(None, 3, 1), dtype=tf.float32, name='lstm_249_input'), name='lstm_249_input', description=\"created by layer 'lstm_249_input'\"), but it was called on an input with incompatible shape (None, 16, 1).\n",
      "WARNING:tensorflow:Model was constructed with shape (None, 3, 1) for input KerasTensor(type_spec=TensorSpec(shape=(None, 3, 1), dtype=tf.float32, name='lstm_249_input'), name='lstm_249_input', description=\"created by layer 'lstm_249_input'\"), but it was called on an input with incompatible shape (None, 16, 1).\n",
      "WARNING:tensorflow:Model was constructed with shape (None, 4, 1) for input KerasTensor(type_spec=TensorSpec(shape=(None, 4, 1), dtype=tf.float32, name='lstm_251_input'), name='lstm_251_input', description=\"created by layer 'lstm_251_input'\"), but it was called on an input with incompatible shape (None, 16, 1).\n",
      "WARNING:tensorflow:Model was constructed with shape (None, 4, 1) for input KerasTensor(type_spec=TensorSpec(shape=(None, 4, 1), dtype=tf.float32, name='lstm_251_input'), name='lstm_251_input', description=\"created by layer 'lstm_251_input'\"), but it was called on an input with incompatible shape (None, 16, 1).\n",
      "WARNING:tensorflow:Model was constructed with shape (None, 4, 1) for input KerasTensor(type_spec=TensorSpec(shape=(None, 4, 1), dtype=tf.float32, name='lstm_251_input'), name='lstm_251_input', description=\"created by layer 'lstm_251_input'\"), but it was called on an input with incompatible shape (None, 16, 1).\n",
      "WARNING:tensorflow:Model was constructed with shape (None, 5, 1) for input KerasTensor(type_spec=TensorSpec(shape=(None, 5, 1), dtype=tf.float32, name='lstm_253_input'), name='lstm_253_input', description=\"created by layer 'lstm_253_input'\"), but it was called on an input with incompatible shape (None, 16, 1).\n",
      "WARNING:tensorflow:Model was constructed with shape (None, 5, 1) for input KerasTensor(type_spec=TensorSpec(shape=(None, 5, 1), dtype=tf.float32, name='lstm_253_input'), name='lstm_253_input', description=\"created by layer 'lstm_253_input'\"), but it was called on an input with incompatible shape (None, 16, 1).\n",
      "WARNING:tensorflow:Model was constructed with shape (None, 5, 1) for input KerasTensor(type_spec=TensorSpec(shape=(None, 5, 1), dtype=tf.float32, name='lstm_253_input'), name='lstm_253_input', description=\"created by layer 'lstm_253_input'\"), but it was called on an input with incompatible shape (None, 16, 1).\n",
      "WARNING:tensorflow:Model was constructed with shape (None, 1, 1) for input KerasTensor(type_spec=TensorSpec(shape=(None, 1, 1), dtype=tf.float32, name='lstm_255_input'), name='lstm_255_input', description=\"created by layer 'lstm_255_input'\"), but it was called on an input with incompatible shape (None, 16, 1).\n",
      "WARNING:tensorflow:Model was constructed with shape (None, 1, 1) for input KerasTensor(type_spec=TensorSpec(shape=(None, 1, 1), dtype=tf.float32, name='lstm_255_input'), name='lstm_255_input', description=\"created by layer 'lstm_255_input'\"), but it was called on an input with incompatible shape (None, 16, 1).\n",
      "WARNING:tensorflow:Model was constructed with shape (None, 1, 1) for input KerasTensor(type_spec=TensorSpec(shape=(None, 1, 1), dtype=tf.float32, name='lstm_255_input'), name='lstm_255_input', description=\"created by layer 'lstm_255_input'\"), but it was called on an input with incompatible shape (None, 16, 1).\n",
      "WARNING:tensorflow:Model was constructed with shape (None, 2, 1) for input KerasTensor(type_spec=TensorSpec(shape=(None, 2, 1), dtype=tf.float32, name='lstm_257_input'), name='lstm_257_input', description=\"created by layer 'lstm_257_input'\"), but it was called on an input with incompatible shape (None, 16, 1).\n",
      "WARNING:tensorflow:Model was constructed with shape (None, 2, 1) for input KerasTensor(type_spec=TensorSpec(shape=(None, 2, 1), dtype=tf.float32, name='lstm_257_input'), name='lstm_257_input', description=\"created by layer 'lstm_257_input'\"), but it was called on an input with incompatible shape (None, 16, 1).\n",
      "WARNING:tensorflow:Model was constructed with shape (None, 2, 1) for input KerasTensor(type_spec=TensorSpec(shape=(None, 2, 1), dtype=tf.float32, name='lstm_257_input'), name='lstm_257_input', description=\"created by layer 'lstm_257_input'\"), but it was called on an input with incompatible shape (None, 16, 1).\n",
      "WARNING:tensorflow:Model was constructed with shape (None, 3, 1) for input KerasTensor(type_spec=TensorSpec(shape=(None, 3, 1), dtype=tf.float32, name='lstm_259_input'), name='lstm_259_input', description=\"created by layer 'lstm_259_input'\"), but it was called on an input with incompatible shape (None, 16, 1).\n",
      "WARNING:tensorflow:Model was constructed with shape (None, 3, 1) for input KerasTensor(type_spec=TensorSpec(shape=(None, 3, 1), dtype=tf.float32, name='lstm_259_input'), name='lstm_259_input', description=\"created by layer 'lstm_259_input'\"), but it was called on an input with incompatible shape (None, 16, 1).\n",
      "WARNING:tensorflow:Model was constructed with shape (None, 3, 1) for input KerasTensor(type_spec=TensorSpec(shape=(None, 3, 1), dtype=tf.float32, name='lstm_259_input'), name='lstm_259_input', description=\"created by layer 'lstm_259_input'\"), but it was called on an input with incompatible shape (None, 16, 1).\n",
      "WARNING:tensorflow:Model was constructed with shape (None, 4, 1) for input KerasTensor(type_spec=TensorSpec(shape=(None, 4, 1), dtype=tf.float32, name='lstm_261_input'), name='lstm_261_input', description=\"created by layer 'lstm_261_input'\"), but it was called on an input with incompatible shape (None, 16, 1).\n",
      "WARNING:tensorflow:Model was constructed with shape (None, 4, 1) for input KerasTensor(type_spec=TensorSpec(shape=(None, 4, 1), dtype=tf.float32, name='lstm_261_input'), name='lstm_261_input', description=\"created by layer 'lstm_261_input'\"), but it was called on an input with incompatible shape (None, 16, 1).\n",
      "WARNING:tensorflow:Model was constructed with shape (None, 4, 1) for input KerasTensor(type_spec=TensorSpec(shape=(None, 4, 1), dtype=tf.float32, name='lstm_261_input'), name='lstm_261_input', description=\"created by layer 'lstm_261_input'\"), but it was called on an input with incompatible shape (None, 16, 1).\n",
      "WARNING:tensorflow:Model was constructed with shape (None, 5, 1) for input KerasTensor(type_spec=TensorSpec(shape=(None, 5, 1), dtype=tf.float32, name='lstm_263_input'), name='lstm_263_input', description=\"created by layer 'lstm_263_input'\"), but it was called on an input with incompatible shape (None, 16, 1).\n",
      "WARNING:tensorflow:Model was constructed with shape (None, 5, 1) for input KerasTensor(type_spec=TensorSpec(shape=(None, 5, 1), dtype=tf.float32, name='lstm_263_input'), name='lstm_263_input', description=\"created by layer 'lstm_263_input'\"), but it was called on an input with incompatible shape (None, 16, 1).\n",
      "WARNING:tensorflow:Model was constructed with shape (None, 5, 1) for input KerasTensor(type_spec=TensorSpec(shape=(None, 5, 1), dtype=tf.float32, name='lstm_263_input'), name='lstm_263_input', description=\"created by layer 'lstm_263_input'\"), but it was called on an input with incompatible shape (None, 16, 1).\n",
      "WARNING:tensorflow:Model was constructed with shape (None, 1, 1) for input KerasTensor(type_spec=TensorSpec(shape=(None, 1, 1), dtype=tf.float32, name='lstm_265_input'), name='lstm_265_input', description=\"created by layer 'lstm_265_input'\"), but it was called on an input with incompatible shape (None, 16, 1).\n",
      "WARNING:tensorflow:Model was constructed with shape (None, 1, 1) for input KerasTensor(type_spec=TensorSpec(shape=(None, 1, 1), dtype=tf.float32, name='lstm_265_input'), name='lstm_265_input', description=\"created by layer 'lstm_265_input'\"), but it was called on an input with incompatible shape (None, 16, 1).\n",
      "WARNING:tensorflow:Model was constructed with shape (None, 1, 1) for input KerasTensor(type_spec=TensorSpec(shape=(None, 1, 1), dtype=tf.float32, name='lstm_265_input'), name='lstm_265_input', description=\"created by layer 'lstm_265_input'\"), but it was called on an input with incompatible shape (None, 16, 1).\n"
     ]
    },
    {
     "name": "stdout",
     "output_type": "stream",
     "text": [
      "WARNING:tensorflow:Model was constructed with shape (None, 2, 1) for input KerasTensor(type_spec=TensorSpec(shape=(None, 2, 1), dtype=tf.float32, name='lstm_268_input'), name='lstm_268_input', description=\"created by layer 'lstm_268_input'\"), but it was called on an input with incompatible shape (None, 16, 1).\n",
      "WARNING:tensorflow:Model was constructed with shape (None, 2, 1) for input KerasTensor(type_spec=TensorSpec(shape=(None, 2, 1), dtype=tf.float32, name='lstm_268_input'), name='lstm_268_input', description=\"created by layer 'lstm_268_input'\"), but it was called on an input with incompatible shape (None, 16, 1).\n",
      "WARNING:tensorflow:Model was constructed with shape (None, 2, 1) for input KerasTensor(type_spec=TensorSpec(shape=(None, 2, 1), dtype=tf.float32, name='lstm_268_input'), name='lstm_268_input', description=\"created by layer 'lstm_268_input'\"), but it was called on an input with incompatible shape (None, 16, 1).\n",
      "WARNING:tensorflow:Model was constructed with shape (None, 3, 1) for input KerasTensor(type_spec=TensorSpec(shape=(None, 3, 1), dtype=tf.float32, name='lstm_271_input'), name='lstm_271_input', description=\"created by layer 'lstm_271_input'\"), but it was called on an input with incompatible shape (None, 16, 1).\n",
      "WARNING:tensorflow:Model was constructed with shape (None, 3, 1) for input KerasTensor(type_spec=TensorSpec(shape=(None, 3, 1), dtype=tf.float32, name='lstm_271_input'), name='lstm_271_input', description=\"created by layer 'lstm_271_input'\"), but it was called on an input with incompatible shape (None, 16, 1).\n",
      "WARNING:tensorflow:Model was constructed with shape (None, 3, 1) for input KerasTensor(type_spec=TensorSpec(shape=(None, 3, 1), dtype=tf.float32, name='lstm_271_input'), name='lstm_271_input', description=\"created by layer 'lstm_271_input'\"), but it was called on an input with incompatible shape (None, 16, 1).\n",
      "WARNING:tensorflow:Model was constructed with shape (None, 4, 1) for input KerasTensor(type_spec=TensorSpec(shape=(None, 4, 1), dtype=tf.float32, name='lstm_274_input'), name='lstm_274_input', description=\"created by layer 'lstm_274_input'\"), but it was called on an input with incompatible shape (None, 16, 1).\n",
      "WARNING:tensorflow:Model was constructed with shape (None, 4, 1) for input KerasTensor(type_spec=TensorSpec(shape=(None, 4, 1), dtype=tf.float32, name='lstm_274_input'), name='lstm_274_input', description=\"created by layer 'lstm_274_input'\"), but it was called on an input with incompatible shape (None, 16, 1).\n",
      "WARNING:tensorflow:Model was constructed with shape (None, 4, 1) for input KerasTensor(type_spec=TensorSpec(shape=(None, 4, 1), dtype=tf.float32, name='lstm_274_input'), name='lstm_274_input', description=\"created by layer 'lstm_274_input'\"), but it was called on an input with incompatible shape (None, 16, 1).\n",
      "WARNING:tensorflow:Model was constructed with shape (None, 5, 1) for input KerasTensor(type_spec=TensorSpec(shape=(None, 5, 1), dtype=tf.float32, name='lstm_277_input'), name='lstm_277_input', description=\"created by layer 'lstm_277_input'\"), but it was called on an input with incompatible shape (None, 16, 1).\n",
      "WARNING:tensorflow:Model was constructed with shape (None, 5, 1) for input KerasTensor(type_spec=TensorSpec(shape=(None, 5, 1), dtype=tf.float32, name='lstm_277_input'), name='lstm_277_input', description=\"created by layer 'lstm_277_input'\"), but it was called on an input with incompatible shape (None, 16, 1).\n",
      "WARNING:tensorflow:Model was constructed with shape (None, 5, 1) for input KerasTensor(type_spec=TensorSpec(shape=(None, 5, 1), dtype=tf.float32, name='lstm_277_input'), name='lstm_277_input', description=\"created by layer 'lstm_277_input'\"), but it was called on an input with incompatible shape (None, 16, 1).\n",
      "WARNING:tensorflow:Model was constructed with shape (None, 1, 1) for input KerasTensor(type_spec=TensorSpec(shape=(None, 1, 1), dtype=tf.float32, name='lstm_280_input'), name='lstm_280_input', description=\"created by layer 'lstm_280_input'\"), but it was called on an input with incompatible shape (None, 16, 1).\n",
      "WARNING:tensorflow:Model was constructed with shape (None, 1, 1) for input KerasTensor(type_spec=TensorSpec(shape=(None, 1, 1), dtype=tf.float32, name='lstm_280_input'), name='lstm_280_input', description=\"created by layer 'lstm_280_input'\"), but it was called on an input with incompatible shape (None, 16, 1).\n",
      "WARNING:tensorflow:Model was constructed with shape (None, 1, 1) for input KerasTensor(type_spec=TensorSpec(shape=(None, 1, 1), dtype=tf.float32, name='lstm_280_input'), name='lstm_280_input', description=\"created by layer 'lstm_280_input'\"), but it was called on an input with incompatible shape (None, 16, 1).\n",
      "WARNING:tensorflow:Model was constructed with shape (None, 2, 1) for input KerasTensor(type_spec=TensorSpec(shape=(None, 2, 1), dtype=tf.float32, name='lstm_283_input'), name='lstm_283_input', description=\"created by layer 'lstm_283_input'\"), but it was called on an input with incompatible shape (None, 16, 1).\n",
      "WARNING:tensorflow:Model was constructed with shape (None, 2, 1) for input KerasTensor(type_spec=TensorSpec(shape=(None, 2, 1), dtype=tf.float32, name='lstm_283_input'), name='lstm_283_input', description=\"created by layer 'lstm_283_input'\"), but it was called on an input with incompatible shape (None, 16, 1).\n",
      "WARNING:tensorflow:Model was constructed with shape (None, 2, 1) for input KerasTensor(type_spec=TensorSpec(shape=(None, 2, 1), dtype=tf.float32, name='lstm_283_input'), name='lstm_283_input', description=\"created by layer 'lstm_283_input'\"), but it was called on an input with incompatible shape (None, 16, 1).\n",
      "WARNING:tensorflow:Model was constructed with shape (None, 3, 1) for input KerasTensor(type_spec=TensorSpec(shape=(None, 3, 1), dtype=tf.float32, name='lstm_286_input'), name='lstm_286_input', description=\"created by layer 'lstm_286_input'\"), but it was called on an input with incompatible shape (None, 16, 1).\n",
      "WARNING:tensorflow:Model was constructed with shape (None, 3, 1) for input KerasTensor(type_spec=TensorSpec(shape=(None, 3, 1), dtype=tf.float32, name='lstm_286_input'), name='lstm_286_input', description=\"created by layer 'lstm_286_input'\"), but it was called on an input with incompatible shape (None, 16, 1).\n",
      "WARNING:tensorflow:Model was constructed with shape (None, 3, 1) for input KerasTensor(type_spec=TensorSpec(shape=(None, 3, 1), dtype=tf.float32, name='lstm_286_input'), name='lstm_286_input', description=\"created by layer 'lstm_286_input'\"), but it was called on an input with incompatible shape (None, 16, 1).\n",
      "WARNING:tensorflow:Model was constructed with shape (None, 4, 1) for input KerasTensor(type_spec=TensorSpec(shape=(None, 4, 1), dtype=tf.float32, name='lstm_289_input'), name='lstm_289_input', description=\"created by layer 'lstm_289_input'\"), but it was called on an input with incompatible shape (None, 16, 1).\n",
      "WARNING:tensorflow:Model was constructed with shape (None, 4, 1) for input KerasTensor(type_spec=TensorSpec(shape=(None, 4, 1), dtype=tf.float32, name='lstm_289_input'), name='lstm_289_input', description=\"created by layer 'lstm_289_input'\"), but it was called on an input with incompatible shape (None, 16, 1).\n",
      "WARNING:tensorflow:Model was constructed with shape (None, 4, 1) for input KerasTensor(type_spec=TensorSpec(shape=(None, 4, 1), dtype=tf.float32, name='lstm_289_input'), name='lstm_289_input', description=\"created by layer 'lstm_289_input'\"), but it was called on an input with incompatible shape (None, 16, 1).\n",
      "WARNING:tensorflow:Model was constructed with shape (None, 5, 1) for input KerasTensor(type_spec=TensorSpec(shape=(None, 5, 1), dtype=tf.float32, name='lstm_292_input'), name='lstm_292_input', description=\"created by layer 'lstm_292_input'\"), but it was called on an input with incompatible shape (None, 16, 1).\n",
      "WARNING:tensorflow:Model was constructed with shape (None, 5, 1) for input KerasTensor(type_spec=TensorSpec(shape=(None, 5, 1), dtype=tf.float32, name='lstm_292_input'), name='lstm_292_input', description=\"created by layer 'lstm_292_input'\"), but it was called on an input with incompatible shape (None, 16, 1).\n",
      "WARNING:tensorflow:Model was constructed with shape (None, 5, 1) for input KerasTensor(type_spec=TensorSpec(shape=(None, 5, 1), dtype=tf.float32, name='lstm_292_input'), name='lstm_292_input', description=\"created by layer 'lstm_292_input'\"), but it was called on an input with incompatible shape (None, 16, 1).\n"
     ]
    },
    {
     "name": "stdout",
     "output_type": "stream",
     "text": [
      "WARNING:tensorflow:Model was constructed with shape (None, 1, 1) for input KerasTensor(type_spec=TensorSpec(shape=(None, 1, 1), dtype=tf.float32, name='lstm_295_input'), name='lstm_295_input', description=\"created by layer 'lstm_295_input'\"), but it was called on an input with incompatible shape (None, 16, 1).\n",
      "WARNING:tensorflow:Model was constructed with shape (None, 1, 1) for input KerasTensor(type_spec=TensorSpec(shape=(None, 1, 1), dtype=tf.float32, name='lstm_295_input'), name='lstm_295_input', description=\"created by layer 'lstm_295_input'\"), but it was called on an input with incompatible shape (None, 16, 1).\n",
      "WARNING:tensorflow:Model was constructed with shape (None, 1, 1) for input KerasTensor(type_spec=TensorSpec(shape=(None, 1, 1), dtype=tf.float32, name='lstm_295_input'), name='lstm_295_input', description=\"created by layer 'lstm_295_input'\"), but it was called on an input with incompatible shape (None, 16, 1).\n",
      "WARNING:tensorflow:Model was constructed with shape (None, 2, 1) for input KerasTensor(type_spec=TensorSpec(shape=(None, 2, 1), dtype=tf.float32, name='lstm_298_input'), name='lstm_298_input', description=\"created by layer 'lstm_298_input'\"), but it was called on an input with incompatible shape (None, 16, 1).\n",
      "WARNING:tensorflow:Model was constructed with shape (None, 2, 1) for input KerasTensor(type_spec=TensorSpec(shape=(None, 2, 1), dtype=tf.float32, name='lstm_298_input'), name='lstm_298_input', description=\"created by layer 'lstm_298_input'\"), but it was called on an input with incompatible shape (None, 16, 1).\n",
      "WARNING:tensorflow:Model was constructed with shape (None, 2, 1) for input KerasTensor(type_spec=TensorSpec(shape=(None, 2, 1), dtype=tf.float32, name='lstm_298_input'), name='lstm_298_input', description=\"created by layer 'lstm_298_input'\"), but it was called on an input with incompatible shape (None, 16, 1).\n",
      "WARNING:tensorflow:Model was constructed with shape (None, 3, 1) for input KerasTensor(type_spec=TensorSpec(shape=(None, 3, 1), dtype=tf.float32, name='lstm_301_input'), name='lstm_301_input', description=\"created by layer 'lstm_301_input'\"), but it was called on an input with incompatible shape (None, 16, 1).\n",
      "WARNING:tensorflow:Model was constructed with shape (None, 3, 1) for input KerasTensor(type_spec=TensorSpec(shape=(None, 3, 1), dtype=tf.float32, name='lstm_301_input'), name='lstm_301_input', description=\"created by layer 'lstm_301_input'\"), but it was called on an input with incompatible shape (None, 16, 1).\n",
      "WARNING:tensorflow:Model was constructed with shape (None, 3, 1) for input KerasTensor(type_spec=TensorSpec(shape=(None, 3, 1), dtype=tf.float32, name='lstm_301_input'), name='lstm_301_input', description=\"created by layer 'lstm_301_input'\"), but it was called on an input with incompatible shape (None, 16, 1).\n",
      "WARNING:tensorflow:Model was constructed with shape (None, 4, 1) for input KerasTensor(type_spec=TensorSpec(shape=(None, 4, 1), dtype=tf.float32, name='lstm_304_input'), name='lstm_304_input', description=\"created by layer 'lstm_304_input'\"), but it was called on an input with incompatible shape (None, 16, 1).\n",
      "WARNING:tensorflow:Model was constructed with shape (None, 4, 1) for input KerasTensor(type_spec=TensorSpec(shape=(None, 4, 1), dtype=tf.float32, name='lstm_304_input'), name='lstm_304_input', description=\"created by layer 'lstm_304_input'\"), but it was called on an input with incompatible shape (None, 16, 1).\n",
      "WARNING:tensorflow:Model was constructed with shape (None, 4, 1) for input KerasTensor(type_spec=TensorSpec(shape=(None, 4, 1), dtype=tf.float32, name='lstm_304_input'), name='lstm_304_input', description=\"created by layer 'lstm_304_input'\"), but it was called on an input with incompatible shape (None, 16, 1).\n",
      "WARNING:tensorflow:Model was constructed with shape (None, 5, 1) for input KerasTensor(type_spec=TensorSpec(shape=(None, 5, 1), dtype=tf.float32, name='lstm_307_input'), name='lstm_307_input', description=\"created by layer 'lstm_307_input'\"), but it was called on an input with incompatible shape (None, 16, 1).\n",
      "WARNING:tensorflow:Model was constructed with shape (None, 5, 1) for input KerasTensor(type_spec=TensorSpec(shape=(None, 5, 1), dtype=tf.float32, name='lstm_307_input'), name='lstm_307_input', description=\"created by layer 'lstm_307_input'\"), but it was called on an input with incompatible shape (None, 16, 1).\n",
      "WARNING:tensorflow:Model was constructed with shape (None, 5, 1) for input KerasTensor(type_spec=TensorSpec(shape=(None, 5, 1), dtype=tf.float32, name='lstm_307_input'), name='lstm_307_input', description=\"created by layer 'lstm_307_input'\"), but it was called on an input with incompatible shape (None, 16, 1).\n"
     ]
    }
   ],
   "source": [
    "res2 = []\n",
    "# 1 layer\n",
    "for unit in (4,8,16,32):\n",
    "    for time_step in (1,2,3,4,5):\n",
    "        res2.append((([unit],time_step),LSTM_GS([unit], time_step)))\n",
    "\n",
    "# 2 layers\n",
    "for unit in (8,16,32):\n",
    "    for time_step in (1,2,3,4,5):\n",
    "        res2.append((([unit, unit//2],time_step),LSTM_GS([unit, unit//2], time_step)))\n",
    "\n",
    "# 3 layers\n",
    "for unit in (8,16,32):\n",
    "    for time_step in (1,2,3,4,5):\n",
    "        res2.append((([unit, unit//2, unit//4],time_step),LSTM_GS([unit, unit//2, unit//4], time_step)))"
   ]
  },
  {
   "cell_type": "code",
   "execution_count": 84,
   "metadata": {},
   "outputs": [
    {
     "data": {
      "text/plain": [
       "(([16, 8, 4], 3), (0.4868421052631579, 0.5))"
      ]
     },
     "execution_count": 84,
     "metadata": {},
     "output_type": "execute_result"
    }
   ],
   "source": [
    "sorted(res2, key = lambda x : x[1])[0]"
   ]
  },
  {
   "cell_type": "code",
   "execution_count": null,
   "metadata": {},
   "outputs": [],
   "source": []
  }
 ],
 "metadata": {
  "kernelspec": {
   "display_name": "Python 3",
   "language": "python",
   "name": "python3"
  },
  "language_info": {
   "codemirror_mode": {
    "name": "ipython",
    "version": 3
   },
   "file_extension": ".py",
   "mimetype": "text/x-python",
   "name": "python",
   "nbconvert_exporter": "python",
   "pygments_lexer": "ipython3",
   "version": "3.8.5"
  }
 },
 "nbformat": 4,
 "nbformat_minor": 4
}
