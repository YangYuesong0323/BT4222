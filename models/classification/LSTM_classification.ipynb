{
 "cells": [
  {
   "cell_type": "code",
   "execution_count": 1,
   "metadata": {},
   "outputs": [],
   "source": [
    "import pandas as pd\n",
    "import numpy as np\n",
    "import datetime\n",
    "from keras.models import Sequential\n",
    "from keras.layers import Dense\n",
    "from keras.layers import LSTM\n",
    "from keras.layers import Dropout\n",
    "from sklearn.preprocessing import MinMaxScaler\n",
    "from sklearn.metrics import mean_squared_error, accuracy_score\n",
    "from keras import backend as K\n",
    "import matplotlib.pyplot as plt\n",
    "from datetime import timedelta\n",
    "import sys\n",
    "sys.path.insert(1, '/Users/yuesongyang/Desktop/BT4222_repo')\n",
    "from backtest import *\n",
    "import tensorflow as tf\n",
    "tf.random.set_seed(0)"
   ]
  },
  {
   "cell_type": "code",
   "execution_count": 2,
   "metadata": {},
   "outputs": [],
   "source": [
    "features = pd.read_csv(\"../../data/cooked_data/cooked_complete_dataset.csv\")"
   ]
  },
  {
   "cell_type": "code",
   "execution_count": 3,
   "metadata": {},
   "outputs": [],
   "source": [
    "features.dropna(inplace = True)"
   ]
  },
  {
   "cell_type": "code",
   "execution_count": 4,
   "metadata": {},
   "outputs": [],
   "source": [
    "features['date'] = features['date'].apply(lambda x: datetime.datetime.strptime(x, \"%d/%m/%y\"))\n",
    "features[\"date\"] = pd.to_datetime(features[\"date\"], format='%d/%m/%Y', infer_datetime_format=True)"
   ]
  },
  {
   "cell_type": "code",
   "execution_count": 34,
   "metadata": {},
   "outputs": [],
   "source": [
    "features[\"class_y\"] = features[\"Adj_Close_BTC-USD\"].shift(1).dropna()\n",
    "features[\"class_y\"] = features.apply(lambda x : 1 if x[\"class_y\"] < x[\"Adj_Close_BTC-USD\"] else 0 , axis = 1)"
   ]
  },
  {
   "cell_type": "code",
   "execution_count": 35,
   "metadata": {},
   "outputs": [
    {
     "data": {
      "text/html": [
       "<div>\n",
       "<style scoped>\n",
       "    .dataframe tbody tr th:only-of-type {\n",
       "        vertical-align: middle;\n",
       "    }\n",
       "\n",
       "    .dataframe tbody tr th {\n",
       "        vertical-align: top;\n",
       "    }\n",
       "\n",
       "    .dataframe thead th {\n",
       "        text-align: right;\n",
       "    }\n",
       "</style>\n",
       "<table border=\"1\" class=\"dataframe\">\n",
       "  <thead>\n",
       "    <tr style=\"text-align: right;\">\n",
       "      <th></th>\n",
       "      <th>date</th>\n",
       "      <th>Adj_Close_BTC-USD</th>\n",
       "      <th>Open_BTC-USD</th>\n",
       "      <th>High_BTC-USD</th>\n",
       "      <th>Low_BTC-USD</th>\n",
       "      <th>Volume_BTC-USD</th>\n",
       "      <th>Adj_Close_SPY</th>\n",
       "      <th>Adj_Close_GLD</th>\n",
       "      <th>Adj_Close_CHFUSD=X</th>\n",
       "      <th>Adj_Close_CNYUSD=X</th>\n",
       "      <th>Adj_Close_EURUSD=X</th>\n",
       "      <th>Adj_Close_GBPUSD=X</th>\n",
       "      <th>Adj_Close_JPYUSD=X</th>\n",
       "      <th>coindesk_sentiment</th>\n",
       "      <th>num_of_coindesk_posts</th>\n",
       "      <th>reddit_comments_sentiments</th>\n",
       "      <th>top_50_reddit_posts_sentiments</th>\n",
       "      <th>blockchain_transactions_per_block</th>\n",
       "      <th>blockchain_hash_rates</th>\n",
       "      <th>class_y</th>\n",
       "    </tr>\n",
       "  </thead>\n",
       "  <tbody>\n",
       "    <tr>\n",
       "      <th>0</th>\n",
       "      <td>2020-12-14</td>\n",
       "      <td>19246.6445</td>\n",
       "      <td>19144.4922</td>\n",
       "      <td>19305.0996</td>\n",
       "      <td>19012.7090</td>\n",
       "      <td>2.250000e+10</td>\n",
       "      <td>361.926788</td>\n",
       "      <td>171.539993</td>\n",
       "      <td>1.125442</td>\n",
       "      <td>0.152772</td>\n",
       "      <td>1.213340</td>\n",
       "      <td>1.331824</td>\n",
       "      <td>0.009621</td>\n",
       "      <td>0.249489</td>\n",
       "      <td>12</td>\n",
       "      <td>0.158060</td>\n",
       "      <td>0.677618</td>\n",
       "      <td>2167.93103</td>\n",
       "      <td>134533588</td>\n",
       "      <td>0</td>\n",
       "    </tr>\n",
       "    <tr>\n",
       "      <th>1</th>\n",
       "      <td>2020-12-15</td>\n",
       "      <td>19417.0762</td>\n",
       "      <td>19246.9199</td>\n",
       "      <td>19525.0078</td>\n",
       "      <td>19079.8418</td>\n",
       "      <td>2.670000e+10</td>\n",
       "      <td>366.819824</td>\n",
       "      <td>173.940002</td>\n",
       "      <td>1.127930</td>\n",
       "      <td>0.152679</td>\n",
       "      <td>1.214890</td>\n",
       "      <td>1.333084</td>\n",
       "      <td>0.009614</td>\n",
       "      <td>0.173773</td>\n",
       "      <td>18</td>\n",
       "      <td>0.101930</td>\n",
       "      <td>0.447277</td>\n",
       "      <td>2288.85714</td>\n",
       "      <td>133351912</td>\n",
       "      <td>1</td>\n",
       "    </tr>\n",
       "    <tr>\n",
       "      <th>2</th>\n",
       "      <td>2020-12-16</td>\n",
       "      <td>21310.5977</td>\n",
       "      <td>19418.8184</td>\n",
       "      <td>21458.9082</td>\n",
       "      <td>19298.3164</td>\n",
       "      <td>4.440000e+10</td>\n",
       "      <td>367.395508</td>\n",
       "      <td>174.899994</td>\n",
       "      <td>1.129382</td>\n",
       "      <td>0.152945</td>\n",
       "      <td>1.215430</td>\n",
       "      <td>1.344447</td>\n",
       "      <td>0.009649</td>\n",
       "      <td>0.341491</td>\n",
       "      <td>11</td>\n",
       "      <td>0.127344</td>\n",
       "      <td>0.480809</td>\n",
       "      <td>2204.31469</td>\n",
       "      <td>132323572</td>\n",
       "      <td>1</td>\n",
       "    </tr>\n",
       "    <tr>\n",
       "      <th>3</th>\n",
       "      <td>2020-12-17</td>\n",
       "      <td>22805.1621</td>\n",
       "      <td>21308.3516</td>\n",
       "      <td>23642.6602</td>\n",
       "      <td>21234.6758</td>\n",
       "      <td>7.140000e+10</td>\n",
       "      <td>369.449982</td>\n",
       "      <td>176.740006</td>\n",
       "      <td>1.129446</td>\n",
       "      <td>0.153109</td>\n",
       "      <td>1.219959</td>\n",
       "      <td>1.350293</td>\n",
       "      <td>0.009664</td>\n",
       "      <td>0.197572</td>\n",
       "      <td>10</td>\n",
       "      <td>0.135945</td>\n",
       "      <td>0.539729</td>\n",
       "      <td>2399.07752</td>\n",
       "      <td>132373209</td>\n",
       "      <td>1</td>\n",
       "    </tr>\n",
       "    <tr>\n",
       "      <th>4</th>\n",
       "      <td>2020-12-18</td>\n",
       "      <td>23137.9609</td>\n",
       "      <td>22806.7969</td>\n",
       "      <td>23238.6016</td>\n",
       "      <td>22399.8125</td>\n",
       "      <td>4.040000e+10</td>\n",
       "      <td>367.974793</td>\n",
       "      <td>176.440002</td>\n",
       "      <td>1.130301</td>\n",
       "      <td>0.153090</td>\n",
       "      <td>1.226272</td>\n",
       "      <td>1.357018</td>\n",
       "      <td>0.009696</td>\n",
       "      <td>0.315601</td>\n",
       "      <td>2</td>\n",
       "      <td>0.135441</td>\n",
       "      <td>0.449503</td>\n",
       "      <td>2392.03185</td>\n",
       "      <td>131791042</td>\n",
       "      <td>1</td>\n",
       "    </tr>\n",
       "  </tbody>\n",
       "</table>\n",
       "</div>"
      ],
      "text/plain": [
       "        date  Adj_Close_BTC-USD  Open_BTC-USD  High_BTC-USD  Low_BTC-USD  \\\n",
       "0 2020-12-14         19246.6445    19144.4922    19305.0996   19012.7090   \n",
       "1 2020-12-15         19417.0762    19246.9199    19525.0078   19079.8418   \n",
       "2 2020-12-16         21310.5977    19418.8184    21458.9082   19298.3164   \n",
       "3 2020-12-17         22805.1621    21308.3516    23642.6602   21234.6758   \n",
       "4 2020-12-18         23137.9609    22806.7969    23238.6016   22399.8125   \n",
       "\n",
       "   Volume_BTC-USD  Adj_Close_SPY  Adj_Close_GLD  Adj_Close_CHFUSD=X  \\\n",
       "0    2.250000e+10     361.926788     171.539993            1.125442   \n",
       "1    2.670000e+10     366.819824     173.940002            1.127930   \n",
       "2    4.440000e+10     367.395508     174.899994            1.129382   \n",
       "3    7.140000e+10     369.449982     176.740006            1.129446   \n",
       "4    4.040000e+10     367.974793     176.440002            1.130301   \n",
       "\n",
       "   Adj_Close_CNYUSD=X  Adj_Close_EURUSD=X  Adj_Close_GBPUSD=X  \\\n",
       "0            0.152772            1.213340            1.331824   \n",
       "1            0.152679            1.214890            1.333084   \n",
       "2            0.152945            1.215430            1.344447   \n",
       "3            0.153109            1.219959            1.350293   \n",
       "4            0.153090            1.226272            1.357018   \n",
       "\n",
       "   Adj_Close_JPYUSD=X  coindesk_sentiment  num_of_coindesk_posts  \\\n",
       "0            0.009621            0.249489                     12   \n",
       "1            0.009614            0.173773                     18   \n",
       "2            0.009649            0.341491                     11   \n",
       "3            0.009664            0.197572                     10   \n",
       "4            0.009696            0.315601                      2   \n",
       "\n",
       "   reddit_comments_sentiments  top_50_reddit_posts_sentiments  \\\n",
       "0                    0.158060                        0.677618   \n",
       "1                    0.101930                        0.447277   \n",
       "2                    0.127344                        0.480809   \n",
       "3                    0.135945                        0.539729   \n",
       "4                    0.135441                        0.449503   \n",
       "\n",
       "   blockchain_transactions_per_block  blockchain_hash_rates  class_y  \n",
       "0                         2167.93103              134533588        0  \n",
       "1                         2288.85714              133351912        1  \n",
       "2                         2204.31469              132323572        1  \n",
       "3                         2399.07752              132373209        1  \n",
       "4                         2392.03185              131791042        1  "
      ]
     },
     "execution_count": 35,
     "metadata": {},
     "output_type": "execute_result"
    }
   ],
   "source": [
    "features.head()"
   ]
  },
  {
   "cell_type": "markdown",
   "metadata": {},
   "source": [
    "**Helper functions to create lags for features and calculate RMSE**"
   ]
  },
  {
   "cell_type": "code",
   "execution_count": 36,
   "metadata": {},
   "outputs": [],
   "source": [
    "def lag(data, dic):\n",
    "    cols = []\n",
    "    for key, value in dic.items():\n",
    "        for i in range(1, value+1):\n",
    "            cols.append(data[key].shift(i).rename('{}_lag{}'.format(data[key].name, i)))\n",
    "    return pd.concat([data[\"date\"],data[\"class_y\"]] + cols, axis = 1)"
   ]
  },
  {
   "cell_type": "code",
   "execution_count": null,
   "metadata": {},
   "outputs": [],
   "source": []
  },
  {
   "cell_type": "markdown",
   "metadata": {},
   "source": [
    "## Without Sentiments"
   ]
  },
  {
   "cell_type": "markdown",
   "metadata": {},
   "source": [
    "#### 1. Create feature lags"
   ]
  },
  {
   "cell_type": "code",
   "execution_count": 37,
   "metadata": {},
   "outputs": [],
   "source": [
    "feature_lags = {\"Adj_Close_BTC-USD\" : 1,\n",
    "                \"Adj_Close_SPY\" : 1,\n",
    "                \"Adj_Close_GLD\" : 1,\n",
    "                \"Adj_Close_CHFUSD=X\" : 1,\n",
    "                \"Adj_Close_EURUSD=X\" : 1,\n",
    "                \"Adj_Close_GBPUSD=X\" : 1,\n",
    "                \"Adj_Close_JPYUSD=X\" : 1,\n",
    "                \"blockchain_transactions_per_block\" : 1,\n",
    "                \"blockchain_hash_rates\" : 1}\n",
    "\n",
    "data = lag(features, feature_lags)"
   ]
  },
  {
   "cell_type": "markdown",
   "metadata": {},
   "source": [
    "#### 2. Handle train-test split"
   ]
  },
  {
   "cell_type": "code",
   "execution_count": 38,
   "metadata": {},
   "outputs": [],
   "source": [
    "# data['date'] = data['date'].apply(lambda x: datetime.datetime.strptime(x, \"%Y-%m-%d\"))\n",
    "# data[\"date\"] = pd.to_datetime(data[\"date\"], format='%d/%m/%Y', infer_datetime_format=True)\n",
    "data = data[(data[\"date\"] >= \"2021-01-01\") & (data[\"date\"] <= \"2021-04-12\")]\n",
    "\n",
    "train = data[(data[\"date\"] >= \"2021-01-01\") & (data[\"date\"] <= \"2021-03-14\")]\n",
    "validation = data[(data[\"date\"] >= \"2021-03-15\") & (data[\"date\"] <= \"2021-03-29\")]\n",
    "test = data[(data[\"date\"] >= \"2021-03-30\") & (data[\"date\"] <= \"2021-04-12\")]\n",
    "\n",
    "refit = data[(data[\"date\"] >= \"2021-01-01\") & (data[\"date\"] <= \"2021-03-29\")]\n",
    "full = data.copy(deep = True)\n",
    "\n",
    "\n",
    "x_train = train.drop([\"date\", \"class_y\"], axis = 1)\n",
    "y_train = train[\"class_y\"]\n",
    "\n",
    "x_val = validation.drop([\"date\", \"class_y\"], axis = 1)\n",
    "y_val = validation[\"class_y\"]\n",
    "\n",
    "x_test = test.drop([\"date\", \"class_y\"], axis = 1)\n",
    "y_test = test[\"class_y\"]\n",
    "\n",
    "x_refit = refit.drop([\"date\", \"class_y\"], axis = 1)\n",
    "y_refit = refit[\"class_y\"]\n",
    "\n",
    "x_full = full.drop([\"date\", \"class_y\"], axis = 1)\n",
    "y_full = full[\"class_y\"]"
   ]
  },
  {
   "cell_type": "markdown",
   "metadata": {},
   "source": [
    "#### 3. MinMax scale the features"
   ]
  },
  {
   "cell_type": "code",
   "execution_count": 39,
   "metadata": {},
   "outputs": [],
   "source": [
    "sc = MinMaxScaler(feature_range = (0, 1))\n",
    "sc.fit(x_train)\n",
    "x_train_trans = sc.transform(x_train)\n",
    "x_val_trans = sc.transform(x_val)\n",
    "x_test_trans = sc.transform(x_test)\n",
    "\n",
    "sc2 = MinMaxScaler(feature_range = (0, 1))\n",
    "sc2.fit(x_refit)\n",
    "x_refit_trans = sc2.transform(x_refit)\n",
    "\n",
    "sc3 = MinMaxScaler(feature_range = (0, 1))\n",
    "sc3.fit(x_full)\n",
    "x_full_trans = sc3.transform(x_full)"
   ]
  },
  {
   "cell_type": "markdown",
   "metadata": {},
   "source": [
    "#### 4. Transform the feature shapes to fit into LSTM"
   ]
  },
  {
   "cell_type": "code",
   "execution_count": 40,
   "metadata": {},
   "outputs": [],
   "source": [
    "x_train_trans = x_train_trans.reshape(x_train_trans.shape[0], x_train_trans.shape[1], 1)\n",
    "x_val_trans = x_val_trans.reshape(x_val_trans.shape[0], x_val_trans.shape[1], 1)\n",
    "x_test_trans = x_test_trans.reshape(x_test_trans.shape[0], x_test_trans.shape[1], 1)\n",
    "x_refit_trans = x_refit_trans.reshape(x_refit_trans.shape[0], x_refit_trans.shape[1], 1)\n",
    "x_full_trans = x_full_trans.reshape(x_full_trans.shape[0], x_full_trans.shape[1], 1)"
   ]
  },
  {
   "cell_type": "markdown",
   "metadata": {},
   "source": [
    "#### 5. Define a Grid Search function"
   ]
  },
  {
   "cell_type": "code",
   "execution_count": 41,
   "metadata": {},
   "outputs": [],
   "source": [
    "def LSTM_GS(layer_spe, time_step, e):\n",
    "    regressor = Sequential()\n",
    "    count = 0\n",
    "    for unit in layer_spe:\n",
    "        count += 1 \n",
    "        if len(layer_spe) == 1:\n",
    "            regressor.add(LSTM(unit, activation = \"relu\", input_shape = (time_step, 1))) # batch size, time steps, data dimension\n",
    "            regressor.add(Dropout(0.3))\n",
    "        else:\n",
    "            if count == 1:\n",
    "                regressor.add(LSTM(unit, activation = \"relu\", return_sequences=True, input_shape = (time_step, 1))) # batch size, time steps, data dimension\n",
    "                regressor.add(Dropout(0.3))\n",
    "            elif count < len(layer_spe): \n",
    "                regressor.add(LSTM(unit, activation = \"relu\", return_sequences=True))\n",
    "                regressor.add(Dropout(0.3))\n",
    "            else:\n",
    "                regressor.add(LSTM(unit, activation = \"relu\"))\n",
    "                regressor.add(Dropout(0.3))\n",
    "            \n",
    "    regressor.add(Dense(units = 1, activation = \"sigmoid\"))\n",
    "    regressor.compile(optimizer = 'Adam', loss = \"binary_crossentropy\", metrics=['accuracy'])\n",
    "    regressor.fit(x_train_trans, y_train, epochs = e, verbose = 0)\n",
    "    \n",
    "    yhat = regressor.predict(x_val_trans)\n",
    "    yhat = [1 if x[0] > 0.5 else 0 for x in yhat]\n",
    "    return accuracy_score(y_train, [1 if x[0] > 0.5 else 0 for x in regressor.predict(x_train_trans)]), accuracy_score(y_val, yhat)"
   ]
  },
  {
   "cell_type": "markdown",
   "metadata": {},
   "source": [
    "#### 6. Grid Search on a few hyperparameters combinations"
   ]
  },
  {
   "cell_type": "code",
   "execution_count": 42,
   "metadata": {},
   "outputs": [
    {
     "name": "stdout",
     "output_type": "stream",
     "text": [
      "WARNING:tensorflow:Model was constructed with shape (None, 1, 1) for input KerasTensor(type_spec=TensorSpec(shape=(None, 1, 1), dtype=tf.float32, name='lstm_224_input'), name='lstm_224_input', description=\"created by layer 'lstm_224_input'\"), but it was called on an input with incompatible shape (None, 9, 1).\n",
      "WARNING:tensorflow:Model was constructed with shape (None, 1, 1) for input KerasTensor(type_spec=TensorSpec(shape=(None, 1, 1), dtype=tf.float32, name='lstm_224_input'), name='lstm_224_input', description=\"created by layer 'lstm_224_input'\"), but it was called on an input with incompatible shape (None, 9, 1).\n",
      "WARNING:tensorflow:Model was constructed with shape (None, 1, 1) for input KerasTensor(type_spec=TensorSpec(shape=(None, 1, 1), dtype=tf.float32, name='lstm_224_input'), name='lstm_224_input', description=\"created by layer 'lstm_224_input'\"), but it was called on an input with incompatible shape (None, 9, 1).\n",
      "WARNING:tensorflow:Model was constructed with shape (None, 1, 1) for input KerasTensor(type_spec=TensorSpec(shape=(None, 1, 1), dtype=tf.float32, name='lstm_225_input'), name='lstm_225_input', description=\"created by layer 'lstm_225_input'\"), but it was called on an input with incompatible shape (None, 9, 1).\n",
      "WARNING:tensorflow:Model was constructed with shape (None, 1, 1) for input KerasTensor(type_spec=TensorSpec(shape=(None, 1, 1), dtype=tf.float32, name='lstm_225_input'), name='lstm_225_input', description=\"created by layer 'lstm_225_input'\"), but it was called on an input with incompatible shape (None, 9, 1).\n",
      "WARNING:tensorflow:Model was constructed with shape (None, 1, 1) for input KerasTensor(type_spec=TensorSpec(shape=(None, 1, 1), dtype=tf.float32, name='lstm_225_input'), name='lstm_225_input', description=\"created by layer 'lstm_225_input'\"), but it was called on an input with incompatible shape (None, 9, 1).\n",
      "WARNING:tensorflow:Model was constructed with shape (None, 2, 1) for input KerasTensor(type_spec=TensorSpec(shape=(None, 2, 1), dtype=tf.float32, name='lstm_226_input'), name='lstm_226_input', description=\"created by layer 'lstm_226_input'\"), but it was called on an input with incompatible shape (None, 9, 1).\n",
      "WARNING:tensorflow:Model was constructed with shape (None, 2, 1) for input KerasTensor(type_spec=TensorSpec(shape=(None, 2, 1), dtype=tf.float32, name='lstm_226_input'), name='lstm_226_input', description=\"created by layer 'lstm_226_input'\"), but it was called on an input with incompatible shape (None, 9, 1).\n",
      "WARNING:tensorflow:Model was constructed with shape (None, 2, 1) for input KerasTensor(type_spec=TensorSpec(shape=(None, 2, 1), dtype=tf.float32, name='lstm_226_input'), name='lstm_226_input', description=\"created by layer 'lstm_226_input'\"), but it was called on an input with incompatible shape (None, 9, 1).\n",
      "WARNING:tensorflow:Model was constructed with shape (None, 2, 1) for input KerasTensor(type_spec=TensorSpec(shape=(None, 2, 1), dtype=tf.float32, name='lstm_227_input'), name='lstm_227_input', description=\"created by layer 'lstm_227_input'\"), but it was called on an input with incompatible shape (None, 9, 1).\n",
      "WARNING:tensorflow:Model was constructed with shape (None, 2, 1) for input KerasTensor(type_spec=TensorSpec(shape=(None, 2, 1), dtype=tf.float32, name='lstm_227_input'), name='lstm_227_input', description=\"created by layer 'lstm_227_input'\"), but it was called on an input with incompatible shape (None, 9, 1).\n",
      "WARNING:tensorflow:Model was constructed with shape (None, 2, 1) for input KerasTensor(type_spec=TensorSpec(shape=(None, 2, 1), dtype=tf.float32, name='lstm_227_input'), name='lstm_227_input', description=\"created by layer 'lstm_227_input'\"), but it was called on an input with incompatible shape (None, 9, 1).\n",
      "WARNING:tensorflow:Model was constructed with shape (None, 3, 1) for input KerasTensor(type_spec=TensorSpec(shape=(None, 3, 1), dtype=tf.float32, name='lstm_228_input'), name='lstm_228_input', description=\"created by layer 'lstm_228_input'\"), but it was called on an input with incompatible shape (None, 9, 1).\n",
      "WARNING:tensorflow:Model was constructed with shape (None, 3, 1) for input KerasTensor(type_spec=TensorSpec(shape=(None, 3, 1), dtype=tf.float32, name='lstm_228_input'), name='lstm_228_input', description=\"created by layer 'lstm_228_input'\"), but it was called on an input with incompatible shape (None, 9, 1).\n",
      "WARNING:tensorflow:Model was constructed with shape (None, 3, 1) for input KerasTensor(type_spec=TensorSpec(shape=(None, 3, 1), dtype=tf.float32, name='lstm_228_input'), name='lstm_228_input', description=\"created by layer 'lstm_228_input'\"), but it was called on an input with incompatible shape (None, 9, 1).\n",
      "WARNING:tensorflow:Model was constructed with shape (None, 3, 1) for input KerasTensor(type_spec=TensorSpec(shape=(None, 3, 1), dtype=tf.float32, name='lstm_229_input'), name='lstm_229_input', description=\"created by layer 'lstm_229_input'\"), but it was called on an input with incompatible shape (None, 9, 1).\n",
      "WARNING:tensorflow:Model was constructed with shape (None, 3, 1) for input KerasTensor(type_spec=TensorSpec(shape=(None, 3, 1), dtype=tf.float32, name='lstm_229_input'), name='lstm_229_input', description=\"created by layer 'lstm_229_input'\"), but it was called on an input with incompatible shape (None, 9, 1).\n",
      "WARNING:tensorflow:Model was constructed with shape (None, 3, 1) for input KerasTensor(type_spec=TensorSpec(shape=(None, 3, 1), dtype=tf.float32, name='lstm_229_input'), name='lstm_229_input', description=\"created by layer 'lstm_229_input'\"), but it was called on an input with incompatible shape (None, 9, 1).\n",
      "WARNING:tensorflow:Model was constructed with shape (None, 1, 1) for input KerasTensor(type_spec=TensorSpec(shape=(None, 1, 1), dtype=tf.float32, name='lstm_230_input'), name='lstm_230_input', description=\"created by layer 'lstm_230_input'\"), but it was called on an input with incompatible shape (None, 9, 1).\n",
      "WARNING:tensorflow:Model was constructed with shape (None, 1, 1) for input KerasTensor(type_spec=TensorSpec(shape=(None, 1, 1), dtype=tf.float32, name='lstm_230_input'), name='lstm_230_input', description=\"created by layer 'lstm_230_input'\"), but it was called on an input with incompatible shape (None, 9, 1).\n",
      "WARNING:tensorflow:Model was constructed with shape (None, 1, 1) for input KerasTensor(type_spec=TensorSpec(shape=(None, 1, 1), dtype=tf.float32, name='lstm_230_input'), name='lstm_230_input', description=\"created by layer 'lstm_230_input'\"), but it was called on an input with incompatible shape (None, 9, 1).\n",
      "WARNING:tensorflow:Model was constructed with shape (None, 1, 1) for input KerasTensor(type_spec=TensorSpec(shape=(None, 1, 1), dtype=tf.float32, name='lstm_231_input'), name='lstm_231_input', description=\"created by layer 'lstm_231_input'\"), but it was called on an input with incompatible shape (None, 9, 1).\n",
      "WARNING:tensorflow:Model was constructed with shape (None, 1, 1) for input KerasTensor(type_spec=TensorSpec(shape=(None, 1, 1), dtype=tf.float32, name='lstm_231_input'), name='lstm_231_input', description=\"created by layer 'lstm_231_input'\"), but it was called on an input with incompatible shape (None, 9, 1).\n",
      "WARNING:tensorflow:Model was constructed with shape (None, 1, 1) for input KerasTensor(type_spec=TensorSpec(shape=(None, 1, 1), dtype=tf.float32, name='lstm_231_input'), name='lstm_231_input', description=\"created by layer 'lstm_231_input'\"), but it was called on an input with incompatible shape (None, 9, 1).\n",
      "WARNING:tensorflow:Model was constructed with shape (None, 2, 1) for input KerasTensor(type_spec=TensorSpec(shape=(None, 2, 1), dtype=tf.float32, name='lstm_232_input'), name='lstm_232_input', description=\"created by layer 'lstm_232_input'\"), but it was called on an input with incompatible shape (None, 9, 1).\n",
      "WARNING:tensorflow:Model was constructed with shape (None, 2, 1) for input KerasTensor(type_spec=TensorSpec(shape=(None, 2, 1), dtype=tf.float32, name='lstm_232_input'), name='lstm_232_input', description=\"created by layer 'lstm_232_input'\"), but it was called on an input with incompatible shape (None, 9, 1).\n",
      "WARNING:tensorflow:Model was constructed with shape (None, 2, 1) for input KerasTensor(type_spec=TensorSpec(shape=(None, 2, 1), dtype=tf.float32, name='lstm_232_input'), name='lstm_232_input', description=\"created by layer 'lstm_232_input'\"), but it was called on an input with incompatible shape (None, 9, 1).\n"
     ]
    },
    {
     "name": "stdout",
     "output_type": "stream",
     "text": [
      "WARNING:tensorflow:Model was constructed with shape (None, 2, 1) for input KerasTensor(type_spec=TensorSpec(shape=(None, 2, 1), dtype=tf.float32, name='lstm_233_input'), name='lstm_233_input', description=\"created by layer 'lstm_233_input'\"), but it was called on an input with incompatible shape (None, 9, 1).\n",
      "WARNING:tensorflow:Model was constructed with shape (None, 2, 1) for input KerasTensor(type_spec=TensorSpec(shape=(None, 2, 1), dtype=tf.float32, name='lstm_233_input'), name='lstm_233_input', description=\"created by layer 'lstm_233_input'\"), but it was called on an input with incompatible shape (None, 9, 1).\n",
      "WARNING:tensorflow:Model was constructed with shape (None, 2, 1) for input KerasTensor(type_spec=TensorSpec(shape=(None, 2, 1), dtype=tf.float32, name='lstm_233_input'), name='lstm_233_input', description=\"created by layer 'lstm_233_input'\"), but it was called on an input with incompatible shape (None, 9, 1).\n",
      "WARNING:tensorflow:Model was constructed with shape (None, 3, 1) for input KerasTensor(type_spec=TensorSpec(shape=(None, 3, 1), dtype=tf.float32, name='lstm_234_input'), name='lstm_234_input', description=\"created by layer 'lstm_234_input'\"), but it was called on an input with incompatible shape (None, 9, 1).\n",
      "WARNING:tensorflow:Model was constructed with shape (None, 3, 1) for input KerasTensor(type_spec=TensorSpec(shape=(None, 3, 1), dtype=tf.float32, name='lstm_234_input'), name='lstm_234_input', description=\"created by layer 'lstm_234_input'\"), but it was called on an input with incompatible shape (None, 9, 1).\n",
      "WARNING:tensorflow:Model was constructed with shape (None, 3, 1) for input KerasTensor(type_spec=TensorSpec(shape=(None, 3, 1), dtype=tf.float32, name='lstm_234_input'), name='lstm_234_input', description=\"created by layer 'lstm_234_input'\"), but it was called on an input with incompatible shape (None, 9, 1).\n",
      "WARNING:tensorflow:Model was constructed with shape (None, 3, 1) for input KerasTensor(type_spec=TensorSpec(shape=(None, 3, 1), dtype=tf.float32, name='lstm_235_input'), name='lstm_235_input', description=\"created by layer 'lstm_235_input'\"), but it was called on an input with incompatible shape (None, 9, 1).\n",
      "WARNING:tensorflow:Model was constructed with shape (None, 3, 1) for input KerasTensor(type_spec=TensorSpec(shape=(None, 3, 1), dtype=tf.float32, name='lstm_235_input'), name='lstm_235_input', description=\"created by layer 'lstm_235_input'\"), but it was called on an input with incompatible shape (None, 9, 1).\n",
      "WARNING:tensorflow:Model was constructed with shape (None, 3, 1) for input KerasTensor(type_spec=TensorSpec(shape=(None, 3, 1), dtype=tf.float32, name='lstm_235_input'), name='lstm_235_input', description=\"created by layer 'lstm_235_input'\"), but it was called on an input with incompatible shape (None, 9, 1).\n",
      "WARNING:tensorflow:Model was constructed with shape (None, 1, 1) for input KerasTensor(type_spec=TensorSpec(shape=(None, 1, 1), dtype=tf.float32, name='lstm_236_input'), name='lstm_236_input', description=\"created by layer 'lstm_236_input'\"), but it was called on an input with incompatible shape (None, 9, 1).\n",
      "WARNING:tensorflow:Model was constructed with shape (None, 1, 1) for input KerasTensor(type_spec=TensorSpec(shape=(None, 1, 1), dtype=tf.float32, name='lstm_236_input'), name='lstm_236_input', description=\"created by layer 'lstm_236_input'\"), but it was called on an input with incompatible shape (None, 9, 1).\n",
      "WARNING:tensorflow:Model was constructed with shape (None, 1, 1) for input KerasTensor(type_spec=TensorSpec(shape=(None, 1, 1), dtype=tf.float32, name='lstm_236_input'), name='lstm_236_input', description=\"created by layer 'lstm_236_input'\"), but it was called on an input with incompatible shape (None, 9, 1).\n",
      "WARNING:tensorflow:Model was constructed with shape (None, 1, 1) for input KerasTensor(type_spec=TensorSpec(shape=(None, 1, 1), dtype=tf.float32, name='lstm_237_input'), name='lstm_237_input', description=\"created by layer 'lstm_237_input'\"), but it was called on an input with incompatible shape (None, 9, 1).\n",
      "WARNING:tensorflow:Model was constructed with shape (None, 1, 1) for input KerasTensor(type_spec=TensorSpec(shape=(None, 1, 1), dtype=tf.float32, name='lstm_237_input'), name='lstm_237_input', description=\"created by layer 'lstm_237_input'\"), but it was called on an input with incompatible shape (None, 9, 1).\n",
      "WARNING:tensorflow:Model was constructed with shape (None, 1, 1) for input KerasTensor(type_spec=TensorSpec(shape=(None, 1, 1), dtype=tf.float32, name='lstm_237_input'), name='lstm_237_input', description=\"created by layer 'lstm_237_input'\"), but it was called on an input with incompatible shape (None, 9, 1).\n",
      "WARNING:tensorflow:Model was constructed with shape (None, 2, 1) for input KerasTensor(type_spec=TensorSpec(shape=(None, 2, 1), dtype=tf.float32, name='lstm_238_input'), name='lstm_238_input', description=\"created by layer 'lstm_238_input'\"), but it was called on an input with incompatible shape (None, 9, 1).\n",
      "WARNING:tensorflow:Model was constructed with shape (None, 2, 1) for input KerasTensor(type_spec=TensorSpec(shape=(None, 2, 1), dtype=tf.float32, name='lstm_238_input'), name='lstm_238_input', description=\"created by layer 'lstm_238_input'\"), but it was called on an input with incompatible shape (None, 9, 1).\n",
      "WARNING:tensorflow:Model was constructed with shape (None, 2, 1) for input KerasTensor(type_spec=TensorSpec(shape=(None, 2, 1), dtype=tf.float32, name='lstm_238_input'), name='lstm_238_input', description=\"created by layer 'lstm_238_input'\"), but it was called on an input with incompatible shape (None, 9, 1).\n",
      "WARNING:tensorflow:Model was constructed with shape (None, 2, 1) for input KerasTensor(type_spec=TensorSpec(shape=(None, 2, 1), dtype=tf.float32, name='lstm_239_input'), name='lstm_239_input', description=\"created by layer 'lstm_239_input'\"), but it was called on an input with incompatible shape (None, 9, 1).\n",
      "WARNING:tensorflow:Model was constructed with shape (None, 2, 1) for input KerasTensor(type_spec=TensorSpec(shape=(None, 2, 1), dtype=tf.float32, name='lstm_239_input'), name='lstm_239_input', description=\"created by layer 'lstm_239_input'\"), but it was called on an input with incompatible shape (None, 9, 1).\n",
      "WARNING:tensorflow:Model was constructed with shape (None, 2, 1) for input KerasTensor(type_spec=TensorSpec(shape=(None, 2, 1), dtype=tf.float32, name='lstm_239_input'), name='lstm_239_input', description=\"created by layer 'lstm_239_input'\"), but it was called on an input with incompatible shape (None, 9, 1).\n",
      "WARNING:tensorflow:Model was constructed with shape (None, 3, 1) for input KerasTensor(type_spec=TensorSpec(shape=(None, 3, 1), dtype=tf.float32, name='lstm_240_input'), name='lstm_240_input', description=\"created by layer 'lstm_240_input'\"), but it was called on an input with incompatible shape (None, 9, 1).\n",
      "WARNING:tensorflow:Model was constructed with shape (None, 3, 1) for input KerasTensor(type_spec=TensorSpec(shape=(None, 3, 1), dtype=tf.float32, name='lstm_240_input'), name='lstm_240_input', description=\"created by layer 'lstm_240_input'\"), but it was called on an input with incompatible shape (None, 9, 1).\n",
      "WARNING:tensorflow:Model was constructed with shape (None, 3, 1) for input KerasTensor(type_spec=TensorSpec(shape=(None, 3, 1), dtype=tf.float32, name='lstm_240_input'), name='lstm_240_input', description=\"created by layer 'lstm_240_input'\"), but it was called on an input with incompatible shape (None, 9, 1).\n",
      "WARNING:tensorflow:Model was constructed with shape (None, 3, 1) for input KerasTensor(type_spec=TensorSpec(shape=(None, 3, 1), dtype=tf.float32, name='lstm_241_input'), name='lstm_241_input', description=\"created by layer 'lstm_241_input'\"), but it was called on an input with incompatible shape (None, 9, 1).\n",
      "WARNING:tensorflow:Model was constructed with shape (None, 3, 1) for input KerasTensor(type_spec=TensorSpec(shape=(None, 3, 1), dtype=tf.float32, name='lstm_241_input'), name='lstm_241_input', description=\"created by layer 'lstm_241_input'\"), but it was called on an input with incompatible shape (None, 9, 1).\n",
      "WARNING:tensorflow:Model was constructed with shape (None, 3, 1) for input KerasTensor(type_spec=TensorSpec(shape=(None, 3, 1), dtype=tf.float32, name='lstm_241_input'), name='lstm_241_input', description=\"created by layer 'lstm_241_input'\"), but it was called on an input with incompatible shape (None, 9, 1).\n"
     ]
    },
    {
     "name": "stdout",
     "output_type": "stream",
     "text": [
      "WARNING:tensorflow:Model was constructed with shape (None, 1, 1) for input KerasTensor(type_spec=TensorSpec(shape=(None, 1, 1), dtype=tf.float32, name='lstm_242_input'), name='lstm_242_input', description=\"created by layer 'lstm_242_input'\"), but it was called on an input with incompatible shape (None, 9, 1).\n",
      "WARNING:tensorflow:Model was constructed with shape (None, 1, 1) for input KerasTensor(type_spec=TensorSpec(shape=(None, 1, 1), dtype=tf.float32, name='lstm_242_input'), name='lstm_242_input', description=\"created by layer 'lstm_242_input'\"), but it was called on an input with incompatible shape (None, 9, 1).\n",
      "WARNING:tensorflow:Model was constructed with shape (None, 1, 1) for input KerasTensor(type_spec=TensorSpec(shape=(None, 1, 1), dtype=tf.float32, name='lstm_242_input'), name='lstm_242_input', description=\"created by layer 'lstm_242_input'\"), but it was called on an input with incompatible shape (None, 9, 1).\n",
      "WARNING:tensorflow:Model was constructed with shape (None, 1, 1) for input KerasTensor(type_spec=TensorSpec(shape=(None, 1, 1), dtype=tf.float32, name='lstm_244_input'), name='lstm_244_input', description=\"created by layer 'lstm_244_input'\"), but it was called on an input with incompatible shape (None, 9, 1).\n",
      "WARNING:tensorflow:Model was constructed with shape (None, 1, 1) for input KerasTensor(type_spec=TensorSpec(shape=(None, 1, 1), dtype=tf.float32, name='lstm_244_input'), name='lstm_244_input', description=\"created by layer 'lstm_244_input'\"), but it was called on an input with incompatible shape (None, 9, 1).\n",
      "WARNING:tensorflow:Model was constructed with shape (None, 1, 1) for input KerasTensor(type_spec=TensorSpec(shape=(None, 1, 1), dtype=tf.float32, name='lstm_244_input'), name='lstm_244_input', description=\"created by layer 'lstm_244_input'\"), but it was called on an input with incompatible shape (None, 9, 1).\n",
      "WARNING:tensorflow:Model was constructed with shape (None, 2, 1) for input KerasTensor(type_spec=TensorSpec(shape=(None, 2, 1), dtype=tf.float32, name='lstm_246_input'), name='lstm_246_input', description=\"created by layer 'lstm_246_input'\"), but it was called on an input with incompatible shape (None, 9, 1).\n",
      "WARNING:tensorflow:Model was constructed with shape (None, 2, 1) for input KerasTensor(type_spec=TensorSpec(shape=(None, 2, 1), dtype=tf.float32, name='lstm_246_input'), name='lstm_246_input', description=\"created by layer 'lstm_246_input'\"), but it was called on an input with incompatible shape (None, 9, 1).\n",
      "WARNING:tensorflow:Model was constructed with shape (None, 2, 1) for input KerasTensor(type_spec=TensorSpec(shape=(None, 2, 1), dtype=tf.float32, name='lstm_246_input'), name='lstm_246_input', description=\"created by layer 'lstm_246_input'\"), but it was called on an input with incompatible shape (None, 9, 1).\n",
      "WARNING:tensorflow:Model was constructed with shape (None, 2, 1) for input KerasTensor(type_spec=TensorSpec(shape=(None, 2, 1), dtype=tf.float32, name='lstm_248_input'), name='lstm_248_input', description=\"created by layer 'lstm_248_input'\"), but it was called on an input with incompatible shape (None, 9, 1).\n",
      "WARNING:tensorflow:Model was constructed with shape (None, 2, 1) for input KerasTensor(type_spec=TensorSpec(shape=(None, 2, 1), dtype=tf.float32, name='lstm_248_input'), name='lstm_248_input', description=\"created by layer 'lstm_248_input'\"), but it was called on an input with incompatible shape (None, 9, 1).\n",
      "WARNING:tensorflow:Model was constructed with shape (None, 2, 1) for input KerasTensor(type_spec=TensorSpec(shape=(None, 2, 1), dtype=tf.float32, name='lstm_248_input'), name='lstm_248_input', description=\"created by layer 'lstm_248_input'\"), but it was called on an input with incompatible shape (None, 9, 1).\n",
      "WARNING:tensorflow:Model was constructed with shape (None, 3, 1) for input KerasTensor(type_spec=TensorSpec(shape=(None, 3, 1), dtype=tf.float32, name='lstm_250_input'), name='lstm_250_input', description=\"created by layer 'lstm_250_input'\"), but it was called on an input with incompatible shape (None, 9, 1).\n",
      "WARNING:tensorflow:Model was constructed with shape (None, 3, 1) for input KerasTensor(type_spec=TensorSpec(shape=(None, 3, 1), dtype=tf.float32, name='lstm_250_input'), name='lstm_250_input', description=\"created by layer 'lstm_250_input'\"), but it was called on an input with incompatible shape (None, 9, 1).\n",
      "WARNING:tensorflow:Model was constructed with shape (None, 3, 1) for input KerasTensor(type_spec=TensorSpec(shape=(None, 3, 1), dtype=tf.float32, name='lstm_250_input'), name='lstm_250_input', description=\"created by layer 'lstm_250_input'\"), but it was called on an input with incompatible shape (None, 9, 1).\n",
      "WARNING:tensorflow:Model was constructed with shape (None, 3, 1) for input KerasTensor(type_spec=TensorSpec(shape=(None, 3, 1), dtype=tf.float32, name='lstm_252_input'), name='lstm_252_input', description=\"created by layer 'lstm_252_input'\"), but it was called on an input with incompatible shape (None, 9, 1).\n",
      "WARNING:tensorflow:Model was constructed with shape (None, 3, 1) for input KerasTensor(type_spec=TensorSpec(shape=(None, 3, 1), dtype=tf.float32, name='lstm_252_input'), name='lstm_252_input', description=\"created by layer 'lstm_252_input'\"), but it was called on an input with incompatible shape (None, 9, 1).\n",
      "WARNING:tensorflow:Model was constructed with shape (None, 3, 1) for input KerasTensor(type_spec=TensorSpec(shape=(None, 3, 1), dtype=tf.float32, name='lstm_252_input'), name='lstm_252_input', description=\"created by layer 'lstm_252_input'\"), but it was called on an input with incompatible shape (None, 9, 1).\n",
      "WARNING:tensorflow:Model was constructed with shape (None, 1, 1) for input KerasTensor(type_spec=TensorSpec(shape=(None, 1, 1), dtype=tf.float32, name='lstm_254_input'), name='lstm_254_input', description=\"created by layer 'lstm_254_input'\"), but it was called on an input with incompatible shape (None, 9, 1).\n",
      "WARNING:tensorflow:Model was constructed with shape (None, 1, 1) for input KerasTensor(type_spec=TensorSpec(shape=(None, 1, 1), dtype=tf.float32, name='lstm_254_input'), name='lstm_254_input', description=\"created by layer 'lstm_254_input'\"), but it was called on an input with incompatible shape (None, 9, 1).\n",
      "WARNING:tensorflow:Model was constructed with shape (None, 1, 1) for input KerasTensor(type_spec=TensorSpec(shape=(None, 1, 1), dtype=tf.float32, name='lstm_254_input'), name='lstm_254_input', description=\"created by layer 'lstm_254_input'\"), but it was called on an input with incompatible shape (None, 9, 1).\n",
      "WARNING:tensorflow:Model was constructed with shape (None, 1, 1) for input KerasTensor(type_spec=TensorSpec(shape=(None, 1, 1), dtype=tf.float32, name='lstm_256_input'), name='lstm_256_input', description=\"created by layer 'lstm_256_input'\"), but it was called on an input with incompatible shape (None, 9, 1).\n",
      "WARNING:tensorflow:Model was constructed with shape (None, 1, 1) for input KerasTensor(type_spec=TensorSpec(shape=(None, 1, 1), dtype=tf.float32, name='lstm_256_input'), name='lstm_256_input', description=\"created by layer 'lstm_256_input'\"), but it was called on an input with incompatible shape (None, 9, 1).\n",
      "WARNING:tensorflow:Model was constructed with shape (None, 1, 1) for input KerasTensor(type_spec=TensorSpec(shape=(None, 1, 1), dtype=tf.float32, name='lstm_256_input'), name='lstm_256_input', description=\"created by layer 'lstm_256_input'\"), but it was called on an input with incompatible shape (None, 9, 1).\n",
      "WARNING:tensorflow:Model was constructed with shape (None, 2, 1) for input KerasTensor(type_spec=TensorSpec(shape=(None, 2, 1), dtype=tf.float32, name='lstm_258_input'), name='lstm_258_input', description=\"created by layer 'lstm_258_input'\"), but it was called on an input with incompatible shape (None, 9, 1).\n",
      "WARNING:tensorflow:Model was constructed with shape (None, 2, 1) for input KerasTensor(type_spec=TensorSpec(shape=(None, 2, 1), dtype=tf.float32, name='lstm_258_input'), name='lstm_258_input', description=\"created by layer 'lstm_258_input'\"), but it was called on an input with incompatible shape (None, 9, 1).\n",
      "WARNING:tensorflow:Model was constructed with shape (None, 2, 1) for input KerasTensor(type_spec=TensorSpec(shape=(None, 2, 1), dtype=tf.float32, name='lstm_258_input'), name='lstm_258_input', description=\"created by layer 'lstm_258_input'\"), but it was called on an input with incompatible shape (None, 9, 1).\n"
     ]
    },
    {
     "name": "stdout",
     "output_type": "stream",
     "text": [
      "WARNING:tensorflow:Model was constructed with shape (None, 2, 1) for input KerasTensor(type_spec=TensorSpec(shape=(None, 2, 1), dtype=tf.float32, name='lstm_260_input'), name='lstm_260_input', description=\"created by layer 'lstm_260_input'\"), but it was called on an input with incompatible shape (None, 9, 1).\n",
      "WARNING:tensorflow:Model was constructed with shape (None, 2, 1) for input KerasTensor(type_spec=TensorSpec(shape=(None, 2, 1), dtype=tf.float32, name='lstm_260_input'), name='lstm_260_input', description=\"created by layer 'lstm_260_input'\"), but it was called on an input with incompatible shape (None, 9, 1).\n",
      "WARNING:tensorflow:Model was constructed with shape (None, 2, 1) for input KerasTensor(type_spec=TensorSpec(shape=(None, 2, 1), dtype=tf.float32, name='lstm_260_input'), name='lstm_260_input', description=\"created by layer 'lstm_260_input'\"), but it was called on an input with incompatible shape (None, 9, 1).\n",
      "WARNING:tensorflow:Model was constructed with shape (None, 3, 1) for input KerasTensor(type_spec=TensorSpec(shape=(None, 3, 1), dtype=tf.float32, name='lstm_262_input'), name='lstm_262_input', description=\"created by layer 'lstm_262_input'\"), but it was called on an input with incompatible shape (None, 9, 1).\n",
      "WARNING:tensorflow:Model was constructed with shape (None, 3, 1) for input KerasTensor(type_spec=TensorSpec(shape=(None, 3, 1), dtype=tf.float32, name='lstm_262_input'), name='lstm_262_input', description=\"created by layer 'lstm_262_input'\"), but it was called on an input with incompatible shape (None, 9, 1).\n",
      "WARNING:tensorflow:Model was constructed with shape (None, 3, 1) for input KerasTensor(type_spec=TensorSpec(shape=(None, 3, 1), dtype=tf.float32, name='lstm_262_input'), name='lstm_262_input', description=\"created by layer 'lstm_262_input'\"), but it was called on an input with incompatible shape (None, 9, 1).\n",
      "WARNING:tensorflow:Model was constructed with shape (None, 3, 1) for input KerasTensor(type_spec=TensorSpec(shape=(None, 3, 1), dtype=tf.float32, name='lstm_264_input'), name='lstm_264_input', description=\"created by layer 'lstm_264_input'\"), but it was called on an input with incompatible shape (None, 9, 1).\n",
      "WARNING:tensorflow:Model was constructed with shape (None, 3, 1) for input KerasTensor(type_spec=TensorSpec(shape=(None, 3, 1), dtype=tf.float32, name='lstm_264_input'), name='lstm_264_input', description=\"created by layer 'lstm_264_input'\"), but it was called on an input with incompatible shape (None, 9, 1).\n",
      "WARNING:tensorflow:Model was constructed with shape (None, 3, 1) for input KerasTensor(type_spec=TensorSpec(shape=(None, 3, 1), dtype=tf.float32, name='lstm_264_input'), name='lstm_264_input', description=\"created by layer 'lstm_264_input'\"), but it was called on an input with incompatible shape (None, 9, 1).\n",
      "WARNING:tensorflow:Model was constructed with shape (None, 1, 1) for input KerasTensor(type_spec=TensorSpec(shape=(None, 1, 1), dtype=tf.float32, name='lstm_266_input'), name='lstm_266_input', description=\"created by layer 'lstm_266_input'\"), but it was called on an input with incompatible shape (None, 9, 1).\n",
      "WARNING:tensorflow:Model was constructed with shape (None, 1, 1) for input KerasTensor(type_spec=TensorSpec(shape=(None, 1, 1), dtype=tf.float32, name='lstm_266_input'), name='lstm_266_input', description=\"created by layer 'lstm_266_input'\"), but it was called on an input with incompatible shape (None, 9, 1).\n",
      "WARNING:tensorflow:Model was constructed with shape (None, 1, 1) for input KerasTensor(type_spec=TensorSpec(shape=(None, 1, 1), dtype=tf.float32, name='lstm_266_input'), name='lstm_266_input', description=\"created by layer 'lstm_266_input'\"), but it was called on an input with incompatible shape (None, 9, 1).\n",
      "WARNING:tensorflow:Model was constructed with shape (None, 1, 1) for input KerasTensor(type_spec=TensorSpec(shape=(None, 1, 1), dtype=tf.float32, name='lstm_268_input'), name='lstm_268_input', description=\"created by layer 'lstm_268_input'\"), but it was called on an input with incompatible shape (None, 9, 1).\n",
      "WARNING:tensorflow:Model was constructed with shape (None, 1, 1) for input KerasTensor(type_spec=TensorSpec(shape=(None, 1, 1), dtype=tf.float32, name='lstm_268_input'), name='lstm_268_input', description=\"created by layer 'lstm_268_input'\"), but it was called on an input with incompatible shape (None, 9, 1).\n",
      "WARNING:tensorflow:Model was constructed with shape (None, 1, 1) for input KerasTensor(type_spec=TensorSpec(shape=(None, 1, 1), dtype=tf.float32, name='lstm_268_input'), name='lstm_268_input', description=\"created by layer 'lstm_268_input'\"), but it was called on an input with incompatible shape (None, 9, 1).\n",
      "WARNING:tensorflow:Model was constructed with shape (None, 2, 1) for input KerasTensor(type_spec=TensorSpec(shape=(None, 2, 1), dtype=tf.float32, name='lstm_270_input'), name='lstm_270_input', description=\"created by layer 'lstm_270_input'\"), but it was called on an input with incompatible shape (None, 9, 1).\n",
      "WARNING:tensorflow:Model was constructed with shape (None, 2, 1) for input KerasTensor(type_spec=TensorSpec(shape=(None, 2, 1), dtype=tf.float32, name='lstm_270_input'), name='lstm_270_input', description=\"created by layer 'lstm_270_input'\"), but it was called on an input with incompatible shape (None, 9, 1).\n",
      "WARNING:tensorflow:Model was constructed with shape (None, 2, 1) for input KerasTensor(type_spec=TensorSpec(shape=(None, 2, 1), dtype=tf.float32, name='lstm_270_input'), name='lstm_270_input', description=\"created by layer 'lstm_270_input'\"), but it was called on an input with incompatible shape (None, 9, 1).\n",
      "WARNING:tensorflow:Model was constructed with shape (None, 2, 1) for input KerasTensor(type_spec=TensorSpec(shape=(None, 2, 1), dtype=tf.float32, name='lstm_272_input'), name='lstm_272_input', description=\"created by layer 'lstm_272_input'\"), but it was called on an input with incompatible shape (None, 9, 1).\n",
      "WARNING:tensorflow:Model was constructed with shape (None, 2, 1) for input KerasTensor(type_spec=TensorSpec(shape=(None, 2, 1), dtype=tf.float32, name='lstm_272_input'), name='lstm_272_input', description=\"created by layer 'lstm_272_input'\"), but it was called on an input with incompatible shape (None, 9, 1).\n",
      "WARNING:tensorflow:Model was constructed with shape (None, 2, 1) for input KerasTensor(type_spec=TensorSpec(shape=(None, 2, 1), dtype=tf.float32, name='lstm_272_input'), name='lstm_272_input', description=\"created by layer 'lstm_272_input'\"), but it was called on an input with incompatible shape (None, 9, 1).\n",
      "WARNING:tensorflow:Model was constructed with shape (None, 3, 1) for input KerasTensor(type_spec=TensorSpec(shape=(None, 3, 1), dtype=tf.float32, name='lstm_274_input'), name='lstm_274_input', description=\"created by layer 'lstm_274_input'\"), but it was called on an input with incompatible shape (None, 9, 1).\n",
      "WARNING:tensorflow:Model was constructed with shape (None, 3, 1) for input KerasTensor(type_spec=TensorSpec(shape=(None, 3, 1), dtype=tf.float32, name='lstm_274_input'), name='lstm_274_input', description=\"created by layer 'lstm_274_input'\"), but it was called on an input with incompatible shape (None, 9, 1).\n",
      "WARNING:tensorflow:Model was constructed with shape (None, 3, 1) for input KerasTensor(type_spec=TensorSpec(shape=(None, 3, 1), dtype=tf.float32, name='lstm_274_input'), name='lstm_274_input', description=\"created by layer 'lstm_274_input'\"), but it was called on an input with incompatible shape (None, 9, 1).\n",
      "WARNING:tensorflow:Model was constructed with shape (None, 3, 1) for input KerasTensor(type_spec=TensorSpec(shape=(None, 3, 1), dtype=tf.float32, name='lstm_276_input'), name='lstm_276_input', description=\"created by layer 'lstm_276_input'\"), but it was called on an input with incompatible shape (None, 9, 1).\n",
      "WARNING:tensorflow:Model was constructed with shape (None, 3, 1) for input KerasTensor(type_spec=TensorSpec(shape=(None, 3, 1), dtype=tf.float32, name='lstm_276_input'), name='lstm_276_input', description=\"created by layer 'lstm_276_input'\"), but it was called on an input with incompatible shape (None, 9, 1).\n",
      "WARNING:tensorflow:Model was constructed with shape (None, 3, 1) for input KerasTensor(type_spec=TensorSpec(shape=(None, 3, 1), dtype=tf.float32, name='lstm_276_input'), name='lstm_276_input', description=\"created by layer 'lstm_276_input'\"), but it was called on an input with incompatible shape (None, 9, 1).\n"
     ]
    },
    {
     "name": "stdout",
     "output_type": "stream",
     "text": [
      "WARNING:tensorflow:Model was constructed with shape (None, 1, 1) for input KerasTensor(type_spec=TensorSpec(shape=(None, 1, 1), dtype=tf.float32, name='lstm_278_input'), name='lstm_278_input', description=\"created by layer 'lstm_278_input'\"), but it was called on an input with incompatible shape (None, 9, 1).\n",
      "WARNING:tensorflow:Model was constructed with shape (None, 1, 1) for input KerasTensor(type_spec=TensorSpec(shape=(None, 1, 1), dtype=tf.float32, name='lstm_278_input'), name='lstm_278_input', description=\"created by layer 'lstm_278_input'\"), but it was called on an input with incompatible shape (None, 9, 1).\n",
      "WARNING:tensorflow:Model was constructed with shape (None, 1, 1) for input KerasTensor(type_spec=TensorSpec(shape=(None, 1, 1), dtype=tf.float32, name='lstm_278_input'), name='lstm_278_input', description=\"created by layer 'lstm_278_input'\"), but it was called on an input with incompatible shape (None, 9, 1).\n",
      "WARNING:tensorflow:Model was constructed with shape (None, 1, 1) for input KerasTensor(type_spec=TensorSpec(shape=(None, 1, 1), dtype=tf.float32, name='lstm_281_input'), name='lstm_281_input', description=\"created by layer 'lstm_281_input'\"), but it was called on an input with incompatible shape (None, 9, 1).\n",
      "WARNING:tensorflow:Model was constructed with shape (None, 1, 1) for input KerasTensor(type_spec=TensorSpec(shape=(None, 1, 1), dtype=tf.float32, name='lstm_281_input'), name='lstm_281_input', description=\"created by layer 'lstm_281_input'\"), but it was called on an input with incompatible shape (None, 9, 1).\n",
      "WARNING:tensorflow:Model was constructed with shape (None, 1, 1) for input KerasTensor(type_spec=TensorSpec(shape=(None, 1, 1), dtype=tf.float32, name='lstm_281_input'), name='lstm_281_input', description=\"created by layer 'lstm_281_input'\"), but it was called on an input with incompatible shape (None, 9, 1).\n",
      "WARNING:tensorflow:Model was constructed with shape (None, 2, 1) for input KerasTensor(type_spec=TensorSpec(shape=(None, 2, 1), dtype=tf.float32, name='lstm_284_input'), name='lstm_284_input', description=\"created by layer 'lstm_284_input'\"), but it was called on an input with incompatible shape (None, 9, 1).\n",
      "WARNING:tensorflow:Model was constructed with shape (None, 2, 1) for input KerasTensor(type_spec=TensorSpec(shape=(None, 2, 1), dtype=tf.float32, name='lstm_284_input'), name='lstm_284_input', description=\"created by layer 'lstm_284_input'\"), but it was called on an input with incompatible shape (None, 9, 1).\n",
      "WARNING:tensorflow:Model was constructed with shape (None, 2, 1) for input KerasTensor(type_spec=TensorSpec(shape=(None, 2, 1), dtype=tf.float32, name='lstm_284_input'), name='lstm_284_input', description=\"created by layer 'lstm_284_input'\"), but it was called on an input with incompatible shape (None, 9, 1).\n",
      "WARNING:tensorflow:Model was constructed with shape (None, 2, 1) for input KerasTensor(type_spec=TensorSpec(shape=(None, 2, 1), dtype=tf.float32, name='lstm_287_input'), name='lstm_287_input', description=\"created by layer 'lstm_287_input'\"), but it was called on an input with incompatible shape (None, 9, 1).\n",
      "WARNING:tensorflow:Model was constructed with shape (None, 2, 1) for input KerasTensor(type_spec=TensorSpec(shape=(None, 2, 1), dtype=tf.float32, name='lstm_287_input'), name='lstm_287_input', description=\"created by layer 'lstm_287_input'\"), but it was called on an input with incompatible shape (None, 9, 1).\n",
      "WARNING:tensorflow:Model was constructed with shape (None, 2, 1) for input KerasTensor(type_spec=TensorSpec(shape=(None, 2, 1), dtype=tf.float32, name='lstm_287_input'), name='lstm_287_input', description=\"created by layer 'lstm_287_input'\"), but it was called on an input with incompatible shape (None, 9, 1).\n",
      "WARNING:tensorflow:Model was constructed with shape (None, 3, 1) for input KerasTensor(type_spec=TensorSpec(shape=(None, 3, 1), dtype=tf.float32, name='lstm_290_input'), name='lstm_290_input', description=\"created by layer 'lstm_290_input'\"), but it was called on an input with incompatible shape (None, 9, 1).\n",
      "WARNING:tensorflow:Model was constructed with shape (None, 3, 1) for input KerasTensor(type_spec=TensorSpec(shape=(None, 3, 1), dtype=tf.float32, name='lstm_290_input'), name='lstm_290_input', description=\"created by layer 'lstm_290_input'\"), but it was called on an input with incompatible shape (None, 9, 1).\n",
      "WARNING:tensorflow:Model was constructed with shape (None, 3, 1) for input KerasTensor(type_spec=TensorSpec(shape=(None, 3, 1), dtype=tf.float32, name='lstm_290_input'), name='lstm_290_input', description=\"created by layer 'lstm_290_input'\"), but it was called on an input with incompatible shape (None, 9, 1).\n",
      "WARNING:tensorflow:Model was constructed with shape (None, 3, 1) for input KerasTensor(type_spec=TensorSpec(shape=(None, 3, 1), dtype=tf.float32, name='lstm_293_input'), name='lstm_293_input', description=\"created by layer 'lstm_293_input'\"), but it was called on an input with incompatible shape (None, 9, 1).\n",
      "WARNING:tensorflow:Model was constructed with shape (None, 3, 1) for input KerasTensor(type_spec=TensorSpec(shape=(None, 3, 1), dtype=tf.float32, name='lstm_293_input'), name='lstm_293_input', description=\"created by layer 'lstm_293_input'\"), but it was called on an input with incompatible shape (None, 9, 1).\n",
      "WARNING:tensorflow:Model was constructed with shape (None, 3, 1) for input KerasTensor(type_spec=TensorSpec(shape=(None, 3, 1), dtype=tf.float32, name='lstm_293_input'), name='lstm_293_input', description=\"created by layer 'lstm_293_input'\"), but it was called on an input with incompatible shape (None, 9, 1).\n",
      "WARNING:tensorflow:Model was constructed with shape (None, 1, 1) for input KerasTensor(type_spec=TensorSpec(shape=(None, 1, 1), dtype=tf.float32, name='lstm_296_input'), name='lstm_296_input', description=\"created by layer 'lstm_296_input'\"), but it was called on an input with incompatible shape (None, 9, 1).\n",
      "WARNING:tensorflow:Model was constructed with shape (None, 1, 1) for input KerasTensor(type_spec=TensorSpec(shape=(None, 1, 1), dtype=tf.float32, name='lstm_296_input'), name='lstm_296_input', description=\"created by layer 'lstm_296_input'\"), but it was called on an input with incompatible shape (None, 9, 1).\n",
      "WARNING:tensorflow:Model was constructed with shape (None, 1, 1) for input KerasTensor(type_spec=TensorSpec(shape=(None, 1, 1), dtype=tf.float32, name='lstm_296_input'), name='lstm_296_input', description=\"created by layer 'lstm_296_input'\"), but it was called on an input with incompatible shape (None, 9, 1).\n",
      "WARNING:tensorflow:Model was constructed with shape (None, 1, 1) for input KerasTensor(type_spec=TensorSpec(shape=(None, 1, 1), dtype=tf.float32, name='lstm_299_input'), name='lstm_299_input', description=\"created by layer 'lstm_299_input'\"), but it was called on an input with incompatible shape (None, 9, 1).\n",
      "WARNING:tensorflow:Model was constructed with shape (None, 1, 1) for input KerasTensor(type_spec=TensorSpec(shape=(None, 1, 1), dtype=tf.float32, name='lstm_299_input'), name='lstm_299_input', description=\"created by layer 'lstm_299_input'\"), but it was called on an input with incompatible shape (None, 9, 1).\n",
      "WARNING:tensorflow:Model was constructed with shape (None, 1, 1) for input KerasTensor(type_spec=TensorSpec(shape=(None, 1, 1), dtype=tf.float32, name='lstm_299_input'), name='lstm_299_input', description=\"created by layer 'lstm_299_input'\"), but it was called on an input with incompatible shape (None, 9, 1).\n",
      "WARNING:tensorflow:Model was constructed with shape (None, 2, 1) for input KerasTensor(type_spec=TensorSpec(shape=(None, 2, 1), dtype=tf.float32, name='lstm_302_input'), name='lstm_302_input', description=\"created by layer 'lstm_302_input'\"), but it was called on an input with incompatible shape (None, 9, 1).\n",
      "WARNING:tensorflow:Model was constructed with shape (None, 2, 1) for input KerasTensor(type_spec=TensorSpec(shape=(None, 2, 1), dtype=tf.float32, name='lstm_302_input'), name='lstm_302_input', description=\"created by layer 'lstm_302_input'\"), but it was called on an input with incompatible shape (None, 9, 1).\n",
      "WARNING:tensorflow:Model was constructed with shape (None, 2, 1) for input KerasTensor(type_spec=TensorSpec(shape=(None, 2, 1), dtype=tf.float32, name='lstm_302_input'), name='lstm_302_input', description=\"created by layer 'lstm_302_input'\"), but it was called on an input with incompatible shape (None, 9, 1).\n"
     ]
    },
    {
     "name": "stdout",
     "output_type": "stream",
     "text": [
      "WARNING:tensorflow:Model was constructed with shape (None, 2, 1) for input KerasTensor(type_spec=TensorSpec(shape=(None, 2, 1), dtype=tf.float32, name='lstm_305_input'), name='lstm_305_input', description=\"created by layer 'lstm_305_input'\"), but it was called on an input with incompatible shape (None, 9, 1).\n",
      "WARNING:tensorflow:Model was constructed with shape (None, 2, 1) for input KerasTensor(type_spec=TensorSpec(shape=(None, 2, 1), dtype=tf.float32, name='lstm_305_input'), name='lstm_305_input', description=\"created by layer 'lstm_305_input'\"), but it was called on an input with incompatible shape (None, 9, 1).\n",
      "WARNING:tensorflow:Model was constructed with shape (None, 2, 1) for input KerasTensor(type_spec=TensorSpec(shape=(None, 2, 1), dtype=tf.float32, name='lstm_305_input'), name='lstm_305_input', description=\"created by layer 'lstm_305_input'\"), but it was called on an input with incompatible shape (None, 9, 1).\n",
      "WARNING:tensorflow:Model was constructed with shape (None, 3, 1) for input KerasTensor(type_spec=TensorSpec(shape=(None, 3, 1), dtype=tf.float32, name='lstm_308_input'), name='lstm_308_input', description=\"created by layer 'lstm_308_input'\"), but it was called on an input with incompatible shape (None, 9, 1).\n",
      "WARNING:tensorflow:Model was constructed with shape (None, 3, 1) for input KerasTensor(type_spec=TensorSpec(shape=(None, 3, 1), dtype=tf.float32, name='lstm_308_input'), name='lstm_308_input', description=\"created by layer 'lstm_308_input'\"), but it was called on an input with incompatible shape (None, 9, 1).\n",
      "WARNING:tensorflow:Model was constructed with shape (None, 3, 1) for input KerasTensor(type_spec=TensorSpec(shape=(None, 3, 1), dtype=tf.float32, name='lstm_308_input'), name='lstm_308_input', description=\"created by layer 'lstm_308_input'\"), but it was called on an input with incompatible shape (None, 9, 1).\n",
      "WARNING:tensorflow:Model was constructed with shape (None, 3, 1) for input KerasTensor(type_spec=TensorSpec(shape=(None, 3, 1), dtype=tf.float32, name='lstm_311_input'), name='lstm_311_input', description=\"created by layer 'lstm_311_input'\"), but it was called on an input with incompatible shape (None, 9, 1).\n",
      "WARNING:tensorflow:Model was constructed with shape (None, 3, 1) for input KerasTensor(type_spec=TensorSpec(shape=(None, 3, 1), dtype=tf.float32, name='lstm_311_input'), name='lstm_311_input', description=\"created by layer 'lstm_311_input'\"), but it was called on an input with incompatible shape (None, 9, 1).\n",
      "WARNING:tensorflow:Model was constructed with shape (None, 3, 1) for input KerasTensor(type_spec=TensorSpec(shape=(None, 3, 1), dtype=tf.float32, name='lstm_311_input'), name='lstm_311_input', description=\"created by layer 'lstm_311_input'\"), but it was called on an input with incompatible shape (None, 9, 1).\n",
      "WARNING:tensorflow:Model was constructed with shape (None, 1, 1) for input KerasTensor(type_spec=TensorSpec(shape=(None, 1, 1), dtype=tf.float32, name='lstm_314_input'), name='lstm_314_input', description=\"created by layer 'lstm_314_input'\"), but it was called on an input with incompatible shape (None, 9, 1).\n",
      "WARNING:tensorflow:Model was constructed with shape (None, 1, 1) for input KerasTensor(type_spec=TensorSpec(shape=(None, 1, 1), dtype=tf.float32, name='lstm_314_input'), name='lstm_314_input', description=\"created by layer 'lstm_314_input'\"), but it was called on an input with incompatible shape (None, 9, 1).\n",
      "WARNING:tensorflow:Model was constructed with shape (None, 1, 1) for input KerasTensor(type_spec=TensorSpec(shape=(None, 1, 1), dtype=tf.float32, name='lstm_314_input'), name='lstm_314_input', description=\"created by layer 'lstm_314_input'\"), but it was called on an input with incompatible shape (None, 9, 1).\n",
      "WARNING:tensorflow:Model was constructed with shape (None, 1, 1) for input KerasTensor(type_spec=TensorSpec(shape=(None, 1, 1), dtype=tf.float32, name='lstm_317_input'), name='lstm_317_input', description=\"created by layer 'lstm_317_input'\"), but it was called on an input with incompatible shape (None, 9, 1).\n",
      "WARNING:tensorflow:Model was constructed with shape (None, 1, 1) for input KerasTensor(type_spec=TensorSpec(shape=(None, 1, 1), dtype=tf.float32, name='lstm_317_input'), name='lstm_317_input', description=\"created by layer 'lstm_317_input'\"), but it was called on an input with incompatible shape (None, 9, 1).\n",
      "WARNING:tensorflow:Model was constructed with shape (None, 1, 1) for input KerasTensor(type_spec=TensorSpec(shape=(None, 1, 1), dtype=tf.float32, name='lstm_317_input'), name='lstm_317_input', description=\"created by layer 'lstm_317_input'\"), but it was called on an input with incompatible shape (None, 9, 1).\n",
      "WARNING:tensorflow:Model was constructed with shape (None, 2, 1) for input KerasTensor(type_spec=TensorSpec(shape=(None, 2, 1), dtype=tf.float32, name='lstm_320_input'), name='lstm_320_input', description=\"created by layer 'lstm_320_input'\"), but it was called on an input with incompatible shape (None, 9, 1).\n",
      "WARNING:tensorflow:Model was constructed with shape (None, 2, 1) for input KerasTensor(type_spec=TensorSpec(shape=(None, 2, 1), dtype=tf.float32, name='lstm_320_input'), name='lstm_320_input', description=\"created by layer 'lstm_320_input'\"), but it was called on an input with incompatible shape (None, 9, 1).\n",
      "WARNING:tensorflow:Model was constructed with shape (None, 2, 1) for input KerasTensor(type_spec=TensorSpec(shape=(None, 2, 1), dtype=tf.float32, name='lstm_320_input'), name='lstm_320_input', description=\"created by layer 'lstm_320_input'\"), but it was called on an input with incompatible shape (None, 9, 1).\n",
      "WARNING:tensorflow:Model was constructed with shape (None, 2, 1) for input KerasTensor(type_spec=TensorSpec(shape=(None, 2, 1), dtype=tf.float32, name='lstm_323_input'), name='lstm_323_input', description=\"created by layer 'lstm_323_input'\"), but it was called on an input with incompatible shape (None, 9, 1).\n",
      "WARNING:tensorflow:Model was constructed with shape (None, 2, 1) for input KerasTensor(type_spec=TensorSpec(shape=(None, 2, 1), dtype=tf.float32, name='lstm_323_input'), name='lstm_323_input', description=\"created by layer 'lstm_323_input'\"), but it was called on an input with incompatible shape (None, 9, 1).\n",
      "WARNING:tensorflow:Model was constructed with shape (None, 2, 1) for input KerasTensor(type_spec=TensorSpec(shape=(None, 2, 1), dtype=tf.float32, name='lstm_323_input'), name='lstm_323_input', description=\"created by layer 'lstm_323_input'\"), but it was called on an input with incompatible shape (None, 9, 1).\n",
      "WARNING:tensorflow:Model was constructed with shape (None, 3, 1) for input KerasTensor(type_spec=TensorSpec(shape=(None, 3, 1), dtype=tf.float32, name='lstm_326_input'), name='lstm_326_input', description=\"created by layer 'lstm_326_input'\"), but it was called on an input with incompatible shape (None, 9, 1).\n",
      "WARNING:tensorflow:Model was constructed with shape (None, 3, 1) for input KerasTensor(type_spec=TensorSpec(shape=(None, 3, 1), dtype=tf.float32, name='lstm_326_input'), name='lstm_326_input', description=\"created by layer 'lstm_326_input'\"), but it was called on an input with incompatible shape (None, 9, 1).\n",
      "WARNING:tensorflow:Model was constructed with shape (None, 3, 1) for input KerasTensor(type_spec=TensorSpec(shape=(None, 3, 1), dtype=tf.float32, name='lstm_326_input'), name='lstm_326_input', description=\"created by layer 'lstm_326_input'\"), but it was called on an input with incompatible shape (None, 9, 1).\n",
      "WARNING:tensorflow:Model was constructed with shape (None, 3, 1) for input KerasTensor(type_spec=TensorSpec(shape=(None, 3, 1), dtype=tf.float32, name='lstm_329_input'), name='lstm_329_input', description=\"created by layer 'lstm_329_input'\"), but it was called on an input with incompatible shape (None, 9, 1).\n",
      "WARNING:tensorflow:Model was constructed with shape (None, 3, 1) for input KerasTensor(type_spec=TensorSpec(shape=(None, 3, 1), dtype=tf.float32, name='lstm_329_input'), name='lstm_329_input', description=\"created by layer 'lstm_329_input'\"), but it was called on an input with incompatible shape (None, 9, 1).\n",
      "WARNING:tensorflow:Model was constructed with shape (None, 3, 1) for input KerasTensor(type_spec=TensorSpec(shape=(None, 3, 1), dtype=tf.float32, name='lstm_329_input'), name='lstm_329_input', description=\"created by layer 'lstm_329_input'\"), but it was called on an input with incompatible shape (None, 9, 1).\n"
     ]
    }
   ],
   "source": [
    "res = []\n",
    "# 1 layer\n",
    "for unit in (4,8,16):\n",
    "    for time_step in (1,2,3):\n",
    "        for e in (200, 500):\n",
    "            res.append((([unit],time_step, e), LSTM_GS([unit], time_step, e)))\n",
    "\n",
    "# 2 layers\n",
    "for unit in (8,16,32):\n",
    "    for time_step in (1,2,3):\n",
    "        for e in (200, 500):\n",
    "            res.append((([unit, unit//2],time_step, e),LSTM_GS([unit, unit//2], time_step, e)))\n",
    "\n",
    "# 3 layers\n",
    "for unit in (8,16,32):\n",
    "    for time_step in (1,2,3):\n",
    "        for e in (200, 500):\n",
    "            res.append((([unit, unit//2, unit//4],time_step, e),LSTM_GS([unit, unit//2, unit//4], time_step, e)))"
   ]
  },
  {
   "cell_type": "code",
   "execution_count": 43,
   "metadata": {},
   "outputs": [
    {
     "data": {
      "text/plain": [
       "(([16], 1, 500), (0.6438356164383562, 0.6))"
      ]
     },
     "execution_count": 43,
     "metadata": {},
     "output_type": "execute_result"
    }
   ],
   "source": [
    "# best combi\n",
    "sorted(res, key = lambda x : x[1][1], reverse = True)[0]"
   ]
  },
  {
   "cell_type": "code",
   "execution_count": 44,
   "metadata": {},
   "outputs": [],
   "source": [
    "layer_config = sorted(res, key = lambda x : x[1][1], reverse = True)[0][0][0]\n",
    "time_config = sorted(res, key = lambda x : x[1][1], reverse = True)[0][0][1]\n",
    "e_config = sorted(res, key = lambda x : x[1][1], reverse = True)[0][0][2]"
   ]
  },
  {
   "cell_type": "code",
   "execution_count": 45,
   "metadata": {},
   "outputs": [
    {
     "name": "stdout",
     "output_type": "stream",
     "text": [
      "[16] 1 500\n"
     ]
    }
   ],
   "source": [
    "print(layer_config, time_config, e_config)"
   ]
  },
  {
   "cell_type": "markdown",
   "metadata": {},
   "source": [
    "#### 7. Define a function to retrain the model with selected hyperparameters and all data avilable"
   ]
  },
  {
   "cell_type": "code",
   "execution_count": 46,
   "metadata": {},
   "outputs": [],
   "source": [
    "def LSTM_pipe(layer_spe, time_step, e, x, y):\n",
    "    regressor = Sequential()\n",
    "    count = 0\n",
    "    for unit in layer_spe:\n",
    "        count += 1 \n",
    "        if len(layer_spe) == 1:\n",
    "            regressor.add(LSTM(unit, activation = \"relu\", input_shape = (time_step, 1))) # batch size, time steps, data dimension\n",
    "            regressor.add(Dropout(0.3))\n",
    "        else:\n",
    "            if count == 1:\n",
    "                regressor.add(LSTM(unit, activation = \"relu\", return_sequences=True, input_shape = (time_step, 1))) # batch size, time steps, data dimension\n",
    "                regressor.add(Dropout(0.3))\n",
    "            elif count < len(layer_spe): \n",
    "                regressor.add(LSTM(unit, activation = \"relu\", return_sequences=True))\n",
    "                regressor.add(Dropout(0.3))\n",
    "            else:\n",
    "                regressor.add(LSTM(unit, activation = \"relu\"))\n",
    "                regressor.add(Dropout(0.3))\n",
    "            \n",
    "    regressor.add(Dense(units = 1, activation = \"sigmoid\"))\n",
    "    regressor.compile(optimizer = 'Adam', loss = \"binary_crossentropy\", metrics=['accuracy'])\n",
    "    regressor.fit(x, y, epochs = e, verbose = 0)\n",
    "    return regressor"
   ]
  },
  {
   "cell_type": "code",
   "execution_count": 47,
   "metadata": {},
   "outputs": [
    {
     "name": "stdout",
     "output_type": "stream",
     "text": [
      "WARNING:tensorflow:Model was constructed with shape (None, 1, 1) for input KerasTensor(type_spec=TensorSpec(shape=(None, 1, 1), dtype=tf.float32, name='lstm_332_input'), name='lstm_332_input', description=\"created by layer 'lstm_332_input'\"), but it was called on an input with incompatible shape (None, 9, 1).\n",
      "WARNING:tensorflow:Model was constructed with shape (None, 1, 1) for input KerasTensor(type_spec=TensorSpec(shape=(None, 1, 1), dtype=tf.float32, name='lstm_332_input'), name='lstm_332_input', description=\"created by layer 'lstm_332_input'\"), but it was called on an input with incompatible shape (None, 9, 1).\n"
     ]
    }
   ],
   "source": [
    "model = LSTM_pipe(layer_config, time_config, e_config, x_refit_trans, y_refit)"
   ]
  },
  {
   "cell_type": "code",
   "execution_count": 48,
   "metadata": {},
   "outputs": [
    {
     "name": "stdout",
     "output_type": "stream",
     "text": [
      "WARNING:tensorflow:Model was constructed with shape (None, 1, 1) for input KerasTensor(type_spec=TensorSpec(shape=(None, 1, 1), dtype=tf.float32, name='lstm_332_input'), name='lstm_332_input', description=\"created by layer 'lstm_332_input'\"), but it was called on an input with incompatible shape (None, 9, 1).\n"
     ]
    },
    {
     "data": {
      "text/plain": [
       "0.5714285714285714"
      ]
     },
     "execution_count": 48,
     "metadata": {},
     "output_type": "execute_result"
    }
   ],
   "source": [
    "accuracy_score(y_test, [1 if x[0] > 0.5 else 0 for x in model.predict(x_test_trans)])"
   ]
  },
  {
   "cell_type": "markdown",
   "metadata": {},
   "source": [
    "#### 8. Backtesting"
   ]
  },
  {
   "cell_type": "code",
   "execution_count": 49,
   "metadata": {},
   "outputs": [
    {
     "name": "stdout",
     "output_type": "stream",
     "text": [
      "WARNING:tensorflow:Model was constructed with shape (None, 1, 1) for input KerasTensor(type_spec=TensorSpec(shape=(None, 1, 1), dtype=tf.float32, name='lstm_333_input'), name='lstm_333_input', description=\"created by layer 'lstm_333_input'\"), but it was called on an input with incompatible shape (None, 9, 1).\n",
      "WARNING:tensorflow:Model was constructed with shape (None, 1, 1) for input KerasTensor(type_spec=TensorSpec(shape=(None, 1, 1), dtype=tf.float32, name='lstm_333_input'), name='lstm_333_input', description=\"created by layer 'lstm_333_input'\"), but it was called on an input with incompatible shape (None, 9, 1).\n",
      "WARNING:tensorflow:Model was constructed with shape (None, 1, 1) for input KerasTensor(type_spec=TensorSpec(shape=(None, 1, 1), dtype=tf.float32, name='lstm_333_input'), name='lstm_333_input', description=\"created by layer 'lstm_333_input'\"), but it was called on an input with incompatible shape (None, 9, 1).\n",
      "WARNING:tensorflow:5 out of the last 14 calls to <function Model.make_predict_function.<locals>.predict_function at 0x7ff8916dea60> triggered tf.function retracing. Tracing is expensive and the excessive number of tracings could be due to (1) creating @tf.function repeatedly in a loop, (2) passing tensors with different shapes, (3) passing Python objects instead of tensors. For (1), please define your @tf.function outside of the loop. For (2), @tf.function has experimental_relax_shapes=True option that relaxes argument shapes that can avoid unnecessary retracing. For (3), please refer to https://www.tensorflow.org/guide/function#controlling_retracing and https://www.tensorflow.org/api_docs/python/tf/function for  more details.\n"
     ]
    }
   ],
   "source": [
    "# predicted value\n",
    "model = LSTM_pipe(layer_config, time_config, e_config, x_full_trans, y_full)\n",
    "yhat = model.predict(x_full_trans, verbose=0)\n",
    "yhat = [1 if x[0] > 0.5 else 0 for x in yhat]"
   ]
  },
  {
   "cell_type": "code",
   "execution_count": 50,
   "metadata": {},
   "outputs": [
    {
     "name": "stdout",
     "output_type": "stream",
     "text": [
      "1\n",
      "1\n",
      "1\n",
      "1\n",
      "1\n",
      "1\n",
      "0\n",
      "0\n",
      "0\n",
      "0\n",
      "0\n",
      "0\n",
      "1\n",
      "0\n",
      "0\n",
      "0\n",
      "0\n",
      "0\n",
      "0\n",
      "0\n",
      "0\n",
      "1\n",
      "0\n",
      "0\n",
      "0\n",
      "0\n",
      "0\n",
      "1\n",
      "1\n",
      "1\n",
      "1\n",
      "1\n",
      "1\n",
      "0\n",
      "0\n",
      "0\n",
      "0\n",
      "0\n",
      "0\n",
      "0\n",
      "0\n",
      "0\n",
      "0\n",
      "0\n",
      "0\n",
      "0\n",
      "0\n",
      "0\n",
      "0\n",
      "0\n",
      "0\n",
      "0\n",
      "0\n",
      "0\n",
      "0\n",
      "0\n",
      "0\n",
      "0\n",
      "0\n",
      "0\n",
      "0\n",
      "0\n",
      "0\n",
      "1\n",
      "1\n",
      "1\n",
      "1\n",
      "1\n",
      "1\n",
      "0\n",
      "0\n",
      "0\n",
      "0\n",
      "0\n",
      "0\n",
      "0\n",
      "0\n",
      "0\n",
      "0\n",
      "0\n",
      "0\n",
      "0\n",
      "0\n",
      "1\n",
      "1\n",
      "1\n",
      "1\n",
      "1\n",
      "1\n",
      "1\n",
      "1\n",
      "1\n",
      "1\n",
      "1\n",
      "1\n",
      "1\n",
      "0\n",
      "0\n",
      "0\n",
      "0\n",
      "0\n",
      "0\n"
     ]
    }
   ],
   "source": [
    "for b in yhat:\n",
    "    print(b)"
   ]
  },
  {
   "cell_type": "code",
   "execution_count": null,
   "metadata": {},
   "outputs": [],
   "source": []
  },
  {
   "cell_type": "code",
   "execution_count": null,
   "metadata": {},
   "outputs": [],
   "source": []
  },
  {
   "cell_type": "markdown",
   "metadata": {},
   "source": [
    "## With Sentiments"
   ]
  },
  {
   "cell_type": "code",
   "execution_count": 51,
   "metadata": {},
   "outputs": [],
   "source": [
    "feature_lags = {\"Adj_Close_BTC-USD\" : 1, \n",
    "                \"Adj_Close_SPY\" : 1,\n",
    "                \"Adj_Close_GLD\" : 1,\n",
    "                \"Adj_Close_CHFUSD=X\" : 1,\n",
    "                \"Adj_Close_EURUSD=X\" : 1,\n",
    "                \"Adj_Close_GBPUSD=X\" : 1,\n",
    "                \"Adj_Close_JPYUSD=X\" : 1,\n",
    "                \"blockchain_transactions_per_block\" : 1,\n",
    "                \"blockchain_hash_rates\" : 1,\n",
    "                \"coindesk_sentiment\" : 1,\n",
    "                \"reddit_comments_sentiments\" : 1,\n",
    "                \"top_50_reddit_posts_sentiments\" : 1}\n",
    "\n",
    "data = data[(data[\"date\"] >= \"2021-01-01\") & (data[\"date\"] <= \"2021-04-12\")]\n",
    "\n",
    "train = data[(data[\"date\"] >= \"2021-01-01\") & (data[\"date\"] <= \"2021-03-14\")]\n",
    "validation = data[(data[\"date\"] >= \"2021-03-15\") & (data[\"date\"] <= \"2021-03-29\")]\n",
    "test = data[(data[\"date\"] >= \"2021-03-30\") & (data[\"date\"] <= \"2021-04-12\")]\n",
    "\n",
    "refit = data[(data[\"date\"] >= \"2021-01-01\") & (data[\"date\"] <= \"2021-03-29\")]\n",
    "full = data.copy(deep = True)\n",
    "\n",
    "\n",
    "x_train = train.drop([\"date\", \"class_y\"], axis = 1)\n",
    "y_train = train[\"class_y\"]\n",
    "\n",
    "x_val = validation.drop([\"date\", \"class_y\"], axis = 1)\n",
    "y_val = validation[\"class_y\"]\n",
    "\n",
    "x_test = test.drop([\"date\", \"class_y\"], axis = 1)\n",
    "y_test = test[\"class_y\"]\n",
    "\n",
    "x_refit = refit.drop([\"date\", \"class_y\"], axis = 1)\n",
    "y_refit = refit[\"class_y\"]\n",
    "\n",
    "x_full = full.drop([\"date\", \"class_y\"], axis = 1)\n",
    "y_full = full[\"class_y\"]\n",
    "\n",
    "sc = MinMaxScaler(feature_range = (0, 1))\n",
    "sc.fit(x_train)\n",
    "x_train_trans = sc.transform(x_train)\n",
    "x_val_trans = sc.transform(x_val)\n",
    "x_test_trans = sc.transform(x_test)\n",
    "\n",
    "sc2 = MinMaxScaler(feature_range = (0, 1))\n",
    "sc2.fit(x_refit)\n",
    "x_refit_trans = sc2.transform(x_refit)\n",
    "\n",
    "sc3 = MinMaxScaler(feature_range = (0, 1))\n",
    "sc3.fit(x_full)\n",
    "x_full_trans = sc3.transform(x_full)\n",
    "\n",
    "x_train_trans = x_train_trans.reshape(x_train_trans.shape[0], x_train_trans.shape[1], 1)\n",
    "x_val_trans = x_val_trans.reshape(x_val_trans.shape[0], x_val_trans.shape[1], 1)\n",
    "x_test_trans = x_test_trans.reshape(x_test_trans.shape[0], x_test_trans.shape[1], 1)\n",
    "x_refit_trans = x_refit_trans.reshape(x_refit_trans.shape[0], x_refit_trans.shape[1], 1)\n",
    "x_full_trans = x_full_trans.reshape(x_full_trans.shape[0], x_full_trans.shape[1], 1)"
   ]
  },
  {
   "cell_type": "code",
   "execution_count": 52,
   "metadata": {},
   "outputs": [
    {
     "name": "stdout",
     "output_type": "stream",
     "text": [
      "WARNING:tensorflow:Model was constructed with shape (None, 1, 1) for input KerasTensor(type_spec=TensorSpec(shape=(None, 1, 1), dtype=tf.float32, name='lstm_334_input'), name='lstm_334_input', description=\"created by layer 'lstm_334_input'\"), but it was called on an input with incompatible shape (None, 9, 1).\n",
      "WARNING:tensorflow:Model was constructed with shape (None, 1, 1) for input KerasTensor(type_spec=TensorSpec(shape=(None, 1, 1), dtype=tf.float32, name='lstm_334_input'), name='lstm_334_input', description=\"created by layer 'lstm_334_input'\"), but it was called on an input with incompatible shape (None, 9, 1).\n",
      "WARNING:tensorflow:Model was constructed with shape (None, 1, 1) for input KerasTensor(type_spec=TensorSpec(shape=(None, 1, 1), dtype=tf.float32, name='lstm_334_input'), name='lstm_334_input', description=\"created by layer 'lstm_334_input'\"), but it was called on an input with incompatible shape (None, 9, 1).\n",
      "WARNING:tensorflow:5 out of the last 14 calls to <function Model.make_predict_function.<locals>.predict_function at 0x7ff87c0a38b0> triggered tf.function retracing. Tracing is expensive and the excessive number of tracings could be due to (1) creating @tf.function repeatedly in a loop, (2) passing tensors with different shapes, (3) passing Python objects instead of tensors. For (1), please define your @tf.function outside of the loop. For (2), @tf.function has experimental_relax_shapes=True option that relaxes argument shapes that can avoid unnecessary retracing. For (3), please refer to https://www.tensorflow.org/guide/function#controlling_retracing and https://www.tensorflow.org/api_docs/python/tf/function for  more details.\n",
      "WARNING:tensorflow:Model was constructed with shape (None, 1, 1) for input KerasTensor(type_spec=TensorSpec(shape=(None, 1, 1), dtype=tf.float32, name='lstm_335_input'), name='lstm_335_input', description=\"created by layer 'lstm_335_input'\"), but it was called on an input with incompatible shape (None, 9, 1).\n",
      "WARNING:tensorflow:Model was constructed with shape (None, 1, 1) for input KerasTensor(type_spec=TensorSpec(shape=(None, 1, 1), dtype=tf.float32, name='lstm_335_input'), name='lstm_335_input', description=\"created by layer 'lstm_335_input'\"), but it was called on an input with incompatible shape (None, 9, 1).\n",
      "WARNING:tensorflow:Model was constructed with shape (None, 1, 1) for input KerasTensor(type_spec=TensorSpec(shape=(None, 1, 1), dtype=tf.float32, name='lstm_335_input'), name='lstm_335_input', description=\"created by layer 'lstm_335_input'\"), but it was called on an input with incompatible shape (None, 9, 1).\n",
      "WARNING:tensorflow:5 out of the last 14 calls to <function Model.make_predict_function.<locals>.predict_function at 0x7ff888bfbf70> triggered tf.function retracing. Tracing is expensive and the excessive number of tracings could be due to (1) creating @tf.function repeatedly in a loop, (2) passing tensors with different shapes, (3) passing Python objects instead of tensors. For (1), please define your @tf.function outside of the loop. For (2), @tf.function has experimental_relax_shapes=True option that relaxes argument shapes that can avoid unnecessary retracing. For (3), please refer to https://www.tensorflow.org/guide/function#controlling_retracing and https://www.tensorflow.org/api_docs/python/tf/function for  more details.\n",
      "WARNING:tensorflow:Model was constructed with shape (None, 2, 1) for input KerasTensor(type_spec=TensorSpec(shape=(None, 2, 1), dtype=tf.float32, name='lstm_336_input'), name='lstm_336_input', description=\"created by layer 'lstm_336_input'\"), but it was called on an input with incompatible shape (None, 9, 1).\n",
      "WARNING:tensorflow:Model was constructed with shape (None, 2, 1) for input KerasTensor(type_spec=TensorSpec(shape=(None, 2, 1), dtype=tf.float32, name='lstm_336_input'), name='lstm_336_input', description=\"created by layer 'lstm_336_input'\"), but it was called on an input with incompatible shape (None, 9, 1).\n",
      "WARNING:tensorflow:Model was constructed with shape (None, 2, 1) for input KerasTensor(type_spec=TensorSpec(shape=(None, 2, 1), dtype=tf.float32, name='lstm_336_input'), name='lstm_336_input', description=\"created by layer 'lstm_336_input'\"), but it was called on an input with incompatible shape (None, 9, 1).\n",
      "WARNING:tensorflow:Model was constructed with shape (None, 2, 1) for input KerasTensor(type_spec=TensorSpec(shape=(None, 2, 1), dtype=tf.float32, name='lstm_337_input'), name='lstm_337_input', description=\"created by layer 'lstm_337_input'\"), but it was called on an input with incompatible shape (None, 9, 1).\n",
      "WARNING:tensorflow:Model was constructed with shape (None, 2, 1) for input KerasTensor(type_spec=TensorSpec(shape=(None, 2, 1), dtype=tf.float32, name='lstm_337_input'), name='lstm_337_input', description=\"created by layer 'lstm_337_input'\"), but it was called on an input with incompatible shape (None, 9, 1).\n",
      "WARNING:tensorflow:Model was constructed with shape (None, 2, 1) for input KerasTensor(type_spec=TensorSpec(shape=(None, 2, 1), dtype=tf.float32, name='lstm_337_input'), name='lstm_337_input', description=\"created by layer 'lstm_337_input'\"), but it was called on an input with incompatible shape (None, 9, 1).\n",
      "WARNING:tensorflow:Model was constructed with shape (None, 3, 1) for input KerasTensor(type_spec=TensorSpec(shape=(None, 3, 1), dtype=tf.float32, name='lstm_338_input'), name='lstm_338_input', description=\"created by layer 'lstm_338_input'\"), but it was called on an input with incompatible shape (None, 9, 1).\n",
      "WARNING:tensorflow:Model was constructed with shape (None, 3, 1) for input KerasTensor(type_spec=TensorSpec(shape=(None, 3, 1), dtype=tf.float32, name='lstm_338_input'), name='lstm_338_input', description=\"created by layer 'lstm_338_input'\"), but it was called on an input with incompatible shape (None, 9, 1).\n",
      "WARNING:tensorflow:Model was constructed with shape (None, 3, 1) for input KerasTensor(type_spec=TensorSpec(shape=(None, 3, 1), dtype=tf.float32, name='lstm_338_input'), name='lstm_338_input', description=\"created by layer 'lstm_338_input'\"), but it was called on an input with incompatible shape (None, 9, 1).\n",
      "WARNING:tensorflow:Model was constructed with shape (None, 3, 1) for input KerasTensor(type_spec=TensorSpec(shape=(None, 3, 1), dtype=tf.float32, name='lstm_339_input'), name='lstm_339_input', description=\"created by layer 'lstm_339_input'\"), but it was called on an input with incompatible shape (None, 9, 1).\n",
      "WARNING:tensorflow:Model was constructed with shape (None, 3, 1) for input KerasTensor(type_spec=TensorSpec(shape=(None, 3, 1), dtype=tf.float32, name='lstm_339_input'), name='lstm_339_input', description=\"created by layer 'lstm_339_input'\"), but it was called on an input with incompatible shape (None, 9, 1).\n",
      "WARNING:tensorflow:Model was constructed with shape (None, 3, 1) for input KerasTensor(type_spec=TensorSpec(shape=(None, 3, 1), dtype=tf.float32, name='lstm_339_input'), name='lstm_339_input', description=\"created by layer 'lstm_339_input'\"), but it was called on an input with incompatible shape (None, 9, 1).\n",
      "WARNING:tensorflow:Model was constructed with shape (None, 1, 1) for input KerasTensor(type_spec=TensorSpec(shape=(None, 1, 1), dtype=tf.float32, name='lstm_340_input'), name='lstm_340_input', description=\"created by layer 'lstm_340_input'\"), but it was called on an input with incompatible shape (None, 9, 1).\n",
      "WARNING:tensorflow:Model was constructed with shape (None, 1, 1) for input KerasTensor(type_spec=TensorSpec(shape=(None, 1, 1), dtype=tf.float32, name='lstm_340_input'), name='lstm_340_input', description=\"created by layer 'lstm_340_input'\"), but it was called on an input with incompatible shape (None, 9, 1).\n",
      "WARNING:tensorflow:Model was constructed with shape (None, 1, 1) for input KerasTensor(type_spec=TensorSpec(shape=(None, 1, 1), dtype=tf.float32, name='lstm_340_input'), name='lstm_340_input', description=\"created by layer 'lstm_340_input'\"), but it was called on an input with incompatible shape (None, 9, 1).\n",
      "WARNING:tensorflow:Model was constructed with shape (None, 1, 1) for input KerasTensor(type_spec=TensorSpec(shape=(None, 1, 1), dtype=tf.float32, name='lstm_341_input'), name='lstm_341_input', description=\"created by layer 'lstm_341_input'\"), but it was called on an input with incompatible shape (None, 9, 1).\n"
     ]
    },
    {
     "name": "stdout",
     "output_type": "stream",
     "text": [
      "WARNING:tensorflow:Model was constructed with shape (None, 1, 1) for input KerasTensor(type_spec=TensorSpec(shape=(None, 1, 1), dtype=tf.float32, name='lstm_341_input'), name='lstm_341_input', description=\"created by layer 'lstm_341_input'\"), but it was called on an input with incompatible shape (None, 9, 1).\n",
      "WARNING:tensorflow:Model was constructed with shape (None, 1, 1) for input KerasTensor(type_spec=TensorSpec(shape=(None, 1, 1), dtype=tf.float32, name='lstm_341_input'), name='lstm_341_input', description=\"created by layer 'lstm_341_input'\"), but it was called on an input with incompatible shape (None, 9, 1).\n",
      "WARNING:tensorflow:Model was constructed with shape (None, 2, 1) for input KerasTensor(type_spec=TensorSpec(shape=(None, 2, 1), dtype=tf.float32, name='lstm_342_input'), name='lstm_342_input', description=\"created by layer 'lstm_342_input'\"), but it was called on an input with incompatible shape (None, 9, 1).\n",
      "WARNING:tensorflow:Model was constructed with shape (None, 2, 1) for input KerasTensor(type_spec=TensorSpec(shape=(None, 2, 1), dtype=tf.float32, name='lstm_342_input'), name='lstm_342_input', description=\"created by layer 'lstm_342_input'\"), but it was called on an input with incompatible shape (None, 9, 1).\n",
      "WARNING:tensorflow:Model was constructed with shape (None, 2, 1) for input KerasTensor(type_spec=TensorSpec(shape=(None, 2, 1), dtype=tf.float32, name='lstm_342_input'), name='lstm_342_input', description=\"created by layer 'lstm_342_input'\"), but it was called on an input with incompatible shape (None, 9, 1).\n",
      "WARNING:tensorflow:Model was constructed with shape (None, 2, 1) for input KerasTensor(type_spec=TensorSpec(shape=(None, 2, 1), dtype=tf.float32, name='lstm_343_input'), name='lstm_343_input', description=\"created by layer 'lstm_343_input'\"), but it was called on an input with incompatible shape (None, 9, 1).\n",
      "WARNING:tensorflow:Model was constructed with shape (None, 2, 1) for input KerasTensor(type_spec=TensorSpec(shape=(None, 2, 1), dtype=tf.float32, name='lstm_343_input'), name='lstm_343_input', description=\"created by layer 'lstm_343_input'\"), but it was called on an input with incompatible shape (None, 9, 1).\n",
      "WARNING:tensorflow:Model was constructed with shape (None, 2, 1) for input KerasTensor(type_spec=TensorSpec(shape=(None, 2, 1), dtype=tf.float32, name='lstm_343_input'), name='lstm_343_input', description=\"created by layer 'lstm_343_input'\"), but it was called on an input with incompatible shape (None, 9, 1).\n",
      "WARNING:tensorflow:Model was constructed with shape (None, 3, 1) for input KerasTensor(type_spec=TensorSpec(shape=(None, 3, 1), dtype=tf.float32, name='lstm_344_input'), name='lstm_344_input', description=\"created by layer 'lstm_344_input'\"), but it was called on an input with incompatible shape (None, 9, 1).\n",
      "WARNING:tensorflow:Model was constructed with shape (None, 3, 1) for input KerasTensor(type_spec=TensorSpec(shape=(None, 3, 1), dtype=tf.float32, name='lstm_344_input'), name='lstm_344_input', description=\"created by layer 'lstm_344_input'\"), but it was called on an input with incompatible shape (None, 9, 1).\n",
      "WARNING:tensorflow:Model was constructed with shape (None, 3, 1) for input KerasTensor(type_spec=TensorSpec(shape=(None, 3, 1), dtype=tf.float32, name='lstm_344_input'), name='lstm_344_input', description=\"created by layer 'lstm_344_input'\"), but it was called on an input with incompatible shape (None, 9, 1).\n",
      "WARNING:tensorflow:Model was constructed with shape (None, 3, 1) for input KerasTensor(type_spec=TensorSpec(shape=(None, 3, 1), dtype=tf.float32, name='lstm_345_input'), name='lstm_345_input', description=\"created by layer 'lstm_345_input'\"), but it was called on an input with incompatible shape (None, 9, 1).\n",
      "WARNING:tensorflow:Model was constructed with shape (None, 3, 1) for input KerasTensor(type_spec=TensorSpec(shape=(None, 3, 1), dtype=tf.float32, name='lstm_345_input'), name='lstm_345_input', description=\"created by layer 'lstm_345_input'\"), but it was called on an input with incompatible shape (None, 9, 1).\n",
      "WARNING:tensorflow:Model was constructed with shape (None, 3, 1) for input KerasTensor(type_spec=TensorSpec(shape=(None, 3, 1), dtype=tf.float32, name='lstm_345_input'), name='lstm_345_input', description=\"created by layer 'lstm_345_input'\"), but it was called on an input with incompatible shape (None, 9, 1).\n",
      "WARNING:tensorflow:Model was constructed with shape (None, 1, 1) for input KerasTensor(type_spec=TensorSpec(shape=(None, 1, 1), dtype=tf.float32, name='lstm_346_input'), name='lstm_346_input', description=\"created by layer 'lstm_346_input'\"), but it was called on an input with incompatible shape (None, 9, 1).\n",
      "WARNING:tensorflow:Model was constructed with shape (None, 1, 1) for input KerasTensor(type_spec=TensorSpec(shape=(None, 1, 1), dtype=tf.float32, name='lstm_346_input'), name='lstm_346_input', description=\"created by layer 'lstm_346_input'\"), but it was called on an input with incompatible shape (None, 9, 1).\n",
      "WARNING:tensorflow:Model was constructed with shape (None, 1, 1) for input KerasTensor(type_spec=TensorSpec(shape=(None, 1, 1), dtype=tf.float32, name='lstm_346_input'), name='lstm_346_input', description=\"created by layer 'lstm_346_input'\"), but it was called on an input with incompatible shape (None, 9, 1).\n",
      "WARNING:tensorflow:Model was constructed with shape (None, 1, 1) for input KerasTensor(type_spec=TensorSpec(shape=(None, 1, 1), dtype=tf.float32, name='lstm_347_input'), name='lstm_347_input', description=\"created by layer 'lstm_347_input'\"), but it was called on an input with incompatible shape (None, 9, 1).\n",
      "WARNING:tensorflow:Model was constructed with shape (None, 1, 1) for input KerasTensor(type_spec=TensorSpec(shape=(None, 1, 1), dtype=tf.float32, name='lstm_347_input'), name='lstm_347_input', description=\"created by layer 'lstm_347_input'\"), but it was called on an input with incompatible shape (None, 9, 1).\n",
      "WARNING:tensorflow:Model was constructed with shape (None, 1, 1) for input KerasTensor(type_spec=TensorSpec(shape=(None, 1, 1), dtype=tf.float32, name='lstm_347_input'), name='lstm_347_input', description=\"created by layer 'lstm_347_input'\"), but it was called on an input with incompatible shape (None, 9, 1).\n",
      "WARNING:tensorflow:Model was constructed with shape (None, 2, 1) for input KerasTensor(type_spec=TensorSpec(shape=(None, 2, 1), dtype=tf.float32, name='lstm_348_input'), name='lstm_348_input', description=\"created by layer 'lstm_348_input'\"), but it was called on an input with incompatible shape (None, 9, 1).\n",
      "WARNING:tensorflow:Model was constructed with shape (None, 2, 1) for input KerasTensor(type_spec=TensorSpec(shape=(None, 2, 1), dtype=tf.float32, name='lstm_348_input'), name='lstm_348_input', description=\"created by layer 'lstm_348_input'\"), but it was called on an input with incompatible shape (None, 9, 1).\n",
      "WARNING:tensorflow:Model was constructed with shape (None, 2, 1) for input KerasTensor(type_spec=TensorSpec(shape=(None, 2, 1), dtype=tf.float32, name='lstm_348_input'), name='lstm_348_input', description=\"created by layer 'lstm_348_input'\"), but it was called on an input with incompatible shape (None, 9, 1).\n",
      "WARNING:tensorflow:Model was constructed with shape (None, 2, 1) for input KerasTensor(type_spec=TensorSpec(shape=(None, 2, 1), dtype=tf.float32, name='lstm_349_input'), name='lstm_349_input', description=\"created by layer 'lstm_349_input'\"), but it was called on an input with incompatible shape (None, 9, 1).\n",
      "WARNING:tensorflow:Model was constructed with shape (None, 2, 1) for input KerasTensor(type_spec=TensorSpec(shape=(None, 2, 1), dtype=tf.float32, name='lstm_349_input'), name='lstm_349_input', description=\"created by layer 'lstm_349_input'\"), but it was called on an input with incompatible shape (None, 9, 1).\n",
      "WARNING:tensorflow:Model was constructed with shape (None, 2, 1) for input KerasTensor(type_spec=TensorSpec(shape=(None, 2, 1), dtype=tf.float32, name='lstm_349_input'), name='lstm_349_input', description=\"created by layer 'lstm_349_input'\"), but it was called on an input with incompatible shape (None, 9, 1).\n",
      "WARNING:tensorflow:Model was constructed with shape (None, 3, 1) for input KerasTensor(type_spec=TensorSpec(shape=(None, 3, 1), dtype=tf.float32, name='lstm_350_input'), name='lstm_350_input', description=\"created by layer 'lstm_350_input'\"), but it was called on an input with incompatible shape (None, 9, 1).\n"
     ]
    },
    {
     "name": "stdout",
     "output_type": "stream",
     "text": [
      "WARNING:tensorflow:Model was constructed with shape (None, 3, 1) for input KerasTensor(type_spec=TensorSpec(shape=(None, 3, 1), dtype=tf.float32, name='lstm_350_input'), name='lstm_350_input', description=\"created by layer 'lstm_350_input'\"), but it was called on an input with incompatible shape (None, 9, 1).\n",
      "WARNING:tensorflow:Model was constructed with shape (None, 3, 1) for input KerasTensor(type_spec=TensorSpec(shape=(None, 3, 1), dtype=tf.float32, name='lstm_350_input'), name='lstm_350_input', description=\"created by layer 'lstm_350_input'\"), but it was called on an input with incompatible shape (None, 9, 1).\n",
      "WARNING:tensorflow:Model was constructed with shape (None, 3, 1) for input KerasTensor(type_spec=TensorSpec(shape=(None, 3, 1), dtype=tf.float32, name='lstm_351_input'), name='lstm_351_input', description=\"created by layer 'lstm_351_input'\"), but it was called on an input with incompatible shape (None, 9, 1).\n",
      "WARNING:tensorflow:Model was constructed with shape (None, 3, 1) for input KerasTensor(type_spec=TensorSpec(shape=(None, 3, 1), dtype=tf.float32, name='lstm_351_input'), name='lstm_351_input', description=\"created by layer 'lstm_351_input'\"), but it was called on an input with incompatible shape (None, 9, 1).\n",
      "WARNING:tensorflow:Model was constructed with shape (None, 3, 1) for input KerasTensor(type_spec=TensorSpec(shape=(None, 3, 1), dtype=tf.float32, name='lstm_351_input'), name='lstm_351_input', description=\"created by layer 'lstm_351_input'\"), but it was called on an input with incompatible shape (None, 9, 1).\n",
      "WARNING:tensorflow:Model was constructed with shape (None, 1, 1) for input KerasTensor(type_spec=TensorSpec(shape=(None, 1, 1), dtype=tf.float32, name='lstm_352_input'), name='lstm_352_input', description=\"created by layer 'lstm_352_input'\"), but it was called on an input with incompatible shape (None, 9, 1).\n",
      "WARNING:tensorflow:Model was constructed with shape (None, 1, 1) for input KerasTensor(type_spec=TensorSpec(shape=(None, 1, 1), dtype=tf.float32, name='lstm_352_input'), name='lstm_352_input', description=\"created by layer 'lstm_352_input'\"), but it was called on an input with incompatible shape (None, 9, 1).\n",
      "WARNING:tensorflow:Model was constructed with shape (None, 1, 1) for input KerasTensor(type_spec=TensorSpec(shape=(None, 1, 1), dtype=tf.float32, name='lstm_352_input'), name='lstm_352_input', description=\"created by layer 'lstm_352_input'\"), but it was called on an input with incompatible shape (None, 9, 1).\n",
      "WARNING:tensorflow:Model was constructed with shape (None, 1, 1) for input KerasTensor(type_spec=TensorSpec(shape=(None, 1, 1), dtype=tf.float32, name='lstm_354_input'), name='lstm_354_input', description=\"created by layer 'lstm_354_input'\"), but it was called on an input with incompatible shape (None, 9, 1).\n",
      "WARNING:tensorflow:Model was constructed with shape (None, 1, 1) for input KerasTensor(type_spec=TensorSpec(shape=(None, 1, 1), dtype=tf.float32, name='lstm_354_input'), name='lstm_354_input', description=\"created by layer 'lstm_354_input'\"), but it was called on an input with incompatible shape (None, 9, 1).\n",
      "WARNING:tensorflow:Model was constructed with shape (None, 1, 1) for input KerasTensor(type_spec=TensorSpec(shape=(None, 1, 1), dtype=tf.float32, name='lstm_354_input'), name='lstm_354_input', description=\"created by layer 'lstm_354_input'\"), but it was called on an input with incompatible shape (None, 9, 1).\n",
      "WARNING:tensorflow:Model was constructed with shape (None, 2, 1) for input KerasTensor(type_spec=TensorSpec(shape=(None, 2, 1), dtype=tf.float32, name='lstm_356_input'), name='lstm_356_input', description=\"created by layer 'lstm_356_input'\"), but it was called on an input with incompatible shape (None, 9, 1).\n",
      "WARNING:tensorflow:Model was constructed with shape (None, 2, 1) for input KerasTensor(type_spec=TensorSpec(shape=(None, 2, 1), dtype=tf.float32, name='lstm_356_input'), name='lstm_356_input', description=\"created by layer 'lstm_356_input'\"), but it was called on an input with incompatible shape (None, 9, 1).\n",
      "WARNING:tensorflow:Model was constructed with shape (None, 2, 1) for input KerasTensor(type_spec=TensorSpec(shape=(None, 2, 1), dtype=tf.float32, name='lstm_356_input'), name='lstm_356_input', description=\"created by layer 'lstm_356_input'\"), but it was called on an input with incompatible shape (None, 9, 1).\n",
      "WARNING:tensorflow:Model was constructed with shape (None, 2, 1) for input KerasTensor(type_spec=TensorSpec(shape=(None, 2, 1), dtype=tf.float32, name='lstm_358_input'), name='lstm_358_input', description=\"created by layer 'lstm_358_input'\"), but it was called on an input with incompatible shape (None, 9, 1).\n",
      "WARNING:tensorflow:Model was constructed with shape (None, 2, 1) for input KerasTensor(type_spec=TensorSpec(shape=(None, 2, 1), dtype=tf.float32, name='lstm_358_input'), name='lstm_358_input', description=\"created by layer 'lstm_358_input'\"), but it was called on an input with incompatible shape (None, 9, 1).\n",
      "WARNING:tensorflow:Model was constructed with shape (None, 2, 1) for input KerasTensor(type_spec=TensorSpec(shape=(None, 2, 1), dtype=tf.float32, name='lstm_358_input'), name='lstm_358_input', description=\"created by layer 'lstm_358_input'\"), but it was called on an input with incompatible shape (None, 9, 1).\n",
      "WARNING:tensorflow:Model was constructed with shape (None, 3, 1) for input KerasTensor(type_spec=TensorSpec(shape=(None, 3, 1), dtype=tf.float32, name='lstm_360_input'), name='lstm_360_input', description=\"created by layer 'lstm_360_input'\"), but it was called on an input with incompatible shape (None, 9, 1).\n",
      "WARNING:tensorflow:Model was constructed with shape (None, 3, 1) for input KerasTensor(type_spec=TensorSpec(shape=(None, 3, 1), dtype=tf.float32, name='lstm_360_input'), name='lstm_360_input', description=\"created by layer 'lstm_360_input'\"), but it was called on an input with incompatible shape (None, 9, 1).\n",
      "WARNING:tensorflow:Model was constructed with shape (None, 3, 1) for input KerasTensor(type_spec=TensorSpec(shape=(None, 3, 1), dtype=tf.float32, name='lstm_360_input'), name='lstm_360_input', description=\"created by layer 'lstm_360_input'\"), but it was called on an input with incompatible shape (None, 9, 1).\n",
      "WARNING:tensorflow:Model was constructed with shape (None, 3, 1) for input KerasTensor(type_spec=TensorSpec(shape=(None, 3, 1), dtype=tf.float32, name='lstm_362_input'), name='lstm_362_input', description=\"created by layer 'lstm_362_input'\"), but it was called on an input with incompatible shape (None, 9, 1).\n",
      "WARNING:tensorflow:Model was constructed with shape (None, 3, 1) for input KerasTensor(type_spec=TensorSpec(shape=(None, 3, 1), dtype=tf.float32, name='lstm_362_input'), name='lstm_362_input', description=\"created by layer 'lstm_362_input'\"), but it was called on an input with incompatible shape (None, 9, 1).\n",
      "WARNING:tensorflow:Model was constructed with shape (None, 3, 1) for input KerasTensor(type_spec=TensorSpec(shape=(None, 3, 1), dtype=tf.float32, name='lstm_362_input'), name='lstm_362_input', description=\"created by layer 'lstm_362_input'\"), but it was called on an input with incompatible shape (None, 9, 1).\n",
      "WARNING:tensorflow:Model was constructed with shape (None, 1, 1) for input KerasTensor(type_spec=TensorSpec(shape=(None, 1, 1), dtype=tf.float32, name='lstm_364_input'), name='lstm_364_input', description=\"created by layer 'lstm_364_input'\"), but it was called on an input with incompatible shape (None, 9, 1).\n",
      "WARNING:tensorflow:Model was constructed with shape (None, 1, 1) for input KerasTensor(type_spec=TensorSpec(shape=(None, 1, 1), dtype=tf.float32, name='lstm_364_input'), name='lstm_364_input', description=\"created by layer 'lstm_364_input'\"), but it was called on an input with incompatible shape (None, 9, 1).\n",
      "WARNING:tensorflow:Model was constructed with shape (None, 1, 1) for input KerasTensor(type_spec=TensorSpec(shape=(None, 1, 1), dtype=tf.float32, name='lstm_364_input'), name='lstm_364_input', description=\"created by layer 'lstm_364_input'\"), but it was called on an input with incompatible shape (None, 9, 1).\n",
      "WARNING:tensorflow:Model was constructed with shape (None, 1, 1) for input KerasTensor(type_spec=TensorSpec(shape=(None, 1, 1), dtype=tf.float32, name='lstm_366_input'), name='lstm_366_input', description=\"created by layer 'lstm_366_input'\"), but it was called on an input with incompatible shape (None, 9, 1).\n"
     ]
    },
    {
     "name": "stdout",
     "output_type": "stream",
     "text": [
      "WARNING:tensorflow:Model was constructed with shape (None, 1, 1) for input KerasTensor(type_spec=TensorSpec(shape=(None, 1, 1), dtype=tf.float32, name='lstm_366_input'), name='lstm_366_input', description=\"created by layer 'lstm_366_input'\"), but it was called on an input with incompatible shape (None, 9, 1).\n",
      "WARNING:tensorflow:Model was constructed with shape (None, 1, 1) for input KerasTensor(type_spec=TensorSpec(shape=(None, 1, 1), dtype=tf.float32, name='lstm_366_input'), name='lstm_366_input', description=\"created by layer 'lstm_366_input'\"), but it was called on an input with incompatible shape (None, 9, 1).\n",
      "WARNING:tensorflow:Model was constructed with shape (None, 2, 1) for input KerasTensor(type_spec=TensorSpec(shape=(None, 2, 1), dtype=tf.float32, name='lstm_368_input'), name='lstm_368_input', description=\"created by layer 'lstm_368_input'\"), but it was called on an input with incompatible shape (None, 9, 1).\n",
      "WARNING:tensorflow:Model was constructed with shape (None, 2, 1) for input KerasTensor(type_spec=TensorSpec(shape=(None, 2, 1), dtype=tf.float32, name='lstm_368_input'), name='lstm_368_input', description=\"created by layer 'lstm_368_input'\"), but it was called on an input with incompatible shape (None, 9, 1).\n",
      "WARNING:tensorflow:Model was constructed with shape (None, 2, 1) for input KerasTensor(type_spec=TensorSpec(shape=(None, 2, 1), dtype=tf.float32, name='lstm_368_input'), name='lstm_368_input', description=\"created by layer 'lstm_368_input'\"), but it was called on an input with incompatible shape (None, 9, 1).\n",
      "WARNING:tensorflow:Model was constructed with shape (None, 2, 1) for input KerasTensor(type_spec=TensorSpec(shape=(None, 2, 1), dtype=tf.float32, name='lstm_370_input'), name='lstm_370_input', description=\"created by layer 'lstm_370_input'\"), but it was called on an input with incompatible shape (None, 9, 1).\n",
      "WARNING:tensorflow:Model was constructed with shape (None, 2, 1) for input KerasTensor(type_spec=TensorSpec(shape=(None, 2, 1), dtype=tf.float32, name='lstm_370_input'), name='lstm_370_input', description=\"created by layer 'lstm_370_input'\"), but it was called on an input with incompatible shape (None, 9, 1).\n",
      "WARNING:tensorflow:Model was constructed with shape (None, 2, 1) for input KerasTensor(type_spec=TensorSpec(shape=(None, 2, 1), dtype=tf.float32, name='lstm_370_input'), name='lstm_370_input', description=\"created by layer 'lstm_370_input'\"), but it was called on an input with incompatible shape (None, 9, 1).\n",
      "WARNING:tensorflow:Model was constructed with shape (None, 3, 1) for input KerasTensor(type_spec=TensorSpec(shape=(None, 3, 1), dtype=tf.float32, name='lstm_372_input'), name='lstm_372_input', description=\"created by layer 'lstm_372_input'\"), but it was called on an input with incompatible shape (None, 9, 1).\n",
      "WARNING:tensorflow:Model was constructed with shape (None, 3, 1) for input KerasTensor(type_spec=TensorSpec(shape=(None, 3, 1), dtype=tf.float32, name='lstm_372_input'), name='lstm_372_input', description=\"created by layer 'lstm_372_input'\"), but it was called on an input with incompatible shape (None, 9, 1).\n",
      "WARNING:tensorflow:Model was constructed with shape (None, 3, 1) for input KerasTensor(type_spec=TensorSpec(shape=(None, 3, 1), dtype=tf.float32, name='lstm_372_input'), name='lstm_372_input', description=\"created by layer 'lstm_372_input'\"), but it was called on an input with incompatible shape (None, 9, 1).\n",
      "WARNING:tensorflow:Model was constructed with shape (None, 3, 1) for input KerasTensor(type_spec=TensorSpec(shape=(None, 3, 1), dtype=tf.float32, name='lstm_374_input'), name='lstm_374_input', description=\"created by layer 'lstm_374_input'\"), but it was called on an input with incompatible shape (None, 9, 1).\n",
      "WARNING:tensorflow:Model was constructed with shape (None, 3, 1) for input KerasTensor(type_spec=TensorSpec(shape=(None, 3, 1), dtype=tf.float32, name='lstm_374_input'), name='lstm_374_input', description=\"created by layer 'lstm_374_input'\"), but it was called on an input with incompatible shape (None, 9, 1).\n",
      "WARNING:tensorflow:Model was constructed with shape (None, 3, 1) for input KerasTensor(type_spec=TensorSpec(shape=(None, 3, 1), dtype=tf.float32, name='lstm_374_input'), name='lstm_374_input', description=\"created by layer 'lstm_374_input'\"), but it was called on an input with incompatible shape (None, 9, 1).\n",
      "WARNING:tensorflow:Model was constructed with shape (None, 1, 1) for input KerasTensor(type_spec=TensorSpec(shape=(None, 1, 1), dtype=tf.float32, name='lstm_376_input'), name='lstm_376_input', description=\"created by layer 'lstm_376_input'\"), but it was called on an input with incompatible shape (None, 9, 1).\n",
      "WARNING:tensorflow:Model was constructed with shape (None, 1, 1) for input KerasTensor(type_spec=TensorSpec(shape=(None, 1, 1), dtype=tf.float32, name='lstm_376_input'), name='lstm_376_input', description=\"created by layer 'lstm_376_input'\"), but it was called on an input with incompatible shape (None, 9, 1).\n",
      "WARNING:tensorflow:Model was constructed with shape (None, 1, 1) for input KerasTensor(type_spec=TensorSpec(shape=(None, 1, 1), dtype=tf.float32, name='lstm_376_input'), name='lstm_376_input', description=\"created by layer 'lstm_376_input'\"), but it was called on an input with incompatible shape (None, 9, 1).\n",
      "WARNING:tensorflow:Model was constructed with shape (None, 1, 1) for input KerasTensor(type_spec=TensorSpec(shape=(None, 1, 1), dtype=tf.float32, name='lstm_378_input'), name='lstm_378_input', description=\"created by layer 'lstm_378_input'\"), but it was called on an input with incompatible shape (None, 9, 1).\n",
      "WARNING:tensorflow:Model was constructed with shape (None, 1, 1) for input KerasTensor(type_spec=TensorSpec(shape=(None, 1, 1), dtype=tf.float32, name='lstm_378_input'), name='lstm_378_input', description=\"created by layer 'lstm_378_input'\"), but it was called on an input with incompatible shape (None, 9, 1).\n",
      "WARNING:tensorflow:Model was constructed with shape (None, 1, 1) for input KerasTensor(type_spec=TensorSpec(shape=(None, 1, 1), dtype=tf.float32, name='lstm_378_input'), name='lstm_378_input', description=\"created by layer 'lstm_378_input'\"), but it was called on an input with incompatible shape (None, 9, 1).\n",
      "WARNING:tensorflow:Model was constructed with shape (None, 2, 1) for input KerasTensor(type_spec=TensorSpec(shape=(None, 2, 1), dtype=tf.float32, name='lstm_380_input'), name='lstm_380_input', description=\"created by layer 'lstm_380_input'\"), but it was called on an input with incompatible shape (None, 9, 1).\n",
      "WARNING:tensorflow:Model was constructed with shape (None, 2, 1) for input KerasTensor(type_spec=TensorSpec(shape=(None, 2, 1), dtype=tf.float32, name='lstm_380_input'), name='lstm_380_input', description=\"created by layer 'lstm_380_input'\"), but it was called on an input with incompatible shape (None, 9, 1).\n",
      "WARNING:tensorflow:Model was constructed with shape (None, 2, 1) for input KerasTensor(type_spec=TensorSpec(shape=(None, 2, 1), dtype=tf.float32, name='lstm_380_input'), name='lstm_380_input', description=\"created by layer 'lstm_380_input'\"), but it was called on an input with incompatible shape (None, 9, 1).\n",
      "WARNING:tensorflow:Model was constructed with shape (None, 2, 1) for input KerasTensor(type_spec=TensorSpec(shape=(None, 2, 1), dtype=tf.float32, name='lstm_382_input'), name='lstm_382_input', description=\"created by layer 'lstm_382_input'\"), but it was called on an input with incompatible shape (None, 9, 1).\n",
      "WARNING:tensorflow:Model was constructed with shape (None, 2, 1) for input KerasTensor(type_spec=TensorSpec(shape=(None, 2, 1), dtype=tf.float32, name='lstm_382_input'), name='lstm_382_input', description=\"created by layer 'lstm_382_input'\"), but it was called on an input with incompatible shape (None, 9, 1).\n",
      "WARNING:tensorflow:Model was constructed with shape (None, 2, 1) for input KerasTensor(type_spec=TensorSpec(shape=(None, 2, 1), dtype=tf.float32, name='lstm_382_input'), name='lstm_382_input', description=\"created by layer 'lstm_382_input'\"), but it was called on an input with incompatible shape (None, 9, 1).\n",
      "WARNING:tensorflow:Model was constructed with shape (None, 3, 1) for input KerasTensor(type_spec=TensorSpec(shape=(None, 3, 1), dtype=tf.float32, name='lstm_384_input'), name='lstm_384_input', description=\"created by layer 'lstm_384_input'\"), but it was called on an input with incompatible shape (None, 9, 1).\n"
     ]
    },
    {
     "name": "stdout",
     "output_type": "stream",
     "text": [
      "WARNING:tensorflow:Model was constructed with shape (None, 3, 1) for input KerasTensor(type_spec=TensorSpec(shape=(None, 3, 1), dtype=tf.float32, name='lstm_384_input'), name='lstm_384_input', description=\"created by layer 'lstm_384_input'\"), but it was called on an input with incompatible shape (None, 9, 1).\n",
      "WARNING:tensorflow:Model was constructed with shape (None, 3, 1) for input KerasTensor(type_spec=TensorSpec(shape=(None, 3, 1), dtype=tf.float32, name='lstm_384_input'), name='lstm_384_input', description=\"created by layer 'lstm_384_input'\"), but it was called on an input with incompatible shape (None, 9, 1).\n",
      "WARNING:tensorflow:Model was constructed with shape (None, 3, 1) for input KerasTensor(type_spec=TensorSpec(shape=(None, 3, 1), dtype=tf.float32, name='lstm_386_input'), name='lstm_386_input', description=\"created by layer 'lstm_386_input'\"), but it was called on an input with incompatible shape (None, 9, 1).\n",
      "WARNING:tensorflow:Model was constructed with shape (None, 3, 1) for input KerasTensor(type_spec=TensorSpec(shape=(None, 3, 1), dtype=tf.float32, name='lstm_386_input'), name='lstm_386_input', description=\"created by layer 'lstm_386_input'\"), but it was called on an input with incompatible shape (None, 9, 1).\n",
      "WARNING:tensorflow:Model was constructed with shape (None, 3, 1) for input KerasTensor(type_spec=TensorSpec(shape=(None, 3, 1), dtype=tf.float32, name='lstm_386_input'), name='lstm_386_input', description=\"created by layer 'lstm_386_input'\"), but it was called on an input with incompatible shape (None, 9, 1).\n",
      "WARNING:tensorflow:Model was constructed with shape (None, 1, 1) for input KerasTensor(type_spec=TensorSpec(shape=(None, 1, 1), dtype=tf.float32, name='lstm_388_input'), name='lstm_388_input', description=\"created by layer 'lstm_388_input'\"), but it was called on an input with incompatible shape (None, 9, 1).\n",
      "WARNING:tensorflow:Model was constructed with shape (None, 1, 1) for input KerasTensor(type_spec=TensorSpec(shape=(None, 1, 1), dtype=tf.float32, name='lstm_388_input'), name='lstm_388_input', description=\"created by layer 'lstm_388_input'\"), but it was called on an input with incompatible shape (None, 9, 1).\n",
      "WARNING:tensorflow:Model was constructed with shape (None, 1, 1) for input KerasTensor(type_spec=TensorSpec(shape=(None, 1, 1), dtype=tf.float32, name='lstm_388_input'), name='lstm_388_input', description=\"created by layer 'lstm_388_input'\"), but it was called on an input with incompatible shape (None, 9, 1).\n",
      "WARNING:tensorflow:Model was constructed with shape (None, 1, 1) for input KerasTensor(type_spec=TensorSpec(shape=(None, 1, 1), dtype=tf.float32, name='lstm_391_input'), name='lstm_391_input', description=\"created by layer 'lstm_391_input'\"), but it was called on an input with incompatible shape (None, 9, 1).\n",
      "WARNING:tensorflow:Model was constructed with shape (None, 1, 1) for input KerasTensor(type_spec=TensorSpec(shape=(None, 1, 1), dtype=tf.float32, name='lstm_391_input'), name='lstm_391_input', description=\"created by layer 'lstm_391_input'\"), but it was called on an input with incompatible shape (None, 9, 1).\n",
      "WARNING:tensorflow:Model was constructed with shape (None, 1, 1) for input KerasTensor(type_spec=TensorSpec(shape=(None, 1, 1), dtype=tf.float32, name='lstm_391_input'), name='lstm_391_input', description=\"created by layer 'lstm_391_input'\"), but it was called on an input with incompatible shape (None, 9, 1).\n",
      "WARNING:tensorflow:Model was constructed with shape (None, 2, 1) for input KerasTensor(type_spec=TensorSpec(shape=(None, 2, 1), dtype=tf.float32, name='lstm_394_input'), name='lstm_394_input', description=\"created by layer 'lstm_394_input'\"), but it was called on an input with incompatible shape (None, 9, 1).\n",
      "WARNING:tensorflow:Model was constructed with shape (None, 2, 1) for input KerasTensor(type_spec=TensorSpec(shape=(None, 2, 1), dtype=tf.float32, name='lstm_394_input'), name='lstm_394_input', description=\"created by layer 'lstm_394_input'\"), but it was called on an input with incompatible shape (None, 9, 1).\n",
      "WARNING:tensorflow:Model was constructed with shape (None, 2, 1) for input KerasTensor(type_spec=TensorSpec(shape=(None, 2, 1), dtype=tf.float32, name='lstm_394_input'), name='lstm_394_input', description=\"created by layer 'lstm_394_input'\"), but it was called on an input with incompatible shape (None, 9, 1).\n",
      "WARNING:tensorflow:Model was constructed with shape (None, 2, 1) for input KerasTensor(type_spec=TensorSpec(shape=(None, 2, 1), dtype=tf.float32, name='lstm_397_input'), name='lstm_397_input', description=\"created by layer 'lstm_397_input'\"), but it was called on an input with incompatible shape (None, 9, 1).\n",
      "WARNING:tensorflow:Model was constructed with shape (None, 2, 1) for input KerasTensor(type_spec=TensorSpec(shape=(None, 2, 1), dtype=tf.float32, name='lstm_397_input'), name='lstm_397_input', description=\"created by layer 'lstm_397_input'\"), but it was called on an input with incompatible shape (None, 9, 1).\n",
      "WARNING:tensorflow:Model was constructed with shape (None, 2, 1) for input KerasTensor(type_spec=TensorSpec(shape=(None, 2, 1), dtype=tf.float32, name='lstm_397_input'), name='lstm_397_input', description=\"created by layer 'lstm_397_input'\"), but it was called on an input with incompatible shape (None, 9, 1).\n",
      "WARNING:tensorflow:Model was constructed with shape (None, 3, 1) for input KerasTensor(type_spec=TensorSpec(shape=(None, 3, 1), dtype=tf.float32, name='lstm_400_input'), name='lstm_400_input', description=\"created by layer 'lstm_400_input'\"), but it was called on an input with incompatible shape (None, 9, 1).\n",
      "WARNING:tensorflow:Model was constructed with shape (None, 3, 1) for input KerasTensor(type_spec=TensorSpec(shape=(None, 3, 1), dtype=tf.float32, name='lstm_400_input'), name='lstm_400_input', description=\"created by layer 'lstm_400_input'\"), but it was called on an input with incompatible shape (None, 9, 1).\n",
      "WARNING:tensorflow:Model was constructed with shape (None, 3, 1) for input KerasTensor(type_spec=TensorSpec(shape=(None, 3, 1), dtype=tf.float32, name='lstm_400_input'), name='lstm_400_input', description=\"created by layer 'lstm_400_input'\"), but it was called on an input with incompatible shape (None, 9, 1).\n",
      "WARNING:tensorflow:Model was constructed with shape (None, 3, 1) for input KerasTensor(type_spec=TensorSpec(shape=(None, 3, 1), dtype=tf.float32, name='lstm_403_input'), name='lstm_403_input', description=\"created by layer 'lstm_403_input'\"), but it was called on an input with incompatible shape (None, 9, 1).\n",
      "WARNING:tensorflow:Model was constructed with shape (None, 3, 1) for input KerasTensor(type_spec=TensorSpec(shape=(None, 3, 1), dtype=tf.float32, name='lstm_403_input'), name='lstm_403_input', description=\"created by layer 'lstm_403_input'\"), but it was called on an input with incompatible shape (None, 9, 1).\n",
      "WARNING:tensorflow:Model was constructed with shape (None, 3, 1) for input KerasTensor(type_spec=TensorSpec(shape=(None, 3, 1), dtype=tf.float32, name='lstm_403_input'), name='lstm_403_input', description=\"created by layer 'lstm_403_input'\"), but it was called on an input with incompatible shape (None, 9, 1).\n",
      "WARNING:tensorflow:Model was constructed with shape (None, 1, 1) for input KerasTensor(type_spec=TensorSpec(shape=(None, 1, 1), dtype=tf.float32, name='lstm_406_input'), name='lstm_406_input', description=\"created by layer 'lstm_406_input'\"), but it was called on an input with incompatible shape (None, 9, 1).\n",
      "WARNING:tensorflow:Model was constructed with shape (None, 1, 1) for input KerasTensor(type_spec=TensorSpec(shape=(None, 1, 1), dtype=tf.float32, name='lstm_406_input'), name='lstm_406_input', description=\"created by layer 'lstm_406_input'\"), but it was called on an input with incompatible shape (None, 9, 1).\n",
      "WARNING:tensorflow:Model was constructed with shape (None, 1, 1) for input KerasTensor(type_spec=TensorSpec(shape=(None, 1, 1), dtype=tf.float32, name='lstm_406_input'), name='lstm_406_input', description=\"created by layer 'lstm_406_input'\"), but it was called on an input with incompatible shape (None, 9, 1).\n",
      "WARNING:tensorflow:Model was constructed with shape (None, 1, 1) for input KerasTensor(type_spec=TensorSpec(shape=(None, 1, 1), dtype=tf.float32, name='lstm_409_input'), name='lstm_409_input', description=\"created by layer 'lstm_409_input'\"), but it was called on an input with incompatible shape (None, 9, 1).\n"
     ]
    },
    {
     "name": "stdout",
     "output_type": "stream",
     "text": [
      "WARNING:tensorflow:Model was constructed with shape (None, 1, 1) for input KerasTensor(type_spec=TensorSpec(shape=(None, 1, 1), dtype=tf.float32, name='lstm_409_input'), name='lstm_409_input', description=\"created by layer 'lstm_409_input'\"), but it was called on an input with incompatible shape (None, 9, 1).\n",
      "WARNING:tensorflow:Model was constructed with shape (None, 1, 1) for input KerasTensor(type_spec=TensorSpec(shape=(None, 1, 1), dtype=tf.float32, name='lstm_409_input'), name='lstm_409_input', description=\"created by layer 'lstm_409_input'\"), but it was called on an input with incompatible shape (None, 9, 1).\n",
      "WARNING:tensorflow:Model was constructed with shape (None, 2, 1) for input KerasTensor(type_spec=TensorSpec(shape=(None, 2, 1), dtype=tf.float32, name='lstm_412_input'), name='lstm_412_input', description=\"created by layer 'lstm_412_input'\"), but it was called on an input with incompatible shape (None, 9, 1).\n",
      "WARNING:tensorflow:Model was constructed with shape (None, 2, 1) for input KerasTensor(type_spec=TensorSpec(shape=(None, 2, 1), dtype=tf.float32, name='lstm_412_input'), name='lstm_412_input', description=\"created by layer 'lstm_412_input'\"), but it was called on an input with incompatible shape (None, 9, 1).\n",
      "WARNING:tensorflow:Model was constructed with shape (None, 2, 1) for input KerasTensor(type_spec=TensorSpec(shape=(None, 2, 1), dtype=tf.float32, name='lstm_412_input'), name='lstm_412_input', description=\"created by layer 'lstm_412_input'\"), but it was called on an input with incompatible shape (None, 9, 1).\n",
      "WARNING:tensorflow:Model was constructed with shape (None, 2, 1) for input KerasTensor(type_spec=TensorSpec(shape=(None, 2, 1), dtype=tf.float32, name='lstm_415_input'), name='lstm_415_input', description=\"created by layer 'lstm_415_input'\"), but it was called on an input with incompatible shape (None, 9, 1).\n",
      "WARNING:tensorflow:Model was constructed with shape (None, 2, 1) for input KerasTensor(type_spec=TensorSpec(shape=(None, 2, 1), dtype=tf.float32, name='lstm_415_input'), name='lstm_415_input', description=\"created by layer 'lstm_415_input'\"), but it was called on an input with incompatible shape (None, 9, 1).\n",
      "WARNING:tensorflow:Model was constructed with shape (None, 2, 1) for input KerasTensor(type_spec=TensorSpec(shape=(None, 2, 1), dtype=tf.float32, name='lstm_415_input'), name='lstm_415_input', description=\"created by layer 'lstm_415_input'\"), but it was called on an input with incompatible shape (None, 9, 1).\n",
      "WARNING:tensorflow:Model was constructed with shape (None, 3, 1) for input KerasTensor(type_spec=TensorSpec(shape=(None, 3, 1), dtype=tf.float32, name='lstm_418_input'), name='lstm_418_input', description=\"created by layer 'lstm_418_input'\"), but it was called on an input with incompatible shape (None, 9, 1).\n",
      "WARNING:tensorflow:Model was constructed with shape (None, 3, 1) for input KerasTensor(type_spec=TensorSpec(shape=(None, 3, 1), dtype=tf.float32, name='lstm_418_input'), name='lstm_418_input', description=\"created by layer 'lstm_418_input'\"), but it was called on an input with incompatible shape (None, 9, 1).\n",
      "WARNING:tensorflow:Model was constructed with shape (None, 3, 1) for input KerasTensor(type_spec=TensorSpec(shape=(None, 3, 1), dtype=tf.float32, name='lstm_418_input'), name='lstm_418_input', description=\"created by layer 'lstm_418_input'\"), but it was called on an input with incompatible shape (None, 9, 1).\n",
      "WARNING:tensorflow:Model was constructed with shape (None, 3, 1) for input KerasTensor(type_spec=TensorSpec(shape=(None, 3, 1), dtype=tf.float32, name='lstm_421_input'), name='lstm_421_input', description=\"created by layer 'lstm_421_input'\"), but it was called on an input with incompatible shape (None, 9, 1).\n",
      "WARNING:tensorflow:Model was constructed with shape (None, 3, 1) for input KerasTensor(type_spec=TensorSpec(shape=(None, 3, 1), dtype=tf.float32, name='lstm_421_input'), name='lstm_421_input', description=\"created by layer 'lstm_421_input'\"), but it was called on an input with incompatible shape (None, 9, 1).\n",
      "WARNING:tensorflow:Model was constructed with shape (None, 3, 1) for input KerasTensor(type_spec=TensorSpec(shape=(None, 3, 1), dtype=tf.float32, name='lstm_421_input'), name='lstm_421_input', description=\"created by layer 'lstm_421_input'\"), but it was called on an input with incompatible shape (None, 9, 1).\n",
      "WARNING:tensorflow:Model was constructed with shape (None, 1, 1) for input KerasTensor(type_spec=TensorSpec(shape=(None, 1, 1), dtype=tf.float32, name='lstm_424_input'), name='lstm_424_input', description=\"created by layer 'lstm_424_input'\"), but it was called on an input with incompatible shape (None, 9, 1).\n",
      "WARNING:tensorflow:Model was constructed with shape (None, 1, 1) for input KerasTensor(type_spec=TensorSpec(shape=(None, 1, 1), dtype=tf.float32, name='lstm_424_input'), name='lstm_424_input', description=\"created by layer 'lstm_424_input'\"), but it was called on an input with incompatible shape (None, 9, 1).\n",
      "WARNING:tensorflow:Model was constructed with shape (None, 1, 1) for input KerasTensor(type_spec=TensorSpec(shape=(None, 1, 1), dtype=tf.float32, name='lstm_424_input'), name='lstm_424_input', description=\"created by layer 'lstm_424_input'\"), but it was called on an input with incompatible shape (None, 9, 1).\n",
      "WARNING:tensorflow:Model was constructed with shape (None, 1, 1) for input KerasTensor(type_spec=TensorSpec(shape=(None, 1, 1), dtype=tf.float32, name='lstm_427_input'), name='lstm_427_input', description=\"created by layer 'lstm_427_input'\"), but it was called on an input with incompatible shape (None, 9, 1).\n",
      "WARNING:tensorflow:Model was constructed with shape (None, 1, 1) for input KerasTensor(type_spec=TensorSpec(shape=(None, 1, 1), dtype=tf.float32, name='lstm_427_input'), name='lstm_427_input', description=\"created by layer 'lstm_427_input'\"), but it was called on an input with incompatible shape (None, 9, 1).\n",
      "WARNING:tensorflow:Model was constructed with shape (None, 1, 1) for input KerasTensor(type_spec=TensorSpec(shape=(None, 1, 1), dtype=tf.float32, name='lstm_427_input'), name='lstm_427_input', description=\"created by layer 'lstm_427_input'\"), but it was called on an input with incompatible shape (None, 9, 1).\n",
      "WARNING:tensorflow:Model was constructed with shape (None, 2, 1) for input KerasTensor(type_spec=TensorSpec(shape=(None, 2, 1), dtype=tf.float32, name='lstm_430_input'), name='lstm_430_input', description=\"created by layer 'lstm_430_input'\"), but it was called on an input with incompatible shape (None, 9, 1).\n",
      "WARNING:tensorflow:Model was constructed with shape (None, 2, 1) for input KerasTensor(type_spec=TensorSpec(shape=(None, 2, 1), dtype=tf.float32, name='lstm_430_input'), name='lstm_430_input', description=\"created by layer 'lstm_430_input'\"), but it was called on an input with incompatible shape (None, 9, 1).\n",
      "WARNING:tensorflow:Model was constructed with shape (None, 2, 1) for input KerasTensor(type_spec=TensorSpec(shape=(None, 2, 1), dtype=tf.float32, name='lstm_430_input'), name='lstm_430_input', description=\"created by layer 'lstm_430_input'\"), but it was called on an input with incompatible shape (None, 9, 1).\n",
      "WARNING:tensorflow:Model was constructed with shape (None, 2, 1) for input KerasTensor(type_spec=TensorSpec(shape=(None, 2, 1), dtype=tf.float32, name='lstm_433_input'), name='lstm_433_input', description=\"created by layer 'lstm_433_input'\"), but it was called on an input with incompatible shape (None, 9, 1).\n",
      "WARNING:tensorflow:Model was constructed with shape (None, 2, 1) for input KerasTensor(type_spec=TensorSpec(shape=(None, 2, 1), dtype=tf.float32, name='lstm_433_input'), name='lstm_433_input', description=\"created by layer 'lstm_433_input'\"), but it was called on an input with incompatible shape (None, 9, 1).\n",
      "WARNING:tensorflow:Model was constructed with shape (None, 2, 1) for input KerasTensor(type_spec=TensorSpec(shape=(None, 2, 1), dtype=tf.float32, name='lstm_433_input'), name='lstm_433_input', description=\"created by layer 'lstm_433_input'\"), but it was called on an input with incompatible shape (None, 9, 1).\n",
      "WARNING:tensorflow:Model was constructed with shape (None, 3, 1) for input KerasTensor(type_spec=TensorSpec(shape=(None, 3, 1), dtype=tf.float32, name='lstm_436_input'), name='lstm_436_input', description=\"created by layer 'lstm_436_input'\"), but it was called on an input with incompatible shape (None, 9, 1).\n"
     ]
    },
    {
     "name": "stdout",
     "output_type": "stream",
     "text": [
      "WARNING:tensorflow:Model was constructed with shape (None, 3, 1) for input KerasTensor(type_spec=TensorSpec(shape=(None, 3, 1), dtype=tf.float32, name='lstm_436_input'), name='lstm_436_input', description=\"created by layer 'lstm_436_input'\"), but it was called on an input with incompatible shape (None, 9, 1).\n",
      "WARNING:tensorflow:Model was constructed with shape (None, 3, 1) for input KerasTensor(type_spec=TensorSpec(shape=(None, 3, 1), dtype=tf.float32, name='lstm_436_input'), name='lstm_436_input', description=\"created by layer 'lstm_436_input'\"), but it was called on an input with incompatible shape (None, 9, 1).\n",
      "WARNING:tensorflow:Model was constructed with shape (None, 3, 1) for input KerasTensor(type_spec=TensorSpec(shape=(None, 3, 1), dtype=tf.float32, name='lstm_439_input'), name='lstm_439_input', description=\"created by layer 'lstm_439_input'\"), but it was called on an input with incompatible shape (None, 9, 1).\n",
      "WARNING:tensorflow:Model was constructed with shape (None, 3, 1) for input KerasTensor(type_spec=TensorSpec(shape=(None, 3, 1), dtype=tf.float32, name='lstm_439_input'), name='lstm_439_input', description=\"created by layer 'lstm_439_input'\"), but it was called on an input with incompatible shape (None, 9, 1).\n",
      "WARNING:tensorflow:Model was constructed with shape (None, 3, 1) for input KerasTensor(type_spec=TensorSpec(shape=(None, 3, 1), dtype=tf.float32, name='lstm_439_input'), name='lstm_439_input', description=\"created by layer 'lstm_439_input'\"), but it was called on an input with incompatible shape (None, 9, 1).\n"
     ]
    }
   ],
   "source": [
    "res2 = []\n",
    "# 1 layer\n",
    "for unit in (4,8,16):\n",
    "    for time_step in (1,2,3):\n",
    "        for e in (200, 500):\n",
    "            res2.append((([unit],time_step, e), LSTM_GS([unit], time_step, e)))\n",
    "\n",
    "# 2 layers\n",
    "for unit in (8,16,32):\n",
    "    for time_step in (1,2,3):\n",
    "        for e in (200, 500):\n",
    "            res2.append((([unit, unit//2],time_step, e),LSTM_GS([unit, unit//2], time_step, e)))\n",
    "\n",
    "# 3 layers\n",
    "for unit in (8,16,32):\n",
    "    for time_step in (1,2,3):\n",
    "        for e in (200, 500):\n",
    "            res2.append((([unit, unit//2, unit//4],time_step, e),LSTM_GS([unit, unit//2, unit//4], time_step, e)))"
   ]
  },
  {
   "cell_type": "code",
   "execution_count": 53,
   "metadata": {},
   "outputs": [
    {
     "data": {
      "text/plain": [
       "(([16, 8], 2, 500), (0.6301369863013698, 0.6666666666666666))"
      ]
     },
     "execution_count": 53,
     "metadata": {},
     "output_type": "execute_result"
    }
   ],
   "source": [
    "# best combi\n",
    "sorted(res2, key = lambda x : x[1][1], reverse = True)[0]"
   ]
  },
  {
   "cell_type": "code",
   "execution_count": 54,
   "metadata": {},
   "outputs": [
    {
     "name": "stdout",
     "output_type": "stream",
     "text": [
      "[16, 8] 2 500\n"
     ]
    }
   ],
   "source": [
    "layer_config2 = sorted(res2, key = lambda x : x[1][1], reverse = True)[0][0][0]\n",
    "time_config2 = sorted(res2, key = lambda x : x[1][1], reverse = True)[0][0][1]\n",
    "e_config2 = sorted(res2, key = lambda x : x[1][1], reverse = True)[0][0][2]\n",
    "print(layer_config2, time_config2, e_config2)"
   ]
  },
  {
   "cell_type": "code",
   "execution_count": 55,
   "metadata": {},
   "outputs": [
    {
     "name": "stdout",
     "output_type": "stream",
     "text": [
      "WARNING:tensorflow:Model was constructed with shape (None, 2, 1) for input KerasTensor(type_spec=TensorSpec(shape=(None, 2, 1), dtype=tf.float32, name='lstm_442_input'), name='lstm_442_input', description=\"created by layer 'lstm_442_input'\"), but it was called on an input with incompatible shape (None, 9, 1).\n",
      "WARNING:tensorflow:Model was constructed with shape (None, 2, 1) for input KerasTensor(type_spec=TensorSpec(shape=(None, 2, 1), dtype=tf.float32, name='lstm_442_input'), name='lstm_442_input', description=\"created by layer 'lstm_442_input'\"), but it was called on an input with incompatible shape (None, 9, 1).\n"
     ]
    }
   ],
   "source": [
    "model2 = LSTM_pipe(layer_config2, time_config2, e_config2, x_refit_trans, y_refit)"
   ]
  },
  {
   "cell_type": "code",
   "execution_count": 56,
   "metadata": {},
   "outputs": [
    {
     "name": "stdout",
     "output_type": "stream",
     "text": [
      "WARNING:tensorflow:Model was constructed with shape (None, 2, 1) for input KerasTensor(type_spec=TensorSpec(shape=(None, 2, 1), dtype=tf.float32, name='lstm_442_input'), name='lstm_442_input', description=\"created by layer 'lstm_442_input'\"), but it was called on an input with incompatible shape (None, 9, 1).\n"
     ]
    },
    {
     "data": {
      "text/plain": [
       "0.6428571428571429"
      ]
     },
     "execution_count": 56,
     "metadata": {},
     "output_type": "execute_result"
    }
   ],
   "source": [
    "# predicted value\n",
    "yhat2 = model2.predict(x_test_trans, verbose=0)\n",
    "accuracy_score(y_test, [1 if x[0] > 0.5 else 0 for x in yhat2])"
   ]
  },
  {
   "cell_type": "code",
   "execution_count": 57,
   "metadata": {},
   "outputs": [
    {
     "name": "stdout",
     "output_type": "stream",
     "text": [
      "WARNING:tensorflow:Model was constructed with shape (None, 2, 1) for input KerasTensor(type_spec=TensorSpec(shape=(None, 2, 1), dtype=tf.float32, name='lstm_444_input'), name='lstm_444_input', description=\"created by layer 'lstm_444_input'\"), but it was called on an input with incompatible shape (None, 9, 1).\n",
      "WARNING:tensorflow:Model was constructed with shape (None, 2, 1) for input KerasTensor(type_spec=TensorSpec(shape=(None, 2, 1), dtype=tf.float32, name='lstm_444_input'), name='lstm_444_input', description=\"created by layer 'lstm_444_input'\"), but it was called on an input with incompatible shape (None, 9, 1).\n",
      "WARNING:tensorflow:Model was constructed with shape (None, 2, 1) for input KerasTensor(type_spec=TensorSpec(shape=(None, 2, 1), dtype=tf.float32, name='lstm_444_input'), name='lstm_444_input', description=\"created by layer 'lstm_444_input'\"), but it was called on an input with incompatible shape (None, 9, 1).\n",
      "WARNING:tensorflow:5 out of the last 14 calls to <function Model.make_predict_function.<locals>.predict_function at 0x7ff87d3eddc0> triggered tf.function retracing. Tracing is expensive and the excessive number of tracings could be due to (1) creating @tf.function repeatedly in a loop, (2) passing tensors with different shapes, (3) passing Python objects instead of tensors. For (1), please define your @tf.function outside of the loop. For (2), @tf.function has experimental_relax_shapes=True option that relaxes argument shapes that can avoid unnecessary retracing. For (3), please refer to https://www.tensorflow.org/guide/function#controlling_retracing and https://www.tensorflow.org/api_docs/python/tf/function for  more details.\n"
     ]
    }
   ],
   "source": [
    "model2 = LSTM_pipe(layer_config2, time_config2, e_config2, x_full_trans, y_full)\n",
    "yhat2 = model2.predict(x_full_trans, verbose=0)\n",
    "\n",
    "yhat2 = [1 if x[0] > 0.5 else 0 for x in yhat2]"
   ]
  },
  {
   "cell_type": "code",
   "execution_count": 58,
   "metadata": {},
   "outputs": [
    {
     "name": "stdout",
     "output_type": "stream",
     "text": [
      "1\n",
      "1\n",
      "1\n",
      "1\n",
      "1\n",
      "1\n",
      "0\n",
      "0\n",
      "0\n",
      "0\n",
      "0\n",
      "0\n",
      "0\n",
      "0\n",
      "0\n",
      "0\n",
      "0\n",
      "0\n",
      "0\n",
      "0\n",
      "0\n",
      "0\n",
      "0\n",
      "0\n",
      "0\n",
      "0\n",
      "0\n",
      "1\n",
      "1\n",
      "1\n",
      "1\n",
      "1\n",
      "0\n",
      "0\n",
      "0\n",
      "0\n",
      "0\n",
      "0\n",
      "0\n",
      "0\n",
      "0\n",
      "0\n",
      "0\n",
      "0\n",
      "0\n",
      "0\n",
      "0\n",
      "0\n",
      "0\n",
      "0\n",
      "0\n",
      "0\n",
      "0\n",
      "0\n",
      "0\n",
      "0\n",
      "0\n",
      "0\n",
      "0\n",
      "0\n",
      "0\n",
      "0\n",
      "0\n",
      "0\n",
      "0\n",
      "0\n",
      "0\n",
      "1\n",
      "0\n",
      "0\n",
      "0\n",
      "0\n",
      "0\n",
      "0\n",
      "0\n",
      "0\n",
      "0\n",
      "0\n",
      "0\n",
      "0\n",
      "0\n",
      "0\n",
      "0\n",
      "0\n",
      "1\n",
      "0\n",
      "1\n",
      "1\n",
      "1\n",
      "1\n",
      "1\n",
      "1\n",
      "0\n",
      "0\n",
      "1\n",
      "1\n",
      "0\n",
      "0\n",
      "0\n",
      "0\n",
      "0\n",
      "0\n"
     ]
    }
   ],
   "source": [
    "for b in yhat2:\n",
    "    print(b)"
   ]
  },
  {
   "cell_type": "code",
   "execution_count": null,
   "metadata": {},
   "outputs": [],
   "source": []
  }
 ],
 "metadata": {
  "kernelspec": {
   "display_name": "Python 3",
   "language": "python",
   "name": "python3"
  },
  "language_info": {
   "codemirror_mode": {
    "name": "ipython",
    "version": 3
   },
   "file_extension": ".py",
   "mimetype": "text/x-python",
   "name": "python",
   "nbconvert_exporter": "python",
   "pygments_lexer": "ipython3",
   "version": "3.8.5"
  }
 },
 "nbformat": 4,
 "nbformat_minor": 4
}
