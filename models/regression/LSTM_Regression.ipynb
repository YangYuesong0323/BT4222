{
 "cells": [
  {
   "cell_type": "code",
   "execution_count": 2,
   "metadata": {},
   "outputs": [],
   "source": [
    "import pandas as pd\n",
    "import numpy as np\n",
    "import datetime\n",
    "from keras.models import Sequential\n",
    "from keras.layers import Dense\n",
    "from keras.layers import LSTM\n",
    "from keras.layers import Dropout\n",
    "from sklearn.preprocessing import MinMaxScaler\n",
    "from sklearn.metrics import mean_squared_error\n",
    "from keras import backend as K\n",
    "import matplotlib.pyplot as plt\n",
    "import sys\n",
    "sys.path.insert(1, '/Users/yuesongyang/Desktop/BT4222_repo')\n",
    "from backtest import *\n",
    "import tensorflow as tf\n",
    "tf.random.set_seed(0)"
   ]
  },
  {
   "cell_type": "code",
   "execution_count": null,
   "metadata": {},
   "outputs": [],
   "source": []
  },
  {
   "cell_type": "code",
   "execution_count": 11,
   "metadata": {},
   "outputs": [],
   "source": [
    "features = pd.read_csv(\"../../data/cooked_data/cooked_complete_dataset.csv\")"
   ]
  },
  {
   "cell_type": "code",
   "execution_count": 12,
   "metadata": {},
   "outputs": [],
   "source": [
    "features.dropna(inplace = True)"
   ]
  },
  {
   "cell_type": "code",
   "execution_count": 13,
   "metadata": {},
   "outputs": [],
   "source": [
    "features['date'] = features['date'].apply(lambda x: datetime.datetime.strptime(x, \"%d/%m/%y\"))\n",
    "features[\"date\"] = pd.to_datetime(features[\"date\"], format='%d/%m/%Y', infer_datetime_format=True)"
   ]
  },
  {
   "cell_type": "code",
   "execution_count": 14,
   "metadata": {},
   "outputs": [
    {
     "data": {
      "text/html": [
       "<div>\n",
       "<style scoped>\n",
       "    .dataframe tbody tr th:only-of-type {\n",
       "        vertical-align: middle;\n",
       "    }\n",
       "\n",
       "    .dataframe tbody tr th {\n",
       "        vertical-align: top;\n",
       "    }\n",
       "\n",
       "    .dataframe thead th {\n",
       "        text-align: right;\n",
       "    }\n",
       "</style>\n",
       "<table border=\"1\" class=\"dataframe\">\n",
       "  <thead>\n",
       "    <tr style=\"text-align: right;\">\n",
       "      <th></th>\n",
       "      <th>date</th>\n",
       "      <th>Adj_Close_BTC-USD</th>\n",
       "      <th>Open_BTC-USD</th>\n",
       "      <th>High_BTC-USD</th>\n",
       "      <th>Low_BTC-USD</th>\n",
       "      <th>Volume_BTC-USD</th>\n",
       "      <th>Adj_Close_SPY</th>\n",
       "      <th>Adj_Close_GLD</th>\n",
       "      <th>Adj_Close_CHFUSD=X</th>\n",
       "      <th>Adj_Close_CNYUSD=X</th>\n",
       "      <th>Adj_Close_EURUSD=X</th>\n",
       "      <th>Adj_Close_GBPUSD=X</th>\n",
       "      <th>Adj_Close_JPYUSD=X</th>\n",
       "      <th>coindesk_sentiment</th>\n",
       "      <th>num_of_coindesk_posts</th>\n",
       "      <th>reddit_comments_sentiments</th>\n",
       "      <th>top_50_reddit_posts_sentiments</th>\n",
       "      <th>blockchain_transactions_per_block</th>\n",
       "      <th>blockchain_hash_rates</th>\n",
       "    </tr>\n",
       "  </thead>\n",
       "  <tbody>\n",
       "    <tr>\n",
       "      <th>0</th>\n",
       "      <td>2020-12-14</td>\n",
       "      <td>19246.64453</td>\n",
       "      <td>19144.49219</td>\n",
       "      <td>19305.09961</td>\n",
       "      <td>19012.70898</td>\n",
       "      <td>2.247400e+10</td>\n",
       "      <td>361.926788</td>\n",
       "      <td>171.539993</td>\n",
       "      <td>1.125442</td>\n",
       "      <td>0.152772</td>\n",
       "      <td>1.213340</td>\n",
       "      <td>1.331824</td>\n",
       "      <td>0.009621</td>\n",
       "      <td>0.249489</td>\n",
       "      <td>12</td>\n",
       "      <td>0.188275</td>\n",
       "      <td>0.297238</td>\n",
       "      <td>2167.931034</td>\n",
       "      <td>134533587.6</td>\n",
       "    </tr>\n",
       "    <tr>\n",
       "      <th>1</th>\n",
       "      <td>2020-12-15</td>\n",
       "      <td>19417.07617</td>\n",
       "      <td>19246.91992</td>\n",
       "      <td>19525.00781</td>\n",
       "      <td>19079.84180</td>\n",
       "      <td>2.674198e+10</td>\n",
       "      <td>366.819824</td>\n",
       "      <td>173.940002</td>\n",
       "      <td>1.127930</td>\n",
       "      <td>0.152679</td>\n",
       "      <td>1.214890</td>\n",
       "      <td>1.333084</td>\n",
       "      <td>0.009614</td>\n",
       "      <td>0.173773</td>\n",
       "      <td>18</td>\n",
       "      <td>0.144389</td>\n",
       "      <td>0.399427</td>\n",
       "      <td>2288.857143</td>\n",
       "      <td>133351912.2</td>\n",
       "    </tr>\n",
       "    <tr>\n",
       "      <th>2</th>\n",
       "      <td>2020-12-16</td>\n",
       "      <td>21310.59766</td>\n",
       "      <td>19418.81836</td>\n",
       "      <td>21458.90820</td>\n",
       "      <td>19298.31641</td>\n",
       "      <td>4.440901e+10</td>\n",
       "      <td>367.395508</td>\n",
       "      <td>174.899994</td>\n",
       "      <td>1.129382</td>\n",
       "      <td>0.152945</td>\n",
       "      <td>1.215430</td>\n",
       "      <td>1.344447</td>\n",
       "      <td>0.009649</td>\n",
       "      <td>0.341491</td>\n",
       "      <td>11</td>\n",
       "      <td>0.137256</td>\n",
       "      <td>0.489673</td>\n",
       "      <td>2204.314685</td>\n",
       "      <td>132323572.3</td>\n",
       "    </tr>\n",
       "    <tr>\n",
       "      <th>3</th>\n",
       "      <td>2020-12-17</td>\n",
       "      <td>22805.16211</td>\n",
       "      <td>21308.35156</td>\n",
       "      <td>23642.66016</td>\n",
       "      <td>21234.67578</td>\n",
       "      <td>7.137861e+10</td>\n",
       "      <td>369.449982</td>\n",
       "      <td>176.740005</td>\n",
       "      <td>1.129446</td>\n",
       "      <td>0.153109</td>\n",
       "      <td>1.219959</td>\n",
       "      <td>1.350293</td>\n",
       "      <td>0.009664</td>\n",
       "      <td>0.197572</td>\n",
       "      <td>10</td>\n",
       "      <td>0.156723</td>\n",
       "      <td>0.636030</td>\n",
       "      <td>2399.077519</td>\n",
       "      <td>132373208.7</td>\n",
       "    </tr>\n",
       "    <tr>\n",
       "      <th>4</th>\n",
       "      <td>2020-12-18</td>\n",
       "      <td>23137.96094</td>\n",
       "      <td>22806.79688</td>\n",
       "      <td>23238.60156</td>\n",
       "      <td>22399.81250</td>\n",
       "      <td>4.038790e+10</td>\n",
       "      <td>367.974792</td>\n",
       "      <td>176.440002</td>\n",
       "      <td>1.130301</td>\n",
       "      <td>0.153090</td>\n",
       "      <td>1.226272</td>\n",
       "      <td>1.357018</td>\n",
       "      <td>0.009696</td>\n",
       "      <td>0.315601</td>\n",
       "      <td>2</td>\n",
       "      <td>0.166419</td>\n",
       "      <td>0.107093</td>\n",
       "      <td>2392.031847</td>\n",
       "      <td>131791042.0</td>\n",
       "    </tr>\n",
       "  </tbody>\n",
       "</table>\n",
       "</div>"
      ],
      "text/plain": [
       "        date  Adj_Close_BTC-USD  Open_BTC-USD  High_BTC-USD  Low_BTC-USD  \\\n",
       "0 2020-12-14        19246.64453   19144.49219   19305.09961  19012.70898   \n",
       "1 2020-12-15        19417.07617   19246.91992   19525.00781  19079.84180   \n",
       "2 2020-12-16        21310.59766   19418.81836   21458.90820  19298.31641   \n",
       "3 2020-12-17        22805.16211   21308.35156   23642.66016  21234.67578   \n",
       "4 2020-12-18        23137.96094   22806.79688   23238.60156  22399.81250   \n",
       "\n",
       "   Volume_BTC-USD  Adj_Close_SPY  Adj_Close_GLD  Adj_Close_CHFUSD=X  \\\n",
       "0    2.247400e+10     361.926788     171.539993            1.125442   \n",
       "1    2.674198e+10     366.819824     173.940002            1.127930   \n",
       "2    4.440901e+10     367.395508     174.899994            1.129382   \n",
       "3    7.137861e+10     369.449982     176.740005            1.129446   \n",
       "4    4.038790e+10     367.974792     176.440002            1.130301   \n",
       "\n",
       "   Adj_Close_CNYUSD=X  Adj_Close_EURUSD=X  Adj_Close_GBPUSD=X  \\\n",
       "0            0.152772            1.213340            1.331824   \n",
       "1            0.152679            1.214890            1.333084   \n",
       "2            0.152945            1.215430            1.344447   \n",
       "3            0.153109            1.219959            1.350293   \n",
       "4            0.153090            1.226272            1.357018   \n",
       "\n",
       "   Adj_Close_JPYUSD=X  coindesk_sentiment  num_of_coindesk_posts  \\\n",
       "0            0.009621            0.249489                     12   \n",
       "1            0.009614            0.173773                     18   \n",
       "2            0.009649            0.341491                     11   \n",
       "3            0.009664            0.197572                     10   \n",
       "4            0.009696            0.315601                      2   \n",
       "\n",
       "   reddit_comments_sentiments  top_50_reddit_posts_sentiments  \\\n",
       "0                    0.188275                        0.297238   \n",
       "1                    0.144389                        0.399427   \n",
       "2                    0.137256                        0.489673   \n",
       "3                    0.156723                        0.636030   \n",
       "4                    0.166419                        0.107093   \n",
       "\n",
       "   blockchain_transactions_per_block  blockchain_hash_rates  \n",
       "0                        2167.931034            134533587.6  \n",
       "1                        2288.857143            133351912.2  \n",
       "2                        2204.314685            132323572.3  \n",
       "3                        2399.077519            132373208.7  \n",
       "4                        2392.031847            131791042.0  "
      ]
     },
     "execution_count": 14,
     "metadata": {},
     "output_type": "execute_result"
    }
   ],
   "source": [
    "features.head()"
   ]
  },
  {
   "cell_type": "code",
   "execution_count": null,
   "metadata": {},
   "outputs": [],
   "source": []
  },
  {
   "cell_type": "markdown",
   "metadata": {},
   "source": [
    "**Helper functions to create lags for features and calculate RMSE**"
   ]
  },
  {
   "cell_type": "code",
   "execution_count": 16,
   "metadata": {},
   "outputs": [],
   "source": [
    "def lag(data, dic):\n",
    "    cols = []\n",
    "    for key, value in dic.items():\n",
    "        for i in range(1, value+1):\n",
    "            cols.append(data[key].shift(i).rename('{}_lag{}'.format(data[key].name, i)))\n",
    "    return pd.concat([data[\"date\"],data[\"Adj_Close_BTC-USD\"]] + cols, axis = 1)"
   ]
  },
  {
   "cell_type": "code",
   "execution_count": 17,
   "metadata": {},
   "outputs": [],
   "source": [
    "def root_mean_squared_error(y_true, y_pred):\n",
    "    return K.sqrt(K.mean(K.square(y_pred - y_true))) "
   ]
  },
  {
   "cell_type": "code",
   "execution_count": null,
   "metadata": {},
   "outputs": [],
   "source": []
  },
  {
   "cell_type": "markdown",
   "metadata": {},
   "source": [
    "## Without Sentiments"
   ]
  },
  {
   "cell_type": "markdown",
   "metadata": {},
   "source": [
    "#### 1. Create feature lags"
   ]
  },
  {
   "cell_type": "code",
   "execution_count": 18,
   "metadata": {},
   "outputs": [],
   "source": [
    "feature_lags = {\"Adj_Close_BTC-USD\" : 2, \n",
    "                \"Volume_BTC-USD\" : 1, \n",
    "                \"Adj_Close_SPY\" : 1,\n",
    "                \"Adj_Close_GLD\" : 1,\n",
    "                \"Adj_Close_CHFUSD=X\" : 1,\n",
    "                \"Adj_Close_CNYUSD=X\" : 1,\n",
    "                \"Adj_Close_EURUSD=X\" : 1,\n",
    "                \"Adj_Close_GBPUSD=X\" : 1,\n",
    "                \"Adj_Close_JPYUSD=X\" : 1,\n",
    "                \"blockchain_transactions_per_block\" : 1,\n",
    "                \"blockchain_hash_rates\" : 1}\n",
    "\n",
    "data = lag(features, feature_lags)"
   ]
  },
  {
   "cell_type": "markdown",
   "metadata": {},
   "source": [
    "#### 2. Handle train-test split"
   ]
  },
  {
   "cell_type": "code",
   "execution_count": 19,
   "metadata": {},
   "outputs": [],
   "source": [
    "# data['date'] = data['date'].apply(lambda x: datetime.datetime.strptime(x, \"%Y-%m-%d\"))\n",
    "# data[\"date\"] = pd.to_datetime(data[\"date\"], format='%d/%m/%Y', infer_datetime_format=True)\n",
    "data = data[data[\"date\"] >= \"1/1/2021\"]\n",
    "\n",
    "train = data[data[\"date\"] <= \"2021-03-10\"]\n",
    "test = data[(data[\"date\"] > \"2021-03-10\") & (data[\"date\"] <= \"2021-04-5\")]\n",
    "\n",
    "x_train = train.drop([\"date\", \"Adj_Close_BTC-USD\"], axis = 1)\n",
    "y_train = train[\"Adj_Close_BTC-USD\"]\n",
    "\n",
    "x_test = test.drop([\"date\", \"Adj_Close_BTC-USD\"], axis = 1)\n",
    "y_test = test[\"Adj_Close_BTC-USD\"]"
   ]
  },
  {
   "cell_type": "markdown",
   "metadata": {},
   "source": [
    "#### 3. MinMax scale the features"
   ]
  },
  {
   "cell_type": "code",
   "execution_count": 20,
   "metadata": {},
   "outputs": [],
   "source": [
    "sc = MinMaxScaler(feature_range = (0, 1))\n",
    "sc.fit(x_train)\n",
    "x_train_trans = sc.transform(x_train)\n",
    "x_test_trans = sc.transform(x_test)"
   ]
  },
  {
   "cell_type": "markdown",
   "metadata": {},
   "source": [
    "#### 4. Transform the feature shapes to fit into LSTM"
   ]
  },
  {
   "cell_type": "code",
   "execution_count": 21,
   "metadata": {},
   "outputs": [],
   "source": [
    "x_train_trans = x_train_trans.reshape(x_train_trans.shape[0], x_train_trans.shape[1], 1)\n",
    "x_test_trans = x_test_trans.reshape(x_test_trans.shape[0], x_test_trans.shape[1], 1)"
   ]
  },
  {
   "cell_type": "markdown",
   "metadata": {},
   "source": [
    "#### 5. Define a Grid Search function"
   ]
  },
  {
   "cell_type": "code",
   "execution_count": 22,
   "metadata": {},
   "outputs": [],
   "source": [
    "def LSTM_GS(layer_spe, time_step):\n",
    "    regressor = Sequential()\n",
    "    count = 0\n",
    "    for unit in layer_spe:\n",
    "        count += 1 \n",
    "        if len(layer_spe) == 1:\n",
    "            regressor.add(LSTM(unit, activation = \"relu\", input_shape = (time_step, 1))) # batch size, time steps, data dimension\n",
    "            regressor.add(Dropout(0.3))\n",
    "        else:\n",
    "            if count == 1:\n",
    "                regressor.add(LSTM(unit, activation = \"relu\", return_sequences=True, input_shape = (time_step, 1))) # batch size, time steps, data dimension\n",
    "                regressor.add(Dropout(0.3))\n",
    "            elif count < len(layer_spe): \n",
    "                regressor.add(LSTM(unit, activation = \"relu\", return_sequences=True))\n",
    "                regressor.add(Dropout(0.3))\n",
    "            else:\n",
    "                regressor.add(LSTM(unit, activation = \"relu\"))\n",
    "                regressor.add(Dropout(0.3))\n",
    "            \n",
    "    regressor.add(Dense(units = 1))\n",
    "    regressor.compile(optimizer = 'Adam', loss = root_mean_squared_error)\n",
    "    regressor.fit(x_train_trans, y_train, epochs = 200, verbose = 0)\n",
    "    \n",
    "    yhat = regressor.predict(x_test_trans)\n",
    "    return mean_squared_error(y_train, regressor.predict(x_train_trans), squared = False), mean_squared_error(y_test, yhat, squared = False)"
   ]
  },
  {
   "cell_type": "markdown",
   "metadata": {},
   "source": [
    "#### 6. Grid Search on a few hyperparameters combinations"
   ]
  },
  {
   "cell_type": "code",
   "execution_count": 23,
   "metadata": {},
   "outputs": [
    {
     "name": "stdout",
     "output_type": "stream",
     "text": [
      "WARNING:tensorflow:Model was constructed with shape (None, 1, 1) for input KerasTensor(type_spec=TensorSpec(shape=(None, 1, 1), dtype=tf.float32, name='lstm_input'), name='lstm_input', description=\"created by layer 'lstm_input'\"), but it was called on an input with incompatible shape (None, 12, 1).\n",
      "WARNING:tensorflow:Model was constructed with shape (None, 1, 1) for input KerasTensor(type_spec=TensorSpec(shape=(None, 1, 1), dtype=tf.float32, name='lstm_input'), name='lstm_input', description=\"created by layer 'lstm_input'\"), but it was called on an input with incompatible shape (None, 12, 1).\n",
      "WARNING:tensorflow:Model was constructed with shape (None, 1, 1) for input KerasTensor(type_spec=TensorSpec(shape=(None, 1, 1), dtype=tf.float32, name='lstm_input'), name='lstm_input', description=\"created by layer 'lstm_input'\"), but it was called on an input with incompatible shape (None, 12, 1).\n",
      "WARNING:tensorflow:Model was constructed with shape (None, 2, 1) for input KerasTensor(type_spec=TensorSpec(shape=(None, 2, 1), dtype=tf.float32, name='lstm_1_input'), name='lstm_1_input', description=\"created by layer 'lstm_1_input'\"), but it was called on an input with incompatible shape (None, 12, 1).\n",
      "WARNING:tensorflow:Model was constructed with shape (None, 2, 1) for input KerasTensor(type_spec=TensorSpec(shape=(None, 2, 1), dtype=tf.float32, name='lstm_1_input'), name='lstm_1_input', description=\"created by layer 'lstm_1_input'\"), but it was called on an input with incompatible shape (None, 12, 1).\n",
      "WARNING:tensorflow:Model was constructed with shape (None, 2, 1) for input KerasTensor(type_spec=TensorSpec(shape=(None, 2, 1), dtype=tf.float32, name='lstm_1_input'), name='lstm_1_input', description=\"created by layer 'lstm_1_input'\"), but it was called on an input with incompatible shape (None, 12, 1).\n",
      "WARNING:tensorflow:Model was constructed with shape (None, 3, 1) for input KerasTensor(type_spec=TensorSpec(shape=(None, 3, 1), dtype=tf.float32, name='lstm_2_input'), name='lstm_2_input', description=\"created by layer 'lstm_2_input'\"), but it was called on an input with incompatible shape (None, 12, 1).\n",
      "WARNING:tensorflow:Model was constructed with shape (None, 3, 1) for input KerasTensor(type_spec=TensorSpec(shape=(None, 3, 1), dtype=tf.float32, name='lstm_2_input'), name='lstm_2_input', description=\"created by layer 'lstm_2_input'\"), but it was called on an input with incompatible shape (None, 12, 1).\n",
      "WARNING:tensorflow:Model was constructed with shape (None, 3, 1) for input KerasTensor(type_spec=TensorSpec(shape=(None, 3, 1), dtype=tf.float32, name='lstm_2_input'), name='lstm_2_input', description=\"created by layer 'lstm_2_input'\"), but it was called on an input with incompatible shape (None, 12, 1).\n",
      "WARNING:tensorflow:Model was constructed with shape (None, 4, 1) for input KerasTensor(type_spec=TensorSpec(shape=(None, 4, 1), dtype=tf.float32, name='lstm_3_input'), name='lstm_3_input', description=\"created by layer 'lstm_3_input'\"), but it was called on an input with incompatible shape (None, 12, 1).\n",
      "WARNING:tensorflow:Model was constructed with shape (None, 4, 1) for input KerasTensor(type_spec=TensorSpec(shape=(None, 4, 1), dtype=tf.float32, name='lstm_3_input'), name='lstm_3_input', description=\"created by layer 'lstm_3_input'\"), but it was called on an input with incompatible shape (None, 12, 1).\n",
      "WARNING:tensorflow:Model was constructed with shape (None, 4, 1) for input KerasTensor(type_spec=TensorSpec(shape=(None, 4, 1), dtype=tf.float32, name='lstm_3_input'), name='lstm_3_input', description=\"created by layer 'lstm_3_input'\"), but it was called on an input with incompatible shape (None, 12, 1).\n",
      "WARNING:tensorflow:Model was constructed with shape (None, 5, 1) for input KerasTensor(type_spec=TensorSpec(shape=(None, 5, 1), dtype=tf.float32, name='lstm_4_input'), name='lstm_4_input', description=\"created by layer 'lstm_4_input'\"), but it was called on an input with incompatible shape (None, 12, 1).\n",
      "WARNING:tensorflow:Model was constructed with shape (None, 5, 1) for input KerasTensor(type_spec=TensorSpec(shape=(None, 5, 1), dtype=tf.float32, name='lstm_4_input'), name='lstm_4_input', description=\"created by layer 'lstm_4_input'\"), but it was called on an input with incompatible shape (None, 12, 1).\n",
      "WARNING:tensorflow:Model was constructed with shape (None, 5, 1) for input KerasTensor(type_spec=TensorSpec(shape=(None, 5, 1), dtype=tf.float32, name='lstm_4_input'), name='lstm_4_input', description=\"created by layer 'lstm_4_input'\"), but it was called on an input with incompatible shape (None, 12, 1).\n",
      "WARNING:tensorflow:Model was constructed with shape (None, 1, 1) for input KerasTensor(type_spec=TensorSpec(shape=(None, 1, 1), dtype=tf.float32, name='lstm_5_input'), name='lstm_5_input', description=\"created by layer 'lstm_5_input'\"), but it was called on an input with incompatible shape (None, 12, 1).\n",
      "WARNING:tensorflow:Model was constructed with shape (None, 1, 1) for input KerasTensor(type_spec=TensorSpec(shape=(None, 1, 1), dtype=tf.float32, name='lstm_5_input'), name='lstm_5_input', description=\"created by layer 'lstm_5_input'\"), but it was called on an input with incompatible shape (None, 12, 1).\n",
      "WARNING:tensorflow:Model was constructed with shape (None, 1, 1) for input KerasTensor(type_spec=TensorSpec(shape=(None, 1, 1), dtype=tf.float32, name='lstm_5_input'), name='lstm_5_input', description=\"created by layer 'lstm_5_input'\"), but it was called on an input with incompatible shape (None, 12, 1).\n",
      "WARNING:tensorflow:Model was constructed with shape (None, 2, 1) for input KerasTensor(type_spec=TensorSpec(shape=(None, 2, 1), dtype=tf.float32, name='lstm_6_input'), name='lstm_6_input', description=\"created by layer 'lstm_6_input'\"), but it was called on an input with incompatible shape (None, 12, 1).\n",
      "WARNING:tensorflow:Model was constructed with shape (None, 2, 1) for input KerasTensor(type_spec=TensorSpec(shape=(None, 2, 1), dtype=tf.float32, name='lstm_6_input'), name='lstm_6_input', description=\"created by layer 'lstm_6_input'\"), but it was called on an input with incompatible shape (None, 12, 1).\n",
      "WARNING:tensorflow:Model was constructed with shape (None, 2, 1) for input KerasTensor(type_spec=TensorSpec(shape=(None, 2, 1), dtype=tf.float32, name='lstm_6_input'), name='lstm_6_input', description=\"created by layer 'lstm_6_input'\"), but it was called on an input with incompatible shape (None, 12, 1).\n",
      "WARNING:tensorflow:Model was constructed with shape (None, 3, 1) for input KerasTensor(type_spec=TensorSpec(shape=(None, 3, 1), dtype=tf.float32, name='lstm_7_input'), name='lstm_7_input', description=\"created by layer 'lstm_7_input'\"), but it was called on an input with incompatible shape (None, 12, 1).\n",
      "WARNING:tensorflow:Model was constructed with shape (None, 3, 1) for input KerasTensor(type_spec=TensorSpec(shape=(None, 3, 1), dtype=tf.float32, name='lstm_7_input'), name='lstm_7_input', description=\"created by layer 'lstm_7_input'\"), but it was called on an input with incompatible shape (None, 12, 1).\n",
      "WARNING:tensorflow:Model was constructed with shape (None, 3, 1) for input KerasTensor(type_spec=TensorSpec(shape=(None, 3, 1), dtype=tf.float32, name='lstm_7_input'), name='lstm_7_input', description=\"created by layer 'lstm_7_input'\"), but it was called on an input with incompatible shape (None, 12, 1).\n",
      "WARNING:tensorflow:Model was constructed with shape (None, 4, 1) for input KerasTensor(type_spec=TensorSpec(shape=(None, 4, 1), dtype=tf.float32, name='lstm_8_input'), name='lstm_8_input', description=\"created by layer 'lstm_8_input'\"), but it was called on an input with incompatible shape (None, 12, 1).\n",
      "WARNING:tensorflow:Model was constructed with shape (None, 4, 1) for input KerasTensor(type_spec=TensorSpec(shape=(None, 4, 1), dtype=tf.float32, name='lstm_8_input'), name='lstm_8_input', description=\"created by layer 'lstm_8_input'\"), but it was called on an input with incompatible shape (None, 12, 1).\n",
      "WARNING:tensorflow:Model was constructed with shape (None, 4, 1) for input KerasTensor(type_spec=TensorSpec(shape=(None, 4, 1), dtype=tf.float32, name='lstm_8_input'), name='lstm_8_input', description=\"created by layer 'lstm_8_input'\"), but it was called on an input with incompatible shape (None, 12, 1).\n"
     ]
    },
    {
     "name": "stdout",
     "output_type": "stream",
     "text": [
      "WARNING:tensorflow:Model was constructed with shape (None, 5, 1) for input KerasTensor(type_spec=TensorSpec(shape=(None, 5, 1), dtype=tf.float32, name='lstm_9_input'), name='lstm_9_input', description=\"created by layer 'lstm_9_input'\"), but it was called on an input with incompatible shape (None, 12, 1).\n",
      "WARNING:tensorflow:Model was constructed with shape (None, 5, 1) for input KerasTensor(type_spec=TensorSpec(shape=(None, 5, 1), dtype=tf.float32, name='lstm_9_input'), name='lstm_9_input', description=\"created by layer 'lstm_9_input'\"), but it was called on an input with incompatible shape (None, 12, 1).\n",
      "WARNING:tensorflow:Model was constructed with shape (None, 5, 1) for input KerasTensor(type_spec=TensorSpec(shape=(None, 5, 1), dtype=tf.float32, name='lstm_9_input'), name='lstm_9_input', description=\"created by layer 'lstm_9_input'\"), but it was called on an input with incompatible shape (None, 12, 1).\n",
      "WARNING:tensorflow:Model was constructed with shape (None, 1, 1) for input KerasTensor(type_spec=TensorSpec(shape=(None, 1, 1), dtype=tf.float32, name='lstm_10_input'), name='lstm_10_input', description=\"created by layer 'lstm_10_input'\"), but it was called on an input with incompatible shape (None, 12, 1).\n",
      "WARNING:tensorflow:Model was constructed with shape (None, 1, 1) for input KerasTensor(type_spec=TensorSpec(shape=(None, 1, 1), dtype=tf.float32, name='lstm_10_input'), name='lstm_10_input', description=\"created by layer 'lstm_10_input'\"), but it was called on an input with incompatible shape (None, 12, 1).\n",
      "WARNING:tensorflow:Model was constructed with shape (None, 1, 1) for input KerasTensor(type_spec=TensorSpec(shape=(None, 1, 1), dtype=tf.float32, name='lstm_10_input'), name='lstm_10_input', description=\"created by layer 'lstm_10_input'\"), but it was called on an input with incompatible shape (None, 12, 1).\n",
      "WARNING:tensorflow:Model was constructed with shape (None, 2, 1) for input KerasTensor(type_spec=TensorSpec(shape=(None, 2, 1), dtype=tf.float32, name='lstm_11_input'), name='lstm_11_input', description=\"created by layer 'lstm_11_input'\"), but it was called on an input with incompatible shape (None, 12, 1).\n",
      "WARNING:tensorflow:Model was constructed with shape (None, 2, 1) for input KerasTensor(type_spec=TensorSpec(shape=(None, 2, 1), dtype=tf.float32, name='lstm_11_input'), name='lstm_11_input', description=\"created by layer 'lstm_11_input'\"), but it was called on an input with incompatible shape (None, 12, 1).\n",
      "WARNING:tensorflow:Model was constructed with shape (None, 2, 1) for input KerasTensor(type_spec=TensorSpec(shape=(None, 2, 1), dtype=tf.float32, name='lstm_11_input'), name='lstm_11_input', description=\"created by layer 'lstm_11_input'\"), but it was called on an input with incompatible shape (None, 12, 1).\n",
      "WARNING:tensorflow:Model was constructed with shape (None, 3, 1) for input KerasTensor(type_spec=TensorSpec(shape=(None, 3, 1), dtype=tf.float32, name='lstm_12_input'), name='lstm_12_input', description=\"created by layer 'lstm_12_input'\"), but it was called on an input with incompatible shape (None, 12, 1).\n",
      "WARNING:tensorflow:Model was constructed with shape (None, 3, 1) for input KerasTensor(type_spec=TensorSpec(shape=(None, 3, 1), dtype=tf.float32, name='lstm_12_input'), name='lstm_12_input', description=\"created by layer 'lstm_12_input'\"), but it was called on an input with incompatible shape (None, 12, 1).\n",
      "WARNING:tensorflow:Model was constructed with shape (None, 3, 1) for input KerasTensor(type_spec=TensorSpec(shape=(None, 3, 1), dtype=tf.float32, name='lstm_12_input'), name='lstm_12_input', description=\"created by layer 'lstm_12_input'\"), but it was called on an input with incompatible shape (None, 12, 1).\n",
      "WARNING:tensorflow:Model was constructed with shape (None, 4, 1) for input KerasTensor(type_spec=TensorSpec(shape=(None, 4, 1), dtype=tf.float32, name='lstm_13_input'), name='lstm_13_input', description=\"created by layer 'lstm_13_input'\"), but it was called on an input with incompatible shape (None, 12, 1).\n",
      "WARNING:tensorflow:Model was constructed with shape (None, 4, 1) for input KerasTensor(type_spec=TensorSpec(shape=(None, 4, 1), dtype=tf.float32, name='lstm_13_input'), name='lstm_13_input', description=\"created by layer 'lstm_13_input'\"), but it was called on an input with incompatible shape (None, 12, 1).\n",
      "WARNING:tensorflow:Model was constructed with shape (None, 4, 1) for input KerasTensor(type_spec=TensorSpec(shape=(None, 4, 1), dtype=tf.float32, name='lstm_13_input'), name='lstm_13_input', description=\"created by layer 'lstm_13_input'\"), but it was called on an input with incompatible shape (None, 12, 1).\n",
      "WARNING:tensorflow:Model was constructed with shape (None, 5, 1) for input KerasTensor(type_spec=TensorSpec(shape=(None, 5, 1), dtype=tf.float32, name='lstm_14_input'), name='lstm_14_input', description=\"created by layer 'lstm_14_input'\"), but it was called on an input with incompatible shape (None, 12, 1).\n",
      "WARNING:tensorflow:Model was constructed with shape (None, 5, 1) for input KerasTensor(type_spec=TensorSpec(shape=(None, 5, 1), dtype=tf.float32, name='lstm_14_input'), name='lstm_14_input', description=\"created by layer 'lstm_14_input'\"), but it was called on an input with incompatible shape (None, 12, 1).\n",
      "WARNING:tensorflow:Model was constructed with shape (None, 5, 1) for input KerasTensor(type_spec=TensorSpec(shape=(None, 5, 1), dtype=tf.float32, name='lstm_14_input'), name='lstm_14_input', description=\"created by layer 'lstm_14_input'\"), but it was called on an input with incompatible shape (None, 12, 1).\n",
      "WARNING:tensorflow:Model was constructed with shape (None, 1, 1) for input KerasTensor(type_spec=TensorSpec(shape=(None, 1, 1), dtype=tf.float32, name='lstm_15_input'), name='lstm_15_input', description=\"created by layer 'lstm_15_input'\"), but it was called on an input with incompatible shape (None, 12, 1).\n",
      "WARNING:tensorflow:Model was constructed with shape (None, 1, 1) for input KerasTensor(type_spec=TensorSpec(shape=(None, 1, 1), dtype=tf.float32, name='lstm_15_input'), name='lstm_15_input', description=\"created by layer 'lstm_15_input'\"), but it was called on an input with incompatible shape (None, 12, 1).\n",
      "WARNING:tensorflow:Model was constructed with shape (None, 1, 1) for input KerasTensor(type_spec=TensorSpec(shape=(None, 1, 1), dtype=tf.float32, name='lstm_15_input'), name='lstm_15_input', description=\"created by layer 'lstm_15_input'\"), but it was called on an input with incompatible shape (None, 12, 1).\n",
      "WARNING:tensorflow:Model was constructed with shape (None, 2, 1) for input KerasTensor(type_spec=TensorSpec(shape=(None, 2, 1), dtype=tf.float32, name='lstm_16_input'), name='lstm_16_input', description=\"created by layer 'lstm_16_input'\"), but it was called on an input with incompatible shape (None, 12, 1).\n",
      "WARNING:tensorflow:Model was constructed with shape (None, 2, 1) for input KerasTensor(type_spec=TensorSpec(shape=(None, 2, 1), dtype=tf.float32, name='lstm_16_input'), name='lstm_16_input', description=\"created by layer 'lstm_16_input'\"), but it was called on an input with incompatible shape (None, 12, 1).\n",
      "WARNING:tensorflow:Model was constructed with shape (None, 2, 1) for input KerasTensor(type_spec=TensorSpec(shape=(None, 2, 1), dtype=tf.float32, name='lstm_16_input'), name='lstm_16_input', description=\"created by layer 'lstm_16_input'\"), but it was called on an input with incompatible shape (None, 12, 1).\n",
      "WARNING:tensorflow:Model was constructed with shape (None, 3, 1) for input KerasTensor(type_spec=TensorSpec(shape=(None, 3, 1), dtype=tf.float32, name='lstm_17_input'), name='lstm_17_input', description=\"created by layer 'lstm_17_input'\"), but it was called on an input with incompatible shape (None, 12, 1).\n",
      "WARNING:tensorflow:Model was constructed with shape (None, 3, 1) for input KerasTensor(type_spec=TensorSpec(shape=(None, 3, 1), dtype=tf.float32, name='lstm_17_input'), name='lstm_17_input', description=\"created by layer 'lstm_17_input'\"), but it was called on an input with incompatible shape (None, 12, 1).\n",
      "WARNING:tensorflow:Model was constructed with shape (None, 3, 1) for input KerasTensor(type_spec=TensorSpec(shape=(None, 3, 1), dtype=tf.float32, name='lstm_17_input'), name='lstm_17_input', description=\"created by layer 'lstm_17_input'\"), but it was called on an input with incompatible shape (None, 12, 1).\n"
     ]
    },
    {
     "name": "stdout",
     "output_type": "stream",
     "text": [
      "WARNING:tensorflow:Model was constructed with shape (None, 4, 1) for input KerasTensor(type_spec=TensorSpec(shape=(None, 4, 1), dtype=tf.float32, name='lstm_18_input'), name='lstm_18_input', description=\"created by layer 'lstm_18_input'\"), but it was called on an input with incompatible shape (None, 12, 1).\n",
      "WARNING:tensorflow:Model was constructed with shape (None, 4, 1) for input KerasTensor(type_spec=TensorSpec(shape=(None, 4, 1), dtype=tf.float32, name='lstm_18_input'), name='lstm_18_input', description=\"created by layer 'lstm_18_input'\"), but it was called on an input with incompatible shape (None, 12, 1).\n",
      "WARNING:tensorflow:Model was constructed with shape (None, 4, 1) for input KerasTensor(type_spec=TensorSpec(shape=(None, 4, 1), dtype=tf.float32, name='lstm_18_input'), name='lstm_18_input', description=\"created by layer 'lstm_18_input'\"), but it was called on an input with incompatible shape (None, 12, 1).\n",
      "WARNING:tensorflow:Model was constructed with shape (None, 5, 1) for input KerasTensor(type_spec=TensorSpec(shape=(None, 5, 1), dtype=tf.float32, name='lstm_19_input'), name='lstm_19_input', description=\"created by layer 'lstm_19_input'\"), but it was called on an input with incompatible shape (None, 12, 1).\n",
      "WARNING:tensorflow:Model was constructed with shape (None, 5, 1) for input KerasTensor(type_spec=TensorSpec(shape=(None, 5, 1), dtype=tf.float32, name='lstm_19_input'), name='lstm_19_input', description=\"created by layer 'lstm_19_input'\"), but it was called on an input with incompatible shape (None, 12, 1).\n",
      "WARNING:tensorflow:Model was constructed with shape (None, 5, 1) for input KerasTensor(type_spec=TensorSpec(shape=(None, 5, 1), dtype=tf.float32, name='lstm_19_input'), name='lstm_19_input', description=\"created by layer 'lstm_19_input'\"), but it was called on an input with incompatible shape (None, 12, 1).\n",
      "WARNING:tensorflow:Model was constructed with shape (None, 1, 1) for input KerasTensor(type_spec=TensorSpec(shape=(None, 1, 1), dtype=tf.float32, name='lstm_20_input'), name='lstm_20_input', description=\"created by layer 'lstm_20_input'\"), but it was called on an input with incompatible shape (None, 12, 1).\n",
      "WARNING:tensorflow:Model was constructed with shape (None, 1, 1) for input KerasTensor(type_spec=TensorSpec(shape=(None, 1, 1), dtype=tf.float32, name='lstm_20_input'), name='lstm_20_input', description=\"created by layer 'lstm_20_input'\"), but it was called on an input with incompatible shape (None, 12, 1).\n",
      "WARNING:tensorflow:Model was constructed with shape (None, 1, 1) for input KerasTensor(type_spec=TensorSpec(shape=(None, 1, 1), dtype=tf.float32, name='lstm_20_input'), name='lstm_20_input', description=\"created by layer 'lstm_20_input'\"), but it was called on an input with incompatible shape (None, 12, 1).\n",
      "WARNING:tensorflow:Model was constructed with shape (None, 2, 1) for input KerasTensor(type_spec=TensorSpec(shape=(None, 2, 1), dtype=tf.float32, name='lstm_22_input'), name='lstm_22_input', description=\"created by layer 'lstm_22_input'\"), but it was called on an input with incompatible shape (None, 12, 1).\n",
      "WARNING:tensorflow:Model was constructed with shape (None, 2, 1) for input KerasTensor(type_spec=TensorSpec(shape=(None, 2, 1), dtype=tf.float32, name='lstm_22_input'), name='lstm_22_input', description=\"created by layer 'lstm_22_input'\"), but it was called on an input with incompatible shape (None, 12, 1).\n",
      "WARNING:tensorflow:Model was constructed with shape (None, 2, 1) for input KerasTensor(type_spec=TensorSpec(shape=(None, 2, 1), dtype=tf.float32, name='lstm_22_input'), name='lstm_22_input', description=\"created by layer 'lstm_22_input'\"), but it was called on an input with incompatible shape (None, 12, 1).\n",
      "WARNING:tensorflow:Model was constructed with shape (None, 3, 1) for input KerasTensor(type_spec=TensorSpec(shape=(None, 3, 1), dtype=tf.float32, name='lstm_24_input'), name='lstm_24_input', description=\"created by layer 'lstm_24_input'\"), but it was called on an input with incompatible shape (None, 12, 1).\n",
      "WARNING:tensorflow:Model was constructed with shape (None, 3, 1) for input KerasTensor(type_spec=TensorSpec(shape=(None, 3, 1), dtype=tf.float32, name='lstm_24_input'), name='lstm_24_input', description=\"created by layer 'lstm_24_input'\"), but it was called on an input with incompatible shape (None, 12, 1).\n",
      "WARNING:tensorflow:Model was constructed with shape (None, 3, 1) for input KerasTensor(type_spec=TensorSpec(shape=(None, 3, 1), dtype=tf.float32, name='lstm_24_input'), name='lstm_24_input', description=\"created by layer 'lstm_24_input'\"), but it was called on an input with incompatible shape (None, 12, 1).\n",
      "WARNING:tensorflow:Model was constructed with shape (None, 4, 1) for input KerasTensor(type_spec=TensorSpec(shape=(None, 4, 1), dtype=tf.float32, name='lstm_26_input'), name='lstm_26_input', description=\"created by layer 'lstm_26_input'\"), but it was called on an input with incompatible shape (None, 12, 1).\n",
      "WARNING:tensorflow:Model was constructed with shape (None, 4, 1) for input KerasTensor(type_spec=TensorSpec(shape=(None, 4, 1), dtype=tf.float32, name='lstm_26_input'), name='lstm_26_input', description=\"created by layer 'lstm_26_input'\"), but it was called on an input with incompatible shape (None, 12, 1).\n",
      "WARNING:tensorflow:Model was constructed with shape (None, 4, 1) for input KerasTensor(type_spec=TensorSpec(shape=(None, 4, 1), dtype=tf.float32, name='lstm_26_input'), name='lstm_26_input', description=\"created by layer 'lstm_26_input'\"), but it was called on an input with incompatible shape (None, 12, 1).\n",
      "WARNING:tensorflow:Model was constructed with shape (None, 5, 1) for input KerasTensor(type_spec=TensorSpec(shape=(None, 5, 1), dtype=tf.float32, name='lstm_28_input'), name='lstm_28_input', description=\"created by layer 'lstm_28_input'\"), but it was called on an input with incompatible shape (None, 12, 1).\n",
      "WARNING:tensorflow:Model was constructed with shape (None, 5, 1) for input KerasTensor(type_spec=TensorSpec(shape=(None, 5, 1), dtype=tf.float32, name='lstm_28_input'), name='lstm_28_input', description=\"created by layer 'lstm_28_input'\"), but it was called on an input with incompatible shape (None, 12, 1).\n",
      "WARNING:tensorflow:Model was constructed with shape (None, 5, 1) for input KerasTensor(type_spec=TensorSpec(shape=(None, 5, 1), dtype=tf.float32, name='lstm_28_input'), name='lstm_28_input', description=\"created by layer 'lstm_28_input'\"), but it was called on an input with incompatible shape (None, 12, 1).\n",
      "WARNING:tensorflow:Model was constructed with shape (None, 1, 1) for input KerasTensor(type_spec=TensorSpec(shape=(None, 1, 1), dtype=tf.float32, name='lstm_30_input'), name='lstm_30_input', description=\"created by layer 'lstm_30_input'\"), but it was called on an input with incompatible shape (None, 12, 1).\n",
      "WARNING:tensorflow:Model was constructed with shape (None, 1, 1) for input KerasTensor(type_spec=TensorSpec(shape=(None, 1, 1), dtype=tf.float32, name='lstm_30_input'), name='lstm_30_input', description=\"created by layer 'lstm_30_input'\"), but it was called on an input with incompatible shape (None, 12, 1).\n",
      "WARNING:tensorflow:Model was constructed with shape (None, 1, 1) for input KerasTensor(type_spec=TensorSpec(shape=(None, 1, 1), dtype=tf.float32, name='lstm_30_input'), name='lstm_30_input', description=\"created by layer 'lstm_30_input'\"), but it was called on an input with incompatible shape (None, 12, 1).\n",
      "WARNING:tensorflow:Model was constructed with shape (None, 2, 1) for input KerasTensor(type_spec=TensorSpec(shape=(None, 2, 1), dtype=tf.float32, name='lstm_32_input'), name='lstm_32_input', description=\"created by layer 'lstm_32_input'\"), but it was called on an input with incompatible shape (None, 12, 1).\n",
      "WARNING:tensorflow:Model was constructed with shape (None, 2, 1) for input KerasTensor(type_spec=TensorSpec(shape=(None, 2, 1), dtype=tf.float32, name='lstm_32_input'), name='lstm_32_input', description=\"created by layer 'lstm_32_input'\"), but it was called on an input with incompatible shape (None, 12, 1).\n",
      "WARNING:tensorflow:Model was constructed with shape (None, 2, 1) for input KerasTensor(type_spec=TensorSpec(shape=(None, 2, 1), dtype=tf.float32, name='lstm_32_input'), name='lstm_32_input', description=\"created by layer 'lstm_32_input'\"), but it was called on an input with incompatible shape (None, 12, 1).\n"
     ]
    },
    {
     "name": "stdout",
     "output_type": "stream",
     "text": [
      "WARNING:tensorflow:Model was constructed with shape (None, 3, 1) for input KerasTensor(type_spec=TensorSpec(shape=(None, 3, 1), dtype=tf.float32, name='lstm_34_input'), name='lstm_34_input', description=\"created by layer 'lstm_34_input'\"), but it was called on an input with incompatible shape (None, 12, 1).\n",
      "WARNING:tensorflow:Model was constructed with shape (None, 3, 1) for input KerasTensor(type_spec=TensorSpec(shape=(None, 3, 1), dtype=tf.float32, name='lstm_34_input'), name='lstm_34_input', description=\"created by layer 'lstm_34_input'\"), but it was called on an input with incompatible shape (None, 12, 1).\n",
      "WARNING:tensorflow:Model was constructed with shape (None, 3, 1) for input KerasTensor(type_spec=TensorSpec(shape=(None, 3, 1), dtype=tf.float32, name='lstm_34_input'), name='lstm_34_input', description=\"created by layer 'lstm_34_input'\"), but it was called on an input with incompatible shape (None, 12, 1).\n",
      "WARNING:tensorflow:Model was constructed with shape (None, 4, 1) for input KerasTensor(type_spec=TensorSpec(shape=(None, 4, 1), dtype=tf.float32, name='lstm_36_input'), name='lstm_36_input', description=\"created by layer 'lstm_36_input'\"), but it was called on an input with incompatible shape (None, 12, 1).\n",
      "WARNING:tensorflow:Model was constructed with shape (None, 4, 1) for input KerasTensor(type_spec=TensorSpec(shape=(None, 4, 1), dtype=tf.float32, name='lstm_36_input'), name='lstm_36_input', description=\"created by layer 'lstm_36_input'\"), but it was called on an input with incompatible shape (None, 12, 1).\n",
      "WARNING:tensorflow:Model was constructed with shape (None, 4, 1) for input KerasTensor(type_spec=TensorSpec(shape=(None, 4, 1), dtype=tf.float32, name='lstm_36_input'), name='lstm_36_input', description=\"created by layer 'lstm_36_input'\"), but it was called on an input with incompatible shape (None, 12, 1).\n",
      "WARNING:tensorflow:Model was constructed with shape (None, 5, 1) for input KerasTensor(type_spec=TensorSpec(shape=(None, 5, 1), dtype=tf.float32, name='lstm_38_input'), name='lstm_38_input', description=\"created by layer 'lstm_38_input'\"), but it was called on an input with incompatible shape (None, 12, 1).\n",
      "WARNING:tensorflow:Model was constructed with shape (None, 5, 1) for input KerasTensor(type_spec=TensorSpec(shape=(None, 5, 1), dtype=tf.float32, name='lstm_38_input'), name='lstm_38_input', description=\"created by layer 'lstm_38_input'\"), but it was called on an input with incompatible shape (None, 12, 1).\n",
      "WARNING:tensorflow:Model was constructed with shape (None, 5, 1) for input KerasTensor(type_spec=TensorSpec(shape=(None, 5, 1), dtype=tf.float32, name='lstm_38_input'), name='lstm_38_input', description=\"created by layer 'lstm_38_input'\"), but it was called on an input with incompatible shape (None, 12, 1).\n",
      "WARNING:tensorflow:Model was constructed with shape (None, 1, 1) for input KerasTensor(type_spec=TensorSpec(shape=(None, 1, 1), dtype=tf.float32, name='lstm_40_input'), name='lstm_40_input', description=\"created by layer 'lstm_40_input'\"), but it was called on an input with incompatible shape (None, 12, 1).\n",
      "WARNING:tensorflow:Model was constructed with shape (None, 1, 1) for input KerasTensor(type_spec=TensorSpec(shape=(None, 1, 1), dtype=tf.float32, name='lstm_40_input'), name='lstm_40_input', description=\"created by layer 'lstm_40_input'\"), but it was called on an input with incompatible shape (None, 12, 1).\n",
      "WARNING:tensorflow:Model was constructed with shape (None, 1, 1) for input KerasTensor(type_spec=TensorSpec(shape=(None, 1, 1), dtype=tf.float32, name='lstm_40_input'), name='lstm_40_input', description=\"created by layer 'lstm_40_input'\"), but it was called on an input with incompatible shape (None, 12, 1).\n",
      "WARNING:tensorflow:Model was constructed with shape (None, 2, 1) for input KerasTensor(type_spec=TensorSpec(shape=(None, 2, 1), dtype=tf.float32, name='lstm_42_input'), name='lstm_42_input', description=\"created by layer 'lstm_42_input'\"), but it was called on an input with incompatible shape (None, 12, 1).\n",
      "WARNING:tensorflow:Model was constructed with shape (None, 2, 1) for input KerasTensor(type_spec=TensorSpec(shape=(None, 2, 1), dtype=tf.float32, name='lstm_42_input'), name='lstm_42_input', description=\"created by layer 'lstm_42_input'\"), but it was called on an input with incompatible shape (None, 12, 1).\n",
      "WARNING:tensorflow:Model was constructed with shape (None, 2, 1) for input KerasTensor(type_spec=TensorSpec(shape=(None, 2, 1), dtype=tf.float32, name='lstm_42_input'), name='lstm_42_input', description=\"created by layer 'lstm_42_input'\"), but it was called on an input with incompatible shape (None, 12, 1).\n",
      "WARNING:tensorflow:Model was constructed with shape (None, 3, 1) for input KerasTensor(type_spec=TensorSpec(shape=(None, 3, 1), dtype=tf.float32, name='lstm_44_input'), name='lstm_44_input', description=\"created by layer 'lstm_44_input'\"), but it was called on an input with incompatible shape (None, 12, 1).\n",
      "WARNING:tensorflow:Model was constructed with shape (None, 3, 1) for input KerasTensor(type_spec=TensorSpec(shape=(None, 3, 1), dtype=tf.float32, name='lstm_44_input'), name='lstm_44_input', description=\"created by layer 'lstm_44_input'\"), but it was called on an input with incompatible shape (None, 12, 1).\n",
      "WARNING:tensorflow:Model was constructed with shape (None, 3, 1) for input KerasTensor(type_spec=TensorSpec(shape=(None, 3, 1), dtype=tf.float32, name='lstm_44_input'), name='lstm_44_input', description=\"created by layer 'lstm_44_input'\"), but it was called on an input with incompatible shape (None, 12, 1).\n",
      "WARNING:tensorflow:Model was constructed with shape (None, 4, 1) for input KerasTensor(type_spec=TensorSpec(shape=(None, 4, 1), dtype=tf.float32, name='lstm_46_input'), name='lstm_46_input', description=\"created by layer 'lstm_46_input'\"), but it was called on an input with incompatible shape (None, 12, 1).\n",
      "WARNING:tensorflow:Model was constructed with shape (None, 4, 1) for input KerasTensor(type_spec=TensorSpec(shape=(None, 4, 1), dtype=tf.float32, name='lstm_46_input'), name='lstm_46_input', description=\"created by layer 'lstm_46_input'\"), but it was called on an input with incompatible shape (None, 12, 1).\n",
      "WARNING:tensorflow:Model was constructed with shape (None, 4, 1) for input KerasTensor(type_spec=TensorSpec(shape=(None, 4, 1), dtype=tf.float32, name='lstm_46_input'), name='lstm_46_input', description=\"created by layer 'lstm_46_input'\"), but it was called on an input with incompatible shape (None, 12, 1).\n",
      "WARNING:tensorflow:Model was constructed with shape (None, 5, 1) for input KerasTensor(type_spec=TensorSpec(shape=(None, 5, 1), dtype=tf.float32, name='lstm_48_input'), name='lstm_48_input', description=\"created by layer 'lstm_48_input'\"), but it was called on an input with incompatible shape (None, 12, 1).\n",
      "WARNING:tensorflow:Model was constructed with shape (None, 5, 1) for input KerasTensor(type_spec=TensorSpec(shape=(None, 5, 1), dtype=tf.float32, name='lstm_48_input'), name='lstm_48_input', description=\"created by layer 'lstm_48_input'\"), but it was called on an input with incompatible shape (None, 12, 1).\n",
      "WARNING:tensorflow:Model was constructed with shape (None, 5, 1) for input KerasTensor(type_spec=TensorSpec(shape=(None, 5, 1), dtype=tf.float32, name='lstm_48_input'), name='lstm_48_input', description=\"created by layer 'lstm_48_input'\"), but it was called on an input with incompatible shape (None, 12, 1).\n",
      "WARNING:tensorflow:Model was constructed with shape (None, 1, 1) for input KerasTensor(type_spec=TensorSpec(shape=(None, 1, 1), dtype=tf.float32, name='lstm_50_input'), name='lstm_50_input', description=\"created by layer 'lstm_50_input'\"), but it was called on an input with incompatible shape (None, 12, 1).\n",
      "WARNING:tensorflow:Model was constructed with shape (None, 1, 1) for input KerasTensor(type_spec=TensorSpec(shape=(None, 1, 1), dtype=tf.float32, name='lstm_50_input'), name='lstm_50_input', description=\"created by layer 'lstm_50_input'\"), but it was called on an input with incompatible shape (None, 12, 1).\n",
      "WARNING:tensorflow:Model was constructed with shape (None, 1, 1) for input KerasTensor(type_spec=TensorSpec(shape=(None, 1, 1), dtype=tf.float32, name='lstm_50_input'), name='lstm_50_input', description=\"created by layer 'lstm_50_input'\"), but it was called on an input with incompatible shape (None, 12, 1).\n"
     ]
    },
    {
     "name": "stdout",
     "output_type": "stream",
     "text": [
      "WARNING:tensorflow:Model was constructed with shape (None, 2, 1) for input KerasTensor(type_spec=TensorSpec(shape=(None, 2, 1), dtype=tf.float32, name='lstm_53_input'), name='lstm_53_input', description=\"created by layer 'lstm_53_input'\"), but it was called on an input with incompatible shape (None, 12, 1).\n",
      "WARNING:tensorflow:Model was constructed with shape (None, 2, 1) for input KerasTensor(type_spec=TensorSpec(shape=(None, 2, 1), dtype=tf.float32, name='lstm_53_input'), name='lstm_53_input', description=\"created by layer 'lstm_53_input'\"), but it was called on an input with incompatible shape (None, 12, 1).\n",
      "WARNING:tensorflow:Model was constructed with shape (None, 2, 1) for input KerasTensor(type_spec=TensorSpec(shape=(None, 2, 1), dtype=tf.float32, name='lstm_53_input'), name='lstm_53_input', description=\"created by layer 'lstm_53_input'\"), but it was called on an input with incompatible shape (None, 12, 1).\n",
      "WARNING:tensorflow:Model was constructed with shape (None, 3, 1) for input KerasTensor(type_spec=TensorSpec(shape=(None, 3, 1), dtype=tf.float32, name='lstm_56_input'), name='lstm_56_input', description=\"created by layer 'lstm_56_input'\"), but it was called on an input with incompatible shape (None, 12, 1).\n",
      "WARNING:tensorflow:Model was constructed with shape (None, 3, 1) for input KerasTensor(type_spec=TensorSpec(shape=(None, 3, 1), dtype=tf.float32, name='lstm_56_input'), name='lstm_56_input', description=\"created by layer 'lstm_56_input'\"), but it was called on an input with incompatible shape (None, 12, 1).\n",
      "WARNING:tensorflow:Model was constructed with shape (None, 3, 1) for input KerasTensor(type_spec=TensorSpec(shape=(None, 3, 1), dtype=tf.float32, name='lstm_56_input'), name='lstm_56_input', description=\"created by layer 'lstm_56_input'\"), but it was called on an input with incompatible shape (None, 12, 1).\n",
      "WARNING:tensorflow:Model was constructed with shape (None, 4, 1) for input KerasTensor(type_spec=TensorSpec(shape=(None, 4, 1), dtype=tf.float32, name='lstm_59_input'), name='lstm_59_input', description=\"created by layer 'lstm_59_input'\"), but it was called on an input with incompatible shape (None, 12, 1).\n",
      "WARNING:tensorflow:Model was constructed with shape (None, 4, 1) for input KerasTensor(type_spec=TensorSpec(shape=(None, 4, 1), dtype=tf.float32, name='lstm_59_input'), name='lstm_59_input', description=\"created by layer 'lstm_59_input'\"), but it was called on an input with incompatible shape (None, 12, 1).\n",
      "WARNING:tensorflow:Model was constructed with shape (None, 4, 1) for input KerasTensor(type_spec=TensorSpec(shape=(None, 4, 1), dtype=tf.float32, name='lstm_59_input'), name='lstm_59_input', description=\"created by layer 'lstm_59_input'\"), but it was called on an input with incompatible shape (None, 12, 1).\n",
      "WARNING:tensorflow:Model was constructed with shape (None, 5, 1) for input KerasTensor(type_spec=TensorSpec(shape=(None, 5, 1), dtype=tf.float32, name='lstm_62_input'), name='lstm_62_input', description=\"created by layer 'lstm_62_input'\"), but it was called on an input with incompatible shape (None, 12, 1).\n",
      "WARNING:tensorflow:Model was constructed with shape (None, 5, 1) for input KerasTensor(type_spec=TensorSpec(shape=(None, 5, 1), dtype=tf.float32, name='lstm_62_input'), name='lstm_62_input', description=\"created by layer 'lstm_62_input'\"), but it was called on an input with incompatible shape (None, 12, 1).\n",
      "WARNING:tensorflow:Model was constructed with shape (None, 5, 1) for input KerasTensor(type_spec=TensorSpec(shape=(None, 5, 1), dtype=tf.float32, name='lstm_62_input'), name='lstm_62_input', description=\"created by layer 'lstm_62_input'\"), but it was called on an input with incompatible shape (None, 12, 1).\n",
      "WARNING:tensorflow:Model was constructed with shape (None, 1, 1) for input KerasTensor(type_spec=TensorSpec(shape=(None, 1, 1), dtype=tf.float32, name='lstm_65_input'), name='lstm_65_input', description=\"created by layer 'lstm_65_input'\"), but it was called on an input with incompatible shape (None, 12, 1).\n",
      "WARNING:tensorflow:Model was constructed with shape (None, 1, 1) for input KerasTensor(type_spec=TensorSpec(shape=(None, 1, 1), dtype=tf.float32, name='lstm_65_input'), name='lstm_65_input', description=\"created by layer 'lstm_65_input'\"), but it was called on an input with incompatible shape (None, 12, 1).\n",
      "WARNING:tensorflow:Model was constructed with shape (None, 1, 1) for input KerasTensor(type_spec=TensorSpec(shape=(None, 1, 1), dtype=tf.float32, name='lstm_65_input'), name='lstm_65_input', description=\"created by layer 'lstm_65_input'\"), but it was called on an input with incompatible shape (None, 12, 1).\n",
      "WARNING:tensorflow:Model was constructed with shape (None, 2, 1) for input KerasTensor(type_spec=TensorSpec(shape=(None, 2, 1), dtype=tf.float32, name='lstm_68_input'), name='lstm_68_input', description=\"created by layer 'lstm_68_input'\"), but it was called on an input with incompatible shape (None, 12, 1).\n",
      "WARNING:tensorflow:Model was constructed with shape (None, 2, 1) for input KerasTensor(type_spec=TensorSpec(shape=(None, 2, 1), dtype=tf.float32, name='lstm_68_input'), name='lstm_68_input', description=\"created by layer 'lstm_68_input'\"), but it was called on an input with incompatible shape (None, 12, 1).\n",
      "WARNING:tensorflow:Model was constructed with shape (None, 2, 1) for input KerasTensor(type_spec=TensorSpec(shape=(None, 2, 1), dtype=tf.float32, name='lstm_68_input'), name='lstm_68_input', description=\"created by layer 'lstm_68_input'\"), but it was called on an input with incompatible shape (None, 12, 1).\n",
      "WARNING:tensorflow:Model was constructed with shape (None, 3, 1) for input KerasTensor(type_spec=TensorSpec(shape=(None, 3, 1), dtype=tf.float32, name='lstm_71_input'), name='lstm_71_input', description=\"created by layer 'lstm_71_input'\"), but it was called on an input with incompatible shape (None, 12, 1).\n",
      "WARNING:tensorflow:Model was constructed with shape (None, 3, 1) for input KerasTensor(type_spec=TensorSpec(shape=(None, 3, 1), dtype=tf.float32, name='lstm_71_input'), name='lstm_71_input', description=\"created by layer 'lstm_71_input'\"), but it was called on an input with incompatible shape (None, 12, 1).\n",
      "WARNING:tensorflow:Model was constructed with shape (None, 3, 1) for input KerasTensor(type_spec=TensorSpec(shape=(None, 3, 1), dtype=tf.float32, name='lstm_71_input'), name='lstm_71_input', description=\"created by layer 'lstm_71_input'\"), but it was called on an input with incompatible shape (None, 12, 1).\n",
      "WARNING:tensorflow:Model was constructed with shape (None, 4, 1) for input KerasTensor(type_spec=TensorSpec(shape=(None, 4, 1), dtype=tf.float32, name='lstm_74_input'), name='lstm_74_input', description=\"created by layer 'lstm_74_input'\"), but it was called on an input with incompatible shape (None, 12, 1).\n",
      "WARNING:tensorflow:Model was constructed with shape (None, 4, 1) for input KerasTensor(type_spec=TensorSpec(shape=(None, 4, 1), dtype=tf.float32, name='lstm_74_input'), name='lstm_74_input', description=\"created by layer 'lstm_74_input'\"), but it was called on an input with incompatible shape (None, 12, 1).\n",
      "WARNING:tensorflow:Model was constructed with shape (None, 4, 1) for input KerasTensor(type_spec=TensorSpec(shape=(None, 4, 1), dtype=tf.float32, name='lstm_74_input'), name='lstm_74_input', description=\"created by layer 'lstm_74_input'\"), but it was called on an input with incompatible shape (None, 12, 1).\n",
      "WARNING:tensorflow:Model was constructed with shape (None, 5, 1) for input KerasTensor(type_spec=TensorSpec(shape=(None, 5, 1), dtype=tf.float32, name='lstm_77_input'), name='lstm_77_input', description=\"created by layer 'lstm_77_input'\"), but it was called on an input with incompatible shape (None, 12, 1).\n",
      "WARNING:tensorflow:Model was constructed with shape (None, 5, 1) for input KerasTensor(type_spec=TensorSpec(shape=(None, 5, 1), dtype=tf.float32, name='lstm_77_input'), name='lstm_77_input', description=\"created by layer 'lstm_77_input'\"), but it was called on an input with incompatible shape (None, 12, 1).\n",
      "WARNING:tensorflow:Model was constructed with shape (None, 5, 1) for input KerasTensor(type_spec=TensorSpec(shape=(None, 5, 1), dtype=tf.float32, name='lstm_77_input'), name='lstm_77_input', description=\"created by layer 'lstm_77_input'\"), but it was called on an input with incompatible shape (None, 12, 1).\n"
     ]
    },
    {
     "name": "stdout",
     "output_type": "stream",
     "text": [
      "WARNING:tensorflow:Model was constructed with shape (None, 1, 1) for input KerasTensor(type_spec=TensorSpec(shape=(None, 1, 1), dtype=tf.float32, name='lstm_80_input'), name='lstm_80_input', description=\"created by layer 'lstm_80_input'\"), but it was called on an input with incompatible shape (None, 12, 1).\n",
      "WARNING:tensorflow:Model was constructed with shape (None, 1, 1) for input KerasTensor(type_spec=TensorSpec(shape=(None, 1, 1), dtype=tf.float32, name='lstm_80_input'), name='lstm_80_input', description=\"created by layer 'lstm_80_input'\"), but it was called on an input with incompatible shape (None, 12, 1).\n",
      "WARNING:tensorflow:Model was constructed with shape (None, 1, 1) for input KerasTensor(type_spec=TensorSpec(shape=(None, 1, 1), dtype=tf.float32, name='lstm_80_input'), name='lstm_80_input', description=\"created by layer 'lstm_80_input'\"), but it was called on an input with incompatible shape (None, 12, 1).\n",
      "WARNING:tensorflow:Model was constructed with shape (None, 2, 1) for input KerasTensor(type_spec=TensorSpec(shape=(None, 2, 1), dtype=tf.float32, name='lstm_83_input'), name='lstm_83_input', description=\"created by layer 'lstm_83_input'\"), but it was called on an input with incompatible shape (None, 12, 1).\n",
      "WARNING:tensorflow:Model was constructed with shape (None, 2, 1) for input KerasTensor(type_spec=TensorSpec(shape=(None, 2, 1), dtype=tf.float32, name='lstm_83_input'), name='lstm_83_input', description=\"created by layer 'lstm_83_input'\"), but it was called on an input with incompatible shape (None, 12, 1).\n",
      "WARNING:tensorflow:Model was constructed with shape (None, 2, 1) for input KerasTensor(type_spec=TensorSpec(shape=(None, 2, 1), dtype=tf.float32, name='lstm_83_input'), name='lstm_83_input', description=\"created by layer 'lstm_83_input'\"), but it was called on an input with incompatible shape (None, 12, 1).\n",
      "WARNING:tensorflow:Model was constructed with shape (None, 3, 1) for input KerasTensor(type_spec=TensorSpec(shape=(None, 3, 1), dtype=tf.float32, name='lstm_86_input'), name='lstm_86_input', description=\"created by layer 'lstm_86_input'\"), but it was called on an input with incompatible shape (None, 12, 1).\n",
      "WARNING:tensorflow:Model was constructed with shape (None, 3, 1) for input KerasTensor(type_spec=TensorSpec(shape=(None, 3, 1), dtype=tf.float32, name='lstm_86_input'), name='lstm_86_input', description=\"created by layer 'lstm_86_input'\"), but it was called on an input with incompatible shape (None, 12, 1).\n",
      "WARNING:tensorflow:Model was constructed with shape (None, 3, 1) for input KerasTensor(type_spec=TensorSpec(shape=(None, 3, 1), dtype=tf.float32, name='lstm_86_input'), name='lstm_86_input', description=\"created by layer 'lstm_86_input'\"), but it was called on an input with incompatible shape (None, 12, 1).\n",
      "WARNING:tensorflow:Model was constructed with shape (None, 4, 1) for input KerasTensor(type_spec=TensorSpec(shape=(None, 4, 1), dtype=tf.float32, name='lstm_89_input'), name='lstm_89_input', description=\"created by layer 'lstm_89_input'\"), but it was called on an input with incompatible shape (None, 12, 1).\n",
      "WARNING:tensorflow:Model was constructed with shape (None, 4, 1) for input KerasTensor(type_spec=TensorSpec(shape=(None, 4, 1), dtype=tf.float32, name='lstm_89_input'), name='lstm_89_input', description=\"created by layer 'lstm_89_input'\"), but it was called on an input with incompatible shape (None, 12, 1).\n",
      "WARNING:tensorflow:Model was constructed with shape (None, 4, 1) for input KerasTensor(type_spec=TensorSpec(shape=(None, 4, 1), dtype=tf.float32, name='lstm_89_input'), name='lstm_89_input', description=\"created by layer 'lstm_89_input'\"), but it was called on an input with incompatible shape (None, 12, 1).\n",
      "WARNING:tensorflow:Model was constructed with shape (None, 5, 1) for input KerasTensor(type_spec=TensorSpec(shape=(None, 5, 1), dtype=tf.float32, name='lstm_92_input'), name='lstm_92_input', description=\"created by layer 'lstm_92_input'\"), but it was called on an input with incompatible shape (None, 12, 1).\n",
      "WARNING:tensorflow:Model was constructed with shape (None, 5, 1) for input KerasTensor(type_spec=TensorSpec(shape=(None, 5, 1), dtype=tf.float32, name='lstm_92_input'), name='lstm_92_input', description=\"created by layer 'lstm_92_input'\"), but it was called on an input with incompatible shape (None, 12, 1).\n",
      "WARNING:tensorflow:Model was constructed with shape (None, 5, 1) for input KerasTensor(type_spec=TensorSpec(shape=(None, 5, 1), dtype=tf.float32, name='lstm_92_input'), name='lstm_92_input', description=\"created by layer 'lstm_92_input'\"), but it was called on an input with incompatible shape (None, 12, 1).\n"
     ]
    }
   ],
   "source": [
    "res = []\n",
    "# 1 layer\n",
    "for unit in (4,8,16,32):\n",
    "    for time_step in (1,2,3,4,5):\n",
    "        res.append((([unit],time_step),LSTM_GS([unit], time_step)))\n",
    "\n",
    "# 2 layers\n",
    "for unit in (8,16,32):\n",
    "    for time_step in (1,2,3,4,5):\n",
    "        res.append((([unit, unit//2],time_step),LSTM_GS([unit, unit//2], time_step)))\n",
    "\n",
    "# 3 layers\n",
    "for unit in (8,16,32):\n",
    "    for time_step in (1,2,3,4,5):\n",
    "        res.append((([unit, unit//2, unit//4],time_step),LSTM_GS([unit, unit//2, unit//4], time_step)))"
   ]
  },
  {
   "cell_type": "code",
   "execution_count": 25,
   "metadata": {},
   "outputs": [
    {
     "data": {
      "text/plain": [
       "(([32, 16], 5), (2752.206904668088, 1924.0251686109223))"
      ]
     },
     "execution_count": 25,
     "metadata": {},
     "output_type": "execute_result"
    }
   ],
   "source": [
    "# best combi\n",
    "sorted(res, key = lambda x : x[1][1])[0]"
   ]
  },
  {
   "cell_type": "code",
   "execution_count": 26,
   "metadata": {},
   "outputs": [],
   "source": [
    "layer_config = sorted(res, key = lambda x : x[1][1])[0][0][0]\n",
    "time_config = sorted(res, key = lambda x : x[1][1])[0][0][1]"
   ]
  },
  {
   "cell_type": "code",
   "execution_count": null,
   "metadata": {},
   "outputs": [],
   "source": []
  },
  {
   "cell_type": "markdown",
   "metadata": {},
   "source": [
    "#### 7. Define a function to retrain the model with selected hyperparameters and all data avilable"
   ]
  },
  {
   "cell_type": "code",
   "execution_count": 27,
   "metadata": {},
   "outputs": [],
   "source": [
    "x_refit = data.drop([\"date\", \"Adj_Close_BTC-USD\"], axis = 1)\n",
    "y_refit = data[\"Adj_Close_BTC-USD\"]\n",
    "x_refit_trans = sc.transform(x_refit)\n",
    "x_refit_trans = x_refit_trans.reshape(x_refit_trans.shape[0], x_refit_trans.shape[1], 1)"
   ]
  },
  {
   "cell_type": "code",
   "execution_count": 28,
   "metadata": {},
   "outputs": [],
   "source": [
    "def LSTM_pipe(layer_spe, time_step):\n",
    "    regressor = Sequential()\n",
    "    count = 0\n",
    "    for unit in layer_spe:\n",
    "        count += 1 \n",
    "        if len(layer_spe) == 1:\n",
    "            regressor.add(LSTM(unit, activation = \"relu\", input_shape = (time_step, 1))) # batch size, time steps, data dimension\n",
    "            regressor.add(Dropout(0.3))\n",
    "        else:\n",
    "            if count == 1:\n",
    "                regressor.add(LSTM(unit, activation = \"relu\", return_sequences=True, input_shape = (time_step, 1))) # batch size, time steps, data dimension\n",
    "                regressor.add(Dropout(0.3))\n",
    "            elif count < len(layer_spe): \n",
    "                regressor.add(LSTM(unit, activation = \"relu\", return_sequences=True))\n",
    "                regressor.add(Dropout(0.3))\n",
    "            else:\n",
    "                regressor.add(LSTM(unit, activation = \"relu\"))\n",
    "                regressor.add(Dropout(0.3))\n",
    "            \n",
    "    regressor.add(Dense(units = 1))\n",
    "    regressor.compile(optimizer = 'Adam', loss = root_mean_squared_error)\n",
    "    regressor.fit(x_refit_trans, y_refit, epochs = 200, verbose = 0)\n",
    "    return regressor"
   ]
  },
  {
   "cell_type": "code",
   "execution_count": 29,
   "metadata": {},
   "outputs": [
    {
     "name": "stdout",
     "output_type": "stream",
     "text": [
      "WARNING:tensorflow:Model was constructed with shape (None, 5, 1) for input KerasTensor(type_spec=TensorSpec(shape=(None, 5, 1), dtype=tf.float32, name='lstm_95_input'), name='lstm_95_input', description=\"created by layer 'lstm_95_input'\"), but it was called on an input with incompatible shape (None, 12, 1).\n",
      "WARNING:tensorflow:Model was constructed with shape (None, 5, 1) for input KerasTensor(type_spec=TensorSpec(shape=(None, 5, 1), dtype=tf.float32, name='lstm_95_input'), name='lstm_95_input', description=\"created by layer 'lstm_95_input'\"), but it was called on an input with incompatible shape (None, 12, 1).\n"
     ]
    }
   ],
   "source": [
    "model = LSTM_pipe(layer_config, time_config)"
   ]
  },
  {
   "cell_type": "markdown",
   "metadata": {},
   "source": [
    "#### 8. Backtesting"
   ]
  },
  {
   "cell_type": "code",
   "execution_count": 30,
   "metadata": {},
   "outputs": [
    {
     "name": "stdout",
     "output_type": "stream",
     "text": [
      "WARNING:tensorflow:Model was constructed with shape (None, 5, 1) for input KerasTensor(type_spec=TensorSpec(shape=(None, 5, 1), dtype=tf.float32, name='lstm_95_input'), name='lstm_95_input', description=\"created by layer 'lstm_95_input'\"), but it was called on an input with incompatible shape (None, 12, 1).\n"
     ]
    }
   ],
   "source": [
    "# predicted value\n",
    "yhat = model.predict(x_refit_trans, verbose=0)"
   ]
  },
  {
   "cell_type": "code",
   "execution_count": 31,
   "metadata": {},
   "outputs": [
    {
     "name": "stdout",
     "output_type": "stream",
     "text": [
      "32554.205\n",
      "32288.773\n",
      "34063.812\n",
      "35417.457\n",
      "35124.566\n",
      "36251.734\n",
      "38578.797\n",
      "41899.61\n",
      "43224.72\n",
      "42898.797\n",
      "42136.19\n",
      "40463.785\n",
      "37771.152\n",
      "38948.29\n",
      "40629.21\n",
      "39518.25\n",
      "38190.434\n",
      "37682.96\n",
      "37757.46\n",
      "38534.805\n",
      "39547.9\n",
      "37422.656\n",
      "36650.49\n",
      "36369.465\n",
      "36168.35\n",
      "36675.938\n",
      "36618.062\n",
      "34302.06\n",
      "34855.027\n",
      "36107.54\n",
      "35922.37\n",
      "35155.52\n",
      "36286.38\n",
      "37777.465\n",
      "39377.53\n",
      "40348.977\n",
      "40770.56\n",
      "42040.582\n",
      "42140.047\n",
      "47449.668\n",
      "50424.07\n",
      "49774.707\n",
      "50613.42\n",
      "51840.504\n",
      "51282.027\n",
      "52074.195\n",
      "52416.66\n",
      "52555.758\n",
      "54698.84\n",
      "54501.113\n",
      "57077.75\n",
      "59267.438\n",
      "59855.53\n",
      "59091.45\n",
      "54775.406\n",
      "52548.03\n",
      "49014.51\n",
      "54143.875\n",
      "46211.406\n",
      "45757.836\n",
      "49406.93\n",
      "49788.133\n",
      "49456.105\n",
      "48036.055\n",
      "48470.656\n",
      "48266.82\n",
      "49786.145\n",
      "50812.57\n",
      "54070.29\n",
      "56969.395\n",
      "59463.203\n",
      "60247.71\n",
      "62949.477\n",
      "62882.5\n",
      "60768.32\n",
      "59504.758\n",
      "61751.41\n",
      "60671.938\n",
      "60114.566\n",
      "60358.91\n",
      "59865.1\n",
      "58270.273\n",
      "56376.92\n",
      "54974.438\n",
      "53728.793\n",
      "56221.727\n",
      "58070.957\n",
      "58454.72\n",
      "59661.035\n",
      "60566.332\n",
      "61972.95\n",
      "63185.54\n",
      "63382.21\n",
      "62339.438\n",
      "62004.992\n"
     ]
    }
   ],
   "source": [
    "for b in [x[0] for x in yhat]:\n",
    "    print(b)"
   ]
  },
  {
   "cell_type": "code",
   "execution_count": 39,
   "metadata": {},
   "outputs": [],
   "source": [
    "# weighted sentiments\n",
    "sentiments = features[features[\"date\"].isin(data.date)]\n",
    "sentiments = (sentiments[\"coindesk_sentiment\"] + sentiments[\"reddit_comments_sentiments\"] + sentiments[\"top_50_reddit_posts_sentiments\"]) / 3\n",
    "sentiments = [\"positive\" if x > 0.2 else \"negative\" for x in sentiments]"
   ]
  },
  {
   "cell_type": "code",
   "execution_count": 40,
   "metadata": {},
   "outputs": [
    {
     "name": "stdout",
     "output_type": "stream",
     "text": [
      "positive\n",
      "positive\n",
      "positive\n",
      "positive\n",
      "positive\n",
      "positive\n",
      "positive\n",
      "positive\n",
      "positive\n",
      "positive\n",
      "positive\n",
      "positive\n",
      "positive\n",
      "negative\n",
      "positive\n",
      "positive\n",
      "positive\n",
      "positive\n",
      "positive\n",
      "negative\n",
      "positive\n",
      "positive\n",
      "negative\n",
      "positive\n",
      "positive\n",
      "negative\n",
      "positive\n",
      "positive\n",
      "positive\n",
      "positive\n",
      "positive\n",
      "positive\n",
      "positive\n",
      "negative\n",
      "negative\n",
      "positive\n",
      "positive\n",
      "positive\n",
      "positive\n",
      "positive\n",
      "positive\n",
      "positive\n",
      "positive\n",
      "positive\n",
      "positive\n",
      "positive\n",
      "positive\n",
      "positive\n",
      "positive\n",
      "positive\n",
      "positive\n",
      "positive\n",
      "positive\n",
      "positive\n",
      "positive\n",
      "positive\n",
      "positive\n",
      "negative\n",
      "positive\n",
      "positive\n",
      "positive\n",
      "positive\n",
      "positive\n",
      "positive\n",
      "positive\n",
      "positive\n",
      "positive\n",
      "positive\n",
      "positive\n",
      "positive\n",
      "positive\n",
      "negative\n",
      "positive\n",
      "positive\n",
      "positive\n",
      "positive\n",
      "positive\n",
      "positive\n",
      "positive\n",
      "positive\n",
      "positive\n",
      "positive\n",
      "positive\n",
      "positive\n",
      "positive\n",
      "negative\n",
      "negative\n",
      "negative\n",
      "negative\n",
      "positive\n",
      "negative\n",
      "negative\n",
      "positive\n",
      "negative\n",
      "positive\n"
     ]
    }
   ],
   "source": [
    "for s in sentiments:\n",
    "    print(s)"
   ]
  },
  {
   "cell_type": "markdown",
   "metadata": {},
   "source": [
    "## With Sentiments"
   ]
  },
  {
   "cell_type": "code",
   "execution_count": 41,
   "metadata": {},
   "outputs": [],
   "source": [
    "feature_lags = {\"Adj_Close_BTC-USD\" : 2, \n",
    "                \"Volume_BTC-USD\" : 1, \n",
    "                \"Adj_Close_SPY\" : 1,\n",
    "                \"Adj_Close_GLD\" : 1,\n",
    "                \"Adj_Close_CHFUSD=X\" : 1,\n",
    "                \"Adj_Close_CNYUSD=X\" : 1,\n",
    "                \"Adj_Close_EURUSD=X\" : 1,\n",
    "                \"Adj_Close_GBPUSD=X\" : 1,\n",
    "                \"Adj_Close_JPYUSD=X\" : 1,\n",
    "                \"blockchain_transactions_per_block\" : 1,\n",
    "                \"blockchain_hash_rates\" : 1,\n",
    "                \"coindesk_sentiment\" : 1,\n",
    "                \"num_of_coindesk_posts\" : 1,\n",
    "                \"reddit_comments_sentiments\" : 1,\n",
    "                \"top_50_reddit_posts_sentiments\" : 1}\n",
    "\n",
    "data = lag(features, feature_lags)\n",
    "# data['date'] = data['date'].apply(lambda x: datetime.datetime.strptime(x, \"%Y-%m-%d\"))\n",
    "# data[\"date\"] = pd.to_datetime(data[\"date\"], format='%d/%m/%Y', infer_datetime_format=True)\n",
    "\n",
    "data = data[data[\"date\"] >= \"1/1/2021\"]\n",
    "\n",
    "train = data[data[\"date\"] <= \"2021-03-10\"]\n",
    "test = data[(data[\"date\"] > \"2021-03-10\") & (data[\"date\"] <= \"2021-04-5\")]\n",
    "\n",
    "x_train = train.drop([\"date\", \"Adj_Close_BTC-USD\"], axis = 1)\n",
    "y_train = train[\"Adj_Close_BTC-USD\"]\n",
    "\n",
    "x_test = test.drop([\"date\", \"Adj_Close_BTC-USD\"], axis = 1)\n",
    "y_test = test[\"Adj_Close_BTC-USD\"]\n",
    "\n",
    "sc = MinMaxScaler(feature_range = (0, 1))\n",
    "sc.fit(x_train)\n",
    "x_train_trans = sc.transform(x_train)\n",
    "x_test_trans = sc.transform(x_test)\n",
    "\n",
    "x_train_trans = x_train_trans.reshape(x_train_trans.shape[0], x_train_trans.shape[1], 1)\n",
    "x_test_trans = x_test_trans.reshape(x_test_trans.shape[0], x_test_trans.shape[1], 1)"
   ]
  },
  {
   "cell_type": "code",
   "execution_count": 42,
   "metadata": {},
   "outputs": [
    {
     "name": "stdout",
     "output_type": "stream",
     "text": [
      "WARNING:tensorflow:Model was constructed with shape (None, 1, 1) for input KerasTensor(type_spec=TensorSpec(shape=(None, 1, 1), dtype=tf.float32, name='lstm_97_input'), name='lstm_97_input', description=\"created by layer 'lstm_97_input'\"), but it was called on an input with incompatible shape (None, 16, 1).\n",
      "WARNING:tensorflow:Model was constructed with shape (None, 1, 1) for input KerasTensor(type_spec=TensorSpec(shape=(None, 1, 1), dtype=tf.float32, name='lstm_97_input'), name='lstm_97_input', description=\"created by layer 'lstm_97_input'\"), but it was called on an input with incompatible shape (None, 16, 1).\n",
      "WARNING:tensorflow:Model was constructed with shape (None, 1, 1) for input KerasTensor(type_spec=TensorSpec(shape=(None, 1, 1), dtype=tf.float32, name='lstm_97_input'), name='lstm_97_input', description=\"created by layer 'lstm_97_input'\"), but it was called on an input with incompatible shape (None, 16, 1).\n",
      "WARNING:tensorflow:Model was constructed with shape (None, 2, 1) for input KerasTensor(type_spec=TensorSpec(shape=(None, 2, 1), dtype=tf.float32, name='lstm_98_input'), name='lstm_98_input', description=\"created by layer 'lstm_98_input'\"), but it was called on an input with incompatible shape (None, 16, 1).\n",
      "WARNING:tensorflow:Model was constructed with shape (None, 2, 1) for input KerasTensor(type_spec=TensorSpec(shape=(None, 2, 1), dtype=tf.float32, name='lstm_98_input'), name='lstm_98_input', description=\"created by layer 'lstm_98_input'\"), but it was called on an input with incompatible shape (None, 16, 1).\n",
      "WARNING:tensorflow:Model was constructed with shape (None, 2, 1) for input KerasTensor(type_spec=TensorSpec(shape=(None, 2, 1), dtype=tf.float32, name='lstm_98_input'), name='lstm_98_input', description=\"created by layer 'lstm_98_input'\"), but it was called on an input with incompatible shape (None, 16, 1).\n",
      "WARNING:tensorflow:Model was constructed with shape (None, 3, 1) for input KerasTensor(type_spec=TensorSpec(shape=(None, 3, 1), dtype=tf.float32, name='lstm_99_input'), name='lstm_99_input', description=\"created by layer 'lstm_99_input'\"), but it was called on an input with incompatible shape (None, 16, 1).\n",
      "WARNING:tensorflow:Model was constructed with shape (None, 3, 1) for input KerasTensor(type_spec=TensorSpec(shape=(None, 3, 1), dtype=tf.float32, name='lstm_99_input'), name='lstm_99_input', description=\"created by layer 'lstm_99_input'\"), but it was called on an input with incompatible shape (None, 16, 1).\n",
      "WARNING:tensorflow:Model was constructed with shape (None, 3, 1) for input KerasTensor(type_spec=TensorSpec(shape=(None, 3, 1), dtype=tf.float32, name='lstm_99_input'), name='lstm_99_input', description=\"created by layer 'lstm_99_input'\"), but it was called on an input with incompatible shape (None, 16, 1).\n",
      "WARNING:tensorflow:Model was constructed with shape (None, 4, 1) for input KerasTensor(type_spec=TensorSpec(shape=(None, 4, 1), dtype=tf.float32, name='lstm_100_input'), name='lstm_100_input', description=\"created by layer 'lstm_100_input'\"), but it was called on an input with incompatible shape (None, 16, 1).\n",
      "WARNING:tensorflow:Model was constructed with shape (None, 4, 1) for input KerasTensor(type_spec=TensorSpec(shape=(None, 4, 1), dtype=tf.float32, name='lstm_100_input'), name='lstm_100_input', description=\"created by layer 'lstm_100_input'\"), but it was called on an input with incompatible shape (None, 16, 1).\n",
      "WARNING:tensorflow:Model was constructed with shape (None, 4, 1) for input KerasTensor(type_spec=TensorSpec(shape=(None, 4, 1), dtype=tf.float32, name='lstm_100_input'), name='lstm_100_input', description=\"created by layer 'lstm_100_input'\"), but it was called on an input with incompatible shape (None, 16, 1).\n",
      "WARNING:tensorflow:Model was constructed with shape (None, 5, 1) for input KerasTensor(type_spec=TensorSpec(shape=(None, 5, 1), dtype=tf.float32, name='lstm_101_input'), name='lstm_101_input', description=\"created by layer 'lstm_101_input'\"), but it was called on an input with incompatible shape (None, 16, 1).\n",
      "WARNING:tensorflow:Model was constructed with shape (None, 5, 1) for input KerasTensor(type_spec=TensorSpec(shape=(None, 5, 1), dtype=tf.float32, name='lstm_101_input'), name='lstm_101_input', description=\"created by layer 'lstm_101_input'\"), but it was called on an input with incompatible shape (None, 16, 1).\n",
      "WARNING:tensorflow:Model was constructed with shape (None, 5, 1) for input KerasTensor(type_spec=TensorSpec(shape=(None, 5, 1), dtype=tf.float32, name='lstm_101_input'), name='lstm_101_input', description=\"created by layer 'lstm_101_input'\"), but it was called on an input with incompatible shape (None, 16, 1).\n",
      "WARNING:tensorflow:Model was constructed with shape (None, 1, 1) for input KerasTensor(type_spec=TensorSpec(shape=(None, 1, 1), dtype=tf.float32, name='lstm_102_input'), name='lstm_102_input', description=\"created by layer 'lstm_102_input'\"), but it was called on an input with incompatible shape (None, 16, 1).\n",
      "WARNING:tensorflow:Model was constructed with shape (None, 1, 1) for input KerasTensor(type_spec=TensorSpec(shape=(None, 1, 1), dtype=tf.float32, name='lstm_102_input'), name='lstm_102_input', description=\"created by layer 'lstm_102_input'\"), but it was called on an input with incompatible shape (None, 16, 1).\n",
      "WARNING:tensorflow:Model was constructed with shape (None, 1, 1) for input KerasTensor(type_spec=TensorSpec(shape=(None, 1, 1), dtype=tf.float32, name='lstm_102_input'), name='lstm_102_input', description=\"created by layer 'lstm_102_input'\"), but it was called on an input with incompatible shape (None, 16, 1).\n",
      "WARNING:tensorflow:Model was constructed with shape (None, 2, 1) for input KerasTensor(type_spec=TensorSpec(shape=(None, 2, 1), dtype=tf.float32, name='lstm_103_input'), name='lstm_103_input', description=\"created by layer 'lstm_103_input'\"), but it was called on an input with incompatible shape (None, 16, 1).\n",
      "WARNING:tensorflow:Model was constructed with shape (None, 2, 1) for input KerasTensor(type_spec=TensorSpec(shape=(None, 2, 1), dtype=tf.float32, name='lstm_103_input'), name='lstm_103_input', description=\"created by layer 'lstm_103_input'\"), but it was called on an input with incompatible shape (None, 16, 1).\n",
      "WARNING:tensorflow:Model was constructed with shape (None, 2, 1) for input KerasTensor(type_spec=TensorSpec(shape=(None, 2, 1), dtype=tf.float32, name='lstm_103_input'), name='lstm_103_input', description=\"created by layer 'lstm_103_input'\"), but it was called on an input with incompatible shape (None, 16, 1).\n",
      "WARNING:tensorflow:Model was constructed with shape (None, 3, 1) for input KerasTensor(type_spec=TensorSpec(shape=(None, 3, 1), dtype=tf.float32, name='lstm_104_input'), name='lstm_104_input', description=\"created by layer 'lstm_104_input'\"), but it was called on an input with incompatible shape (None, 16, 1).\n",
      "WARNING:tensorflow:Model was constructed with shape (None, 3, 1) for input KerasTensor(type_spec=TensorSpec(shape=(None, 3, 1), dtype=tf.float32, name='lstm_104_input'), name='lstm_104_input', description=\"created by layer 'lstm_104_input'\"), but it was called on an input with incompatible shape (None, 16, 1).\n",
      "WARNING:tensorflow:Model was constructed with shape (None, 3, 1) for input KerasTensor(type_spec=TensorSpec(shape=(None, 3, 1), dtype=tf.float32, name='lstm_104_input'), name='lstm_104_input', description=\"created by layer 'lstm_104_input'\"), but it was called on an input with incompatible shape (None, 16, 1).\n",
      "WARNING:tensorflow:Model was constructed with shape (None, 4, 1) for input KerasTensor(type_spec=TensorSpec(shape=(None, 4, 1), dtype=tf.float32, name='lstm_105_input'), name='lstm_105_input', description=\"created by layer 'lstm_105_input'\"), but it was called on an input with incompatible shape (None, 16, 1).\n",
      "WARNING:tensorflow:Model was constructed with shape (None, 4, 1) for input KerasTensor(type_spec=TensorSpec(shape=(None, 4, 1), dtype=tf.float32, name='lstm_105_input'), name='lstm_105_input', description=\"created by layer 'lstm_105_input'\"), but it was called on an input with incompatible shape (None, 16, 1).\n",
      "WARNING:tensorflow:Model was constructed with shape (None, 4, 1) for input KerasTensor(type_spec=TensorSpec(shape=(None, 4, 1), dtype=tf.float32, name='lstm_105_input'), name='lstm_105_input', description=\"created by layer 'lstm_105_input'\"), but it was called on an input with incompatible shape (None, 16, 1).\n"
     ]
    },
    {
     "name": "stdout",
     "output_type": "stream",
     "text": [
      "WARNING:tensorflow:Model was constructed with shape (None, 5, 1) for input KerasTensor(type_spec=TensorSpec(shape=(None, 5, 1), dtype=tf.float32, name='lstm_106_input'), name='lstm_106_input', description=\"created by layer 'lstm_106_input'\"), but it was called on an input with incompatible shape (None, 16, 1).\n",
      "WARNING:tensorflow:Model was constructed with shape (None, 5, 1) for input KerasTensor(type_spec=TensorSpec(shape=(None, 5, 1), dtype=tf.float32, name='lstm_106_input'), name='lstm_106_input', description=\"created by layer 'lstm_106_input'\"), but it was called on an input with incompatible shape (None, 16, 1).\n",
      "WARNING:tensorflow:Model was constructed with shape (None, 5, 1) for input KerasTensor(type_spec=TensorSpec(shape=(None, 5, 1), dtype=tf.float32, name='lstm_106_input'), name='lstm_106_input', description=\"created by layer 'lstm_106_input'\"), but it was called on an input with incompatible shape (None, 16, 1).\n",
      "WARNING:tensorflow:Model was constructed with shape (None, 1, 1) for input KerasTensor(type_spec=TensorSpec(shape=(None, 1, 1), dtype=tf.float32, name='lstm_107_input'), name='lstm_107_input', description=\"created by layer 'lstm_107_input'\"), but it was called on an input with incompatible shape (None, 16, 1).\n",
      "WARNING:tensorflow:Model was constructed with shape (None, 1, 1) for input KerasTensor(type_spec=TensorSpec(shape=(None, 1, 1), dtype=tf.float32, name='lstm_107_input'), name='lstm_107_input', description=\"created by layer 'lstm_107_input'\"), but it was called on an input with incompatible shape (None, 16, 1).\n",
      "WARNING:tensorflow:Model was constructed with shape (None, 1, 1) for input KerasTensor(type_spec=TensorSpec(shape=(None, 1, 1), dtype=tf.float32, name='lstm_107_input'), name='lstm_107_input', description=\"created by layer 'lstm_107_input'\"), but it was called on an input with incompatible shape (None, 16, 1).\n",
      "WARNING:tensorflow:Model was constructed with shape (None, 2, 1) for input KerasTensor(type_spec=TensorSpec(shape=(None, 2, 1), dtype=tf.float32, name='lstm_108_input'), name='lstm_108_input', description=\"created by layer 'lstm_108_input'\"), but it was called on an input with incompatible shape (None, 16, 1).\n",
      "WARNING:tensorflow:Model was constructed with shape (None, 2, 1) for input KerasTensor(type_spec=TensorSpec(shape=(None, 2, 1), dtype=tf.float32, name='lstm_108_input'), name='lstm_108_input', description=\"created by layer 'lstm_108_input'\"), but it was called on an input with incompatible shape (None, 16, 1).\n",
      "WARNING:tensorflow:Model was constructed with shape (None, 2, 1) for input KerasTensor(type_spec=TensorSpec(shape=(None, 2, 1), dtype=tf.float32, name='lstm_108_input'), name='lstm_108_input', description=\"created by layer 'lstm_108_input'\"), but it was called on an input with incompatible shape (None, 16, 1).\n",
      "WARNING:tensorflow:Model was constructed with shape (None, 3, 1) for input KerasTensor(type_spec=TensorSpec(shape=(None, 3, 1), dtype=tf.float32, name='lstm_109_input'), name='lstm_109_input', description=\"created by layer 'lstm_109_input'\"), but it was called on an input with incompatible shape (None, 16, 1).\n",
      "WARNING:tensorflow:Model was constructed with shape (None, 3, 1) for input KerasTensor(type_spec=TensorSpec(shape=(None, 3, 1), dtype=tf.float32, name='lstm_109_input'), name='lstm_109_input', description=\"created by layer 'lstm_109_input'\"), but it was called on an input with incompatible shape (None, 16, 1).\n",
      "WARNING:tensorflow:Model was constructed with shape (None, 3, 1) for input KerasTensor(type_spec=TensorSpec(shape=(None, 3, 1), dtype=tf.float32, name='lstm_109_input'), name='lstm_109_input', description=\"created by layer 'lstm_109_input'\"), but it was called on an input with incompatible shape (None, 16, 1).\n",
      "WARNING:tensorflow:Model was constructed with shape (None, 4, 1) for input KerasTensor(type_spec=TensorSpec(shape=(None, 4, 1), dtype=tf.float32, name='lstm_110_input'), name='lstm_110_input', description=\"created by layer 'lstm_110_input'\"), but it was called on an input with incompatible shape (None, 16, 1).\n",
      "WARNING:tensorflow:Model was constructed with shape (None, 4, 1) for input KerasTensor(type_spec=TensorSpec(shape=(None, 4, 1), dtype=tf.float32, name='lstm_110_input'), name='lstm_110_input', description=\"created by layer 'lstm_110_input'\"), but it was called on an input with incompatible shape (None, 16, 1).\n",
      "WARNING:tensorflow:Model was constructed with shape (None, 4, 1) for input KerasTensor(type_spec=TensorSpec(shape=(None, 4, 1), dtype=tf.float32, name='lstm_110_input'), name='lstm_110_input', description=\"created by layer 'lstm_110_input'\"), but it was called on an input with incompatible shape (None, 16, 1).\n",
      "WARNING:tensorflow:Model was constructed with shape (None, 5, 1) for input KerasTensor(type_spec=TensorSpec(shape=(None, 5, 1), dtype=tf.float32, name='lstm_111_input'), name='lstm_111_input', description=\"created by layer 'lstm_111_input'\"), but it was called on an input with incompatible shape (None, 16, 1).\n",
      "WARNING:tensorflow:Model was constructed with shape (None, 5, 1) for input KerasTensor(type_spec=TensorSpec(shape=(None, 5, 1), dtype=tf.float32, name='lstm_111_input'), name='lstm_111_input', description=\"created by layer 'lstm_111_input'\"), but it was called on an input with incompatible shape (None, 16, 1).\n",
      "WARNING:tensorflow:Model was constructed with shape (None, 5, 1) for input KerasTensor(type_spec=TensorSpec(shape=(None, 5, 1), dtype=tf.float32, name='lstm_111_input'), name='lstm_111_input', description=\"created by layer 'lstm_111_input'\"), but it was called on an input with incompatible shape (None, 16, 1).\n",
      "WARNING:tensorflow:Model was constructed with shape (None, 1, 1) for input KerasTensor(type_spec=TensorSpec(shape=(None, 1, 1), dtype=tf.float32, name='lstm_112_input'), name='lstm_112_input', description=\"created by layer 'lstm_112_input'\"), but it was called on an input with incompatible shape (None, 16, 1).\n",
      "WARNING:tensorflow:Model was constructed with shape (None, 1, 1) for input KerasTensor(type_spec=TensorSpec(shape=(None, 1, 1), dtype=tf.float32, name='lstm_112_input'), name='lstm_112_input', description=\"created by layer 'lstm_112_input'\"), but it was called on an input with incompatible shape (None, 16, 1).\n",
      "WARNING:tensorflow:Model was constructed with shape (None, 1, 1) for input KerasTensor(type_spec=TensorSpec(shape=(None, 1, 1), dtype=tf.float32, name='lstm_112_input'), name='lstm_112_input', description=\"created by layer 'lstm_112_input'\"), but it was called on an input with incompatible shape (None, 16, 1).\n",
      "WARNING:tensorflow:Model was constructed with shape (None, 2, 1) for input KerasTensor(type_spec=TensorSpec(shape=(None, 2, 1), dtype=tf.float32, name='lstm_113_input'), name='lstm_113_input', description=\"created by layer 'lstm_113_input'\"), but it was called on an input with incompatible shape (None, 16, 1).\n",
      "WARNING:tensorflow:Model was constructed with shape (None, 2, 1) for input KerasTensor(type_spec=TensorSpec(shape=(None, 2, 1), dtype=tf.float32, name='lstm_113_input'), name='lstm_113_input', description=\"created by layer 'lstm_113_input'\"), but it was called on an input with incompatible shape (None, 16, 1).\n",
      "WARNING:tensorflow:Model was constructed with shape (None, 2, 1) for input KerasTensor(type_spec=TensorSpec(shape=(None, 2, 1), dtype=tf.float32, name='lstm_113_input'), name='lstm_113_input', description=\"created by layer 'lstm_113_input'\"), but it was called on an input with incompatible shape (None, 16, 1).\n",
      "WARNING:tensorflow:Model was constructed with shape (None, 3, 1) for input KerasTensor(type_spec=TensorSpec(shape=(None, 3, 1), dtype=tf.float32, name='lstm_114_input'), name='lstm_114_input', description=\"created by layer 'lstm_114_input'\"), but it was called on an input with incompatible shape (None, 16, 1).\n",
      "WARNING:tensorflow:Model was constructed with shape (None, 3, 1) for input KerasTensor(type_spec=TensorSpec(shape=(None, 3, 1), dtype=tf.float32, name='lstm_114_input'), name='lstm_114_input', description=\"created by layer 'lstm_114_input'\"), but it was called on an input with incompatible shape (None, 16, 1).\n",
      "WARNING:tensorflow:Model was constructed with shape (None, 3, 1) for input KerasTensor(type_spec=TensorSpec(shape=(None, 3, 1), dtype=tf.float32, name='lstm_114_input'), name='lstm_114_input', description=\"created by layer 'lstm_114_input'\"), but it was called on an input with incompatible shape (None, 16, 1).\n"
     ]
    },
    {
     "name": "stdout",
     "output_type": "stream",
     "text": [
      "WARNING:tensorflow:Model was constructed with shape (None, 4, 1) for input KerasTensor(type_spec=TensorSpec(shape=(None, 4, 1), dtype=tf.float32, name='lstm_115_input'), name='lstm_115_input', description=\"created by layer 'lstm_115_input'\"), but it was called on an input with incompatible shape (None, 16, 1).\n",
      "WARNING:tensorflow:Model was constructed with shape (None, 4, 1) for input KerasTensor(type_spec=TensorSpec(shape=(None, 4, 1), dtype=tf.float32, name='lstm_115_input'), name='lstm_115_input', description=\"created by layer 'lstm_115_input'\"), but it was called on an input with incompatible shape (None, 16, 1).\n",
      "WARNING:tensorflow:Model was constructed with shape (None, 4, 1) for input KerasTensor(type_spec=TensorSpec(shape=(None, 4, 1), dtype=tf.float32, name='lstm_115_input'), name='lstm_115_input', description=\"created by layer 'lstm_115_input'\"), but it was called on an input with incompatible shape (None, 16, 1).\n",
      "WARNING:tensorflow:Model was constructed with shape (None, 5, 1) for input KerasTensor(type_spec=TensorSpec(shape=(None, 5, 1), dtype=tf.float32, name='lstm_116_input'), name='lstm_116_input', description=\"created by layer 'lstm_116_input'\"), but it was called on an input with incompatible shape (None, 16, 1).\n",
      "WARNING:tensorflow:Model was constructed with shape (None, 5, 1) for input KerasTensor(type_spec=TensorSpec(shape=(None, 5, 1), dtype=tf.float32, name='lstm_116_input'), name='lstm_116_input', description=\"created by layer 'lstm_116_input'\"), but it was called on an input with incompatible shape (None, 16, 1).\n",
      "WARNING:tensorflow:Model was constructed with shape (None, 5, 1) for input KerasTensor(type_spec=TensorSpec(shape=(None, 5, 1), dtype=tf.float32, name='lstm_116_input'), name='lstm_116_input', description=\"created by layer 'lstm_116_input'\"), but it was called on an input with incompatible shape (None, 16, 1).\n",
      "WARNING:tensorflow:Model was constructed with shape (None, 1, 1) for input KerasTensor(type_spec=TensorSpec(shape=(None, 1, 1), dtype=tf.float32, name='lstm_117_input'), name='lstm_117_input', description=\"created by layer 'lstm_117_input'\"), but it was called on an input with incompatible shape (None, 16, 1).\n",
      "WARNING:tensorflow:Model was constructed with shape (None, 1, 1) for input KerasTensor(type_spec=TensorSpec(shape=(None, 1, 1), dtype=tf.float32, name='lstm_117_input'), name='lstm_117_input', description=\"created by layer 'lstm_117_input'\"), but it was called on an input with incompatible shape (None, 16, 1).\n",
      "WARNING:tensorflow:Model was constructed with shape (None, 1, 1) for input KerasTensor(type_spec=TensorSpec(shape=(None, 1, 1), dtype=tf.float32, name='lstm_117_input'), name='lstm_117_input', description=\"created by layer 'lstm_117_input'\"), but it was called on an input with incompatible shape (None, 16, 1).\n",
      "WARNING:tensorflow:Model was constructed with shape (None, 2, 1) for input KerasTensor(type_spec=TensorSpec(shape=(None, 2, 1), dtype=tf.float32, name='lstm_119_input'), name='lstm_119_input', description=\"created by layer 'lstm_119_input'\"), but it was called on an input with incompatible shape (None, 16, 1).\n",
      "WARNING:tensorflow:Model was constructed with shape (None, 2, 1) for input KerasTensor(type_spec=TensorSpec(shape=(None, 2, 1), dtype=tf.float32, name='lstm_119_input'), name='lstm_119_input', description=\"created by layer 'lstm_119_input'\"), but it was called on an input with incompatible shape (None, 16, 1).\n",
      "WARNING:tensorflow:Model was constructed with shape (None, 2, 1) for input KerasTensor(type_spec=TensorSpec(shape=(None, 2, 1), dtype=tf.float32, name='lstm_119_input'), name='lstm_119_input', description=\"created by layer 'lstm_119_input'\"), but it was called on an input with incompatible shape (None, 16, 1).\n",
      "WARNING:tensorflow:Model was constructed with shape (None, 3, 1) for input KerasTensor(type_spec=TensorSpec(shape=(None, 3, 1), dtype=tf.float32, name='lstm_121_input'), name='lstm_121_input', description=\"created by layer 'lstm_121_input'\"), but it was called on an input with incompatible shape (None, 16, 1).\n",
      "WARNING:tensorflow:Model was constructed with shape (None, 3, 1) for input KerasTensor(type_spec=TensorSpec(shape=(None, 3, 1), dtype=tf.float32, name='lstm_121_input'), name='lstm_121_input', description=\"created by layer 'lstm_121_input'\"), but it was called on an input with incompatible shape (None, 16, 1).\n",
      "WARNING:tensorflow:Model was constructed with shape (None, 3, 1) for input KerasTensor(type_spec=TensorSpec(shape=(None, 3, 1), dtype=tf.float32, name='lstm_121_input'), name='lstm_121_input', description=\"created by layer 'lstm_121_input'\"), but it was called on an input with incompatible shape (None, 16, 1).\n",
      "WARNING:tensorflow:Model was constructed with shape (None, 4, 1) for input KerasTensor(type_spec=TensorSpec(shape=(None, 4, 1), dtype=tf.float32, name='lstm_123_input'), name='lstm_123_input', description=\"created by layer 'lstm_123_input'\"), but it was called on an input with incompatible shape (None, 16, 1).\n",
      "WARNING:tensorflow:Model was constructed with shape (None, 4, 1) for input KerasTensor(type_spec=TensorSpec(shape=(None, 4, 1), dtype=tf.float32, name='lstm_123_input'), name='lstm_123_input', description=\"created by layer 'lstm_123_input'\"), but it was called on an input with incompatible shape (None, 16, 1).\n",
      "WARNING:tensorflow:Model was constructed with shape (None, 4, 1) for input KerasTensor(type_spec=TensorSpec(shape=(None, 4, 1), dtype=tf.float32, name='lstm_123_input'), name='lstm_123_input', description=\"created by layer 'lstm_123_input'\"), but it was called on an input with incompatible shape (None, 16, 1).\n",
      "WARNING:tensorflow:Model was constructed with shape (None, 5, 1) for input KerasTensor(type_spec=TensorSpec(shape=(None, 5, 1), dtype=tf.float32, name='lstm_125_input'), name='lstm_125_input', description=\"created by layer 'lstm_125_input'\"), but it was called on an input with incompatible shape (None, 16, 1).\n",
      "WARNING:tensorflow:Model was constructed with shape (None, 5, 1) for input KerasTensor(type_spec=TensorSpec(shape=(None, 5, 1), dtype=tf.float32, name='lstm_125_input'), name='lstm_125_input', description=\"created by layer 'lstm_125_input'\"), but it was called on an input with incompatible shape (None, 16, 1).\n",
      "WARNING:tensorflow:Model was constructed with shape (None, 5, 1) for input KerasTensor(type_spec=TensorSpec(shape=(None, 5, 1), dtype=tf.float32, name='lstm_125_input'), name='lstm_125_input', description=\"created by layer 'lstm_125_input'\"), but it was called on an input with incompatible shape (None, 16, 1).\n",
      "WARNING:tensorflow:Model was constructed with shape (None, 1, 1) for input KerasTensor(type_spec=TensorSpec(shape=(None, 1, 1), dtype=tf.float32, name='lstm_127_input'), name='lstm_127_input', description=\"created by layer 'lstm_127_input'\"), but it was called on an input with incompatible shape (None, 16, 1).\n",
      "WARNING:tensorflow:Model was constructed with shape (None, 1, 1) for input KerasTensor(type_spec=TensorSpec(shape=(None, 1, 1), dtype=tf.float32, name='lstm_127_input'), name='lstm_127_input', description=\"created by layer 'lstm_127_input'\"), but it was called on an input with incompatible shape (None, 16, 1).\n",
      "WARNING:tensorflow:Model was constructed with shape (None, 1, 1) for input KerasTensor(type_spec=TensorSpec(shape=(None, 1, 1), dtype=tf.float32, name='lstm_127_input'), name='lstm_127_input', description=\"created by layer 'lstm_127_input'\"), but it was called on an input with incompatible shape (None, 16, 1).\n",
      "WARNING:tensorflow:Model was constructed with shape (None, 2, 1) for input KerasTensor(type_spec=TensorSpec(shape=(None, 2, 1), dtype=tf.float32, name='lstm_129_input'), name='lstm_129_input', description=\"created by layer 'lstm_129_input'\"), but it was called on an input with incompatible shape (None, 16, 1).\n",
      "WARNING:tensorflow:Model was constructed with shape (None, 2, 1) for input KerasTensor(type_spec=TensorSpec(shape=(None, 2, 1), dtype=tf.float32, name='lstm_129_input'), name='lstm_129_input', description=\"created by layer 'lstm_129_input'\"), but it was called on an input with incompatible shape (None, 16, 1).\n",
      "WARNING:tensorflow:Model was constructed with shape (None, 2, 1) for input KerasTensor(type_spec=TensorSpec(shape=(None, 2, 1), dtype=tf.float32, name='lstm_129_input'), name='lstm_129_input', description=\"created by layer 'lstm_129_input'\"), but it was called on an input with incompatible shape (None, 16, 1).\n"
     ]
    },
    {
     "name": "stdout",
     "output_type": "stream",
     "text": [
      "WARNING:tensorflow:Model was constructed with shape (None, 3, 1) for input KerasTensor(type_spec=TensorSpec(shape=(None, 3, 1), dtype=tf.float32, name='lstm_131_input'), name='lstm_131_input', description=\"created by layer 'lstm_131_input'\"), but it was called on an input with incompatible shape (None, 16, 1).\n",
      "WARNING:tensorflow:Model was constructed with shape (None, 3, 1) for input KerasTensor(type_spec=TensorSpec(shape=(None, 3, 1), dtype=tf.float32, name='lstm_131_input'), name='lstm_131_input', description=\"created by layer 'lstm_131_input'\"), but it was called on an input with incompatible shape (None, 16, 1).\n",
      "WARNING:tensorflow:Model was constructed with shape (None, 3, 1) for input KerasTensor(type_spec=TensorSpec(shape=(None, 3, 1), dtype=tf.float32, name='lstm_131_input'), name='lstm_131_input', description=\"created by layer 'lstm_131_input'\"), but it was called on an input with incompatible shape (None, 16, 1).\n",
      "WARNING:tensorflow:Model was constructed with shape (None, 4, 1) for input KerasTensor(type_spec=TensorSpec(shape=(None, 4, 1), dtype=tf.float32, name='lstm_133_input'), name='lstm_133_input', description=\"created by layer 'lstm_133_input'\"), but it was called on an input with incompatible shape (None, 16, 1).\n",
      "WARNING:tensorflow:Model was constructed with shape (None, 4, 1) for input KerasTensor(type_spec=TensorSpec(shape=(None, 4, 1), dtype=tf.float32, name='lstm_133_input'), name='lstm_133_input', description=\"created by layer 'lstm_133_input'\"), but it was called on an input with incompatible shape (None, 16, 1).\n",
      "WARNING:tensorflow:Model was constructed with shape (None, 4, 1) for input KerasTensor(type_spec=TensorSpec(shape=(None, 4, 1), dtype=tf.float32, name='lstm_133_input'), name='lstm_133_input', description=\"created by layer 'lstm_133_input'\"), but it was called on an input with incompatible shape (None, 16, 1).\n",
      "WARNING:tensorflow:Model was constructed with shape (None, 5, 1) for input KerasTensor(type_spec=TensorSpec(shape=(None, 5, 1), dtype=tf.float32, name='lstm_135_input'), name='lstm_135_input', description=\"created by layer 'lstm_135_input'\"), but it was called on an input with incompatible shape (None, 16, 1).\n",
      "WARNING:tensorflow:Model was constructed with shape (None, 5, 1) for input KerasTensor(type_spec=TensorSpec(shape=(None, 5, 1), dtype=tf.float32, name='lstm_135_input'), name='lstm_135_input', description=\"created by layer 'lstm_135_input'\"), but it was called on an input with incompatible shape (None, 16, 1).\n",
      "WARNING:tensorflow:Model was constructed with shape (None, 5, 1) for input KerasTensor(type_spec=TensorSpec(shape=(None, 5, 1), dtype=tf.float32, name='lstm_135_input'), name='lstm_135_input', description=\"created by layer 'lstm_135_input'\"), but it was called on an input with incompatible shape (None, 16, 1).\n",
      "WARNING:tensorflow:Model was constructed with shape (None, 1, 1) for input KerasTensor(type_spec=TensorSpec(shape=(None, 1, 1), dtype=tf.float32, name='lstm_137_input'), name='lstm_137_input', description=\"created by layer 'lstm_137_input'\"), but it was called on an input with incompatible shape (None, 16, 1).\n",
      "WARNING:tensorflow:Model was constructed with shape (None, 1, 1) for input KerasTensor(type_spec=TensorSpec(shape=(None, 1, 1), dtype=tf.float32, name='lstm_137_input'), name='lstm_137_input', description=\"created by layer 'lstm_137_input'\"), but it was called on an input with incompatible shape (None, 16, 1).\n",
      "WARNING:tensorflow:Model was constructed with shape (None, 1, 1) for input KerasTensor(type_spec=TensorSpec(shape=(None, 1, 1), dtype=tf.float32, name='lstm_137_input'), name='lstm_137_input', description=\"created by layer 'lstm_137_input'\"), but it was called on an input with incompatible shape (None, 16, 1).\n",
      "WARNING:tensorflow:Model was constructed with shape (None, 2, 1) for input KerasTensor(type_spec=TensorSpec(shape=(None, 2, 1), dtype=tf.float32, name='lstm_139_input'), name='lstm_139_input', description=\"created by layer 'lstm_139_input'\"), but it was called on an input with incompatible shape (None, 16, 1).\n",
      "WARNING:tensorflow:Model was constructed with shape (None, 2, 1) for input KerasTensor(type_spec=TensorSpec(shape=(None, 2, 1), dtype=tf.float32, name='lstm_139_input'), name='lstm_139_input', description=\"created by layer 'lstm_139_input'\"), but it was called on an input with incompatible shape (None, 16, 1).\n",
      "WARNING:tensorflow:Model was constructed with shape (None, 2, 1) for input KerasTensor(type_spec=TensorSpec(shape=(None, 2, 1), dtype=tf.float32, name='lstm_139_input'), name='lstm_139_input', description=\"created by layer 'lstm_139_input'\"), but it was called on an input with incompatible shape (None, 16, 1).\n",
      "WARNING:tensorflow:Model was constructed with shape (None, 3, 1) for input KerasTensor(type_spec=TensorSpec(shape=(None, 3, 1), dtype=tf.float32, name='lstm_141_input'), name='lstm_141_input', description=\"created by layer 'lstm_141_input'\"), but it was called on an input with incompatible shape (None, 16, 1).\n",
      "WARNING:tensorflow:Model was constructed with shape (None, 3, 1) for input KerasTensor(type_spec=TensorSpec(shape=(None, 3, 1), dtype=tf.float32, name='lstm_141_input'), name='lstm_141_input', description=\"created by layer 'lstm_141_input'\"), but it was called on an input with incompatible shape (None, 16, 1).\n",
      "WARNING:tensorflow:Model was constructed with shape (None, 3, 1) for input KerasTensor(type_spec=TensorSpec(shape=(None, 3, 1), dtype=tf.float32, name='lstm_141_input'), name='lstm_141_input', description=\"created by layer 'lstm_141_input'\"), but it was called on an input with incompatible shape (None, 16, 1).\n",
      "WARNING:tensorflow:Model was constructed with shape (None, 4, 1) for input KerasTensor(type_spec=TensorSpec(shape=(None, 4, 1), dtype=tf.float32, name='lstm_143_input'), name='lstm_143_input', description=\"created by layer 'lstm_143_input'\"), but it was called on an input with incompatible shape (None, 16, 1).\n",
      "WARNING:tensorflow:Model was constructed with shape (None, 4, 1) for input KerasTensor(type_spec=TensorSpec(shape=(None, 4, 1), dtype=tf.float32, name='lstm_143_input'), name='lstm_143_input', description=\"created by layer 'lstm_143_input'\"), but it was called on an input with incompatible shape (None, 16, 1).\n",
      "WARNING:tensorflow:Model was constructed with shape (None, 4, 1) for input KerasTensor(type_spec=TensorSpec(shape=(None, 4, 1), dtype=tf.float32, name='lstm_143_input'), name='lstm_143_input', description=\"created by layer 'lstm_143_input'\"), but it was called on an input with incompatible shape (None, 16, 1).\n",
      "WARNING:tensorflow:Model was constructed with shape (None, 5, 1) for input KerasTensor(type_spec=TensorSpec(shape=(None, 5, 1), dtype=tf.float32, name='lstm_145_input'), name='lstm_145_input', description=\"created by layer 'lstm_145_input'\"), but it was called on an input with incompatible shape (None, 16, 1).\n",
      "WARNING:tensorflow:Model was constructed with shape (None, 5, 1) for input KerasTensor(type_spec=TensorSpec(shape=(None, 5, 1), dtype=tf.float32, name='lstm_145_input'), name='lstm_145_input', description=\"created by layer 'lstm_145_input'\"), but it was called on an input with incompatible shape (None, 16, 1).\n",
      "WARNING:tensorflow:Model was constructed with shape (None, 5, 1) for input KerasTensor(type_spec=TensorSpec(shape=(None, 5, 1), dtype=tf.float32, name='lstm_145_input'), name='lstm_145_input', description=\"created by layer 'lstm_145_input'\"), but it was called on an input with incompatible shape (None, 16, 1).\n",
      "WARNING:tensorflow:Model was constructed with shape (None, 1, 1) for input KerasTensor(type_spec=TensorSpec(shape=(None, 1, 1), dtype=tf.float32, name='lstm_147_input'), name='lstm_147_input', description=\"created by layer 'lstm_147_input'\"), but it was called on an input with incompatible shape (None, 16, 1).\n",
      "WARNING:tensorflow:Model was constructed with shape (None, 1, 1) for input KerasTensor(type_spec=TensorSpec(shape=(None, 1, 1), dtype=tf.float32, name='lstm_147_input'), name='lstm_147_input', description=\"created by layer 'lstm_147_input'\"), but it was called on an input with incompatible shape (None, 16, 1).\n",
      "WARNING:tensorflow:Model was constructed with shape (None, 1, 1) for input KerasTensor(type_spec=TensorSpec(shape=(None, 1, 1), dtype=tf.float32, name='lstm_147_input'), name='lstm_147_input', description=\"created by layer 'lstm_147_input'\"), but it was called on an input with incompatible shape (None, 16, 1).\n"
     ]
    },
    {
     "name": "stdout",
     "output_type": "stream",
     "text": [
      "WARNING:tensorflow:Model was constructed with shape (None, 2, 1) for input KerasTensor(type_spec=TensorSpec(shape=(None, 2, 1), dtype=tf.float32, name='lstm_150_input'), name='lstm_150_input', description=\"created by layer 'lstm_150_input'\"), but it was called on an input with incompatible shape (None, 16, 1).\n",
      "WARNING:tensorflow:Model was constructed with shape (None, 2, 1) for input KerasTensor(type_spec=TensorSpec(shape=(None, 2, 1), dtype=tf.float32, name='lstm_150_input'), name='lstm_150_input', description=\"created by layer 'lstm_150_input'\"), but it was called on an input with incompatible shape (None, 16, 1).\n",
      "WARNING:tensorflow:Model was constructed with shape (None, 2, 1) for input KerasTensor(type_spec=TensorSpec(shape=(None, 2, 1), dtype=tf.float32, name='lstm_150_input'), name='lstm_150_input', description=\"created by layer 'lstm_150_input'\"), but it was called on an input with incompatible shape (None, 16, 1).\n",
      "WARNING:tensorflow:Model was constructed with shape (None, 3, 1) for input KerasTensor(type_spec=TensorSpec(shape=(None, 3, 1), dtype=tf.float32, name='lstm_153_input'), name='lstm_153_input', description=\"created by layer 'lstm_153_input'\"), but it was called on an input with incompatible shape (None, 16, 1).\n",
      "WARNING:tensorflow:Model was constructed with shape (None, 3, 1) for input KerasTensor(type_spec=TensorSpec(shape=(None, 3, 1), dtype=tf.float32, name='lstm_153_input'), name='lstm_153_input', description=\"created by layer 'lstm_153_input'\"), but it was called on an input with incompatible shape (None, 16, 1).\n",
      "WARNING:tensorflow:Model was constructed with shape (None, 3, 1) for input KerasTensor(type_spec=TensorSpec(shape=(None, 3, 1), dtype=tf.float32, name='lstm_153_input'), name='lstm_153_input', description=\"created by layer 'lstm_153_input'\"), but it was called on an input with incompatible shape (None, 16, 1).\n",
      "WARNING:tensorflow:Model was constructed with shape (None, 4, 1) for input KerasTensor(type_spec=TensorSpec(shape=(None, 4, 1), dtype=tf.float32, name='lstm_156_input'), name='lstm_156_input', description=\"created by layer 'lstm_156_input'\"), but it was called on an input with incompatible shape (None, 16, 1).\n",
      "WARNING:tensorflow:Model was constructed with shape (None, 4, 1) for input KerasTensor(type_spec=TensorSpec(shape=(None, 4, 1), dtype=tf.float32, name='lstm_156_input'), name='lstm_156_input', description=\"created by layer 'lstm_156_input'\"), but it was called on an input with incompatible shape (None, 16, 1).\n",
      "WARNING:tensorflow:Model was constructed with shape (None, 4, 1) for input KerasTensor(type_spec=TensorSpec(shape=(None, 4, 1), dtype=tf.float32, name='lstm_156_input'), name='lstm_156_input', description=\"created by layer 'lstm_156_input'\"), but it was called on an input with incompatible shape (None, 16, 1).\n",
      "WARNING:tensorflow:Model was constructed with shape (None, 5, 1) for input KerasTensor(type_spec=TensorSpec(shape=(None, 5, 1), dtype=tf.float32, name='lstm_159_input'), name='lstm_159_input', description=\"created by layer 'lstm_159_input'\"), but it was called on an input with incompatible shape (None, 16, 1).\n",
      "WARNING:tensorflow:Model was constructed with shape (None, 5, 1) for input KerasTensor(type_spec=TensorSpec(shape=(None, 5, 1), dtype=tf.float32, name='lstm_159_input'), name='lstm_159_input', description=\"created by layer 'lstm_159_input'\"), but it was called on an input with incompatible shape (None, 16, 1).\n",
      "WARNING:tensorflow:Model was constructed with shape (None, 5, 1) for input KerasTensor(type_spec=TensorSpec(shape=(None, 5, 1), dtype=tf.float32, name='lstm_159_input'), name='lstm_159_input', description=\"created by layer 'lstm_159_input'\"), but it was called on an input with incompatible shape (None, 16, 1).\n",
      "WARNING:tensorflow:Model was constructed with shape (None, 1, 1) for input KerasTensor(type_spec=TensorSpec(shape=(None, 1, 1), dtype=tf.float32, name='lstm_162_input'), name='lstm_162_input', description=\"created by layer 'lstm_162_input'\"), but it was called on an input with incompatible shape (None, 16, 1).\n",
      "WARNING:tensorflow:Model was constructed with shape (None, 1, 1) for input KerasTensor(type_spec=TensorSpec(shape=(None, 1, 1), dtype=tf.float32, name='lstm_162_input'), name='lstm_162_input', description=\"created by layer 'lstm_162_input'\"), but it was called on an input with incompatible shape (None, 16, 1).\n",
      "WARNING:tensorflow:Model was constructed with shape (None, 1, 1) for input KerasTensor(type_spec=TensorSpec(shape=(None, 1, 1), dtype=tf.float32, name='lstm_162_input'), name='lstm_162_input', description=\"created by layer 'lstm_162_input'\"), but it was called on an input with incompatible shape (None, 16, 1).\n",
      "WARNING:tensorflow:Model was constructed with shape (None, 2, 1) for input KerasTensor(type_spec=TensorSpec(shape=(None, 2, 1), dtype=tf.float32, name='lstm_165_input'), name='lstm_165_input', description=\"created by layer 'lstm_165_input'\"), but it was called on an input with incompatible shape (None, 16, 1).\n",
      "WARNING:tensorflow:Model was constructed with shape (None, 2, 1) for input KerasTensor(type_spec=TensorSpec(shape=(None, 2, 1), dtype=tf.float32, name='lstm_165_input'), name='lstm_165_input', description=\"created by layer 'lstm_165_input'\"), but it was called on an input with incompatible shape (None, 16, 1).\n",
      "WARNING:tensorflow:Model was constructed with shape (None, 2, 1) for input KerasTensor(type_spec=TensorSpec(shape=(None, 2, 1), dtype=tf.float32, name='lstm_165_input'), name='lstm_165_input', description=\"created by layer 'lstm_165_input'\"), but it was called on an input with incompatible shape (None, 16, 1).\n",
      "WARNING:tensorflow:Model was constructed with shape (None, 3, 1) for input KerasTensor(type_spec=TensorSpec(shape=(None, 3, 1), dtype=tf.float32, name='lstm_168_input'), name='lstm_168_input', description=\"created by layer 'lstm_168_input'\"), but it was called on an input with incompatible shape (None, 16, 1).\n",
      "WARNING:tensorflow:Model was constructed with shape (None, 3, 1) for input KerasTensor(type_spec=TensorSpec(shape=(None, 3, 1), dtype=tf.float32, name='lstm_168_input'), name='lstm_168_input', description=\"created by layer 'lstm_168_input'\"), but it was called on an input with incompatible shape (None, 16, 1).\n",
      "WARNING:tensorflow:Model was constructed with shape (None, 3, 1) for input KerasTensor(type_spec=TensorSpec(shape=(None, 3, 1), dtype=tf.float32, name='lstm_168_input'), name='lstm_168_input', description=\"created by layer 'lstm_168_input'\"), but it was called on an input with incompatible shape (None, 16, 1).\n",
      "WARNING:tensorflow:Model was constructed with shape (None, 4, 1) for input KerasTensor(type_spec=TensorSpec(shape=(None, 4, 1), dtype=tf.float32, name='lstm_171_input'), name='lstm_171_input', description=\"created by layer 'lstm_171_input'\"), but it was called on an input with incompatible shape (None, 16, 1).\n",
      "WARNING:tensorflow:Model was constructed with shape (None, 4, 1) for input KerasTensor(type_spec=TensorSpec(shape=(None, 4, 1), dtype=tf.float32, name='lstm_171_input'), name='lstm_171_input', description=\"created by layer 'lstm_171_input'\"), but it was called on an input with incompatible shape (None, 16, 1).\n",
      "WARNING:tensorflow:Model was constructed with shape (None, 4, 1) for input KerasTensor(type_spec=TensorSpec(shape=(None, 4, 1), dtype=tf.float32, name='lstm_171_input'), name='lstm_171_input', description=\"created by layer 'lstm_171_input'\"), but it was called on an input with incompatible shape (None, 16, 1).\n",
      "WARNING:tensorflow:Model was constructed with shape (None, 5, 1) for input KerasTensor(type_spec=TensorSpec(shape=(None, 5, 1), dtype=tf.float32, name='lstm_174_input'), name='lstm_174_input', description=\"created by layer 'lstm_174_input'\"), but it was called on an input with incompatible shape (None, 16, 1).\n",
      "WARNING:tensorflow:Model was constructed with shape (None, 5, 1) for input KerasTensor(type_spec=TensorSpec(shape=(None, 5, 1), dtype=tf.float32, name='lstm_174_input'), name='lstm_174_input', description=\"created by layer 'lstm_174_input'\"), but it was called on an input with incompatible shape (None, 16, 1).\n",
      "WARNING:tensorflow:Model was constructed with shape (None, 5, 1) for input KerasTensor(type_spec=TensorSpec(shape=(None, 5, 1), dtype=tf.float32, name='lstm_174_input'), name='lstm_174_input', description=\"created by layer 'lstm_174_input'\"), but it was called on an input with incompatible shape (None, 16, 1).\n"
     ]
    },
    {
     "name": "stdout",
     "output_type": "stream",
     "text": [
      "WARNING:tensorflow:Model was constructed with shape (None, 1, 1) for input KerasTensor(type_spec=TensorSpec(shape=(None, 1, 1), dtype=tf.float32, name='lstm_177_input'), name='lstm_177_input', description=\"created by layer 'lstm_177_input'\"), but it was called on an input with incompatible shape (None, 16, 1).\n",
      "WARNING:tensorflow:Model was constructed with shape (None, 1, 1) for input KerasTensor(type_spec=TensorSpec(shape=(None, 1, 1), dtype=tf.float32, name='lstm_177_input'), name='lstm_177_input', description=\"created by layer 'lstm_177_input'\"), but it was called on an input with incompatible shape (None, 16, 1).\n",
      "WARNING:tensorflow:Model was constructed with shape (None, 1, 1) for input KerasTensor(type_spec=TensorSpec(shape=(None, 1, 1), dtype=tf.float32, name='lstm_177_input'), name='lstm_177_input', description=\"created by layer 'lstm_177_input'\"), but it was called on an input with incompatible shape (None, 16, 1).\n",
      "WARNING:tensorflow:Model was constructed with shape (None, 2, 1) for input KerasTensor(type_spec=TensorSpec(shape=(None, 2, 1), dtype=tf.float32, name='lstm_180_input'), name='lstm_180_input', description=\"created by layer 'lstm_180_input'\"), but it was called on an input with incompatible shape (None, 16, 1).\n",
      "WARNING:tensorflow:Model was constructed with shape (None, 2, 1) for input KerasTensor(type_spec=TensorSpec(shape=(None, 2, 1), dtype=tf.float32, name='lstm_180_input'), name='lstm_180_input', description=\"created by layer 'lstm_180_input'\"), but it was called on an input with incompatible shape (None, 16, 1).\n",
      "WARNING:tensorflow:Model was constructed with shape (None, 2, 1) for input KerasTensor(type_spec=TensorSpec(shape=(None, 2, 1), dtype=tf.float32, name='lstm_180_input'), name='lstm_180_input', description=\"created by layer 'lstm_180_input'\"), but it was called on an input with incompatible shape (None, 16, 1).\n",
      "WARNING:tensorflow:Model was constructed with shape (None, 3, 1) for input KerasTensor(type_spec=TensorSpec(shape=(None, 3, 1), dtype=tf.float32, name='lstm_183_input'), name='lstm_183_input', description=\"created by layer 'lstm_183_input'\"), but it was called on an input with incompatible shape (None, 16, 1).\n",
      "WARNING:tensorflow:Model was constructed with shape (None, 3, 1) for input KerasTensor(type_spec=TensorSpec(shape=(None, 3, 1), dtype=tf.float32, name='lstm_183_input'), name='lstm_183_input', description=\"created by layer 'lstm_183_input'\"), but it was called on an input with incompatible shape (None, 16, 1).\n",
      "WARNING:tensorflow:Model was constructed with shape (None, 3, 1) for input KerasTensor(type_spec=TensorSpec(shape=(None, 3, 1), dtype=tf.float32, name='lstm_183_input'), name='lstm_183_input', description=\"created by layer 'lstm_183_input'\"), but it was called on an input with incompatible shape (None, 16, 1).\n",
      "WARNING:tensorflow:Model was constructed with shape (None, 4, 1) for input KerasTensor(type_spec=TensorSpec(shape=(None, 4, 1), dtype=tf.float32, name='lstm_186_input'), name='lstm_186_input', description=\"created by layer 'lstm_186_input'\"), but it was called on an input with incompatible shape (None, 16, 1).\n",
      "WARNING:tensorflow:Model was constructed with shape (None, 4, 1) for input KerasTensor(type_spec=TensorSpec(shape=(None, 4, 1), dtype=tf.float32, name='lstm_186_input'), name='lstm_186_input', description=\"created by layer 'lstm_186_input'\"), but it was called on an input with incompatible shape (None, 16, 1).\n",
      "WARNING:tensorflow:Model was constructed with shape (None, 4, 1) for input KerasTensor(type_spec=TensorSpec(shape=(None, 4, 1), dtype=tf.float32, name='lstm_186_input'), name='lstm_186_input', description=\"created by layer 'lstm_186_input'\"), but it was called on an input with incompatible shape (None, 16, 1).\n",
      "WARNING:tensorflow:Model was constructed with shape (None, 5, 1) for input KerasTensor(type_spec=TensorSpec(shape=(None, 5, 1), dtype=tf.float32, name='lstm_189_input'), name='lstm_189_input', description=\"created by layer 'lstm_189_input'\"), but it was called on an input with incompatible shape (None, 16, 1).\n",
      "WARNING:tensorflow:Model was constructed with shape (None, 5, 1) for input KerasTensor(type_spec=TensorSpec(shape=(None, 5, 1), dtype=tf.float32, name='lstm_189_input'), name='lstm_189_input', description=\"created by layer 'lstm_189_input'\"), but it was called on an input with incompatible shape (None, 16, 1).\n",
      "WARNING:tensorflow:Model was constructed with shape (None, 5, 1) for input KerasTensor(type_spec=TensorSpec(shape=(None, 5, 1), dtype=tf.float32, name='lstm_189_input'), name='lstm_189_input', description=\"created by layer 'lstm_189_input'\"), but it was called on an input with incompatible shape (None, 16, 1).\n"
     ]
    }
   ],
   "source": [
    "res2 = []\n",
    "# 1 layer\n",
    "for unit in (4,8,16,32):\n",
    "    for time_step in (1,2,3,4,5):\n",
    "        res2.append((([unit],time_step),LSTM_GS([unit], time_step)))\n",
    "\n",
    "# 2 layers\n",
    "for unit in (8,16,32):\n",
    "    for time_step in (1,2,3,4,5):\n",
    "        res2.append((([unit, unit//2],time_step),LSTM_GS([unit, unit//2], time_step)))\n",
    "\n",
    "# 3 layers\n",
    "for unit in (8,16,32):\n",
    "    for time_step in (1,2,3,4,5):\n",
    "        res2.append((([unit, unit//2, unit//4],time_step),LSTM_GS([unit, unit//2, unit//4], time_step)))"
   ]
  },
  {
   "cell_type": "code",
   "execution_count": 43,
   "metadata": {},
   "outputs": [
    {
     "data": {
      "text/plain": [
       "(([8], 2), (3502.3132255331902, 2202.7428963125462))"
      ]
     },
     "execution_count": 43,
     "metadata": {},
     "output_type": "execute_result"
    }
   ],
   "source": [
    "sorted(res2, key = lambda x : x[1][1])[0]"
   ]
  },
  {
   "cell_type": "code",
   "execution_count": 44,
   "metadata": {},
   "outputs": [],
   "source": [
    "layer_config2 = sorted(res2, key = lambda x : x[1])[0][0][0]\n",
    "time_config2 = sorted(res2, key = lambda x : x[1])[0][0][1]"
   ]
  },
  {
   "cell_type": "code",
   "execution_count": 45,
   "metadata": {},
   "outputs": [
    {
     "name": "stdout",
     "output_type": "stream",
     "text": [
      "WARNING:tensorflow:Model was constructed with shape (None, 5, 1) for input KerasTensor(type_spec=TensorSpec(shape=(None, 5, 1), dtype=tf.float32, name='lstm_192_input'), name='lstm_192_input', description=\"created by layer 'lstm_192_input'\"), but it was called on an input with incompatible shape (None, 12, 1).\n",
      "WARNING:tensorflow:Model was constructed with shape (None, 5, 1) for input KerasTensor(type_spec=TensorSpec(shape=(None, 5, 1), dtype=tf.float32, name='lstm_192_input'), name='lstm_192_input', description=\"created by layer 'lstm_192_input'\"), but it was called on an input with incompatible shape (None, 12, 1).\n"
     ]
    }
   ],
   "source": [
    "model2 = LSTM_pipe(layer_config2, time_config2)"
   ]
  },
  {
   "cell_type": "code",
   "execution_count": 46,
   "metadata": {},
   "outputs": [
    {
     "name": "stdout",
     "output_type": "stream",
     "text": [
      "WARNING:tensorflow:Model was constructed with shape (None, 5, 1) for input KerasTensor(type_spec=TensorSpec(shape=(None, 5, 1), dtype=tf.float32, name='lstm_192_input'), name='lstm_192_input', description=\"created by layer 'lstm_192_input'\"), but it was called on an input with incompatible shape (None, 12, 1).\n"
     ]
    }
   ],
   "source": [
    "# predicted value\n",
    "yhat2 = model2.predict(x_refit_trans, verbose=0)"
   ]
  },
  {
   "cell_type": "code",
   "execution_count": 47,
   "metadata": {},
   "outputs": [
    {
     "name": "stdout",
     "output_type": "stream",
     "text": [
      "30533.139\n",
      "30303.48\n",
      "32069.129\n",
      "33439.316\n",
      "33075.75\n",
      "34099.547\n",
      "36381.066\n",
      "39681.36\n",
      "41044.81\n",
      "40708.984\n",
      "40002.27\n",
      "38424.484\n",
      "35741.457\n",
      "36829.32\n",
      "38461.535\n",
      "37394.34\n",
      "36071.777\n",
      "35566.51\n",
      "35646.758\n",
      "36470.523\n",
      "37505.29\n",
      "35478.76\n",
      "34642.75\n",
      "34354.74\n",
      "34150.66\n",
      "34698.69\n",
      "34639.145\n",
      "32257.254\n",
      "32859.223\n",
      "34009.01\n",
      "33769.984\n",
      "33008.363\n",
      "34183.8\n",
      "35744.94\n",
      "37299.082\n",
      "38324.99\n",
      "38753.895\n",
      "40004.305\n",
      "40103.355\n",
      "45229.57\n",
      "48095.875\n",
      "47437.863\n",
      "48234.7\n",
      "49439.86\n",
      "48897.7\n",
      "49645.984\n",
      "50000.613\n",
      "50123.83\n",
      "52195.7\n",
      "52009.645\n",
      "54476.97\n",
      "56597.152\n",
      "57138.207\n",
      "56443.91\n",
      "52316.176\n",
      "50155.008\n",
      "46706.62\n",
      "51944.344\n",
      "43950.797\n",
      "43524.754\n",
      "47139.223\n",
      "47521.746\n",
      "47158.105\n",
      "45783.87\n",
      "46278.113\n",
      "46066.043\n",
      "47538.08\n",
      "48575.176\n",
      "51798.258\n",
      "54562.402\n",
      "56971.004\n",
      "57699.934\n",
      "60371.03\n",
      "60216.734\n",
      "58248.97\n",
      "57005.04\n",
      "59137.484\n",
      "58095.6\n",
      "57566.49\n",
      "57804.34\n",
      "57336.582\n",
      "55842.484\n",
      "53982.83\n",
      "52702.473\n",
      "51514.887\n",
      "53950.02\n",
      "55728.22\n",
      "56100.742\n",
      "57262.074\n",
      "58175.55\n",
      "59537.05\n",
      "60665.61\n",
      "60855.008\n",
      "59873.26\n",
      "59532.777\n"
     ]
    }
   ],
   "source": [
    "for b in [x[0] for x in yhat2]:\n",
    "    print(b)"
   ]
  },
  {
   "cell_type": "code",
   "execution_count": null,
   "metadata": {},
   "outputs": [],
   "source": []
  }
 ],
 "metadata": {
  "kernelspec": {
   "display_name": "Python 3",
   "language": "python",
   "name": "python3"
  },
  "language_info": {
   "codemirror_mode": {
    "name": "ipython",
    "version": 3
   },
   "file_extension": ".py",
   "mimetype": "text/x-python",
   "name": "python",
   "nbconvert_exporter": "python",
   "pygments_lexer": "ipython3",
   "version": "3.8.5"
  }
 },
 "nbformat": 4,
 "nbformat_minor": 4
}
