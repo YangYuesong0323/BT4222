{
 "cells": [
  {
   "cell_type": "code",
   "execution_count": 177,
   "metadata": {},
   "outputs": [],
   "source": [
    "import pandas as pd\n",
    "import numpy as np\n",
    "import datetime\n",
    "from keras.models import Sequential\n",
    "from keras.layers import Dense\n",
    "from keras.layers import LSTM\n",
    "from keras.layers import Dropout\n",
    "from sklearn.preprocessing import MinMaxScaler\n",
    "from sklearn.metrics import mean_squared_error\n",
    "from keras import backend as K\n",
    "import matplotlib.pyplot as plt\n",
    "import sys\n",
    "sys.path.insert(1, '/Users/yuesongyang/Desktop/BT4222_repo')\n",
    "from backtest import *\n",
    "import tensorflow as tf\n",
    "tf.random.set_seed(0)"
   ]
  },
  {
   "cell_type": "code",
   "execution_count": null,
   "metadata": {},
   "outputs": [],
   "source": []
  },
  {
   "cell_type": "code",
   "execution_count": 178,
   "metadata": {},
   "outputs": [],
   "source": [
    "features = pd.read_csv(\"../../data/cooked_data/cooked_complete_dataset.csv\")"
   ]
  },
  {
   "cell_type": "code",
   "execution_count": 179,
   "metadata": {},
   "outputs": [],
   "source": [
    "features.dropna(inplace = True)"
   ]
  },
  {
   "cell_type": "code",
   "execution_count": 180,
   "metadata": {},
   "outputs": [],
   "source": [
    "features['date'] = features['date'].apply(lambda x: datetime.datetime.strptime(x, \"%d/%m/%y\"))\n",
    "features[\"date\"] = pd.to_datetime(features[\"date\"], format='%d/%m/%Y', infer_datetime_format=True)"
   ]
  },
  {
   "cell_type": "code",
   "execution_count": 181,
   "metadata": {},
   "outputs": [
    {
     "data": {
      "text/html": [
       "<div>\n",
       "<style scoped>\n",
       "    .dataframe tbody tr th:only-of-type {\n",
       "        vertical-align: middle;\n",
       "    }\n",
       "\n",
       "    .dataframe tbody tr th {\n",
       "        vertical-align: top;\n",
       "    }\n",
       "\n",
       "    .dataframe thead th {\n",
       "        text-align: right;\n",
       "    }\n",
       "</style>\n",
       "<table border=\"1\" class=\"dataframe\">\n",
       "  <thead>\n",
       "    <tr style=\"text-align: right;\">\n",
       "      <th></th>\n",
       "      <th>date</th>\n",
       "      <th>Adj_Close_BTC-USD</th>\n",
       "      <th>Open_BTC-USD</th>\n",
       "      <th>High_BTC-USD</th>\n",
       "      <th>Low_BTC-USD</th>\n",
       "      <th>Volume_BTC-USD</th>\n",
       "      <th>Adj_Close_SPY</th>\n",
       "      <th>Adj_Close_GLD</th>\n",
       "      <th>Adj_Close_CHFUSD=X</th>\n",
       "      <th>Adj_Close_CNYUSD=X</th>\n",
       "      <th>Adj_Close_EURUSD=X</th>\n",
       "      <th>Adj_Close_GBPUSD=X</th>\n",
       "      <th>Adj_Close_JPYUSD=X</th>\n",
       "      <th>coindesk_sentiment</th>\n",
       "      <th>num_of_coindesk_posts</th>\n",
       "      <th>reddit_comments_sentiments</th>\n",
       "      <th>top_50_reddit_posts_sentiments</th>\n",
       "      <th>blockchain_transactions_per_block</th>\n",
       "      <th>blockchain_hash_rates</th>\n",
       "    </tr>\n",
       "  </thead>\n",
       "  <tbody>\n",
       "    <tr>\n",
       "      <th>0</th>\n",
       "      <td>2020-12-14</td>\n",
       "      <td>19246.64453</td>\n",
       "      <td>19144.49219</td>\n",
       "      <td>19305.09961</td>\n",
       "      <td>19012.70898</td>\n",
       "      <td>2.247400e+10</td>\n",
       "      <td>361.926788</td>\n",
       "      <td>171.539993</td>\n",
       "      <td>1.125442</td>\n",
       "      <td>0.152772</td>\n",
       "      <td>1.213340</td>\n",
       "      <td>1.331824</td>\n",
       "      <td>0.009621</td>\n",
       "      <td>0.249489</td>\n",
       "      <td>12</td>\n",
       "      <td>0.158060</td>\n",
       "      <td>0.677618</td>\n",
       "      <td>2167.931034</td>\n",
       "      <td>134574371.4</td>\n",
       "    </tr>\n",
       "    <tr>\n",
       "      <th>1</th>\n",
       "      <td>2020-12-15</td>\n",
       "      <td>19417.07617</td>\n",
       "      <td>19246.91992</td>\n",
       "      <td>19525.00781</td>\n",
       "      <td>19079.84180</td>\n",
       "      <td>2.674198e+10</td>\n",
       "      <td>366.819824</td>\n",
       "      <td>173.940002</td>\n",
       "      <td>1.127930</td>\n",
       "      <td>0.152679</td>\n",
       "      <td>1.214890</td>\n",
       "      <td>1.333084</td>\n",
       "      <td>0.009614</td>\n",
       "      <td>0.173773</td>\n",
       "      <td>18</td>\n",
       "      <td>0.101930</td>\n",
       "      <td>0.447277</td>\n",
       "      <td>2288.857143</td>\n",
       "      <td>129933875.8</td>\n",
       "    </tr>\n",
       "    <tr>\n",
       "      <th>2</th>\n",
       "      <td>2020-12-16</td>\n",
       "      <td>21310.59766</td>\n",
       "      <td>19418.81836</td>\n",
       "      <td>21458.90820</td>\n",
       "      <td>19298.31641</td>\n",
       "      <td>4.440901e+10</td>\n",
       "      <td>367.395508</td>\n",
       "      <td>174.899994</td>\n",
       "      <td>1.129382</td>\n",
       "      <td>0.152945</td>\n",
       "      <td>1.215430</td>\n",
       "      <td>1.344447</td>\n",
       "      <td>0.009649</td>\n",
       "      <td>0.341491</td>\n",
       "      <td>11</td>\n",
       "      <td>0.127344</td>\n",
       "      <td>0.480809</td>\n",
       "      <td>2204.314685</td>\n",
       "      <td>132718173.2</td>\n",
       "    </tr>\n",
       "    <tr>\n",
       "      <th>3</th>\n",
       "      <td>2020-12-17</td>\n",
       "      <td>22805.16211</td>\n",
       "      <td>21308.35156</td>\n",
       "      <td>23642.66016</td>\n",
       "      <td>21234.67578</td>\n",
       "      <td>7.137861e+10</td>\n",
       "      <td>369.449982</td>\n",
       "      <td>176.740005</td>\n",
       "      <td>1.129446</td>\n",
       "      <td>0.153109</td>\n",
       "      <td>1.219959</td>\n",
       "      <td>1.350293</td>\n",
       "      <td>0.009664</td>\n",
       "      <td>0.197572</td>\n",
       "      <td>10</td>\n",
       "      <td>0.135945</td>\n",
       "      <td>0.539729</td>\n",
       "      <td>2399.077519</td>\n",
       "      <td>119724785.6</td>\n",
       "    </tr>\n",
       "    <tr>\n",
       "      <th>4</th>\n",
       "      <td>2020-12-18</td>\n",
       "      <td>23137.96094</td>\n",
       "      <td>22806.79688</td>\n",
       "      <td>23238.60156</td>\n",
       "      <td>22399.81250</td>\n",
       "      <td>4.038790e+10</td>\n",
       "      <td>367.974792</td>\n",
       "      <td>176.440002</td>\n",
       "      <td>1.130301</td>\n",
       "      <td>0.153090</td>\n",
       "      <td>1.226272</td>\n",
       "      <td>1.357018</td>\n",
       "      <td>0.009696</td>\n",
       "      <td>0.315601</td>\n",
       "      <td>2</td>\n",
       "      <td>0.135441</td>\n",
       "      <td>0.449503</td>\n",
       "      <td>2392.031847</td>\n",
       "      <td>145711560.8</td>\n",
       "    </tr>\n",
       "  </tbody>\n",
       "</table>\n",
       "</div>"
      ],
      "text/plain": [
       "        date  Adj_Close_BTC-USD  Open_BTC-USD  High_BTC-USD  Low_BTC-USD  \\\n",
       "0 2020-12-14        19246.64453   19144.49219   19305.09961  19012.70898   \n",
       "1 2020-12-15        19417.07617   19246.91992   19525.00781  19079.84180   \n",
       "2 2020-12-16        21310.59766   19418.81836   21458.90820  19298.31641   \n",
       "3 2020-12-17        22805.16211   21308.35156   23642.66016  21234.67578   \n",
       "4 2020-12-18        23137.96094   22806.79688   23238.60156  22399.81250   \n",
       "\n",
       "   Volume_BTC-USD  Adj_Close_SPY  Adj_Close_GLD  Adj_Close_CHFUSD=X  \\\n",
       "0    2.247400e+10     361.926788     171.539993            1.125442   \n",
       "1    2.674198e+10     366.819824     173.940002            1.127930   \n",
       "2    4.440901e+10     367.395508     174.899994            1.129382   \n",
       "3    7.137861e+10     369.449982     176.740005            1.129446   \n",
       "4    4.038790e+10     367.974792     176.440002            1.130301   \n",
       "\n",
       "   Adj_Close_CNYUSD=X  Adj_Close_EURUSD=X  Adj_Close_GBPUSD=X  \\\n",
       "0            0.152772            1.213340            1.331824   \n",
       "1            0.152679            1.214890            1.333084   \n",
       "2            0.152945            1.215430            1.344447   \n",
       "3            0.153109            1.219959            1.350293   \n",
       "4            0.153090            1.226272            1.357018   \n",
       "\n",
       "   Adj_Close_JPYUSD=X  coindesk_sentiment  num_of_coindesk_posts  \\\n",
       "0            0.009621            0.249489                     12   \n",
       "1            0.009614            0.173773                     18   \n",
       "2            0.009649            0.341491                     11   \n",
       "3            0.009664            0.197572                     10   \n",
       "4            0.009696            0.315601                      2   \n",
       "\n",
       "   reddit_comments_sentiments  top_50_reddit_posts_sentiments  \\\n",
       "0                    0.158060                        0.677618   \n",
       "1                    0.101930                        0.447277   \n",
       "2                    0.127344                        0.480809   \n",
       "3                    0.135945                        0.539729   \n",
       "4                    0.135441                        0.449503   \n",
       "\n",
       "   blockchain_transactions_per_block  blockchain_hash_rates  \n",
       "0                        2167.931034            134574371.4  \n",
       "1                        2288.857143            129933875.8  \n",
       "2                        2204.314685            132718173.2  \n",
       "3                        2399.077519            119724785.6  \n",
       "4                        2392.031847            145711560.8  "
      ]
     },
     "execution_count": 181,
     "metadata": {},
     "output_type": "execute_result"
    }
   ],
   "source": [
    "features.head()"
   ]
  },
  {
   "cell_type": "code",
   "execution_count": null,
   "metadata": {},
   "outputs": [],
   "source": []
  },
  {
   "cell_type": "markdown",
   "metadata": {},
   "source": [
    "**Helper functions to create lags for features and calculate RMSE**"
   ]
  },
  {
   "cell_type": "code",
   "execution_count": 182,
   "metadata": {},
   "outputs": [],
   "source": [
    "def lag(data, dic):\n",
    "    cols = []\n",
    "    for key, value in dic.items():\n",
    "        for i in range(1, value+1):\n",
    "            cols.append(data[key].shift(i).rename('{}_lag{}'.format(data[key].name, i)))\n",
    "    return pd.concat([data[\"date\"],data[\"Adj_Close_BTC-USD\"]] + cols, axis = 1)"
   ]
  },
  {
   "cell_type": "code",
   "execution_count": 183,
   "metadata": {},
   "outputs": [],
   "source": [
    "def root_mean_squared_error(y_true, y_pred):\n",
    "    return K.sqrt(K.mean(K.square(y_pred - y_true))) "
   ]
  },
  {
   "cell_type": "code",
   "execution_count": null,
   "metadata": {},
   "outputs": [],
   "source": []
  },
  {
   "cell_type": "markdown",
   "metadata": {},
   "source": [
    "## Without Sentiments"
   ]
  },
  {
   "cell_type": "markdown",
   "metadata": {},
   "source": [
    "#### 1. Create feature lags"
   ]
  },
  {
   "cell_type": "code",
   "execution_count": 184,
   "metadata": {},
   "outputs": [],
   "source": [
    "feature_lags = {\"Adj_Close_BTC-USD\" : 1,\n",
    "                \"Adj_Close_SPY\" : 1,\n",
    "                \"Adj_Close_GLD\" : 1,\n",
    "                \"Adj_Close_CHFUSD=X\" : 1,\n",
    "                \"Adj_Close_EURUSD=X\" : 1,\n",
    "                \"Adj_Close_GBPUSD=X\" : 1,\n",
    "                \"Adj_Close_JPYUSD=X\" : 1,\n",
    "                \"blockchain_transactions_per_block\" : 1,\n",
    "                \"blockchain_hash_rates\" : 1}\n",
    "\n",
    "data = lag(features, feature_lags)"
   ]
  },
  {
   "cell_type": "markdown",
   "metadata": {},
   "source": [
    "#### 2. Handle train-test split"
   ]
  },
  {
   "cell_type": "code",
   "execution_count": 185,
   "metadata": {},
   "outputs": [],
   "source": [
    "# data['date'] = data['date'].apply(lambda x: datetime.datetime.strptime(x, \"%Y-%m-%d\"))\n",
    "# data[\"date\"] = pd.to_datetime(data[\"date\"], format='%d/%m/%Y', infer_datetime_format=True)\n",
    "data = data[(data[\"date\"] >= \"2021-01-01\") & (data[\"date\"] <= \"2021-04-12\")]\n",
    "\n",
    "train = data[(data[\"date\"] >= \"2021-01-01\") & (data[\"date\"] <= \"2021-03-14\")]\n",
    "validation = data[(data[\"date\"] >= \"2021-03-15\") & (data[\"date\"] <= \"2021-03-29\")]\n",
    "test = data[(data[\"date\"] >= \"2021-03-30\") & (data[\"date\"] <= \"2021-04-12\")]\n",
    "\n",
    "refit = data[(data[\"date\"] >= \"2021-01-01\") & (data[\"date\"] <= \"2021-03-29\")]\n",
    "full = data.copy(deep = True)\n",
    "\n",
    "\n",
    "x_train = train.drop([\"date\", \"Adj_Close_BTC-USD\"], axis = 1)\n",
    "y_train = train[\"Adj_Close_BTC-USD\"]\n",
    "\n",
    "x_val = validation.drop([\"date\", \"Adj_Close_BTC-USD\"], axis = 1)\n",
    "y_val = validation[\"Adj_Close_BTC-USD\"]\n",
    "\n",
    "x_test = test.drop([\"date\", \"Adj_Close_BTC-USD\"], axis = 1)\n",
    "y_test = test[\"Adj_Close_BTC-USD\"]\n",
    "\n",
    "x_refit = refit.drop([\"date\", \"Adj_Close_BTC-USD\"], axis = 1)\n",
    "y_refit = refit[\"Adj_Close_BTC-USD\"]\n",
    "\n",
    "x_full = full.drop([\"date\", \"Adj_Close_BTC-USD\"], axis = 1)\n",
    "y_full = full[\"Adj_Close_BTC-USD\"]"
   ]
  },
  {
   "cell_type": "markdown",
   "metadata": {},
   "source": [
    "#### 3. MinMax scale the features"
   ]
  },
  {
   "cell_type": "code",
   "execution_count": 186,
   "metadata": {},
   "outputs": [],
   "source": [
    "sc = MinMaxScaler(feature_range = (0, 1))\n",
    "sc.fit(x_train)\n",
    "x_train_trans = sc.transform(x_train)\n",
    "x_val_trans = sc.transform(x_val)\n",
    "x_test_trans = sc.transform(x_test)\n",
    "\n",
    "sc2 = MinMaxScaler(feature_range = (0, 1))\n",
    "sc2.fit(x_refit)\n",
    "x_refit_trans = sc2.transform(x_refit)\n",
    "\n",
    "sc3 = MinMaxScaler(feature_range = (0, 1))\n",
    "sc3.fit(x_full)\n",
    "x_full_trans = sc3.transform(x_full)"
   ]
  },
  {
   "cell_type": "markdown",
   "metadata": {},
   "source": [
    "#### 4. Transform the feature shapes to fit into LSTM"
   ]
  },
  {
   "cell_type": "code",
   "execution_count": 187,
   "metadata": {},
   "outputs": [],
   "source": [
    "x_train_trans = x_train_trans.reshape(x_train_trans.shape[0], x_train_trans.shape[1], 1)\n",
    "x_val_trans = x_val_trans.reshape(x_val_trans.shape[0], x_val_trans.shape[1], 1)\n",
    "x_test_trans = x_test_trans.reshape(x_test_trans.shape[0], x_test_trans.shape[1], 1)\n",
    "x_refit_trans = x_refit_trans.reshape(x_refit_trans.shape[0], x_refit_trans.shape[1], 1)\n",
    "x_full_trans = x_full_trans.reshape(x_full_trans.shape[0], x_full_trans.shape[1], 1)"
   ]
  },
  {
   "cell_type": "markdown",
   "metadata": {},
   "source": [
    "#### 5. Define a Grid Search function"
   ]
  },
  {
   "cell_type": "code",
   "execution_count": 188,
   "metadata": {},
   "outputs": [],
   "source": [
    "def LSTM_GS(layer_spe, time_step, epochs_):\n",
    "    regressor = Sequential()\n",
    "    count = 0\n",
    "    for unit in layer_spe:\n",
    "        count += 1 \n",
    "        if len(layer_spe) == 1:\n",
    "            regressor.add(LSTM(unit, activation = \"relu\", input_shape = (time_step, 1))) # batch size, time steps, data dimension\n",
    "            regressor.add(Dropout(0.3))\n",
    "        else:\n",
    "            if count == 1:\n",
    "                regressor.add(LSTM(unit, activation = \"relu\", return_sequences=True, input_shape = (time_step, 1))) # batch size, time steps, data dimension\n",
    "                regressor.add(Dropout(0.3))\n",
    "            elif count < len(layer_spe): \n",
    "                regressor.add(LSTM(unit, activation = \"relu\", return_sequences=True))\n",
    "                regressor.add(Dropout(0.3))\n",
    "            else:\n",
    "                regressor.add(LSTM(unit, activation = \"relu\"))\n",
    "                regressor.add(Dropout(0.3))\n",
    "            \n",
    "    regressor.add(Dense(units = 1))\n",
    "    regressor.compile(optimizer = 'Adam', loss = root_mean_squared_error)\n",
    "    regressor.fit(x_train_trans, y_train, epochs = epochs_, verbose = 0)\n",
    "    \n",
    "    train_error = mean_squared_error(y_train, regressor.predict(x_train_trans), squared = False)\n",
    "    val_error = mean_squared_error(y_val, regressor.predict(x_val_trans), squared = False)\n",
    "    \n",
    "    return train_error, val_error"
   ]
  },
  {
   "cell_type": "markdown",
   "metadata": {},
   "source": [
    "#### 6. Grid Search on a few hyperparameters combinations"
   ]
  },
  {
   "cell_type": "code",
   "execution_count": 189,
   "metadata": {},
   "outputs": [
    {
     "name": "stdout",
     "output_type": "stream",
     "text": [
      "WARNING:tensorflow:Model was constructed with shape (None, 1, 1) for input KerasTensor(type_spec=TensorSpec(shape=(None, 1, 1), dtype=tf.float32, name='lstm_506_input'), name='lstm_506_input', description=\"created by layer 'lstm_506_input'\"), but it was called on an input with incompatible shape (None, 9, 1).\n",
      "WARNING:tensorflow:Model was constructed with shape (None, 1, 1) for input KerasTensor(type_spec=TensorSpec(shape=(None, 1, 1), dtype=tf.float32, name='lstm_506_input'), name='lstm_506_input', description=\"created by layer 'lstm_506_input'\"), but it was called on an input with incompatible shape (None, 9, 1).\n",
      "WARNING:tensorflow:Model was constructed with shape (None, 1, 1) for input KerasTensor(type_spec=TensorSpec(shape=(None, 1, 1), dtype=tf.float32, name='lstm_506_input'), name='lstm_506_input', description=\"created by layer 'lstm_506_input'\"), but it was called on an input with incompatible shape (None, 9, 1).\n",
      "WARNING:tensorflow:5 out of the last 12 calls to <function Model.make_predict_function.<locals>.predict_function at 0x7f82d2cb1550> triggered tf.function retracing. Tracing is expensive and the excessive number of tracings could be due to (1) creating @tf.function repeatedly in a loop, (2) passing tensors with different shapes, (3) passing Python objects instead of tensors. For (1), please define your @tf.function outside of the loop. For (2), @tf.function has experimental_relax_shapes=True option that relaxes argument shapes that can avoid unnecessary retracing. For (3), please refer to https://www.tensorflow.org/guide/function#controlling_retracing and https://www.tensorflow.org/api_docs/python/tf/function for  more details.\n",
      "WARNING:tensorflow:Model was constructed with shape (None, 1, 1) for input KerasTensor(type_spec=TensorSpec(shape=(None, 1, 1), dtype=tf.float32, name='lstm_507_input'), name='lstm_507_input', description=\"created by layer 'lstm_507_input'\"), but it was called on an input with incompatible shape (None, 9, 1).\n",
      "WARNING:tensorflow:Model was constructed with shape (None, 1, 1) for input KerasTensor(type_spec=TensorSpec(shape=(None, 1, 1), dtype=tf.float32, name='lstm_507_input'), name='lstm_507_input', description=\"created by layer 'lstm_507_input'\"), but it was called on an input with incompatible shape (None, 9, 1).\n",
      "WARNING:tensorflow:Model was constructed with shape (None, 1, 1) for input KerasTensor(type_spec=TensorSpec(shape=(None, 1, 1), dtype=tf.float32, name='lstm_507_input'), name='lstm_507_input', description=\"created by layer 'lstm_507_input'\"), but it was called on an input with incompatible shape (None, 9, 1).\n",
      "WARNING:tensorflow:5 out of the last 12 calls to <function Model.make_predict_function.<locals>.predict_function at 0x7f82bba2d700> triggered tf.function retracing. Tracing is expensive and the excessive number of tracings could be due to (1) creating @tf.function repeatedly in a loop, (2) passing tensors with different shapes, (3) passing Python objects instead of tensors. For (1), please define your @tf.function outside of the loop. For (2), @tf.function has experimental_relax_shapes=True option that relaxes argument shapes that can avoid unnecessary retracing. For (3), please refer to https://www.tensorflow.org/guide/function#controlling_retracing and https://www.tensorflow.org/api_docs/python/tf/function for  more details.\n",
      "WARNING:tensorflow:Model was constructed with shape (None, 2, 1) for input KerasTensor(type_spec=TensorSpec(shape=(None, 2, 1), dtype=tf.float32, name='lstm_508_input'), name='lstm_508_input', description=\"created by layer 'lstm_508_input'\"), but it was called on an input with incompatible shape (None, 9, 1).\n",
      "WARNING:tensorflow:Model was constructed with shape (None, 2, 1) for input KerasTensor(type_spec=TensorSpec(shape=(None, 2, 1), dtype=tf.float32, name='lstm_508_input'), name='lstm_508_input', description=\"created by layer 'lstm_508_input'\"), but it was called on an input with incompatible shape (None, 9, 1).\n",
      "WARNING:tensorflow:Model was constructed with shape (None, 2, 1) for input KerasTensor(type_spec=TensorSpec(shape=(None, 2, 1), dtype=tf.float32, name='lstm_508_input'), name='lstm_508_input', description=\"created by layer 'lstm_508_input'\"), but it was called on an input with incompatible shape (None, 9, 1).\n",
      "WARNING:tensorflow:5 out of the last 12 calls to <function Model.make_predict_function.<locals>.predict_function at 0x7f82d5bb0dc0> triggered tf.function retracing. Tracing is expensive and the excessive number of tracings could be due to (1) creating @tf.function repeatedly in a loop, (2) passing tensors with different shapes, (3) passing Python objects instead of tensors. For (1), please define your @tf.function outside of the loop. For (2), @tf.function has experimental_relax_shapes=True option that relaxes argument shapes that can avoid unnecessary retracing. For (3), please refer to https://www.tensorflow.org/guide/function#controlling_retracing and https://www.tensorflow.org/api_docs/python/tf/function for  more details.\n",
      "WARNING:tensorflow:Model was constructed with shape (None, 2, 1) for input KerasTensor(type_spec=TensorSpec(shape=(None, 2, 1), dtype=tf.float32, name='lstm_509_input'), name='lstm_509_input', description=\"created by layer 'lstm_509_input'\"), but it was called on an input with incompatible shape (None, 9, 1).\n",
      "WARNING:tensorflow:Model was constructed with shape (None, 2, 1) for input KerasTensor(type_spec=TensorSpec(shape=(None, 2, 1), dtype=tf.float32, name='lstm_509_input'), name='lstm_509_input', description=\"created by layer 'lstm_509_input'\"), but it was called on an input with incompatible shape (None, 9, 1).\n",
      "WARNING:tensorflow:Model was constructed with shape (None, 2, 1) for input KerasTensor(type_spec=TensorSpec(shape=(None, 2, 1), dtype=tf.float32, name='lstm_509_input'), name='lstm_509_input', description=\"created by layer 'lstm_509_input'\"), but it was called on an input with incompatible shape (None, 9, 1).\n",
      "WARNING:tensorflow:Model was constructed with shape (None, 3, 1) for input KerasTensor(type_spec=TensorSpec(shape=(None, 3, 1), dtype=tf.float32, name='lstm_510_input'), name='lstm_510_input', description=\"created by layer 'lstm_510_input'\"), but it was called on an input with incompatible shape (None, 9, 1).\n",
      "WARNING:tensorflow:Model was constructed with shape (None, 3, 1) for input KerasTensor(type_spec=TensorSpec(shape=(None, 3, 1), dtype=tf.float32, name='lstm_510_input'), name='lstm_510_input', description=\"created by layer 'lstm_510_input'\"), but it was called on an input with incompatible shape (None, 9, 1).\n",
      "WARNING:tensorflow:Model was constructed with shape (None, 3, 1) for input KerasTensor(type_spec=TensorSpec(shape=(None, 3, 1), dtype=tf.float32, name='lstm_510_input'), name='lstm_510_input', description=\"created by layer 'lstm_510_input'\"), but it was called on an input with incompatible shape (None, 9, 1).\n",
      "WARNING:tensorflow:Model was constructed with shape (None, 3, 1) for input KerasTensor(type_spec=TensorSpec(shape=(None, 3, 1), dtype=tf.float32, name='lstm_511_input'), name='lstm_511_input', description=\"created by layer 'lstm_511_input'\"), but it was called on an input with incompatible shape (None, 9, 1).\n",
      "WARNING:tensorflow:Model was constructed with shape (None, 3, 1) for input KerasTensor(type_spec=TensorSpec(shape=(None, 3, 1), dtype=tf.float32, name='lstm_511_input'), name='lstm_511_input', description=\"created by layer 'lstm_511_input'\"), but it was called on an input with incompatible shape (None, 9, 1).\n",
      "WARNING:tensorflow:Model was constructed with shape (None, 3, 1) for input KerasTensor(type_spec=TensorSpec(shape=(None, 3, 1), dtype=tf.float32, name='lstm_511_input'), name='lstm_511_input', description=\"created by layer 'lstm_511_input'\"), but it was called on an input with incompatible shape (None, 9, 1).\n",
      "WARNING:tensorflow:Model was constructed with shape (None, 1, 1) for input KerasTensor(type_spec=TensorSpec(shape=(None, 1, 1), dtype=tf.float32, name='lstm_512_input'), name='lstm_512_input', description=\"created by layer 'lstm_512_input'\"), but it was called on an input with incompatible shape (None, 9, 1).\n",
      "WARNING:tensorflow:Model was constructed with shape (None, 1, 1) for input KerasTensor(type_spec=TensorSpec(shape=(None, 1, 1), dtype=tf.float32, name='lstm_512_input'), name='lstm_512_input', description=\"created by layer 'lstm_512_input'\"), but it was called on an input with incompatible shape (None, 9, 1).\n"
     ]
    },
    {
     "name": "stdout",
     "output_type": "stream",
     "text": [
      "WARNING:tensorflow:Model was constructed with shape (None, 1, 1) for input KerasTensor(type_spec=TensorSpec(shape=(None, 1, 1), dtype=tf.float32, name='lstm_512_input'), name='lstm_512_input', description=\"created by layer 'lstm_512_input'\"), but it was called on an input with incompatible shape (None, 9, 1).\n",
      "WARNING:tensorflow:Model was constructed with shape (None, 1, 1) for input KerasTensor(type_spec=TensorSpec(shape=(None, 1, 1), dtype=tf.float32, name='lstm_513_input'), name='lstm_513_input', description=\"created by layer 'lstm_513_input'\"), but it was called on an input with incompatible shape (None, 9, 1).\n",
      "WARNING:tensorflow:Model was constructed with shape (None, 1, 1) for input KerasTensor(type_spec=TensorSpec(shape=(None, 1, 1), dtype=tf.float32, name='lstm_513_input'), name='lstm_513_input', description=\"created by layer 'lstm_513_input'\"), but it was called on an input with incompatible shape (None, 9, 1).\n",
      "WARNING:tensorflow:Model was constructed with shape (None, 1, 1) for input KerasTensor(type_spec=TensorSpec(shape=(None, 1, 1), dtype=tf.float32, name='lstm_513_input'), name='lstm_513_input', description=\"created by layer 'lstm_513_input'\"), but it was called on an input with incompatible shape (None, 9, 1).\n",
      "WARNING:tensorflow:Model was constructed with shape (None, 2, 1) for input KerasTensor(type_spec=TensorSpec(shape=(None, 2, 1), dtype=tf.float32, name='lstm_514_input'), name='lstm_514_input', description=\"created by layer 'lstm_514_input'\"), but it was called on an input with incompatible shape (None, 9, 1).\n",
      "WARNING:tensorflow:Model was constructed with shape (None, 2, 1) for input KerasTensor(type_spec=TensorSpec(shape=(None, 2, 1), dtype=tf.float32, name='lstm_514_input'), name='lstm_514_input', description=\"created by layer 'lstm_514_input'\"), but it was called on an input with incompatible shape (None, 9, 1).\n",
      "WARNING:tensorflow:Model was constructed with shape (None, 2, 1) for input KerasTensor(type_spec=TensorSpec(shape=(None, 2, 1), dtype=tf.float32, name='lstm_514_input'), name='lstm_514_input', description=\"created by layer 'lstm_514_input'\"), but it was called on an input with incompatible shape (None, 9, 1).\n",
      "WARNING:tensorflow:Model was constructed with shape (None, 2, 1) for input KerasTensor(type_spec=TensorSpec(shape=(None, 2, 1), dtype=tf.float32, name='lstm_515_input'), name='lstm_515_input', description=\"created by layer 'lstm_515_input'\"), but it was called on an input with incompatible shape (None, 9, 1).\n",
      "WARNING:tensorflow:Model was constructed with shape (None, 2, 1) for input KerasTensor(type_spec=TensorSpec(shape=(None, 2, 1), dtype=tf.float32, name='lstm_515_input'), name='lstm_515_input', description=\"created by layer 'lstm_515_input'\"), but it was called on an input with incompatible shape (None, 9, 1).\n",
      "WARNING:tensorflow:Model was constructed with shape (None, 2, 1) for input KerasTensor(type_spec=TensorSpec(shape=(None, 2, 1), dtype=tf.float32, name='lstm_515_input'), name='lstm_515_input', description=\"created by layer 'lstm_515_input'\"), but it was called on an input with incompatible shape (None, 9, 1).\n",
      "WARNING:tensorflow:Model was constructed with shape (None, 3, 1) for input KerasTensor(type_spec=TensorSpec(shape=(None, 3, 1), dtype=tf.float32, name='lstm_516_input'), name='lstm_516_input', description=\"created by layer 'lstm_516_input'\"), but it was called on an input with incompatible shape (None, 9, 1).\n",
      "WARNING:tensorflow:Model was constructed with shape (None, 3, 1) for input KerasTensor(type_spec=TensorSpec(shape=(None, 3, 1), dtype=tf.float32, name='lstm_516_input'), name='lstm_516_input', description=\"created by layer 'lstm_516_input'\"), but it was called on an input with incompatible shape (None, 9, 1).\n",
      "WARNING:tensorflow:Model was constructed with shape (None, 3, 1) for input KerasTensor(type_spec=TensorSpec(shape=(None, 3, 1), dtype=tf.float32, name='lstm_516_input'), name='lstm_516_input', description=\"created by layer 'lstm_516_input'\"), but it was called on an input with incompatible shape (None, 9, 1).\n",
      "WARNING:tensorflow:Model was constructed with shape (None, 3, 1) for input KerasTensor(type_spec=TensorSpec(shape=(None, 3, 1), dtype=tf.float32, name='lstm_517_input'), name='lstm_517_input', description=\"created by layer 'lstm_517_input'\"), but it was called on an input with incompatible shape (None, 9, 1).\n",
      "WARNING:tensorflow:Model was constructed with shape (None, 3, 1) for input KerasTensor(type_spec=TensorSpec(shape=(None, 3, 1), dtype=tf.float32, name='lstm_517_input'), name='lstm_517_input', description=\"created by layer 'lstm_517_input'\"), but it was called on an input with incompatible shape (None, 9, 1).\n",
      "WARNING:tensorflow:Model was constructed with shape (None, 3, 1) for input KerasTensor(type_spec=TensorSpec(shape=(None, 3, 1), dtype=tf.float32, name='lstm_517_input'), name='lstm_517_input', description=\"created by layer 'lstm_517_input'\"), but it was called on an input with incompatible shape (None, 9, 1).\n",
      "WARNING:tensorflow:Model was constructed with shape (None, 1, 1) for input KerasTensor(type_spec=TensorSpec(shape=(None, 1, 1), dtype=tf.float32, name='lstm_518_input'), name='lstm_518_input', description=\"created by layer 'lstm_518_input'\"), but it was called on an input with incompatible shape (None, 9, 1).\n",
      "WARNING:tensorflow:Model was constructed with shape (None, 1, 1) for input KerasTensor(type_spec=TensorSpec(shape=(None, 1, 1), dtype=tf.float32, name='lstm_518_input'), name='lstm_518_input', description=\"created by layer 'lstm_518_input'\"), but it was called on an input with incompatible shape (None, 9, 1).\n",
      "WARNING:tensorflow:Model was constructed with shape (None, 1, 1) for input KerasTensor(type_spec=TensorSpec(shape=(None, 1, 1), dtype=tf.float32, name='lstm_518_input'), name='lstm_518_input', description=\"created by layer 'lstm_518_input'\"), but it was called on an input with incompatible shape (None, 9, 1).\n",
      "WARNING:tensorflow:Model was constructed with shape (None, 1, 1) for input KerasTensor(type_spec=TensorSpec(shape=(None, 1, 1), dtype=tf.float32, name='lstm_519_input'), name='lstm_519_input', description=\"created by layer 'lstm_519_input'\"), but it was called on an input with incompatible shape (None, 9, 1).\n",
      "WARNING:tensorflow:Model was constructed with shape (None, 1, 1) for input KerasTensor(type_spec=TensorSpec(shape=(None, 1, 1), dtype=tf.float32, name='lstm_519_input'), name='lstm_519_input', description=\"created by layer 'lstm_519_input'\"), but it was called on an input with incompatible shape (None, 9, 1).\n",
      "WARNING:tensorflow:Model was constructed with shape (None, 1, 1) for input KerasTensor(type_spec=TensorSpec(shape=(None, 1, 1), dtype=tf.float32, name='lstm_519_input'), name='lstm_519_input', description=\"created by layer 'lstm_519_input'\"), but it was called on an input with incompatible shape (None, 9, 1).\n",
      "WARNING:tensorflow:Model was constructed with shape (None, 2, 1) for input KerasTensor(type_spec=TensorSpec(shape=(None, 2, 1), dtype=tf.float32, name='lstm_520_input'), name='lstm_520_input', description=\"created by layer 'lstm_520_input'\"), but it was called on an input with incompatible shape (None, 9, 1).\n",
      "WARNING:tensorflow:Model was constructed with shape (None, 2, 1) for input KerasTensor(type_spec=TensorSpec(shape=(None, 2, 1), dtype=tf.float32, name='lstm_520_input'), name='lstm_520_input', description=\"created by layer 'lstm_520_input'\"), but it was called on an input with incompatible shape (None, 9, 1).\n",
      "WARNING:tensorflow:Model was constructed with shape (None, 2, 1) for input KerasTensor(type_spec=TensorSpec(shape=(None, 2, 1), dtype=tf.float32, name='lstm_520_input'), name='lstm_520_input', description=\"created by layer 'lstm_520_input'\"), but it was called on an input with incompatible shape (None, 9, 1).\n",
      "WARNING:tensorflow:Model was constructed with shape (None, 2, 1) for input KerasTensor(type_spec=TensorSpec(shape=(None, 2, 1), dtype=tf.float32, name='lstm_521_input'), name='lstm_521_input', description=\"created by layer 'lstm_521_input'\"), but it was called on an input with incompatible shape (None, 9, 1).\n",
      "WARNING:tensorflow:Model was constructed with shape (None, 2, 1) for input KerasTensor(type_spec=TensorSpec(shape=(None, 2, 1), dtype=tf.float32, name='lstm_521_input'), name='lstm_521_input', description=\"created by layer 'lstm_521_input'\"), but it was called on an input with incompatible shape (None, 9, 1).\n"
     ]
    },
    {
     "name": "stdout",
     "output_type": "stream",
     "text": [
      "WARNING:tensorflow:Model was constructed with shape (None, 2, 1) for input KerasTensor(type_spec=TensorSpec(shape=(None, 2, 1), dtype=tf.float32, name='lstm_521_input'), name='lstm_521_input', description=\"created by layer 'lstm_521_input'\"), but it was called on an input with incompatible shape (None, 9, 1).\n",
      "WARNING:tensorflow:Model was constructed with shape (None, 3, 1) for input KerasTensor(type_spec=TensorSpec(shape=(None, 3, 1), dtype=tf.float32, name='lstm_522_input'), name='lstm_522_input', description=\"created by layer 'lstm_522_input'\"), but it was called on an input with incompatible shape (None, 9, 1).\n",
      "WARNING:tensorflow:Model was constructed with shape (None, 3, 1) for input KerasTensor(type_spec=TensorSpec(shape=(None, 3, 1), dtype=tf.float32, name='lstm_522_input'), name='lstm_522_input', description=\"created by layer 'lstm_522_input'\"), but it was called on an input with incompatible shape (None, 9, 1).\n",
      "WARNING:tensorflow:Model was constructed with shape (None, 3, 1) for input KerasTensor(type_spec=TensorSpec(shape=(None, 3, 1), dtype=tf.float32, name='lstm_522_input'), name='lstm_522_input', description=\"created by layer 'lstm_522_input'\"), but it was called on an input with incompatible shape (None, 9, 1).\n",
      "WARNING:tensorflow:Model was constructed with shape (None, 3, 1) for input KerasTensor(type_spec=TensorSpec(shape=(None, 3, 1), dtype=tf.float32, name='lstm_523_input'), name='lstm_523_input', description=\"created by layer 'lstm_523_input'\"), but it was called on an input with incompatible shape (None, 9, 1).\n",
      "WARNING:tensorflow:Model was constructed with shape (None, 3, 1) for input KerasTensor(type_spec=TensorSpec(shape=(None, 3, 1), dtype=tf.float32, name='lstm_523_input'), name='lstm_523_input', description=\"created by layer 'lstm_523_input'\"), but it was called on an input with incompatible shape (None, 9, 1).\n",
      "WARNING:tensorflow:Model was constructed with shape (None, 3, 1) for input KerasTensor(type_spec=TensorSpec(shape=(None, 3, 1), dtype=tf.float32, name='lstm_523_input'), name='lstm_523_input', description=\"created by layer 'lstm_523_input'\"), but it was called on an input with incompatible shape (None, 9, 1).\n",
      "WARNING:tensorflow:Model was constructed with shape (None, 1, 1) for input KerasTensor(type_spec=TensorSpec(shape=(None, 1, 1), dtype=tf.float32, name='lstm_524_input'), name='lstm_524_input', description=\"created by layer 'lstm_524_input'\"), but it was called on an input with incompatible shape (None, 9, 1).\n",
      "WARNING:tensorflow:Model was constructed with shape (None, 1, 1) for input KerasTensor(type_spec=TensorSpec(shape=(None, 1, 1), dtype=tf.float32, name='lstm_524_input'), name='lstm_524_input', description=\"created by layer 'lstm_524_input'\"), but it was called on an input with incompatible shape (None, 9, 1).\n",
      "WARNING:tensorflow:Model was constructed with shape (None, 1, 1) for input KerasTensor(type_spec=TensorSpec(shape=(None, 1, 1), dtype=tf.float32, name='lstm_524_input'), name='lstm_524_input', description=\"created by layer 'lstm_524_input'\"), but it was called on an input with incompatible shape (None, 9, 1).\n",
      "WARNING:tensorflow:Model was constructed with shape (None, 1, 1) for input KerasTensor(type_spec=TensorSpec(shape=(None, 1, 1), dtype=tf.float32, name='lstm_526_input'), name='lstm_526_input', description=\"created by layer 'lstm_526_input'\"), but it was called on an input with incompatible shape (None, 9, 1).\n",
      "WARNING:tensorflow:Model was constructed with shape (None, 1, 1) for input KerasTensor(type_spec=TensorSpec(shape=(None, 1, 1), dtype=tf.float32, name='lstm_526_input'), name='lstm_526_input', description=\"created by layer 'lstm_526_input'\"), but it was called on an input with incompatible shape (None, 9, 1).\n",
      "WARNING:tensorflow:Model was constructed with shape (None, 1, 1) for input KerasTensor(type_spec=TensorSpec(shape=(None, 1, 1), dtype=tf.float32, name='lstm_526_input'), name='lstm_526_input', description=\"created by layer 'lstm_526_input'\"), but it was called on an input with incompatible shape (None, 9, 1).\n",
      "WARNING:tensorflow:Model was constructed with shape (None, 2, 1) for input KerasTensor(type_spec=TensorSpec(shape=(None, 2, 1), dtype=tf.float32, name='lstm_528_input'), name='lstm_528_input', description=\"created by layer 'lstm_528_input'\"), but it was called on an input with incompatible shape (None, 9, 1).\n",
      "WARNING:tensorflow:Model was constructed with shape (None, 2, 1) for input KerasTensor(type_spec=TensorSpec(shape=(None, 2, 1), dtype=tf.float32, name='lstm_528_input'), name='lstm_528_input', description=\"created by layer 'lstm_528_input'\"), but it was called on an input with incompatible shape (None, 9, 1).\n",
      "WARNING:tensorflow:Model was constructed with shape (None, 2, 1) for input KerasTensor(type_spec=TensorSpec(shape=(None, 2, 1), dtype=tf.float32, name='lstm_528_input'), name='lstm_528_input', description=\"created by layer 'lstm_528_input'\"), but it was called on an input with incompatible shape (None, 9, 1).\n",
      "WARNING:tensorflow:Model was constructed with shape (None, 2, 1) for input KerasTensor(type_spec=TensorSpec(shape=(None, 2, 1), dtype=tf.float32, name='lstm_530_input'), name='lstm_530_input', description=\"created by layer 'lstm_530_input'\"), but it was called on an input with incompatible shape (None, 9, 1).\n",
      "WARNING:tensorflow:Model was constructed with shape (None, 2, 1) for input KerasTensor(type_spec=TensorSpec(shape=(None, 2, 1), dtype=tf.float32, name='lstm_530_input'), name='lstm_530_input', description=\"created by layer 'lstm_530_input'\"), but it was called on an input with incompatible shape (None, 9, 1).\n",
      "WARNING:tensorflow:Model was constructed with shape (None, 2, 1) for input KerasTensor(type_spec=TensorSpec(shape=(None, 2, 1), dtype=tf.float32, name='lstm_530_input'), name='lstm_530_input', description=\"created by layer 'lstm_530_input'\"), but it was called on an input with incompatible shape (None, 9, 1).\n",
      "WARNING:tensorflow:Model was constructed with shape (None, 3, 1) for input KerasTensor(type_spec=TensorSpec(shape=(None, 3, 1), dtype=tf.float32, name='lstm_532_input'), name='lstm_532_input', description=\"created by layer 'lstm_532_input'\"), but it was called on an input with incompatible shape (None, 9, 1).\n",
      "WARNING:tensorflow:Model was constructed with shape (None, 3, 1) for input KerasTensor(type_spec=TensorSpec(shape=(None, 3, 1), dtype=tf.float32, name='lstm_532_input'), name='lstm_532_input', description=\"created by layer 'lstm_532_input'\"), but it was called on an input with incompatible shape (None, 9, 1).\n",
      "WARNING:tensorflow:Model was constructed with shape (None, 3, 1) for input KerasTensor(type_spec=TensorSpec(shape=(None, 3, 1), dtype=tf.float32, name='lstm_532_input'), name='lstm_532_input', description=\"created by layer 'lstm_532_input'\"), but it was called on an input with incompatible shape (None, 9, 1).\n",
      "WARNING:tensorflow:Model was constructed with shape (None, 3, 1) for input KerasTensor(type_spec=TensorSpec(shape=(None, 3, 1), dtype=tf.float32, name='lstm_534_input'), name='lstm_534_input', description=\"created by layer 'lstm_534_input'\"), but it was called on an input with incompatible shape (None, 9, 1).\n",
      "WARNING:tensorflow:Model was constructed with shape (None, 3, 1) for input KerasTensor(type_spec=TensorSpec(shape=(None, 3, 1), dtype=tf.float32, name='lstm_534_input'), name='lstm_534_input', description=\"created by layer 'lstm_534_input'\"), but it was called on an input with incompatible shape (None, 9, 1).\n",
      "WARNING:tensorflow:Model was constructed with shape (None, 3, 1) for input KerasTensor(type_spec=TensorSpec(shape=(None, 3, 1), dtype=tf.float32, name='lstm_534_input'), name='lstm_534_input', description=\"created by layer 'lstm_534_input'\"), but it was called on an input with incompatible shape (None, 9, 1).\n",
      "WARNING:tensorflow:Model was constructed with shape (None, 1, 1) for input KerasTensor(type_spec=TensorSpec(shape=(None, 1, 1), dtype=tf.float32, name='lstm_536_input'), name='lstm_536_input', description=\"created by layer 'lstm_536_input'\"), but it was called on an input with incompatible shape (None, 9, 1).\n",
      "WARNING:tensorflow:Model was constructed with shape (None, 1, 1) for input KerasTensor(type_spec=TensorSpec(shape=(None, 1, 1), dtype=tf.float32, name='lstm_536_input'), name='lstm_536_input', description=\"created by layer 'lstm_536_input'\"), but it was called on an input with incompatible shape (None, 9, 1).\n"
     ]
    },
    {
     "name": "stdout",
     "output_type": "stream",
     "text": [
      "WARNING:tensorflow:Model was constructed with shape (None, 1, 1) for input KerasTensor(type_spec=TensorSpec(shape=(None, 1, 1), dtype=tf.float32, name='lstm_536_input'), name='lstm_536_input', description=\"created by layer 'lstm_536_input'\"), but it was called on an input with incompatible shape (None, 9, 1).\n",
      "WARNING:tensorflow:Model was constructed with shape (None, 1, 1) for input KerasTensor(type_spec=TensorSpec(shape=(None, 1, 1), dtype=tf.float32, name='lstm_538_input'), name='lstm_538_input', description=\"created by layer 'lstm_538_input'\"), but it was called on an input with incompatible shape (None, 9, 1).\n",
      "WARNING:tensorflow:Model was constructed with shape (None, 1, 1) for input KerasTensor(type_spec=TensorSpec(shape=(None, 1, 1), dtype=tf.float32, name='lstm_538_input'), name='lstm_538_input', description=\"created by layer 'lstm_538_input'\"), but it was called on an input with incompatible shape (None, 9, 1).\n",
      "WARNING:tensorflow:Model was constructed with shape (None, 1, 1) for input KerasTensor(type_spec=TensorSpec(shape=(None, 1, 1), dtype=tf.float32, name='lstm_538_input'), name='lstm_538_input', description=\"created by layer 'lstm_538_input'\"), but it was called on an input with incompatible shape (None, 9, 1).\n",
      "WARNING:tensorflow:Model was constructed with shape (None, 2, 1) for input KerasTensor(type_spec=TensorSpec(shape=(None, 2, 1), dtype=tf.float32, name='lstm_540_input'), name='lstm_540_input', description=\"created by layer 'lstm_540_input'\"), but it was called on an input with incompatible shape (None, 9, 1).\n",
      "WARNING:tensorflow:Model was constructed with shape (None, 2, 1) for input KerasTensor(type_spec=TensorSpec(shape=(None, 2, 1), dtype=tf.float32, name='lstm_540_input'), name='lstm_540_input', description=\"created by layer 'lstm_540_input'\"), but it was called on an input with incompatible shape (None, 9, 1).\n",
      "WARNING:tensorflow:Model was constructed with shape (None, 2, 1) for input KerasTensor(type_spec=TensorSpec(shape=(None, 2, 1), dtype=tf.float32, name='lstm_540_input'), name='lstm_540_input', description=\"created by layer 'lstm_540_input'\"), but it was called on an input with incompatible shape (None, 9, 1).\n",
      "WARNING:tensorflow:Model was constructed with shape (None, 2, 1) for input KerasTensor(type_spec=TensorSpec(shape=(None, 2, 1), dtype=tf.float32, name='lstm_542_input'), name='lstm_542_input', description=\"created by layer 'lstm_542_input'\"), but it was called on an input with incompatible shape (None, 9, 1).\n",
      "WARNING:tensorflow:Model was constructed with shape (None, 2, 1) for input KerasTensor(type_spec=TensorSpec(shape=(None, 2, 1), dtype=tf.float32, name='lstm_542_input'), name='lstm_542_input', description=\"created by layer 'lstm_542_input'\"), but it was called on an input with incompatible shape (None, 9, 1).\n",
      "WARNING:tensorflow:Model was constructed with shape (None, 2, 1) for input KerasTensor(type_spec=TensorSpec(shape=(None, 2, 1), dtype=tf.float32, name='lstm_542_input'), name='lstm_542_input', description=\"created by layer 'lstm_542_input'\"), but it was called on an input with incompatible shape (None, 9, 1).\n",
      "WARNING:tensorflow:Model was constructed with shape (None, 3, 1) for input KerasTensor(type_spec=TensorSpec(shape=(None, 3, 1), dtype=tf.float32, name='lstm_544_input'), name='lstm_544_input', description=\"created by layer 'lstm_544_input'\"), but it was called on an input with incompatible shape (None, 9, 1).\n",
      "WARNING:tensorflow:Model was constructed with shape (None, 3, 1) for input KerasTensor(type_spec=TensorSpec(shape=(None, 3, 1), dtype=tf.float32, name='lstm_544_input'), name='lstm_544_input', description=\"created by layer 'lstm_544_input'\"), but it was called on an input with incompatible shape (None, 9, 1).\n",
      "WARNING:tensorflow:Model was constructed with shape (None, 3, 1) for input KerasTensor(type_spec=TensorSpec(shape=(None, 3, 1), dtype=tf.float32, name='lstm_544_input'), name='lstm_544_input', description=\"created by layer 'lstm_544_input'\"), but it was called on an input with incompatible shape (None, 9, 1).\n",
      "WARNING:tensorflow:Model was constructed with shape (None, 3, 1) for input KerasTensor(type_spec=TensorSpec(shape=(None, 3, 1), dtype=tf.float32, name='lstm_546_input'), name='lstm_546_input', description=\"created by layer 'lstm_546_input'\"), but it was called on an input with incompatible shape (None, 9, 1).\n",
      "WARNING:tensorflow:Model was constructed with shape (None, 3, 1) for input KerasTensor(type_spec=TensorSpec(shape=(None, 3, 1), dtype=tf.float32, name='lstm_546_input'), name='lstm_546_input', description=\"created by layer 'lstm_546_input'\"), but it was called on an input with incompatible shape (None, 9, 1).\n",
      "WARNING:tensorflow:Model was constructed with shape (None, 3, 1) for input KerasTensor(type_spec=TensorSpec(shape=(None, 3, 1), dtype=tf.float32, name='lstm_546_input'), name='lstm_546_input', description=\"created by layer 'lstm_546_input'\"), but it was called on an input with incompatible shape (None, 9, 1).\n",
      "WARNING:tensorflow:Model was constructed with shape (None, 1, 1) for input KerasTensor(type_spec=TensorSpec(shape=(None, 1, 1), dtype=tf.float32, name='lstm_548_input'), name='lstm_548_input', description=\"created by layer 'lstm_548_input'\"), but it was called on an input with incompatible shape (None, 9, 1).\n",
      "WARNING:tensorflow:Model was constructed with shape (None, 1, 1) for input KerasTensor(type_spec=TensorSpec(shape=(None, 1, 1), dtype=tf.float32, name='lstm_548_input'), name='lstm_548_input', description=\"created by layer 'lstm_548_input'\"), but it was called on an input with incompatible shape (None, 9, 1).\n",
      "WARNING:tensorflow:Model was constructed with shape (None, 1, 1) for input KerasTensor(type_spec=TensorSpec(shape=(None, 1, 1), dtype=tf.float32, name='lstm_548_input'), name='lstm_548_input', description=\"created by layer 'lstm_548_input'\"), but it was called on an input with incompatible shape (None, 9, 1).\n",
      "WARNING:tensorflow:Model was constructed with shape (None, 1, 1) for input KerasTensor(type_spec=TensorSpec(shape=(None, 1, 1), dtype=tf.float32, name='lstm_550_input'), name='lstm_550_input', description=\"created by layer 'lstm_550_input'\"), but it was called on an input with incompatible shape (None, 9, 1).\n",
      "WARNING:tensorflow:Model was constructed with shape (None, 1, 1) for input KerasTensor(type_spec=TensorSpec(shape=(None, 1, 1), dtype=tf.float32, name='lstm_550_input'), name='lstm_550_input', description=\"created by layer 'lstm_550_input'\"), but it was called on an input with incompatible shape (None, 9, 1).\n",
      "WARNING:tensorflow:Model was constructed with shape (None, 1, 1) for input KerasTensor(type_spec=TensorSpec(shape=(None, 1, 1), dtype=tf.float32, name='lstm_550_input'), name='lstm_550_input', description=\"created by layer 'lstm_550_input'\"), but it was called on an input with incompatible shape (None, 9, 1).\n",
      "WARNING:tensorflow:Model was constructed with shape (None, 2, 1) for input KerasTensor(type_spec=TensorSpec(shape=(None, 2, 1), dtype=tf.float32, name='lstm_552_input'), name='lstm_552_input', description=\"created by layer 'lstm_552_input'\"), but it was called on an input with incompatible shape (None, 9, 1).\n",
      "WARNING:tensorflow:Model was constructed with shape (None, 2, 1) for input KerasTensor(type_spec=TensorSpec(shape=(None, 2, 1), dtype=tf.float32, name='lstm_552_input'), name='lstm_552_input', description=\"created by layer 'lstm_552_input'\"), but it was called on an input with incompatible shape (None, 9, 1).\n",
      "WARNING:tensorflow:Model was constructed with shape (None, 2, 1) for input KerasTensor(type_spec=TensorSpec(shape=(None, 2, 1), dtype=tf.float32, name='lstm_552_input'), name='lstm_552_input', description=\"created by layer 'lstm_552_input'\"), but it was called on an input with incompatible shape (None, 9, 1).\n",
      "WARNING:tensorflow:Model was constructed with shape (None, 2, 1) for input KerasTensor(type_spec=TensorSpec(shape=(None, 2, 1), dtype=tf.float32, name='lstm_554_input'), name='lstm_554_input', description=\"created by layer 'lstm_554_input'\"), but it was called on an input with incompatible shape (None, 9, 1).\n",
      "WARNING:tensorflow:Model was constructed with shape (None, 2, 1) for input KerasTensor(type_spec=TensorSpec(shape=(None, 2, 1), dtype=tf.float32, name='lstm_554_input'), name='lstm_554_input', description=\"created by layer 'lstm_554_input'\"), but it was called on an input with incompatible shape (None, 9, 1).\n"
     ]
    },
    {
     "name": "stdout",
     "output_type": "stream",
     "text": [
      "WARNING:tensorflow:Model was constructed with shape (None, 2, 1) for input KerasTensor(type_spec=TensorSpec(shape=(None, 2, 1), dtype=tf.float32, name='lstm_554_input'), name='lstm_554_input', description=\"created by layer 'lstm_554_input'\"), but it was called on an input with incompatible shape (None, 9, 1).\n",
      "WARNING:tensorflow:Model was constructed with shape (None, 3, 1) for input KerasTensor(type_spec=TensorSpec(shape=(None, 3, 1), dtype=tf.float32, name='lstm_556_input'), name='lstm_556_input', description=\"created by layer 'lstm_556_input'\"), but it was called on an input with incompatible shape (None, 9, 1).\n",
      "WARNING:tensorflow:Model was constructed with shape (None, 3, 1) for input KerasTensor(type_spec=TensorSpec(shape=(None, 3, 1), dtype=tf.float32, name='lstm_556_input'), name='lstm_556_input', description=\"created by layer 'lstm_556_input'\"), but it was called on an input with incompatible shape (None, 9, 1).\n",
      "WARNING:tensorflow:Model was constructed with shape (None, 3, 1) for input KerasTensor(type_spec=TensorSpec(shape=(None, 3, 1), dtype=tf.float32, name='lstm_556_input'), name='lstm_556_input', description=\"created by layer 'lstm_556_input'\"), but it was called on an input with incompatible shape (None, 9, 1).\n",
      "WARNING:tensorflow:Model was constructed with shape (None, 3, 1) for input KerasTensor(type_spec=TensorSpec(shape=(None, 3, 1), dtype=tf.float32, name='lstm_558_input'), name='lstm_558_input', description=\"created by layer 'lstm_558_input'\"), but it was called on an input with incompatible shape (None, 9, 1).\n",
      "WARNING:tensorflow:Model was constructed with shape (None, 3, 1) for input KerasTensor(type_spec=TensorSpec(shape=(None, 3, 1), dtype=tf.float32, name='lstm_558_input'), name='lstm_558_input', description=\"created by layer 'lstm_558_input'\"), but it was called on an input with incompatible shape (None, 9, 1).\n",
      "WARNING:tensorflow:Model was constructed with shape (None, 3, 1) for input KerasTensor(type_spec=TensorSpec(shape=(None, 3, 1), dtype=tf.float32, name='lstm_558_input'), name='lstm_558_input', description=\"created by layer 'lstm_558_input'\"), but it was called on an input with incompatible shape (None, 9, 1).\n",
      "WARNING:tensorflow:Model was constructed with shape (None, 1, 1) for input KerasTensor(type_spec=TensorSpec(shape=(None, 1, 1), dtype=tf.float32, name='lstm_560_input'), name='lstm_560_input', description=\"created by layer 'lstm_560_input'\"), but it was called on an input with incompatible shape (None, 9, 1).\n",
      "WARNING:tensorflow:Model was constructed with shape (None, 1, 1) for input KerasTensor(type_spec=TensorSpec(shape=(None, 1, 1), dtype=tf.float32, name='lstm_560_input'), name='lstm_560_input', description=\"created by layer 'lstm_560_input'\"), but it was called on an input with incompatible shape (None, 9, 1).\n",
      "WARNING:tensorflow:Model was constructed with shape (None, 1, 1) for input KerasTensor(type_spec=TensorSpec(shape=(None, 1, 1), dtype=tf.float32, name='lstm_560_input'), name='lstm_560_input', description=\"created by layer 'lstm_560_input'\"), but it was called on an input with incompatible shape (None, 9, 1).\n",
      "WARNING:tensorflow:Model was constructed with shape (None, 1, 1) for input KerasTensor(type_spec=TensorSpec(shape=(None, 1, 1), dtype=tf.float32, name='lstm_563_input'), name='lstm_563_input', description=\"created by layer 'lstm_563_input'\"), but it was called on an input with incompatible shape (None, 9, 1).\n",
      "WARNING:tensorflow:Model was constructed with shape (None, 1, 1) for input KerasTensor(type_spec=TensorSpec(shape=(None, 1, 1), dtype=tf.float32, name='lstm_563_input'), name='lstm_563_input', description=\"created by layer 'lstm_563_input'\"), but it was called on an input with incompatible shape (None, 9, 1).\n",
      "WARNING:tensorflow:Model was constructed with shape (None, 1, 1) for input KerasTensor(type_spec=TensorSpec(shape=(None, 1, 1), dtype=tf.float32, name='lstm_563_input'), name='lstm_563_input', description=\"created by layer 'lstm_563_input'\"), but it was called on an input with incompatible shape (None, 9, 1).\n",
      "WARNING:tensorflow:Model was constructed with shape (None, 2, 1) for input KerasTensor(type_spec=TensorSpec(shape=(None, 2, 1), dtype=tf.float32, name='lstm_566_input'), name='lstm_566_input', description=\"created by layer 'lstm_566_input'\"), but it was called on an input with incompatible shape (None, 9, 1).\n",
      "WARNING:tensorflow:Model was constructed with shape (None, 2, 1) for input KerasTensor(type_spec=TensorSpec(shape=(None, 2, 1), dtype=tf.float32, name='lstm_566_input'), name='lstm_566_input', description=\"created by layer 'lstm_566_input'\"), but it was called on an input with incompatible shape (None, 9, 1).\n",
      "WARNING:tensorflow:Model was constructed with shape (None, 2, 1) for input KerasTensor(type_spec=TensorSpec(shape=(None, 2, 1), dtype=tf.float32, name='lstm_566_input'), name='lstm_566_input', description=\"created by layer 'lstm_566_input'\"), but it was called on an input with incompatible shape (None, 9, 1).\n",
      "WARNING:tensorflow:Model was constructed with shape (None, 2, 1) for input KerasTensor(type_spec=TensorSpec(shape=(None, 2, 1), dtype=tf.float32, name='lstm_569_input'), name='lstm_569_input', description=\"created by layer 'lstm_569_input'\"), but it was called on an input with incompatible shape (None, 9, 1).\n",
      "WARNING:tensorflow:Model was constructed with shape (None, 2, 1) for input KerasTensor(type_spec=TensorSpec(shape=(None, 2, 1), dtype=tf.float32, name='lstm_569_input'), name='lstm_569_input', description=\"created by layer 'lstm_569_input'\"), but it was called on an input with incompatible shape (None, 9, 1).\n",
      "WARNING:tensorflow:Model was constructed with shape (None, 2, 1) for input KerasTensor(type_spec=TensorSpec(shape=(None, 2, 1), dtype=tf.float32, name='lstm_569_input'), name='lstm_569_input', description=\"created by layer 'lstm_569_input'\"), but it was called on an input with incompatible shape (None, 9, 1).\n",
      "WARNING:tensorflow:Model was constructed with shape (None, 3, 1) for input KerasTensor(type_spec=TensorSpec(shape=(None, 3, 1), dtype=tf.float32, name='lstm_572_input'), name='lstm_572_input', description=\"created by layer 'lstm_572_input'\"), but it was called on an input with incompatible shape (None, 9, 1).\n",
      "WARNING:tensorflow:Model was constructed with shape (None, 3, 1) for input KerasTensor(type_spec=TensorSpec(shape=(None, 3, 1), dtype=tf.float32, name='lstm_572_input'), name='lstm_572_input', description=\"created by layer 'lstm_572_input'\"), but it was called on an input with incompatible shape (None, 9, 1).\n",
      "WARNING:tensorflow:Model was constructed with shape (None, 3, 1) for input KerasTensor(type_spec=TensorSpec(shape=(None, 3, 1), dtype=tf.float32, name='lstm_572_input'), name='lstm_572_input', description=\"created by layer 'lstm_572_input'\"), but it was called on an input with incompatible shape (None, 9, 1).\n",
      "WARNING:tensorflow:Model was constructed with shape (None, 3, 1) for input KerasTensor(type_spec=TensorSpec(shape=(None, 3, 1), dtype=tf.float32, name='lstm_575_input'), name='lstm_575_input', description=\"created by layer 'lstm_575_input'\"), but it was called on an input with incompatible shape (None, 9, 1).\n",
      "WARNING:tensorflow:Model was constructed with shape (None, 3, 1) for input KerasTensor(type_spec=TensorSpec(shape=(None, 3, 1), dtype=tf.float32, name='lstm_575_input'), name='lstm_575_input', description=\"created by layer 'lstm_575_input'\"), but it was called on an input with incompatible shape (None, 9, 1).\n",
      "WARNING:tensorflow:Model was constructed with shape (None, 3, 1) for input KerasTensor(type_spec=TensorSpec(shape=(None, 3, 1), dtype=tf.float32, name='lstm_575_input'), name='lstm_575_input', description=\"created by layer 'lstm_575_input'\"), but it was called on an input with incompatible shape (None, 9, 1).\n",
      "WARNING:tensorflow:Model was constructed with shape (None, 1, 1) for input KerasTensor(type_spec=TensorSpec(shape=(None, 1, 1), dtype=tf.float32, name='lstm_578_input'), name='lstm_578_input', description=\"created by layer 'lstm_578_input'\"), but it was called on an input with incompatible shape (None, 9, 1).\n",
      "WARNING:tensorflow:Model was constructed with shape (None, 1, 1) for input KerasTensor(type_spec=TensorSpec(shape=(None, 1, 1), dtype=tf.float32, name='lstm_578_input'), name='lstm_578_input', description=\"created by layer 'lstm_578_input'\"), but it was called on an input with incompatible shape (None, 9, 1).\n"
     ]
    },
    {
     "name": "stdout",
     "output_type": "stream",
     "text": [
      "WARNING:tensorflow:Model was constructed with shape (None, 1, 1) for input KerasTensor(type_spec=TensorSpec(shape=(None, 1, 1), dtype=tf.float32, name='lstm_578_input'), name='lstm_578_input', description=\"created by layer 'lstm_578_input'\"), but it was called on an input with incompatible shape (None, 9, 1).\n",
      "WARNING:tensorflow:Model was constructed with shape (None, 1, 1) for input KerasTensor(type_spec=TensorSpec(shape=(None, 1, 1), dtype=tf.float32, name='lstm_581_input'), name='lstm_581_input', description=\"created by layer 'lstm_581_input'\"), but it was called on an input with incompatible shape (None, 9, 1).\n",
      "WARNING:tensorflow:Model was constructed with shape (None, 1, 1) for input KerasTensor(type_spec=TensorSpec(shape=(None, 1, 1), dtype=tf.float32, name='lstm_581_input'), name='lstm_581_input', description=\"created by layer 'lstm_581_input'\"), but it was called on an input with incompatible shape (None, 9, 1).\n",
      "WARNING:tensorflow:Model was constructed with shape (None, 1, 1) for input KerasTensor(type_spec=TensorSpec(shape=(None, 1, 1), dtype=tf.float32, name='lstm_581_input'), name='lstm_581_input', description=\"created by layer 'lstm_581_input'\"), but it was called on an input with incompatible shape (None, 9, 1).\n",
      "WARNING:tensorflow:Model was constructed with shape (None, 2, 1) for input KerasTensor(type_spec=TensorSpec(shape=(None, 2, 1), dtype=tf.float32, name='lstm_584_input'), name='lstm_584_input', description=\"created by layer 'lstm_584_input'\"), but it was called on an input with incompatible shape (None, 9, 1).\n",
      "WARNING:tensorflow:Model was constructed with shape (None, 2, 1) for input KerasTensor(type_spec=TensorSpec(shape=(None, 2, 1), dtype=tf.float32, name='lstm_584_input'), name='lstm_584_input', description=\"created by layer 'lstm_584_input'\"), but it was called on an input with incompatible shape (None, 9, 1).\n",
      "WARNING:tensorflow:Model was constructed with shape (None, 2, 1) for input KerasTensor(type_spec=TensorSpec(shape=(None, 2, 1), dtype=tf.float32, name='lstm_584_input'), name='lstm_584_input', description=\"created by layer 'lstm_584_input'\"), but it was called on an input with incompatible shape (None, 9, 1).\n",
      "WARNING:tensorflow:Model was constructed with shape (None, 2, 1) for input KerasTensor(type_spec=TensorSpec(shape=(None, 2, 1), dtype=tf.float32, name='lstm_587_input'), name='lstm_587_input', description=\"created by layer 'lstm_587_input'\"), but it was called on an input with incompatible shape (None, 9, 1).\n",
      "WARNING:tensorflow:Model was constructed with shape (None, 2, 1) for input KerasTensor(type_spec=TensorSpec(shape=(None, 2, 1), dtype=tf.float32, name='lstm_587_input'), name='lstm_587_input', description=\"created by layer 'lstm_587_input'\"), but it was called on an input with incompatible shape (None, 9, 1).\n",
      "WARNING:tensorflow:Model was constructed with shape (None, 2, 1) for input KerasTensor(type_spec=TensorSpec(shape=(None, 2, 1), dtype=tf.float32, name='lstm_587_input'), name='lstm_587_input', description=\"created by layer 'lstm_587_input'\"), but it was called on an input with incompatible shape (None, 9, 1).\n",
      "WARNING:tensorflow:Model was constructed with shape (None, 3, 1) for input KerasTensor(type_spec=TensorSpec(shape=(None, 3, 1), dtype=tf.float32, name='lstm_590_input'), name='lstm_590_input', description=\"created by layer 'lstm_590_input'\"), but it was called on an input with incompatible shape (None, 9, 1).\n",
      "WARNING:tensorflow:Model was constructed with shape (None, 3, 1) for input KerasTensor(type_spec=TensorSpec(shape=(None, 3, 1), dtype=tf.float32, name='lstm_590_input'), name='lstm_590_input', description=\"created by layer 'lstm_590_input'\"), but it was called on an input with incompatible shape (None, 9, 1).\n",
      "WARNING:tensorflow:Model was constructed with shape (None, 3, 1) for input KerasTensor(type_spec=TensorSpec(shape=(None, 3, 1), dtype=tf.float32, name='lstm_590_input'), name='lstm_590_input', description=\"created by layer 'lstm_590_input'\"), but it was called on an input with incompatible shape (None, 9, 1).\n",
      "WARNING:tensorflow:Model was constructed with shape (None, 3, 1) for input KerasTensor(type_spec=TensorSpec(shape=(None, 3, 1), dtype=tf.float32, name='lstm_593_input'), name='lstm_593_input', description=\"created by layer 'lstm_593_input'\"), but it was called on an input with incompatible shape (None, 9, 1).\n",
      "WARNING:tensorflow:Model was constructed with shape (None, 3, 1) for input KerasTensor(type_spec=TensorSpec(shape=(None, 3, 1), dtype=tf.float32, name='lstm_593_input'), name='lstm_593_input', description=\"created by layer 'lstm_593_input'\"), but it was called on an input with incompatible shape (None, 9, 1).\n",
      "WARNING:tensorflow:Model was constructed with shape (None, 3, 1) for input KerasTensor(type_spec=TensorSpec(shape=(None, 3, 1), dtype=tf.float32, name='lstm_593_input'), name='lstm_593_input', description=\"created by layer 'lstm_593_input'\"), but it was called on an input with incompatible shape (None, 9, 1).\n",
      "WARNING:tensorflow:Model was constructed with shape (None, 1, 1) for input KerasTensor(type_spec=TensorSpec(shape=(None, 1, 1), dtype=tf.float32, name='lstm_596_input'), name='lstm_596_input', description=\"created by layer 'lstm_596_input'\"), but it was called on an input with incompatible shape (None, 9, 1).\n",
      "WARNING:tensorflow:Model was constructed with shape (None, 1, 1) for input KerasTensor(type_spec=TensorSpec(shape=(None, 1, 1), dtype=tf.float32, name='lstm_596_input'), name='lstm_596_input', description=\"created by layer 'lstm_596_input'\"), but it was called on an input with incompatible shape (None, 9, 1).\n",
      "WARNING:tensorflow:Model was constructed with shape (None, 1, 1) for input KerasTensor(type_spec=TensorSpec(shape=(None, 1, 1), dtype=tf.float32, name='lstm_596_input'), name='lstm_596_input', description=\"created by layer 'lstm_596_input'\"), but it was called on an input with incompatible shape (None, 9, 1).\n",
      "WARNING:tensorflow:Model was constructed with shape (None, 1, 1) for input KerasTensor(type_spec=TensorSpec(shape=(None, 1, 1), dtype=tf.float32, name='lstm_599_input'), name='lstm_599_input', description=\"created by layer 'lstm_599_input'\"), but it was called on an input with incompatible shape (None, 9, 1).\n",
      "WARNING:tensorflow:Model was constructed with shape (None, 1, 1) for input KerasTensor(type_spec=TensorSpec(shape=(None, 1, 1), dtype=tf.float32, name='lstm_599_input'), name='lstm_599_input', description=\"created by layer 'lstm_599_input'\"), but it was called on an input with incompatible shape (None, 9, 1).\n",
      "WARNING:tensorflow:Model was constructed with shape (None, 1, 1) for input KerasTensor(type_spec=TensorSpec(shape=(None, 1, 1), dtype=tf.float32, name='lstm_599_input'), name='lstm_599_input', description=\"created by layer 'lstm_599_input'\"), but it was called on an input with incompatible shape (None, 9, 1).\n",
      "WARNING:tensorflow:Model was constructed with shape (None, 2, 1) for input KerasTensor(type_spec=TensorSpec(shape=(None, 2, 1), dtype=tf.float32, name='lstm_602_input'), name='lstm_602_input', description=\"created by layer 'lstm_602_input'\"), but it was called on an input with incompatible shape (None, 9, 1).\n",
      "WARNING:tensorflow:Model was constructed with shape (None, 2, 1) for input KerasTensor(type_spec=TensorSpec(shape=(None, 2, 1), dtype=tf.float32, name='lstm_602_input'), name='lstm_602_input', description=\"created by layer 'lstm_602_input'\"), but it was called on an input with incompatible shape (None, 9, 1).\n",
      "WARNING:tensorflow:Model was constructed with shape (None, 2, 1) for input KerasTensor(type_spec=TensorSpec(shape=(None, 2, 1), dtype=tf.float32, name='lstm_602_input'), name='lstm_602_input', description=\"created by layer 'lstm_602_input'\"), but it was called on an input with incompatible shape (None, 9, 1).\n",
      "WARNING:tensorflow:Model was constructed with shape (None, 2, 1) for input KerasTensor(type_spec=TensorSpec(shape=(None, 2, 1), dtype=tf.float32, name='lstm_605_input'), name='lstm_605_input', description=\"created by layer 'lstm_605_input'\"), but it was called on an input with incompatible shape (None, 9, 1).\n",
      "WARNING:tensorflow:Model was constructed with shape (None, 2, 1) for input KerasTensor(type_spec=TensorSpec(shape=(None, 2, 1), dtype=tf.float32, name='lstm_605_input'), name='lstm_605_input', description=\"created by layer 'lstm_605_input'\"), but it was called on an input with incompatible shape (None, 9, 1).\n"
     ]
    },
    {
     "name": "stdout",
     "output_type": "stream",
     "text": [
      "WARNING:tensorflow:Model was constructed with shape (None, 2, 1) for input KerasTensor(type_spec=TensorSpec(shape=(None, 2, 1), dtype=tf.float32, name='lstm_605_input'), name='lstm_605_input', description=\"created by layer 'lstm_605_input'\"), but it was called on an input with incompatible shape (None, 9, 1).\n",
      "WARNING:tensorflow:Model was constructed with shape (None, 3, 1) for input KerasTensor(type_spec=TensorSpec(shape=(None, 3, 1), dtype=tf.float32, name='lstm_608_input'), name='lstm_608_input', description=\"created by layer 'lstm_608_input'\"), but it was called on an input with incompatible shape (None, 9, 1).\n",
      "WARNING:tensorflow:Model was constructed with shape (None, 3, 1) for input KerasTensor(type_spec=TensorSpec(shape=(None, 3, 1), dtype=tf.float32, name='lstm_608_input'), name='lstm_608_input', description=\"created by layer 'lstm_608_input'\"), but it was called on an input with incompatible shape (None, 9, 1).\n",
      "WARNING:tensorflow:Model was constructed with shape (None, 3, 1) for input KerasTensor(type_spec=TensorSpec(shape=(None, 3, 1), dtype=tf.float32, name='lstm_608_input'), name='lstm_608_input', description=\"created by layer 'lstm_608_input'\"), but it was called on an input with incompatible shape (None, 9, 1).\n",
      "WARNING:tensorflow:Model was constructed with shape (None, 3, 1) for input KerasTensor(type_spec=TensorSpec(shape=(None, 3, 1), dtype=tf.float32, name='lstm_611_input'), name='lstm_611_input', description=\"created by layer 'lstm_611_input'\"), but it was called on an input with incompatible shape (None, 9, 1).\n",
      "WARNING:tensorflow:Model was constructed with shape (None, 3, 1) for input KerasTensor(type_spec=TensorSpec(shape=(None, 3, 1), dtype=tf.float32, name='lstm_611_input'), name='lstm_611_input', description=\"created by layer 'lstm_611_input'\"), but it was called on an input with incompatible shape (None, 9, 1).\n",
      "WARNING:tensorflow:Model was constructed with shape (None, 3, 1) for input KerasTensor(type_spec=TensorSpec(shape=(None, 3, 1), dtype=tf.float32, name='lstm_611_input'), name='lstm_611_input', description=\"created by layer 'lstm_611_input'\"), but it was called on an input with incompatible shape (None, 9, 1).\n"
     ]
    }
   ],
   "source": [
    "res = []\n",
    "# 1 layer\n",
    "for unit in (4,8,16):\n",
    "    for time_step in (1,2,3):\n",
    "        for e in (200, 500):\n",
    "            res.append((([unit],time_step, e), LSTM_GS([unit], time_step, e)))\n",
    "\n",
    "# 2 layers\n",
    "for unit in (8,16,32):\n",
    "    for time_step in (1,2,3):\n",
    "        for e in (200, 500):\n",
    "            res.append((([unit, unit//2],time_step, e),LSTM_GS([unit, unit//2], time_step, e)))\n",
    "\n",
    "# 3 layers\n",
    "for unit in (8,16,32):\n",
    "    for time_step in (1,2,3):\n",
    "        for e in (200, 500):\n",
    "            res.append((([unit, unit//2, unit//4],time_step, e),LSTM_GS([unit, unit//2, unit//4], time_step, e)))"
   ]
  },
  {
   "cell_type": "code",
   "execution_count": 234,
   "metadata": {},
   "outputs": [
    {
     "data": {
      "text/plain": [
       "(([16], 2, 500), (3267.5697919222184, 1928.437725773618))"
      ]
     },
     "execution_count": 234,
     "metadata": {},
     "output_type": "execute_result"
    }
   ],
   "source": [
    "# best combi\n",
    "sorted(res, key = lambda x : x[1][1])[0]"
   ]
  },
  {
   "cell_type": "code",
   "execution_count": 235,
   "metadata": {},
   "outputs": [],
   "source": [
    "layer_config = sorted(res, key = lambda x : x[1][1])[0][0][0]\n",
    "time_config = sorted(res, key = lambda x : x[1][1])[0][0][1]\n",
    "e_config = sorted(res, key = lambda x : x[1][1])[0][0][2]"
   ]
  },
  {
   "cell_type": "code",
   "execution_count": 236,
   "metadata": {},
   "outputs": [
    {
     "name": "stdout",
     "output_type": "stream",
     "text": [
      "[16] 2 500\n"
     ]
    }
   ],
   "source": [
    "print(layer_config, time_config, e_config)"
   ]
  },
  {
   "cell_type": "markdown",
   "metadata": {},
   "source": [
    "#### 7. Define a function to retrain the model with selected hyperparameters and generate test rmse"
   ]
  },
  {
   "cell_type": "code",
   "execution_count": 193,
   "metadata": {},
   "outputs": [],
   "source": [
    "def LSTM_pipe(layer_spe, time_step, e, x, y):\n",
    "    regressor = Sequential()\n",
    "    count = 0\n",
    "    for unit in layer_spe:\n",
    "        count += 1 \n",
    "        if len(layer_spe) == 1:\n",
    "            regressor.add(LSTM(unit, activation = \"relu\", input_shape = (time_step, 1))) # batch size, time steps, data dimension\n",
    "            regressor.add(Dropout(0.3))\n",
    "        else:\n",
    "            if count == 1:\n",
    "                regressor.add(LSTM(unit, activation = \"relu\", return_sequences=True, input_shape = (time_step, 1))) # batch size, time steps, data dimension\n",
    "                regressor.add(Dropout(0.3))\n",
    "            elif count < len(layer_spe): \n",
    "                regressor.add(LSTM(unit, activation = \"relu\", return_sequences=True))\n",
    "                regressor.add(Dropout(0.3))\n",
    "            else:\n",
    "                regressor.add(LSTM(unit, activation = \"relu\"))\n",
    "                regressor.add(Dropout(0.3))\n",
    "            \n",
    "    regressor.add(Dense(units = 1))\n",
    "    regressor.compile(optimizer = 'Adam', loss = root_mean_squared_error)\n",
    "    regressor.fit(x, y, epochs = e, verbose = 0)\n",
    "    return regressor"
   ]
  },
  {
   "cell_type": "code",
   "execution_count": 245,
   "metadata": {},
   "outputs": [
    {
     "name": "stdout",
     "output_type": "stream",
     "text": [
      "WARNING:tensorflow:Model was constructed with shape (None, 3, 1) for input KerasTensor(type_spec=TensorSpec(shape=(None, 3, 1), dtype=tf.float32, name='lstm_737_input'), name='lstm_737_input', description=\"created by layer 'lstm_737_input'\"), but it was called on an input with incompatible shape (None, 13, 1).\n",
      "WARNING:tensorflow:Model was constructed with shape (None, 3, 1) for input KerasTensor(type_spec=TensorSpec(shape=(None, 3, 1), dtype=tf.float32, name='lstm_737_input'), name='lstm_737_input', description=\"created by layer 'lstm_737_input'\"), but it was called on an input with incompatible shape (None, 13, 1).\n"
     ]
    }
   ],
   "source": [
    "model = LSTM_pipe(layer_config, time_config, e_config, x_refit_trans, y_refit)"
   ]
  },
  {
   "cell_type": "code",
   "execution_count": 246,
   "metadata": {},
   "outputs": [
    {
     "name": "stdout",
     "output_type": "stream",
     "text": [
      "WARNING:tensorflow:Model was constructed with shape (None, 3, 1) for input KerasTensor(type_spec=TensorSpec(shape=(None, 3, 1), dtype=tf.float32, name='lstm_737_input'), name='lstm_737_input', description=\"created by layer 'lstm_737_input'\"), but it was called on an input with incompatible shape (None, 13, 1).\n"
     ]
    },
    {
     "data": {
      "text/plain": [
       "3107.08919370734"
      ]
     },
     "execution_count": 246,
     "metadata": {},
     "output_type": "execute_result"
    }
   ],
   "source": [
    "mean_squared_error(y_test, model.predict(x_test_trans), squared = False)"
   ]
  },
  {
   "cell_type": "markdown",
   "metadata": {},
   "source": [
    "#### 8. Backtesting"
   ]
  },
  {
   "cell_type": "code",
   "execution_count": null,
   "metadata": {},
   "outputs": [],
   "source": []
  },
  {
   "cell_type": "code",
   "execution_count": 243,
   "metadata": {},
   "outputs": [
    {
     "name": "stdout",
     "output_type": "stream",
     "text": [
      "WARNING:tensorflow:Model was constructed with shape (None, 2, 1) for input KerasTensor(type_spec=TensorSpec(shape=(None, 2, 1), dtype=tf.float32, name='lstm_736_input'), name='lstm_736_input', description=\"created by layer 'lstm_736_input'\"), but it was called on an input with incompatible shape (None, 13, 1).\n",
      "WARNING:tensorflow:Model was constructed with shape (None, 2, 1) for input KerasTensor(type_spec=TensorSpec(shape=(None, 2, 1), dtype=tf.float32, name='lstm_736_input'), name='lstm_736_input', description=\"created by layer 'lstm_736_input'\"), but it was called on an input with incompatible shape (None, 13, 1).\n",
      "WARNING:tensorflow:Model was constructed with shape (None, 2, 1) for input KerasTensor(type_spec=TensorSpec(shape=(None, 2, 1), dtype=tf.float32, name='lstm_736_input'), name='lstm_736_input', description=\"created by layer 'lstm_736_input'\"), but it was called on an input with incompatible shape (None, 13, 1).\n"
     ]
    }
   ],
   "source": [
    "# predicted value\n",
    "model = LSTM_pipe(layer_config2, time_config2, e_config2, x_full_trans, y_full)\n",
    "yhat = model.predict(x_full_trans, verbose=0)"
   ]
  },
  {
   "cell_type": "code",
   "execution_count": 244,
   "metadata": {},
   "outputs": [
    {
     "name": "stdout",
     "output_type": "stream",
     "text": [
      "31885.945\n",
      "31312.172\n",
      "34539.594\n",
      "35564.453\n",
      "35160.723\n",
      "36569.047\n",
      "39244.598\n",
      "42926.21\n",
      "43442.71\n",
      "41569.64\n",
      "40996.203\n",
      "40289.375\n",
      "36646.78\n",
      "39258.55\n",
      "40067.664\n",
      "37452.746\n",
      "36438.445\n",
      "35865.23\n",
      "36140.457\n",
      "37008.188\n",
      "38815.03\n",
      "35746.05\n",
      "37097.867\n",
      "34961.535\n",
      "35127.54\n",
      "36072.383\n",
      "35951.33\n",
      "32545.418\n",
      "34729.465\n",
      "37163.89\n",
      "34449.105\n",
      "32997.914\n",
      "35163.92\n",
      "37288.867\n",
      "38660.45\n",
      "38906.855\n",
      "39718.074\n",
      "41302.95\n",
      "40686.227\n",
      "50097.703\n",
      "49887.703\n",
      "48541.945\n",
      "50840.344\n",
      "50539.457\n",
      "49800.414\n",
      "51327.176\n",
      "50930.883\n",
      "51669.355\n",
      "54237.87\n",
      "51489.21\n",
      "56379.953\n",
      "56878.38\n",
      "57296.406\n",
      "56259.25\n",
      "52063.04\n",
      "51089.656\n",
      "45497.047\n",
      "61740.977\n",
      "43039.652\n",
      "42544.31\n",
      "48464.094\n",
      "46184.25\n",
      "47073.375\n",
      "43731.754\n",
      "45079.676\n",
      "44234.03\n",
      "46836.89\n",
      "47335.6\n",
      "51547.53\n",
      "54067.96\n",
      "56738.945\n",
      "56511.242\n",
      "60854.918\n",
      "57767.918\n",
      "56238.133\n",
      "56639.996\n",
      "59334.77\n",
      "56675.93\n",
      "56487.01\n",
      "56526.523\n",
      "55817.457\n",
      "53684.832\n",
      "53192.188\n",
      "51378.414\n",
      "50518.402\n",
      "54589.984\n",
      "54827.117\n",
      "54822.53\n",
      "56917.145\n",
      "57184.8\n",
      "58555.812\n",
      "59814.008\n",
      "60035.59\n",
      "58257.875\n",
      "58867.348\n",
      "61149.1\n",
      "60994.277\n",
      "59571.07\n",
      "61217.66\n",
      "61380.562\n",
      "63734.016\n",
      "63379.38\n"
     ]
    }
   ],
   "source": [
    "for b in [x[0] for x in yhat]:\n",
    "    print(b)"
   ]
  },
  {
   "cell_type": "code",
   "execution_count": 241,
   "metadata": {},
   "outputs": [
    {
     "data": {
      "text/plain": [
       "3215.81206583314"
      ]
     },
     "execution_count": 241,
     "metadata": {},
     "output_type": "execute_result"
    }
   ],
   "source": [
    "mean_squared_error(y_full, model.predict(x_full_trans), squared = False)"
   ]
  },
  {
   "cell_type": "code",
   "execution_count": 206,
   "metadata": {},
   "outputs": [],
   "source": [
    "# weighted sentiments\n",
    "sentiments = features[features[\"date\"].isin(data.date)]\n",
    "sentiments = (sentiments[\"coindesk_sentiment\"] + sentiments[\"reddit_comments_sentiments\"] + sentiments[\"top_50_reddit_posts_sentiments\"]) / 3\n",
    "sentiments = [\"positive\" if x > 0.2 else \"negative\" for x in sentiments]"
   ]
  },
  {
   "cell_type": "code",
   "execution_count": 207,
   "metadata": {},
   "outputs": [
    {
     "name": "stdout",
     "output_type": "stream",
     "text": [
      "positive\n",
      "positive\n",
      "positive\n",
      "positive\n",
      "positive\n",
      "positive\n",
      "positive\n",
      "positive\n",
      "positive\n",
      "positive\n",
      "negative\n",
      "positive\n",
      "positive\n",
      "positive\n",
      "positive\n",
      "positive\n",
      "positive\n",
      "positive\n",
      "positive\n",
      "negative\n",
      "positive\n",
      "negative\n",
      "positive\n",
      "negative\n",
      "positive\n",
      "positive\n",
      "positive\n",
      "positive\n",
      "positive\n",
      "positive\n",
      "positive\n",
      "positive\n",
      "positive\n",
      "positive\n",
      "positive\n",
      "positive\n",
      "positive\n",
      "positive\n",
      "positive\n",
      "positive\n",
      "positive\n",
      "positive\n",
      "positive\n",
      "positive\n",
      "positive\n",
      "positive\n",
      "positive\n",
      "positive\n",
      "positive\n",
      "positive\n",
      "positive\n",
      "positive\n",
      "positive\n",
      "positive\n",
      "positive\n",
      "positive\n",
      "positive\n",
      "negative\n",
      "positive\n",
      "positive\n",
      "positive\n",
      "positive\n",
      "positive\n",
      "positive\n",
      "positive\n",
      "positive\n",
      "positive\n",
      "positive\n",
      "positive\n",
      "positive\n",
      "positive\n",
      "negative\n",
      "positive\n",
      "positive\n",
      "positive\n",
      "positive\n",
      "positive\n",
      "positive\n",
      "positive\n",
      "positive\n",
      "positive\n",
      "positive\n",
      "positive\n",
      "positive\n",
      "positive\n",
      "negative\n",
      "negative\n",
      "negative\n",
      "negative\n",
      "positive\n",
      "negative\n",
      "negative\n",
      "positive\n",
      "negative\n",
      "positive\n",
      "positive\n",
      "negative\n",
      "negative\n",
      "positive\n",
      "positive\n",
      "negative\n",
      "positive\n"
     ]
    }
   ],
   "source": [
    "for s in sentiments:\n",
    "    print(s)"
   ]
  },
  {
   "cell_type": "markdown",
   "metadata": {},
   "source": [
    "## With Sentiments"
   ]
  },
  {
   "cell_type": "code",
   "execution_count": 208,
   "metadata": {},
   "outputs": [],
   "source": [
    "feature_lags = {\"Adj_Close_BTC-USD\" : 1, \n",
    "                \"Volume_BTC-USD\" : 1, \n",
    "                \"Adj_Close_SPY\" : 1,\n",
    "                \"Adj_Close_GLD\" : 1,\n",
    "                \"Adj_Close_CHFUSD=X\" : 1,\n",
    "                \"Adj_Close_EURUSD=X\" : 1,\n",
    "                \"Adj_Close_GBPUSD=X\" : 1,\n",
    "                \"Adj_Close_JPYUSD=X\" : 1,\n",
    "                \"blockchain_transactions_per_block\" : 1,\n",
    "                \"blockchain_hash_rates\" : 1,\n",
    "                \"coindesk_sentiment\" : 1,\n",
    "                \"reddit_comments_sentiments\" : 1,\n",
    "                \"top_50_reddit_posts_sentiments\" : 1}\n",
    "\n",
    "data = lag(features, feature_lags)\n",
    "\n",
    "data = data[(data[\"date\"] >= \"2021-01-01\") & (data[\"date\"] <= \"2021-04-12\")]\n",
    "\n",
    "train = data[(data[\"date\"] >= \"2021-01-01\") & (data[\"date\"] <= \"2021-03-14\")]\n",
    "validation = data[(data[\"date\"] >= \"2021-03-15\") & (data[\"date\"] <= \"2021-03-29\")]\n",
    "test = data[(data[\"date\"] >= \"2021-03-30\") & (data[\"date\"] <= \"2021-04-12\")]\n",
    "\n",
    "refit = data[(data[\"date\"] >= \"2021-01-01\") & (data[\"date\"] <= \"2021-03-29\")]\n",
    "full = data.copy(deep = True)\n",
    "\n",
    "\n",
    "x_train = train.drop([\"date\", \"Adj_Close_BTC-USD\"], axis = 1)\n",
    "y_train = train[\"Adj_Close_BTC-USD\"]\n",
    "\n",
    "x_val = validation.drop([\"date\", \"Adj_Close_BTC-USD\"], axis = 1)\n",
    "y_val = validation[\"Adj_Close_BTC-USD\"]\n",
    "\n",
    "x_test = test.drop([\"date\", \"Adj_Close_BTC-USD\"], axis = 1)\n",
    "y_test = test[\"Adj_Close_BTC-USD\"]\n",
    "\n",
    "x_refit = refit.drop([\"date\", \"Adj_Close_BTC-USD\"], axis = 1)\n",
    "y_refit = refit[\"Adj_Close_BTC-USD\"]\n",
    "\n",
    "x_full = full.drop([\"date\", \"Adj_Close_BTC-USD\"], axis = 1)\n",
    "y_full = full[\"Adj_Close_BTC-USD\"]\n",
    "\n",
    "sc = MinMaxScaler(feature_range = (0, 1))\n",
    "sc.fit(x_train)\n",
    "x_train_trans = sc.transform(x_train)\n",
    "x_val_trans = sc.transform(x_val)\n",
    "x_test_trans = sc.transform(x_test)\n",
    "\n",
    "sc2 = MinMaxScaler(feature_range = (0, 1))\n",
    "sc2.fit(x_refit)\n",
    "x_refit_trans = sc2.transform(x_refit)\n",
    "\n",
    "sc3 = MinMaxScaler(feature_range = (0, 1))\n",
    "sc3.fit(x_full)\n",
    "x_full_trans = sc3.transform(x_full)\n",
    "\n",
    "x_train_trans = x_train_trans.reshape(x_train_trans.shape[0], x_train_trans.shape[1], 1)\n",
    "x_val_trans = x_val_trans.reshape(x_val_trans.shape[0], x_val_trans.shape[1], 1)\n",
    "x_test_trans = x_test_trans.reshape(x_test_trans.shape[0], x_test_trans.shape[1], 1)\n",
    "x_refit_trans = x_refit_trans.reshape(x_refit_trans.shape[0], x_refit_trans.shape[1], 1)\n",
    "x_full_trans = x_full_trans.reshape(x_full_trans.shape[0], x_full_trans.shape[1], 1)"
   ]
  },
  {
   "cell_type": "code",
   "execution_count": 209,
   "metadata": {},
   "outputs": [
    {
     "name": "stdout",
     "output_type": "stream",
     "text": [
      "WARNING:tensorflow:Model was constructed with shape (None, 1, 1) for input KerasTensor(type_spec=TensorSpec(shape=(None, 1, 1), dtype=tf.float32, name='lstm_616_input'), name='lstm_616_input', description=\"created by layer 'lstm_616_input'\"), but it was called on an input with incompatible shape (None, 13, 1).\n",
      "WARNING:tensorflow:Model was constructed with shape (None, 1, 1) for input KerasTensor(type_spec=TensorSpec(shape=(None, 1, 1), dtype=tf.float32, name='lstm_616_input'), name='lstm_616_input', description=\"created by layer 'lstm_616_input'\"), but it was called on an input with incompatible shape (None, 13, 1).\n",
      "WARNING:tensorflow:Model was constructed with shape (None, 1, 1) for input KerasTensor(type_spec=TensorSpec(shape=(None, 1, 1), dtype=tf.float32, name='lstm_616_input'), name='lstm_616_input', description=\"created by layer 'lstm_616_input'\"), but it was called on an input with incompatible shape (None, 13, 1).\n",
      "WARNING:tensorflow:Model was constructed with shape (None, 1, 1) for input KerasTensor(type_spec=TensorSpec(shape=(None, 1, 1), dtype=tf.float32, name='lstm_617_input'), name='lstm_617_input', description=\"created by layer 'lstm_617_input'\"), but it was called on an input with incompatible shape (None, 13, 1).\n",
      "WARNING:tensorflow:Model was constructed with shape (None, 1, 1) for input KerasTensor(type_spec=TensorSpec(shape=(None, 1, 1), dtype=tf.float32, name='lstm_617_input'), name='lstm_617_input', description=\"created by layer 'lstm_617_input'\"), but it was called on an input with incompatible shape (None, 13, 1).\n",
      "WARNING:tensorflow:Model was constructed with shape (None, 1, 1) for input KerasTensor(type_spec=TensorSpec(shape=(None, 1, 1), dtype=tf.float32, name='lstm_617_input'), name='lstm_617_input', description=\"created by layer 'lstm_617_input'\"), but it was called on an input with incompatible shape (None, 13, 1).\n",
      "WARNING:tensorflow:Model was constructed with shape (None, 2, 1) for input KerasTensor(type_spec=TensorSpec(shape=(None, 2, 1), dtype=tf.float32, name='lstm_618_input'), name='lstm_618_input', description=\"created by layer 'lstm_618_input'\"), but it was called on an input with incompatible shape (None, 13, 1).\n",
      "WARNING:tensorflow:Model was constructed with shape (None, 2, 1) for input KerasTensor(type_spec=TensorSpec(shape=(None, 2, 1), dtype=tf.float32, name='lstm_618_input'), name='lstm_618_input', description=\"created by layer 'lstm_618_input'\"), but it was called on an input with incompatible shape (None, 13, 1).\n",
      "WARNING:tensorflow:Model was constructed with shape (None, 2, 1) for input KerasTensor(type_spec=TensorSpec(shape=(None, 2, 1), dtype=tf.float32, name='lstm_618_input'), name='lstm_618_input', description=\"created by layer 'lstm_618_input'\"), but it was called on an input with incompatible shape (None, 13, 1).\n",
      "WARNING:tensorflow:Model was constructed with shape (None, 2, 1) for input KerasTensor(type_spec=TensorSpec(shape=(None, 2, 1), dtype=tf.float32, name='lstm_619_input'), name='lstm_619_input', description=\"created by layer 'lstm_619_input'\"), but it was called on an input with incompatible shape (None, 13, 1).\n",
      "WARNING:tensorflow:Model was constructed with shape (None, 2, 1) for input KerasTensor(type_spec=TensorSpec(shape=(None, 2, 1), dtype=tf.float32, name='lstm_619_input'), name='lstm_619_input', description=\"created by layer 'lstm_619_input'\"), but it was called on an input with incompatible shape (None, 13, 1).\n",
      "WARNING:tensorflow:Model was constructed with shape (None, 2, 1) for input KerasTensor(type_spec=TensorSpec(shape=(None, 2, 1), dtype=tf.float32, name='lstm_619_input'), name='lstm_619_input', description=\"created by layer 'lstm_619_input'\"), but it was called on an input with incompatible shape (None, 13, 1).\n",
      "WARNING:tensorflow:Model was constructed with shape (None, 3, 1) for input KerasTensor(type_spec=TensorSpec(shape=(None, 3, 1), dtype=tf.float32, name='lstm_620_input'), name='lstm_620_input', description=\"created by layer 'lstm_620_input'\"), but it was called on an input with incompatible shape (None, 13, 1).\n",
      "WARNING:tensorflow:Model was constructed with shape (None, 3, 1) for input KerasTensor(type_spec=TensorSpec(shape=(None, 3, 1), dtype=tf.float32, name='lstm_620_input'), name='lstm_620_input', description=\"created by layer 'lstm_620_input'\"), but it was called on an input with incompatible shape (None, 13, 1).\n",
      "WARNING:tensorflow:Model was constructed with shape (None, 3, 1) for input KerasTensor(type_spec=TensorSpec(shape=(None, 3, 1), dtype=tf.float32, name='lstm_620_input'), name='lstm_620_input', description=\"created by layer 'lstm_620_input'\"), but it was called on an input with incompatible shape (None, 13, 1).\n",
      "WARNING:tensorflow:Model was constructed with shape (None, 3, 1) for input KerasTensor(type_spec=TensorSpec(shape=(None, 3, 1), dtype=tf.float32, name='lstm_621_input'), name='lstm_621_input', description=\"created by layer 'lstm_621_input'\"), but it was called on an input with incompatible shape (None, 13, 1).\n",
      "WARNING:tensorflow:Model was constructed with shape (None, 3, 1) for input KerasTensor(type_spec=TensorSpec(shape=(None, 3, 1), dtype=tf.float32, name='lstm_621_input'), name='lstm_621_input', description=\"created by layer 'lstm_621_input'\"), but it was called on an input with incompatible shape (None, 13, 1).\n",
      "WARNING:tensorflow:Model was constructed with shape (None, 3, 1) for input KerasTensor(type_spec=TensorSpec(shape=(None, 3, 1), dtype=tf.float32, name='lstm_621_input'), name='lstm_621_input', description=\"created by layer 'lstm_621_input'\"), but it was called on an input with incompatible shape (None, 13, 1).\n",
      "WARNING:tensorflow:Model was constructed with shape (None, 1, 1) for input KerasTensor(type_spec=TensorSpec(shape=(None, 1, 1), dtype=tf.float32, name='lstm_622_input'), name='lstm_622_input', description=\"created by layer 'lstm_622_input'\"), but it was called on an input with incompatible shape (None, 13, 1).\n",
      "WARNING:tensorflow:Model was constructed with shape (None, 1, 1) for input KerasTensor(type_spec=TensorSpec(shape=(None, 1, 1), dtype=tf.float32, name='lstm_622_input'), name='lstm_622_input', description=\"created by layer 'lstm_622_input'\"), but it was called on an input with incompatible shape (None, 13, 1).\n",
      "WARNING:tensorflow:Model was constructed with shape (None, 1, 1) for input KerasTensor(type_spec=TensorSpec(shape=(None, 1, 1), dtype=tf.float32, name='lstm_622_input'), name='lstm_622_input', description=\"created by layer 'lstm_622_input'\"), but it was called on an input with incompatible shape (None, 13, 1).\n",
      "WARNING:tensorflow:Model was constructed with shape (None, 1, 1) for input KerasTensor(type_spec=TensorSpec(shape=(None, 1, 1), dtype=tf.float32, name='lstm_623_input'), name='lstm_623_input', description=\"created by layer 'lstm_623_input'\"), but it was called on an input with incompatible shape (None, 13, 1).\n",
      "WARNING:tensorflow:Model was constructed with shape (None, 1, 1) for input KerasTensor(type_spec=TensorSpec(shape=(None, 1, 1), dtype=tf.float32, name='lstm_623_input'), name='lstm_623_input', description=\"created by layer 'lstm_623_input'\"), but it was called on an input with incompatible shape (None, 13, 1).\n",
      "WARNING:tensorflow:Model was constructed with shape (None, 1, 1) for input KerasTensor(type_spec=TensorSpec(shape=(None, 1, 1), dtype=tf.float32, name='lstm_623_input'), name='lstm_623_input', description=\"created by layer 'lstm_623_input'\"), but it was called on an input with incompatible shape (None, 13, 1).\n",
      "WARNING:tensorflow:Model was constructed with shape (None, 2, 1) for input KerasTensor(type_spec=TensorSpec(shape=(None, 2, 1), dtype=tf.float32, name='lstm_624_input'), name='lstm_624_input', description=\"created by layer 'lstm_624_input'\"), but it was called on an input with incompatible shape (None, 13, 1).\n",
      "WARNING:tensorflow:Model was constructed with shape (None, 2, 1) for input KerasTensor(type_spec=TensorSpec(shape=(None, 2, 1), dtype=tf.float32, name='lstm_624_input'), name='lstm_624_input', description=\"created by layer 'lstm_624_input'\"), but it was called on an input with incompatible shape (None, 13, 1).\n",
      "WARNING:tensorflow:Model was constructed with shape (None, 2, 1) for input KerasTensor(type_spec=TensorSpec(shape=(None, 2, 1), dtype=tf.float32, name='lstm_624_input'), name='lstm_624_input', description=\"created by layer 'lstm_624_input'\"), but it was called on an input with incompatible shape (None, 13, 1).\n"
     ]
    },
    {
     "name": "stdout",
     "output_type": "stream",
     "text": [
      "WARNING:tensorflow:Model was constructed with shape (None, 2, 1) for input KerasTensor(type_spec=TensorSpec(shape=(None, 2, 1), dtype=tf.float32, name='lstm_625_input'), name='lstm_625_input', description=\"created by layer 'lstm_625_input'\"), but it was called on an input with incompatible shape (None, 13, 1).\n",
      "WARNING:tensorflow:Model was constructed with shape (None, 2, 1) for input KerasTensor(type_spec=TensorSpec(shape=(None, 2, 1), dtype=tf.float32, name='lstm_625_input'), name='lstm_625_input', description=\"created by layer 'lstm_625_input'\"), but it was called on an input with incompatible shape (None, 13, 1).\n",
      "WARNING:tensorflow:Model was constructed with shape (None, 2, 1) for input KerasTensor(type_spec=TensorSpec(shape=(None, 2, 1), dtype=tf.float32, name='lstm_625_input'), name='lstm_625_input', description=\"created by layer 'lstm_625_input'\"), but it was called on an input with incompatible shape (None, 13, 1).\n",
      "WARNING:tensorflow:Model was constructed with shape (None, 3, 1) for input KerasTensor(type_spec=TensorSpec(shape=(None, 3, 1), dtype=tf.float32, name='lstm_626_input'), name='lstm_626_input', description=\"created by layer 'lstm_626_input'\"), but it was called on an input with incompatible shape (None, 13, 1).\n",
      "WARNING:tensorflow:Model was constructed with shape (None, 3, 1) for input KerasTensor(type_spec=TensorSpec(shape=(None, 3, 1), dtype=tf.float32, name='lstm_626_input'), name='lstm_626_input', description=\"created by layer 'lstm_626_input'\"), but it was called on an input with incompatible shape (None, 13, 1).\n",
      "WARNING:tensorflow:Model was constructed with shape (None, 3, 1) for input KerasTensor(type_spec=TensorSpec(shape=(None, 3, 1), dtype=tf.float32, name='lstm_626_input'), name='lstm_626_input', description=\"created by layer 'lstm_626_input'\"), but it was called on an input with incompatible shape (None, 13, 1).\n",
      "WARNING:tensorflow:Model was constructed with shape (None, 3, 1) for input KerasTensor(type_spec=TensorSpec(shape=(None, 3, 1), dtype=tf.float32, name='lstm_627_input'), name='lstm_627_input', description=\"created by layer 'lstm_627_input'\"), but it was called on an input with incompatible shape (None, 13, 1).\n",
      "WARNING:tensorflow:Model was constructed with shape (None, 3, 1) for input KerasTensor(type_spec=TensorSpec(shape=(None, 3, 1), dtype=tf.float32, name='lstm_627_input'), name='lstm_627_input', description=\"created by layer 'lstm_627_input'\"), but it was called on an input with incompatible shape (None, 13, 1).\n",
      "WARNING:tensorflow:Model was constructed with shape (None, 3, 1) for input KerasTensor(type_spec=TensorSpec(shape=(None, 3, 1), dtype=tf.float32, name='lstm_627_input'), name='lstm_627_input', description=\"created by layer 'lstm_627_input'\"), but it was called on an input with incompatible shape (None, 13, 1).\n",
      "WARNING:tensorflow:Model was constructed with shape (None, 1, 1) for input KerasTensor(type_spec=TensorSpec(shape=(None, 1, 1), dtype=tf.float32, name='lstm_628_input'), name='lstm_628_input', description=\"created by layer 'lstm_628_input'\"), but it was called on an input with incompatible shape (None, 13, 1).\n",
      "WARNING:tensorflow:Model was constructed with shape (None, 1, 1) for input KerasTensor(type_spec=TensorSpec(shape=(None, 1, 1), dtype=tf.float32, name='lstm_628_input'), name='lstm_628_input', description=\"created by layer 'lstm_628_input'\"), but it was called on an input with incompatible shape (None, 13, 1).\n",
      "WARNING:tensorflow:Model was constructed with shape (None, 1, 1) for input KerasTensor(type_spec=TensorSpec(shape=(None, 1, 1), dtype=tf.float32, name='lstm_628_input'), name='lstm_628_input', description=\"created by layer 'lstm_628_input'\"), but it was called on an input with incompatible shape (None, 13, 1).\n",
      "WARNING:tensorflow:Model was constructed with shape (None, 1, 1) for input KerasTensor(type_spec=TensorSpec(shape=(None, 1, 1), dtype=tf.float32, name='lstm_629_input'), name='lstm_629_input', description=\"created by layer 'lstm_629_input'\"), but it was called on an input with incompatible shape (None, 13, 1).\n",
      "WARNING:tensorflow:Model was constructed with shape (None, 1, 1) for input KerasTensor(type_spec=TensorSpec(shape=(None, 1, 1), dtype=tf.float32, name='lstm_629_input'), name='lstm_629_input', description=\"created by layer 'lstm_629_input'\"), but it was called on an input with incompatible shape (None, 13, 1).\n",
      "WARNING:tensorflow:Model was constructed with shape (None, 1, 1) for input KerasTensor(type_spec=TensorSpec(shape=(None, 1, 1), dtype=tf.float32, name='lstm_629_input'), name='lstm_629_input', description=\"created by layer 'lstm_629_input'\"), but it was called on an input with incompatible shape (None, 13, 1).\n",
      "WARNING:tensorflow:Model was constructed with shape (None, 2, 1) for input KerasTensor(type_spec=TensorSpec(shape=(None, 2, 1), dtype=tf.float32, name='lstm_630_input'), name='lstm_630_input', description=\"created by layer 'lstm_630_input'\"), but it was called on an input with incompatible shape (None, 13, 1).\n",
      "WARNING:tensorflow:Model was constructed with shape (None, 2, 1) for input KerasTensor(type_spec=TensorSpec(shape=(None, 2, 1), dtype=tf.float32, name='lstm_630_input'), name='lstm_630_input', description=\"created by layer 'lstm_630_input'\"), but it was called on an input with incompatible shape (None, 13, 1).\n",
      "WARNING:tensorflow:Model was constructed with shape (None, 2, 1) for input KerasTensor(type_spec=TensorSpec(shape=(None, 2, 1), dtype=tf.float32, name='lstm_630_input'), name='lstm_630_input', description=\"created by layer 'lstm_630_input'\"), but it was called on an input with incompatible shape (None, 13, 1).\n",
      "WARNING:tensorflow:Model was constructed with shape (None, 2, 1) for input KerasTensor(type_spec=TensorSpec(shape=(None, 2, 1), dtype=tf.float32, name='lstm_631_input'), name='lstm_631_input', description=\"created by layer 'lstm_631_input'\"), but it was called on an input with incompatible shape (None, 13, 1).\n",
      "WARNING:tensorflow:Model was constructed with shape (None, 2, 1) for input KerasTensor(type_spec=TensorSpec(shape=(None, 2, 1), dtype=tf.float32, name='lstm_631_input'), name='lstm_631_input', description=\"created by layer 'lstm_631_input'\"), but it was called on an input with incompatible shape (None, 13, 1).\n",
      "WARNING:tensorflow:Model was constructed with shape (None, 2, 1) for input KerasTensor(type_spec=TensorSpec(shape=(None, 2, 1), dtype=tf.float32, name='lstm_631_input'), name='lstm_631_input', description=\"created by layer 'lstm_631_input'\"), but it was called on an input with incompatible shape (None, 13, 1).\n",
      "WARNING:tensorflow:Model was constructed with shape (None, 3, 1) for input KerasTensor(type_spec=TensorSpec(shape=(None, 3, 1), dtype=tf.float32, name='lstm_632_input'), name='lstm_632_input', description=\"created by layer 'lstm_632_input'\"), but it was called on an input with incompatible shape (None, 13, 1).\n",
      "WARNING:tensorflow:Model was constructed with shape (None, 3, 1) for input KerasTensor(type_spec=TensorSpec(shape=(None, 3, 1), dtype=tf.float32, name='lstm_632_input'), name='lstm_632_input', description=\"created by layer 'lstm_632_input'\"), but it was called on an input with incompatible shape (None, 13, 1).\n",
      "WARNING:tensorflow:Model was constructed with shape (None, 3, 1) for input KerasTensor(type_spec=TensorSpec(shape=(None, 3, 1), dtype=tf.float32, name='lstm_632_input'), name='lstm_632_input', description=\"created by layer 'lstm_632_input'\"), but it was called on an input with incompatible shape (None, 13, 1).\n",
      "WARNING:tensorflow:Model was constructed with shape (None, 3, 1) for input KerasTensor(type_spec=TensorSpec(shape=(None, 3, 1), dtype=tf.float32, name='lstm_633_input'), name='lstm_633_input', description=\"created by layer 'lstm_633_input'\"), but it was called on an input with incompatible shape (None, 13, 1).\n",
      "WARNING:tensorflow:Model was constructed with shape (None, 3, 1) for input KerasTensor(type_spec=TensorSpec(shape=(None, 3, 1), dtype=tf.float32, name='lstm_633_input'), name='lstm_633_input', description=\"created by layer 'lstm_633_input'\"), but it was called on an input with incompatible shape (None, 13, 1).\n",
      "WARNING:tensorflow:Model was constructed with shape (None, 3, 1) for input KerasTensor(type_spec=TensorSpec(shape=(None, 3, 1), dtype=tf.float32, name='lstm_633_input'), name='lstm_633_input', description=\"created by layer 'lstm_633_input'\"), but it was called on an input with incompatible shape (None, 13, 1).\n"
     ]
    },
    {
     "name": "stdout",
     "output_type": "stream",
     "text": [
      "WARNING:tensorflow:Model was constructed with shape (None, 1, 1) for input KerasTensor(type_spec=TensorSpec(shape=(None, 1, 1), dtype=tf.float32, name='lstm_634_input'), name='lstm_634_input', description=\"created by layer 'lstm_634_input'\"), but it was called on an input with incompatible shape (None, 13, 1).\n",
      "WARNING:tensorflow:Model was constructed with shape (None, 1, 1) for input KerasTensor(type_spec=TensorSpec(shape=(None, 1, 1), dtype=tf.float32, name='lstm_634_input'), name='lstm_634_input', description=\"created by layer 'lstm_634_input'\"), but it was called on an input with incompatible shape (None, 13, 1).\n",
      "WARNING:tensorflow:Model was constructed with shape (None, 1, 1) for input KerasTensor(type_spec=TensorSpec(shape=(None, 1, 1), dtype=tf.float32, name='lstm_634_input'), name='lstm_634_input', description=\"created by layer 'lstm_634_input'\"), but it was called on an input with incompatible shape (None, 13, 1).\n",
      "WARNING:tensorflow:Model was constructed with shape (None, 1, 1) for input KerasTensor(type_spec=TensorSpec(shape=(None, 1, 1), dtype=tf.float32, name='lstm_636_input'), name='lstm_636_input', description=\"created by layer 'lstm_636_input'\"), but it was called on an input with incompatible shape (None, 13, 1).\n",
      "WARNING:tensorflow:Model was constructed with shape (None, 1, 1) for input KerasTensor(type_spec=TensorSpec(shape=(None, 1, 1), dtype=tf.float32, name='lstm_636_input'), name='lstm_636_input', description=\"created by layer 'lstm_636_input'\"), but it was called on an input with incompatible shape (None, 13, 1).\n",
      "WARNING:tensorflow:Model was constructed with shape (None, 1, 1) for input KerasTensor(type_spec=TensorSpec(shape=(None, 1, 1), dtype=tf.float32, name='lstm_636_input'), name='lstm_636_input', description=\"created by layer 'lstm_636_input'\"), but it was called on an input with incompatible shape (None, 13, 1).\n",
      "WARNING:tensorflow:Model was constructed with shape (None, 2, 1) for input KerasTensor(type_spec=TensorSpec(shape=(None, 2, 1), dtype=tf.float32, name='lstm_638_input'), name='lstm_638_input', description=\"created by layer 'lstm_638_input'\"), but it was called on an input with incompatible shape (None, 13, 1).\n",
      "WARNING:tensorflow:Model was constructed with shape (None, 2, 1) for input KerasTensor(type_spec=TensorSpec(shape=(None, 2, 1), dtype=tf.float32, name='lstm_638_input'), name='lstm_638_input', description=\"created by layer 'lstm_638_input'\"), but it was called on an input with incompatible shape (None, 13, 1).\n",
      "WARNING:tensorflow:Model was constructed with shape (None, 2, 1) for input KerasTensor(type_spec=TensorSpec(shape=(None, 2, 1), dtype=tf.float32, name='lstm_638_input'), name='lstm_638_input', description=\"created by layer 'lstm_638_input'\"), but it was called on an input with incompatible shape (None, 13, 1).\n",
      "WARNING:tensorflow:Model was constructed with shape (None, 2, 1) for input KerasTensor(type_spec=TensorSpec(shape=(None, 2, 1), dtype=tf.float32, name='lstm_640_input'), name='lstm_640_input', description=\"created by layer 'lstm_640_input'\"), but it was called on an input with incompatible shape (None, 13, 1).\n",
      "WARNING:tensorflow:Model was constructed with shape (None, 2, 1) for input KerasTensor(type_spec=TensorSpec(shape=(None, 2, 1), dtype=tf.float32, name='lstm_640_input'), name='lstm_640_input', description=\"created by layer 'lstm_640_input'\"), but it was called on an input with incompatible shape (None, 13, 1).\n",
      "WARNING:tensorflow:Model was constructed with shape (None, 2, 1) for input KerasTensor(type_spec=TensorSpec(shape=(None, 2, 1), dtype=tf.float32, name='lstm_640_input'), name='lstm_640_input', description=\"created by layer 'lstm_640_input'\"), but it was called on an input with incompatible shape (None, 13, 1).\n",
      "WARNING:tensorflow:Model was constructed with shape (None, 3, 1) for input KerasTensor(type_spec=TensorSpec(shape=(None, 3, 1), dtype=tf.float32, name='lstm_642_input'), name='lstm_642_input', description=\"created by layer 'lstm_642_input'\"), but it was called on an input with incompatible shape (None, 13, 1).\n",
      "WARNING:tensorflow:Model was constructed with shape (None, 3, 1) for input KerasTensor(type_spec=TensorSpec(shape=(None, 3, 1), dtype=tf.float32, name='lstm_642_input'), name='lstm_642_input', description=\"created by layer 'lstm_642_input'\"), but it was called on an input with incompatible shape (None, 13, 1).\n",
      "WARNING:tensorflow:Model was constructed with shape (None, 3, 1) for input KerasTensor(type_spec=TensorSpec(shape=(None, 3, 1), dtype=tf.float32, name='lstm_642_input'), name='lstm_642_input', description=\"created by layer 'lstm_642_input'\"), but it was called on an input with incompatible shape (None, 13, 1).\n",
      "WARNING:tensorflow:Model was constructed with shape (None, 3, 1) for input KerasTensor(type_spec=TensorSpec(shape=(None, 3, 1), dtype=tf.float32, name='lstm_644_input'), name='lstm_644_input', description=\"created by layer 'lstm_644_input'\"), but it was called on an input with incompatible shape (None, 13, 1).\n",
      "WARNING:tensorflow:Model was constructed with shape (None, 3, 1) for input KerasTensor(type_spec=TensorSpec(shape=(None, 3, 1), dtype=tf.float32, name='lstm_644_input'), name='lstm_644_input', description=\"created by layer 'lstm_644_input'\"), but it was called on an input with incompatible shape (None, 13, 1).\n",
      "WARNING:tensorflow:Model was constructed with shape (None, 3, 1) for input KerasTensor(type_spec=TensorSpec(shape=(None, 3, 1), dtype=tf.float32, name='lstm_644_input'), name='lstm_644_input', description=\"created by layer 'lstm_644_input'\"), but it was called on an input with incompatible shape (None, 13, 1).\n",
      "WARNING:tensorflow:Model was constructed with shape (None, 1, 1) for input KerasTensor(type_spec=TensorSpec(shape=(None, 1, 1), dtype=tf.float32, name='lstm_646_input'), name='lstm_646_input', description=\"created by layer 'lstm_646_input'\"), but it was called on an input with incompatible shape (None, 13, 1).\n",
      "WARNING:tensorflow:Model was constructed with shape (None, 1, 1) for input KerasTensor(type_spec=TensorSpec(shape=(None, 1, 1), dtype=tf.float32, name='lstm_646_input'), name='lstm_646_input', description=\"created by layer 'lstm_646_input'\"), but it was called on an input with incompatible shape (None, 13, 1).\n",
      "WARNING:tensorflow:Model was constructed with shape (None, 1, 1) for input KerasTensor(type_spec=TensorSpec(shape=(None, 1, 1), dtype=tf.float32, name='lstm_646_input'), name='lstm_646_input', description=\"created by layer 'lstm_646_input'\"), but it was called on an input with incompatible shape (None, 13, 1).\n",
      "WARNING:tensorflow:Model was constructed with shape (None, 1, 1) for input KerasTensor(type_spec=TensorSpec(shape=(None, 1, 1), dtype=tf.float32, name='lstm_648_input'), name='lstm_648_input', description=\"created by layer 'lstm_648_input'\"), but it was called on an input with incompatible shape (None, 13, 1).\n",
      "WARNING:tensorflow:Model was constructed with shape (None, 1, 1) for input KerasTensor(type_spec=TensorSpec(shape=(None, 1, 1), dtype=tf.float32, name='lstm_648_input'), name='lstm_648_input', description=\"created by layer 'lstm_648_input'\"), but it was called on an input with incompatible shape (None, 13, 1).\n",
      "WARNING:tensorflow:Model was constructed with shape (None, 1, 1) for input KerasTensor(type_spec=TensorSpec(shape=(None, 1, 1), dtype=tf.float32, name='lstm_648_input'), name='lstm_648_input', description=\"created by layer 'lstm_648_input'\"), but it was called on an input with incompatible shape (None, 13, 1).\n",
      "WARNING:tensorflow:Model was constructed with shape (None, 2, 1) for input KerasTensor(type_spec=TensorSpec(shape=(None, 2, 1), dtype=tf.float32, name='lstm_650_input'), name='lstm_650_input', description=\"created by layer 'lstm_650_input'\"), but it was called on an input with incompatible shape (None, 13, 1).\n",
      "WARNING:tensorflow:Model was constructed with shape (None, 2, 1) for input KerasTensor(type_spec=TensorSpec(shape=(None, 2, 1), dtype=tf.float32, name='lstm_650_input'), name='lstm_650_input', description=\"created by layer 'lstm_650_input'\"), but it was called on an input with incompatible shape (None, 13, 1).\n",
      "WARNING:tensorflow:Model was constructed with shape (None, 2, 1) for input KerasTensor(type_spec=TensorSpec(shape=(None, 2, 1), dtype=tf.float32, name='lstm_650_input'), name='lstm_650_input', description=\"created by layer 'lstm_650_input'\"), but it was called on an input with incompatible shape (None, 13, 1).\n"
     ]
    },
    {
     "name": "stdout",
     "output_type": "stream",
     "text": [
      "WARNING:tensorflow:Model was constructed with shape (None, 2, 1) for input KerasTensor(type_spec=TensorSpec(shape=(None, 2, 1), dtype=tf.float32, name='lstm_652_input'), name='lstm_652_input', description=\"created by layer 'lstm_652_input'\"), but it was called on an input with incompatible shape (None, 13, 1).\n",
      "WARNING:tensorflow:Model was constructed with shape (None, 2, 1) for input KerasTensor(type_spec=TensorSpec(shape=(None, 2, 1), dtype=tf.float32, name='lstm_652_input'), name='lstm_652_input', description=\"created by layer 'lstm_652_input'\"), but it was called on an input with incompatible shape (None, 13, 1).\n",
      "WARNING:tensorflow:Model was constructed with shape (None, 2, 1) for input KerasTensor(type_spec=TensorSpec(shape=(None, 2, 1), dtype=tf.float32, name='lstm_652_input'), name='lstm_652_input', description=\"created by layer 'lstm_652_input'\"), but it was called on an input with incompatible shape (None, 13, 1).\n",
      "WARNING:tensorflow:Model was constructed with shape (None, 3, 1) for input KerasTensor(type_spec=TensorSpec(shape=(None, 3, 1), dtype=tf.float32, name='lstm_654_input'), name='lstm_654_input', description=\"created by layer 'lstm_654_input'\"), but it was called on an input with incompatible shape (None, 13, 1).\n",
      "WARNING:tensorflow:Model was constructed with shape (None, 3, 1) for input KerasTensor(type_spec=TensorSpec(shape=(None, 3, 1), dtype=tf.float32, name='lstm_654_input'), name='lstm_654_input', description=\"created by layer 'lstm_654_input'\"), but it was called on an input with incompatible shape (None, 13, 1).\n",
      "WARNING:tensorflow:Model was constructed with shape (None, 3, 1) for input KerasTensor(type_spec=TensorSpec(shape=(None, 3, 1), dtype=tf.float32, name='lstm_654_input'), name='lstm_654_input', description=\"created by layer 'lstm_654_input'\"), but it was called on an input with incompatible shape (None, 13, 1).\n",
      "WARNING:tensorflow:Model was constructed with shape (None, 3, 1) for input KerasTensor(type_spec=TensorSpec(shape=(None, 3, 1), dtype=tf.float32, name='lstm_656_input'), name='lstm_656_input', description=\"created by layer 'lstm_656_input'\"), but it was called on an input with incompatible shape (None, 13, 1).\n",
      "WARNING:tensorflow:Model was constructed with shape (None, 3, 1) for input KerasTensor(type_spec=TensorSpec(shape=(None, 3, 1), dtype=tf.float32, name='lstm_656_input'), name='lstm_656_input', description=\"created by layer 'lstm_656_input'\"), but it was called on an input with incompatible shape (None, 13, 1).\n",
      "WARNING:tensorflow:Model was constructed with shape (None, 3, 1) for input KerasTensor(type_spec=TensorSpec(shape=(None, 3, 1), dtype=tf.float32, name='lstm_656_input'), name='lstm_656_input', description=\"created by layer 'lstm_656_input'\"), but it was called on an input with incompatible shape (None, 13, 1).\n",
      "WARNING:tensorflow:Model was constructed with shape (None, 1, 1) for input KerasTensor(type_spec=TensorSpec(shape=(None, 1, 1), dtype=tf.float32, name='lstm_658_input'), name='lstm_658_input', description=\"created by layer 'lstm_658_input'\"), but it was called on an input with incompatible shape (None, 13, 1).\n",
      "WARNING:tensorflow:Model was constructed with shape (None, 1, 1) for input KerasTensor(type_spec=TensorSpec(shape=(None, 1, 1), dtype=tf.float32, name='lstm_658_input'), name='lstm_658_input', description=\"created by layer 'lstm_658_input'\"), but it was called on an input with incompatible shape (None, 13, 1).\n",
      "WARNING:tensorflow:Model was constructed with shape (None, 1, 1) for input KerasTensor(type_spec=TensorSpec(shape=(None, 1, 1), dtype=tf.float32, name='lstm_658_input'), name='lstm_658_input', description=\"created by layer 'lstm_658_input'\"), but it was called on an input with incompatible shape (None, 13, 1).\n",
      "WARNING:tensorflow:Model was constructed with shape (None, 1, 1) for input KerasTensor(type_spec=TensorSpec(shape=(None, 1, 1), dtype=tf.float32, name='lstm_660_input'), name='lstm_660_input', description=\"created by layer 'lstm_660_input'\"), but it was called on an input with incompatible shape (None, 13, 1).\n",
      "WARNING:tensorflow:Model was constructed with shape (None, 1, 1) for input KerasTensor(type_spec=TensorSpec(shape=(None, 1, 1), dtype=tf.float32, name='lstm_660_input'), name='lstm_660_input', description=\"created by layer 'lstm_660_input'\"), but it was called on an input with incompatible shape (None, 13, 1).\n",
      "WARNING:tensorflow:Model was constructed with shape (None, 1, 1) for input KerasTensor(type_spec=TensorSpec(shape=(None, 1, 1), dtype=tf.float32, name='lstm_660_input'), name='lstm_660_input', description=\"created by layer 'lstm_660_input'\"), but it was called on an input with incompatible shape (None, 13, 1).\n",
      "WARNING:tensorflow:Model was constructed with shape (None, 2, 1) for input KerasTensor(type_spec=TensorSpec(shape=(None, 2, 1), dtype=tf.float32, name='lstm_662_input'), name='lstm_662_input', description=\"created by layer 'lstm_662_input'\"), but it was called on an input with incompatible shape (None, 13, 1).\n",
      "WARNING:tensorflow:Model was constructed with shape (None, 2, 1) for input KerasTensor(type_spec=TensorSpec(shape=(None, 2, 1), dtype=tf.float32, name='lstm_662_input'), name='lstm_662_input', description=\"created by layer 'lstm_662_input'\"), but it was called on an input with incompatible shape (None, 13, 1).\n",
      "WARNING:tensorflow:Model was constructed with shape (None, 2, 1) for input KerasTensor(type_spec=TensorSpec(shape=(None, 2, 1), dtype=tf.float32, name='lstm_662_input'), name='lstm_662_input', description=\"created by layer 'lstm_662_input'\"), but it was called on an input with incompatible shape (None, 13, 1).\n",
      "WARNING:tensorflow:Model was constructed with shape (None, 2, 1) for input KerasTensor(type_spec=TensorSpec(shape=(None, 2, 1), dtype=tf.float32, name='lstm_664_input'), name='lstm_664_input', description=\"created by layer 'lstm_664_input'\"), but it was called on an input with incompatible shape (None, 13, 1).\n",
      "WARNING:tensorflow:Model was constructed with shape (None, 2, 1) for input KerasTensor(type_spec=TensorSpec(shape=(None, 2, 1), dtype=tf.float32, name='lstm_664_input'), name='lstm_664_input', description=\"created by layer 'lstm_664_input'\"), but it was called on an input with incompatible shape (None, 13, 1).\n",
      "WARNING:tensorflow:Model was constructed with shape (None, 2, 1) for input KerasTensor(type_spec=TensorSpec(shape=(None, 2, 1), dtype=tf.float32, name='lstm_664_input'), name='lstm_664_input', description=\"created by layer 'lstm_664_input'\"), but it was called on an input with incompatible shape (None, 13, 1).\n",
      "WARNING:tensorflow:Model was constructed with shape (None, 3, 1) for input KerasTensor(type_spec=TensorSpec(shape=(None, 3, 1), dtype=tf.float32, name='lstm_666_input'), name='lstm_666_input', description=\"created by layer 'lstm_666_input'\"), but it was called on an input with incompatible shape (None, 13, 1).\n",
      "WARNING:tensorflow:Model was constructed with shape (None, 3, 1) for input KerasTensor(type_spec=TensorSpec(shape=(None, 3, 1), dtype=tf.float32, name='lstm_666_input'), name='lstm_666_input', description=\"created by layer 'lstm_666_input'\"), but it was called on an input with incompatible shape (None, 13, 1).\n",
      "WARNING:tensorflow:Model was constructed with shape (None, 3, 1) for input KerasTensor(type_spec=TensorSpec(shape=(None, 3, 1), dtype=tf.float32, name='lstm_666_input'), name='lstm_666_input', description=\"created by layer 'lstm_666_input'\"), but it was called on an input with incompatible shape (None, 13, 1).\n",
      "WARNING:tensorflow:Model was constructed with shape (None, 3, 1) for input KerasTensor(type_spec=TensorSpec(shape=(None, 3, 1), dtype=tf.float32, name='lstm_668_input'), name='lstm_668_input', description=\"created by layer 'lstm_668_input'\"), but it was called on an input with incompatible shape (None, 13, 1).\n",
      "WARNING:tensorflow:Model was constructed with shape (None, 3, 1) for input KerasTensor(type_spec=TensorSpec(shape=(None, 3, 1), dtype=tf.float32, name='lstm_668_input'), name='lstm_668_input', description=\"created by layer 'lstm_668_input'\"), but it was called on an input with incompatible shape (None, 13, 1).\n",
      "WARNING:tensorflow:Model was constructed with shape (None, 3, 1) for input KerasTensor(type_spec=TensorSpec(shape=(None, 3, 1), dtype=tf.float32, name='lstm_668_input'), name='lstm_668_input', description=\"created by layer 'lstm_668_input'\"), but it was called on an input with incompatible shape (None, 13, 1).\n"
     ]
    },
    {
     "name": "stdout",
     "output_type": "stream",
     "text": [
      "WARNING:tensorflow:Model was constructed with shape (None, 1, 1) for input KerasTensor(type_spec=TensorSpec(shape=(None, 1, 1), dtype=tf.float32, name='lstm_670_input'), name='lstm_670_input', description=\"created by layer 'lstm_670_input'\"), but it was called on an input with incompatible shape (None, 13, 1).\n",
      "WARNING:tensorflow:Model was constructed with shape (None, 1, 1) for input KerasTensor(type_spec=TensorSpec(shape=(None, 1, 1), dtype=tf.float32, name='lstm_670_input'), name='lstm_670_input', description=\"created by layer 'lstm_670_input'\"), but it was called on an input with incompatible shape (None, 13, 1).\n",
      "WARNING:tensorflow:Model was constructed with shape (None, 1, 1) for input KerasTensor(type_spec=TensorSpec(shape=(None, 1, 1), dtype=tf.float32, name='lstm_670_input'), name='lstm_670_input', description=\"created by layer 'lstm_670_input'\"), but it was called on an input with incompatible shape (None, 13, 1).\n",
      "WARNING:tensorflow:Model was constructed with shape (None, 1, 1) for input KerasTensor(type_spec=TensorSpec(shape=(None, 1, 1), dtype=tf.float32, name='lstm_673_input'), name='lstm_673_input', description=\"created by layer 'lstm_673_input'\"), but it was called on an input with incompatible shape (None, 13, 1).\n",
      "WARNING:tensorflow:Model was constructed with shape (None, 1, 1) for input KerasTensor(type_spec=TensorSpec(shape=(None, 1, 1), dtype=tf.float32, name='lstm_673_input'), name='lstm_673_input', description=\"created by layer 'lstm_673_input'\"), but it was called on an input with incompatible shape (None, 13, 1).\n",
      "WARNING:tensorflow:Model was constructed with shape (None, 1, 1) for input KerasTensor(type_spec=TensorSpec(shape=(None, 1, 1), dtype=tf.float32, name='lstm_673_input'), name='lstm_673_input', description=\"created by layer 'lstm_673_input'\"), but it was called on an input with incompatible shape (None, 13, 1).\n",
      "WARNING:tensorflow:Model was constructed with shape (None, 2, 1) for input KerasTensor(type_spec=TensorSpec(shape=(None, 2, 1), dtype=tf.float32, name='lstm_676_input'), name='lstm_676_input', description=\"created by layer 'lstm_676_input'\"), but it was called on an input with incompatible shape (None, 13, 1).\n",
      "WARNING:tensorflow:Model was constructed with shape (None, 2, 1) for input KerasTensor(type_spec=TensorSpec(shape=(None, 2, 1), dtype=tf.float32, name='lstm_676_input'), name='lstm_676_input', description=\"created by layer 'lstm_676_input'\"), but it was called on an input with incompatible shape (None, 13, 1).\n",
      "WARNING:tensorflow:Model was constructed with shape (None, 2, 1) for input KerasTensor(type_spec=TensorSpec(shape=(None, 2, 1), dtype=tf.float32, name='lstm_676_input'), name='lstm_676_input', description=\"created by layer 'lstm_676_input'\"), but it was called on an input with incompatible shape (None, 13, 1).\n",
      "WARNING:tensorflow:Model was constructed with shape (None, 2, 1) for input KerasTensor(type_spec=TensorSpec(shape=(None, 2, 1), dtype=tf.float32, name='lstm_679_input'), name='lstm_679_input', description=\"created by layer 'lstm_679_input'\"), but it was called on an input with incompatible shape (None, 13, 1).\n",
      "WARNING:tensorflow:Model was constructed with shape (None, 2, 1) for input KerasTensor(type_spec=TensorSpec(shape=(None, 2, 1), dtype=tf.float32, name='lstm_679_input'), name='lstm_679_input', description=\"created by layer 'lstm_679_input'\"), but it was called on an input with incompatible shape (None, 13, 1).\n",
      "WARNING:tensorflow:Model was constructed with shape (None, 2, 1) for input KerasTensor(type_spec=TensorSpec(shape=(None, 2, 1), dtype=tf.float32, name='lstm_679_input'), name='lstm_679_input', description=\"created by layer 'lstm_679_input'\"), but it was called on an input with incompatible shape (None, 13, 1).\n",
      "WARNING:tensorflow:Model was constructed with shape (None, 3, 1) for input KerasTensor(type_spec=TensorSpec(shape=(None, 3, 1), dtype=tf.float32, name='lstm_682_input'), name='lstm_682_input', description=\"created by layer 'lstm_682_input'\"), but it was called on an input with incompatible shape (None, 13, 1).\n",
      "WARNING:tensorflow:Model was constructed with shape (None, 3, 1) for input KerasTensor(type_spec=TensorSpec(shape=(None, 3, 1), dtype=tf.float32, name='lstm_682_input'), name='lstm_682_input', description=\"created by layer 'lstm_682_input'\"), but it was called on an input with incompatible shape (None, 13, 1).\n",
      "WARNING:tensorflow:Model was constructed with shape (None, 3, 1) for input KerasTensor(type_spec=TensorSpec(shape=(None, 3, 1), dtype=tf.float32, name='lstm_682_input'), name='lstm_682_input', description=\"created by layer 'lstm_682_input'\"), but it was called on an input with incompatible shape (None, 13, 1).\n",
      "WARNING:tensorflow:Model was constructed with shape (None, 3, 1) for input KerasTensor(type_spec=TensorSpec(shape=(None, 3, 1), dtype=tf.float32, name='lstm_685_input'), name='lstm_685_input', description=\"created by layer 'lstm_685_input'\"), but it was called on an input with incompatible shape (None, 13, 1).\n",
      "WARNING:tensorflow:Model was constructed with shape (None, 3, 1) for input KerasTensor(type_spec=TensorSpec(shape=(None, 3, 1), dtype=tf.float32, name='lstm_685_input'), name='lstm_685_input', description=\"created by layer 'lstm_685_input'\"), but it was called on an input with incompatible shape (None, 13, 1).\n",
      "WARNING:tensorflow:Model was constructed with shape (None, 3, 1) for input KerasTensor(type_spec=TensorSpec(shape=(None, 3, 1), dtype=tf.float32, name='lstm_685_input'), name='lstm_685_input', description=\"created by layer 'lstm_685_input'\"), but it was called on an input with incompatible shape (None, 13, 1).\n",
      "WARNING:tensorflow:Model was constructed with shape (None, 1, 1) for input KerasTensor(type_spec=TensorSpec(shape=(None, 1, 1), dtype=tf.float32, name='lstm_688_input'), name='lstm_688_input', description=\"created by layer 'lstm_688_input'\"), but it was called on an input with incompatible shape (None, 13, 1).\n",
      "WARNING:tensorflow:Model was constructed with shape (None, 1, 1) for input KerasTensor(type_spec=TensorSpec(shape=(None, 1, 1), dtype=tf.float32, name='lstm_688_input'), name='lstm_688_input', description=\"created by layer 'lstm_688_input'\"), but it was called on an input with incompatible shape (None, 13, 1).\n",
      "WARNING:tensorflow:Model was constructed with shape (None, 1, 1) for input KerasTensor(type_spec=TensorSpec(shape=(None, 1, 1), dtype=tf.float32, name='lstm_688_input'), name='lstm_688_input', description=\"created by layer 'lstm_688_input'\"), but it was called on an input with incompatible shape (None, 13, 1).\n",
      "WARNING:tensorflow:Model was constructed with shape (None, 1, 1) for input KerasTensor(type_spec=TensorSpec(shape=(None, 1, 1), dtype=tf.float32, name='lstm_691_input'), name='lstm_691_input', description=\"created by layer 'lstm_691_input'\"), but it was called on an input with incompatible shape (None, 13, 1).\n",
      "WARNING:tensorflow:Model was constructed with shape (None, 1, 1) for input KerasTensor(type_spec=TensorSpec(shape=(None, 1, 1), dtype=tf.float32, name='lstm_691_input'), name='lstm_691_input', description=\"created by layer 'lstm_691_input'\"), but it was called on an input with incompatible shape (None, 13, 1).\n",
      "WARNING:tensorflow:Model was constructed with shape (None, 1, 1) for input KerasTensor(type_spec=TensorSpec(shape=(None, 1, 1), dtype=tf.float32, name='lstm_691_input'), name='lstm_691_input', description=\"created by layer 'lstm_691_input'\"), but it was called on an input with incompatible shape (None, 13, 1).\n",
      "WARNING:tensorflow:Model was constructed with shape (None, 2, 1) for input KerasTensor(type_spec=TensorSpec(shape=(None, 2, 1), dtype=tf.float32, name='lstm_694_input'), name='lstm_694_input', description=\"created by layer 'lstm_694_input'\"), but it was called on an input with incompatible shape (None, 13, 1).\n",
      "WARNING:tensorflow:Model was constructed with shape (None, 2, 1) for input KerasTensor(type_spec=TensorSpec(shape=(None, 2, 1), dtype=tf.float32, name='lstm_694_input'), name='lstm_694_input', description=\"created by layer 'lstm_694_input'\"), but it was called on an input with incompatible shape (None, 13, 1).\n",
      "WARNING:tensorflow:Model was constructed with shape (None, 2, 1) for input KerasTensor(type_spec=TensorSpec(shape=(None, 2, 1), dtype=tf.float32, name='lstm_694_input'), name='lstm_694_input', description=\"created by layer 'lstm_694_input'\"), but it was called on an input with incompatible shape (None, 13, 1).\n"
     ]
    },
    {
     "name": "stdout",
     "output_type": "stream",
     "text": [
      "WARNING:tensorflow:Model was constructed with shape (None, 2, 1) for input KerasTensor(type_spec=TensorSpec(shape=(None, 2, 1), dtype=tf.float32, name='lstm_697_input'), name='lstm_697_input', description=\"created by layer 'lstm_697_input'\"), but it was called on an input with incompatible shape (None, 13, 1).\n",
      "WARNING:tensorflow:Model was constructed with shape (None, 2, 1) for input KerasTensor(type_spec=TensorSpec(shape=(None, 2, 1), dtype=tf.float32, name='lstm_697_input'), name='lstm_697_input', description=\"created by layer 'lstm_697_input'\"), but it was called on an input with incompatible shape (None, 13, 1).\n",
      "WARNING:tensorflow:Model was constructed with shape (None, 2, 1) for input KerasTensor(type_spec=TensorSpec(shape=(None, 2, 1), dtype=tf.float32, name='lstm_697_input'), name='lstm_697_input', description=\"created by layer 'lstm_697_input'\"), but it was called on an input with incompatible shape (None, 13, 1).\n",
      "WARNING:tensorflow:Model was constructed with shape (None, 3, 1) for input KerasTensor(type_spec=TensorSpec(shape=(None, 3, 1), dtype=tf.float32, name='lstm_700_input'), name='lstm_700_input', description=\"created by layer 'lstm_700_input'\"), but it was called on an input with incompatible shape (None, 13, 1).\n",
      "WARNING:tensorflow:Model was constructed with shape (None, 3, 1) for input KerasTensor(type_spec=TensorSpec(shape=(None, 3, 1), dtype=tf.float32, name='lstm_700_input'), name='lstm_700_input', description=\"created by layer 'lstm_700_input'\"), but it was called on an input with incompatible shape (None, 13, 1).\n",
      "WARNING:tensorflow:Model was constructed with shape (None, 3, 1) for input KerasTensor(type_spec=TensorSpec(shape=(None, 3, 1), dtype=tf.float32, name='lstm_700_input'), name='lstm_700_input', description=\"created by layer 'lstm_700_input'\"), but it was called on an input with incompatible shape (None, 13, 1).\n",
      "WARNING:tensorflow:Model was constructed with shape (None, 3, 1) for input KerasTensor(type_spec=TensorSpec(shape=(None, 3, 1), dtype=tf.float32, name='lstm_703_input'), name='lstm_703_input', description=\"created by layer 'lstm_703_input'\"), but it was called on an input with incompatible shape (None, 13, 1).\n",
      "WARNING:tensorflow:Model was constructed with shape (None, 3, 1) for input KerasTensor(type_spec=TensorSpec(shape=(None, 3, 1), dtype=tf.float32, name='lstm_703_input'), name='lstm_703_input', description=\"created by layer 'lstm_703_input'\"), but it was called on an input with incompatible shape (None, 13, 1).\n",
      "WARNING:tensorflow:Model was constructed with shape (None, 3, 1) for input KerasTensor(type_spec=TensorSpec(shape=(None, 3, 1), dtype=tf.float32, name='lstm_703_input'), name='lstm_703_input', description=\"created by layer 'lstm_703_input'\"), but it was called on an input with incompatible shape (None, 13, 1).\n",
      "WARNING:tensorflow:Model was constructed with shape (None, 1, 1) for input KerasTensor(type_spec=TensorSpec(shape=(None, 1, 1), dtype=tf.float32, name='lstm_706_input'), name='lstm_706_input', description=\"created by layer 'lstm_706_input'\"), but it was called on an input with incompatible shape (None, 13, 1).\n",
      "WARNING:tensorflow:Model was constructed with shape (None, 1, 1) for input KerasTensor(type_spec=TensorSpec(shape=(None, 1, 1), dtype=tf.float32, name='lstm_706_input'), name='lstm_706_input', description=\"created by layer 'lstm_706_input'\"), but it was called on an input with incompatible shape (None, 13, 1).\n",
      "WARNING:tensorflow:Model was constructed with shape (None, 1, 1) for input KerasTensor(type_spec=TensorSpec(shape=(None, 1, 1), dtype=tf.float32, name='lstm_706_input'), name='lstm_706_input', description=\"created by layer 'lstm_706_input'\"), but it was called on an input with incompatible shape (None, 13, 1).\n",
      "WARNING:tensorflow:Model was constructed with shape (None, 1, 1) for input KerasTensor(type_spec=TensorSpec(shape=(None, 1, 1), dtype=tf.float32, name='lstm_709_input'), name='lstm_709_input', description=\"created by layer 'lstm_709_input'\"), but it was called on an input with incompatible shape (None, 13, 1).\n",
      "WARNING:tensorflow:Model was constructed with shape (None, 1, 1) for input KerasTensor(type_spec=TensorSpec(shape=(None, 1, 1), dtype=tf.float32, name='lstm_709_input'), name='lstm_709_input', description=\"created by layer 'lstm_709_input'\"), but it was called on an input with incompatible shape (None, 13, 1).\n",
      "WARNING:tensorflow:Model was constructed with shape (None, 1, 1) for input KerasTensor(type_spec=TensorSpec(shape=(None, 1, 1), dtype=tf.float32, name='lstm_709_input'), name='lstm_709_input', description=\"created by layer 'lstm_709_input'\"), but it was called on an input with incompatible shape (None, 13, 1).\n",
      "WARNING:tensorflow:Model was constructed with shape (None, 2, 1) for input KerasTensor(type_spec=TensorSpec(shape=(None, 2, 1), dtype=tf.float32, name='lstm_712_input'), name='lstm_712_input', description=\"created by layer 'lstm_712_input'\"), but it was called on an input with incompatible shape (None, 13, 1).\n",
      "WARNING:tensorflow:Model was constructed with shape (None, 2, 1) for input KerasTensor(type_spec=TensorSpec(shape=(None, 2, 1), dtype=tf.float32, name='lstm_712_input'), name='lstm_712_input', description=\"created by layer 'lstm_712_input'\"), but it was called on an input with incompatible shape (None, 13, 1).\n",
      "WARNING:tensorflow:Model was constructed with shape (None, 2, 1) for input KerasTensor(type_spec=TensorSpec(shape=(None, 2, 1), dtype=tf.float32, name='lstm_712_input'), name='lstm_712_input', description=\"created by layer 'lstm_712_input'\"), but it was called on an input with incompatible shape (None, 13, 1).\n",
      "WARNING:tensorflow:Model was constructed with shape (None, 2, 1) for input KerasTensor(type_spec=TensorSpec(shape=(None, 2, 1), dtype=tf.float32, name='lstm_715_input'), name='lstm_715_input', description=\"created by layer 'lstm_715_input'\"), but it was called on an input with incompatible shape (None, 13, 1).\n",
      "WARNING:tensorflow:Model was constructed with shape (None, 2, 1) for input KerasTensor(type_spec=TensorSpec(shape=(None, 2, 1), dtype=tf.float32, name='lstm_715_input'), name='lstm_715_input', description=\"created by layer 'lstm_715_input'\"), but it was called on an input with incompatible shape (None, 13, 1).\n",
      "WARNING:tensorflow:Model was constructed with shape (None, 2, 1) for input KerasTensor(type_spec=TensorSpec(shape=(None, 2, 1), dtype=tf.float32, name='lstm_715_input'), name='lstm_715_input', description=\"created by layer 'lstm_715_input'\"), but it was called on an input with incompatible shape (None, 13, 1).\n",
      "WARNING:tensorflow:Model was constructed with shape (None, 3, 1) for input KerasTensor(type_spec=TensorSpec(shape=(None, 3, 1), dtype=tf.float32, name='lstm_718_input'), name='lstm_718_input', description=\"created by layer 'lstm_718_input'\"), but it was called on an input with incompatible shape (None, 13, 1).\n",
      "WARNING:tensorflow:Model was constructed with shape (None, 3, 1) for input KerasTensor(type_spec=TensorSpec(shape=(None, 3, 1), dtype=tf.float32, name='lstm_718_input'), name='lstm_718_input', description=\"created by layer 'lstm_718_input'\"), but it was called on an input with incompatible shape (None, 13, 1).\n",
      "WARNING:tensorflow:Model was constructed with shape (None, 3, 1) for input KerasTensor(type_spec=TensorSpec(shape=(None, 3, 1), dtype=tf.float32, name='lstm_718_input'), name='lstm_718_input', description=\"created by layer 'lstm_718_input'\"), but it was called on an input with incompatible shape (None, 13, 1).\n",
      "WARNING:tensorflow:Model was constructed with shape (None, 3, 1) for input KerasTensor(type_spec=TensorSpec(shape=(None, 3, 1), dtype=tf.float32, name='lstm_721_input'), name='lstm_721_input', description=\"created by layer 'lstm_721_input'\"), but it was called on an input with incompatible shape (None, 13, 1).\n",
      "WARNING:tensorflow:Model was constructed with shape (None, 3, 1) for input KerasTensor(type_spec=TensorSpec(shape=(None, 3, 1), dtype=tf.float32, name='lstm_721_input'), name='lstm_721_input', description=\"created by layer 'lstm_721_input'\"), but it was called on an input with incompatible shape (None, 13, 1).\n",
      "WARNING:tensorflow:Model was constructed with shape (None, 3, 1) for input KerasTensor(type_spec=TensorSpec(shape=(None, 3, 1), dtype=tf.float32, name='lstm_721_input'), name='lstm_721_input', description=\"created by layer 'lstm_721_input'\"), but it was called on an input with incompatible shape (None, 13, 1).\n"
     ]
    }
   ],
   "source": [
    "res2 = []\n",
    "# 1 layer\n",
    "for unit in (4,8,16):\n",
    "    for time_step in (1,2,3):\n",
    "        for e in (200, 500):\n",
    "            res2.append((([unit],time_step, e), LSTM_GS([unit], time_step, e)))\n",
    "\n",
    "# 2 layers\n",
    "for unit in (8,16,32):\n",
    "    for time_step in (1,2,3):\n",
    "        for e in (200, 500):\n",
    "            res2.append((([unit, unit//2],time_step, e),LSTM_GS([unit, unit//2], time_step, e)))\n",
    "\n",
    "# 3 layers\n",
    "for unit in (8,16,32):\n",
    "    for time_step in (1,2,3):\n",
    "        for e in (200, 500):\n",
    "            res2.append((([unit, unit//2, unit//4],time_step, e),LSTM_GS([unit, unit//2, unit//4], time_step, e)))"
   ]
  },
  {
   "cell_type": "code",
   "execution_count": 226,
   "metadata": {},
   "outputs": [
    {
     "data": {
      "text/plain": [
       "(([32, 16], 3, 500), (3532.507662584802, 1740.1979570315914))"
      ]
     },
     "execution_count": 226,
     "metadata": {},
     "output_type": "execute_result"
    }
   ],
   "source": [
    "sorted(res2, key = lambda x : x[1][1])[0]"
   ]
  },
  {
   "cell_type": "code",
   "execution_count": 227,
   "metadata": {},
   "outputs": [],
   "source": [
    "layer_config2 = sorted(res2, key = lambda x : x[1][1])[0][0][0]\n",
    "time_config2 = sorted(res2, key = lambda x : x[1][1])[0][0][1]\n",
    "e_config2 = sorted(res2, key = lambda x : x[1][1])[0][0][2]"
   ]
  },
  {
   "cell_type": "code",
   "execution_count": 228,
   "metadata": {},
   "outputs": [
    {
     "name": "stdout",
     "output_type": "stream",
     "text": [
      "[32, 16] 3 500\n"
     ]
    }
   ],
   "source": [
    "print(layer_config2, time_config2, e_config2 )"
   ]
  },
  {
   "cell_type": "code",
   "execution_count": 229,
   "metadata": {},
   "outputs": [
    {
     "name": "stdout",
     "output_type": "stream",
     "text": [
      "WARNING:tensorflow:Model was constructed with shape (None, 3, 1) for input KerasTensor(type_spec=TensorSpec(shape=(None, 3, 1), dtype=tf.float32, name='lstm_732_input'), name='lstm_732_input', description=\"created by layer 'lstm_732_input'\"), but it was called on an input with incompatible shape (None, 13, 1).\n",
      "WARNING:tensorflow:Model was constructed with shape (None, 3, 1) for input KerasTensor(type_spec=TensorSpec(shape=(None, 3, 1), dtype=tf.float32, name='lstm_732_input'), name='lstm_732_input', description=\"created by layer 'lstm_732_input'\"), but it was called on an input with incompatible shape (None, 13, 1).\n"
     ]
    }
   ],
   "source": [
    "model2 = LSTM_pipe(layer_config2, time_config2, e_config2, x_refit_trans, y_refit)"
   ]
  },
  {
   "cell_type": "code",
   "execution_count": 230,
   "metadata": {},
   "outputs": [
    {
     "name": "stdout",
     "output_type": "stream",
     "text": [
      "WARNING:tensorflow:Model was constructed with shape (None, 3, 1) for input KerasTensor(type_spec=TensorSpec(shape=(None, 3, 1), dtype=tf.float32, name='lstm_732_input'), name='lstm_732_input', description=\"created by layer 'lstm_732_input'\"), but it was called on an input with incompatible shape (None, 13, 1).\n"
     ]
    },
    {
     "data": {
      "text/plain": [
       "5868.028609479828"
      ]
     },
     "execution_count": 230,
     "metadata": {},
     "output_type": "execute_result"
    }
   ],
   "source": [
    "mean_squared_error(y_test, model2.predict(x_test_trans), squared = False)"
   ]
  },
  {
   "cell_type": "code",
   "execution_count": 231,
   "metadata": {},
   "outputs": [],
   "source": [
    "# predicted value\n",
    "yhat2 = model2.predict(x_full_trans, verbose=0)"
   ]
  },
  {
   "cell_type": "code",
   "execution_count": 232,
   "metadata": {},
   "outputs": [
    {
     "name": "stdout",
     "output_type": "stream",
     "text": [
      "32959.65\n",
      "33303.02\n",
      "33965.36\n",
      "34447.953\n",
      "34174.16\n",
      "35432.906\n",
      "36841.438\n",
      "38534.695\n",
      "39694.793\n",
      "39133.883\n",
      "37855.516\n",
      "36648.125\n",
      "34921.69\n",
      "37059.203\n",
      "38479.445\n",
      "36855.223\n",
      "36330.043\n",
      "36016.258\n",
      "36844.21\n",
      "36422.727\n",
      "35928.812\n",
      "33500.09\n",
      "34111.06\n",
      "33329.805\n",
      "33463.44\n",
      "33615.82\n",
      "33825.617\n",
      "33106.07\n",
      "33597.5\n",
      "35650.125\n",
      "35019.207\n",
      "34139.92\n",
      "34516.72\n",
      "36122.164\n",
      "37596.945\n",
      "37390.34\n",
      "38356.484\n",
      "39267.457\n",
      "38962.93\n",
      "44502.805\n",
      "44631.25\n",
      "43044.445\n",
      "45415.594\n",
      "45238.03\n",
      "44903.203\n",
      "46162.152\n",
      "45586.137\n",
      "46562.098\n",
      "49319.83\n",
      "48975.28\n",
      "52530.07\n",
      "52743.438\n",
      "53997.93\n",
      "50934.72\n",
      "46266.21\n",
      "46955.68\n",
      "44859.03\n",
      "55763.83\n",
      "44358.727\n",
      "43536.0\n",
      "47512.617\n",
      "46606.625\n",
      "48541.184\n",
      "47072.688\n",
      "47713.32\n",
      "47617.85\n",
      "49708.793\n",
      "50909.99\n",
      "53369.617\n",
      "54149.7\n",
      "55802.777\n",
      "55073.438\n",
      "58959.035\n",
      "56917.68\n",
      "54256.04\n",
      "54989.996\n",
      "56932.816\n",
      "55473.004\n",
      "56148.363\n",
      "56121.19\n",
      "55373.17\n",
      "52833.08\n",
      "52793.492\n",
      "51544.46\n",
      "50704.688\n",
      "54326.348\n",
      "55043.805\n",
      "55024.523\n",
      "56758.96\n",
      "57917.15\n",
      "58172.676\n",
      "58767.883\n",
      "58853.39\n",
      "57208.977\n",
      "58247.32\n",
      "59525.984\n",
      "58300.883\n",
      "56399.695\n",
      "58620.34\n",
      "59025.113\n",
      "60419.137\n",
      "60791.773\n"
     ]
    }
   ],
   "source": [
    "for b in [x[0] for x in yhat2]:\n",
    "    print(b)"
   ]
  },
  {
   "cell_type": "code",
   "execution_count": 233,
   "metadata": {},
   "outputs": [
    {
     "data": {
      "text/plain": [
       "2663.2824483514014"
      ]
     },
     "execution_count": 233,
     "metadata": {},
     "output_type": "execute_result"
    }
   ],
   "source": [
    "mean_squared_error(y_full, model2.predict(x_full_trans), squared = False)"
   ]
  },
  {
   "cell_type": "code",
   "execution_count": null,
   "metadata": {},
   "outputs": [],
   "source": []
  }
 ],
 "metadata": {
  "kernelspec": {
   "display_name": "Python 3",
   "language": "python",
   "name": "python3"
  },
  "language_info": {
   "codemirror_mode": {
    "name": "ipython",
    "version": 3
   },
   "file_extension": ".py",
   "mimetype": "text/x-python",
   "name": "python",
   "nbconvert_exporter": "python",
   "pygments_lexer": "ipython3",
   "version": "3.8.5"
  }
 },
 "nbformat": 4,
 "nbformat_minor": 4
}
