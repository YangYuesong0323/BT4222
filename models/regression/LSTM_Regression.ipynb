{
 "cells": [
  {
   "cell_type": "code",
   "execution_count": 61,
   "metadata": {},
   "outputs": [],
   "source": [
    "import pandas as pd\n",
    "import numpy as np\n",
    "import datetime\n",
    "from keras.models import Sequential\n",
    "from keras.layers import Dense\n",
    "from keras.layers import LSTM\n",
    "from keras.layers import Dropout\n",
    "from sklearn.preprocessing import MinMaxScaler\n",
    "from sklearn.metrics import mean_squared_error\n",
    "from keras import backend as K\n",
    "import matplotlib.pyplot as plt\n",
    "import sys\n",
    "sys.path.insert(1, '/Users/yuesongyang/Desktop/BT4222_repo')\n",
    "from backtest import *\n",
    "import tensorflow as tf\n",
    "tf.random.set_seed(0)"
   ]
  },
  {
   "cell_type": "code",
   "execution_count": null,
   "metadata": {},
   "outputs": [],
   "source": []
  },
  {
   "cell_type": "code",
   "execution_count": 62,
   "metadata": {},
   "outputs": [],
   "source": [
    "features = pd.read_csv(\"../../data/cooked_data/cooked_complete_dataset.csv\")"
   ]
  },
  {
   "cell_type": "code",
   "execution_count": 63,
   "metadata": {},
   "outputs": [],
   "source": [
    "features.dropna(inplace = True)"
   ]
  },
  {
   "cell_type": "code",
   "execution_count": 64,
   "metadata": {},
   "outputs": [],
   "source": [
    "features['date'] = features['date'].apply(lambda x: datetime.datetime.strptime(x, \"%d/%m/%y\"))\n",
    "features[\"date\"] = pd.to_datetime(features[\"date\"], format='%d/%m/%Y', infer_datetime_format=True)"
   ]
  },
  {
   "cell_type": "code",
   "execution_count": null,
   "metadata": {},
   "outputs": [],
   "source": []
  },
  {
   "cell_type": "markdown",
   "metadata": {},
   "source": [
    "**Helper functions to create lags for features and calculate RMSE**"
   ]
  },
  {
   "cell_type": "code",
   "execution_count": 66,
   "metadata": {},
   "outputs": [],
   "source": [
    "def lag(data, dic):\n",
    "    cols = []\n",
    "    for key, value in dic.items():\n",
    "        for i in range(1, value+1):\n",
    "            cols.append(data[key].shift(i).rename('{}_lag{}'.format(data[key].name, i)))\n",
    "    return pd.concat([data[\"date\"],data[\"Adj_Close_BTC-USD\"]] + cols, axis = 1)"
   ]
  },
  {
   "cell_type": "code",
   "execution_count": 67,
   "metadata": {},
   "outputs": [],
   "source": [
    "def root_mean_squared_error(y_true, y_pred):\n",
    "    return K.sqrt(K.mean(K.square(y_pred - y_true))) "
   ]
  },
  {
   "cell_type": "code",
   "execution_count": null,
   "metadata": {},
   "outputs": [],
   "source": []
  },
  {
   "cell_type": "markdown",
   "metadata": {},
   "source": [
    "## Without Sentiments"
   ]
  },
  {
   "cell_type": "markdown",
   "metadata": {},
   "source": [
    "#### 1. Create feature lags"
   ]
  },
  {
   "cell_type": "code",
   "execution_count": 68,
   "metadata": {},
   "outputs": [],
   "source": [
    "feature_lags = {\"Adj_Close_BTC-USD\" : 1,\n",
    "                \"Adj_Close_SPY\" : 1,\n",
    "                \"Adj_Close_GLD\" : 1,\n",
    "                \"Adj_Close_CHFUSD=X\" : 1,\n",
    "                \"Adj_Close_EURUSD=X\" : 1,\n",
    "                \"Adj_Close_GBPUSD=X\" : 1,\n",
    "                \"Adj_Close_JPYUSD=X\" : 1,\n",
    "                \"blockchain_transactions_per_block\" : 1,\n",
    "                \"blockchain_hash_rates\" : 1}\n",
    "\n",
    "data = lag(features, feature_lags)"
   ]
  },
  {
   "cell_type": "markdown",
   "metadata": {},
   "source": [
    "#### 2. Handle train-test split"
   ]
  },
  {
   "cell_type": "code",
   "execution_count": 69,
   "metadata": {},
   "outputs": [],
   "source": [
    "data = data[(data[\"date\"] >= \"2021-01-01\") & (data[\"date\"] <= \"2021-04-12\")]\n",
    "\n",
    "train = data[(data[\"date\"] >= \"2021-01-01\") & (data[\"date\"] <= \"2021-03-14\")]\n",
    "validation = data[(data[\"date\"] >= \"2021-03-15\") & (data[\"date\"] <= \"2021-03-29\")]\n",
    "test = data[(data[\"date\"] >= \"2021-03-30\") & (data[\"date\"] <= \"2021-04-12\")]\n",
    "\n",
    "refit = data[(data[\"date\"] >= \"2021-01-01\") & (data[\"date\"] <= \"2021-03-29\")]\n",
    "full = data.copy(deep = True)\n",
    "\n",
    "\n",
    "x_train = train.drop([\"date\", \"Adj_Close_BTC-USD\"], axis = 1)\n",
    "y_train = train[\"Adj_Close_BTC-USD\"]\n",
    "\n",
    "x_val = validation.drop([\"date\", \"Adj_Close_BTC-USD\"], axis = 1)\n",
    "y_val = validation[\"Adj_Close_BTC-USD\"]\n",
    "\n",
    "x_test = test.drop([\"date\", \"Adj_Close_BTC-USD\"], axis = 1)\n",
    "y_test = test[\"Adj_Close_BTC-USD\"]\n",
    "\n",
    "x_refit = refit.drop([\"date\", \"Adj_Close_BTC-USD\"], axis = 1)\n",
    "y_refit = refit[\"Adj_Close_BTC-USD\"]\n",
    "\n",
    "x_full = full.drop([\"date\", \"Adj_Close_BTC-USD\"], axis = 1)\n",
    "y_full = full[\"Adj_Close_BTC-USD\"]"
   ]
  },
  {
   "cell_type": "markdown",
   "metadata": {},
   "source": [
    "#### 3. MinMax scale the features"
   ]
  },
  {
   "cell_type": "code",
   "execution_count": 71,
   "metadata": {},
   "outputs": [],
   "source": [
    "sc = MinMaxScaler(feature_range = (0, 1))\n",
    "sc.fit(x_train)\n",
    "x_train_trans = sc.transform(x_train)\n",
    "x_val_trans = sc.transform(x_val)\n",
    "x_test_trans = sc.transform(x_test)\n",
    "\n",
    "sc2 = MinMaxScaler(feature_range = (0, 1))\n",
    "sc2.fit(x_refit)\n",
    "x_refit_trans = sc2.transform(x_refit)\n",
    "\n",
    "sc3 = MinMaxScaler(feature_range = (0, 1))\n",
    "sc3.fit(x_full)\n",
    "x_full_trans = sc3.transform(x_full)"
   ]
  },
  {
   "cell_type": "markdown",
   "metadata": {},
   "source": [
    "#### 4. Transform the feature shapes to fit into LSTM"
   ]
  },
  {
   "cell_type": "code",
   "execution_count": 72,
   "metadata": {},
   "outputs": [],
   "source": [
    "x_train_trans = x_train_trans.reshape(x_train_trans.shape[0], x_train_trans.shape[1], 1)\n",
    "x_val_trans = x_val_trans.reshape(x_val_trans.shape[0], x_val_trans.shape[1], 1)\n",
    "x_test_trans = x_test_trans.reshape(x_test_trans.shape[0], x_test_trans.shape[1], 1)\n",
    "x_refit_trans = x_refit_trans.reshape(x_refit_trans.shape[0], x_refit_trans.shape[1], 1)\n",
    "x_full_trans = x_full_trans.reshape(x_full_trans.shape[0], x_full_trans.shape[1], 1)"
   ]
  },
  {
   "cell_type": "markdown",
   "metadata": {},
   "source": [
    "#### 5. Define a Grid Search function"
   ]
  },
  {
   "cell_type": "code",
   "execution_count": 73,
   "metadata": {},
   "outputs": [],
   "source": [
    "def LSTM_GS(layer_spe, time_step, epochs_):\n",
    "    regressor = Sequential()\n",
    "    count = 0\n",
    "    for unit in layer_spe:\n",
    "        count += 1 \n",
    "        if len(layer_spe) == 1:\n",
    "            regressor.add(LSTM(unit, activation = \"relu\", input_shape = (time_step, 1))) # batch size, time steps, data dimension\n",
    "            regressor.add(Dropout(0.3))\n",
    "        else:\n",
    "            if count == 1:\n",
    "                regressor.add(LSTM(unit, activation = \"relu\", return_sequences=True, input_shape = (time_step, 1))) # batch size, time steps, data dimension\n",
    "                regressor.add(Dropout(0.3))\n",
    "            elif count < len(layer_spe): \n",
    "                regressor.add(LSTM(unit, activation = \"relu\", return_sequences=True))\n",
    "                regressor.add(Dropout(0.3))\n",
    "            else:\n",
    "                regressor.add(LSTM(unit, activation = \"relu\"))\n",
    "                regressor.add(Dropout(0.3))\n",
    "            \n",
    "    regressor.add(Dense(units = 1))\n",
    "    regressor.compile(optimizer = 'Adam', loss = root_mean_squared_error)\n",
    "    regressor.fit(x_train_trans, y_train, epochs = epochs_, verbose = 0)\n",
    "    \n",
    "    train_error = mean_squared_error(y_train, regressor.predict(x_train_trans), squared = False)\n",
    "    val_error = mean_squared_error(y_val, regressor.predict(x_val_trans), squared = False)\n",
    "    \n",
    "    return train_error, val_error"
   ]
  },
  {
   "cell_type": "markdown",
   "metadata": {},
   "source": [
    "#### 6. Grid Search on a few hyperparameters combinations"
   ]
  },
  {
   "cell_type": "code",
   "execution_count": 74,
   "metadata": {},
   "outputs": [
    {
     "name": "stdout",
     "output_type": "stream",
     "text": [
      "WARNING:tensorflow:Model was constructed with shape (None, 1, 1) for input KerasTensor(type_spec=TensorSpec(shape=(None, 1, 1), dtype=tf.float32, name='lstm_248_input'), name='lstm_248_input', description=\"created by layer 'lstm_248_input'\"), but it was called on an input with incompatible shape (None, 9, 1).\n",
      "WARNING:tensorflow:Model was constructed with shape (None, 1, 1) for input KerasTensor(type_spec=TensorSpec(shape=(None, 1, 1), dtype=tf.float32, name='lstm_248_input'), name='lstm_248_input', description=\"created by layer 'lstm_248_input'\"), but it was called on an input with incompatible shape (None, 9, 1).\n",
      "WARNING:tensorflow:Model was constructed with shape (None, 1, 1) for input KerasTensor(type_spec=TensorSpec(shape=(None, 1, 1), dtype=tf.float32, name='lstm_248_input'), name='lstm_248_input', description=\"created by layer 'lstm_248_input'\"), but it was called on an input with incompatible shape (None, 9, 1).\n",
      "WARNING:tensorflow:Model was constructed with shape (None, 1, 1) for input KerasTensor(type_spec=TensorSpec(shape=(None, 1, 1), dtype=tf.float32, name='lstm_249_input'), name='lstm_249_input', description=\"created by layer 'lstm_249_input'\"), but it was called on an input with incompatible shape (None, 9, 1).\n",
      "WARNING:tensorflow:Model was constructed with shape (None, 1, 1) for input KerasTensor(type_spec=TensorSpec(shape=(None, 1, 1), dtype=tf.float32, name='lstm_249_input'), name='lstm_249_input', description=\"created by layer 'lstm_249_input'\"), but it was called on an input with incompatible shape (None, 9, 1).\n",
      "WARNING:tensorflow:Model was constructed with shape (None, 1, 1) for input KerasTensor(type_spec=TensorSpec(shape=(None, 1, 1), dtype=tf.float32, name='lstm_249_input'), name='lstm_249_input', description=\"created by layer 'lstm_249_input'\"), but it was called on an input with incompatible shape (None, 9, 1).\n",
      "WARNING:tensorflow:Model was constructed with shape (None, 2, 1) for input KerasTensor(type_spec=TensorSpec(shape=(None, 2, 1), dtype=tf.float32, name='lstm_250_input'), name='lstm_250_input', description=\"created by layer 'lstm_250_input'\"), but it was called on an input with incompatible shape (None, 9, 1).\n",
      "WARNING:tensorflow:Model was constructed with shape (None, 2, 1) for input KerasTensor(type_spec=TensorSpec(shape=(None, 2, 1), dtype=tf.float32, name='lstm_250_input'), name='lstm_250_input', description=\"created by layer 'lstm_250_input'\"), but it was called on an input with incompatible shape (None, 9, 1).\n",
      "WARNING:tensorflow:Model was constructed with shape (None, 2, 1) for input KerasTensor(type_spec=TensorSpec(shape=(None, 2, 1), dtype=tf.float32, name='lstm_250_input'), name='lstm_250_input', description=\"created by layer 'lstm_250_input'\"), but it was called on an input with incompatible shape (None, 9, 1).\n",
      "WARNING:tensorflow:Model was constructed with shape (None, 2, 1) for input KerasTensor(type_spec=TensorSpec(shape=(None, 2, 1), dtype=tf.float32, name='lstm_251_input'), name='lstm_251_input', description=\"created by layer 'lstm_251_input'\"), but it was called on an input with incompatible shape (None, 9, 1).\n",
      "WARNING:tensorflow:Model was constructed with shape (None, 2, 1) for input KerasTensor(type_spec=TensorSpec(shape=(None, 2, 1), dtype=tf.float32, name='lstm_251_input'), name='lstm_251_input', description=\"created by layer 'lstm_251_input'\"), but it was called on an input with incompatible shape (None, 9, 1).\n",
      "WARNING:tensorflow:Model was constructed with shape (None, 2, 1) for input KerasTensor(type_spec=TensorSpec(shape=(None, 2, 1), dtype=tf.float32, name='lstm_251_input'), name='lstm_251_input', description=\"created by layer 'lstm_251_input'\"), but it was called on an input with incompatible shape (None, 9, 1).\n",
      "WARNING:tensorflow:Model was constructed with shape (None, 3, 1) for input KerasTensor(type_spec=TensorSpec(shape=(None, 3, 1), dtype=tf.float32, name='lstm_252_input'), name='lstm_252_input', description=\"created by layer 'lstm_252_input'\"), but it was called on an input with incompatible shape (None, 9, 1).\n",
      "WARNING:tensorflow:Model was constructed with shape (None, 3, 1) for input KerasTensor(type_spec=TensorSpec(shape=(None, 3, 1), dtype=tf.float32, name='lstm_252_input'), name='lstm_252_input', description=\"created by layer 'lstm_252_input'\"), but it was called on an input with incompatible shape (None, 9, 1).\n",
      "WARNING:tensorflow:Model was constructed with shape (None, 3, 1) for input KerasTensor(type_spec=TensorSpec(shape=(None, 3, 1), dtype=tf.float32, name='lstm_252_input'), name='lstm_252_input', description=\"created by layer 'lstm_252_input'\"), but it was called on an input with incompatible shape (None, 9, 1).\n",
      "WARNING:tensorflow:Model was constructed with shape (None, 3, 1) for input KerasTensor(type_spec=TensorSpec(shape=(None, 3, 1), dtype=tf.float32, name='lstm_253_input'), name='lstm_253_input', description=\"created by layer 'lstm_253_input'\"), but it was called on an input with incompatible shape (None, 9, 1).\n",
      "WARNING:tensorflow:Model was constructed with shape (None, 3, 1) for input KerasTensor(type_spec=TensorSpec(shape=(None, 3, 1), dtype=tf.float32, name='lstm_253_input'), name='lstm_253_input', description=\"created by layer 'lstm_253_input'\"), but it was called on an input with incompatible shape (None, 9, 1).\n",
      "WARNING:tensorflow:Model was constructed with shape (None, 3, 1) for input KerasTensor(type_spec=TensorSpec(shape=(None, 3, 1), dtype=tf.float32, name='lstm_253_input'), name='lstm_253_input', description=\"created by layer 'lstm_253_input'\"), but it was called on an input with incompatible shape (None, 9, 1).\n",
      "WARNING:tensorflow:Model was constructed with shape (None, 1, 1) for input KerasTensor(type_spec=TensorSpec(shape=(None, 1, 1), dtype=tf.float32, name='lstm_254_input'), name='lstm_254_input', description=\"created by layer 'lstm_254_input'\"), but it was called on an input with incompatible shape (None, 9, 1).\n",
      "WARNING:tensorflow:Model was constructed with shape (None, 1, 1) for input KerasTensor(type_spec=TensorSpec(shape=(None, 1, 1), dtype=tf.float32, name='lstm_254_input'), name='lstm_254_input', description=\"created by layer 'lstm_254_input'\"), but it was called on an input with incompatible shape (None, 9, 1).\n",
      "WARNING:tensorflow:Model was constructed with shape (None, 1, 1) for input KerasTensor(type_spec=TensorSpec(shape=(None, 1, 1), dtype=tf.float32, name='lstm_254_input'), name='lstm_254_input', description=\"created by layer 'lstm_254_input'\"), but it was called on an input with incompatible shape (None, 9, 1).\n",
      "WARNING:tensorflow:Model was constructed with shape (None, 1, 1) for input KerasTensor(type_spec=TensorSpec(shape=(None, 1, 1), dtype=tf.float32, name='lstm_255_input'), name='lstm_255_input', description=\"created by layer 'lstm_255_input'\"), but it was called on an input with incompatible shape (None, 9, 1).\n",
      "WARNING:tensorflow:Model was constructed with shape (None, 1, 1) for input KerasTensor(type_spec=TensorSpec(shape=(None, 1, 1), dtype=tf.float32, name='lstm_255_input'), name='lstm_255_input', description=\"created by layer 'lstm_255_input'\"), but it was called on an input with incompatible shape (None, 9, 1).\n",
      "WARNING:tensorflow:Model was constructed with shape (None, 1, 1) for input KerasTensor(type_spec=TensorSpec(shape=(None, 1, 1), dtype=tf.float32, name='lstm_255_input'), name='lstm_255_input', description=\"created by layer 'lstm_255_input'\"), but it was called on an input with incompatible shape (None, 9, 1).\n",
      "WARNING:tensorflow:Model was constructed with shape (None, 2, 1) for input KerasTensor(type_spec=TensorSpec(shape=(None, 2, 1), dtype=tf.float32, name='lstm_256_input'), name='lstm_256_input', description=\"created by layer 'lstm_256_input'\"), but it was called on an input with incompatible shape (None, 9, 1).\n",
      "WARNING:tensorflow:Model was constructed with shape (None, 2, 1) for input KerasTensor(type_spec=TensorSpec(shape=(None, 2, 1), dtype=tf.float32, name='lstm_256_input'), name='lstm_256_input', description=\"created by layer 'lstm_256_input'\"), but it was called on an input with incompatible shape (None, 9, 1).\n",
      "WARNING:tensorflow:Model was constructed with shape (None, 2, 1) for input KerasTensor(type_spec=TensorSpec(shape=(None, 2, 1), dtype=tf.float32, name='lstm_256_input'), name='lstm_256_input', description=\"created by layer 'lstm_256_input'\"), but it was called on an input with incompatible shape (None, 9, 1).\n"
     ]
    },
    {
     "name": "stdout",
     "output_type": "stream",
     "text": [
      "WARNING:tensorflow:Model was constructed with shape (None, 2, 1) for input KerasTensor(type_spec=TensorSpec(shape=(None, 2, 1), dtype=tf.float32, name='lstm_257_input'), name='lstm_257_input', description=\"created by layer 'lstm_257_input'\"), but it was called on an input with incompatible shape (None, 9, 1).\n",
      "WARNING:tensorflow:Model was constructed with shape (None, 2, 1) for input KerasTensor(type_spec=TensorSpec(shape=(None, 2, 1), dtype=tf.float32, name='lstm_257_input'), name='lstm_257_input', description=\"created by layer 'lstm_257_input'\"), but it was called on an input with incompatible shape (None, 9, 1).\n",
      "WARNING:tensorflow:Model was constructed with shape (None, 2, 1) for input KerasTensor(type_spec=TensorSpec(shape=(None, 2, 1), dtype=tf.float32, name='lstm_257_input'), name='lstm_257_input', description=\"created by layer 'lstm_257_input'\"), but it was called on an input with incompatible shape (None, 9, 1).\n",
      "WARNING:tensorflow:Model was constructed with shape (None, 3, 1) for input KerasTensor(type_spec=TensorSpec(shape=(None, 3, 1), dtype=tf.float32, name='lstm_258_input'), name='lstm_258_input', description=\"created by layer 'lstm_258_input'\"), but it was called on an input with incompatible shape (None, 9, 1).\n",
      "WARNING:tensorflow:Model was constructed with shape (None, 3, 1) for input KerasTensor(type_spec=TensorSpec(shape=(None, 3, 1), dtype=tf.float32, name='lstm_258_input'), name='lstm_258_input', description=\"created by layer 'lstm_258_input'\"), but it was called on an input with incompatible shape (None, 9, 1).\n",
      "WARNING:tensorflow:Model was constructed with shape (None, 3, 1) for input KerasTensor(type_spec=TensorSpec(shape=(None, 3, 1), dtype=tf.float32, name='lstm_258_input'), name='lstm_258_input', description=\"created by layer 'lstm_258_input'\"), but it was called on an input with incompatible shape (None, 9, 1).\n",
      "WARNING:tensorflow:Model was constructed with shape (None, 3, 1) for input KerasTensor(type_spec=TensorSpec(shape=(None, 3, 1), dtype=tf.float32, name='lstm_259_input'), name='lstm_259_input', description=\"created by layer 'lstm_259_input'\"), but it was called on an input with incompatible shape (None, 9, 1).\n",
      "WARNING:tensorflow:Model was constructed with shape (None, 3, 1) for input KerasTensor(type_spec=TensorSpec(shape=(None, 3, 1), dtype=tf.float32, name='lstm_259_input'), name='lstm_259_input', description=\"created by layer 'lstm_259_input'\"), but it was called on an input with incompatible shape (None, 9, 1).\n",
      "WARNING:tensorflow:Model was constructed with shape (None, 3, 1) for input KerasTensor(type_spec=TensorSpec(shape=(None, 3, 1), dtype=tf.float32, name='lstm_259_input'), name='lstm_259_input', description=\"created by layer 'lstm_259_input'\"), but it was called on an input with incompatible shape (None, 9, 1).\n",
      "WARNING:tensorflow:Model was constructed with shape (None, 1, 1) for input KerasTensor(type_spec=TensorSpec(shape=(None, 1, 1), dtype=tf.float32, name='lstm_260_input'), name='lstm_260_input', description=\"created by layer 'lstm_260_input'\"), but it was called on an input with incompatible shape (None, 9, 1).\n",
      "WARNING:tensorflow:Model was constructed with shape (None, 1, 1) for input KerasTensor(type_spec=TensorSpec(shape=(None, 1, 1), dtype=tf.float32, name='lstm_260_input'), name='lstm_260_input', description=\"created by layer 'lstm_260_input'\"), but it was called on an input with incompatible shape (None, 9, 1).\n",
      "WARNING:tensorflow:Model was constructed with shape (None, 1, 1) for input KerasTensor(type_spec=TensorSpec(shape=(None, 1, 1), dtype=tf.float32, name='lstm_260_input'), name='lstm_260_input', description=\"created by layer 'lstm_260_input'\"), but it was called on an input with incompatible shape (None, 9, 1).\n",
      "WARNING:tensorflow:Model was constructed with shape (None, 1, 1) for input KerasTensor(type_spec=TensorSpec(shape=(None, 1, 1), dtype=tf.float32, name='lstm_261_input'), name='lstm_261_input', description=\"created by layer 'lstm_261_input'\"), but it was called on an input with incompatible shape (None, 9, 1).\n",
      "WARNING:tensorflow:Model was constructed with shape (None, 1, 1) for input KerasTensor(type_spec=TensorSpec(shape=(None, 1, 1), dtype=tf.float32, name='lstm_261_input'), name='lstm_261_input', description=\"created by layer 'lstm_261_input'\"), but it was called on an input with incompatible shape (None, 9, 1).\n",
      "WARNING:tensorflow:Model was constructed with shape (None, 1, 1) for input KerasTensor(type_spec=TensorSpec(shape=(None, 1, 1), dtype=tf.float32, name='lstm_261_input'), name='lstm_261_input', description=\"created by layer 'lstm_261_input'\"), but it was called on an input with incompatible shape (None, 9, 1).\n",
      "WARNING:tensorflow:Model was constructed with shape (None, 2, 1) for input KerasTensor(type_spec=TensorSpec(shape=(None, 2, 1), dtype=tf.float32, name='lstm_262_input'), name='lstm_262_input', description=\"created by layer 'lstm_262_input'\"), but it was called on an input with incompatible shape (None, 9, 1).\n",
      "WARNING:tensorflow:Model was constructed with shape (None, 2, 1) for input KerasTensor(type_spec=TensorSpec(shape=(None, 2, 1), dtype=tf.float32, name='lstm_262_input'), name='lstm_262_input', description=\"created by layer 'lstm_262_input'\"), but it was called on an input with incompatible shape (None, 9, 1).\n",
      "WARNING:tensorflow:Model was constructed with shape (None, 2, 1) for input KerasTensor(type_spec=TensorSpec(shape=(None, 2, 1), dtype=tf.float32, name='lstm_262_input'), name='lstm_262_input', description=\"created by layer 'lstm_262_input'\"), but it was called on an input with incompatible shape (None, 9, 1).\n",
      "WARNING:tensorflow:Model was constructed with shape (None, 2, 1) for input KerasTensor(type_spec=TensorSpec(shape=(None, 2, 1), dtype=tf.float32, name='lstm_263_input'), name='lstm_263_input', description=\"created by layer 'lstm_263_input'\"), but it was called on an input with incompatible shape (None, 9, 1).\n",
      "WARNING:tensorflow:Model was constructed with shape (None, 2, 1) for input KerasTensor(type_spec=TensorSpec(shape=(None, 2, 1), dtype=tf.float32, name='lstm_263_input'), name='lstm_263_input', description=\"created by layer 'lstm_263_input'\"), but it was called on an input with incompatible shape (None, 9, 1).\n",
      "WARNING:tensorflow:Model was constructed with shape (None, 2, 1) for input KerasTensor(type_spec=TensorSpec(shape=(None, 2, 1), dtype=tf.float32, name='lstm_263_input'), name='lstm_263_input', description=\"created by layer 'lstm_263_input'\"), but it was called on an input with incompatible shape (None, 9, 1).\n",
      "WARNING:tensorflow:Model was constructed with shape (None, 3, 1) for input KerasTensor(type_spec=TensorSpec(shape=(None, 3, 1), dtype=tf.float32, name='lstm_264_input'), name='lstm_264_input', description=\"created by layer 'lstm_264_input'\"), but it was called on an input with incompatible shape (None, 9, 1).\n",
      "WARNING:tensorflow:Model was constructed with shape (None, 3, 1) for input KerasTensor(type_spec=TensorSpec(shape=(None, 3, 1), dtype=tf.float32, name='lstm_264_input'), name='lstm_264_input', description=\"created by layer 'lstm_264_input'\"), but it was called on an input with incompatible shape (None, 9, 1).\n",
      "WARNING:tensorflow:Model was constructed with shape (None, 3, 1) for input KerasTensor(type_spec=TensorSpec(shape=(None, 3, 1), dtype=tf.float32, name='lstm_264_input'), name='lstm_264_input', description=\"created by layer 'lstm_264_input'\"), but it was called on an input with incompatible shape (None, 9, 1).\n",
      "WARNING:tensorflow:Model was constructed with shape (None, 3, 1) for input KerasTensor(type_spec=TensorSpec(shape=(None, 3, 1), dtype=tf.float32, name='lstm_265_input'), name='lstm_265_input', description=\"created by layer 'lstm_265_input'\"), but it was called on an input with incompatible shape (None, 9, 1).\n",
      "WARNING:tensorflow:Model was constructed with shape (None, 3, 1) for input KerasTensor(type_spec=TensorSpec(shape=(None, 3, 1), dtype=tf.float32, name='lstm_265_input'), name='lstm_265_input', description=\"created by layer 'lstm_265_input'\"), but it was called on an input with incompatible shape (None, 9, 1).\n",
      "WARNING:tensorflow:Model was constructed with shape (None, 3, 1) for input KerasTensor(type_spec=TensorSpec(shape=(None, 3, 1), dtype=tf.float32, name='lstm_265_input'), name='lstm_265_input', description=\"created by layer 'lstm_265_input'\"), but it was called on an input with incompatible shape (None, 9, 1).\n"
     ]
    },
    {
     "name": "stdout",
     "output_type": "stream",
     "text": [
      "WARNING:tensorflow:Model was constructed with shape (None, 1, 1) for input KerasTensor(type_spec=TensorSpec(shape=(None, 1, 1), dtype=tf.float32, name='lstm_266_input'), name='lstm_266_input', description=\"created by layer 'lstm_266_input'\"), but it was called on an input with incompatible shape (None, 9, 1).\n",
      "WARNING:tensorflow:Model was constructed with shape (None, 1, 1) for input KerasTensor(type_spec=TensorSpec(shape=(None, 1, 1), dtype=tf.float32, name='lstm_266_input'), name='lstm_266_input', description=\"created by layer 'lstm_266_input'\"), but it was called on an input with incompatible shape (None, 9, 1).\n",
      "WARNING:tensorflow:Model was constructed with shape (None, 1, 1) for input KerasTensor(type_spec=TensorSpec(shape=(None, 1, 1), dtype=tf.float32, name='lstm_266_input'), name='lstm_266_input', description=\"created by layer 'lstm_266_input'\"), but it was called on an input with incompatible shape (None, 9, 1).\n",
      "WARNING:tensorflow:Model was constructed with shape (None, 1, 1) for input KerasTensor(type_spec=TensorSpec(shape=(None, 1, 1), dtype=tf.float32, name='lstm_268_input'), name='lstm_268_input', description=\"created by layer 'lstm_268_input'\"), but it was called on an input with incompatible shape (None, 9, 1).\n",
      "WARNING:tensorflow:Model was constructed with shape (None, 1, 1) for input KerasTensor(type_spec=TensorSpec(shape=(None, 1, 1), dtype=tf.float32, name='lstm_268_input'), name='lstm_268_input', description=\"created by layer 'lstm_268_input'\"), but it was called on an input with incompatible shape (None, 9, 1).\n",
      "WARNING:tensorflow:Model was constructed with shape (None, 1, 1) for input KerasTensor(type_spec=TensorSpec(shape=(None, 1, 1), dtype=tf.float32, name='lstm_268_input'), name='lstm_268_input', description=\"created by layer 'lstm_268_input'\"), but it was called on an input with incompatible shape (None, 9, 1).\n",
      "WARNING:tensorflow:Model was constructed with shape (None, 2, 1) for input KerasTensor(type_spec=TensorSpec(shape=(None, 2, 1), dtype=tf.float32, name='lstm_270_input'), name='lstm_270_input', description=\"created by layer 'lstm_270_input'\"), but it was called on an input with incompatible shape (None, 9, 1).\n",
      "WARNING:tensorflow:Model was constructed with shape (None, 2, 1) for input KerasTensor(type_spec=TensorSpec(shape=(None, 2, 1), dtype=tf.float32, name='lstm_270_input'), name='lstm_270_input', description=\"created by layer 'lstm_270_input'\"), but it was called on an input with incompatible shape (None, 9, 1).\n",
      "WARNING:tensorflow:Model was constructed with shape (None, 2, 1) for input KerasTensor(type_spec=TensorSpec(shape=(None, 2, 1), dtype=tf.float32, name='lstm_270_input'), name='lstm_270_input', description=\"created by layer 'lstm_270_input'\"), but it was called on an input with incompatible shape (None, 9, 1).\n",
      "WARNING:tensorflow:Model was constructed with shape (None, 2, 1) for input KerasTensor(type_spec=TensorSpec(shape=(None, 2, 1), dtype=tf.float32, name='lstm_272_input'), name='lstm_272_input', description=\"created by layer 'lstm_272_input'\"), but it was called on an input with incompatible shape (None, 9, 1).\n",
      "WARNING:tensorflow:Model was constructed with shape (None, 2, 1) for input KerasTensor(type_spec=TensorSpec(shape=(None, 2, 1), dtype=tf.float32, name='lstm_272_input'), name='lstm_272_input', description=\"created by layer 'lstm_272_input'\"), but it was called on an input with incompatible shape (None, 9, 1).\n",
      "WARNING:tensorflow:Model was constructed with shape (None, 2, 1) for input KerasTensor(type_spec=TensorSpec(shape=(None, 2, 1), dtype=tf.float32, name='lstm_272_input'), name='lstm_272_input', description=\"created by layer 'lstm_272_input'\"), but it was called on an input with incompatible shape (None, 9, 1).\n",
      "WARNING:tensorflow:Model was constructed with shape (None, 3, 1) for input KerasTensor(type_spec=TensorSpec(shape=(None, 3, 1), dtype=tf.float32, name='lstm_274_input'), name='lstm_274_input', description=\"created by layer 'lstm_274_input'\"), but it was called on an input with incompatible shape (None, 9, 1).\n",
      "WARNING:tensorflow:Model was constructed with shape (None, 3, 1) for input KerasTensor(type_spec=TensorSpec(shape=(None, 3, 1), dtype=tf.float32, name='lstm_274_input'), name='lstm_274_input', description=\"created by layer 'lstm_274_input'\"), but it was called on an input with incompatible shape (None, 9, 1).\n",
      "WARNING:tensorflow:Model was constructed with shape (None, 3, 1) for input KerasTensor(type_spec=TensorSpec(shape=(None, 3, 1), dtype=tf.float32, name='lstm_274_input'), name='lstm_274_input', description=\"created by layer 'lstm_274_input'\"), but it was called on an input with incompatible shape (None, 9, 1).\n",
      "WARNING:tensorflow:Model was constructed with shape (None, 3, 1) for input KerasTensor(type_spec=TensorSpec(shape=(None, 3, 1), dtype=tf.float32, name='lstm_276_input'), name='lstm_276_input', description=\"created by layer 'lstm_276_input'\"), but it was called on an input with incompatible shape (None, 9, 1).\n",
      "WARNING:tensorflow:Model was constructed with shape (None, 3, 1) for input KerasTensor(type_spec=TensorSpec(shape=(None, 3, 1), dtype=tf.float32, name='lstm_276_input'), name='lstm_276_input', description=\"created by layer 'lstm_276_input'\"), but it was called on an input with incompatible shape (None, 9, 1).\n",
      "WARNING:tensorflow:Model was constructed with shape (None, 3, 1) for input KerasTensor(type_spec=TensorSpec(shape=(None, 3, 1), dtype=tf.float32, name='lstm_276_input'), name='lstm_276_input', description=\"created by layer 'lstm_276_input'\"), but it was called on an input with incompatible shape (None, 9, 1).\n",
      "WARNING:tensorflow:Model was constructed with shape (None, 1, 1) for input KerasTensor(type_spec=TensorSpec(shape=(None, 1, 1), dtype=tf.float32, name='lstm_278_input'), name='lstm_278_input', description=\"created by layer 'lstm_278_input'\"), but it was called on an input with incompatible shape (None, 9, 1).\n",
      "WARNING:tensorflow:Model was constructed with shape (None, 1, 1) for input KerasTensor(type_spec=TensorSpec(shape=(None, 1, 1), dtype=tf.float32, name='lstm_278_input'), name='lstm_278_input', description=\"created by layer 'lstm_278_input'\"), but it was called on an input with incompatible shape (None, 9, 1).\n",
      "WARNING:tensorflow:Model was constructed with shape (None, 1, 1) for input KerasTensor(type_spec=TensorSpec(shape=(None, 1, 1), dtype=tf.float32, name='lstm_278_input'), name='lstm_278_input', description=\"created by layer 'lstm_278_input'\"), but it was called on an input with incompatible shape (None, 9, 1).\n",
      "WARNING:tensorflow:Model was constructed with shape (None, 1, 1) for input KerasTensor(type_spec=TensorSpec(shape=(None, 1, 1), dtype=tf.float32, name='lstm_280_input'), name='lstm_280_input', description=\"created by layer 'lstm_280_input'\"), but it was called on an input with incompatible shape (None, 9, 1).\n",
      "WARNING:tensorflow:Model was constructed with shape (None, 1, 1) for input KerasTensor(type_spec=TensorSpec(shape=(None, 1, 1), dtype=tf.float32, name='lstm_280_input'), name='lstm_280_input', description=\"created by layer 'lstm_280_input'\"), but it was called on an input with incompatible shape (None, 9, 1).\n",
      "WARNING:tensorflow:Model was constructed with shape (None, 1, 1) for input KerasTensor(type_spec=TensorSpec(shape=(None, 1, 1), dtype=tf.float32, name='lstm_280_input'), name='lstm_280_input', description=\"created by layer 'lstm_280_input'\"), but it was called on an input with incompatible shape (None, 9, 1).\n",
      "WARNING:tensorflow:Model was constructed with shape (None, 2, 1) for input KerasTensor(type_spec=TensorSpec(shape=(None, 2, 1), dtype=tf.float32, name='lstm_282_input'), name='lstm_282_input', description=\"created by layer 'lstm_282_input'\"), but it was called on an input with incompatible shape (None, 9, 1).\n",
      "WARNING:tensorflow:Model was constructed with shape (None, 2, 1) for input KerasTensor(type_spec=TensorSpec(shape=(None, 2, 1), dtype=tf.float32, name='lstm_282_input'), name='lstm_282_input', description=\"created by layer 'lstm_282_input'\"), but it was called on an input with incompatible shape (None, 9, 1).\n",
      "WARNING:tensorflow:Model was constructed with shape (None, 2, 1) for input KerasTensor(type_spec=TensorSpec(shape=(None, 2, 1), dtype=tf.float32, name='lstm_282_input'), name='lstm_282_input', description=\"created by layer 'lstm_282_input'\"), but it was called on an input with incompatible shape (None, 9, 1).\n"
     ]
    },
    {
     "name": "stdout",
     "output_type": "stream",
     "text": [
      "WARNING:tensorflow:Model was constructed with shape (None, 2, 1) for input KerasTensor(type_spec=TensorSpec(shape=(None, 2, 1), dtype=tf.float32, name='lstm_284_input'), name='lstm_284_input', description=\"created by layer 'lstm_284_input'\"), but it was called on an input with incompatible shape (None, 9, 1).\n",
      "WARNING:tensorflow:Model was constructed with shape (None, 2, 1) for input KerasTensor(type_spec=TensorSpec(shape=(None, 2, 1), dtype=tf.float32, name='lstm_284_input'), name='lstm_284_input', description=\"created by layer 'lstm_284_input'\"), but it was called on an input with incompatible shape (None, 9, 1).\n",
      "WARNING:tensorflow:Model was constructed with shape (None, 2, 1) for input KerasTensor(type_spec=TensorSpec(shape=(None, 2, 1), dtype=tf.float32, name='lstm_284_input'), name='lstm_284_input', description=\"created by layer 'lstm_284_input'\"), but it was called on an input with incompatible shape (None, 9, 1).\n",
      "WARNING:tensorflow:Model was constructed with shape (None, 3, 1) for input KerasTensor(type_spec=TensorSpec(shape=(None, 3, 1), dtype=tf.float32, name='lstm_286_input'), name='lstm_286_input', description=\"created by layer 'lstm_286_input'\"), but it was called on an input with incompatible shape (None, 9, 1).\n",
      "WARNING:tensorflow:Model was constructed with shape (None, 3, 1) for input KerasTensor(type_spec=TensorSpec(shape=(None, 3, 1), dtype=tf.float32, name='lstm_286_input'), name='lstm_286_input', description=\"created by layer 'lstm_286_input'\"), but it was called on an input with incompatible shape (None, 9, 1).\n",
      "WARNING:tensorflow:Model was constructed with shape (None, 3, 1) for input KerasTensor(type_spec=TensorSpec(shape=(None, 3, 1), dtype=tf.float32, name='lstm_286_input'), name='lstm_286_input', description=\"created by layer 'lstm_286_input'\"), but it was called on an input with incompatible shape (None, 9, 1).\n",
      "WARNING:tensorflow:Model was constructed with shape (None, 3, 1) for input KerasTensor(type_spec=TensorSpec(shape=(None, 3, 1), dtype=tf.float32, name='lstm_288_input'), name='lstm_288_input', description=\"created by layer 'lstm_288_input'\"), but it was called on an input with incompatible shape (None, 9, 1).\n",
      "WARNING:tensorflow:Model was constructed with shape (None, 3, 1) for input KerasTensor(type_spec=TensorSpec(shape=(None, 3, 1), dtype=tf.float32, name='lstm_288_input'), name='lstm_288_input', description=\"created by layer 'lstm_288_input'\"), but it was called on an input with incompatible shape (None, 9, 1).\n",
      "WARNING:tensorflow:Model was constructed with shape (None, 3, 1) for input KerasTensor(type_spec=TensorSpec(shape=(None, 3, 1), dtype=tf.float32, name='lstm_288_input'), name='lstm_288_input', description=\"created by layer 'lstm_288_input'\"), but it was called on an input with incompatible shape (None, 9, 1).\n",
      "WARNING:tensorflow:Model was constructed with shape (None, 1, 1) for input KerasTensor(type_spec=TensorSpec(shape=(None, 1, 1), dtype=tf.float32, name='lstm_290_input'), name='lstm_290_input', description=\"created by layer 'lstm_290_input'\"), but it was called on an input with incompatible shape (None, 9, 1).\n",
      "WARNING:tensorflow:Model was constructed with shape (None, 1, 1) for input KerasTensor(type_spec=TensorSpec(shape=(None, 1, 1), dtype=tf.float32, name='lstm_290_input'), name='lstm_290_input', description=\"created by layer 'lstm_290_input'\"), but it was called on an input with incompatible shape (None, 9, 1).\n",
      "WARNING:tensorflow:Model was constructed with shape (None, 1, 1) for input KerasTensor(type_spec=TensorSpec(shape=(None, 1, 1), dtype=tf.float32, name='lstm_290_input'), name='lstm_290_input', description=\"created by layer 'lstm_290_input'\"), but it was called on an input with incompatible shape (None, 9, 1).\n",
      "WARNING:tensorflow:Model was constructed with shape (None, 1, 1) for input KerasTensor(type_spec=TensorSpec(shape=(None, 1, 1), dtype=tf.float32, name='lstm_292_input'), name='lstm_292_input', description=\"created by layer 'lstm_292_input'\"), but it was called on an input with incompatible shape (None, 9, 1).\n",
      "WARNING:tensorflow:Model was constructed with shape (None, 1, 1) for input KerasTensor(type_spec=TensorSpec(shape=(None, 1, 1), dtype=tf.float32, name='lstm_292_input'), name='lstm_292_input', description=\"created by layer 'lstm_292_input'\"), but it was called on an input with incompatible shape (None, 9, 1).\n",
      "WARNING:tensorflow:Model was constructed with shape (None, 1, 1) for input KerasTensor(type_spec=TensorSpec(shape=(None, 1, 1), dtype=tf.float32, name='lstm_292_input'), name='lstm_292_input', description=\"created by layer 'lstm_292_input'\"), but it was called on an input with incompatible shape (None, 9, 1).\n",
      "WARNING:tensorflow:Model was constructed with shape (None, 2, 1) for input KerasTensor(type_spec=TensorSpec(shape=(None, 2, 1), dtype=tf.float32, name='lstm_294_input'), name='lstm_294_input', description=\"created by layer 'lstm_294_input'\"), but it was called on an input with incompatible shape (None, 9, 1).\n",
      "WARNING:tensorflow:Model was constructed with shape (None, 2, 1) for input KerasTensor(type_spec=TensorSpec(shape=(None, 2, 1), dtype=tf.float32, name='lstm_294_input'), name='lstm_294_input', description=\"created by layer 'lstm_294_input'\"), but it was called on an input with incompatible shape (None, 9, 1).\n",
      "WARNING:tensorflow:Model was constructed with shape (None, 2, 1) for input KerasTensor(type_spec=TensorSpec(shape=(None, 2, 1), dtype=tf.float32, name='lstm_294_input'), name='lstm_294_input', description=\"created by layer 'lstm_294_input'\"), but it was called on an input with incompatible shape (None, 9, 1).\n",
      "WARNING:tensorflow:Model was constructed with shape (None, 2, 1) for input KerasTensor(type_spec=TensorSpec(shape=(None, 2, 1), dtype=tf.float32, name='lstm_296_input'), name='lstm_296_input', description=\"created by layer 'lstm_296_input'\"), but it was called on an input with incompatible shape (None, 9, 1).\n",
      "WARNING:tensorflow:Model was constructed with shape (None, 2, 1) for input KerasTensor(type_spec=TensorSpec(shape=(None, 2, 1), dtype=tf.float32, name='lstm_296_input'), name='lstm_296_input', description=\"created by layer 'lstm_296_input'\"), but it was called on an input with incompatible shape (None, 9, 1).\n",
      "WARNING:tensorflow:Model was constructed with shape (None, 2, 1) for input KerasTensor(type_spec=TensorSpec(shape=(None, 2, 1), dtype=tf.float32, name='lstm_296_input'), name='lstm_296_input', description=\"created by layer 'lstm_296_input'\"), but it was called on an input with incompatible shape (None, 9, 1).\n",
      "WARNING:tensorflow:Model was constructed with shape (None, 3, 1) for input KerasTensor(type_spec=TensorSpec(shape=(None, 3, 1), dtype=tf.float32, name='lstm_298_input'), name='lstm_298_input', description=\"created by layer 'lstm_298_input'\"), but it was called on an input with incompatible shape (None, 9, 1).\n",
      "WARNING:tensorflow:Model was constructed with shape (None, 3, 1) for input KerasTensor(type_spec=TensorSpec(shape=(None, 3, 1), dtype=tf.float32, name='lstm_298_input'), name='lstm_298_input', description=\"created by layer 'lstm_298_input'\"), but it was called on an input with incompatible shape (None, 9, 1).\n",
      "WARNING:tensorflow:Model was constructed with shape (None, 3, 1) for input KerasTensor(type_spec=TensorSpec(shape=(None, 3, 1), dtype=tf.float32, name='lstm_298_input'), name='lstm_298_input', description=\"created by layer 'lstm_298_input'\"), but it was called on an input with incompatible shape (None, 9, 1).\n",
      "WARNING:tensorflow:Model was constructed with shape (None, 3, 1) for input KerasTensor(type_spec=TensorSpec(shape=(None, 3, 1), dtype=tf.float32, name='lstm_300_input'), name='lstm_300_input', description=\"created by layer 'lstm_300_input'\"), but it was called on an input with incompatible shape (None, 9, 1).\n",
      "WARNING:tensorflow:Model was constructed with shape (None, 3, 1) for input KerasTensor(type_spec=TensorSpec(shape=(None, 3, 1), dtype=tf.float32, name='lstm_300_input'), name='lstm_300_input', description=\"created by layer 'lstm_300_input'\"), but it was called on an input with incompatible shape (None, 9, 1).\n",
      "WARNING:tensorflow:Model was constructed with shape (None, 3, 1) for input KerasTensor(type_spec=TensorSpec(shape=(None, 3, 1), dtype=tf.float32, name='lstm_300_input'), name='lstm_300_input', description=\"created by layer 'lstm_300_input'\"), but it was called on an input with incompatible shape (None, 9, 1).\n"
     ]
    },
    {
     "name": "stdout",
     "output_type": "stream",
     "text": [
      "WARNING:tensorflow:Model was constructed with shape (None, 1, 1) for input KerasTensor(type_spec=TensorSpec(shape=(None, 1, 1), dtype=tf.float32, name='lstm_302_input'), name='lstm_302_input', description=\"created by layer 'lstm_302_input'\"), but it was called on an input with incompatible shape (None, 9, 1).\n",
      "WARNING:tensorflow:Model was constructed with shape (None, 1, 1) for input KerasTensor(type_spec=TensorSpec(shape=(None, 1, 1), dtype=tf.float32, name='lstm_302_input'), name='lstm_302_input', description=\"created by layer 'lstm_302_input'\"), but it was called on an input with incompatible shape (None, 9, 1).\n",
      "WARNING:tensorflow:Model was constructed with shape (None, 1, 1) for input KerasTensor(type_spec=TensorSpec(shape=(None, 1, 1), dtype=tf.float32, name='lstm_302_input'), name='lstm_302_input', description=\"created by layer 'lstm_302_input'\"), but it was called on an input with incompatible shape (None, 9, 1).\n",
      "WARNING:tensorflow:Model was constructed with shape (None, 1, 1) for input KerasTensor(type_spec=TensorSpec(shape=(None, 1, 1), dtype=tf.float32, name='lstm_305_input'), name='lstm_305_input', description=\"created by layer 'lstm_305_input'\"), but it was called on an input with incompatible shape (None, 9, 1).\n",
      "WARNING:tensorflow:Model was constructed with shape (None, 1, 1) for input KerasTensor(type_spec=TensorSpec(shape=(None, 1, 1), dtype=tf.float32, name='lstm_305_input'), name='lstm_305_input', description=\"created by layer 'lstm_305_input'\"), but it was called on an input with incompatible shape (None, 9, 1).\n",
      "WARNING:tensorflow:Model was constructed with shape (None, 1, 1) for input KerasTensor(type_spec=TensorSpec(shape=(None, 1, 1), dtype=tf.float32, name='lstm_305_input'), name='lstm_305_input', description=\"created by layer 'lstm_305_input'\"), but it was called on an input with incompatible shape (None, 9, 1).\n",
      "WARNING:tensorflow:Model was constructed with shape (None, 2, 1) for input KerasTensor(type_spec=TensorSpec(shape=(None, 2, 1), dtype=tf.float32, name='lstm_308_input'), name='lstm_308_input', description=\"created by layer 'lstm_308_input'\"), but it was called on an input with incompatible shape (None, 9, 1).\n",
      "WARNING:tensorflow:Model was constructed with shape (None, 2, 1) for input KerasTensor(type_spec=TensorSpec(shape=(None, 2, 1), dtype=tf.float32, name='lstm_308_input'), name='lstm_308_input', description=\"created by layer 'lstm_308_input'\"), but it was called on an input with incompatible shape (None, 9, 1).\n",
      "WARNING:tensorflow:Model was constructed with shape (None, 2, 1) for input KerasTensor(type_spec=TensorSpec(shape=(None, 2, 1), dtype=tf.float32, name='lstm_308_input'), name='lstm_308_input', description=\"created by layer 'lstm_308_input'\"), but it was called on an input with incompatible shape (None, 9, 1).\n",
      "WARNING:tensorflow:Model was constructed with shape (None, 2, 1) for input KerasTensor(type_spec=TensorSpec(shape=(None, 2, 1), dtype=tf.float32, name='lstm_311_input'), name='lstm_311_input', description=\"created by layer 'lstm_311_input'\"), but it was called on an input with incompatible shape (None, 9, 1).\n",
      "WARNING:tensorflow:Model was constructed with shape (None, 2, 1) for input KerasTensor(type_spec=TensorSpec(shape=(None, 2, 1), dtype=tf.float32, name='lstm_311_input'), name='lstm_311_input', description=\"created by layer 'lstm_311_input'\"), but it was called on an input with incompatible shape (None, 9, 1).\n",
      "WARNING:tensorflow:Model was constructed with shape (None, 2, 1) for input KerasTensor(type_spec=TensorSpec(shape=(None, 2, 1), dtype=tf.float32, name='lstm_311_input'), name='lstm_311_input', description=\"created by layer 'lstm_311_input'\"), but it was called on an input with incompatible shape (None, 9, 1).\n",
      "WARNING:tensorflow:Model was constructed with shape (None, 3, 1) for input KerasTensor(type_spec=TensorSpec(shape=(None, 3, 1), dtype=tf.float32, name='lstm_314_input'), name='lstm_314_input', description=\"created by layer 'lstm_314_input'\"), but it was called on an input with incompatible shape (None, 9, 1).\n",
      "WARNING:tensorflow:Model was constructed with shape (None, 3, 1) for input KerasTensor(type_spec=TensorSpec(shape=(None, 3, 1), dtype=tf.float32, name='lstm_314_input'), name='lstm_314_input', description=\"created by layer 'lstm_314_input'\"), but it was called on an input with incompatible shape (None, 9, 1).\n",
      "WARNING:tensorflow:Model was constructed with shape (None, 3, 1) for input KerasTensor(type_spec=TensorSpec(shape=(None, 3, 1), dtype=tf.float32, name='lstm_314_input'), name='lstm_314_input', description=\"created by layer 'lstm_314_input'\"), but it was called on an input with incompatible shape (None, 9, 1).\n",
      "WARNING:tensorflow:Model was constructed with shape (None, 3, 1) for input KerasTensor(type_spec=TensorSpec(shape=(None, 3, 1), dtype=tf.float32, name='lstm_317_input'), name='lstm_317_input', description=\"created by layer 'lstm_317_input'\"), but it was called on an input with incompatible shape (None, 9, 1).\n",
      "WARNING:tensorflow:Model was constructed with shape (None, 3, 1) for input KerasTensor(type_spec=TensorSpec(shape=(None, 3, 1), dtype=tf.float32, name='lstm_317_input'), name='lstm_317_input', description=\"created by layer 'lstm_317_input'\"), but it was called on an input with incompatible shape (None, 9, 1).\n",
      "WARNING:tensorflow:Model was constructed with shape (None, 3, 1) for input KerasTensor(type_spec=TensorSpec(shape=(None, 3, 1), dtype=tf.float32, name='lstm_317_input'), name='lstm_317_input', description=\"created by layer 'lstm_317_input'\"), but it was called on an input with incompatible shape (None, 9, 1).\n",
      "WARNING:tensorflow:Model was constructed with shape (None, 1, 1) for input KerasTensor(type_spec=TensorSpec(shape=(None, 1, 1), dtype=tf.float32, name='lstm_320_input'), name='lstm_320_input', description=\"created by layer 'lstm_320_input'\"), but it was called on an input with incompatible shape (None, 9, 1).\n",
      "WARNING:tensorflow:Model was constructed with shape (None, 1, 1) for input KerasTensor(type_spec=TensorSpec(shape=(None, 1, 1), dtype=tf.float32, name='lstm_320_input'), name='lstm_320_input', description=\"created by layer 'lstm_320_input'\"), but it was called on an input with incompatible shape (None, 9, 1).\n",
      "WARNING:tensorflow:Model was constructed with shape (None, 1, 1) for input KerasTensor(type_spec=TensorSpec(shape=(None, 1, 1), dtype=tf.float32, name='lstm_320_input'), name='lstm_320_input', description=\"created by layer 'lstm_320_input'\"), but it was called on an input with incompatible shape (None, 9, 1).\n",
      "WARNING:tensorflow:Model was constructed with shape (None, 1, 1) for input KerasTensor(type_spec=TensorSpec(shape=(None, 1, 1), dtype=tf.float32, name='lstm_323_input'), name='lstm_323_input', description=\"created by layer 'lstm_323_input'\"), but it was called on an input with incompatible shape (None, 9, 1).\n",
      "WARNING:tensorflow:Model was constructed with shape (None, 1, 1) for input KerasTensor(type_spec=TensorSpec(shape=(None, 1, 1), dtype=tf.float32, name='lstm_323_input'), name='lstm_323_input', description=\"created by layer 'lstm_323_input'\"), but it was called on an input with incompatible shape (None, 9, 1).\n",
      "WARNING:tensorflow:Model was constructed with shape (None, 1, 1) for input KerasTensor(type_spec=TensorSpec(shape=(None, 1, 1), dtype=tf.float32, name='lstm_323_input'), name='lstm_323_input', description=\"created by layer 'lstm_323_input'\"), but it was called on an input with incompatible shape (None, 9, 1).\n",
      "WARNING:tensorflow:Model was constructed with shape (None, 2, 1) for input KerasTensor(type_spec=TensorSpec(shape=(None, 2, 1), dtype=tf.float32, name='lstm_326_input'), name='lstm_326_input', description=\"created by layer 'lstm_326_input'\"), but it was called on an input with incompatible shape (None, 9, 1).\n",
      "WARNING:tensorflow:Model was constructed with shape (None, 2, 1) for input KerasTensor(type_spec=TensorSpec(shape=(None, 2, 1), dtype=tf.float32, name='lstm_326_input'), name='lstm_326_input', description=\"created by layer 'lstm_326_input'\"), but it was called on an input with incompatible shape (None, 9, 1).\n",
      "WARNING:tensorflow:Model was constructed with shape (None, 2, 1) for input KerasTensor(type_spec=TensorSpec(shape=(None, 2, 1), dtype=tf.float32, name='lstm_326_input'), name='lstm_326_input', description=\"created by layer 'lstm_326_input'\"), but it was called on an input with incompatible shape (None, 9, 1).\n"
     ]
    },
    {
     "name": "stdout",
     "output_type": "stream",
     "text": [
      "WARNING:tensorflow:Model was constructed with shape (None, 2, 1) for input KerasTensor(type_spec=TensorSpec(shape=(None, 2, 1), dtype=tf.float32, name='lstm_329_input'), name='lstm_329_input', description=\"created by layer 'lstm_329_input'\"), but it was called on an input with incompatible shape (None, 9, 1).\n",
      "WARNING:tensorflow:Model was constructed with shape (None, 2, 1) for input KerasTensor(type_spec=TensorSpec(shape=(None, 2, 1), dtype=tf.float32, name='lstm_329_input'), name='lstm_329_input', description=\"created by layer 'lstm_329_input'\"), but it was called on an input with incompatible shape (None, 9, 1).\n",
      "WARNING:tensorflow:Model was constructed with shape (None, 2, 1) for input KerasTensor(type_spec=TensorSpec(shape=(None, 2, 1), dtype=tf.float32, name='lstm_329_input'), name='lstm_329_input', description=\"created by layer 'lstm_329_input'\"), but it was called on an input with incompatible shape (None, 9, 1).\n",
      "WARNING:tensorflow:Model was constructed with shape (None, 3, 1) for input KerasTensor(type_spec=TensorSpec(shape=(None, 3, 1), dtype=tf.float32, name='lstm_332_input'), name='lstm_332_input', description=\"created by layer 'lstm_332_input'\"), but it was called on an input with incompatible shape (None, 9, 1).\n",
      "WARNING:tensorflow:Model was constructed with shape (None, 3, 1) for input KerasTensor(type_spec=TensorSpec(shape=(None, 3, 1), dtype=tf.float32, name='lstm_332_input'), name='lstm_332_input', description=\"created by layer 'lstm_332_input'\"), but it was called on an input with incompatible shape (None, 9, 1).\n",
      "WARNING:tensorflow:Model was constructed with shape (None, 3, 1) for input KerasTensor(type_spec=TensorSpec(shape=(None, 3, 1), dtype=tf.float32, name='lstm_332_input'), name='lstm_332_input', description=\"created by layer 'lstm_332_input'\"), but it was called on an input with incompatible shape (None, 9, 1).\n",
      "WARNING:tensorflow:Model was constructed with shape (None, 3, 1) for input KerasTensor(type_spec=TensorSpec(shape=(None, 3, 1), dtype=tf.float32, name='lstm_335_input'), name='lstm_335_input', description=\"created by layer 'lstm_335_input'\"), but it was called on an input with incompatible shape (None, 9, 1).\n",
      "WARNING:tensorflow:Model was constructed with shape (None, 3, 1) for input KerasTensor(type_spec=TensorSpec(shape=(None, 3, 1), dtype=tf.float32, name='lstm_335_input'), name='lstm_335_input', description=\"created by layer 'lstm_335_input'\"), but it was called on an input with incompatible shape (None, 9, 1).\n",
      "WARNING:tensorflow:Model was constructed with shape (None, 3, 1) for input KerasTensor(type_spec=TensorSpec(shape=(None, 3, 1), dtype=tf.float32, name='lstm_335_input'), name='lstm_335_input', description=\"created by layer 'lstm_335_input'\"), but it was called on an input with incompatible shape (None, 9, 1).\n",
      "WARNING:tensorflow:Model was constructed with shape (None, 1, 1) for input KerasTensor(type_spec=TensorSpec(shape=(None, 1, 1), dtype=tf.float32, name='lstm_338_input'), name='lstm_338_input', description=\"created by layer 'lstm_338_input'\"), but it was called on an input with incompatible shape (None, 9, 1).\n",
      "WARNING:tensorflow:Model was constructed with shape (None, 1, 1) for input KerasTensor(type_spec=TensorSpec(shape=(None, 1, 1), dtype=tf.float32, name='lstm_338_input'), name='lstm_338_input', description=\"created by layer 'lstm_338_input'\"), but it was called on an input with incompatible shape (None, 9, 1).\n",
      "WARNING:tensorflow:Model was constructed with shape (None, 1, 1) for input KerasTensor(type_spec=TensorSpec(shape=(None, 1, 1), dtype=tf.float32, name='lstm_338_input'), name='lstm_338_input', description=\"created by layer 'lstm_338_input'\"), but it was called on an input with incompatible shape (None, 9, 1).\n",
      "WARNING:tensorflow:Model was constructed with shape (None, 1, 1) for input KerasTensor(type_spec=TensorSpec(shape=(None, 1, 1), dtype=tf.float32, name='lstm_341_input'), name='lstm_341_input', description=\"created by layer 'lstm_341_input'\"), but it was called on an input with incompatible shape (None, 9, 1).\n",
      "WARNING:tensorflow:Model was constructed with shape (None, 1, 1) for input KerasTensor(type_spec=TensorSpec(shape=(None, 1, 1), dtype=tf.float32, name='lstm_341_input'), name='lstm_341_input', description=\"created by layer 'lstm_341_input'\"), but it was called on an input with incompatible shape (None, 9, 1).\n",
      "WARNING:tensorflow:Model was constructed with shape (None, 1, 1) for input KerasTensor(type_spec=TensorSpec(shape=(None, 1, 1), dtype=tf.float32, name='lstm_341_input'), name='lstm_341_input', description=\"created by layer 'lstm_341_input'\"), but it was called on an input with incompatible shape (None, 9, 1).\n",
      "WARNING:tensorflow:Model was constructed with shape (None, 2, 1) for input KerasTensor(type_spec=TensorSpec(shape=(None, 2, 1), dtype=tf.float32, name='lstm_344_input'), name='lstm_344_input', description=\"created by layer 'lstm_344_input'\"), but it was called on an input with incompatible shape (None, 9, 1).\n",
      "WARNING:tensorflow:Model was constructed with shape (None, 2, 1) for input KerasTensor(type_spec=TensorSpec(shape=(None, 2, 1), dtype=tf.float32, name='lstm_344_input'), name='lstm_344_input', description=\"created by layer 'lstm_344_input'\"), but it was called on an input with incompatible shape (None, 9, 1).\n",
      "WARNING:tensorflow:Model was constructed with shape (None, 2, 1) for input KerasTensor(type_spec=TensorSpec(shape=(None, 2, 1), dtype=tf.float32, name='lstm_344_input'), name='lstm_344_input', description=\"created by layer 'lstm_344_input'\"), but it was called on an input with incompatible shape (None, 9, 1).\n",
      "WARNING:tensorflow:Model was constructed with shape (None, 2, 1) for input KerasTensor(type_spec=TensorSpec(shape=(None, 2, 1), dtype=tf.float32, name='lstm_347_input'), name='lstm_347_input', description=\"created by layer 'lstm_347_input'\"), but it was called on an input with incompatible shape (None, 9, 1).\n",
      "WARNING:tensorflow:Model was constructed with shape (None, 2, 1) for input KerasTensor(type_spec=TensorSpec(shape=(None, 2, 1), dtype=tf.float32, name='lstm_347_input'), name='lstm_347_input', description=\"created by layer 'lstm_347_input'\"), but it was called on an input with incompatible shape (None, 9, 1).\n",
      "WARNING:tensorflow:Model was constructed with shape (None, 2, 1) for input KerasTensor(type_spec=TensorSpec(shape=(None, 2, 1), dtype=tf.float32, name='lstm_347_input'), name='lstm_347_input', description=\"created by layer 'lstm_347_input'\"), but it was called on an input with incompatible shape (None, 9, 1).\n",
      "WARNING:tensorflow:Model was constructed with shape (None, 3, 1) for input KerasTensor(type_spec=TensorSpec(shape=(None, 3, 1), dtype=tf.float32, name='lstm_350_input'), name='lstm_350_input', description=\"created by layer 'lstm_350_input'\"), but it was called on an input with incompatible shape (None, 9, 1).\n",
      "WARNING:tensorflow:Model was constructed with shape (None, 3, 1) for input KerasTensor(type_spec=TensorSpec(shape=(None, 3, 1), dtype=tf.float32, name='lstm_350_input'), name='lstm_350_input', description=\"created by layer 'lstm_350_input'\"), but it was called on an input with incompatible shape (None, 9, 1).\n",
      "WARNING:tensorflow:Model was constructed with shape (None, 3, 1) for input KerasTensor(type_spec=TensorSpec(shape=(None, 3, 1), dtype=tf.float32, name='lstm_350_input'), name='lstm_350_input', description=\"created by layer 'lstm_350_input'\"), but it was called on an input with incompatible shape (None, 9, 1).\n",
      "WARNING:tensorflow:Model was constructed with shape (None, 3, 1) for input KerasTensor(type_spec=TensorSpec(shape=(None, 3, 1), dtype=tf.float32, name='lstm_353_input'), name='lstm_353_input', description=\"created by layer 'lstm_353_input'\"), but it was called on an input with incompatible shape (None, 9, 1).\n",
      "WARNING:tensorflow:Model was constructed with shape (None, 3, 1) for input KerasTensor(type_spec=TensorSpec(shape=(None, 3, 1), dtype=tf.float32, name='lstm_353_input'), name='lstm_353_input', description=\"created by layer 'lstm_353_input'\"), but it was called on an input with incompatible shape (None, 9, 1).\n",
      "WARNING:tensorflow:Model was constructed with shape (None, 3, 1) for input KerasTensor(type_spec=TensorSpec(shape=(None, 3, 1), dtype=tf.float32, name='lstm_353_input'), name='lstm_353_input', description=\"created by layer 'lstm_353_input'\"), but it was called on an input with incompatible shape (None, 9, 1).\n"
     ]
    }
   ],
   "source": [
    "res = []\n",
    "# 1 layer\n",
    "for unit in (4,8,16):\n",
    "    for time_step in (1,2,3):\n",
    "        for e in (200, 500):\n",
    "            res.append((([unit],time_step, e), LSTM_GS([unit], time_step, e)))\n",
    "\n",
    "# 2 layers\n",
    "for unit in (8,16,32):\n",
    "    for time_step in (1,2,3):\n",
    "        for e in (200, 500):\n",
    "            res.append((([unit, unit//2],time_step, e),LSTM_GS([unit, unit//2], time_step, e)))\n",
    "\n",
    "# 3 layers\n",
    "for unit in (8,16,32):\n",
    "    for time_step in (1,2,3):\n",
    "        for e in (200, 500):\n",
    "            res.append((([unit, unit//2, unit//4],time_step, e),LSTM_GS([unit, unit//2, unit//4], time_step, e)))"
   ]
  },
  {
   "cell_type": "code",
   "execution_count": 75,
   "metadata": {},
   "outputs": [
    {
     "data": {
      "text/plain": [
       "(([16], 2, 500), (3249.8426634525367, 1855.3524141398607))"
      ]
     },
     "execution_count": 75,
     "metadata": {},
     "output_type": "execute_result"
    }
   ],
   "source": [
    "# best combi\n",
    "sorted(res, key = lambda x : x[1][1])[0]"
   ]
  },
  {
   "cell_type": "code",
   "execution_count": 76,
   "metadata": {},
   "outputs": [],
   "source": [
    "layer_config = sorted(res, key = lambda x : x[1][1])[0][0][0]\n",
    "time_config = sorted(res, key = lambda x : x[1][1])[0][0][1]\n",
    "e_config = sorted(res, key = lambda x : x[1][1])[0][0][2]"
   ]
  },
  {
   "cell_type": "code",
   "execution_count": 77,
   "metadata": {},
   "outputs": [
    {
     "name": "stdout",
     "output_type": "stream",
     "text": [
      "[16] 2 500\n"
     ]
    }
   ],
   "source": [
    "print(layer_config, time_config, e_config)"
   ]
  },
  {
   "cell_type": "markdown",
   "metadata": {},
   "source": [
    "#### 7. Define a function to retrain the model with selected hyperparameters and generate test rmse"
   ]
  },
  {
   "cell_type": "code",
   "execution_count": 78,
   "metadata": {},
   "outputs": [],
   "source": [
    "def LSTM_pipe(layer_spe, time_step, e, x, y):\n",
    "    regressor = Sequential()\n",
    "    count = 0\n",
    "    for unit in layer_spe:\n",
    "        count += 1 \n",
    "        if len(layer_spe) == 1:\n",
    "            regressor.add(LSTM(unit, activation = \"relu\", input_shape = (time_step, 1))) # batch size, time steps, data dimension\n",
    "            regressor.add(Dropout(0.3))\n",
    "        else:\n",
    "            if count == 1:\n",
    "                regressor.add(LSTM(unit, activation = \"relu\", return_sequences=True, input_shape = (time_step, 1))) # batch size, time steps, data dimension\n",
    "                regressor.add(Dropout(0.3))\n",
    "            elif count < len(layer_spe): \n",
    "                regressor.add(LSTM(unit, activation = \"relu\", return_sequences=True))\n",
    "                regressor.add(Dropout(0.3))\n",
    "            else:\n",
    "                regressor.add(LSTM(unit, activation = \"relu\"))\n",
    "                regressor.add(Dropout(0.3))\n",
    "            \n",
    "    regressor.add(Dense(units = 1))\n",
    "    regressor.compile(optimizer = 'Adam', loss = root_mean_squared_error)\n",
    "    regressor.fit(x, y, epochs = e, verbose = 0)\n",
    "    return regressor"
   ]
  },
  {
   "cell_type": "code",
   "execution_count": 79,
   "metadata": {},
   "outputs": [
    {
     "name": "stdout",
     "output_type": "stream",
     "text": [
      "WARNING:tensorflow:Model was constructed with shape (None, 2, 1) for input KerasTensor(type_spec=TensorSpec(shape=(None, 2, 1), dtype=tf.float32, name='lstm_356_input'), name='lstm_356_input', description=\"created by layer 'lstm_356_input'\"), but it was called on an input with incompatible shape (None, 9, 1).\n",
      "WARNING:tensorflow:Model was constructed with shape (None, 2, 1) for input KerasTensor(type_spec=TensorSpec(shape=(None, 2, 1), dtype=tf.float32, name='lstm_356_input'), name='lstm_356_input', description=\"created by layer 'lstm_356_input'\"), but it was called on an input with incompatible shape (None, 9, 1).\n"
     ]
    }
   ],
   "source": [
    "model = LSTM_pipe(layer_config, time_config, e_config, x_refit_trans, y_refit)"
   ]
  },
  {
   "cell_type": "code",
   "execution_count": 80,
   "metadata": {},
   "outputs": [
    {
     "name": "stdout",
     "output_type": "stream",
     "text": [
      "WARNING:tensorflow:Model was constructed with shape (None, 2, 1) for input KerasTensor(type_spec=TensorSpec(shape=(None, 2, 1), dtype=tf.float32, name='lstm_356_input'), name='lstm_356_input', description=\"created by layer 'lstm_356_input'\"), but it was called on an input with incompatible shape (None, 9, 1).\n"
     ]
    },
    {
     "data": {
      "text/plain": [
       "3527.259456741796"
      ]
     },
     "execution_count": 80,
     "metadata": {},
     "output_type": "execute_result"
    }
   ],
   "source": [
    "mean_squared_error(y_test, model.predict(x_test_trans), squared = False)"
   ]
  },
  {
   "cell_type": "markdown",
   "metadata": {},
   "source": [
    "#### 8. Backtesting"
   ]
  },
  {
   "cell_type": "code",
   "execution_count": null,
   "metadata": {},
   "outputs": [],
   "source": []
  },
  {
   "cell_type": "code",
   "execution_count": 81,
   "metadata": {},
   "outputs": [
    {
     "name": "stdout",
     "output_type": "stream",
     "text": [
      "WARNING:tensorflow:Model was constructed with shape (None, 2, 1) for input KerasTensor(type_spec=TensorSpec(shape=(None, 2, 1), dtype=tf.float32, name='lstm_357_input'), name='lstm_357_input', description=\"created by layer 'lstm_357_input'\"), but it was called on an input with incompatible shape (None, 9, 1).\n",
      "WARNING:tensorflow:Model was constructed with shape (None, 2, 1) for input KerasTensor(type_spec=TensorSpec(shape=(None, 2, 1), dtype=tf.float32, name='lstm_357_input'), name='lstm_357_input', description=\"created by layer 'lstm_357_input'\"), but it was called on an input with incompatible shape (None, 9, 1).\n",
      "WARNING:tensorflow:Model was constructed with shape (None, 2, 1) for input KerasTensor(type_spec=TensorSpec(shape=(None, 2, 1), dtype=tf.float32, name='lstm_357_input'), name='lstm_357_input', description=\"created by layer 'lstm_357_input'\"), but it was called on an input with incompatible shape (None, 9, 1).\n",
      "WARNING:tensorflow:5 out of the last 14 calls to <function Model.make_predict_function.<locals>.predict_function at 0x7fa77143a940> triggered tf.function retracing. Tracing is expensive and the excessive number of tracings could be due to (1) creating @tf.function repeatedly in a loop, (2) passing tensors with different shapes, (3) passing Python objects instead of tensors. For (1), please define your @tf.function outside of the loop. For (2), @tf.function has experimental_relax_shapes=True option that relaxes argument shapes that can avoid unnecessary retracing. For (3), please refer to https://www.tensorflow.org/guide/function#controlling_retracing and https://www.tensorflow.org/api_docs/python/tf/function for  more details.\n"
     ]
    }
   ],
   "source": [
    "# predicted value\n",
    "model = LSTM_pipe(layer_config, time_config, e_config, x_full_trans, y_full)\n",
    "yhat = model.predict(x_full_trans, verbose=0)"
   ]
  },
  {
   "cell_type": "code",
   "execution_count": 82,
   "metadata": {},
   "outputs": [
    {
     "name": "stdout",
     "output_type": "stream",
     "text": [
      "31882.857\n",
      "31817.668\n",
      "33739.656\n",
      "34207.027\n",
      "33240.855\n",
      "35401.48\n",
      "37687.254\n",
      "41023.254\n",
      "41624.766\n",
      "41196.37\n",
      "39717.83\n",
      "36803.535\n",
      "35735.508\n",
      "38515.004\n",
      "39550.17\n",
      "36692.62\n",
      "36209.613\n",
      "35922.613\n",
      "36430.48\n",
      "37009.598\n",
      "38465.43\n",
      "35037.496\n",
      "36165.344\n",
      "35481.23\n",
      "35641.355\n",
      "36097.426\n",
      "35973.688\n",
      "32005.516\n",
      "33600.61\n",
      "33640.57\n",
      "33607.215\n",
      "32782.527\n",
      "34807.363\n",
      "37174.8\n",
      "38662.26\n",
      "38794.285\n",
      "40256.95\n",
      "41134.402\n",
      "40848.676\n",
      "47934.516\n",
      "48201.906\n",
      "47084.543\n",
      "49595.645\n",
      "49708.96\n",
      "49366.13\n",
      "50751.008\n",
      "50058.598\n",
      "50709.684\n",
      "52941.883\n",
      "51939.168\n",
      "55703.24\n",
      "55895.883\n",
      "57216.15\n",
      "53725.727\n",
      "49116.324\n",
      "50890.387\n",
      "45530.902\n",
      "43732.957\n",
      "43607.168\n",
      "42743.438\n",
      "48949.254\n",
      "47021.4\n",
      "47179.387\n",
      "43851.348\n",
      "45885.445\n",
      "45871.773\n",
      "47839.547\n",
      "47903.863\n",
      "52135.266\n",
      "54181.496\n",
      "56941.27\n",
      "56769.98\n",
      "60431.293\n",
      "58601.566\n",
      "56150.78\n",
      "56868.83\n",
      "59404.082\n",
      "56716.184\n",
      "56945.777\n",
      "56913.996\n",
      "56182.55\n",
      "54240.715\n",
      "53491.3\n",
      "51017.74\n",
      "50556.375\n",
      "55436.062\n",
      "56199.668\n",
      "56177.707\n",
      "57481.59\n",
      "57821.902\n",
      "58607.53\n",
      "60325.64\n",
      "60655.99\n",
      "58982.324\n",
      "60063.234\n",
      "62019.098\n",
      "61468.355\n",
      "59615.496\n",
      "62619.215\n",
      "63320.99\n",
      "64798.05\n",
      "65193.027\n"
     ]
    }
   ],
   "source": [
    "for b in [x[0] for x in yhat]:\n",
    "    print(b)"
   ]
  },
  {
   "cell_type": "code",
   "execution_count": 83,
   "metadata": {},
   "outputs": [
    {
     "data": {
      "text/plain": [
       "2789.3791803173813"
      ]
     },
     "execution_count": 83,
     "metadata": {},
     "output_type": "execute_result"
    }
   ],
   "source": [
    "mean_squared_error(y_full, model.predict(x_full_trans), squared = False)"
   ]
  },
  {
   "cell_type": "code",
   "execution_count": 84,
   "metadata": {},
   "outputs": [],
   "source": [
    "# weighted sentiments\n",
    "sentiments = features[features[\"date\"].isin(data.date)]\n",
    "sentiments = (sentiments[\"coindesk_sentiment\"] + sentiments[\"reddit_comments_sentiments\"] + sentiments[\"top_50_reddit_posts_sentiments\"]) / 3\n",
    "sentiments = [\"positive\" if x > 0.2 else \"negative\" for x in sentiments]"
   ]
  },
  {
   "cell_type": "code",
   "execution_count": 85,
   "metadata": {},
   "outputs": [
    {
     "name": "stdout",
     "output_type": "stream",
     "text": [
      "positive\n",
      "positive\n",
      "positive\n",
      "positive\n",
      "positive\n",
      "positive\n",
      "positive\n",
      "positive\n",
      "positive\n",
      "positive\n",
      "negative\n",
      "positive\n",
      "positive\n",
      "positive\n",
      "positive\n",
      "positive\n",
      "positive\n",
      "positive\n",
      "positive\n",
      "negative\n",
      "positive\n",
      "negative\n",
      "positive\n",
      "negative\n",
      "positive\n",
      "positive\n",
      "positive\n",
      "positive\n",
      "positive\n",
      "positive\n",
      "positive\n",
      "positive\n",
      "positive\n",
      "positive\n",
      "positive\n",
      "positive\n",
      "positive\n",
      "positive\n",
      "positive\n",
      "positive\n",
      "positive\n",
      "positive\n",
      "positive\n",
      "positive\n",
      "positive\n",
      "positive\n",
      "positive\n",
      "positive\n",
      "positive\n",
      "positive\n",
      "positive\n",
      "positive\n",
      "positive\n",
      "positive\n",
      "positive\n",
      "positive\n",
      "positive\n",
      "negative\n",
      "positive\n",
      "positive\n",
      "positive\n",
      "positive\n",
      "positive\n",
      "positive\n",
      "positive\n",
      "positive\n",
      "positive\n",
      "positive\n",
      "positive\n",
      "positive\n",
      "positive\n",
      "negative\n",
      "positive\n",
      "positive\n",
      "positive\n",
      "positive\n",
      "positive\n",
      "positive\n",
      "positive\n",
      "positive\n",
      "positive\n",
      "positive\n",
      "positive\n",
      "positive\n",
      "positive\n",
      "negative\n",
      "negative\n",
      "negative\n",
      "negative\n",
      "positive\n",
      "negative\n",
      "negative\n",
      "positive\n",
      "negative\n",
      "positive\n",
      "positive\n",
      "negative\n",
      "negative\n",
      "positive\n",
      "positive\n",
      "negative\n",
      "positive\n"
     ]
    }
   ],
   "source": [
    "for s in sentiments:\n",
    "    print(s)"
   ]
  },
  {
   "cell_type": "markdown",
   "metadata": {},
   "source": [
    "## With Sentiments"
   ]
  },
  {
   "cell_type": "code",
   "execution_count": 86,
   "metadata": {},
   "outputs": [],
   "source": [
    "feature_lags = {\"Adj_Close_BTC-USD\" : 1, \n",
    "                \"Adj_Close_SPY\" : 1,\n",
    "                \"Adj_Close_GLD\" : 1,\n",
    "                \"Adj_Close_CHFUSD=X\" : 1,\n",
    "                \"Adj_Close_EURUSD=X\" : 1,\n",
    "                \"Adj_Close_GBPUSD=X\" : 1,\n",
    "                \"Adj_Close_JPYUSD=X\" : 1,\n",
    "                \"blockchain_transactions_per_block\" : 1,\n",
    "                \"blockchain_hash_rates\" : 1,\n",
    "                \"coindesk_sentiment\" : 1,\n",
    "                \"reddit_comments_sentiments\" : 1,\n",
    "                \"top_50_reddit_posts_sentiments\" : 1}\n",
    "\n",
    "data = lag(features, feature_lags)\n",
    "\n",
    "data = data[(data[\"date\"] >= \"2021-01-01\") & (data[\"date\"] <= \"2021-04-12\")]\n",
    "\n",
    "train = data[(data[\"date\"] >= \"2021-01-01\") & (data[\"date\"] <= \"2021-03-14\")]\n",
    "validation = data[(data[\"date\"] >= \"2021-03-15\") & (data[\"date\"] <= \"2021-03-29\")]\n",
    "test = data[(data[\"date\"] >= \"2021-03-30\") & (data[\"date\"] <= \"2021-04-12\")]\n",
    "\n",
    "refit = data[(data[\"date\"] >= \"2021-01-01\") & (data[\"date\"] <= \"2021-03-29\")]\n",
    "full = data.copy(deep = True)\n",
    "\n",
    "\n",
    "x_train = train.drop([\"date\", \"Adj_Close_BTC-USD\"], axis = 1)\n",
    "y_train = train[\"Adj_Close_BTC-USD\"]\n",
    "\n",
    "x_val = validation.drop([\"date\", \"Adj_Close_BTC-USD\"], axis = 1)\n",
    "y_val = validation[\"Adj_Close_BTC-USD\"]\n",
    "\n",
    "x_test = test.drop([\"date\", \"Adj_Close_BTC-USD\"], axis = 1)\n",
    "y_test = test[\"Adj_Close_BTC-USD\"]\n",
    "\n",
    "x_refit = refit.drop([\"date\", \"Adj_Close_BTC-USD\"], axis = 1)\n",
    "y_refit = refit[\"Adj_Close_BTC-USD\"]\n",
    "\n",
    "x_full = full.drop([\"date\", \"Adj_Close_BTC-USD\"], axis = 1)\n",
    "y_full = full[\"Adj_Close_BTC-USD\"]\n",
    "\n",
    "sc = MinMaxScaler(feature_range = (0, 1))\n",
    "sc.fit(x_train)\n",
    "x_train_trans = sc.transform(x_train)\n",
    "x_val_trans = sc.transform(x_val)\n",
    "x_test_trans = sc.transform(x_test)\n",
    "\n",
    "sc2 = MinMaxScaler(feature_range = (0, 1))\n",
    "sc2.fit(x_refit)\n",
    "x_refit_trans = sc2.transform(x_refit)\n",
    "\n",
    "sc3 = MinMaxScaler(feature_range = (0, 1))\n",
    "sc3.fit(x_full)\n",
    "x_full_trans = sc3.transform(x_full)\n",
    "\n",
    "x_train_trans = x_train_trans.reshape(x_train_trans.shape[0], x_train_trans.shape[1], 1)\n",
    "x_val_trans = x_val_trans.reshape(x_val_trans.shape[0], x_val_trans.shape[1], 1)\n",
    "x_test_trans = x_test_trans.reshape(x_test_trans.shape[0], x_test_trans.shape[1], 1)\n",
    "x_refit_trans = x_refit_trans.reshape(x_refit_trans.shape[0], x_refit_trans.shape[1], 1)\n",
    "x_full_trans = x_full_trans.reshape(x_full_trans.shape[0], x_full_trans.shape[1], 1)"
   ]
  },
  {
   "cell_type": "code",
   "execution_count": 87,
   "metadata": {},
   "outputs": [
    {
     "name": "stdout",
     "output_type": "stream",
     "text": [
      "WARNING:tensorflow:Model was constructed with shape (None, 1, 1) for input KerasTensor(type_spec=TensorSpec(shape=(None, 1, 1), dtype=tf.float32, name='lstm_358_input'), name='lstm_358_input', description=\"created by layer 'lstm_358_input'\"), but it was called on an input with incompatible shape (None, 12, 1).\n",
      "WARNING:tensorflow:Model was constructed with shape (None, 1, 1) for input KerasTensor(type_spec=TensorSpec(shape=(None, 1, 1), dtype=tf.float32, name='lstm_358_input'), name='lstm_358_input', description=\"created by layer 'lstm_358_input'\"), but it was called on an input with incompatible shape (None, 12, 1).\n",
      "WARNING:tensorflow:Model was constructed with shape (None, 1, 1) for input KerasTensor(type_spec=TensorSpec(shape=(None, 1, 1), dtype=tf.float32, name='lstm_358_input'), name='lstm_358_input', description=\"created by layer 'lstm_358_input'\"), but it was called on an input with incompatible shape (None, 12, 1).\n",
      "WARNING:tensorflow:Model was constructed with shape (None, 1, 1) for input KerasTensor(type_spec=TensorSpec(shape=(None, 1, 1), dtype=tf.float32, name='lstm_359_input'), name='lstm_359_input', description=\"created by layer 'lstm_359_input'\"), but it was called on an input with incompatible shape (None, 12, 1).\n",
      "WARNING:tensorflow:Model was constructed with shape (None, 1, 1) for input KerasTensor(type_spec=TensorSpec(shape=(None, 1, 1), dtype=tf.float32, name='lstm_359_input'), name='lstm_359_input', description=\"created by layer 'lstm_359_input'\"), but it was called on an input with incompatible shape (None, 12, 1).\n",
      "WARNING:tensorflow:Model was constructed with shape (None, 1, 1) for input KerasTensor(type_spec=TensorSpec(shape=(None, 1, 1), dtype=tf.float32, name='lstm_359_input'), name='lstm_359_input', description=\"created by layer 'lstm_359_input'\"), but it was called on an input with incompatible shape (None, 12, 1).\n",
      "WARNING:tensorflow:Model was constructed with shape (None, 2, 1) for input KerasTensor(type_spec=TensorSpec(shape=(None, 2, 1), dtype=tf.float32, name='lstm_360_input'), name='lstm_360_input', description=\"created by layer 'lstm_360_input'\"), but it was called on an input with incompatible shape (None, 12, 1).\n",
      "WARNING:tensorflow:Model was constructed with shape (None, 2, 1) for input KerasTensor(type_spec=TensorSpec(shape=(None, 2, 1), dtype=tf.float32, name='lstm_360_input'), name='lstm_360_input', description=\"created by layer 'lstm_360_input'\"), but it was called on an input with incompatible shape (None, 12, 1).\n",
      "WARNING:tensorflow:Model was constructed with shape (None, 2, 1) for input KerasTensor(type_spec=TensorSpec(shape=(None, 2, 1), dtype=tf.float32, name='lstm_360_input'), name='lstm_360_input', description=\"created by layer 'lstm_360_input'\"), but it was called on an input with incompatible shape (None, 12, 1).\n",
      "WARNING:tensorflow:Model was constructed with shape (None, 2, 1) for input KerasTensor(type_spec=TensorSpec(shape=(None, 2, 1), dtype=tf.float32, name='lstm_361_input'), name='lstm_361_input', description=\"created by layer 'lstm_361_input'\"), but it was called on an input with incompatible shape (None, 12, 1).\n",
      "WARNING:tensorflow:Model was constructed with shape (None, 2, 1) for input KerasTensor(type_spec=TensorSpec(shape=(None, 2, 1), dtype=tf.float32, name='lstm_361_input'), name='lstm_361_input', description=\"created by layer 'lstm_361_input'\"), but it was called on an input with incompatible shape (None, 12, 1).\n",
      "WARNING:tensorflow:Model was constructed with shape (None, 2, 1) for input KerasTensor(type_spec=TensorSpec(shape=(None, 2, 1), dtype=tf.float32, name='lstm_361_input'), name='lstm_361_input', description=\"created by layer 'lstm_361_input'\"), but it was called on an input with incompatible shape (None, 12, 1).\n",
      "WARNING:tensorflow:Model was constructed with shape (None, 3, 1) for input KerasTensor(type_spec=TensorSpec(shape=(None, 3, 1), dtype=tf.float32, name='lstm_362_input'), name='lstm_362_input', description=\"created by layer 'lstm_362_input'\"), but it was called on an input with incompatible shape (None, 12, 1).\n",
      "WARNING:tensorflow:Model was constructed with shape (None, 3, 1) for input KerasTensor(type_spec=TensorSpec(shape=(None, 3, 1), dtype=tf.float32, name='lstm_362_input'), name='lstm_362_input', description=\"created by layer 'lstm_362_input'\"), but it was called on an input with incompatible shape (None, 12, 1).\n",
      "WARNING:tensorflow:Model was constructed with shape (None, 3, 1) for input KerasTensor(type_spec=TensorSpec(shape=(None, 3, 1), dtype=tf.float32, name='lstm_362_input'), name='lstm_362_input', description=\"created by layer 'lstm_362_input'\"), but it was called on an input with incompatible shape (None, 12, 1).\n",
      "WARNING:tensorflow:Model was constructed with shape (None, 3, 1) for input KerasTensor(type_spec=TensorSpec(shape=(None, 3, 1), dtype=tf.float32, name='lstm_363_input'), name='lstm_363_input', description=\"created by layer 'lstm_363_input'\"), but it was called on an input with incompatible shape (None, 12, 1).\n",
      "WARNING:tensorflow:Model was constructed with shape (None, 3, 1) for input KerasTensor(type_spec=TensorSpec(shape=(None, 3, 1), dtype=tf.float32, name='lstm_363_input'), name='lstm_363_input', description=\"created by layer 'lstm_363_input'\"), but it was called on an input with incompatible shape (None, 12, 1).\n",
      "WARNING:tensorflow:Model was constructed with shape (None, 3, 1) for input KerasTensor(type_spec=TensorSpec(shape=(None, 3, 1), dtype=tf.float32, name='lstm_363_input'), name='lstm_363_input', description=\"created by layer 'lstm_363_input'\"), but it was called on an input with incompatible shape (None, 12, 1).\n",
      "WARNING:tensorflow:Model was constructed with shape (None, 1, 1) for input KerasTensor(type_spec=TensorSpec(shape=(None, 1, 1), dtype=tf.float32, name='lstm_364_input'), name='lstm_364_input', description=\"created by layer 'lstm_364_input'\"), but it was called on an input with incompatible shape (None, 12, 1).\n",
      "WARNING:tensorflow:Model was constructed with shape (None, 1, 1) for input KerasTensor(type_spec=TensorSpec(shape=(None, 1, 1), dtype=tf.float32, name='lstm_364_input'), name='lstm_364_input', description=\"created by layer 'lstm_364_input'\"), but it was called on an input with incompatible shape (None, 12, 1).\n",
      "WARNING:tensorflow:Model was constructed with shape (None, 1, 1) for input KerasTensor(type_spec=TensorSpec(shape=(None, 1, 1), dtype=tf.float32, name='lstm_364_input'), name='lstm_364_input', description=\"created by layer 'lstm_364_input'\"), but it was called on an input with incompatible shape (None, 12, 1).\n",
      "WARNING:tensorflow:Model was constructed with shape (None, 1, 1) for input KerasTensor(type_spec=TensorSpec(shape=(None, 1, 1), dtype=tf.float32, name='lstm_365_input'), name='lstm_365_input', description=\"created by layer 'lstm_365_input'\"), but it was called on an input with incompatible shape (None, 12, 1).\n",
      "WARNING:tensorflow:Model was constructed with shape (None, 1, 1) for input KerasTensor(type_spec=TensorSpec(shape=(None, 1, 1), dtype=tf.float32, name='lstm_365_input'), name='lstm_365_input', description=\"created by layer 'lstm_365_input'\"), but it was called on an input with incompatible shape (None, 12, 1).\n",
      "WARNING:tensorflow:Model was constructed with shape (None, 1, 1) for input KerasTensor(type_spec=TensorSpec(shape=(None, 1, 1), dtype=tf.float32, name='lstm_365_input'), name='lstm_365_input', description=\"created by layer 'lstm_365_input'\"), but it was called on an input with incompatible shape (None, 12, 1).\n",
      "WARNING:tensorflow:Model was constructed with shape (None, 2, 1) for input KerasTensor(type_spec=TensorSpec(shape=(None, 2, 1), dtype=tf.float32, name='lstm_366_input'), name='lstm_366_input', description=\"created by layer 'lstm_366_input'\"), but it was called on an input with incompatible shape (None, 12, 1).\n",
      "WARNING:tensorflow:Model was constructed with shape (None, 2, 1) for input KerasTensor(type_spec=TensorSpec(shape=(None, 2, 1), dtype=tf.float32, name='lstm_366_input'), name='lstm_366_input', description=\"created by layer 'lstm_366_input'\"), but it was called on an input with incompatible shape (None, 12, 1).\n",
      "WARNING:tensorflow:Model was constructed with shape (None, 2, 1) for input KerasTensor(type_spec=TensorSpec(shape=(None, 2, 1), dtype=tf.float32, name='lstm_366_input'), name='lstm_366_input', description=\"created by layer 'lstm_366_input'\"), but it was called on an input with incompatible shape (None, 12, 1).\n"
     ]
    },
    {
     "name": "stdout",
     "output_type": "stream",
     "text": [
      "WARNING:tensorflow:Model was constructed with shape (None, 2, 1) for input KerasTensor(type_spec=TensorSpec(shape=(None, 2, 1), dtype=tf.float32, name='lstm_367_input'), name='lstm_367_input', description=\"created by layer 'lstm_367_input'\"), but it was called on an input with incompatible shape (None, 12, 1).\n",
      "WARNING:tensorflow:Model was constructed with shape (None, 2, 1) for input KerasTensor(type_spec=TensorSpec(shape=(None, 2, 1), dtype=tf.float32, name='lstm_367_input'), name='lstm_367_input', description=\"created by layer 'lstm_367_input'\"), but it was called on an input with incompatible shape (None, 12, 1).\n",
      "WARNING:tensorflow:Model was constructed with shape (None, 2, 1) for input KerasTensor(type_spec=TensorSpec(shape=(None, 2, 1), dtype=tf.float32, name='lstm_367_input'), name='lstm_367_input', description=\"created by layer 'lstm_367_input'\"), but it was called on an input with incompatible shape (None, 12, 1).\n",
      "WARNING:tensorflow:Model was constructed with shape (None, 3, 1) for input KerasTensor(type_spec=TensorSpec(shape=(None, 3, 1), dtype=tf.float32, name='lstm_368_input'), name='lstm_368_input', description=\"created by layer 'lstm_368_input'\"), but it was called on an input with incompatible shape (None, 12, 1).\n",
      "WARNING:tensorflow:Model was constructed with shape (None, 3, 1) for input KerasTensor(type_spec=TensorSpec(shape=(None, 3, 1), dtype=tf.float32, name='lstm_368_input'), name='lstm_368_input', description=\"created by layer 'lstm_368_input'\"), but it was called on an input with incompatible shape (None, 12, 1).\n",
      "WARNING:tensorflow:Model was constructed with shape (None, 3, 1) for input KerasTensor(type_spec=TensorSpec(shape=(None, 3, 1), dtype=tf.float32, name='lstm_368_input'), name='lstm_368_input', description=\"created by layer 'lstm_368_input'\"), but it was called on an input with incompatible shape (None, 12, 1).\n",
      "WARNING:tensorflow:Model was constructed with shape (None, 3, 1) for input KerasTensor(type_spec=TensorSpec(shape=(None, 3, 1), dtype=tf.float32, name='lstm_369_input'), name='lstm_369_input', description=\"created by layer 'lstm_369_input'\"), but it was called on an input with incompatible shape (None, 12, 1).\n",
      "WARNING:tensorflow:Model was constructed with shape (None, 3, 1) for input KerasTensor(type_spec=TensorSpec(shape=(None, 3, 1), dtype=tf.float32, name='lstm_369_input'), name='lstm_369_input', description=\"created by layer 'lstm_369_input'\"), but it was called on an input with incompatible shape (None, 12, 1).\n",
      "WARNING:tensorflow:Model was constructed with shape (None, 3, 1) for input KerasTensor(type_spec=TensorSpec(shape=(None, 3, 1), dtype=tf.float32, name='lstm_369_input'), name='lstm_369_input', description=\"created by layer 'lstm_369_input'\"), but it was called on an input with incompatible shape (None, 12, 1).\n",
      "WARNING:tensorflow:Model was constructed with shape (None, 1, 1) for input KerasTensor(type_spec=TensorSpec(shape=(None, 1, 1), dtype=tf.float32, name='lstm_370_input'), name='lstm_370_input', description=\"created by layer 'lstm_370_input'\"), but it was called on an input with incompatible shape (None, 12, 1).\n",
      "WARNING:tensorflow:Model was constructed with shape (None, 1, 1) for input KerasTensor(type_spec=TensorSpec(shape=(None, 1, 1), dtype=tf.float32, name='lstm_370_input'), name='lstm_370_input', description=\"created by layer 'lstm_370_input'\"), but it was called on an input with incompatible shape (None, 12, 1).\n",
      "WARNING:tensorflow:Model was constructed with shape (None, 1, 1) for input KerasTensor(type_spec=TensorSpec(shape=(None, 1, 1), dtype=tf.float32, name='lstm_370_input'), name='lstm_370_input', description=\"created by layer 'lstm_370_input'\"), but it was called on an input with incompatible shape (None, 12, 1).\n",
      "WARNING:tensorflow:Model was constructed with shape (None, 1, 1) for input KerasTensor(type_spec=TensorSpec(shape=(None, 1, 1), dtype=tf.float32, name='lstm_371_input'), name='lstm_371_input', description=\"created by layer 'lstm_371_input'\"), but it was called on an input with incompatible shape (None, 12, 1).\n",
      "WARNING:tensorflow:Model was constructed with shape (None, 1, 1) for input KerasTensor(type_spec=TensorSpec(shape=(None, 1, 1), dtype=tf.float32, name='lstm_371_input'), name='lstm_371_input', description=\"created by layer 'lstm_371_input'\"), but it was called on an input with incompatible shape (None, 12, 1).\n",
      "WARNING:tensorflow:Model was constructed with shape (None, 1, 1) for input KerasTensor(type_spec=TensorSpec(shape=(None, 1, 1), dtype=tf.float32, name='lstm_371_input'), name='lstm_371_input', description=\"created by layer 'lstm_371_input'\"), but it was called on an input with incompatible shape (None, 12, 1).\n",
      "WARNING:tensorflow:Model was constructed with shape (None, 2, 1) for input KerasTensor(type_spec=TensorSpec(shape=(None, 2, 1), dtype=tf.float32, name='lstm_372_input'), name='lstm_372_input', description=\"created by layer 'lstm_372_input'\"), but it was called on an input with incompatible shape (None, 12, 1).\n",
      "WARNING:tensorflow:Model was constructed with shape (None, 2, 1) for input KerasTensor(type_spec=TensorSpec(shape=(None, 2, 1), dtype=tf.float32, name='lstm_372_input'), name='lstm_372_input', description=\"created by layer 'lstm_372_input'\"), but it was called on an input with incompatible shape (None, 12, 1).\n",
      "WARNING:tensorflow:Model was constructed with shape (None, 2, 1) for input KerasTensor(type_spec=TensorSpec(shape=(None, 2, 1), dtype=tf.float32, name='lstm_372_input'), name='lstm_372_input', description=\"created by layer 'lstm_372_input'\"), but it was called on an input with incompatible shape (None, 12, 1).\n",
      "WARNING:tensorflow:Model was constructed with shape (None, 2, 1) for input KerasTensor(type_spec=TensorSpec(shape=(None, 2, 1), dtype=tf.float32, name='lstm_373_input'), name='lstm_373_input', description=\"created by layer 'lstm_373_input'\"), but it was called on an input with incompatible shape (None, 12, 1).\n",
      "WARNING:tensorflow:Model was constructed with shape (None, 2, 1) for input KerasTensor(type_spec=TensorSpec(shape=(None, 2, 1), dtype=tf.float32, name='lstm_373_input'), name='lstm_373_input', description=\"created by layer 'lstm_373_input'\"), but it was called on an input with incompatible shape (None, 12, 1).\n",
      "WARNING:tensorflow:Model was constructed with shape (None, 2, 1) for input KerasTensor(type_spec=TensorSpec(shape=(None, 2, 1), dtype=tf.float32, name='lstm_373_input'), name='lstm_373_input', description=\"created by layer 'lstm_373_input'\"), but it was called on an input with incompatible shape (None, 12, 1).\n",
      "WARNING:tensorflow:Model was constructed with shape (None, 3, 1) for input KerasTensor(type_spec=TensorSpec(shape=(None, 3, 1), dtype=tf.float32, name='lstm_374_input'), name='lstm_374_input', description=\"created by layer 'lstm_374_input'\"), but it was called on an input with incompatible shape (None, 12, 1).\n",
      "WARNING:tensorflow:Model was constructed with shape (None, 3, 1) for input KerasTensor(type_spec=TensorSpec(shape=(None, 3, 1), dtype=tf.float32, name='lstm_374_input'), name='lstm_374_input', description=\"created by layer 'lstm_374_input'\"), but it was called on an input with incompatible shape (None, 12, 1).\n",
      "WARNING:tensorflow:Model was constructed with shape (None, 3, 1) for input KerasTensor(type_spec=TensorSpec(shape=(None, 3, 1), dtype=tf.float32, name='lstm_374_input'), name='lstm_374_input', description=\"created by layer 'lstm_374_input'\"), but it was called on an input with incompatible shape (None, 12, 1).\n",
      "WARNING:tensorflow:Model was constructed with shape (None, 3, 1) for input KerasTensor(type_spec=TensorSpec(shape=(None, 3, 1), dtype=tf.float32, name='lstm_375_input'), name='lstm_375_input', description=\"created by layer 'lstm_375_input'\"), but it was called on an input with incompatible shape (None, 12, 1).\n",
      "WARNING:tensorflow:Model was constructed with shape (None, 3, 1) for input KerasTensor(type_spec=TensorSpec(shape=(None, 3, 1), dtype=tf.float32, name='lstm_375_input'), name='lstm_375_input', description=\"created by layer 'lstm_375_input'\"), but it was called on an input with incompatible shape (None, 12, 1).\n",
      "WARNING:tensorflow:Model was constructed with shape (None, 3, 1) for input KerasTensor(type_spec=TensorSpec(shape=(None, 3, 1), dtype=tf.float32, name='lstm_375_input'), name='lstm_375_input', description=\"created by layer 'lstm_375_input'\"), but it was called on an input with incompatible shape (None, 12, 1).\n"
     ]
    },
    {
     "name": "stdout",
     "output_type": "stream",
     "text": [
      "WARNING:tensorflow:Model was constructed with shape (None, 1, 1) for input KerasTensor(type_spec=TensorSpec(shape=(None, 1, 1), dtype=tf.float32, name='lstm_376_input'), name='lstm_376_input', description=\"created by layer 'lstm_376_input'\"), but it was called on an input with incompatible shape (None, 12, 1).\n",
      "WARNING:tensorflow:Model was constructed with shape (None, 1, 1) for input KerasTensor(type_spec=TensorSpec(shape=(None, 1, 1), dtype=tf.float32, name='lstm_376_input'), name='lstm_376_input', description=\"created by layer 'lstm_376_input'\"), but it was called on an input with incompatible shape (None, 12, 1).\n",
      "WARNING:tensorflow:Model was constructed with shape (None, 1, 1) for input KerasTensor(type_spec=TensorSpec(shape=(None, 1, 1), dtype=tf.float32, name='lstm_376_input'), name='lstm_376_input', description=\"created by layer 'lstm_376_input'\"), but it was called on an input with incompatible shape (None, 12, 1).\n",
      "WARNING:tensorflow:Model was constructed with shape (None, 1, 1) for input KerasTensor(type_spec=TensorSpec(shape=(None, 1, 1), dtype=tf.float32, name='lstm_378_input'), name='lstm_378_input', description=\"created by layer 'lstm_378_input'\"), but it was called on an input with incompatible shape (None, 12, 1).\n",
      "WARNING:tensorflow:Model was constructed with shape (None, 1, 1) for input KerasTensor(type_spec=TensorSpec(shape=(None, 1, 1), dtype=tf.float32, name='lstm_378_input'), name='lstm_378_input', description=\"created by layer 'lstm_378_input'\"), but it was called on an input with incompatible shape (None, 12, 1).\n",
      "WARNING:tensorflow:Model was constructed with shape (None, 1, 1) for input KerasTensor(type_spec=TensorSpec(shape=(None, 1, 1), dtype=tf.float32, name='lstm_378_input'), name='lstm_378_input', description=\"created by layer 'lstm_378_input'\"), but it was called on an input with incompatible shape (None, 12, 1).\n",
      "WARNING:tensorflow:Model was constructed with shape (None, 2, 1) for input KerasTensor(type_spec=TensorSpec(shape=(None, 2, 1), dtype=tf.float32, name='lstm_380_input'), name='lstm_380_input', description=\"created by layer 'lstm_380_input'\"), but it was called on an input with incompatible shape (None, 12, 1).\n",
      "WARNING:tensorflow:Model was constructed with shape (None, 2, 1) for input KerasTensor(type_spec=TensorSpec(shape=(None, 2, 1), dtype=tf.float32, name='lstm_380_input'), name='lstm_380_input', description=\"created by layer 'lstm_380_input'\"), but it was called on an input with incompatible shape (None, 12, 1).\n",
      "WARNING:tensorflow:Model was constructed with shape (None, 2, 1) for input KerasTensor(type_spec=TensorSpec(shape=(None, 2, 1), dtype=tf.float32, name='lstm_380_input'), name='lstm_380_input', description=\"created by layer 'lstm_380_input'\"), but it was called on an input with incompatible shape (None, 12, 1).\n",
      "WARNING:tensorflow:Model was constructed with shape (None, 2, 1) for input KerasTensor(type_spec=TensorSpec(shape=(None, 2, 1), dtype=tf.float32, name='lstm_382_input'), name='lstm_382_input', description=\"created by layer 'lstm_382_input'\"), but it was called on an input with incompatible shape (None, 12, 1).\n",
      "WARNING:tensorflow:Model was constructed with shape (None, 2, 1) for input KerasTensor(type_spec=TensorSpec(shape=(None, 2, 1), dtype=tf.float32, name='lstm_382_input'), name='lstm_382_input', description=\"created by layer 'lstm_382_input'\"), but it was called on an input with incompatible shape (None, 12, 1).\n",
      "WARNING:tensorflow:Model was constructed with shape (None, 2, 1) for input KerasTensor(type_spec=TensorSpec(shape=(None, 2, 1), dtype=tf.float32, name='lstm_382_input'), name='lstm_382_input', description=\"created by layer 'lstm_382_input'\"), but it was called on an input with incompatible shape (None, 12, 1).\n",
      "WARNING:tensorflow:Model was constructed with shape (None, 3, 1) for input KerasTensor(type_spec=TensorSpec(shape=(None, 3, 1), dtype=tf.float32, name='lstm_384_input'), name='lstm_384_input', description=\"created by layer 'lstm_384_input'\"), but it was called on an input with incompatible shape (None, 12, 1).\n",
      "WARNING:tensorflow:Model was constructed with shape (None, 3, 1) for input KerasTensor(type_spec=TensorSpec(shape=(None, 3, 1), dtype=tf.float32, name='lstm_384_input'), name='lstm_384_input', description=\"created by layer 'lstm_384_input'\"), but it was called on an input with incompatible shape (None, 12, 1).\n",
      "WARNING:tensorflow:Model was constructed with shape (None, 3, 1) for input KerasTensor(type_spec=TensorSpec(shape=(None, 3, 1), dtype=tf.float32, name='lstm_384_input'), name='lstm_384_input', description=\"created by layer 'lstm_384_input'\"), but it was called on an input with incompatible shape (None, 12, 1).\n",
      "WARNING:tensorflow:Model was constructed with shape (None, 3, 1) for input KerasTensor(type_spec=TensorSpec(shape=(None, 3, 1), dtype=tf.float32, name='lstm_386_input'), name='lstm_386_input', description=\"created by layer 'lstm_386_input'\"), but it was called on an input with incompatible shape (None, 12, 1).\n",
      "WARNING:tensorflow:Model was constructed with shape (None, 3, 1) for input KerasTensor(type_spec=TensorSpec(shape=(None, 3, 1), dtype=tf.float32, name='lstm_386_input'), name='lstm_386_input', description=\"created by layer 'lstm_386_input'\"), but it was called on an input with incompatible shape (None, 12, 1).\n",
      "WARNING:tensorflow:Model was constructed with shape (None, 3, 1) for input KerasTensor(type_spec=TensorSpec(shape=(None, 3, 1), dtype=tf.float32, name='lstm_386_input'), name='lstm_386_input', description=\"created by layer 'lstm_386_input'\"), but it was called on an input with incompatible shape (None, 12, 1).\n",
      "WARNING:tensorflow:Model was constructed with shape (None, 1, 1) for input KerasTensor(type_spec=TensorSpec(shape=(None, 1, 1), dtype=tf.float32, name='lstm_388_input'), name='lstm_388_input', description=\"created by layer 'lstm_388_input'\"), but it was called on an input with incompatible shape (None, 12, 1).\n",
      "WARNING:tensorflow:Model was constructed with shape (None, 1, 1) for input KerasTensor(type_spec=TensorSpec(shape=(None, 1, 1), dtype=tf.float32, name='lstm_388_input'), name='lstm_388_input', description=\"created by layer 'lstm_388_input'\"), but it was called on an input with incompatible shape (None, 12, 1).\n",
      "WARNING:tensorflow:Model was constructed with shape (None, 1, 1) for input KerasTensor(type_spec=TensorSpec(shape=(None, 1, 1), dtype=tf.float32, name='lstm_388_input'), name='lstm_388_input', description=\"created by layer 'lstm_388_input'\"), but it was called on an input with incompatible shape (None, 12, 1).\n",
      "WARNING:tensorflow:Model was constructed with shape (None, 1, 1) for input KerasTensor(type_spec=TensorSpec(shape=(None, 1, 1), dtype=tf.float32, name='lstm_390_input'), name='lstm_390_input', description=\"created by layer 'lstm_390_input'\"), but it was called on an input with incompatible shape (None, 12, 1).\n",
      "WARNING:tensorflow:Model was constructed with shape (None, 1, 1) for input KerasTensor(type_spec=TensorSpec(shape=(None, 1, 1), dtype=tf.float32, name='lstm_390_input'), name='lstm_390_input', description=\"created by layer 'lstm_390_input'\"), but it was called on an input with incompatible shape (None, 12, 1).\n",
      "WARNING:tensorflow:Model was constructed with shape (None, 1, 1) for input KerasTensor(type_spec=TensorSpec(shape=(None, 1, 1), dtype=tf.float32, name='lstm_390_input'), name='lstm_390_input', description=\"created by layer 'lstm_390_input'\"), but it was called on an input with incompatible shape (None, 12, 1).\n",
      "WARNING:tensorflow:Model was constructed with shape (None, 2, 1) for input KerasTensor(type_spec=TensorSpec(shape=(None, 2, 1), dtype=tf.float32, name='lstm_392_input'), name='lstm_392_input', description=\"created by layer 'lstm_392_input'\"), but it was called on an input with incompatible shape (None, 12, 1).\n",
      "WARNING:tensorflow:Model was constructed with shape (None, 2, 1) for input KerasTensor(type_spec=TensorSpec(shape=(None, 2, 1), dtype=tf.float32, name='lstm_392_input'), name='lstm_392_input', description=\"created by layer 'lstm_392_input'\"), but it was called on an input with incompatible shape (None, 12, 1).\n",
      "WARNING:tensorflow:Model was constructed with shape (None, 2, 1) for input KerasTensor(type_spec=TensorSpec(shape=(None, 2, 1), dtype=tf.float32, name='lstm_392_input'), name='lstm_392_input', description=\"created by layer 'lstm_392_input'\"), but it was called on an input with incompatible shape (None, 12, 1).\n"
     ]
    },
    {
     "name": "stdout",
     "output_type": "stream",
     "text": [
      "WARNING:tensorflow:Model was constructed with shape (None, 2, 1) for input KerasTensor(type_spec=TensorSpec(shape=(None, 2, 1), dtype=tf.float32, name='lstm_394_input'), name='lstm_394_input', description=\"created by layer 'lstm_394_input'\"), but it was called on an input with incompatible shape (None, 12, 1).\n",
      "WARNING:tensorflow:Model was constructed with shape (None, 2, 1) for input KerasTensor(type_spec=TensorSpec(shape=(None, 2, 1), dtype=tf.float32, name='lstm_394_input'), name='lstm_394_input', description=\"created by layer 'lstm_394_input'\"), but it was called on an input with incompatible shape (None, 12, 1).\n",
      "WARNING:tensorflow:Model was constructed with shape (None, 2, 1) for input KerasTensor(type_spec=TensorSpec(shape=(None, 2, 1), dtype=tf.float32, name='lstm_394_input'), name='lstm_394_input', description=\"created by layer 'lstm_394_input'\"), but it was called on an input with incompatible shape (None, 12, 1).\n",
      "WARNING:tensorflow:Model was constructed with shape (None, 3, 1) for input KerasTensor(type_spec=TensorSpec(shape=(None, 3, 1), dtype=tf.float32, name='lstm_396_input'), name='lstm_396_input', description=\"created by layer 'lstm_396_input'\"), but it was called on an input with incompatible shape (None, 12, 1).\n",
      "WARNING:tensorflow:Model was constructed with shape (None, 3, 1) for input KerasTensor(type_spec=TensorSpec(shape=(None, 3, 1), dtype=tf.float32, name='lstm_396_input'), name='lstm_396_input', description=\"created by layer 'lstm_396_input'\"), but it was called on an input with incompatible shape (None, 12, 1).\n",
      "WARNING:tensorflow:Model was constructed with shape (None, 3, 1) for input KerasTensor(type_spec=TensorSpec(shape=(None, 3, 1), dtype=tf.float32, name='lstm_396_input'), name='lstm_396_input', description=\"created by layer 'lstm_396_input'\"), but it was called on an input with incompatible shape (None, 12, 1).\n",
      "WARNING:tensorflow:Model was constructed with shape (None, 3, 1) for input KerasTensor(type_spec=TensorSpec(shape=(None, 3, 1), dtype=tf.float32, name='lstm_398_input'), name='lstm_398_input', description=\"created by layer 'lstm_398_input'\"), but it was called on an input with incompatible shape (None, 12, 1).\n",
      "WARNING:tensorflow:Model was constructed with shape (None, 3, 1) for input KerasTensor(type_spec=TensorSpec(shape=(None, 3, 1), dtype=tf.float32, name='lstm_398_input'), name='lstm_398_input', description=\"created by layer 'lstm_398_input'\"), but it was called on an input with incompatible shape (None, 12, 1).\n",
      "WARNING:tensorflow:Model was constructed with shape (None, 3, 1) for input KerasTensor(type_spec=TensorSpec(shape=(None, 3, 1), dtype=tf.float32, name='lstm_398_input'), name='lstm_398_input', description=\"created by layer 'lstm_398_input'\"), but it was called on an input with incompatible shape (None, 12, 1).\n",
      "WARNING:tensorflow:Model was constructed with shape (None, 1, 1) for input KerasTensor(type_spec=TensorSpec(shape=(None, 1, 1), dtype=tf.float32, name='lstm_400_input'), name='lstm_400_input', description=\"created by layer 'lstm_400_input'\"), but it was called on an input with incompatible shape (None, 12, 1).\n",
      "WARNING:tensorflow:Model was constructed with shape (None, 1, 1) for input KerasTensor(type_spec=TensorSpec(shape=(None, 1, 1), dtype=tf.float32, name='lstm_400_input'), name='lstm_400_input', description=\"created by layer 'lstm_400_input'\"), but it was called on an input with incompatible shape (None, 12, 1).\n",
      "WARNING:tensorflow:Model was constructed with shape (None, 1, 1) for input KerasTensor(type_spec=TensorSpec(shape=(None, 1, 1), dtype=tf.float32, name='lstm_400_input'), name='lstm_400_input', description=\"created by layer 'lstm_400_input'\"), but it was called on an input with incompatible shape (None, 12, 1).\n",
      "WARNING:tensorflow:Model was constructed with shape (None, 1, 1) for input KerasTensor(type_spec=TensorSpec(shape=(None, 1, 1), dtype=tf.float32, name='lstm_402_input'), name='lstm_402_input', description=\"created by layer 'lstm_402_input'\"), but it was called on an input with incompatible shape (None, 12, 1).\n",
      "WARNING:tensorflow:Model was constructed with shape (None, 1, 1) for input KerasTensor(type_spec=TensorSpec(shape=(None, 1, 1), dtype=tf.float32, name='lstm_402_input'), name='lstm_402_input', description=\"created by layer 'lstm_402_input'\"), but it was called on an input with incompatible shape (None, 12, 1).\n",
      "WARNING:tensorflow:Model was constructed with shape (None, 1, 1) for input KerasTensor(type_spec=TensorSpec(shape=(None, 1, 1), dtype=tf.float32, name='lstm_402_input'), name='lstm_402_input', description=\"created by layer 'lstm_402_input'\"), but it was called on an input with incompatible shape (None, 12, 1).\n",
      "WARNING:tensorflow:Model was constructed with shape (None, 2, 1) for input KerasTensor(type_spec=TensorSpec(shape=(None, 2, 1), dtype=tf.float32, name='lstm_404_input'), name='lstm_404_input', description=\"created by layer 'lstm_404_input'\"), but it was called on an input with incompatible shape (None, 12, 1).\n",
      "WARNING:tensorflow:Model was constructed with shape (None, 2, 1) for input KerasTensor(type_spec=TensorSpec(shape=(None, 2, 1), dtype=tf.float32, name='lstm_404_input'), name='lstm_404_input', description=\"created by layer 'lstm_404_input'\"), but it was called on an input with incompatible shape (None, 12, 1).\n",
      "WARNING:tensorflow:Model was constructed with shape (None, 2, 1) for input KerasTensor(type_spec=TensorSpec(shape=(None, 2, 1), dtype=tf.float32, name='lstm_404_input'), name='lstm_404_input', description=\"created by layer 'lstm_404_input'\"), but it was called on an input with incompatible shape (None, 12, 1).\n",
      "WARNING:tensorflow:Model was constructed with shape (None, 2, 1) for input KerasTensor(type_spec=TensorSpec(shape=(None, 2, 1), dtype=tf.float32, name='lstm_406_input'), name='lstm_406_input', description=\"created by layer 'lstm_406_input'\"), but it was called on an input with incompatible shape (None, 12, 1).\n",
      "WARNING:tensorflow:Model was constructed with shape (None, 2, 1) for input KerasTensor(type_spec=TensorSpec(shape=(None, 2, 1), dtype=tf.float32, name='lstm_406_input'), name='lstm_406_input', description=\"created by layer 'lstm_406_input'\"), but it was called on an input with incompatible shape (None, 12, 1).\n",
      "WARNING:tensorflow:Model was constructed with shape (None, 2, 1) for input KerasTensor(type_spec=TensorSpec(shape=(None, 2, 1), dtype=tf.float32, name='lstm_406_input'), name='lstm_406_input', description=\"created by layer 'lstm_406_input'\"), but it was called on an input with incompatible shape (None, 12, 1).\n",
      "WARNING:tensorflow:Model was constructed with shape (None, 3, 1) for input KerasTensor(type_spec=TensorSpec(shape=(None, 3, 1), dtype=tf.float32, name='lstm_408_input'), name='lstm_408_input', description=\"created by layer 'lstm_408_input'\"), but it was called on an input with incompatible shape (None, 12, 1).\n",
      "WARNING:tensorflow:Model was constructed with shape (None, 3, 1) for input KerasTensor(type_spec=TensorSpec(shape=(None, 3, 1), dtype=tf.float32, name='lstm_408_input'), name='lstm_408_input', description=\"created by layer 'lstm_408_input'\"), but it was called on an input with incompatible shape (None, 12, 1).\n",
      "WARNING:tensorflow:Model was constructed with shape (None, 3, 1) for input KerasTensor(type_spec=TensorSpec(shape=(None, 3, 1), dtype=tf.float32, name='lstm_408_input'), name='lstm_408_input', description=\"created by layer 'lstm_408_input'\"), but it was called on an input with incompatible shape (None, 12, 1).\n",
      "WARNING:tensorflow:Model was constructed with shape (None, 3, 1) for input KerasTensor(type_spec=TensorSpec(shape=(None, 3, 1), dtype=tf.float32, name='lstm_410_input'), name='lstm_410_input', description=\"created by layer 'lstm_410_input'\"), but it was called on an input with incompatible shape (None, 12, 1).\n",
      "WARNING:tensorflow:Model was constructed with shape (None, 3, 1) for input KerasTensor(type_spec=TensorSpec(shape=(None, 3, 1), dtype=tf.float32, name='lstm_410_input'), name='lstm_410_input', description=\"created by layer 'lstm_410_input'\"), but it was called on an input with incompatible shape (None, 12, 1).\n",
      "WARNING:tensorflow:Model was constructed with shape (None, 3, 1) for input KerasTensor(type_spec=TensorSpec(shape=(None, 3, 1), dtype=tf.float32, name='lstm_410_input'), name='lstm_410_input', description=\"created by layer 'lstm_410_input'\"), but it was called on an input with incompatible shape (None, 12, 1).\n"
     ]
    },
    {
     "name": "stdout",
     "output_type": "stream",
     "text": [
      "WARNING:tensorflow:Model was constructed with shape (None, 1, 1) for input KerasTensor(type_spec=TensorSpec(shape=(None, 1, 1), dtype=tf.float32, name='lstm_412_input'), name='lstm_412_input', description=\"created by layer 'lstm_412_input'\"), but it was called on an input with incompatible shape (None, 12, 1).\n",
      "WARNING:tensorflow:Model was constructed with shape (None, 1, 1) for input KerasTensor(type_spec=TensorSpec(shape=(None, 1, 1), dtype=tf.float32, name='lstm_412_input'), name='lstm_412_input', description=\"created by layer 'lstm_412_input'\"), but it was called on an input with incompatible shape (None, 12, 1).\n",
      "WARNING:tensorflow:Model was constructed with shape (None, 1, 1) for input KerasTensor(type_spec=TensorSpec(shape=(None, 1, 1), dtype=tf.float32, name='lstm_412_input'), name='lstm_412_input', description=\"created by layer 'lstm_412_input'\"), but it was called on an input with incompatible shape (None, 12, 1).\n",
      "WARNING:tensorflow:Model was constructed with shape (None, 1, 1) for input KerasTensor(type_spec=TensorSpec(shape=(None, 1, 1), dtype=tf.float32, name='lstm_415_input'), name='lstm_415_input', description=\"created by layer 'lstm_415_input'\"), but it was called on an input with incompatible shape (None, 12, 1).\n",
      "WARNING:tensorflow:Model was constructed with shape (None, 1, 1) for input KerasTensor(type_spec=TensorSpec(shape=(None, 1, 1), dtype=tf.float32, name='lstm_415_input'), name='lstm_415_input', description=\"created by layer 'lstm_415_input'\"), but it was called on an input with incompatible shape (None, 12, 1).\n",
      "WARNING:tensorflow:Model was constructed with shape (None, 1, 1) for input KerasTensor(type_spec=TensorSpec(shape=(None, 1, 1), dtype=tf.float32, name='lstm_415_input'), name='lstm_415_input', description=\"created by layer 'lstm_415_input'\"), but it was called on an input with incompatible shape (None, 12, 1).\n",
      "WARNING:tensorflow:Model was constructed with shape (None, 2, 1) for input KerasTensor(type_spec=TensorSpec(shape=(None, 2, 1), dtype=tf.float32, name='lstm_418_input'), name='lstm_418_input', description=\"created by layer 'lstm_418_input'\"), but it was called on an input with incompatible shape (None, 12, 1).\n",
      "WARNING:tensorflow:Model was constructed with shape (None, 2, 1) for input KerasTensor(type_spec=TensorSpec(shape=(None, 2, 1), dtype=tf.float32, name='lstm_418_input'), name='lstm_418_input', description=\"created by layer 'lstm_418_input'\"), but it was called on an input with incompatible shape (None, 12, 1).\n",
      "WARNING:tensorflow:Model was constructed with shape (None, 2, 1) for input KerasTensor(type_spec=TensorSpec(shape=(None, 2, 1), dtype=tf.float32, name='lstm_418_input'), name='lstm_418_input', description=\"created by layer 'lstm_418_input'\"), but it was called on an input with incompatible shape (None, 12, 1).\n",
      "WARNING:tensorflow:Model was constructed with shape (None, 2, 1) for input KerasTensor(type_spec=TensorSpec(shape=(None, 2, 1), dtype=tf.float32, name='lstm_421_input'), name='lstm_421_input', description=\"created by layer 'lstm_421_input'\"), but it was called on an input with incompatible shape (None, 12, 1).\n",
      "WARNING:tensorflow:Model was constructed with shape (None, 2, 1) for input KerasTensor(type_spec=TensorSpec(shape=(None, 2, 1), dtype=tf.float32, name='lstm_421_input'), name='lstm_421_input', description=\"created by layer 'lstm_421_input'\"), but it was called on an input with incompatible shape (None, 12, 1).\n",
      "WARNING:tensorflow:Model was constructed with shape (None, 2, 1) for input KerasTensor(type_spec=TensorSpec(shape=(None, 2, 1), dtype=tf.float32, name='lstm_421_input'), name='lstm_421_input', description=\"created by layer 'lstm_421_input'\"), but it was called on an input with incompatible shape (None, 12, 1).\n",
      "WARNING:tensorflow:Model was constructed with shape (None, 3, 1) for input KerasTensor(type_spec=TensorSpec(shape=(None, 3, 1), dtype=tf.float32, name='lstm_424_input'), name='lstm_424_input', description=\"created by layer 'lstm_424_input'\"), but it was called on an input with incompatible shape (None, 12, 1).\n",
      "WARNING:tensorflow:Model was constructed with shape (None, 3, 1) for input KerasTensor(type_spec=TensorSpec(shape=(None, 3, 1), dtype=tf.float32, name='lstm_424_input'), name='lstm_424_input', description=\"created by layer 'lstm_424_input'\"), but it was called on an input with incompatible shape (None, 12, 1).\n",
      "WARNING:tensorflow:Model was constructed with shape (None, 3, 1) for input KerasTensor(type_spec=TensorSpec(shape=(None, 3, 1), dtype=tf.float32, name='lstm_424_input'), name='lstm_424_input', description=\"created by layer 'lstm_424_input'\"), but it was called on an input with incompatible shape (None, 12, 1).\n",
      "WARNING:tensorflow:Model was constructed with shape (None, 3, 1) for input KerasTensor(type_spec=TensorSpec(shape=(None, 3, 1), dtype=tf.float32, name='lstm_427_input'), name='lstm_427_input', description=\"created by layer 'lstm_427_input'\"), but it was called on an input with incompatible shape (None, 12, 1).\n",
      "WARNING:tensorflow:Model was constructed with shape (None, 3, 1) for input KerasTensor(type_spec=TensorSpec(shape=(None, 3, 1), dtype=tf.float32, name='lstm_427_input'), name='lstm_427_input', description=\"created by layer 'lstm_427_input'\"), but it was called on an input with incompatible shape (None, 12, 1).\n",
      "WARNING:tensorflow:Model was constructed with shape (None, 3, 1) for input KerasTensor(type_spec=TensorSpec(shape=(None, 3, 1), dtype=tf.float32, name='lstm_427_input'), name='lstm_427_input', description=\"created by layer 'lstm_427_input'\"), but it was called on an input with incompatible shape (None, 12, 1).\n",
      "WARNING:tensorflow:Model was constructed with shape (None, 1, 1) for input KerasTensor(type_spec=TensorSpec(shape=(None, 1, 1), dtype=tf.float32, name='lstm_430_input'), name='lstm_430_input', description=\"created by layer 'lstm_430_input'\"), but it was called on an input with incompatible shape (None, 12, 1).\n",
      "WARNING:tensorflow:Model was constructed with shape (None, 1, 1) for input KerasTensor(type_spec=TensorSpec(shape=(None, 1, 1), dtype=tf.float32, name='lstm_430_input'), name='lstm_430_input', description=\"created by layer 'lstm_430_input'\"), but it was called on an input with incompatible shape (None, 12, 1).\n",
      "WARNING:tensorflow:Model was constructed with shape (None, 1, 1) for input KerasTensor(type_spec=TensorSpec(shape=(None, 1, 1), dtype=tf.float32, name='lstm_430_input'), name='lstm_430_input', description=\"created by layer 'lstm_430_input'\"), but it was called on an input with incompatible shape (None, 12, 1).\n",
      "WARNING:tensorflow:Model was constructed with shape (None, 1, 1) for input KerasTensor(type_spec=TensorSpec(shape=(None, 1, 1), dtype=tf.float32, name='lstm_433_input'), name='lstm_433_input', description=\"created by layer 'lstm_433_input'\"), but it was called on an input with incompatible shape (None, 12, 1).\n",
      "WARNING:tensorflow:Model was constructed with shape (None, 1, 1) for input KerasTensor(type_spec=TensorSpec(shape=(None, 1, 1), dtype=tf.float32, name='lstm_433_input'), name='lstm_433_input', description=\"created by layer 'lstm_433_input'\"), but it was called on an input with incompatible shape (None, 12, 1).\n",
      "WARNING:tensorflow:Model was constructed with shape (None, 1, 1) for input KerasTensor(type_spec=TensorSpec(shape=(None, 1, 1), dtype=tf.float32, name='lstm_433_input'), name='lstm_433_input', description=\"created by layer 'lstm_433_input'\"), but it was called on an input with incompatible shape (None, 12, 1).\n",
      "WARNING:tensorflow:Model was constructed with shape (None, 2, 1) for input KerasTensor(type_spec=TensorSpec(shape=(None, 2, 1), dtype=tf.float32, name='lstm_436_input'), name='lstm_436_input', description=\"created by layer 'lstm_436_input'\"), but it was called on an input with incompatible shape (None, 12, 1).\n",
      "WARNING:tensorflow:Model was constructed with shape (None, 2, 1) for input KerasTensor(type_spec=TensorSpec(shape=(None, 2, 1), dtype=tf.float32, name='lstm_436_input'), name='lstm_436_input', description=\"created by layer 'lstm_436_input'\"), but it was called on an input with incompatible shape (None, 12, 1).\n",
      "WARNING:tensorflow:Model was constructed with shape (None, 2, 1) for input KerasTensor(type_spec=TensorSpec(shape=(None, 2, 1), dtype=tf.float32, name='lstm_436_input'), name='lstm_436_input', description=\"created by layer 'lstm_436_input'\"), but it was called on an input with incompatible shape (None, 12, 1).\n"
     ]
    },
    {
     "name": "stdout",
     "output_type": "stream",
     "text": [
      "WARNING:tensorflow:Model was constructed with shape (None, 2, 1) for input KerasTensor(type_spec=TensorSpec(shape=(None, 2, 1), dtype=tf.float32, name='lstm_439_input'), name='lstm_439_input', description=\"created by layer 'lstm_439_input'\"), but it was called on an input with incompatible shape (None, 12, 1).\n",
      "WARNING:tensorflow:Model was constructed with shape (None, 2, 1) for input KerasTensor(type_spec=TensorSpec(shape=(None, 2, 1), dtype=tf.float32, name='lstm_439_input'), name='lstm_439_input', description=\"created by layer 'lstm_439_input'\"), but it was called on an input with incompatible shape (None, 12, 1).\n",
      "WARNING:tensorflow:Model was constructed with shape (None, 2, 1) for input KerasTensor(type_spec=TensorSpec(shape=(None, 2, 1), dtype=tf.float32, name='lstm_439_input'), name='lstm_439_input', description=\"created by layer 'lstm_439_input'\"), but it was called on an input with incompatible shape (None, 12, 1).\n",
      "WARNING:tensorflow:Model was constructed with shape (None, 3, 1) for input KerasTensor(type_spec=TensorSpec(shape=(None, 3, 1), dtype=tf.float32, name='lstm_442_input'), name='lstm_442_input', description=\"created by layer 'lstm_442_input'\"), but it was called on an input with incompatible shape (None, 12, 1).\n",
      "WARNING:tensorflow:Model was constructed with shape (None, 3, 1) for input KerasTensor(type_spec=TensorSpec(shape=(None, 3, 1), dtype=tf.float32, name='lstm_442_input'), name='lstm_442_input', description=\"created by layer 'lstm_442_input'\"), but it was called on an input with incompatible shape (None, 12, 1).\n",
      "WARNING:tensorflow:Model was constructed with shape (None, 3, 1) for input KerasTensor(type_spec=TensorSpec(shape=(None, 3, 1), dtype=tf.float32, name='lstm_442_input'), name='lstm_442_input', description=\"created by layer 'lstm_442_input'\"), but it was called on an input with incompatible shape (None, 12, 1).\n",
      "WARNING:tensorflow:Model was constructed with shape (None, 3, 1) for input KerasTensor(type_spec=TensorSpec(shape=(None, 3, 1), dtype=tf.float32, name='lstm_445_input'), name='lstm_445_input', description=\"created by layer 'lstm_445_input'\"), but it was called on an input with incompatible shape (None, 12, 1).\n",
      "WARNING:tensorflow:Model was constructed with shape (None, 3, 1) for input KerasTensor(type_spec=TensorSpec(shape=(None, 3, 1), dtype=tf.float32, name='lstm_445_input'), name='lstm_445_input', description=\"created by layer 'lstm_445_input'\"), but it was called on an input with incompatible shape (None, 12, 1).\n",
      "WARNING:tensorflow:Model was constructed with shape (None, 3, 1) for input KerasTensor(type_spec=TensorSpec(shape=(None, 3, 1), dtype=tf.float32, name='lstm_445_input'), name='lstm_445_input', description=\"created by layer 'lstm_445_input'\"), but it was called on an input with incompatible shape (None, 12, 1).\n",
      "WARNING:tensorflow:Model was constructed with shape (None, 1, 1) for input KerasTensor(type_spec=TensorSpec(shape=(None, 1, 1), dtype=tf.float32, name='lstm_448_input'), name='lstm_448_input', description=\"created by layer 'lstm_448_input'\"), but it was called on an input with incompatible shape (None, 12, 1).\n",
      "WARNING:tensorflow:Model was constructed with shape (None, 1, 1) for input KerasTensor(type_spec=TensorSpec(shape=(None, 1, 1), dtype=tf.float32, name='lstm_448_input'), name='lstm_448_input', description=\"created by layer 'lstm_448_input'\"), but it was called on an input with incompatible shape (None, 12, 1).\n",
      "WARNING:tensorflow:Model was constructed with shape (None, 1, 1) for input KerasTensor(type_spec=TensorSpec(shape=(None, 1, 1), dtype=tf.float32, name='lstm_448_input'), name='lstm_448_input', description=\"created by layer 'lstm_448_input'\"), but it was called on an input with incompatible shape (None, 12, 1).\n",
      "WARNING:tensorflow:Model was constructed with shape (None, 1, 1) for input KerasTensor(type_spec=TensorSpec(shape=(None, 1, 1), dtype=tf.float32, name='lstm_451_input'), name='lstm_451_input', description=\"created by layer 'lstm_451_input'\"), but it was called on an input with incompatible shape (None, 12, 1).\n",
      "WARNING:tensorflow:Model was constructed with shape (None, 1, 1) for input KerasTensor(type_spec=TensorSpec(shape=(None, 1, 1), dtype=tf.float32, name='lstm_451_input'), name='lstm_451_input', description=\"created by layer 'lstm_451_input'\"), but it was called on an input with incompatible shape (None, 12, 1).\n",
      "WARNING:tensorflow:Model was constructed with shape (None, 1, 1) for input KerasTensor(type_spec=TensorSpec(shape=(None, 1, 1), dtype=tf.float32, name='lstm_451_input'), name='lstm_451_input', description=\"created by layer 'lstm_451_input'\"), but it was called on an input with incompatible shape (None, 12, 1).\n",
      "WARNING:tensorflow:Model was constructed with shape (None, 2, 1) for input KerasTensor(type_spec=TensorSpec(shape=(None, 2, 1), dtype=tf.float32, name='lstm_454_input'), name='lstm_454_input', description=\"created by layer 'lstm_454_input'\"), but it was called on an input with incompatible shape (None, 12, 1).\n",
      "WARNING:tensorflow:Model was constructed with shape (None, 2, 1) for input KerasTensor(type_spec=TensorSpec(shape=(None, 2, 1), dtype=tf.float32, name='lstm_454_input'), name='lstm_454_input', description=\"created by layer 'lstm_454_input'\"), but it was called on an input with incompatible shape (None, 12, 1).\n",
      "WARNING:tensorflow:Model was constructed with shape (None, 2, 1) for input KerasTensor(type_spec=TensorSpec(shape=(None, 2, 1), dtype=tf.float32, name='lstm_454_input'), name='lstm_454_input', description=\"created by layer 'lstm_454_input'\"), but it was called on an input with incompatible shape (None, 12, 1).\n",
      "WARNING:tensorflow:Model was constructed with shape (None, 2, 1) for input KerasTensor(type_spec=TensorSpec(shape=(None, 2, 1), dtype=tf.float32, name='lstm_457_input'), name='lstm_457_input', description=\"created by layer 'lstm_457_input'\"), but it was called on an input with incompatible shape (None, 12, 1).\n",
      "WARNING:tensorflow:Model was constructed with shape (None, 2, 1) for input KerasTensor(type_spec=TensorSpec(shape=(None, 2, 1), dtype=tf.float32, name='lstm_457_input'), name='lstm_457_input', description=\"created by layer 'lstm_457_input'\"), but it was called on an input with incompatible shape (None, 12, 1).\n",
      "WARNING:tensorflow:Model was constructed with shape (None, 2, 1) for input KerasTensor(type_spec=TensorSpec(shape=(None, 2, 1), dtype=tf.float32, name='lstm_457_input'), name='lstm_457_input', description=\"created by layer 'lstm_457_input'\"), but it was called on an input with incompatible shape (None, 12, 1).\n",
      "WARNING:tensorflow:Model was constructed with shape (None, 3, 1) for input KerasTensor(type_spec=TensorSpec(shape=(None, 3, 1), dtype=tf.float32, name='lstm_460_input'), name='lstm_460_input', description=\"created by layer 'lstm_460_input'\"), but it was called on an input with incompatible shape (None, 12, 1).\n",
      "WARNING:tensorflow:Model was constructed with shape (None, 3, 1) for input KerasTensor(type_spec=TensorSpec(shape=(None, 3, 1), dtype=tf.float32, name='lstm_460_input'), name='lstm_460_input', description=\"created by layer 'lstm_460_input'\"), but it was called on an input with incompatible shape (None, 12, 1).\n",
      "WARNING:tensorflow:Model was constructed with shape (None, 3, 1) for input KerasTensor(type_spec=TensorSpec(shape=(None, 3, 1), dtype=tf.float32, name='lstm_460_input'), name='lstm_460_input', description=\"created by layer 'lstm_460_input'\"), but it was called on an input with incompatible shape (None, 12, 1).\n",
      "WARNING:tensorflow:Model was constructed with shape (None, 3, 1) for input KerasTensor(type_spec=TensorSpec(shape=(None, 3, 1), dtype=tf.float32, name='lstm_463_input'), name='lstm_463_input', description=\"created by layer 'lstm_463_input'\"), but it was called on an input with incompatible shape (None, 12, 1).\n",
      "WARNING:tensorflow:Model was constructed with shape (None, 3, 1) for input KerasTensor(type_spec=TensorSpec(shape=(None, 3, 1), dtype=tf.float32, name='lstm_463_input'), name='lstm_463_input', description=\"created by layer 'lstm_463_input'\"), but it was called on an input with incompatible shape (None, 12, 1).\n",
      "WARNING:tensorflow:Model was constructed with shape (None, 3, 1) for input KerasTensor(type_spec=TensorSpec(shape=(None, 3, 1), dtype=tf.float32, name='lstm_463_input'), name='lstm_463_input', description=\"created by layer 'lstm_463_input'\"), but it was called on an input with incompatible shape (None, 12, 1).\n"
     ]
    }
   ],
   "source": [
    "res2 = []\n",
    "# 1 layer\n",
    "for unit in (4,8,16):\n",
    "    for time_step in (1,2,3):\n",
    "        for e in (200, 500):\n",
    "            res2.append((([unit],time_step, e), LSTM_GS([unit], time_step, e)))\n",
    "\n",
    "# 2 layers\n",
    "for unit in (8,16,32):\n",
    "    for time_step in (1,2,3):\n",
    "        for e in (200, 500):\n",
    "            res2.append((([unit, unit//2],time_step, e),LSTM_GS([unit, unit//2], time_step, e)))\n",
    "\n",
    "# 3 layers\n",
    "for unit in (8,16,32):\n",
    "    for time_step in (1,2,3):\n",
    "        for e in (200, 500):\n",
    "            res2.append((([unit, unit//2, unit//4],time_step, e),LSTM_GS([unit, unit//2, unit//4], time_step, e)))"
   ]
  },
  {
   "cell_type": "code",
   "execution_count": 88,
   "metadata": {},
   "outputs": [
    {
     "data": {
      "text/plain": [
       "(([32, 16], 3, 500), (3428.0410363587, 2023.7685232796198))"
      ]
     },
     "execution_count": 88,
     "metadata": {},
     "output_type": "execute_result"
    }
   ],
   "source": [
    "sorted(res2, key = lambda x : x[1][1])[0]"
   ]
  },
  {
   "cell_type": "code",
   "execution_count": 89,
   "metadata": {},
   "outputs": [],
   "source": [
    "layer_config2 = sorted(res2, key = lambda x : x[1][1])[0][0][0]\n",
    "time_config2 = sorted(res2, key = lambda x : x[1][1])[0][0][1]\n",
    "e_config2 = sorted(res2, key = lambda x : x[1][1])[0][0][2]"
   ]
  },
  {
   "cell_type": "code",
   "execution_count": 90,
   "metadata": {},
   "outputs": [
    {
     "name": "stdout",
     "output_type": "stream",
     "text": [
      "[32, 16] 3 500\n"
     ]
    }
   ],
   "source": [
    "print(layer_config2, time_config2, e_config2 )"
   ]
  },
  {
   "cell_type": "code",
   "execution_count": 99,
   "metadata": {},
   "outputs": [
    {
     "name": "stdout",
     "output_type": "stream",
     "text": [
      "WARNING:tensorflow:Model was constructed with shape (None, 3, 1) for input KerasTensor(type_spec=TensorSpec(shape=(None, 3, 1), dtype=tf.float32, name='lstm_472_input'), name='lstm_472_input', description=\"created by layer 'lstm_472_input'\"), but it was called on an input with incompatible shape (None, 12, 1).\n",
      "WARNING:tensorflow:Model was constructed with shape (None, 3, 1) for input KerasTensor(type_spec=TensorSpec(shape=(None, 3, 1), dtype=tf.float32, name='lstm_472_input'), name='lstm_472_input', description=\"created by layer 'lstm_472_input'\"), but it was called on an input with incompatible shape (None, 12, 1).\n"
     ]
    }
   ],
   "source": [
    "model2 = LSTM_pipe(layer_config2, time_config2, e_config2, x_refit_trans, y_refit)"
   ]
  },
  {
   "cell_type": "code",
   "execution_count": 100,
   "metadata": {},
   "outputs": [
    {
     "name": "stdout",
     "output_type": "stream",
     "text": [
      "WARNING:tensorflow:Model was constructed with shape (None, 3, 1) for input KerasTensor(type_spec=TensorSpec(shape=(None, 3, 1), dtype=tf.float32, name='lstm_472_input'), name='lstm_472_input', description=\"created by layer 'lstm_472_input'\"), but it was called on an input with incompatible shape (None, 12, 1).\n"
     ]
    },
    {
     "data": {
      "text/plain": [
       "7453.998523926727"
      ]
     },
     "execution_count": 100,
     "metadata": {},
     "output_type": "execute_result"
    }
   ],
   "source": [
    "mean_squared_error(y_test, model2.predict(x_test_trans), squared = False)"
   ]
  },
  {
   "cell_type": "code",
   "execution_count": 101,
   "metadata": {},
   "outputs": [
    {
     "name": "stdout",
     "output_type": "stream",
     "text": [
      "WARNING:tensorflow:Model was constructed with shape (None, 3, 1) for input KerasTensor(type_spec=TensorSpec(shape=(None, 3, 1), dtype=tf.float32, name='lstm_474_input'), name='lstm_474_input', description=\"created by layer 'lstm_474_input'\"), but it was called on an input with incompatible shape (None, 12, 1).\n",
      "WARNING:tensorflow:Model was constructed with shape (None, 3, 1) for input KerasTensor(type_spec=TensorSpec(shape=(None, 3, 1), dtype=tf.float32, name='lstm_474_input'), name='lstm_474_input', description=\"created by layer 'lstm_474_input'\"), but it was called on an input with incompatible shape (None, 12, 1).\n",
      "WARNING:tensorflow:Model was constructed with shape (None, 3, 1) for input KerasTensor(type_spec=TensorSpec(shape=(None, 3, 1), dtype=tf.float32, name='lstm_474_input'), name='lstm_474_input', description=\"created by layer 'lstm_474_input'\"), but it was called on an input with incompatible shape (None, 12, 1).\n"
     ]
    }
   ],
   "source": [
    "# predicted value\n",
    "# predicted value\n",
    "model2 = LSTM_pipe(layer_config2, time_config2, e_config2, x_full_trans, y_full)\n",
    "yhat2 = model2.predict(x_full_trans, verbose=0)"
   ]
  },
  {
   "cell_type": "code",
   "execution_count": 102,
   "metadata": {},
   "outputs": [
    {
     "name": "stdout",
     "output_type": "stream",
     "text": [
      "30772.92\n",
      "31171.412\n",
      "32062.006\n",
      "32406.158\n",
      "31999.209\n",
      "33372.973\n",
      "34583.043\n",
      "36410.723\n",
      "37426.477\n",
      "37064.574\n",
      "35808.16\n",
      "34012.28\n",
      "33052.402\n",
      "35030.05\n",
      "36259.254\n",
      "34440.395\n",
      "34024.387\n",
      "33769.723\n",
      "34583.016\n",
      "34461.395\n",
      "34474.582\n",
      "32247.99\n",
      "32596.904\n",
      "32106.24\n",
      "32206.9\n",
      "32551.438\n",
      "32608.326\n",
      "30725.312\n",
      "31563.92\n",
      "32406.885\n",
      "32379.334\n",
      "31649.18\n",
      "32582.81\n",
      "34359.63\n",
      "35742.496\n",
      "35904.902\n",
      "37153.09\n",
      "37868.875\n",
      "37634.832\n",
      "42674.375\n",
      "42808.934\n",
      "41402.668\n",
      "43459.113\n",
      "43557.918\n",
      "43278.76\n",
      "44365.25\n",
      "43833.598\n",
      "44548.156\n",
      "46829.625\n",
      "46392.445\n",
      "49255.113\n",
      "49419.56\n",
      "50537.633\n",
      "47552.21\n",
      "43412.824\n",
      "44818.31\n",
      "41818.727\n",
      "41232.637\n",
      "41113.902\n",
      "40353.32\n",
      "44712.984\n",
      "43751.324\n",
      "44811.73\n",
      "43004.27\n",
      "44266.844\n",
      "44248.555\n",
      "46029.66\n",
      "46784.84\n",
      "49667.22\n",
      "50566.98\n",
      "52392.098\n",
      "51846.707\n",
      "54914.0\n",
      "53357.13\n",
      "51476.043\n",
      "52106.973\n",
      "53954.35\n",
      "51850.21\n",
      "52470.973\n",
      "52431.223\n",
      "51777.69\n",
      "50142.723\n",
      "49509.99\n",
      "48261.62\n",
      "47792.63\n",
      "51798.59\n",
      "52421.824\n",
      "52395.66\n",
      "53726.418\n",
      "54480.87\n",
      "54976.367\n",
      "56029.066\n",
      "56073.45\n",
      "54680.746\n",
      "55560.547\n",
      "57086.45\n",
      "56043.98\n",
      "54510.53\n",
      "56721.93\n",
      "57385.81\n",
      "58497.2\n",
      "58791.715\n"
     ]
    }
   ],
   "source": [
    "for b in [x[0] for x in yhat2]:\n",
    "    print(b)"
   ]
  },
  {
   "cell_type": "code",
   "execution_count": 103,
   "metadata": {},
   "outputs": [
    {
     "data": {
      "text/plain": [
       "102"
      ]
     },
     "execution_count": 103,
     "metadata": {},
     "output_type": "execute_result"
    }
   ],
   "source": [
    "len(x_full_trans)"
   ]
  },
  {
   "cell_type": "code",
   "execution_count": 104,
   "metadata": {},
   "outputs": [
    {
     "data": {
      "text/plain": [
       "4336.992847278056"
      ]
     },
     "execution_count": 104,
     "metadata": {},
     "output_type": "execute_result"
    }
   ],
   "source": [
    "mean_squared_error(y_full, model2.predict(x_full_trans), squared = False)"
   ]
  },
  {
   "cell_type": "code",
   "execution_count": null,
   "metadata": {},
   "outputs": [],
   "source": []
  }
 ],
 "metadata": {
  "kernelspec": {
   "display_name": "Python 3",
   "language": "python",
   "name": "python3"
  },
  "language_info": {
   "codemirror_mode": {
    "name": "ipython",
    "version": 3
   },
   "file_extension": ".py",
   "mimetype": "text/x-python",
   "name": "python",
   "nbconvert_exporter": "python",
   "pygments_lexer": "ipython3",
   "version": "3.8.5"
  }
 },
 "nbformat": 4,
 "nbformat_minor": 4
}
