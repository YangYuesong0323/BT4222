{
 "cells": [
  {
   "cell_type": "code",
   "execution_count": 11,
   "metadata": {},
   "outputs": [],
   "source": [
    "import pandas as pd\n",
    "import numpy as np\n",
    "from sklearn import metrics\n",
    "from sklearn.linear_model import LinearRegression\n",
    "from sklearn.metrics import mean_squared_error\n",
    "import math\n",
    "from sklearn.preprocessing import MinMaxScaler\n",
    "import sys\n",
    "sys.path.insert(1, '../../')\n",
    "from custom_utils import *"
   ]
  },
  {
   "cell_type": "code",
   "execution_count": 20,
   "metadata": {},
   "outputs": [],
   "source": [
    "df = pd.read_csv(\"../../data/cooked_data/cooked_complete_dataset.csv\")\n",
    "df['date'] = pd.to_datetime(df['date'], format='%d/%m/%y')\n",
    "\n",
    "# drop certain variables due to multicollinearity or week correlation\n",
    "df = df.drop([\"Open_BTC-USD\", \"High_BTC-USD\", \"Low_BTC-USD\", \"Volume_BTC-USD\", \"Adj_Close_CNYUSD=X\", \"num_of_coindesk_posts\"], axis=1)"
   ]
  },
  {
   "cell_type": "code",
   "execution_count": 21,
   "metadata": {},
   "outputs": [
    {
     "data": {
      "text/html": [
       "<div>\n",
       "<style scoped>\n",
       "    .dataframe tbody tr th:only-of-type {\n",
       "        vertical-align: middle;\n",
       "    }\n",
       "\n",
       "    .dataframe tbody tr th {\n",
       "        vertical-align: top;\n",
       "    }\n",
       "\n",
       "    .dataframe thead th {\n",
       "        text-align: right;\n",
       "    }\n",
       "</style>\n",
       "<table border=\"1\" class=\"dataframe\">\n",
       "  <thead>\n",
       "    <tr style=\"text-align: right;\">\n",
       "      <th></th>\n",
       "      <th>date</th>\n",
       "      <th>Adj_Close_BTC-USD</th>\n",
       "      <th>Adj_Close_SPY</th>\n",
       "      <th>Adj_Close_GLD</th>\n",
       "      <th>Adj_Close_CHFUSD=X</th>\n",
       "      <th>Adj_Close_EURUSD=X</th>\n",
       "      <th>Adj_Close_GBPUSD=X</th>\n",
       "      <th>Adj_Close_JPYUSD=X</th>\n",
       "      <th>coindesk_sentiment</th>\n",
       "      <th>reddit_comments_sentiments</th>\n",
       "      <th>top_50_reddit_posts_sentiments</th>\n",
       "      <th>blockchain_transactions_per_block</th>\n",
       "      <th>blockchain_hash_rates</th>\n",
       "    </tr>\n",
       "  </thead>\n",
       "  <tbody>\n",
       "    <tr>\n",
       "      <th>0</th>\n",
       "      <td>2020-12-14</td>\n",
       "      <td>19246.64453</td>\n",
       "      <td>361.926788</td>\n",
       "      <td>171.539993</td>\n",
       "      <td>1.125442</td>\n",
       "      <td>1.213340</td>\n",
       "      <td>1.331824</td>\n",
       "      <td>0.009621</td>\n",
       "      <td>0.249489</td>\n",
       "      <td>0.158060</td>\n",
       "      <td>0.677618</td>\n",
       "      <td>2167.931034</td>\n",
       "      <td>134533587.6</td>\n",
       "    </tr>\n",
       "    <tr>\n",
       "      <th>1</th>\n",
       "      <td>2020-12-15</td>\n",
       "      <td>19417.07617</td>\n",
       "      <td>366.819824</td>\n",
       "      <td>173.940002</td>\n",
       "      <td>1.127930</td>\n",
       "      <td>1.214890</td>\n",
       "      <td>1.333084</td>\n",
       "      <td>0.009614</td>\n",
       "      <td>0.173773</td>\n",
       "      <td>0.101930</td>\n",
       "      <td>0.447277</td>\n",
       "      <td>2288.857143</td>\n",
       "      <td>133351912.2</td>\n",
       "    </tr>\n",
       "    <tr>\n",
       "      <th>2</th>\n",
       "      <td>2020-12-16</td>\n",
       "      <td>21310.59766</td>\n",
       "      <td>367.395508</td>\n",
       "      <td>174.899994</td>\n",
       "      <td>1.129382</td>\n",
       "      <td>1.215430</td>\n",
       "      <td>1.344447</td>\n",
       "      <td>0.009649</td>\n",
       "      <td>0.341491</td>\n",
       "      <td>0.127344</td>\n",
       "      <td>0.480809</td>\n",
       "      <td>2204.314685</td>\n",
       "      <td>132323572.3</td>\n",
       "    </tr>\n",
       "    <tr>\n",
       "      <th>3</th>\n",
       "      <td>2020-12-17</td>\n",
       "      <td>22805.16211</td>\n",
       "      <td>369.449982</td>\n",
       "      <td>176.740005</td>\n",
       "      <td>1.129446</td>\n",
       "      <td>1.219959</td>\n",
       "      <td>1.350293</td>\n",
       "      <td>0.009664</td>\n",
       "      <td>0.197572</td>\n",
       "      <td>0.135945</td>\n",
       "      <td>0.539729</td>\n",
       "      <td>2399.077519</td>\n",
       "      <td>132373208.7</td>\n",
       "    </tr>\n",
       "    <tr>\n",
       "      <th>4</th>\n",
       "      <td>2020-12-18</td>\n",
       "      <td>23137.96094</td>\n",
       "      <td>367.974792</td>\n",
       "      <td>176.440002</td>\n",
       "      <td>1.130301</td>\n",
       "      <td>1.226272</td>\n",
       "      <td>1.357018</td>\n",
       "      <td>0.009696</td>\n",
       "      <td>0.315601</td>\n",
       "      <td>0.135441</td>\n",
       "      <td>0.449503</td>\n",
       "      <td>2392.031847</td>\n",
       "      <td>131791042.0</td>\n",
       "    </tr>\n",
       "    <tr>\n",
       "      <th>...</th>\n",
       "      <td>...</td>\n",
       "      <td>...</td>\n",
       "      <td>...</td>\n",
       "      <td>...</td>\n",
       "      <td>...</td>\n",
       "      <td>...</td>\n",
       "      <td>...</td>\n",
       "      <td>...</td>\n",
       "      <td>...</td>\n",
       "      <td>...</td>\n",
       "      <td>...</td>\n",
       "      <td>...</td>\n",
       "      <td>...</td>\n",
       "    </tr>\n",
       "    <tr>\n",
       "      <th>116</th>\n",
       "      <td>2021-04-09</td>\n",
       "      <td>58245.00391</td>\n",
       "      <td>411.489990</td>\n",
       "      <td>163.270004</td>\n",
       "      <td>1.082064</td>\n",
       "      <td>1.191568</td>\n",
       "      <td>1.373438</td>\n",
       "      <td>0.009147</td>\n",
       "      <td>0.239549</td>\n",
       "      <td>0.112655</td>\n",
       "      <td>0.341179</td>\n",
       "      <td>2136.315789</td>\n",
       "      <td>165551986.7</td>\n",
       "    </tr>\n",
       "    <tr>\n",
       "      <th>117</th>\n",
       "      <td>2021-04-10</td>\n",
       "      <td>59793.23438</td>\n",
       "      <td>411.489990</td>\n",
       "      <td>163.270004</td>\n",
       "      <td>1.082064</td>\n",
       "      <td>1.191568</td>\n",
       "      <td>1.373438</td>\n",
       "      <td>0.009147</td>\n",
       "      <td>0.316376</td>\n",
       "      <td>0.128121</td>\n",
       "      <td>0.277659</td>\n",
       "      <td>1905.006369</td>\n",
       "      <td>167595961.7</td>\n",
       "    </tr>\n",
       "    <tr>\n",
       "      <th>118</th>\n",
       "      <td>2021-04-11</td>\n",
       "      <td>60204.96484</td>\n",
       "      <td>411.489990</td>\n",
       "      <td>163.270004</td>\n",
       "      <td>1.082064</td>\n",
       "      <td>1.191568</td>\n",
       "      <td>1.373438</td>\n",
       "      <td>0.009147</td>\n",
       "      <td>-0.035314</td>\n",
       "      <td>0.206358</td>\n",
       "      <td>0.375233</td>\n",
       "      <td>1747.924138</td>\n",
       "      <td>171868015.6</td>\n",
       "    </tr>\n",
       "    <tr>\n",
       "      <th>119</th>\n",
       "      <td>2021-04-12</td>\n",
       "      <td>59893.45313</td>\n",
       "      <td>411.640015</td>\n",
       "      <td>162.279999</td>\n",
       "      <td>1.080742</td>\n",
       "      <td>1.190051</td>\n",
       "      <td>1.371215</td>\n",
       "      <td>0.009116</td>\n",
       "      <td>0.240797</td>\n",
       "      <td>0.121495</td>\n",
       "      <td>0.280850</td>\n",
       "      <td>2023.395833</td>\n",
       "      <td>171703705.8</td>\n",
       "    </tr>\n",
       "    <tr>\n",
       "      <th>120</th>\n",
       "      <td>2021-04-13</td>\n",
       "      <td>63503.45703</td>\n",
       "      <td>412.859985</td>\n",
       "      <td>163.429993</td>\n",
       "      <td>1.084481</td>\n",
       "      <td>1.191469</td>\n",
       "      <td>1.375383</td>\n",
       "      <td>0.009143</td>\n",
       "      <td>0.280452</td>\n",
       "      <td>0.168652</td>\n",
       "      <td>0.438919</td>\n",
       "      <td>2184.598592</td>\n",
       "      <td>169731988.6</td>\n",
       "    </tr>\n",
       "  </tbody>\n",
       "</table>\n",
       "<p>121 rows × 13 columns</p>\n",
       "</div>"
      ],
      "text/plain": [
       "          date  Adj_Close_BTC-USD  Adj_Close_SPY  Adj_Close_GLD  \\\n",
       "0   2020-12-14        19246.64453     361.926788     171.539993   \n",
       "1   2020-12-15        19417.07617     366.819824     173.940002   \n",
       "2   2020-12-16        21310.59766     367.395508     174.899994   \n",
       "3   2020-12-17        22805.16211     369.449982     176.740005   \n",
       "4   2020-12-18        23137.96094     367.974792     176.440002   \n",
       "..         ...                ...            ...            ...   \n",
       "116 2021-04-09        58245.00391     411.489990     163.270004   \n",
       "117 2021-04-10        59793.23438     411.489990     163.270004   \n",
       "118 2021-04-11        60204.96484     411.489990     163.270004   \n",
       "119 2021-04-12        59893.45313     411.640015     162.279999   \n",
       "120 2021-04-13        63503.45703     412.859985     163.429993   \n",
       "\n",
       "     Adj_Close_CHFUSD=X  Adj_Close_EURUSD=X  Adj_Close_GBPUSD=X  \\\n",
       "0              1.125442            1.213340            1.331824   \n",
       "1              1.127930            1.214890            1.333084   \n",
       "2              1.129382            1.215430            1.344447   \n",
       "3              1.129446            1.219959            1.350293   \n",
       "4              1.130301            1.226272            1.357018   \n",
       "..                  ...                 ...                 ...   \n",
       "116            1.082064            1.191568            1.373438   \n",
       "117            1.082064            1.191568            1.373438   \n",
       "118            1.082064            1.191568            1.373438   \n",
       "119            1.080742            1.190051            1.371215   \n",
       "120            1.084481            1.191469            1.375383   \n",
       "\n",
       "     Adj_Close_JPYUSD=X  coindesk_sentiment  reddit_comments_sentiments  \\\n",
       "0              0.009621            0.249489                    0.158060   \n",
       "1              0.009614            0.173773                    0.101930   \n",
       "2              0.009649            0.341491                    0.127344   \n",
       "3              0.009664            0.197572                    0.135945   \n",
       "4              0.009696            0.315601                    0.135441   \n",
       "..                  ...                 ...                         ...   \n",
       "116            0.009147            0.239549                    0.112655   \n",
       "117            0.009147            0.316376                    0.128121   \n",
       "118            0.009147           -0.035314                    0.206358   \n",
       "119            0.009116            0.240797                    0.121495   \n",
       "120            0.009143            0.280452                    0.168652   \n",
       "\n",
       "     top_50_reddit_posts_sentiments  blockchain_transactions_per_block  \\\n",
       "0                          0.677618                        2167.931034   \n",
       "1                          0.447277                        2288.857143   \n",
       "2                          0.480809                        2204.314685   \n",
       "3                          0.539729                        2399.077519   \n",
       "4                          0.449503                        2392.031847   \n",
       "..                              ...                                ...   \n",
       "116                        0.341179                        2136.315789   \n",
       "117                        0.277659                        1905.006369   \n",
       "118                        0.375233                        1747.924138   \n",
       "119                        0.280850                        2023.395833   \n",
       "120                        0.438919                        2184.598592   \n",
       "\n",
       "     blockchain_hash_rates  \n",
       "0              134533587.6  \n",
       "1              133351912.2  \n",
       "2              132323572.3  \n",
       "3              132373208.7  \n",
       "4              131791042.0  \n",
       "..                     ...  \n",
       "116            165551986.7  \n",
       "117            167595961.7  \n",
       "118            171868015.6  \n",
       "119            171703705.8  \n",
       "120            169731988.6  \n",
       "\n",
       "[121 rows x 13 columns]"
      ]
     },
     "execution_count": 21,
     "metadata": {},
     "output_type": "execute_result"
    }
   ],
   "source": [
    "df"
   ]
  },
  {
   "cell_type": "code",
   "execution_count": 22,
   "metadata": {},
   "outputs": [
    {
     "data": {
      "text/plain": [
       "Index(['date', 'Adj_Close_BTC-USD', 'Adj_Close_SPY', 'Adj_Close_GLD',\n",
       "       'Adj_Close_CHFUSD=X', 'Adj_Close_EURUSD=X', 'Adj_Close_GBPUSD=X',\n",
       "       'Adj_Close_JPYUSD=X', 'coindesk_sentiment',\n",
       "       'reddit_comments_sentiments', 'top_50_reddit_posts_sentiments',\n",
       "       'blockchain_transactions_per_block', 'blockchain_hash_rates'],\n",
       "      dtype='object')"
      ]
     },
     "execution_count": 22,
     "metadata": {},
     "output_type": "execute_result"
    }
   ],
   "source": [
    "df.columns"
   ]
  },
  {
   "cell_type": "code",
   "execution_count": 23,
   "metadata": {},
   "outputs": [],
   "source": [
    "df = get_num_lags(df, {})"
   ]
  },
  {
   "cell_type": "code",
   "execution_count": 24,
   "metadata": {},
   "outputs": [],
   "source": [
    "train = df[(df['date']<='2021-03-14') & (df['date']>='2021-01-01')].sort_values('date')\n",
    "validation_and_test = df[(df['date']>='2021-03-15') & (df['date'] <'2021-04-13') ].sort_values('date')"
   ]
  },
  {
   "cell_type": "code",
   "execution_count": 25,
   "metadata": {},
   "outputs": [],
   "source": [
    "sc = MinMaxScaler(feature_range = (0,1))\n",
    "y_train = train['Adj_Close_BTC-USD']\n",
    "X_train = train.iloc[:,2:]\n",
    "column_names = X_train.columns\n",
    "X_train = sc.fit_transform(X_train)\n",
    "X_train = pd.DataFrame(X_train, columns = list(column_names))\n",
    "X_train_no_sentiment = X_train.drop(['coindesk_sentiment_lag_1', 'reddit_comments_sentiments_lag_1', 'top_50_reddit_posts_sentiments_lag_1'], axis=1)\n",
    "\n",
    "\n",
    "y_test = validation_and_test['Adj_Close_BTC-USD']\n",
    "X_test = validation_and_test.iloc[:,2:]\n",
    "X_test = sc.transform(X_test)\n",
    "X_test = pd.DataFrame(X_test, columns = list(column_names))\n",
    "X_test_no_sentiment = X_test.drop(['coindesk_sentiment_lag_1', 'reddit_comments_sentiments_lag_1', 'top_50_reddit_posts_sentiments_lag_1'], axis=1)\n"
   ]
  },
  {
   "cell_type": "markdown",
   "metadata": {},
   "source": [
    "### Linear regression with sentiments"
   ]
  },
  {
   "cell_type": "code",
   "execution_count": 29,
   "metadata": {},
   "outputs": [
    {
     "data": {
      "text/plain": [
       "LinearRegression(normalize=True)"
      ]
     },
     "execution_count": 29,
     "metadata": {},
     "output_type": "execute_result"
    }
   ],
   "source": [
    "model = LinearRegression(normalize=True)\n",
    "model.fit(X_train, y_train)"
   ]
  },
  {
   "cell_type": "code",
   "execution_count": 30,
   "metadata": {},
   "outputs": [
    {
     "name": "stdout",
     "output_type": "stream",
     "text": [
      "RMSE in training set: 2869.4498913466623\n",
      "RMSE in test set: 6976.001755833121\n"
     ]
    }
   ],
   "source": [
    "output_with_sentiment = []\n",
    "y_pred_return = model.predict(X_train)\n",
    "output_with_sentiment = output_with_sentiment + list(y_pred_return)\n",
    "print(\"RMSE in training set: {}\".format(math.sqrt(mean_squared_error(y_pred_return, y_train))))\n",
    "\n",
    "y_pred_return = model.predict(X_test)\n",
    "output_with_sentiment = output_with_sentiment + list(y_pred_return)\n",
    "print(\"RMSE in test set: {}\".format(math.sqrt(mean_squared_error(y_pred_return, y_test))))"
   ]
  },
  {
   "cell_type": "markdown",
   "metadata": {},
   "source": [
    "### Linear regression without sentiments"
   ]
  },
  {
   "cell_type": "code",
   "execution_count": 31,
   "metadata": {},
   "outputs": [
    {
     "data": {
      "text/plain": [
       "LinearRegression(normalize=True)"
      ]
     },
     "execution_count": 31,
     "metadata": {},
     "output_type": "execute_result"
    }
   ],
   "source": [
    "model = LinearRegression(normalize=True)\n",
    "model.fit(X_train_no_sentiment, y_train)"
   ]
  },
  {
   "cell_type": "code",
   "execution_count": 32,
   "metadata": {},
   "outputs": [
    {
     "name": "stdout",
     "output_type": "stream",
     "text": [
      "RMSE in training set: 3078.521251044796\n",
      "RMSE in training set: 8162.758535503783\n"
     ]
    }
   ],
   "source": [
    "output_without_sentiment = []\n",
    "y_pred_return = model.predict(X_train_no_sentiment)\n",
    "output_without_sentiment = output_without_sentiment + list(y_pred_return)\n",
    "print(\"RMSE in training set: {}\".format(math.sqrt(mean_squared_error(y_pred_return, y_train))))\n",
    "\n",
    "y_pred_return = model.predict(X_test_no_sentiment)\n",
    "output_without_sentiment = output_without_sentiment + list(y_pred_return)\n",
    "print(\"RMSE in training set: {}\".format(math.sqrt(mean_squared_error(y_pred_return, y_test))))"
   ]
  },
  {
   "cell_type": "code",
   "execution_count": 34,
   "metadata": {},
   "outputs": [],
   "source": [
    "predictions = {\n",
    "    'prediction_with_sentiments': output_with_sentiment,\n",
    "    'predictions_without_sentiments': output_without_sentiment,\n",
    "    'date': list(train['date']) + list(validation_and_test['date'])\n",
    "}"
   ]
  },
  {
   "cell_type": "code",
   "execution_count": 35,
   "metadata": {},
   "outputs": [],
   "source": [
    "pd.DataFrame(predictions).to_csv('linear_predictions.csv', index=False)"
   ]
  },
  {
   "cell_type": "code",
   "execution_count": null,
   "metadata": {},
   "outputs": [],
   "source": []
  },
  {
   "cell_type": "code",
   "execution_count": null,
   "metadata": {},
   "outputs": [],
   "source": []
  }
 ],
 "metadata": {
  "kernelspec": {
   "display_name": "Python 3",
   "language": "python",
   "name": "python3"
  },
  "language_info": {
   "codemirror_mode": {
    "name": "ipython",
    "version": 3
   },
   "file_extension": ".py",
   "mimetype": "text/x-python",
   "name": "python",
   "nbconvert_exporter": "python",
   "pygments_lexer": "ipython3",
   "version": "3.7.4"
  }
 },
 "nbformat": 4,
 "nbformat_minor": 2
}
