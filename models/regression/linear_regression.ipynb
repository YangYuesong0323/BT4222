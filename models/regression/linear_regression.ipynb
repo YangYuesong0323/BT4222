{
 "cells": [
  {
   "cell_type": "code",
   "execution_count": 141,
   "metadata": {},
   "outputs": [],
   "source": [
    "import pandas as pd\n",
    "import numpy as np\n",
    "from sklearn import metrics\n",
    "from sklearn.linear_model import LinearRegression\n",
    "from sklearn.metrics import mean_squared_error\n",
    "import math\n",
    "\n",
    "import sys\n",
    "sys.path.insert(1, '/Users/bolin/Desktop/NUS_Y4S2/BT4222/BT4222_repo')\n",
    "from custom_utils import *"
   ]
  },
  {
   "cell_type": "code",
   "execution_count": 142,
   "metadata": {},
   "outputs": [],
   "source": [
    "df = pd.read_csv(\"/Users/bolin/Desktop/NUS_Y4S2/BT4222/BT4222_repo/data/cooked_data/cooked_complete_dataset.csv\")\n",
    "# prevent 0 division zero\n",
    "df = df.replace(0, 1)"
   ]
  },
  {
   "cell_type": "code",
   "execution_count": 143,
   "metadata": {},
   "outputs": [
    {
     "data": {
      "text/html": [
       "<div>\n",
       "<style scoped>\n",
       "    .dataframe tbody tr th:only-of-type {\n",
       "        vertical-align: middle;\n",
       "    }\n",
       "\n",
       "    .dataframe tbody tr th {\n",
       "        vertical-align: top;\n",
       "    }\n",
       "\n",
       "    .dataframe thead th {\n",
       "        text-align: right;\n",
       "    }\n",
       "</style>\n",
       "<table border=\"1\" class=\"dataframe\">\n",
       "  <thead>\n",
       "    <tr style=\"text-align: right;\">\n",
       "      <th></th>\n",
       "      <th>date</th>\n",
       "      <th>Adj_Close_BTC-USD</th>\n",
       "      <th>Open_BTC-USD</th>\n",
       "      <th>High_BTC-USD</th>\n",
       "      <th>Low_BTC-USD</th>\n",
       "      <th>Volume_BTC-USD</th>\n",
       "      <th>Adj_Close_SPY</th>\n",
       "      <th>Adj_Close_GLD</th>\n",
       "      <th>Adj_Close_CHFUSD=X</th>\n",
       "      <th>Adj_Close_CNYUSD=X</th>\n",
       "      <th>Adj_Close_EURUSD=X</th>\n",
       "      <th>Adj_Close_GBPUSD=X</th>\n",
       "      <th>Adj_Close_JPYUSD=X</th>\n",
       "      <th>coindesk_sentiment</th>\n",
       "      <th>num_of_coindesk_posts</th>\n",
       "      <th>reddit_comments_sentiments</th>\n",
       "      <th>top_50_reddit_posts_sentiments</th>\n",
       "      <th>blockchain_transactions_per_block</th>\n",
       "      <th>blockchain_hash_rates</th>\n",
       "    </tr>\n",
       "  </thead>\n",
       "  <tbody>\n",
       "    <tr>\n",
       "      <th>0</th>\n",
       "      <td>2020-12-14</td>\n",
       "      <td>19246.64453</td>\n",
       "      <td>19144.49219</td>\n",
       "      <td>19305.09961</td>\n",
       "      <td>19012.70898</td>\n",
       "      <td>2.247400e+10</td>\n",
       "      <td>361.926788</td>\n",
       "      <td>171.539993</td>\n",
       "      <td>1.125442</td>\n",
       "      <td>0.152772</td>\n",
       "      <td>1.213340</td>\n",
       "      <td>1.331824</td>\n",
       "      <td>0.009621</td>\n",
       "      <td>0.249489</td>\n",
       "      <td>12</td>\n",
       "      <td>0.188275</td>\n",
       "      <td>0.297238</td>\n",
       "      <td>2167.931034</td>\n",
       "      <td>134533587.6</td>\n",
       "    </tr>\n",
       "    <tr>\n",
       "      <th>1</th>\n",
       "      <td>2020-12-15</td>\n",
       "      <td>19417.07617</td>\n",
       "      <td>19246.91992</td>\n",
       "      <td>19525.00781</td>\n",
       "      <td>19079.84180</td>\n",
       "      <td>2.674198e+10</td>\n",
       "      <td>366.819824</td>\n",
       "      <td>173.940002</td>\n",
       "      <td>1.127930</td>\n",
       "      <td>0.152679</td>\n",
       "      <td>1.214890</td>\n",
       "      <td>1.333084</td>\n",
       "      <td>0.009614</td>\n",
       "      <td>0.173773</td>\n",
       "      <td>18</td>\n",
       "      <td>0.144389</td>\n",
       "      <td>0.399427</td>\n",
       "      <td>2288.857143</td>\n",
       "      <td>133351912.2</td>\n",
       "    </tr>\n",
       "    <tr>\n",
       "      <th>2</th>\n",
       "      <td>2020-12-16</td>\n",
       "      <td>21310.59766</td>\n",
       "      <td>19418.81836</td>\n",
       "      <td>21458.90820</td>\n",
       "      <td>19298.31641</td>\n",
       "      <td>4.440901e+10</td>\n",
       "      <td>367.395508</td>\n",
       "      <td>174.899994</td>\n",
       "      <td>1.129382</td>\n",
       "      <td>0.152945</td>\n",
       "      <td>1.215430</td>\n",
       "      <td>1.344447</td>\n",
       "      <td>0.009649</td>\n",
       "      <td>0.341491</td>\n",
       "      <td>11</td>\n",
       "      <td>0.137256</td>\n",
       "      <td>0.489673</td>\n",
       "      <td>2204.314685</td>\n",
       "      <td>132323572.3</td>\n",
       "    </tr>\n",
       "    <tr>\n",
       "      <th>3</th>\n",
       "      <td>2020-12-17</td>\n",
       "      <td>22805.16211</td>\n",
       "      <td>21308.35156</td>\n",
       "      <td>23642.66016</td>\n",
       "      <td>21234.67578</td>\n",
       "      <td>7.137861e+10</td>\n",
       "      <td>369.449982</td>\n",
       "      <td>176.740005</td>\n",
       "      <td>1.129446</td>\n",
       "      <td>0.153109</td>\n",
       "      <td>1.219959</td>\n",
       "      <td>1.350293</td>\n",
       "      <td>0.009664</td>\n",
       "      <td>0.197572</td>\n",
       "      <td>10</td>\n",
       "      <td>0.156723</td>\n",
       "      <td>0.636030</td>\n",
       "      <td>2399.077519</td>\n",
       "      <td>132373208.7</td>\n",
       "    </tr>\n",
       "    <tr>\n",
       "      <th>4</th>\n",
       "      <td>2020-12-18</td>\n",
       "      <td>23137.96094</td>\n",
       "      <td>22806.79688</td>\n",
       "      <td>23238.60156</td>\n",
       "      <td>22399.81250</td>\n",
       "      <td>4.038790e+10</td>\n",
       "      <td>367.974792</td>\n",
       "      <td>176.440002</td>\n",
       "      <td>1.130301</td>\n",
       "      <td>0.153090</td>\n",
       "      <td>1.226272</td>\n",
       "      <td>1.357018</td>\n",
       "      <td>0.009696</td>\n",
       "      <td>0.315601</td>\n",
       "      <td>2</td>\n",
       "      <td>0.166419</td>\n",
       "      <td>0.107093</td>\n",
       "      <td>2392.031847</td>\n",
       "      <td>131791042.0</td>\n",
       "    </tr>\n",
       "    <tr>\n",
       "      <th>...</th>\n",
       "      <td>...</td>\n",
       "      <td>...</td>\n",
       "      <td>...</td>\n",
       "      <td>...</td>\n",
       "      <td>...</td>\n",
       "      <td>...</td>\n",
       "      <td>...</td>\n",
       "      <td>...</td>\n",
       "      <td>...</td>\n",
       "      <td>...</td>\n",
       "      <td>...</td>\n",
       "      <td>...</td>\n",
       "      <td>...</td>\n",
       "      <td>...</td>\n",
       "      <td>...</td>\n",
       "      <td>...</td>\n",
       "      <td>...</td>\n",
       "      <td>...</td>\n",
       "      <td>...</td>\n",
       "    </tr>\n",
       "    <tr>\n",
       "      <th>109</th>\n",
       "      <td>2021-04-02</td>\n",
       "      <td>59384.31250</td>\n",
       "      <td>59098.87890</td>\n",
       "      <td>60267.18750</td>\n",
       "      <td>58869.28130</td>\n",
       "      <td>5.870000e+10</td>\n",
       "      <td>400.609985</td>\n",
       "      <td>161.979996</td>\n",
       "      <td>1.061447</td>\n",
       "      <td>0.152337</td>\n",
       "      <td>1.177995</td>\n",
       "      <td>1.383509</td>\n",
       "      <td>0.009041</td>\n",
       "      <td>0.121955</td>\n",
       "      <td>10</td>\n",
       "      <td>0.146423</td>\n",
       "      <td>0.152625</td>\n",
       "      <td>2184.200000</td>\n",
       "      <td>163507250.5</td>\n",
       "    </tr>\n",
       "    <tr>\n",
       "      <th>110</th>\n",
       "      <td>2021-04-03</td>\n",
       "      <td>57603.89060</td>\n",
       "      <td>59397.41020</td>\n",
       "      <td>60110.26950</td>\n",
       "      <td>57603.89060</td>\n",
       "      <td>5.960000e+10</td>\n",
       "      <td>400.609985</td>\n",
       "      <td>161.979996</td>\n",
       "      <td>1.061447</td>\n",
       "      <td>0.152337</td>\n",
       "      <td>1.177995</td>\n",
       "      <td>1.383509</td>\n",
       "      <td>0.009041</td>\n",
       "      <td>0.501192</td>\n",
       "      <td>1</td>\n",
       "      <td>0.132042</td>\n",
       "      <td>0.274113</td>\n",
       "      <td>2150.511450</td>\n",
       "      <td>165320614.4</td>\n",
       "    </tr>\n",
       "    <tr>\n",
       "      <th>111</th>\n",
       "      <td>2021-04-04</td>\n",
       "      <td>58758.55470</td>\n",
       "      <td>57604.83980</td>\n",
       "      <td>58913.74610</td>\n",
       "      <td>57168.67580</td>\n",
       "      <td>5.080000e+10</td>\n",
       "      <td>400.609985</td>\n",
       "      <td>161.979996</td>\n",
       "      <td>1.061447</td>\n",
       "      <td>0.152337</td>\n",
       "      <td>1.177995</td>\n",
       "      <td>1.383509</td>\n",
       "      <td>0.009041</td>\n",
       "      <td>0.206128</td>\n",
       "      <td>1</td>\n",
       "      <td>0.216657</td>\n",
       "      <td>0.148517</td>\n",
       "      <td>1684.979452</td>\n",
       "      <td>162156064.8</td>\n",
       "    </tr>\n",
       "    <tr>\n",
       "      <th>112</th>\n",
       "      <td>2021-04-05</td>\n",
       "      <td>59057.87890</td>\n",
       "      <td>58760.87500</td>\n",
       "      <td>59891.29690</td>\n",
       "      <td>57694.82420</td>\n",
       "      <td>6.070000e+10</td>\n",
       "      <td>406.359985</td>\n",
       "      <td>161.919998</td>\n",
       "      <td>1.061571</td>\n",
       "      <td>0.152288</td>\n",
       "      <td>1.176817</td>\n",
       "      <td>1.383126</td>\n",
       "      <td>0.009035</td>\n",
       "      <td>0.179058</td>\n",
       "      <td>21</td>\n",
       "      <td>0.232894</td>\n",
       "      <td>0.351100</td>\n",
       "      <td>1852.858974</td>\n",
       "      <td>161456161.7</td>\n",
       "    </tr>\n",
       "    <tr>\n",
       "      <th>113</th>\n",
       "      <td>2021-04-06</td>\n",
       "      <td>58192.35938</td>\n",
       "      <td>59171.93359</td>\n",
       "      <td>59479.57813</td>\n",
       "      <td>57646.80859</td>\n",
       "      <td>6.605803e+10</td>\n",
       "      <td>406.119995</td>\n",
       "      <td>163.220001</td>\n",
       "      <td>1.068330</td>\n",
       "      <td>0.152302</td>\n",
       "      <td>1.181893</td>\n",
       "      <td>1.391401</td>\n",
       "      <td>0.009075</td>\n",
       "      <td>0.214637</td>\n",
       "      <td>24</td>\n",
       "      <td>0.204272</td>\n",
       "      <td>0.377432</td>\n",
       "      <td>NaN</td>\n",
       "      <td>NaN</td>\n",
       "    </tr>\n",
       "  </tbody>\n",
       "</table>\n",
       "<p>114 rows × 19 columns</p>\n",
       "</div>"
      ],
      "text/plain": [
       "           date  Adj_Close_BTC-USD  Open_BTC-USD  High_BTC-USD  Low_BTC-USD  \\\n",
       "0    2020-12-14        19246.64453   19144.49219   19305.09961  19012.70898   \n",
       "1    2020-12-15        19417.07617   19246.91992   19525.00781  19079.84180   \n",
       "2    2020-12-16        21310.59766   19418.81836   21458.90820  19298.31641   \n",
       "3    2020-12-17        22805.16211   21308.35156   23642.66016  21234.67578   \n",
       "4    2020-12-18        23137.96094   22806.79688   23238.60156  22399.81250   \n",
       "..          ...                ...           ...           ...          ...   \n",
       "109  2021-04-02        59384.31250   59098.87890   60267.18750  58869.28130   \n",
       "110  2021-04-03        57603.89060   59397.41020   60110.26950  57603.89060   \n",
       "111  2021-04-04        58758.55470   57604.83980   58913.74610  57168.67580   \n",
       "112  2021-04-05        59057.87890   58760.87500   59891.29690  57694.82420   \n",
       "113  2021-04-06        58192.35938   59171.93359   59479.57813  57646.80859   \n",
       "\n",
       "     Volume_BTC-USD  Adj_Close_SPY  Adj_Close_GLD  Adj_Close_CHFUSD=X  \\\n",
       "0      2.247400e+10     361.926788     171.539993            1.125442   \n",
       "1      2.674198e+10     366.819824     173.940002            1.127930   \n",
       "2      4.440901e+10     367.395508     174.899994            1.129382   \n",
       "3      7.137861e+10     369.449982     176.740005            1.129446   \n",
       "4      4.038790e+10     367.974792     176.440002            1.130301   \n",
       "..              ...            ...            ...                 ...   \n",
       "109    5.870000e+10     400.609985     161.979996            1.061447   \n",
       "110    5.960000e+10     400.609985     161.979996            1.061447   \n",
       "111    5.080000e+10     400.609985     161.979996            1.061447   \n",
       "112    6.070000e+10     406.359985     161.919998            1.061571   \n",
       "113    6.605803e+10     406.119995     163.220001            1.068330   \n",
       "\n",
       "     Adj_Close_CNYUSD=X  Adj_Close_EURUSD=X  Adj_Close_GBPUSD=X  \\\n",
       "0              0.152772            1.213340            1.331824   \n",
       "1              0.152679            1.214890            1.333084   \n",
       "2              0.152945            1.215430            1.344447   \n",
       "3              0.153109            1.219959            1.350293   \n",
       "4              0.153090            1.226272            1.357018   \n",
       "..                  ...                 ...                 ...   \n",
       "109            0.152337            1.177995            1.383509   \n",
       "110            0.152337            1.177995            1.383509   \n",
       "111            0.152337            1.177995            1.383509   \n",
       "112            0.152288            1.176817            1.383126   \n",
       "113            0.152302            1.181893            1.391401   \n",
       "\n",
       "     Adj_Close_JPYUSD=X  coindesk_sentiment  num_of_coindesk_posts  \\\n",
       "0              0.009621            0.249489                     12   \n",
       "1              0.009614            0.173773                     18   \n",
       "2              0.009649            0.341491                     11   \n",
       "3              0.009664            0.197572                     10   \n",
       "4              0.009696            0.315601                      2   \n",
       "..                  ...                 ...                    ...   \n",
       "109            0.009041            0.121955                     10   \n",
       "110            0.009041            0.501192                      1   \n",
       "111            0.009041            0.206128                      1   \n",
       "112            0.009035            0.179058                     21   \n",
       "113            0.009075            0.214637                     24   \n",
       "\n",
       "     reddit_comments_sentiments  top_50_reddit_posts_sentiments  \\\n",
       "0                      0.188275                        0.297238   \n",
       "1                      0.144389                        0.399427   \n",
       "2                      0.137256                        0.489673   \n",
       "3                      0.156723                        0.636030   \n",
       "4                      0.166419                        0.107093   \n",
       "..                          ...                             ...   \n",
       "109                    0.146423                        0.152625   \n",
       "110                    0.132042                        0.274113   \n",
       "111                    0.216657                        0.148517   \n",
       "112                    0.232894                        0.351100   \n",
       "113                    0.204272                        0.377432   \n",
       "\n",
       "     blockchain_transactions_per_block  blockchain_hash_rates  \n",
       "0                          2167.931034            134533587.6  \n",
       "1                          2288.857143            133351912.2  \n",
       "2                          2204.314685            132323572.3  \n",
       "3                          2399.077519            132373208.7  \n",
       "4                          2392.031847            131791042.0  \n",
       "..                                 ...                    ...  \n",
       "109                        2184.200000            163507250.5  \n",
       "110                        2150.511450            165320614.4  \n",
       "111                        1684.979452            162156064.8  \n",
       "112                        1852.858974            161456161.7  \n",
       "113                                NaN                    NaN  \n",
       "\n",
       "[114 rows x 19 columns]"
      ]
     },
     "execution_count": 143,
     "metadata": {},
     "output_type": "execute_result"
    }
   ],
   "source": [
    "df"
   ]
  },
  {
   "cell_type": "code",
   "execution_count": 144,
   "metadata": {},
   "outputs": [],
   "source": [
    "df['date'] = pd.to_datetime(df['date'], format='%Y-%m-%d')"
   ]
  },
  {
   "cell_type": "code",
   "execution_count": 145,
   "metadata": {},
   "outputs": [
    {
     "data": {
      "text/plain": [
       "Index(['date', 'Adj_Close_BTC-USD', 'Open_BTC-USD', 'High_BTC-USD',\n",
       "       'Low_BTC-USD', 'Volume_BTC-USD', 'Adj_Close_SPY', 'Adj_Close_GLD',\n",
       "       'Adj_Close_CHFUSD=X', 'Adj_Close_CNYUSD=X', 'Adj_Close_EURUSD=X',\n",
       "       'Adj_Close_GBPUSD=X', 'Adj_Close_JPYUSD=X', 'coindesk_sentiment',\n",
       "       'num_of_coindesk_posts', 'reddit_comments_sentiments',\n",
       "       'top_50_reddit_posts_sentiments', 'blockchain_transactions_per_block',\n",
       "       'blockchain_hash_rates'],\n",
       "      dtype='object')"
      ]
     },
     "execution_count": 145,
     "metadata": {},
     "output_type": "execute_result"
    }
   ],
   "source": [
    "df.columns"
   ]
  },
  {
   "cell_type": "code",
   "execution_count": 128,
   "metadata": {},
   "outputs": [],
   "source": [
    "# conduct log return transformation on all columns\n",
    "df = log_return_transformation(df)"
   ]
  },
  {
   "cell_type": "code",
   "execution_count": 146,
   "metadata": {},
   "outputs": [],
   "source": [
    "# custom number of lags for selected columns\n",
    "# columns that are not specify in this dictionary will be lagged by on by default\n",
    "lags = {\n",
    "    'Adj_Close_BTC-USD': 6,\n",
    "    'Open_BTC-USD': 6,\n",
    "    'Low_BTC-USD': 6,\n",
    "    'Volume_BTC-USD': 6,\n",
    "    'Adj_Close_SPY': 6,\n",
    "    'Adj_Close_GLD': 6,\n",
    "}"
   ]
  },
  {
   "cell_type": "code",
   "execution_count": 147,
   "metadata": {},
   "outputs": [],
   "source": [
    "df = get_num_lags(df, lags)"
   ]
  },
  {
   "cell_type": "code",
   "execution_count": 148,
   "metadata": {},
   "outputs": [
    {
     "data": {
      "text/plain": [
       "Index(['date', 'Adj_Close_BTC-USD', 'Open_BTC-USD_lag_1', 'Open_BTC-USD_lag_2',\n",
       "       'Open_BTC-USD_lag_3', 'Open_BTC-USD_lag_4', 'Open_BTC-USD_lag_5',\n",
       "       'High_BTC-USD_lag_1', 'Low_BTC-USD_lag_1', 'Low_BTC-USD_lag_2',\n",
       "       'Low_BTC-USD_lag_3', 'Low_BTC-USD_lag_4', 'Low_BTC-USD_lag_5',\n",
       "       'Volume_BTC-USD_lag_1', 'Volume_BTC-USD_lag_2', 'Volume_BTC-USD_lag_3',\n",
       "       'Volume_BTC-USD_lag_4', 'Volume_BTC-USD_lag_5', 'Adj_Close_SPY_lag_1',\n",
       "       'Adj_Close_SPY_lag_2', 'Adj_Close_SPY_lag_3', 'Adj_Close_SPY_lag_4',\n",
       "       'Adj_Close_SPY_lag_5', 'Adj_Close_GLD_lag_1', 'Adj_Close_GLD_lag_2',\n",
       "       'Adj_Close_GLD_lag_3', 'Adj_Close_GLD_lag_4', 'Adj_Close_GLD_lag_5',\n",
       "       'Adj_Close_CHFUSD=X_lag_1', 'Adj_Close_CNYUSD=X_lag_1',\n",
       "       'Adj_Close_EURUSD=X_lag_1', 'Adj_Close_GBPUSD=X_lag_1',\n",
       "       'Adj_Close_JPYUSD=X_lag_1', 'coindesk_sentiment_lag_1',\n",
       "       'num_of_coindesk_posts_lag_1', 'reddit_comments_sentiments_lag_1',\n",
       "       'top_50_reddit_posts_sentiments_lag_1',\n",
       "       'blockchain_transactions_per_block_lag_1',\n",
       "       'blockchain_hash_rates_lag_1'],\n",
       "      dtype='object')"
      ]
     },
     "execution_count": 148,
     "metadata": {},
     "output_type": "execute_result"
    }
   ],
   "source": [
    "df.columns"
   ]
  },
  {
   "cell_type": "code",
   "execution_count": 149,
   "metadata": {},
   "outputs": [],
   "source": [
    "train = df[df['date']<'2021-03-11'].sort_values('date')\n",
    "test = df[df['date']>='2021-03-11'].sort_values('date')"
   ]
  },
  {
   "cell_type": "code",
   "execution_count": 150,
   "metadata": {},
   "outputs": [],
   "source": [
    "train.to_csv('clean_trainingset.csv', index=False)"
   ]
  },
  {
   "cell_type": "code",
   "execution_count": 151,
   "metadata": {},
   "outputs": [],
   "source": [
    "y_train = train['Adj_Close_BTC-USD']\n",
    "X_train = train.iloc[:,2:]\n",
    "X_train_no_sentiment = X_train.drop(['coindesk_sentiment_lag_1', 'num_of_coindesk_posts_lag_1', 'reddit_comments_sentiments_lag_1', 'top_50_reddit_posts_sentiments_lag_1'], axis=1)\n",
    "\n",
    "\n",
    "y_test = test['Adj_Close_BTC-USD']\n",
    "X_test = test.iloc[:,2:]\n",
    "X_test_no_sentiment = X_test.drop(['coindesk_sentiment_lag_1', 'num_of_coindesk_posts_lag_1', 'reddit_comments_sentiments_lag_1', 'top_50_reddit_posts_sentiments_lag_1'], axis=1)\n"
   ]
  },
  {
   "cell_type": "markdown",
   "metadata": {},
   "source": [
    "### Linear regression with complete set of independent variables (With sentiments)"
   ]
  },
  {
   "cell_type": "code",
   "execution_count": 152,
   "metadata": {},
   "outputs": [
    {
     "data": {
      "text/plain": [
       "LinearRegression(normalize=True)"
      ]
     },
     "execution_count": 152,
     "metadata": {},
     "output_type": "execute_result"
    }
   ],
   "source": [
    "model = LinearRegression(normalize=True)\n",
    "model.fit(X_train, y_train)"
   ]
  },
  {
   "cell_type": "code",
   "execution_count": 153,
   "metadata": {},
   "outputs": [
    {
     "name": "stdout",
     "output_type": "stream",
     "text": [
      "RMSE in training set: 1417.124322418379\n",
      "RMSE in training set: 10035.223394188453\n"
     ]
    }
   ],
   "source": [
    "output_with_sentiment = []\n",
    "y_pred_return = model.predict(X_train)\n",
    "output_with_sentiment = output_with_sentiment + list(y_pred_return)\n",
    "print(\"RMSE in training set: {}\".format(math.sqrt(mean_squared_error(y_pred_return, y_train))))\n",
    "\n",
    "y_pred_return = model.predict(X_test)\n",
    "output_with_sentiment = output_with_sentiment + list(y_pred_return)\n",
    "print(\"RMSE in training set: {}\".format(math.sqrt(mean_squared_error(y_pred_return, y_test))))"
   ]
  },
  {
   "cell_type": "markdown",
   "metadata": {},
   "source": [
    "### Linear regression with complete set of independent variables (Without sentiments)"
   ]
  },
  {
   "cell_type": "code",
   "execution_count": 154,
   "metadata": {},
   "outputs": [
    {
     "data": {
      "text/plain": [
       "LinearRegression(normalize=True)"
      ]
     },
     "execution_count": 154,
     "metadata": {},
     "output_type": "execute_result"
    }
   ],
   "source": [
    "model = LinearRegression(normalize=True)\n",
    "model.fit(X_train_no_sentiment, y_train)"
   ]
  },
  {
   "cell_type": "code",
   "execution_count": 155,
   "metadata": {},
   "outputs": [
    {
     "name": "stdout",
     "output_type": "stream",
     "text": [
      "RMSE in training set: 1456.0698350906964\n",
      "RMSE in training set: 8537.348388121236\n"
     ]
    }
   ],
   "source": [
    "output_without_sentiment = []\n",
    "y_pred_return = model.predict(X_train_no_sentiment)\n",
    "output_without_sentiment = output_without_sentiment + list(y_pred_return)\n",
    "print(\"RMSE in training set: {}\".format(math.sqrt(mean_squared_error(y_pred_return, y_train))))\n",
    "\n",
    "y_pred_return = model.predict(X_test_no_sentiment)\n",
    "output_without_sentiment = output_without_sentiment + list(y_pred_return)\n",
    "print(\"RMSE in training set: {}\".format(math.sqrt(mean_squared_error(y_pred_return, y_test))))"
   ]
  },
  {
   "cell_type": "code",
   "execution_count": 156,
   "metadata": {},
   "outputs": [],
   "source": [
    "predictions = {\n",
    "    'prediction_with_sentiments': output_with_sentiment,\n",
    "    'predictions_without_sentiments': output_without_sentiment,\n",
    "    'date': list(train['date']) + list(test['date'])\n",
    "}"
   ]
  },
  {
   "cell_type": "code",
   "execution_count": 157,
   "metadata": {},
   "outputs": [],
   "source": [
    "pd.DataFrame(predictions).to_csv('linear_predictions.csv', index=False)"
   ]
  },
  {
   "cell_type": "code",
   "execution_count": null,
   "metadata": {},
   "outputs": [],
   "source": []
  },
  {
   "cell_type": "code",
   "execution_count": null,
   "metadata": {},
   "outputs": [],
   "source": []
  }
 ],
 "metadata": {
  "kernelspec": {
   "display_name": "Python 3",
   "language": "python",
   "name": "python3"
  },
  "language_info": {
   "codemirror_mode": {
    "name": "ipython",
    "version": 3
   },
   "file_extension": ".py",
   "mimetype": "text/x-python",
   "name": "python",
   "nbconvert_exporter": "python",
   "pygments_lexer": "ipython3",
   "version": "3.7.4"
  }
 },
 "nbformat": 4,
 "nbformat_minor": 2
}
