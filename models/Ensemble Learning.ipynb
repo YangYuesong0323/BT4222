{
 "cells": [
  {
   "cell_type": "markdown",
   "id": "sacred-wallet",
   "metadata": {},
   "source": [
    "# Ensemble Learning"
   ]
  },
  {
   "cell_type": "code",
   "execution_count": 1,
   "id": "continuing-dayton",
   "metadata": {},
   "outputs": [],
   "source": [
    "import pandas as pd\n",
    "import numpy as np\n",
    "from sklearn.metrics import mean_squared_error, accuracy_score"
   ]
  },
  {
   "cell_type": "code",
   "execution_count": 2,
   "id": "loving-minneapolis",
   "metadata": {},
   "outputs": [
    {
     "data": {
      "text/html": [
       "<div>\n",
       "<style scoped>\n",
       "    .dataframe tbody tr th:only-of-type {\n",
       "        vertical-align: middle;\n",
       "    }\n",
       "\n",
       "    .dataframe tbody tr th {\n",
       "        vertical-align: top;\n",
       "    }\n",
       "\n",
       "    .dataframe thead th {\n",
       "        text-align: right;\n",
       "    }\n",
       "</style>\n",
       "<table border=\"1\" class=\"dataframe\">\n",
       "  <thead>\n",
       "    <tr style=\"text-align: right;\">\n",
       "      <th></th>\n",
       "      <th>Adj_Close_BTC-USD</th>\n",
       "      <th>Open_BTC-USD</th>\n",
       "      <th>High_BTC-USD</th>\n",
       "      <th>Low_BTC-USD</th>\n",
       "      <th>Sentiments</th>\n",
       "      <th>logistic_c_with_sentiment</th>\n",
       "      <th>logistic_c_without_sentiment</th>\n",
       "      <th>linear_r_with_sentiment</th>\n",
       "      <th>linear_r_without_sentiment</th>\n",
       "      <th>BNN_r_without_sentiment</th>\n",
       "      <th>...</th>\n",
       "      <th>LSTM_r_without_sentiment</th>\n",
       "      <th>LSTM_r_with_sentiment</th>\n",
       "      <th>LSTM_c_without_sentiment</th>\n",
       "      <th>LSTM_c_with_sentiment</th>\n",
       "      <th>XGBoost_r_without_sentiment</th>\n",
       "      <th>XGBoost_r_with_sentiment</th>\n",
       "      <th>XGBoost_c_without_sentiment</th>\n",
       "      <th>XGBoost_c_with_sentiment</th>\n",
       "      <th>VAR_r_without_sentiment</th>\n",
       "      <th>VAR_r_with_sentiment</th>\n",
       "    </tr>\n",
       "    <tr>\n",
       "      <th>date</th>\n",
       "      <th></th>\n",
       "      <th></th>\n",
       "      <th></th>\n",
       "      <th></th>\n",
       "      <th></th>\n",
       "      <th></th>\n",
       "      <th></th>\n",
       "      <th></th>\n",
       "      <th></th>\n",
       "      <th></th>\n",
       "      <th></th>\n",
       "      <th></th>\n",
       "      <th></th>\n",
       "      <th></th>\n",
       "      <th></th>\n",
       "      <th></th>\n",
       "      <th></th>\n",
       "      <th></th>\n",
       "      <th></th>\n",
       "      <th></th>\n",
       "      <th></th>\n",
       "    </tr>\n",
       "  </thead>\n",
       "  <tbody>\n",
       "    <tr>\n",
       "      <th>1/1/21</th>\n",
       "      <td>29374.1523</td>\n",
       "      <td>28994.0098</td>\n",
       "      <td>29600.6270</td>\n",
       "      <td>28803.5859</td>\n",
       "      <td>positive</td>\n",
       "      <td>1</td>\n",
       "      <td>1</td>\n",
       "      <td>31206.99161</td>\n",
       "      <td>31692.53211</td>\n",
       "      <td>39634.580</td>\n",
       "      <td>...</td>\n",
       "      <td>31882.857</td>\n",
       "      <td>30772.920</td>\n",
       "      <td>1</td>\n",
       "      <td>1</td>\n",
       "      <td>31541.07</td>\n",
       "      <td>30630.19</td>\n",
       "      <td>1</td>\n",
       "      <td>1</td>\n",
       "      <td>26537.86</td>\n",
       "      <td>26559.36</td>\n",
       "    </tr>\n",
       "    <tr>\n",
       "      <th>2/1/21</th>\n",
       "      <td>32127.2676</td>\n",
       "      <td>29376.4551</td>\n",
       "      <td>33155.1172</td>\n",
       "      <td>29091.1816</td>\n",
       "      <td>positive</td>\n",
       "      <td>1</td>\n",
       "      <td>1</td>\n",
       "      <td>29038.13669</td>\n",
       "      <td>29899.26833</td>\n",
       "      <td>39646.926</td>\n",
       "      <td>...</td>\n",
       "      <td>31817.668</td>\n",
       "      <td>31171.412</td>\n",
       "      <td>1</td>\n",
       "      <td>1</td>\n",
       "      <td>32369.48</td>\n",
       "      <td>32020.37</td>\n",
       "      <td>1</td>\n",
       "      <td>1</td>\n",
       "      <td>26872.01</td>\n",
       "      <td>26791.62</td>\n",
       "    </tr>\n",
       "    <tr>\n",
       "      <th>3/1/21</th>\n",
       "      <td>32782.0234</td>\n",
       "      <td>32129.4082</td>\n",
       "      <td>34608.5586</td>\n",
       "      <td>32052.3164</td>\n",
       "      <td>positive</td>\n",
       "      <td>1</td>\n",
       "      <td>1</td>\n",
       "      <td>30654.52027</td>\n",
       "      <td>29856.58873</td>\n",
       "      <td>39638.160</td>\n",
       "      <td>...</td>\n",
       "      <td>33739.656</td>\n",
       "      <td>32062.006</td>\n",
       "      <td>1</td>\n",
       "      <td>1</td>\n",
       "      <td>32259.98</td>\n",
       "      <td>32218.10</td>\n",
       "      <td>1</td>\n",
       "      <td>1</td>\n",
       "      <td>25132.14</td>\n",
       "      <td>25326.21</td>\n",
       "    </tr>\n",
       "    <tr>\n",
       "      <th>4/1/21</th>\n",
       "      <td>31971.9141</td>\n",
       "      <td>32810.9492</td>\n",
       "      <td>33440.2188</td>\n",
       "      <td>28722.7559</td>\n",
       "      <td>positive</td>\n",
       "      <td>1</td>\n",
       "      <td>1</td>\n",
       "      <td>30839.92107</td>\n",
       "      <td>30069.32171</td>\n",
       "      <td>39634.580</td>\n",
       "      <td>...</td>\n",
       "      <td>34207.027</td>\n",
       "      <td>32406.158</td>\n",
       "      <td>1</td>\n",
       "      <td>1</td>\n",
       "      <td>32295.86</td>\n",
       "      <td>32593.87</td>\n",
       "      <td>1</td>\n",
       "      <td>0</td>\n",
       "      <td>25342.24</td>\n",
       "      <td>26057.93</td>\n",
       "    </tr>\n",
       "    <tr>\n",
       "      <th>5/1/21</th>\n",
       "      <td>33992.4297</td>\n",
       "      <td>31977.0410</td>\n",
       "      <td>34437.5898</td>\n",
       "      <td>30221.1875</td>\n",
       "      <td>positive</td>\n",
       "      <td>1</td>\n",
       "      <td>1</td>\n",
       "      <td>33570.39941</td>\n",
       "      <td>33860.22146</td>\n",
       "      <td>39634.580</td>\n",
       "      <td>...</td>\n",
       "      <td>33240.855</td>\n",
       "      <td>31999.209</td>\n",
       "      <td>1</td>\n",
       "      <td>1</td>\n",
       "      <td>33103.70</td>\n",
       "      <td>33381.27</td>\n",
       "      <td>1</td>\n",
       "      <td>1</td>\n",
       "      <td>27093.09</td>\n",
       "      <td>28210.31</td>\n",
       "    </tr>\n",
       "  </tbody>\n",
       "</table>\n",
       "<p>5 rows × 23 columns</p>\n",
       "</div>"
      ],
      "text/plain": [
       "        Adj_Close_BTC-USD  Open_BTC-USD  High_BTC-USD  Low_BTC-USD Sentiments  \\\n",
       "date                                                                            \n",
       "1/1/21         29374.1523    28994.0098    29600.6270   28803.5859   positive   \n",
       "2/1/21         32127.2676    29376.4551    33155.1172   29091.1816   positive   \n",
       "3/1/21         32782.0234    32129.4082    34608.5586   32052.3164   positive   \n",
       "4/1/21         31971.9141    32810.9492    33440.2188   28722.7559   positive   \n",
       "5/1/21         33992.4297    31977.0410    34437.5898   30221.1875   positive   \n",
       "\n",
       "        logistic_c_with_sentiment  logistic_c_without_sentiment  \\\n",
       "date                                                              \n",
       "1/1/21                          1                             1   \n",
       "2/1/21                          1                             1   \n",
       "3/1/21                          1                             1   \n",
       "4/1/21                          1                             1   \n",
       "5/1/21                          1                             1   \n",
       "\n",
       "        linear_r_with_sentiment  linear_r_without_sentiment  \\\n",
       "date                                                          \n",
       "1/1/21              31206.99161                 31692.53211   \n",
       "2/1/21              29038.13669                 29899.26833   \n",
       "3/1/21              30654.52027                 29856.58873   \n",
       "4/1/21              30839.92107                 30069.32171   \n",
       "5/1/21              33570.39941                 33860.22146   \n",
       "\n",
       "        BNN_r_without_sentiment  ...  LSTM_r_without_sentiment  \\\n",
       "date                             ...                             \n",
       "1/1/21                39634.580  ...                 31882.857   \n",
       "2/1/21                39646.926  ...                 31817.668   \n",
       "3/1/21                39638.160  ...                 33739.656   \n",
       "4/1/21                39634.580  ...                 34207.027   \n",
       "5/1/21                39634.580  ...                 33240.855   \n",
       "\n",
       "        LSTM_r_with_sentiment  LSTM_c_without_sentiment  \\\n",
       "date                                                      \n",
       "1/1/21              30772.920                         1   \n",
       "2/1/21              31171.412                         1   \n",
       "3/1/21              32062.006                         1   \n",
       "4/1/21              32406.158                         1   \n",
       "5/1/21              31999.209                         1   \n",
       "\n",
       "        LSTM_c_with_sentiment  XGBoost_r_without_sentiment  \\\n",
       "date                                                         \n",
       "1/1/21                      1                     31541.07   \n",
       "2/1/21                      1                     32369.48   \n",
       "3/1/21                      1                     32259.98   \n",
       "4/1/21                      1                     32295.86   \n",
       "5/1/21                      1                     33103.70   \n",
       "\n",
       "        XGBoost_r_with_sentiment  XGBoost_c_without_sentiment  \\\n",
       "date                                                            \n",
       "1/1/21                  30630.19                            1   \n",
       "2/1/21                  32020.37                            1   \n",
       "3/1/21                  32218.10                            1   \n",
       "4/1/21                  32593.87                            1   \n",
       "5/1/21                  33381.27                            1   \n",
       "\n",
       "        XGBoost_c_with_sentiment  VAR_r_without_sentiment  \\\n",
       "date                                                        \n",
       "1/1/21                         1                 26537.86   \n",
       "2/1/21                         1                 26872.01   \n",
       "3/1/21                         1                 25132.14   \n",
       "4/1/21                         0                 25342.24   \n",
       "5/1/21                         1                 27093.09   \n",
       "\n",
       "        VAR_r_with_sentiment  \n",
       "date                          \n",
       "1/1/21              26559.36  \n",
       "2/1/21              26791.62  \n",
       "3/1/21              25326.21  \n",
       "4/1/21              26057.93  \n",
       "5/1/21              28210.31  \n",
       "\n",
       "[5 rows x 23 columns]"
      ]
     },
     "execution_count": 2,
     "metadata": {},
     "output_type": "execute_result"
    }
   ],
   "source": [
    "df = pd.read_csv('all_predictions.csv')\n",
    "df = df.set_index('date')\n",
    "df.head()"
   ]
  },
  {
   "cell_type": "code",
   "execution_count": 3,
   "id": "english-chart",
   "metadata": {},
   "outputs": [],
   "source": [
    "df['class_y'] = df[\"Adj_Close_BTC-USD\"].shift(1).dropna()\n",
    "df['class_y'] = df.apply(lambda x: 1 if x[\"class_y\"] < x[\"Adj_Close_BTC-USD\"] else 0 , axis = 1)"
   ]
  },
  {
   "cell_type": "markdown",
   "id": "coastal-memory",
   "metadata": {},
   "source": [
    "## With Sentiments"
   ]
  },
  {
   "cell_type": "markdown",
   "id": "pharmaceutical-valuable",
   "metadata": {},
   "source": [
    "### Regression"
   ]
  },
  {
   "cell_type": "code",
   "execution_count": 4,
   "id": "arabic-paraguay",
   "metadata": {},
   "outputs": [
    {
     "name": "stdout",
     "output_type": "stream",
     "text": [
      "3156.552891717284 1763.710313426157\n"
     ]
    },
    {
     "name": "stderr",
     "output_type": "stream",
     "text": [
      "C:\\Users\\Samantha\\Anaconda3\\lib\\site-packages\\ipykernel_launcher.py:2: SettingWithCopyWarning: \n",
      "A value is trying to be set on a copy of a slice from a DataFrame.\n",
      "Try using .loc[row_indexer,col_indexer] = value instead\n",
      "\n",
      "See the caveats in the documentation: https://pandas.pydata.org/pandas-docs/stable/user_guide/indexing.html#returning-a-view-versus-a-copy\n",
      "  \n"
     ]
    }
   ],
   "source": [
    "df_senti = df[['linear_r_with_sentiment', 'BNN_r_with_sentiment', 'LSTM_r_with_sentiment', 'XGBoost_r_with_sentiment','VAR_r_with_sentiment']]\n",
    "df_senti['pred'] = df_senti.mean(axis = 1)\n",
    "train_rmse = np.sqrt(mean_squared_error(df['Adj_Close_BTC-USD'].loc[:\"14/3/21\"], df_senti['pred'].loc[:\"14/3/21\"]))\n",
    "test_rmse = np.sqrt(mean_squared_error(df['Adj_Close_BTC-USD'].loc[\"29/3/21\":], df_senti['pred'].loc[\"29/3/21\":]))\n",
    "print(train_rmse, test_rmse)"
   ]
  },
  {
   "cell_type": "markdown",
   "id": "exotic-coating",
   "metadata": {},
   "source": [
    "### Classification"
   ]
  },
  {
   "cell_type": "code",
   "execution_count": 5,
   "id": "functioning-replacement",
   "metadata": {},
   "outputs": [
    {
     "name": "stdout",
     "output_type": "stream",
     "text": [
      "0.8493150684931506 0.8\n"
     ]
    },
    {
     "name": "stderr",
     "output_type": "stream",
     "text": [
      "C:\\Users\\Samantha\\Anaconda3\\lib\\site-packages\\ipykernel_launcher.py:2: SettingWithCopyWarning: \n",
      "A value is trying to be set on a copy of a slice from a DataFrame.\n",
      "Try using .loc[row_indexer,col_indexer] = value instead\n",
      "\n",
      "See the caveats in the documentation: https://pandas.pydata.org/pandas-docs/stable/user_guide/indexing.html#returning-a-view-versus-a-copy\n",
      "  \n"
     ]
    }
   ],
   "source": [
    "df_senti_c = df[['logistic_c_with_sentiment', 'BNN_c_with_sentiment', 'LSTM_c_with_sentiment', 'XGBoost_c_with_sentiment']]\n",
    "df_senti_c['pred'] = round(df_senti_c.mean(axis = 1))\n",
    "train_acc = accuracy_score(df['class_y'].loc[:\"14/3/21\"], df_senti_c['pred'].loc[:\"14/3/21\"])\n",
    "test_acc = accuracy_score(df['class_y'].loc[\"29/3/21\":], df_senti_c['pred'].loc[\"29/3/21\":])\n",
    "print(train_acc, test_acc)"
   ]
  },
  {
   "cell_type": "markdown",
   "id": "czech-hughes",
   "metadata": {},
   "source": [
    "## Without Sentiments"
   ]
  },
  {
   "cell_type": "markdown",
   "id": "significant-moisture",
   "metadata": {},
   "source": [
    "### Regression"
   ]
  },
  {
   "cell_type": "code",
   "execution_count": 6,
   "id": "systematic-equality",
   "metadata": {},
   "outputs": [
    {
     "name": "stdout",
     "output_type": "stream",
     "text": [
      "2591.3552075151265 2851.75993812135\n"
     ]
    },
    {
     "name": "stderr",
     "output_type": "stream",
     "text": [
      "C:\\Users\\Samantha\\Anaconda3\\lib\\site-packages\\ipykernel_launcher.py:3: SettingWithCopyWarning: \n",
      "A value is trying to be set on a copy of a slice from a DataFrame.\n",
      "Try using .loc[row_indexer,col_indexer] = value instead\n",
      "\n",
      "See the caveats in the documentation: https://pandas.pydata.org/pandas-docs/stable/user_guide/indexing.html#returning-a-view-versus-a-copy\n",
      "  This is separate from the ipykernel package so we can avoid doing imports until\n"
     ]
    }
   ],
   "source": [
    "df_n_senti = df[['linear_r_without_sentiment', 'BNN_r_without_sentiment', 'LSTM_r_without_sentiment', \n",
    "                 'XGBoost_r_without_sentiment','VAR_r_without_sentiment']]\n",
    "df_n_senti['pred'] = df_n_senti.mean(axis = 1)\n",
    "train_rmse = np.sqrt(mean_squared_error(df['Adj_Close_BTC-USD'].loc[:\"14/3/21\"], df_n_senti['pred'].loc[:\"14/3/21\"]))\n",
    "test_rmse = np.sqrt(mean_squared_error(df['Adj_Close_BTC-USD'].loc[\"29/3/21\":], df_n_senti['pred'].loc[\"29/3/21\":]))\n",
    "print(train_rmse, test_rmse)"
   ]
  },
  {
   "cell_type": "markdown",
   "id": "organized-venice",
   "metadata": {},
   "source": [
    "### Classification"
   ]
  },
  {
   "cell_type": "code",
   "execution_count": 7,
   "id": "velvet-profile",
   "metadata": {},
   "outputs": [
    {
     "name": "stdout",
     "output_type": "stream",
     "text": [
      "0.7534246575342466 0.6\n"
     ]
    },
    {
     "name": "stderr",
     "output_type": "stream",
     "text": [
      "C:\\Users\\Samantha\\Anaconda3\\lib\\site-packages\\ipykernel_launcher.py:3: SettingWithCopyWarning: \n",
      "A value is trying to be set on a copy of a slice from a DataFrame.\n",
      "Try using .loc[row_indexer,col_indexer] = value instead\n",
      "\n",
      "See the caveats in the documentation: https://pandas.pydata.org/pandas-docs/stable/user_guide/indexing.html#returning-a-view-versus-a-copy\n",
      "  This is separate from the ipykernel package so we can avoid doing imports until\n"
     ]
    }
   ],
   "source": [
    "df_n_senti_c = df[['logistic_c_without_sentiment', 'BNN_c_without_sentiment', \n",
    "                   'LSTM_c_without_sentiment', 'XGBoost_c_without_sentiment']]\n",
    "df_n_senti_c['pred'] = round(df_n_senti_c.mean(axis = 1))\n",
    "train_acc = accuracy_score(df['class_y'].loc[:\"14/3/21\"], df_n_senti_c['pred'].loc[:\"14/3/21\"])\n",
    "test_acc = accuracy_score(df['class_y'].loc[\"29/3/21\":], df_n_senti_c['pred'].loc[\"29/3/21\":])\n",
    "print(train_acc, test_acc)"
   ]
  }
 ],
 "metadata": {
  "kernelspec": {
   "display_name": "Python 3",
   "language": "python",
   "name": "python3"
  },
  "language_info": {
   "codemirror_mode": {
    "name": "ipython",
    "version": 3
   },
   "file_extension": ".py",
   "mimetype": "text/x-python",
   "name": "python",
   "nbconvert_exporter": "python",
   "pygments_lexer": "ipython3",
   "version": "3.7.4"
  }
 },
 "nbformat": 4,
 "nbformat_minor": 5
}
